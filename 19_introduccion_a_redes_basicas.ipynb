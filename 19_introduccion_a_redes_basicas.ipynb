{
 "cells": [
  {
   "cell_type": "markdown",
   "metadata": {},
   "source": [
    "[![cloudevel](img/cloudevel.png)](https://cloudevel.com)"
   ]
  },
  {
   "cell_type": "markdown",
   "metadata": {},
   "source": [
    "## Internet y los protocolos  *TCP/IP*.\n",
    "\n",
    "Todas las comunicaciones de redes basadas en Internet se apegan a una [familia de protocolos](https://es.wikipedia.org/wiki/Familia_de_protocolos_de_internet) conocidos también como *TCP/IP* en  honor a los protocolos primordiales de este tipo de redes.\n",
    "\n",
    "Cada uno de estos protocolos es publicado por la Fueza de tarea de ingeniería de Internet o [*IETF*](https://www.ietf.org/) por sus siglas en inglés.\n",
    "\n",
    "Los protocolos y estándares de la IETF son generado mediante iniciativas llamadas Peticiones para comentarios o *RFC*. Estas RFC pueden ser consultadas desde https://www.rfc-editor.org/."
   ]
  },
  {
   "cell_type": "markdown",
   "metadata": {},
   "source": [
    "## El modelo OSI.\n",
    "\n",
    "El modelo [OSI](https://es.wikipedia.org/wiki/Modelo_OSI) es una especificación (ISO/IEC 7498-1) que se utilzia como modelo para la definición de protocolos de internet y define 7 capas.\n",
    "\n",
    "1. Capa física.\n",
    "* Capa de enlace de datos.\n",
    "* Capa de red.\n",
    "* Capa de transporte.\n",
    "* Capa de sesión.\n",
    "* Capa de presentación.\n",
    "* Capa de aplicación."
   ]
  },
  {
   "cell_type": "markdown",
   "metadata": {},
   "source": [
    "## Paquetes de datos.\n",
    "\n",
    "Los datos que se transmiten por redes basadas en los protocolos TCP/IP se *empaquetan* mediante el uso de encabezados. Cada paquete está conformado por el mensaje y varios encabezados."
   ]
  },
  {
   "cell_type": "markdown",
   "metadata": {},
   "source": [
    "### Direcciones MAC y el protocolo *ARP*.\n",
    "\n",
    "Cada interfaz de red cuenta con un número de identificación único conocido como MAC Address o dirección física.\n",
    "\n",
    "El protocolo [ARP](https://es.wikipedia.org/wiki/Protocolo_de_resoluci%C3%B3n_de_direcciones) es el protocolo encargado de identificar las direcciones físicas de los dispositivos denrto de una red. "
   ]
  },
  {
   "cell_type": "markdown",
   "metadata": {},
   "source": [
    "## El protocolo IP.\n",
    "\n",
    "Pretenece a la capa de red y permite identificar a un nodo mediante un identificador.\n",
    "\n",
    "Un nodo de Internet es un dispositivo con el que cualquier otro puede comunicarse.\n",
    "\n",
    "* Servidores.\n",
    "* Rueadores.\n",
    "* Clientes.\n",
    "\n",
    "### Direcciones IP.\n",
    "\n",
    "Corresponde al RFC 791 de la IETF.\n",
    "\n",
    "Una dirección IP es una secuencia de números que identifica a un recurso en una red (intranet o internet). \n",
    "\n",
    "#### IPv4 .\n",
    "\n",
    "El protocolo IPv4 es un número de 32 bit que se describe mediante 4 números (del 0 al 255) separado por puntos. \n",
    "\n",
    "\n",
    "**Ejemplo:**\n",
    "\n",
    "El servidor de nombres de dominio de Google es 8.8.8.8 o 4.4.4.4"
   ]
  },
  {
   "cell_type": "markdown",
   "metadata": {},
   "source": [
    "#### IPv6.\n",
    "\n",
    "IPv6 es un protocolo renovado que no solo extiende el número disponible de direcciones IP, sino que se enfoca a la seguridad y privacidad de la información con IPsec.\n",
    "\n",
    "Las direcciones IPv4 públicas son muy limitadas con respecto al número de nodso existentes. El protocolo IPv6 es una nueva especificación que aumenta el número disponible de nodos.\n",
    "\n",
    "Una dirección IPv6 corresponde a un  número de 128 bits."
   ]
  },
  {
   "cell_type": "markdown",
   "metadata": {},
   "source": [
    "## Ruteo.\n",
    "\n",
    "Las direcciones IP permite identificar a un  nodo en una red. Los paquetes de información viajan entre nodos, pero estas rutas nos iempre son las mismas. \n",
    "\n",
    "Los ruteadores son dispositivos que reciben y envían paquetes a todo Internet.\n",
    "* Si el paquete corresponde a un nodo conocido, lo enviá directamente. \n",
    "* Si el paquete es de un nodo desconociudo, lo  envía a ruteador."
   ]
  },
  {
   "cell_type": "markdown",
   "metadata": {},
   "source": [
    "## Segmentos, transmisón y máscaras.\n",
    "\n",
    "Existe una organización llamada [IANA](http://www.iana.org/) que es la encargada de distribuir segmentos de direcciones IP. \n",
    "\n",
    "Esta organizaciín define redes por clases.\n",
    "\n",
    "* Clase A \n",
    "* Clase B\n",
    "* Clase C"
   ]
  },
  {
   "cell_type": "markdown",
   "metadata": {},
   "source": [
    "## Intranets.\n",
    "\n",
    "Una intranet es una red local que utiliza direcciones IP restringidas.\n",
    "\n",
    "IANA define 3 segmentos de red que pueden ser utilizados por las intranets. A estas se le conoce como IP privadas y están restringidas a la intranet.\n",
    "\n",
    "* 10.0.0.0 – 10.255.255.255 (Class A)\n",
    "* 172.16.00 – 172.31.255.255 (Class B)\n",
    "* 192.168.0.0 – 192.168.255.255 (Class C)\n",
    "\n",
    "### Direcciones IP públicas.\n",
    "\n",
    "Son todas las direcciones IP que no están en estos segmentos."
   ]
  },
  {
   "cell_type": "markdown",
   "metadata": {},
   "source": [
    "### NAT.\n",
    "\n",
    "La traducción de direcciones de red (NAT) permite a un ruteador comunicar una intranet con otras intranets y con Internet.  "
   ]
  },
  {
   "cell_type": "code",
   "execution_count": null,
   "metadata": {},
   "outputs": [],
   "source": []
  },
  {
   "cell_type": "markdown",
   "metadata": {},
   "source": [
    "### DNS.\n",
    "\n",
    "#### TLD"
   ]
  },
  {
   "cell_type": "markdown",
   "metadata": {},
   "source": [
    "### DHCP."
   ]
  },
  {
   "cell_type": "markdown",
   "metadata": {},
   "source": [
    "##  Protocolos transmisión.\n",
    "\n",
    "### TCP. \n",
    "Este protocolo permite enviar paquetes por internet y se asegura de que los paquetes llegen completos.\n",
    "\n",
    "#### TCP handhsake \n",
    "\n",
    "### UDP.\n",
    "\n",
    "UDP envía los paquetes, sin esperar respuesta de que fueron recibidos."
   ]
  },
  {
   "cell_type": "markdown",
   "metadata": {},
   "source": [
    "## Archivos de configuración.\n",
    "\n",
    "Estos archivos permiten realizar modificaciones básicas al sistema que permiten:\n",
    "* Identificar al equipo.\n",
    "* Habilitar las redes de comunicación. "
   ]
  },
  {
   "cell_type": "markdown",
   "metadata": {},
   "source": [
    "### El archivo */etc/hostname*.\n",
    "\n",
    "Este archivo contiene el nombre del *host* o *anfitirón*."
   ]
  },
  {
   "cell_type": "code",
   "execution_count": 1,
   "metadata": {},
   "outputs": [
    {
     "name": "stdout",
     "output_type": "stream",
     "text": [
      "cloudevel.localdomain\n"
     ]
    }
   ],
   "source": [
    "cat /etc/hostname"
   ]
  },
  {
   "cell_type": "markdown",
   "metadata": {},
   "source": [
    "### El archivo */etc/hosts*.\n",
    "\n",
    "Este archivo identifica a otros equipos dentro del dominio por medio de su nombre o por su dirección IP."
   ]
  },
  {
   "cell_type": "code",
   "execution_count": 5,
   "metadata": {},
   "outputs": [
    {
     "name": "stdout",
     "output_type": "stream",
     "text": [
      "127.0.0.1   localhost localhost.localdomain localhost4 localhost4.localdomain4\n",
      "::1         localhost localhost.localdomain localhost6 localhost6.localdomain6\n"
     ]
    }
   ],
   "source": [
    "cat /etc/hosts"
   ]
  },
  {
   "cell_type": "markdown",
   "metadata": {},
   "source": [
    "El nombre *localhost* siempre se va a referir al equipo local y por lo general la direccion IP corresponde a 127.0.0.1."
   ]
  },
  {
   "cell_type": "markdown",
   "metadata": {},
   "source": [
    "### El archivo *etc/resolv.conf*.\n",
    "\n",
    "Este archivo contiene las configuraciones de los servidores DNS a los que consulta el host local."
   ]
  },
  {
   "cell_type": "code",
   "execution_count": 6,
   "metadata": {
    "scrolled": true
   },
   "outputs": [
    {
     "name": "stdout",
     "output_type": "stream",
     "text": [
      "# Generated by NetworkManager\n",
      "search localdomain\n",
      "nameserver 8.8.8.8\n"
     ]
    }
   ],
   "source": [
    "cat /etc/resolv.conf"
   ]
  },
  {
   "cell_type": "markdown",
   "metadata": {},
   "source": [
    "## Interfaces de red.\n",
    "\n",
    "Una interfaz de red o *NIC* es un dispositivo físico o virtual capaz de conectarse a una red."
   ]
  },
  {
   "cell_type": "markdown",
   "metadata": {},
   "source": [
    "### El comando ```ip```.\n",
    "\n",
    "Este comado realiza las siguientes operaciones para las interfaces de red de un sistema:\n",
    "\n",
    "* Crear.\n",
    "* Configurar.\n",
    "* Monitorear.\n",
    "\n",
    "La opción ```a``` nos despliega la información de todos los NIC.\n",
    "\n",
    "Trae un listado de todos los NIC del sistema con sus configuraciones."
   ]
  },
  {
   "cell_type": "code",
   "execution_count": 8,
   "metadata": {
    "scrolled": true
   },
   "outputs": [
    {
     "name": "stdout",
     "output_type": "stream",
     "text": [
      "1: lo: <LOOPBACK,UP,LOWER_UP> mtu 65536 qdisc noqueue state UNKNOWN group default qlen 1000\n",
      "    link/loopback 00:00:00:00:00:00 brd 00:00:00:00:00:00\n",
      "    inet 127.0.0.1/8 scope host lo\n",
      "       valid_lft forever preferred_lft forever\n",
      "    inet6 ::1/128 scope host \n",
      "       valid_lft forever preferred_lft forever\n",
      "2: eth0: <BROADCAST,MULTICAST,UP,LOWER_UP> mtu 1500 qdisc pfifo_fast state UP group default qlen 1000\n",
      "    link/ether 08:00:27:64:42:95 brd ff:ff:ff:ff:ff:ff\n",
      "    inet 10.0.2.15/24 brd 10.0.2.255 scope global noprefixroute dynamic eth0\n",
      "       valid_lft 85149sec preferred_lft 85149sec\n",
      "    inet6 fe80::585e:be32:7611:ae78/64 scope link noprefixroute \n",
      "       valid_lft forever preferred_lft forever\n"
     ]
    }
   ],
   "source": [
    "ip a"
   ]
  },
  {
   "cell_type": "markdown",
   "metadata": {},
   "source": [
    "La NIC con nombre *lo* corresponde siempre a las comunicacións internas del sistema."
   ]
  },
  {
   "cell_type": "code",
   "execution_count": 19,
   "metadata": {},
   "outputs": [
    {
     "name": "stdout",
     "output_type": "stream",
     "text": [
      "1: lo: <LOOPBACK,UP,LOWER_UP> mtu 65536 qdisc noqueue state UNKNOWN group default qlen 1000\n",
      "    link/loopback 00:00:00:00:00:00 brd 00:00:00:00:00:00\n",
      "    inet 127.0.0.1/8 scope host lo\n",
      "       valid_lft forever preferred_lft forever\n",
      "    inet6 ::1/128 scope host \n",
      "       valid_lft forever preferred_lft forever\n",
      "2: eth0: <BROADCAST,MULTICAST,UP,LOWER_UP> mtu 1500 qdisc pfifo_fast state UP group default qlen 1000\n",
      "    link/ether 08:00:27:64:42:95 brd ff:ff:ff:ff:ff:ff\n",
      "    inet 10.0.2.15/24 brd 10.0.2.255 scope global noprefixroute dynamic eth0\n",
      "       valid_lft 84875sec preferred_lft 84875sec\n",
      "    inet6 fe80::585e:be32:7611:ae78/64 scope link noprefixroute \n",
      "       valid_lft forever preferred_lft forever\n"
     ]
    }
   ],
   "source": [
    "ip addr"
   ]
  },
  {
   "cell_type": "markdown",
   "metadata": {},
   "source": [
    "El comando ```ip``` es muy versátil y tiene muchas opciones avanzadas.\n",
    "\n",
    "Puede consultar una referencia rápida en https://access.redhat.com/sites/default/files/attachments/rh_ip_command_cheatsheet_1214_jcs_print.pdf"
   ]
  },
  {
   "cell_type": "markdown",
   "metadata": {},
   "source": [
    "### Los scripts de configuración de interfaces de red.\n",
    "\n",
    "Es importante saber que en las distribuciones de GNU/Linux más modernas, la configuración de las NIC son automáticas. \n",
    "\n",
    "Los scripts de configuracion se encuentran en */etc/sysconfig/network-scripts*."
   ]
  },
  {
   "cell_type": "code",
   "execution_count": 26,
   "metadata": {},
   "outputs": [
    {
     "name": "stdout",
     "output_type": "stream",
     "text": [
      "ifcfg-enp0s3  ifdown-ppp       ifup-eth     ifup-sit\n",
      "ifcfg-lo      ifdown-routes    ifup-ippp    ifup-Team\n",
      "ifdown\t      ifdown-sit       ifup-ipv6    ifup-TeamPort\n",
      "ifdown-bnep   ifdown-Team      ifup-isdn    ifup-tunnel\n",
      "ifdown-eth    ifdown-TeamPort  ifup-plip    ifup-wireless\n",
      "ifdown-ippp   ifdown-tunnel    ifup-plusb   init.ipv6-global\n",
      "ifdown-ipv6   ifup\t       ifup-post    network-functions\n",
      "ifdown-isdn   ifup-aliases     ifup-ppp     network-functions-ipv6\n",
      "ifdown-post   ifup-bnep        ifup-routes\n"
     ]
    }
   ],
   "source": [
    "ls /etc/sysconfig/network-scripts"
   ]
  },
  {
   "cell_type": "code",
   "execution_count": 28,
   "metadata": {},
   "outputs": [
    {
     "name": "stdout",
     "output_type": "stream",
     "text": [
      "#!/bin/bash\n",
      "# Network Interface Configuration System\n",
      "# Copyright (c) 1996-2014 Red Hat, Inc. all rights reserved.\n",
      "#\n",
      "# This program is free software; you can redistribute it and/or modify\n",
      "# it under the terms of the GNU General Public License, version 2,\n",
      "# as published by the Free Software Foundation.\n",
      "#\n",
      "# This program is distributed in the hope that it will be useful,\n",
      "# but WITHOUT ANY WARRANTY; without even the implied warranty of\n",
      "# MERCHANTABILITY or FITNESS FOR A PARTICULAR PURPOSE.  See the\n",
      "# GNU General Public License for more details.\n",
      "#\n",
      "# You should have received a copy of the GNU General Public License\n",
      "# along with this program; if not, write to the Free Software\n",
      "# Foundation, Inc., 51 Franklin Street, Fifth Floor, Boston, MA 02110-1301, USA.\n",
      "\n",
      ". /etc/init.d/functions\n",
      "\n",
      "cd /etc/sysconfig/network-scripts\n",
      ". ./network-functions\n",
      "\n",
      "[ -f ../network ] && . ../network\n",
      "\n",
      "CONFIG=${1}\n",
      "\n",
      "need_config \"${CONFIG}\"\n",
      "\n",
      "source_config\n",
      "\n",
      "if [ \"${BOOTPROTO}\" = \"bootp\" -o \"${BOOTPROTO}\" = \"dhcp\" ]; then\n",
      "    DYNCONFIG=true\n",
      "fi\n",
      "\n",
      "# load the module associated with that device\n",
      "# /sbin/modprobe ${REALDEVICE}\n",
      "is_available ${REALDEVICE}\n",
      "\n",
      "# bail out, if the MAC does not fit\n",
      "if [ -n \"${HWADDR}\" ]; then\n",
      "    FOUNDMACADDR=$(get_hwaddr ${REALDEVICE})\n",
      "    if [ \"${FOUNDMACADDR}\" != \"${HWADDR}\" -a \"${FOUNDMACADDR}\" != \"${MACADDR}\" ]; then\n",
      "        net_log $\"Device ${DEVICE} has different MAC address than expected, ignoring.\"\n",
      "        exit 1\n",
      "    fi\n",
      "fi\n",
      "\n",
      "# If the device is a bridge, create it with brctl, if available.\n",
      "if [ \"${TYPE}\" = \"Bridge\" ]; then\n",
      "    if [ ! -x /usr/sbin/brctl ]; then\n",
      "        net_log $\"Bridge support not available: brctl not found\"\n",
      "        exit 1\n",
      "    fi\n",
      "\n",
      "    if [ ! -d /sys/class/net/${DEVICE}/bridge ]; then\n",
      "        /usr/sbin/brctl addbr -- ${DEVICE} || exit 1\n",
      "    fi\n",
      "\n",
      "    [ -n \"${DELAY}\" ] && /usr/sbin/brctl setfd -- ${DEVICE} ${DELAY}\n",
      "    [ -n \"${STP}\" ] && /usr/sbin/brctl stp -- ${DEVICE} ${STP}\n",
      "    [ -n \"${PRIO}\" ] && /usr/sbin/brctl setbridgeprio ${DEVICE} ${PRIO}\n",
      "    [ -n \"${AGEING}\" ] && /usr/sbin/brctl setageing ${DEVICE} ${AGEING}\n",
      "\n",
      "    # add the bits to setup driver parameters here\n",
      "    for arg in $BRIDGING_OPTS ; do\n",
      "        key=${arg%%=*};\n",
      "        value=${arg##*=};\n",
      "        if [ \"${key}\" != \"multicast_router\" -a \"${key}\" != \"hash_max\" -a \"${key}\" != \"multicast_snooping\" ]; then\n",
      "            echo $value > /sys/class/net/${DEVICE}/bridge/$key\n",
      "        fi\n",
      "    done\n",
      "\n",
      "    # set LINKDELAY (used as timeout when calling check_link_down())\n",
      "    # to at least (${DELAY} * 2) + 7 if STP is enabled. This is the\n",
      "    # minimum time required for /sys/class/net/$REALDEVICE/carrier to\n",
      "    # become 1 after \"ip link set dev $DEVICE up\" is called.\n",
      "    if is_true \"${STP}\"; then\n",
      "        if [ -n \"${DELAY}\" ]; then\n",
      "          forward_delay=\"${DELAY}\"\n",
      "        else\n",
      "          # If the ${DELAY} value is not set by the user, then we need to obtain\n",
      "          # the forward_delay value from kernel first, and convert it to seconds.\n",
      "          # Otherwise STP might not correctly complete the startup before trying\n",
      "          # to obtain an IP address from DHCP.\n",
      "          forward_delay=\"$(cat /sys/devices/virtual/net/${DEVICE}/bridge/forward_delay)\"\n",
      "          forward_delay=\"$(convert2sec ${forward_delay} centi)\"\n",
      "        fi\n",
      "\n",
      "        forward_delay=$(expr ${forward_delay} \\* 2 + 7)\n",
      "\n",
      "        [ 0$LINKDELAY -lt $forward_delay ] && LINKDELAY=$forward_delay\n",
      "\n",
      "        unset forward_delay\n",
      "    fi\n",
      "fi\n",
      "\n",
      "# Create tap device.\n",
      "if [ \"${TYPE}\" = \"Tap\" ]; then\n",
      "    [ -n \"${OWNER}\" ] && OWNER=\"user ${OWNER}\"\n",
      "    TUNMODE=\"mode tap\"\n",
      "    [[ ${DEVICE} == tun* ]] && TUNMODE=\"mode tun\"\n",
      "    ip tuntap add ${TUNMODE} ${OWNER} dev ${DEVICE} > /dev/null\n",
      "fi\n",
      "\n",
      "# Team master initialization.\n",
      "if [ -n \"${TEAM_CONFIG}\" ] && [ ! \"${DEVICETYPE}\" = \"Team\" ] && [ -x ./ifup-Team ]; then\n",
      "    ./ifup-Team ${CONFIG} $2\n",
      "fi\n",
      "\n",
      "# now check the real state\n",
      "is_available_wait ${REALDEVICE} ${DEVTIMEOUT} || {\n",
      "    if [ -n \"$alias\" ]; then\n",
      "        net_log $\"$alias device ${DEVICE} does not seem to be present, delaying initialization.\"\n",
      "    else\n",
      "        net_log $\"Device ${DEVICE} does not seem to be present, delaying initialization.\"\n",
      "    fi\n",
      "    exit 1\n",
      "}\n",
      "\n",
      "\n",
      "# this isn't the same as the MAC in the configuration filename.  It is\n",
      "# available as a configuration option in the config file, forcing the kernel\n",
      "# to think an ethernet card has a different MAC address than it really has.\n",
      "if [ -n \"${MACADDR}\" ]; then\n",
      "    ip link set dev ${DEVICE} address ${MACADDR}\n",
      "fi\n",
      "if [ -n \"${MTU}\" ]; then\n",
      "    ip link set dev ${DEVICE} mtu ${MTU}\n",
      "fi\n",
      "\n",
      "# is the device wireless? If so, configure wireless device specifics\n",
      "is_wireless_device ${DEVICE} && . ./ifup-wireless\n",
      "\n",
      "# Team slave device?\n",
      "if [ -n \"${TEAM_MASTER}\" ] && [ ! \"${DEVICETYPE}\" = \"TeamPort\" ] && [ -x ./ifup-TeamPort ]; then\n",
      "    ./ifup-TeamPort ${CONFIG} $2\n",
      "    ethtool_set\n",
      "    exit 0\n",
      "fi\n",
      "\n",
      "# slave device?\n",
      "if [ \"${SLAVE}\" = yes -a \"${ISALIAS}\" = no -a \"${MASTER}\" != \"\" ]; then\n",
      "    install_bonding_driver ${MASTER}\n",
      "    grep -wq \"${DEVICE}\" /sys/class/net/${MASTER}/bonding/slaves 2>/dev/null || {\n",
      "        /sbin/ip link set dev ${DEVICE} down\n",
      "        echo \"+${DEVICE}\" > /sys/class/net/${MASTER}/bonding/slaves 2>/dev/null\n",
      "    }\n",
      "    ethtool_set\n",
      "\n",
      "    exit 0\n",
      "fi\n",
      "\n",
      "# Bonding initialization. For DHCP, we need to enslave the devices early,\n",
      "# so it can actually get an IP.\n",
      "if [ \"$ISALIAS\" = no ] && is_bonding_device ${DEVICE} ; then\n",
      "    install_bonding_driver ${DEVICE}\n",
      "    /sbin/ip link set dev ${DEVICE} up\n",
      "    for device in $(LANG=C grep -l \"^[[:space:]]*MASTER=['\\\"]\\?${DEVICE}['\\\"]\\?\\([[:space:]#]\\|$\\)\" /etc/sysconfig/network-scripts/ifcfg-*) ; do\n",
      "        is_ignored_file \"$device\" && continue\n",
      "        /sbin/ifup ${device##*/} || net_log \"Unable to start slave device ${device##*/} for master ${DEVICE}.\" warning\n",
      "    done\n",
      "\n",
      "    [ -n \"${LINKDELAY}\" ] && /bin/sleep ${LINKDELAY}\n",
      "\n",
      "    # add the bits to setup the needed post enslavement parameters\n",
      "    for arg in $BONDING_OPTS ; do   \n",
      "        key=${arg%%=*};\n",
      "        value=${arg##*=};\n",
      "        if [ \"${key}\" = \"primary\" ]; then \n",
      "            echo $value > /sys/class/net/${DEVICE}/bonding/$key\n",
      "        fi\n",
      "    done\n",
      "fi\n",
      "\n",
      "# If the device is part of a bridge, add the device to the bridge\n",
      "if [ -n \"${BRIDGE}\" ] && [ -x /usr/sbin/brctl ]; then\n",
      "    if [ ! -d /sys/class/net/${BRIDGE}/bridge ]; then\n",
      "        /usr/sbin/brctl addbr -- ${BRIDGE} 2>/dev/null\n",
      "    fi\n",
      "    /sbin/ip addr flush dev ${DEVICE} 2>/dev/null\n",
      "    /sbin/ip link set dev ${DEVICE} up\n",
      "    ethtool_set\n",
      "    [ -n \"${LINKDELAY}\" ] && /bin/sleep ${LINKDELAY}\n",
      "    /usr/sbin/brctl addif -- ${BRIDGE} ${DEVICE}\n",
      "    # add the bits to setup driver parameters here\n",
      "    for arg in $BRIDGING_OPTS ; do\n",
      "        key=${arg%%=*};\n",
      "        value=${arg##*=};\n",
      "        echo $value > /sys/class/net/${DEVICE}/brport/$key\n",
      "    done\n",
      "    # Upon adding a device to a bridge,\n",
      "    # it's necessary to make radvd reload its config\n",
      "    [ -r /var/run/radvd/radvd.pid ] && kill -HUP $(cat /var/run/radvd/radvd.pid)\n",
      "    exit 0\n",
      "fi\n",
      "\n",
      "if [ -n \"${DYNCONFIG}\" ] && [ -x /sbin/dhclient ]; then\n",
      "    if is_true \"${PERSISTENT_DHCLIENT}\"; then\n",
      "        ONESHOT=\"\";\n",
      "    else\n",
      "        ONESHOT=\"-1\";\n",
      "    fi;\n",
      "    generate_config_file_name\n",
      "    generate_lease_file_name\n",
      "\n",
      "    # Initialize the dhclient args and obtain the hostname options if needed:\n",
      "    DHCLIENTARGS=\"${DHCLIENTARGS} ${ONESHOT} -q ${DHCLIENTCONF} -lf ${LEASEFILE} -pf /var/run/dhclient-${DEVICE}.pid\"\n",
      "    set_hostname_options DHCLIENTARGS\n",
      "\n",
      "    echo\n",
      "    echo -n $\"Determining IP information for ${DEVICE}...\"\n",
      "    if ! is_true \"${PERSISTENT_DHCLIENT}\" && check_link_down ${DEVICE}; then\n",
      "        echo $\" failed; no link present.  Check cable?\"\n",
      "        exit 1\n",
      "    fi\n",
      "\n",
      "    ethtool_set\n",
      "\n",
      "    if /sbin/dhclient ${DHCLIENTARGS} ${DEVICE} ; then\n",
      "        echo $\" done.\"\n",
      "        dhcpipv4=\"good\"\n",
      "    else\n",
      "        echo $\" failed.\"\n",
      "        if is_true \"${IPV4_FAILURE_FATAL}\"; then\n",
      "            exit 1\n",
      "        fi\n",
      "        if is_false \"$IPV6INIT\" || ! is_true \"$DHCPV6C\"; then\n",
      "            exit 1\n",
      "        fi\n",
      "        net_log \"Unable to obtain IPv4 DHCP address ${DEVICE}.\" warning\n",
      "    fi\n",
      "    # end dynamic device configuration\n",
      "else \n",
      "    if [ -z \"${IPADDR}\" -a -z \"${IPADDR0}\" -a -z \"${IPADDR1}\" -a -z \"${IPADDR2}\" ]; then\n",
      "        # enable device without IP, useful for e.g. PPPoE\n",
      "        ip link set dev ${REALDEVICE} up\n"
     ]
    },
    {
     "name": "stdout",
     "output_type": "stream",
     "text": [
      "        ethtool_set\n",
      "        [ -n \"${LINKDELAY}\" ] && /bin/sleep ${LINKDELAY}\n",
      "    else\n",
      "\n",
      "        expand_config\n",
      "\n",
      "        [ -n \"${ARP}\" ] && \\\n",
      "            ip link set dev ${REALDEVICE} $(toggle_value arp $ARP)\n",
      "\n",
      "        if ! ip link set dev ${REALDEVICE} up ; then\n",
      "            net_log $\"Failed to bring up ${DEVICE}.\"\n",
      "            exit 1\n",
      "        fi\n",
      "\n",
      "        ethtool_set\n",
      "\n",
      "        [ -n \"${LINKDELAY}\" ] && /bin/sleep ${LINKDELAY}\n",
      "\n",
      "        if [ \"${DEVICE}\" = \"lo\" ]; then\n",
      "            SCOPE=\"scope host\"\n",
      "        else\n",
      "            SCOPE=${SCOPE:-}\n",
      "        fi\n",
      "\n",
      "        if [ -n \"$SRCADDR\" ]; then\n",
      "            SRC=\"src $SRCADDR\"\n",
      "        else\n",
      "            SRC=\n",
      "        fi\n",
      "\n",
      "        # set IP address(es)\n",
      "        for idx in {0..256} ; do\n",
      "            if [ -z \"${ipaddr[$idx]}\" ]; then\n",
      "                break\n",
      "            fi\n",
      "\n",
      "            if ! LC_ALL=C ip addr ls ${REALDEVICE} | LC_ALL=C grep -q \"${ipaddr[$idx]}/${prefix[$idx]}\" ; then\n",
      "                if [ \"${REALDEVICE}\" != \"lo\" ] && [ \"${arpcheck[$idx]}\" != \"no\" ] ; then\n",
      "                    ARPING=$(/sbin/arping -c 2 -w ${ARPING_WAIT:-3} -D -I ${REALDEVICE} ${ipaddr[$idx]})\n",
      "                    if [ $? = 1 ]; then\n",
      "                        ARPINGMAC=$(echo $ARPING |  sed -ne 's/.*\\[\\(.*\\)\\].*/\\1/p')\n",
      "                        net_log $\"Error, some other host ($ARPINGMAC) already uses address ${ipaddr[$idx]}.\"\n",
      "                        exit 1\n",
      "                    fi\n",
      "                fi\n",
      "\n",
      "                if ! ip addr add ${ipaddr[$idx]}/${prefix[$idx]} \\\n",
      "                    brd ${broadcast[$idx]:-+} dev ${REALDEVICE} ${SCOPE} label ${DEVICE}; then\n",
      "                    net_log $\"Error adding address ${ipaddr[$idx]} for ${DEVICE}.\"\n",
      "                fi\n",
      "            fi\n",
      "\n",
      "            if [ -n \"$SRCADDR\" ]; then\n",
      "                sysctl -w \"net.ipv4.conf.${SYSCTLDEVICE}.arp_filter=1\" >/dev/null 2>&1\n",
      "            fi\n",
      "\n",
      "            # update ARP cache of neighboring computers\n",
      "            if ! is_false \"${arpupdate[$idx]}\" && [ \"${REALDEVICE}\" != \"lo\" ]; then\n",
      "                /sbin/arping -q -A -c 1 -I ${REALDEVICE} ${ipaddr[$idx]}\n",
      "                ( sleep 2;\n",
      "                /sbin/arping -q -U -c 1 -I ${REALDEVICE} ${ipaddr[$idx]} ) > /dev/null 2>&1 < /dev/null &\n",
      "            fi\n",
      "\n",
      "            # set lifetime of address to forever\n",
      "            ip addr change ${ipaddr[$idx]}/${prefix[$idx]} dev ${REALDEVICE} valid_lft forever preferred_lft forever\n",
      "        done\n",
      "\n",
      "        # Set a default route.\n",
      "        if [ \"${DEFROUTE}\" != \"no\" ] && [ -z \"${GATEWAYDEV}\" -o \"${GATEWAYDEV}\" = \"${REALDEVICE}\" ]; then\n",
      "            # set up default gateway. replace if one already exists\n",
      "            if [ -n \"${GATEWAY}\" ] && [ \"$(ipcalc --network ${GATEWAY} ${netmask[0]} 2>/dev/null)\" = \"NETWORK=${NETWORK}\" ]; then\n",
      "                ip route replace default ${METRIC:+metric $METRIC} \\\n",
      "                    ${EXTRA_ROUTE_OPTS} \\\n",
      "                    via ${GATEWAY} ${WINDOW:+window $WINDOW} ${SRC} \\\n",
      "                    ${GATEWAYDEV:+dev $GATEWAYDEV} ||\n",
      "                    net_log $\"Error adding default gateway ${GATEWAY} for ${DEVICE}.\"\n",
      "            elif [ \"${GATEWAYDEV}\" = \"${DEVICE}\" ]; then\n",
      "                ip route replace default ${METRIC:+metric $METRIC} \\\n",
      "                    ${EXTRA_ROUTE_OPTS} \\\n",
      "                    ${SRC} ${WINDOW:+window $WINDOW} dev ${REALDEVICE} ||\n",
      "                    net_log $\"Error adding default gateway for ${REALDEVICE}.\"\n",
      "            fi\n",
      "        fi\n",
      "    fi\n",
      "fi\n",
      "\n",
      "# Add Zeroconf route.\n",
      "if [ -z \"${NOZEROCONF}\" -a \"${ISALIAS}\" = \"no\" -a \"${REALDEVICE}\" != \"lo\" ]; then\n",
      "    ip route add 169.254.0.0/16 dev ${REALDEVICE} metric $((1000 + $(cat /sys/class/net/${REALDEVICE}/ifindex))) scope link\n",
      "fi\n",
      "\n",
      "if [ \"${TYPE}\" = \"Bridge\" ]; then\n",
      "    for arg in $BRIDGING_OPTS ; do\n",
      "        key=${arg%%=*};\n",
      "        value=${arg##*=};\n",
      "        if [ \"${key}\" = \"multicast_router\" -o \"${key}\" = \"hash_max\" -o \"${key}\" = \"multicast_snooping\" ]; then\n",
      "            echo $value > /sys/class/net/${DEVICE}/bridge/$key\n",
      "        fi\n",
      "    done\n",
      "fi\n",
      "\n",
      "# IPv6 initialisation?\n",
      "/etc/sysconfig/network-scripts/ifup-ipv6 ${CONFIG}\n",
      "if is_true \"${DHCPV6C}\" && [ -x /sbin/dhclient ]; then\n",
      "\n",
      "    # Assign interface into a firewalld zone so we can\n",
      "    # obtain the IPv6 via DHCPv6 (empty ZONE means default):\n",
      "    if [ \"${REALDEVICE}\" != \"lo\" ]; then\n",
      "        dbus-send --print-reply --system --dest=org.fedoraproject.FirewallD1 \\\n",
      "                  /org/fedoraproject/FirewallD1 \\\n",
      "                  org.fedoraproject.FirewallD1.zone.changeZoneOfInterface \\\n",
      "                  string:\"${ZONE}\" string:\"${DEVICE}\" \\\n",
      "                  > /dev/null 2>&1\n",
      "    fi\n",
      "\n",
      "    generate_config_file_name 6\n",
      "    generate_lease_file_name 6\n",
      "    echo\n",
      "    echo -n $\"Determining IPv6 information for ${DEVICE}...\"\n",
      "\n",
      "    # Initialize the dhclient args for IPv6 and obtain the hostname options if needed:\n",
      "    DHCLIENTARGS=\"-6 -1 ${DHCPV6C_OPTIONS} ${DHCLIENTCONF} -lf ${LEASEFILE} -pf /var/run/dhclient6-${DEVICE}.pid ${DEVICE}\"\n",
      "    set_hostname_options DHCLIENTARGS\n",
      "\n",
      "    if /sbin/dhclient $DHCLIENTARGS; then\n",
      "        echo $\" done.\"\n",
      "    else\n",
      "        echo $\" failed.\"\n",
      "        if [ \"${dhcpipv4}\" = \"good\" -o -n \"${IPADDR}\" ]; then\n",
      "            net_log \"Unable to obtain IPv6 DHCP address ${DEVICE}.\" warning\n",
      "        else\n",
      "            exit 1\n",
      "        fi\n",
      "    fi\n",
      "fi\n",
      "\n",
      "exec /etc/sysconfig/network-scripts/ifup-post ${CONFIG} ${2}\n"
     ]
    }
   ],
   "source": [
    "cat /etc/sysconfig/network-scripts/ifup-eth"
   ]
  },
  {
   "cell_type": "markdown",
   "metadata": {},
   "source": [
    "## El servicio *NetworkManager*.\n",
    "\n",
    "Este servicio es utilizado por las ditribuciones más avanzadas y realiza las configuraciones de forma automática."
   ]
  },
  {
   "cell_type": "code",
   "execution_count": 29,
   "metadata": {},
   "outputs": [
    {
     "name": "stdout",
     "output_type": "stream",
     "text": [
      "\u001b[1;32m●\u001b[0m NetworkManager.service - Network Manager\n",
      "   Loaded: loaded (/usr/lib/systemd/system/NetworkManager.service; enabled; vendor preset: enabled)\n",
      "   Active: \u001b[1;32mactive (running)\u001b[0m since mié 2019-04-03 16:03:52 PDT; 33min ago\n",
      "     Docs: man:NetworkManager(8)\n",
      " Main PID: 2619 (NetworkManager)\n",
      "   CGroup: /system.slice/NetworkManager.service\n",
      "           ├─2619 /usr/sbin/NetworkManager --no-daemon\n",
      "           └─2920 /sbin/dhclient -d -q -sf /usr/libexec/nm-dhcp-helper -pf /v...\n",
      "\n",
      "abr 03 16:03:53 cloudevel.localdomain NetworkManager[2619]: <info>  [15543326...\n",
      "abr 03 16:03:53 cloudevel.localdomain NetworkManager[2619]: <info>  [15543326...\n",
      "abr 03 16:03:53 cloudevel.localdomain NetworkManager[2619]: <info>  [15543326...\n",
      "abr 03 16:03:53 cloudevel.localdomain NetworkManager[2619]: <info>  [15543326...\n",
      "abr 03 16:03:53 cloudevel.localdomain NetworkManager[2619]: <info>  [15543326…NS\n",
      "abr 03 16:03:53 cloudevel.localdomain dhclient[2920]: bound to 10.0.2.15 -- r...\n",
      "abr 03 16:03:53 cloudevel.localdomain NetworkManager[2619]: <info>  [15543326...\n",
      "abr 03 16:03:53 cloudevel.localdomain NetworkManager[2619]: <info>  [15543326...\n",
      "abr 03 16:03:53 cloudevel.localdomain NetworkManager[2619]: <info>  [15543326...\n",
      "abr 03 16:03:54 cloudevel.localdomain NetworkManager[2619]: <info>  [15543326...\n",
      "Hint: Some lines were ellipsized, use -l to show in full.\n"
     ]
    }
   ],
   "source": [
    "systemctl status NetworkManager.service"
   ]
  },
  {
   "cell_type": "markdown",
   "metadata": {},
   "source": [
    "### El programa ```nmtui```.\n",
    "\n",
    "Es un shell básico de confifuración de la red.\n",
    "\n",
    "**Ejemplo:**\n",
    "\n",
    "Ejecute el siguiente comando en una terminal.\n",
    "\n",
    "```sudo nmtui```"
   ]
  },
  {
   "cell_type": "markdown",
   "metadata": {},
   "source": [
    "## Utilerías.\n"
   ]
  },
  {
   "cell_type": "markdown",
   "metadata": {},
   "source": [
    "### ```hostname```."
   ]
  },
  {
   "cell_type": "code",
   "execution_count": 30,
   "metadata": {},
   "outputs": [
    {
     "name": "stdout",
     "output_type": "stream",
     "text": [
      "cloudevel.localdomain\n"
     ]
    }
   ],
   "source": [
    "hostname"
   ]
  },
  {
   "cell_type": "markdown",
   "metadata": {},
   "source": [
    "### ```ping```.\n",
    "\n",
    "Este comando verifica que unn servidor esté \"arriba\".\n",
    "\n",
    "```ping <nombre del servidor o IP>```"
   ]
  },
  {
   "cell_type": "markdown",
   "metadata": {},
   "source": [
    "### El comando ```ss```.\n",
    "\n",
    "Este es un comando avanzado de monitoreo de red por medio de sockets."
   ]
  },
  {
   "cell_type": "code",
   "execution_count": 31,
   "metadata": {},
   "outputs": [
    {
     "name": "stdout",
     "output_type": "stream",
     "text": [
      "Netid  State      Recv-Q Send-Q Local Address:Port                 Peer Address:Port                \n",
      "u_str  ESTAB      0      0       * 25965                 * 25964                \n",
      "u_str  ESTAB      0      0       * 25832                 * 25831                \n",
      "u_str  ESTAB      0      0       * 25750                 * 25751                \n",
      "u_str  ESTAB      0      0       * 25966                 * 25967                \n",
      "u_str  ESTAB      0      0       * 25446                 * 25445                \n",
      "u_str  ESTAB      0      0       * 25852                 * 25851                \n",
      "u_str  ESTAB      0      0       * 25962                 * 25963                \n",
      "u_str  ESTAB      1      0       * 25828                 * 25827                \n",
      "u_str  ESTAB      0      0       * 25902                 * 25901                \n",
      "u_str  ESTAB      0      0       * 25749                 * 25748                \n",
      "u_str  ESTAB      0      0       * 25851                 * 25852                \n",
      "u_str  ESTAB      0      0       * 25967                 * 25966                \n",
      "u_str  ESTAB      0      0       * 25831                 * 25832                \n",
      "u_str  ESTAB      0      0       * 25445                 * 25446                \n",
      "u_str  ESTAB      0      0       * 25963                 * 25962                \n",
      "u_str  ESTAB      0      0       * 25848                 * 25847                \n",
      "u_str  ESTAB      0      0       * 25964                 * 25965                \n",
      "u_str  ESTAB      0      0      /run/dbus/system_bus_socket 21932                 * 21931                \n",
      "u_str  ESTAB      0      0       * 25753                 * 25752                \n",
      "u_str  ESTAB      0      0       * 25449                 * 25448                \n",
      "u_str  ESTAB      0      0       * 25858                 * 25857                \n",
      "u_str  ESTAB      0      0       * 25748                 * 25749                \n",
      "u_str  ESTAB      0      0      /run/dbus/system_bus_socket 20390                 * 20225                \n",
      "u_str  ESTAB      0      0       * 15364                 * 15365                \n",
      "u_str  ESTAB      0      0       * 21158                 * 21159                \n",
      "u_str  ESTAB      0      0      /run/systemd/journal/stdout 23766                 * 23765                \n",
      "u_str  ESTAB      0      0      /run/systemd/journal/stdout 20270                 * 20269                \n",
      "u_str  ESTAB      0      0       * 23765                 * 23766                \n",
      "u_str  ESTAB      0      0       * 19818                 * 19817                \n",
      "u_str  ESTAB      0      0       * 20225                 * 20390                \n",
      "u_str  ESTAB      0      0      /run/dbus/system_bus_socket 25237                 * 25236                \n",
      "u_str  ESTAB      0      0       * 25857                 * 25858                \n",
      "u_str  ESTAB      0      0      /run/systemd/journal/stdout 23841                 * 23840                \n",
      "u_str  ESTAB      0      0      /run/systemd/journal/stdout 23641                 * 23640                \n",
      "u_str  ESTAB      0      0       * 19817                 * 19818                \n",
      "u_str  ESTAB      0      0       * 20269                 * 20270                \n",
      "u_str  ESTAB      0      0      /run/systemd/journal/stdout 15365                 * 15364                \n",
      "u_str  ESTAB      0      0       * 23840                 * 23841                \n",
      "u_str  ESTAB      0      0       * 25414                 * 25413                \n",
      "u_str  ESTAB      0      0       * 25413                 * 25414                \n",
      "u_str  ESTAB      0      0      /run/dbus/system_bus_socket 21159                 * 21158                \n",
      "u_str  ESTAB      0      0       * 25437                 * 25436                \n",
      "u_str  ESTAB      0      0       * 25411                 * 25410                \n",
      "u_str  ESTAB      0      0       * 15488                 * 15489                \n",
      "u_str  ESTAB      0      0       * 25410                 * 25411                \n",
      "u_str  ESTAB      0      0      /run/systemd/journal/stdout 15489                 * 15488                \n",
      "u_str  ESTAB      0      0       * 25854                 * 25853                \n",
      "u_str  ESTAB      0      0       * 25467                 * 25466                \n",
      "u_str  ESTAB      0      0       * 25473                 * 25472                \n",
      "u_str  ESTAB      0      0       * 25439                 * 25440                \n",
      "u_str  ESTAB      0      0       * 25475                 * 25476                \n",
      "u_str  ESTAB      0      0       * 21095                 * 21096                \n",
      "u_str  ESTAB      0      0       * 25466                 * 25467                \n",
      "u_str  ESTAB      0      0      /run/dbus/system_bus_socket 20958                 * 20957                \n",
      "u_str  ESTAB      0      0       * 25476                 * 25475                \n",
      "u_str  ESTAB      0      0       * 25823                 * 25824                \n",
      "u_str  ESTAB      0      0       * 25847                 * 25848                \n",
      "u_str  ESTAB      0      0       * 25472                 * 25473                \n",
      "u_str  ESTAB      0      0       * 25478                 * 25479                \n",
      "u_str  ESTAB      0      0      /run/systemd/journal/stdout 21096                 * 21095                \n",
      "u_str  ESTAB      0      0       * 25469                 * 25470                \n",
      "u_str  ESTAB      0      0       * 25479                 * 25478                \n",
      "u_str  ESTAB      0      0       * 25470                 * 25469                \n",
      "u_str  ESTAB      0      0       * 25824                 * 25823                \n",
      "u_str  ESTAB      0      0       * 20552                 * 20553                \n",
      "u_str  ESTAB      0      0       * 20388                 * 20389                \n",
      "u_str  ESTAB      0      0       * 25835                 * 25836                \n",
      "u_str  ESTAB      0      0       * 25751                 * 25750                \n",
      "u_str  ESTAB      0      0       * 25460                 * 25461                \n",
      "u_str  ESTAB      0      0       * 25836                 * 25835                \n",
      "u_str  ESTAB      0      0       * 25458                 * 25457                \n",
      "u_str  ESTAB      0      0       * 25757                 * 25756                \n",
      "u_str  ESTAB      0      0       * 20389                 * 20388                \n",
      "u_str  ESTAB      0      768     * 25754                 * 25755                \n",
      "u_str  ESTAB      0      0       * 25463                 * 25464                \n",
      "u_str  ESTAB      1      0       * 25755                 * 25754                \n",
      "u_str  ESTAB      0      0       * 25464                 * 25463                \n",
      "u_str  ESTAB      0      0       * 25461                 * 25460                \n",
      "u_str  ESTAB      0      0      /run/dbus/system_bus_socket 20553                 * 20552                \n",
      "u_str  ESTAB      0      768     * 25827                 * 25828                \n",
      "u_str  ESTAB      0      0       * 25839                 * 25840                \n",
      "u_str  ESTAB      0      0       * 25817                 * 25818                \n",
      "u_str  ESTAB      0      0       * 25451                 * 25452                \n",
      "u_str  ESTAB      0      0       * 25420                 * 25421                \n",
      "u_str  ESTAB      0      0       * 25841                 * 25842                \n",
      "u_str  ESTAB      0      0       * 25840                 * 25839                \n",
      "u_str  ESTAB      0      0       * 25452                 * 25451                \n",
      "u_str  ESTAB      0      0       * 25820                 * 25819                \n",
      "u_str  ESTAB      0      0       * 25418                 * 25417                \n",
      "u_str  ESTAB      0      0       * 23640                 * 23641                \n",
      "u_str  ESTAB      0      0       * 25455                 * 25454                \n",
      "u_str  ESTAB      0      0       * 25756                 * 25757                \n",
      "u_str  ESTAB      0      0       * 25417                 * 25418                \n",
      "u_str  ESTAB      0      0       * 21931                 * 21932                \n",
      "u_str  ESTAB      0      0       * 25454                 * 25455                \n",
      "u_str  ESTAB      0      0       * 25425                 * 25424                \n"
     ]
    },
    {
     "name": "stdout",
     "output_type": "stream",
     "text": [
      "u_str  ESTAB      0      0       * 25845                 * 25846                \n",
      "u_str  ESTAB      0      0       * 25457                 * 25458                \n",
      "u_str  ESTAB      0      0       * 25849                 * 25850                \n",
      "u_str  ESTAB      0      0       * 25427                 * 25428                \n",
      "u_str  ESTAB      0      0       * 25421                 * 25420                \n",
      "u_str  ESTAB      0      0       * 25842                 * 25841                \n",
      "u_str  ESTAB      0      0       * 25850                 * 25849                \n",
      "u_str  ESTAB      0      0       * 25424                 * 25425                \n",
      "u_str  ESTAB      0      0      /run/systemd/journal/stdout 20506                 * 20505                \n",
      "u_str  ESTAB      0      0       * 25846                 * 25845                \n",
      "u_str  ESTAB      0      0       * 25901                 * 25902                \n",
      "u_str  ESTAB      0      0       * 25819                 * 25820                \n",
      "u_str  ESTAB      0      0       * 20957                 * 20958                \n",
      "u_str  ESTAB      0      0       * 22564                 * 22563                \n",
      "u_str  ESTAB      0      0       * 25482                 * 25481                \n",
      "u_str  ESTAB      0      0       * 25436                 * 25437                \n",
      "u_str  ESTAB      0      0       * 25853                 * 25854                \n",
      "u_str  ESTAB      0      0       * 25818                 * 25817                \n",
      "u_str  ESTAB      0      0       * 25481                 * 25482                \n",
      "u_str  ESTAB      0      0       * 25236                 * 25237                \n",
      "u_str  ESTAB      0      0       * 25752                 * 25753                \n",
      "u_str  ESTAB      0      0       * 22563                 * 22564                \n",
      "u_str  ESTAB      0      0       * 20505                 * 20506                \n",
      "u_str  ESTAB      0      0       * 25822                 * 25821                \n",
      "u_str  ESTAB      0      0       * 25433                 * 25434                \n",
      "u_str  ESTAB      0      0       * 25440                 * 25439                \n",
      "u_str  ESTAB      0      0       * 20686                 * 20687                \n",
      "u_str  ESTAB      0      0       * 25443                 * 25442                \n",
      "u_str  ESTAB      0      0       * 20152                 * 20153                \n",
      "u_str  ESTAB      0      0       * 25442                 * 25443                \n",
      "u_str  ESTAB      0      0       * 25434                 * 25433                \n",
      "u_str  ESTAB      0      0       * 25821                 * 25822                \n",
      "u_str  ESTAB      0      0       * 21032                 * 21033                \n",
      "u_str  ESTAB      0      0       * 25448                 * 25449                \n",
      "u_str  ESTAB      0      0       * 25428                 * 25427                \n",
      "u_str  ESTAB      0      0      /run/systemd/journal/stdout 20687                 * 20686                \n",
      "u_str  ESTAB      0      0       * 25431                 * 25430                \n",
      "u_str  ESTAB      0      0      /run/dbus/system_bus_socket 21033                 * 21032                \n",
      "u_str  ESTAB      0      0       * 25430                 * 25431                \n",
      "u_str  ESTAB      0      0      /run/systemd/journal/stdout 20153                 * 20152                \n",
      "tcp    ESTAB      0      0      127.0.0.1:55283                127.0.0.1:42232                \n",
      "tcp    ESTAB      0      0      127.0.0.1:42224                127.0.0.1:55283                \n",
      "tcp    ESTAB      0      0      127.0.0.1:56986                127.0.0.1:40407                \n",
      "tcp    ESTAB      0      0      127.0.0.1:55283                127.0.0.1:42224                \n",
      "tcp    ESTAB      0      0      10.0.2.15:ddi-tcp-1            10.0.2.2:56410                \n",
      "tcp    ESTAB      0      0      127.0.0.1:42232                127.0.0.1:55283                \n",
      "tcp    ESTAB      0      0      10.0.2.15:ddi-tcp-1            10.0.2.2:56032                \n",
      "tcp    ESTAB      0      0      127.0.0.1:35172                127.0.0.1:34550                \n",
      "tcp    ESTAB      0      0      127.0.0.1:32830                127.0.0.1:32882                \n",
      "tcp    ESTAB      0      0      127.0.0.1:32882                127.0.0.1:32830                \n",
      "tcp    ESTAB      0      0      127.0.0.1:40407                127.0.0.1:56986                \n",
      "tcp    ESTAB      0      0      127.0.0.1:34550                127.0.0.1:35172                \n",
      "tcp    ESTAB      0      0      10.0.2.15:ddi-tcp-1            10.0.2.2:56043                \n"
     ]
    }
   ],
   "source": [
    "ss "
   ]
  },
  {
   "cell_type": "markdown",
   "metadata": {},
   "source": [
    "### La biblioteca *net-tools*.\n",
    "* ```ifconfig```.\n",
    "*  ```netstat```.\n",
    "*  ```arp```.\n",
    "* ```route```."
   ]
  },
  {
   "cell_type": "markdown",
   "metadata": {},
   "source": [
    "## Sesiones en servidores."
   ]
  },
  {
   "cell_type": "markdown",
   "metadata": {},
   "source": [
    "### *telnet* y *ftp*."
   ]
  },
  {
   "cell_type": "markdown",
   "metadata": {},
   "source": [
    "## Transferencias de archivos."
   ]
  },
  {
   "cell_type": "markdown",
   "metadata": {},
   "source": [
    "### *sftp*."
   ]
  },
  {
   "cell_type": "markdown",
   "metadata": {},
   "source": [
    "###  *rsync*."
   ]
  },
  {
   "cell_type": "code",
   "execution_count": null,
   "metadata": {},
   "outputs": [],
   "source": []
  },
  {
   "cell_type": "markdown",
   "metadata": {},
   "source": [
    "### *wget*."
   ]
  },
  {
   "cell_type": "code",
   "execution_count": null,
   "metadata": {},
   "outputs": [],
   "source": []
  },
  {
   "cell_type": "markdown",
   "metadata": {},
   "source": [
    "### *curl*."
   ]
  },
  {
   "cell_type": "code",
   "execution_count": null,
   "metadata": {},
   "outputs": [],
   "source": []
  },
  {
   "cell_type": "markdown",
   "metadata": {},
   "source": [
    "<p style=\"text-align: center\"><a rel=\"license\" href=\"http://creativecommons.org/licenses/by/4.0/\"><img alt=\"Licencia Creative Commons\" style=\"border-width:0\" src=\"https://i.creativecommons.org/l/by/4.0/80x15.png\" /></a><br />Esta obra está bajo una <a rel=\"license\" href=\"http://creativecommons.org/licenses/by/4.0/\">Licencia Creative Commons Atribución 4.0 Internacional</a>.</p>\n",
    "<p style=\"text-align: center\">&copy; José Luis Chiquete Valdivieso. 2019.</p>"
   ]
  }
 ],
 "metadata": {
  "kernelspec": {
   "display_name": "Bash",
   "language": "bash",
   "name": "bash"
  },
  "language_info": {
   "codemirror_mode": "shell",
   "file_extension": ".sh",
   "mimetype": "text/x-sh",
   "name": "bash"
  }
 },
 "nbformat": 4,
 "nbformat_minor": 2
}
