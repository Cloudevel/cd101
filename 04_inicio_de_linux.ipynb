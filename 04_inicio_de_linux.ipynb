{
 "cells": [
  {
   "cell_type": "markdown",
   "metadata": {},
   "source": [
    "[![cloudevel](Imagenes/cloudevel.png)](https://cloudevel.com)"
   ]
  },
  {
   "cell_type": "markdown",
   "metadata": {},
   "source": [
    "## Funcionamiento del kernel de Linux.\n",
    "## Compilación del kernel.\n",
    "## Imágenes del kernel.\n",
    "## Módulos del kernel.\n",
    "##  El arrancador GRUB.\n",
    "## Gestión de módulos.\n",
    "### Comandos.\n",
    "* lsmod.\n",
    "* rmmod.\n",
    "* modprobe.\n",
    "* depmod.\n",
    "### Directorios y archivos de configuración.\n",
    "El directorio /etc/depmod.\n",
    "\n",
    "\n",
    "## Detección con udev.\n",
    "\n",
    "## Manipulación de parámetros del kernel con sysctl.\n",
    "\n",
    "## Información sobre dispositivos.\n",
    "lsusb.\n",
    "lspci.\n",
    "lscpu.\n",
    "## Inicio de proceso.\n",
    "### init y systemd. "
   ]
  },
  {
   "cell_type": "markdown",
   "metadata": {},
   "source": [
    "<p style=\"text-align: center\"><a rel=\"license\" href=\"http://creativecommons.org/licenses/by/4.0/\"><img alt=\"Licencia Creative Commons\" style=\"border-width:0\" src=\"https://i.creativecommons.org/l/by/4.0/80x15.png\" /></a><br />Esta obra está bajo una <a rel=\"license\" href=\"http://creativecommons.org/licenses/by/4.0/\">Licencia Creative Commons Atribución 4.0 Internacional</a>.</p>\n",
    "<p style=\"text-align: center\">&copy; José Luis Chiquete Valdivieso. 2019.</p>"
   ]
  }
 ],
 "metadata": {
  "kernelspec": {
   "display_name": "Python 3",
   "language": "python",
   "name": "python3"
  },
  "language_info": {
   "codemirror_mode": {
    "name": "ipython",
    "version": 3
   },
   "file_extension": ".py",
   "mimetype": "text/x-python",
   "name": "python",
   "nbconvert_exporter": "python",
   "pygments_lexer": "ipython3",
   "version": "3.6.3"
  }
 },
 "nbformat": 4,
 "nbformat_minor": 2
}
