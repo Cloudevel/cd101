{
 "cells": [
  {
   "cell_type": "markdown",
   "metadata": {},
   "source": [
    "[![cloudevel](Imagenes/cloudevel.png)](https://cloudevel.com)"
   ]
  },
  {
   "cell_type": "markdown",
   "metadata": {},
   "source": [
    "Un temporizador (scheduler) en la tradición de UNIX y GNU/Linux es un daemon que ejecuta tareas preestablecidas en intervalos de tiempo definidos.\n",
    "\n",
    "El uso de los temporizadores permite realizar diversas acciones repetitivas sin la necesidad de ser ejecutadas manualmente.\n",
    "\n",
    "Aún cuando existen diversos temporizadores para UNIX y GNU/Linux, el más común es ```cron```."
   ]
  },
  {
   "cell_type": "markdown",
   "metadata": {},
   "source": [
    "## El daemon  ```crond```.\n",
    "\n",
    "Los temporizadores están ligados a un daemon el cual se encarga de ejecutar los comandos indicados a la hora definida.\n",
    "\n",
    "* */etc/crontab*\n",
    "* */tc/con.d/*\n",
    "* */var/spool/cron/*"
   ]
  },
  {
   "cell_type": "code",
   "execution_count": null,
   "metadata": {},
   "outputs": [],
   "source": [
    "systemctl status crond"
   ]
  },
  {
   "cell_type": "code",
   "execution_count": null,
   "metadata": {},
   "outputs": [],
   "source": [
    "sudo ls /var/spool/cron"
   ]
  },
  {
   "cell_type": "code",
   "execution_count": null,
   "metadata": {},
   "outputs": [],
   "source": [
    "sudo ls /etc/cron.*"
   ]
  },
  {
   "cell_type": "code",
   "execution_count": 1,
   "metadata": {},
   "outputs": [
    {
     "name": "stdout",
     "output_type": "stream",
     "text": [
      "CRON(8)                      System Administration                     CRON(8)\n",
      "\n",
      "\n",
      "\n",
      "NAME\n",
      "       crond - daemon to execute scheduled commands\n",
      "\n",
      "SYNOPSIS\n",
      "       crond [-c | -h | -i | -n | -p | -P | -s | -m<mailcommand>]\n",
      "       crond -x [ext,sch,proc,pars,load,misc,test,bit]\n",
      "\n",
      "DESCRIPTION\n",
      "       Cron  is  started  from  /etc/rc.d/init.d or /etc/init.d when classical\n",
      "       sysvinit scripts are used. In case systemd is enabled, then  unit  file\n",
      "       is  installed  into  /lib/systemd/system/crond.service  and  daemon  is\n",
      "       started by systemctl start crond.service command.  It  returns  immedi‐\n",
      "       ately,  thus, there is no need to need to start it with the '&' parame‐\n",
      "       ter.\n",
      "\n",
      "       Cron searches /var/spool/cron for crontab files which are  named  after\n",
      "       accounts in /etc/passwd; The found crontabs are loaded into the memory.\n",
      "       Cron also searches for /etc/anacrontab and any files in the /etc/cron.d\n",
      "       directory,  which have a different format (see crontab(5)).  Cron exam‐\n",
      "       ines all stored crontabs and checks each job to see if it needs  to  be\n",
      "       run  in  the  current  minute.   When executing commands, any output is\n",
      "       mailed to the owner of the crontab (or to the  user  specified  in  the\n",
      "       MAILTO  environment  variable in the crontab, if such exists).  Any job\n",
      "       output can also be sent to syslog by using the -s option.\n",
      "\n",
      "       There are two ways how changes in crontables are  checked.   The  first\n",
      "       method  is  checking the modtime of a file.  The second method is using\n",
      "       the inotify support.  Using of inotify is logged in  the  /var/log/cron\n",
      "       log  after  the  daemon  is  started.   The  inotify support checks for\n",
      "       changes in all crontables and accesses the hard disk only when a change\n",
      "       is detected.\n",
      "\n",
      "       When  using  the  modtime  option, Cron checks its crontables' modtimes\n",
      "       every minute to check for any changes and reloads the crontables  which\n",
      "       have  changed.   There  is  no  need  to restart Cron after some of the\n",
      "       crontables were modified.  The modtime option is also used when inotify\n",
      "       can not be initialized.\n",
      "\n",
      "       Cron checks these files and directories:\n",
      "\n",
      "       /etc/crontab\n",
      "              system  crontab.  Nowadays the file is empty by default.  Origi‐\n",
      "              nally it was usually used to run daily,  weekly,  monthly  jobs.\n",
      "              By  default  these  jobs are now run through anacron which reads\n",
      "              /etc/anacrontab configuration file.  See anacrontab(5) for  more\n",
      "              details.\n",
      "\n",
      "       /etc/cron.d/\n",
      "              directory  that  contains  system  cronjobs stored for different\n",
      "              users.\n",
      "\n",
      "       /var/spool/cron\n",
      "              directory that contains user crontables created by  the  crontab\n",
      "              command.\n",
      "\n",
      "       Note  that  the  crontab(1)  command  updates  the modtime of the spool\n",
      "       directory whenever it changes a crontab.\n",
      "\n",
      "   Daylight Saving Time and other time changes\n",
      "       Local time changes of less than three hours, such as  those  caused  by\n",
      "       the  Daylight  Saving Time changes, are handled in a special way.  This\n",
      "       only applies to jobs that run at a specific time and jobs that run with\n",
      "       a granularity greater than one hour.  Jobs that run more frequently are\n",
      "       scheduled normally.\n",
      "\n",
      "       If time was adjusted one hour forward, those jobs that would  have  run\n",
      "       in  the  interval  that has been skipped will be run immediately.  Con‐\n",
      "       versely, if time was adjusted backward, running the same job  twice  is\n",
      "       avoided.\n",
      "\n",
      "       Time  changes  of more than 3 hours are considered to be corrections to\n",
      "       the clock or the timezone, and the new time is used immediately.\n",
      "\n",
      "       It is possible  to  use  different  time  zones  for  crontables.   See\n",
      "       crontab(5) for more information.\n",
      "\n",
      "   PAM Access Control\n",
      "       Cron  supports access control with PAM if the system has PAM installed.\n",
      "       For more information, see pam(8).  A PAM configuration file  for  crond\n",
      "       is installed in /etc/pam.d/crond.  The daemon loads the PAM environment\n",
      "       from the pam_env module.  This can be overridden by  defining  specific\n",
      "       settings in the appropriate crontab file.\n",
      "\n",
      "OPTIONS\n",
      "       -h     Prints a help message and exits.\n",
      "\n",
      "       -i     Disables inotify support.\n",
      "\n",
      "       -m     This  option  allows  you  to specify a shell command to use for\n",
      "              sending Cron mail output instead of using sendmail(8) This  com‐\n",
      "              mand  must  accept a fully formatted mail message (with headers)\n",
      "              on standard input and send it as a mail message to  the  recipi‐\n",
      "              ents  specified  in the mail headers.  Specifying the string off\n",
      "              (i.e., crond -m off) will disable the sending of mail.\n",
      "\n",
      "       -n     Tells the daemon to run in the foreground.  This can  be  useful\n",
      "              when  starting  it  out  of  init. With this option is needed to\n",
      "              change  pam   setting.    /etc/pam.d/crond   must   not   enable\n",
      "              pam_loginuid.so module.\n",
      "\n",
      "       -p     Allows Cron to accept any user set crontables.\n",
      "\n",
      "       -P     Don't set PATH.  PATH is instead inherited from the environment.\n",
      "\n",
      "       -c     This option enables clustering support, as described below.\n",
      "\n",
      "       -s     This  option will direct Cron to send the job output to the sys‐\n",
      "              tem log using syslog(3).  This is useful if your system does not\n",
      "              have sendmail(8), installed or if mail is disabled.\n",
      "\n",
      "       -x     This option allows you to set debug flags.\n",
      "\n",
      "SIGNALS\n",
      "       When  the SIGHUP is received, the Cron daemon will close and reopen its\n",
      "       log file.  This proves to be useful in scripts which rotate and age log\n",
      "       files.   Naturally,  this is not relevant if Cron was built to use sys‐\n",
      "       log(3).\n",
      "\n",
      "CLUSTERING SUPPORT\n",
      "       In this version of Cron it is possible to use a network-mounted  shared\n",
      "       /var/spool/cron  across a cluster of hosts and specify that only one of\n",
      "       the hosts should run the crontab jobs in  this  directory  at  any  one\n",
      "       time.   This  is done by starting Cron with the -c option, and have the\n",
      "       /var/spool/cron/.cron.hostname file contain just one line, which repre‐\n",
      "       sents  the  hostname  of  whichever  host in the cluster should run the\n",
      "       jobs.  If this file does not exist, or the  hostname  in  it  does  not\n",
      "       match  that  returned by gethostname(2), then all crontab files in this\n",
      "       directory are ignored.  This has no effect on cron  jobs  specified  in\n",
      "       the  /etc/crontab file or on files in the /etc/cron.d directory.  These\n",
      "       files are always run and considered host-specific.\n",
      "\n",
      "       Rather than editing /var/spool/cron/.cron.hostname directly, use the -n\n",
      "       option of crontab(1) to specify the host.\n",
      "\n",
      "       You should ensure that all hosts in a cluster, and the file server from\n",
      "       which they mount the shared crontab directory,  have  closely  synchro‐\n",
      "       nised  clocks,  e.g., using ntpd(8), otherwise the results will be very\n",
      "       unpredictable.\n",
      "\n",
      "       Using cluster sharing automatically disables inotify  support,  because\n",
      "       inotify cannot be relied on with network-mounted shared file systems.\n",
      "\n",
      "CAVEATS\n",
      "       All  crontab  files  have  to  be  regular files or symlinks to regular\n",
      "       files, they must not be executable or writable for anyone else but  the\n",
      "       owner.   This  requirement  can be overridden by using the -p option on\n",
      "       the crond command line.  If inotify support is in use, changes  in  the\n",
      "       symlinked  crontabs  are  not automatically noticed by the cron daemon.\n",
      "       The cron daemon must receive a SIGHUP signal to  reload  the  crontabs.\n",
      "       This is a limitation of the inotify API.\n",
      "\n",
      "       The  syslog  output  will be used instead of mail, when sendmail is not\n",
      "       installed.\n",
      "\n",
      "SEE ALSO\n",
      "       crontab(1), crontab(5), inotify(7), pam(8)\n",
      "\n",
      "AUTHOR\n",
      "       Paul Vixie ⟨vixie@isc.org⟩\n",
      "       Marcela Mašláňová ⟨mmaslano@redhat.com⟩\n",
      "       Colin Dean ⟨colin@colin-dean.org⟩\n",
      "\n",
      "\n",
      "\n",
      "cronie                            2013-09-26                           CRON(8)\n"
     ]
    }
   ],
   "source": [
    "man cron"
   ]
  },
  {
   "cell_type": "code",
   "execution_count": null,
   "metadata": {},
   "outputs": [],
   "source": [
    "* * * * * commando(s)\n",
    "- - - - -\n",
    "| | | | |\n",
    "| | | | ----- Día de la semana (0 - 7) (Sunday=0 or 7)\n",
    "| | | ------- Month (1 - 12)\n",
    "| | --------- Day of month (1 - 31)\n",
    "| ----------- Hour (0 - 23)\n",
    "------------- Minute (0 - 59)"
   ]
  },
  {
   "cell_type": "code",
   "execution_count": null,
   "metadata": {},
   "outputs": [],
   "source": [
    "man crontab"
   ]
  },
  {
   "cell_type": "code",
   "execution_count": null,
   "metadata": {},
   "outputs": [],
   "source": []
  },
  {
   "cell_type": "markdown",
   "metadata": {
    "collapsed": true
   },
   "source": [
    "<p style=\"text-align: center\"><a rel=\"license\" href=\"http://creativecommons.org/licenses/by/4.0/\"><img alt=\"Licencia Creative Commons\" style=\"border-width:0\" src=\"https://i.creativecommons.org/l/by/4.0/80x15.png\" /></a><br />Esta obra está bajo una <a rel=\"license\" href=\"http://creativecommons.org/licenses/by/4.0/\">Licencia Creative Commons Atribución 4.0 Internacional</a>.</p>\n",
    "<p style=\"text-align: center\">&copy; José Luis Chiquete Valdivieso. 2019.</p>"
   ]
  }
 ],
 "metadata": {
  "kernelspec": {
   "display_name": "Bash",
   "language": "bash",
   "name": "bash"
  },
  "language_info": {
   "codemirror_mode": "shell",
   "file_extension": ".sh",
   "mimetype": "text/x-sh",
   "name": "bash"
  }
 },
 "nbformat": 4,
 "nbformat_minor": 2
}
