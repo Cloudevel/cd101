{
 "cells": [
  {
   "cell_type": "markdown",
   "metadata": {},
   "source": [
    "[![imagenes](img/cloudevel.png)](https://cloudevel.com)"
   ]
  },
  {
   "cell_type": "markdown",
   "metadata": {},
   "source": [
    "# Introducción a redes."
   ]
  },
  {
   "cell_type": "markdown",
   "metadata": {},
   "source": [
    "## Breve introducción a Internet.\n",
    "\n",
    "Internet es una red de comunicaciones global basada en [la familia de protocolos de internet](https://es.wikipedia.org/wiki/Familia_de_protocolos_de_internet), también conocida como el conjunto de protocolos *TCP/IP*. A través de Internet y sus diversos protocolos es posible acceder a servicios tan diversos como:\n",
    "\n",
    "* Correo electrónico.\n",
    "* Mensajería instantánea y chats.\n",
    "* Comercio electrónico.\n",
    "* Telefonia.\n",
    "* Transmisión de audio y video.\n",
    "* Acceso a la web.\n",
    "\n",
    "Los protocolos *TPC/IP* fueron desarrollados inicialmente por [Vinton Cerf](https://es.wikipedia.org/wiki/Vinton_Cerf) y [Robert Kahn](https://es.wikipedia.org/wiki/Robert_Kahn) en la década de 1970 para el proyecto [ARPANET](https://es.wikipedia.org/wiki/ARPANET), el cual posteriormente evolucionó en Internet.\n",
    "\n",
    "\n",
    "**Nota:** En este capítulo se mencionarán brevemente los protocolos [*IP*](https://es.wikipedia.org/wiki/Protocolo_de_internet), [*DNS*](https://es.wikipedia.org/wiki/Sistema_de_nombres_de_dominio), [*SSL/TLS*](https://es.wikipedia.org/wiki/Transport_Layer_Security) y [*HTTPS*](https://es.wikipedia.org/wiki/Protocolo_seguro_de_transferencia_de_hipertexto), mientras que el protocolo [*HTTP*](https://es.wikipedia.org/wiki/Protocolo_de_transferencia_de_hipertexto) será el tema central del curso."
   ]
  },
  {
   "cell_type": "markdown",
   "metadata": {},
   "source": [
    "### El modelo *OSI*.\n",
    "\n",
    "El [modelo *OSI*](https://es.wikipedia.org/wiki/Modelo_OSI), por las siglas en inglés de \"modelo de interconexión de sistemas abiertos\" correspondiente al estándar *ISO/IEC 7498-1* es un modelo de referencia que facilita la comunicación e interacción entre diversos componentes de una red de comunicaciones de datos.\n",
    "\n",
    "El modelo *OSI* consta de 7 capas:\n",
    "\n",
    "1. Capa física.\n",
    "* Capa de enlace.\n",
    "* Capa de red.\n",
    "* Capa de transporte.\n",
    "* Capa de sesión.\n",
    "* Capa de presentación.\n",
    "* Capa de aplicación.\n",
    "\n",
    "Cada uno de los protocolos de la familia *TCP/IP* es implementado en alguna de estas capas.\n",
    "\n",
    "Para mayor referencia sobre los protocolos *TCP/IP* y su implementación en las capas del modelo *OSI* es posible consultar la siguiente liga.\n",
    "\n",
    "https://en.wikipedia.org/wiki/List_of_network_protocols_(OSI_model)"
   ]
  },
  {
   "cell_type": "markdown",
   "metadata": {},
   "source": [
    "## Localizadores Uniformes de Recursos (*URL*).\n",
    "\n",
    "Es posible acceder a un recurso disponble en Internet mediante los \"Localizadores Uniformes de Recursos, o *URL* por sus siglas en inglés. \n"
   ]
  },
  {
   "cell_type": "markdown",
   "metadata": {},
   "source": [
    "### Estructura de una *URL*.\n",
    "\n",
    "Una *URL* presenta la siguiente estructura general: \n",
    "\n",
    "Para un recurso que requiere de autenticación:\n",
    " \n",
    "```\n",
    "<esquema>://<usuario>:<contraseña>@<anfitrión>:<puerto>/<ruta>?<consultas>\n",
    "```\n",
    "\n",
    "Para un recurso que no requiere de autenticación:\n",
    " \n",
    "```\n",
    "<esquema>://<anfitrión>:<puerto>/<ruta>?<consultas>\n",
    "```\n",
    "\n",
    "Donde:\n",
    "\n",
    "* ```<esquema>``` es el protocolo o medio que se utilizará para acceder a un recurso.\n",
    "    * Para *HTTP* se indica ```http```.\n",
    "    * Para *HTTPS* se indica ```https```.\n",
    "* ```<usuario>``` es el nombre del usuario con el que se accederá al recurso en el caso de que el acceso requiera de autenticación.\n",
    "* ```<contraseña>```es la contraseña del usuario con el que se accederá al recurso en el caso de que el acceso requiera de autenticación.\n",
    "* ```<anfitrión>``` indica la dirección en la que se encuentra el sistema anfitrión (host) al que se quiere acceder.\n",
    "* ```<puerto>``` es el puerto en el que el servicio está habilitado.\n",
    "    * *HTTP* utiliza el puerto ```80``` por defecto.\n",
    "    * *HTTPS* utiliza el puerto ```443``` por defecto.\n",
    "* ```<ruta>``` es la ruta donde se encuentra localizado el recurso dentro del servidor.\n",
    "* ```<consulta>``` es una sucesión de parámtestros que pueden ser procesados por el sistema anfitrión."
   ]
  },
  {
   "cell_type": "markdown",
   "metadata": {},
   "source": [
    "### Estructura de una consulta (query).\n",
    "\n",
    "Las consultas son una sucesión de parámetros ```<nombre>=<valor>``` separados por el caracter ```&``` de la siguiente forma:\n",
    "\n",
    "```\n",
    "<nombre 1>=<valor 1>&<nombre 2>=<valor 2>&...&<nombre n>=<valor m>\n",
    "```\n",
    "\n",
    "Los parámetros no se utilizan para localizar un recurso. Los parámetros datos que pueden ser procesados por el sistema anfitrión."
   ]
  },
  {
   "cell_type": "markdown",
   "metadata": {},
   "source": [
    "**Ejemplo:**\n",
    "\n",
    "* La siguiente *URL* realizará lo siguiente:\n",
    "    * Realizará una conexión *HTTPS* en el puerto 443 con el sistema anfitrión localizado en ```www.google.com```.\n",
    "    * buscará al recurso localizado en la ruta ```search```.\n",
    "    * Enviará el parámetro ```q=pythonista```.\n",
    "\n",
    "https://www.google.com/search?q=pythonista\n",
    "\n",
    "Al ingresar la *URL* desde un navegador, el resultado será la búsqueda del término ```pythonista``` en Google.\n",
    "\n",
    "<img src=\"img/20/google_py.png\" width=\"500\">"
   ]
  },
  {
   "cell_type": "markdown",
   "metadata": {},
   "source": [
    "## Acceso a un anfitrión (host).\n",
    "\n",
    "Los sistemas anfitriones son equipos o sistemas de cómputo los cuales están distribuídos por todo el mundo y cuyos servicios pueden ser accedidos de dos maneras:\n",
    "\n",
    "* Mediante su dirección *IP*.\n",
    "* Mediante su nombre de dominio."
   ]
  },
  {
   "cell_type": "markdown",
   "metadata": {},
   "source": [
    "### Direcciones *IP*.\n",
    "\n",
    "Una [dirección *IP*](https://es.wikipedia.org/wiki/Direcci%C3%B3n_IP) es un número único que identifica a un nodo de red de un servidor específico. Un servidor puede tener más de un nodo de red, por lo que cada nodo tendría una direccion *IP* diferente y única.\n",
    "\n",
    "La \"Internet Asigned Numbres Authority\" ([*IANA*](https://www.iana.org/)) es la organización encargada de asignar y distribuir los segmentos de direcciones *IP* a las diversas organizaciones privadas y gubernamentales."
   ]
  },
  {
   "cell_type": "markdown",
   "metadata": {},
   "source": [
    "#### Direcciones *IP* versión 4 (*IPv4*).\n",
    "\n",
    "La especificación de los identificadores *IPv4* fue definida por la \"Internet Engineering Task Force\" ([*IETF*](https://ietf.org/about/)) en el [*RFC 6864*](https://tools.ietf.org/html/rfc6864).\n",
    "\n",
    "Las direcciones *IPv4* son las de uso más común. Corresponden a un número de 32 bits expresado por 4 segmentos de números que van de ```0``` a ```255``` (8 bits) separados por un punto ```.```.\n",
    "\n",
    "\n",
    "**Ejemplo:**\n",
    "\n",
    "La dirección *IPv4* donde se encuentra el servidor de Pythonista® es ```142.4.217.131```.\n",
    "\n",
    "Debido al auge de Internet, a partir del año 2011 la reserva de direcciones *IPv4* se ha agotado. Sin embargo, aún cuando las reservas están agotadas, todavía es posible reutilizar y administrar las direcciones *IPv4* existentes."
   ]
  },
  {
   "cell_type": "markdown",
   "metadata": {},
   "source": [
    "#### Direcciones *IP* versión 6 (*IPv6*).\n",
    "\n",
    "A partir de la necesidad de contar con un mayor número de direcciones *IP* disponibles, fue publicada la especificación de los identificadores *IPv6*, la cual fue definida en el [*RFC 3513*](https://tools.ietf.org/html/rfc3513).\n",
    "\n",
    "Las direcciones *IPv6* son un número de 128 bits expresado por 8 segmentos de números hexadecimales que van de ```0``` a ```FFFF``` (```65535```), separados por dos puntos ```:```. Los valores iguales a ```0``` pueden ser omitidos.\n",
    "\n",
    "**Ejemplo:**\n",
    "\n",
    "La dirección *IPv6* donde se encuentra el servidor de Pythonista® es ```fe80::a6bf:1ff:fe08:aee4```."
   ]
  },
  {
   "cell_type": "markdown",
   "metadata": {},
   "source": [
    "### Las \"intranets\" y los rangos de direcciones *IP* privados..\n",
    "\n",
    "Una intranet es una red privada basada en el conjunto de protocolos *TCP/IP*, en la que a cada interfaz de red de los sistemas locales se le asigna una dirección *IP* en un rango privado y sólo es posible acceder a Internet por medio de un [ruteador](https://es.wikipedia.org/wiki/Router).\n",
    "\n",
    "Los rangos de direcciones *IP* privados son un conjunto de direcciones que pueden ser asignados a una intranet sin que existan colisiones con las direcciones *IP* públicas.\n",
    "\n",
    "Los segmentos de red para direcciones *IP* privadas son:\n",
    "\n",
    "* De ```10.0.0.0``` a ```10.255.255.255```.\n",
    "* De ```172.16.0.0``` a ```172.31.255.255```.\n",
    "* De ```192.168.0.0``` a ```192.168.255.255```.\n"
   ]
  },
  {
   "cell_type": "markdown",
   "metadata": {},
   "source": [
    "### *DNS*, dominios y subdominios.\n",
    "\n",
    "Aún cuando las direcciones *IP* pueden identificar con precisión a un host, no son fáciles de memorizar por parte de los seres humanos. Es  por ello que fueron creados los \"nombres de dominio\" y el \"sistema de nombres de dominio\" o [*DNS*](https://es.wikipedia.org/wiki/Sistema_de_nombres_de_dominio) por sus siglas en inglés.\n",
    "\n",
    "La \"Corporación de Internet para la Asignación de Nombres y Números\" o [*ICANN*](\n",
    "https://www.icann.org/) por sus siglas en  inglés, es la organización encargada en definir y asignar y distribuir los nombres de dominos válidos de Internet.\n",
    "\n",
    "Gracias al *DNS* es posible relacionar uno o más nombres de dominio a una dirección *IP* utilizando una estructura como la siguiente.\n",
    "\n",
    "```\n",
    "<subdominio>.<nombre de dominio>\n",
    "```\n",
    "\n",
    "Donde:\n",
    "\n",
    "* ```<nombre de dominio>``` es un nombre de domino válido que apunta a una dirección IP.\n",
    "* ```<subdominio>``` es una extensión del nombre de dominio que puede apuntar a una dirección *IP* distinta a la del dominio. Los subdominios permiten ofrecer servicios diferenciados dentro de un mismo dominio. \n",
    "\n",
    "**Ejemplos:**\n",
    "\n",
    "* ```google.com``` es el dominio propiedad de la empresa Google.\n",
    "* ```www.google.com``` apunta al servicio de búsqueda de Google.\n",
    "* ```docs.google.com``` apunta al servicio de gestión de documentos de Google.\n",
    "* ```mail.google.com``` apunta al servicio de correo electrónico de Google.\n",
    "\n",
    "Los nombres de dominio pueden ser adquiridos mediante un \"registrar\" autorizado por *ICANN*, el cual por lo general también ofrece servicios de *DNS*.\n",
    "\n",
    "Una vez adquirido un dominio es posible definir cualquier número de subdominios relacionados mediante el proveedor de servicios *DNS*."
   ]
  },
  {
   "cell_type": "markdown",
   "metadata": {},
   "source": [
    "#### Dominios de nivel superior (*TLD*).\n",
    "\n",
    "Un nombre de dominio se compone de un nombre y un \"dominio de nivel superior\" o [*TLD*](https://en.wikipedia.org/wiki/Top-level_domain), por sus siglas en inglés,  de la siguiente forma.\n",
    "```\n",
    "<nombre>.<TLD>\n",
    "```\n",
    "\n",
    "Los TLD se utilizan primordialmente para:\n",
    "* Definir la actividad de una organilzación, como es el caso de:\n",
    "    * ```.com``` para organizaciones comerciales.\n",
    "    * ```.edu``` para organizaciones educativas. \n",
    "    * ```.net``` para organizaciones especializadas en comunicaciones de red. \n",
    "    * ```.org``` para organizaciones sin fines de lucro.\n",
    "    * ```.mil``` para organizaciones militares. \n",
    "* Definir la región o país al que pertence la organización, como es el caso de:\n",
    "    * ```.mx``` para México.\n",
    "    * ```.es``` para España.\n",
    "    * ```.io``` para la región del Oceano Índico.\n",
    "    * ```.lat``` para Latinoamérica.\n",
    "* Definir el tipo de servicio que se ofrece, como es el caso de:\n",
    "    * ```.info``` para servicios de información.\n",
    "    * ```.xxx``` para servicios de entretenimiento para adultos.\n",
    "    * ```mobi``` para aplicaciones móviles.\n",
    "\n",
    "La gestión de cada *TLD* puede ser asignada a una organización en particular, la cual fija las reglas para poder adquirir un dominio con dicho *TLD*.\n",
    "\n",
    "Los *TLD* pueden combinarse de tal forma que describan una actividad en una región.\n",
    "\n",
    "**Ejemplos:**\n",
    "\n",
    "* ```google.com``` es el dominio primario de Google.\n",
    "* ```google.com.mx``` es el dominio de Google para México.\n",
    "* ```google.com.es``` es el dominio de Google para España."
   ]
  },
  {
   "cell_type": "markdown",
   "metadata": {},
   "source": [
    "### *localhost*.\n",
    "\n",
    "Es común que al desarrollar una aplicación web o diseñar un sitio web se haga desde una máquina de escritorio la cual ofrecería un servicio web local para consulta interna.\n",
    "\n",
    "En la mayoría de los sistemas, el nombre ```localhost``` permite conectarse a un servicio que corre en el mismo equipo sin necesidad de contar con una interfaz de red. Este nombre por lo general está relacionado con la dirección *IP* ```127.0.0.1```.\n",
    "\n",
    "Por seguridad, muchas herramientas de desarrollo de aplicaciones web están configuradas por defecto para conectarse exclusivamente a ```localhost```.\n",
    "\n",
    "**Ejemplo:**\n",
    "\n",
    "En caso de estar viendo este contenido desde una notebook de Jupyter corriendo desde un equipo propio, es muy probable que el navegador apunte a ```localhost:8888```."
   ]
  },
  {
   "cell_type": "markdown",
   "metadata": {},
   "source": [
    "## El protocolo *NAT*.\n",
    "\n",
    "El protocolo de \"Traducción de direcciones de red\", o [*NAT*](https://es.wikipedia.org/wiki/Traducci%C3%B3n_de_direcciones_de_red) permite crear una interfaz que puede enrutar los mensajes entre una red local con Internet, de tal foma que los paquetes de datos lleguen a su destino de forma transparente para el cliente y el servidor."
   ]
  },
  {
   "cell_type": "markdown",
   "metadata": {},
   "source": [
    "## El protocolo *DHCP*.\n",
    "\n",
    "El protocolo de configuración dinámica de anfitriones, o  [*DHCP*](https://es.wikipedia.org/wiki/Protocolo_de_configuraci%C3%B3n_din%C3%A1mica_de_host) es un protocolo que le permite a un servidor local asignar las direcciones *IP* a las diversas interfaces de una red local, así como configurar las rutas de los servidores *DNS* de la red."
   ]
  },
  {
   "cell_type": "markdown",
   "metadata": {},
   "source": [
    "## Dispositivos.\n",
    "\n",
    "* Concentrador o [*hub*](https://es.wikipedia.org/wiki/Concentrador) es un dispositivo al que se conectan físicamente los cables de una red.\n",
    "* Puente o [*bridge*](https://es.wikipedia.org/wiki/Puente_de_red) es un equipo que permite transmitir paquetes entre diversos segmentos de red.\n",
    "* Ruteador o [*router*](https://es.wikipedia.org/wiki/Router) es un dispositivo que permite dirgir  los paquetes de datos entre redes.\n",
    "* Pasarela de enlace o [*gateway*](https://es.wikipedia.org/wiki/Puerta_de_enlace) es un dispositivo que puede realizar las operaciones relacionadas con los protocolos *NAT*, *DHCP* e incluso enrutado de paquetes.\n",
    "* Cortafuegos o [*firewall*](https://es.wikipedia.org/wiki/Cortafuegos_(inform%C3%A1tica)) es un dispositivo de seguridad que permite filtrar las comunicaciones dentro de una red a partir de ciertas reglas.\n",
    "\n",
    "**Nota:** La operación de cada uno de estos dispositivos puede ser realizada por un equipo basado en *GNU/Linux* y también pueden ser virtualizados."
   ]
  },
  {
   "cell_type": "markdown",
   "metadata": {},
   "source": [
    "## Archivos de configuración en *GNU/Linux*.\n",
    "\n",
    "Estos archivos permiten realizar modificaciones básicas al sistema que permiten:\n",
    "\n",
    "* Identificar al equipo.\n",
    "* Habilitar las redes de comunicación. "
   ]
  },
  {
   "cell_type": "markdown",
   "metadata": {},
   "source": [
    "### El archivo ```/etc/hostname```.\n",
    "\n",
    "Este archivo contiene el nombre del *host* o *anfitirón*."
   ]
  },
  {
   "cell_type": "markdown",
   "metadata": {},
   "source": [
    "* La siguiente celda mostrará el contenido del archivo ```/etc/hostname```."
   ]
  },
  {
   "cell_type": "code",
   "execution_count": null,
   "metadata": {},
   "outputs": [],
   "source": [
    "cat /etc/hostname"
   ]
  },
  {
   "cell_type": "markdown",
   "metadata": {},
   "source": [
    "### El archivo ```/etc/hosts```.\n",
    "\n",
    "Este archivo identifica a otros equipos dentro del dominio por medio de su nombre o por su dirección *IP*.\n",
    "\n",
    "El nombre ```localhost``` siempre se va a referir al equipo local y por lo general la direccion *IP* corresponde a ```127.0.0.1```."
   ]
  },
  {
   "cell_type": "markdown",
   "metadata": {},
   "source": [
    "* La siguiente celda mostrará el contenido del archivo ```/etc/hosts```."
   ]
  },
  {
   "cell_type": "code",
   "execution_count": null,
   "metadata": {},
   "outputs": [],
   "source": [
    "cat /etc/hosts"
   ]
  },
  {
   "cell_type": "markdown",
   "metadata": {},
   "source": [
    "### El archivo ```etc/resolv.conf```.\n",
    "\n",
    "Este archivo contiene las configuraciones de los servidores *DNS* a los que consulta el *host* local."
   ]
  },
  {
   "cell_type": "markdown",
   "metadata": {},
   "source": [
    "* La siguiente celda mostrará el contenido del archivo ```/etc/resolv.conf```."
   ]
  },
  {
   "cell_type": "code",
   "execution_count": null,
   "metadata": {},
   "outputs": [],
   "source": [
    "cat /etc/resolv.conf"
   ]
  },
  {
   "cell_type": "markdown",
   "metadata": {},
   "source": [
    "## Interfaces de red.\n",
    "\n",
    "Una interfaz de red o *NIC* es un dispositivo físico o virtual capaz de conectarse a una red."
   ]
  },
  {
   "cell_type": "markdown",
   "metadata": {},
   "source": [
    "### Los scripts de configuración de interfaces de red.\n",
    "\n",
    "Es importante saber que en las distribuciones de *GNU/Linux* más modernas, la configuración de las *NIC* son automáticas. \n",
    "\n",
    "* Los scripts de configuracion de distribuciones basadas en *Red Hat* se encuentran en ```/etc/sysconfig/network-scripts/```.\n",
    "\n",
    "* Los scripts de configuracion de distribuciones basadas en *Debian* se encuentran en ```/etc/network/```."
   ]
  },
  {
   "cell_type": "markdown",
   "metadata": {},
   "source": [
    "**Ejemplo:**"
   ]
  },
  {
   "cell_type": "markdown",
   "metadata": {},
   "source": [
    "* Las siguiente celda mostrará la estrutctura de ```/etc/network```.\n",
    "\n",
    "**Nota:** Estas celdas solo aplican a sistemas basados en *Debian* y *Ubuntu*."
   ]
  },
  {
   "cell_type": "code",
   "execution_count": null,
   "metadata": {
    "scrolled": true
   },
   "outputs": [],
   "source": [
    "tree /etc/network"
   ]
  },
  {
   "cell_type": "markdown",
   "metadata": {},
   "source": [
    "### El comando ```ip```.\n",
    "\n",
    "Este comando realiza las siguientes operaciones para las interfaces de red de un sistema:\n",
    "\n",
    "* Crear.\n",
    "* Configurar.\n",
    "* Monitorear.\n",
    "\n",
    "```\n",
    "ip <interfaz> <argumentos> <opciones>\n",
    "```\n",
    "\n",
    "Donde:\n",
    "\n",
    "* ```<interfaz>``` es el nombre de una *NIC*.\n",
    "\n",
    "\n",
    "El argumento ```a``` despliega la información de todos los *NIC*.\n",
    "\n",
    "Trae un listado de todos los NIC del sistema con sus configuraciones.\n",
    "\n",
    "La *NIC* con nombre ```lo``` ni es una interfaz de red física, sino un dispsitivo virtual por medio del cual es posible acceder a servicios específicos del *host*."
   ]
  },
  {
   "cell_type": "markdown",
   "metadata": {},
   "source": [
    "**Ejemplo:**"
   ]
  },
  {
   "cell_type": "markdown",
   "metadata": {},
   "source": [
    "* La siguiente celda mostrará las configuraciones de los *NIC* físicos y virtuales del sistema actual."
   ]
  },
  {
   "cell_type": "code",
   "execution_count": null,
   "metadata": {
    "scrolled": true
   },
   "outputs": [],
   "source": [
    "ip a"
   ]
  },
  {
   "cell_type": "markdown",
   "metadata": {},
   "source": [
    "#### La *man page* del comando ```ip```."
   ]
  },
  {
   "cell_type": "code",
   "execution_count": null,
   "metadata": {},
   "outputs": [],
   "source": [
    "man ip"
   ]
  },
  {
   "cell_type": "markdown",
   "metadata": {},
   "source": [
    "## Los *sockets* de *Unix* y *GNU/Linux*.\n",
    "\n",
    "El estándar *POSIX* define medios que permiten a los procesos internos de un sistema *Unix* o *GNU/Linux* realizar comunicaciones con otros procesos del sistema mediante el uso de *sockets* pior meido de diversos puertos. \n",
    "\n",
    "Los [*sockets de dominio de UNIX*](https://en.wikipedia.org/wiki/Unix_domain_socket) son complatibles con diversos protocolos de la familia *TCP/IP*."
   ]
  },
  {
   "cell_type": "markdown",
   "metadata": {},
   "source": [
    "### El comando ```ss```.\n",
    "\n",
    "Este es un comando avanzado de monitoreo de red por medio de sockets.\n",
    "\n",
    "```\n",
    "ss <argumentos> <opciones>\n",
    "```"
   ]
  },
  {
   "cell_type": "markdown",
   "metadata": {},
   "source": [
    "**Ejemplo:**"
   ]
  },
  {
   "cell_type": "markdown",
   "metadata": {},
   "source": [
    "* La siguiente celda mostrará la información general de los sockets del sistema."
   ]
  },
  {
   "cell_type": "code",
   "execution_count": null,
   "metadata": {},
   "outputs": [],
   "source": [
    "ss -e"
   ]
  },
  {
   "cell_type": "markdown",
   "metadata": {},
   "source": [
    "#### La *man page* de ```ss```"
   ]
  },
  {
   "cell_type": "code",
   "execution_count": null,
   "metadata": {
    "scrolled": false
   },
   "outputs": [],
   "source": [
    "man ss"
   ]
  },
  {
   "cell_type": "markdown",
   "metadata": {},
   "source": [
    "### La biblioteca ```net-tools```.\n",
    "\n",
    "Esta biblioteca de comandos especializados en la gestión de redes contiene aplicaciones que se utilizan comunmente en sistemas *UNIX*. Sin embargo, las versiones más actuales del kernel de *Linux* han hecho incompatibles algunas funcionalidades de dicha biblioteca. \n",
    "\n",
    "* ```ifconfig```.\n",
    "*  ```netstat```.\n",
    "*  ```arp```.\n",
    "* ```route```.\n",
    "\n",
    "Es posible consultar una *cheat sheet* de comandos tanto de ```ip```como de ```ss``` equiparables a los comandos más comunes que previamente se realizaban con la biblioteca ```net-tools```.\n",
    "\n",
    "https://access.redhat.com/sites/default/files/attachments/rh_ip_command_cheatsheet_1214_jcs_print.pdf\n",
    "\n",
    "**Nota:** Algunas distribuciones de *GNU/Linux* aún incluyen esta biblioteca."
   ]
  },
  {
   "cell_type": "markdown",
   "metadata": {},
   "source": [
    "<p style=\"text-align: center\"><a rel=\"license\" href=\"http://creativecommons.org/licenses/by/4.0/\"><img alt=\"Licencia Creative Commons\" style=\"border-width:0\" src=\"https://i.creativecommons.org/l/by/4.0/80x15.png\" /></a><br />Esta obra está bajo una <a rel=\"license\" href=\"http://creativecommons.org/licenses/by/4.0/\">Licencia Creative Commons Atribución 4.0 Internacional</a>.</p>\n",
    "<p style=\"text-align: center\">&copy; José Luis Chiquete Valdivieso. 2020.</p>"
   ]
  }
 ],
 "metadata": {
  "kernelspec": {
   "display_name": "Bash",
   "language": "bash",
   "name": "bash"
  },
  "language_info": {
   "codemirror_mode": "shell",
   "file_extension": ".sh",
   "mimetype": "text/x-sh",
   "name": "bash"
  }
 },
 "nbformat": 4,
 "nbformat_minor": 2
}
