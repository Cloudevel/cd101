{
 "cells": [
  {
   "cell_type": "markdown",
   "metadata": {},
   "source": [
    "[![cloudevel](Imagenes/cloudevel.png)](https://cloudevel.com)"
   ]
  },
  {
   "cell_type": "markdown",
   "metadata": {},
   "source": [
    "Al existir tantas distribuciones basadsas en la plataforma GNU/Linux, el tema de la distribución e instalación de paquetes de software se volvió un tema muy complejo.\n",
    "\n",
    "La problemática aumenta en vista de que en la gran mayoría de los casos, un paquete de software requiere de una biblioteca de paquetes adicionales. El cálculo de las dependencias de un paquete fue durante mucho tiempo un gran obstáculo para la adopción de la plataforma."
   ]
  },
  {
   "cell_type": "markdown",
   "metadata": {},
   "source": [
    "## Compilación del código fuente.\n",
    "\n",
    "La gran ventaja del software publicado bajo los términos de una licencia de software libre, es que se tiene acceso al código fuente de dicho software y dependiendo del lenguaje de programación en el que se encuentren codificados es posible crear archivos binarios que se ajusten a una paltaforma específica.\n",
    "\n",
    "Aún cuando esta forma de distribuir el software es muy poderosa, resulta muy complicada incluso para programadores y administradores de sistemas experimentados.\n",
    "\n",
    "### Pasos generales.\n",
    "\n",
    "Por lo general, la forma en la que se compila el software es la siguiente:\n",
    "\n",
    "* Configuración.\n",
    "* Compilación.\n",
    "* Instalación.\n",
    "\n",
    "### Scripts de instalación.\n",
    "\n",
    "Muchos desarrolladores han optado por incluir junto con el código fuente, guiones (scprits) escritos en lenguajes interpretados como Bash, Python, Perl, etc. los cuales automatizan la configuración y complilación del software que publica.\n",
    "\n",
    "\n",
    "### Los archivos *README* e *INSTALL*.\n",
    "\n",
    "En la mayoría de los casos, los desarroladores incluyen archivos llamados *README* e *INSTALL* con diversas extensiones, los cual contienen los detalles e instrucciones de configuración, compilación e instalación del software que han publicado."
   ]
  },
  {
   "cell_type": "markdown",
   "metadata": {},
   "source": [
    "## Empaquetado y compresión de estructuras de archivos.\n",
    "\n",
    "Por lo general, el software es publicado en *paquetes* que contienen estructuras de archivos y directorios, los cuales se utilizan para faciliatar la descarga e instalación de dicho software."
   ]
  },
  {
   "cell_type": "markdown",
   "metadata": {},
   "source": [
    "### El comando ```tar```.\n",
    "\n",
    "El comando ```tar``` es la herramienta más utilizada para empacar, comprimir y extraer archivos de las plataformas UNIX y GNU/Linux.\n",
    "\n",
    "A los archivos creados con ```tar``` se les conoce como *tarballs*, cuya traducción es *bolas de alquitrán*, en vista de quedichos archivos aglutinan a otros archivos. \n",
    "\n",
    "La sintaxis básica es la siguiente, pero cambia dependiendo de las opciones que se le añaden como argumentos.\n",
    "\n",
    "```\n",
    "tar <argumentos>\n",
    "```\n",
    "\n",
    "Las opciones básicas de ```tar``` son:\n",
    "* ```-f``` o ```--flie=<archivo>``` \n",
    "* ```-c``` o ```--create```\n",
    "* ```-x``` o ```--extract``` o ```--get```\n",
    "* ```-t``` o ```--list```\n",
    "* ```-v``` o ```--verbose```\n",
    "* ```-p``` o ```--preserve-permissions```\n",
    "* ```-u``` o ```--update```\n",
    "* ```-A``` o ```--catenate```\n",
    "* ```-r``` o ```--append``\n",
    "* ```-d``` o ```--diff```"
   ]
  },
  {
   "cell_type": "code",
   "execution_count": null,
   "metadata": {},
   "outputs": [],
   "source": [
    "man tar"
   ]
  },
  {
   "cell_type": "markdown",
   "metadata": {},
   "source": [
    "###  ```gzip``` y ```gunzip```."
   ]
  },
  {
   "cell_type": "markdown",
   "metadata": {},
   "source": [
    " Opción ```-z```"
   ]
  },
  {
   "cell_type": "code",
   "execution_count": null,
   "metadata": {},
   "outputs": [],
   "source": [
    "man gzip"
   ]
  },
  {
   "cell_type": "markdown",
   "metadata": {},
   "source": [
    "### ```bzip2``` y ```bunzip2```."
   ]
  },
  {
   "cell_type": "markdown",
   "metadata": {},
   "source": [
    "Opción ```-j```"
   ]
  },
  {
   "cell_type": "code",
   "execution_count": null,
   "metadata": {},
   "outputs": [],
   "source": [
    "man bzip2"
   ]
  },
  {
   "cell_type": "markdown",
   "metadata": {},
   "source": [
    "\n",
    "### Los formatos *zip* y *rar*.\n",
    "\n",
    "#### ```zip``` y ```unzip```."
   ]
  },
  {
   "cell_type": "markdown",
   "metadata": {},
   "source": [
    "## Verificación de autenticidad."
   ]
  },
  {
   "cell_type": "markdown",
   "metadata": {},
   "source": [
    "### ```shasum```."
   ]
  },
  {
   "cell_type": "markdown",
   "metadata": {},
   "source": [
    "### ```md5sum```."
   ]
  },
  {
   "cell_type": "markdown",
   "metadata": {},
   "source": [
    "## Instalación de software."
   ]
  },
  {
   "cell_type": "markdown",
   "metadata": {},
   "source": [
    "## Sistemas de paquetes."
   ]
  },
  {
   "cell_type": "markdown",
   "metadata": {},
   "source": [
    "## Gestión de paquetes basados en archivos *.rpm*."
   ]
  },
  {
   "cell_type": "markdown",
   "metadata": {},
   "source": [
    "### ```rpm```"
   ]
  },
  {
   "cell_type": "markdown",
   "metadata": {},
   "source": [
    "### ```yum```"
   ]
  },
  {
   "cell_type": "markdown",
   "metadata": {},
   "source": [
    "### ```dnf```."
   ]
  },
  {
   "cell_type": "markdown",
   "metadata": {},
   "source": [
    "## Sistemas basados en archivos *.deb*."
   ]
  },
  {
   "cell_type": "markdown",
   "metadata": {},
   "source": [
    "### ```dpkg```."
   ]
  },
  {
   "cell_type": "markdown",
   "metadata": {},
   "source": [
    "### ```apt```."
   ]
  },
  {
   "cell_type": "markdown",
   "metadata": {},
   "source": [
    "## Otros formatos."
   ]
  },
  {
   "cell_type": "markdown",
   "metadata": {
    "collapsed": true
   },
   "source": [
    "<p style=\"text-align: center\"><a rel=\"license\" href=\"http://creativecommons.org/licenses/by/4.0/\"><img alt=\"Licencia Creative Commons\" style=\"border-width:0\" src=\"https://i.creativecommons.org/l/by/4.0/80x15.png\" /></a><br />Esta obra está bajo una <a rel=\"license\" href=\"http://creativecommons.org/licenses/by/4.0/\">Licencia Creative Commons Atribución 4.0 Internacional</a>.</p>\n",
    "<p style=\"text-align: center\">&copy; José Luis Chiquete Valdivieso. 2019.</p>"
   ]
  }
 ],
 "metadata": {
  "kernelspec": {
   "display_name": "Bash",
   "language": "bash",
   "name": "bash"
  },
  "language_info": {
   "codemirror_mode": "shell",
   "file_extension": ".sh",
   "mimetype": "text/x-sh",
   "name": "bash"
  }
 },
 "nbformat": 4,
 "nbformat_minor": 2
}
