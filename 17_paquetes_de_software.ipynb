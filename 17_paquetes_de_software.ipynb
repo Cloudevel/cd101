{
 "cells": [
  {
   "cell_type": "markdown",
   "metadata": {},
   "source": [
    "[![cloudevel](Imagenes/cloudevel.png)](https://cloudevel.com)"
   ]
  },
  {
   "cell_type": "markdown",
   "metadata": {},
   "source": [
    "Al existir tantas distribuciones basadsas en la plataforma GNU/Linux, el tema de la distribución e instalación de paquetes de software se volvió un tema muy complejo.\n",
    "\n",
    "La problemática aumenta en vista de que en la gran mayoría de los casos, un paquete de software requiere de una biblioteca de paquetes adicionales. El cálculo de las dependencias de un paquete fue durante mucho tiempo un gran obstáculo para la adopción de la plataforma."
   ]
  },
  {
   "cell_type": "markdown",
   "metadata": {},
   "source": [
    "## Compilación del código fuente.\n",
    "\n",
    "La gran ventaja del software publicado bajo los términos de una licencia de software libre, es que se tiene acceso al código fuente de dicho software y dependiendo del lenguaje de programación en el que se encuentren codificados es posible crear archivos binarios que se ajusten a una paltaforma específica.\n",
    "\n",
    "Aún cuando esta forma de distribuir el software es muy poderosa, resulta muy complicada incluso para programadores y administradores de sistemas experimentados.\n",
    "\n",
    "### El toolchain de GNU.\n",
    "\n",
    "https://es.wikipedia.org/wiki/GNU_toolchain\n",
    "\n",
    "### Pasos generales.\n",
    "\n",
    "Por lo general, la forma en la que se compila el software es la siguiente:\n",
    "\n",
    "* Configuración.\n",
    "* Compilación.\n",
    "* Instalación.\n",
    "\n",
    "### Scripts de instalación.\n",
    "\n",
    "Muchos desarrolladores han optado por incluir junto con el código fuente, guiones (scprits) escritos en lenguajes interpretados como Bash, Python, Perl, etc. los cuales automatizan la configuración y complilación del software que publica.\n",
    "\n",
    "\n",
    "### Los archivos *README* e *INSTALL*.\n",
    "\n",
    "En la mayoría de los casos, los desarroladores incluyen archivos llamados *README* e *INSTALL* con diversas extensiones, los cual contienen los detalles e instrucciones de configuración, compilación e instalación del software que han publicado."
   ]
  },
  {
   "cell_type": "markdown",
   "metadata": {},
   "source": [
    "## Empaquetado y compresión de estructuras de archivos.\n",
    "\n",
    "Por lo general, el software es publicado en *paquetes* que contienen estructuras de archivos y directorios, los cuales se utilizan para faciliatar la descarga e instalación de dicho software."
   ]
  },
  {
   "cell_type": "markdown",
   "metadata": {},
   "source": [
    "### El comando ```tar```.\n",
    "\n",
    "El comando ```tar``` es la herramienta más utilizada para empacar, comprimir y extraer archivos de las plataformas UNIX y GNU/Linux. Es un acrónimo de \"Tape ARchiver\".\n",
    "\n",
    "A los archivos creados con ```tar``` se les conoce como *tarballs*, cuya traducción es *bolas de alquitrán*, en vista de quedichos archivos aglutinan a otros archivos. \n",
    "\n",
    "La sintaxis básica es la siguiente, pero cambia dependiendo de las opciones que se le añaden como argumentos.\n",
    "\n",
    "```\n",
    "tar <argumentos>\n",
    "```\n",
    "\n",
    "Las opciones básicas de ```tar``` son:\n",
    "* ```-f``` o ```--file=<archivo>``` \n",
    "* ```-c``` o ```--create```\n",
    "* ```-x``` o ```--extract``` o ```--get```\n",
    "* ```-t``` o ```--list```\n",
    "* ```-v``` o ```--verbose```\n",
    "* ```-p``` o ```--preserve-permissions```\n",
    "* ```-u``` o ```--update```\n",
    "* ```-A``` o ```--catenate```\n",
    "* ```-r``` o ```--append```\n",
    "* ```-d``` o ```--diff```\n",
    "* ```-C``` o ```--directory```"
   ]
  },
  {
   "cell_type": "markdown",
   "metadata": {},
   "source": [
    "* La siguiente celda creará un archivo *datos.tar* del directorio *data*."
   ]
  },
  {
   "cell_type": "code",
   "execution_count": null,
   "metadata": {},
   "outputs": [],
   "source": [
    "tar -cf datos.tar data"
   ]
  },
  {
   "cell_type": "code",
   "execution_count": null,
   "metadata": {},
   "outputs": [],
   "source": [
    "ls *.tar"
   ]
  },
  {
   "cell_type": "code",
   "execution_count": null,
   "metadata": {},
   "outputs": [],
   "source": [
    "cp datos.tar ~/"
   ]
  },
  {
   "cell_type": "code",
   "execution_count": null,
   "metadata": {},
   "outputs": [],
   "source": [
    "ls ~/*.tar"
   ]
  },
  {
   "cell_type": "markdown",
   "metadata": {},
   "source": [
    "* La siguiente celda hará un listado de los contenidos del archivo."
   ]
  },
  {
   "cell_type": "code",
   "execution_count": null,
   "metadata": {},
   "outputs": [],
   "source": [
    "tar -tvf ~/datos.tar"
   ]
  },
  {
   "cell_type": "markdown",
   "metadata": {},
   "source": [
    "* La siguiente celda extraerá un listado de los contenidos del archivo en el directorio actual."
   ]
  },
  {
   "cell_type": "code",
   "execution_count": null,
   "metadata": {},
   "outputs": [],
   "source": [
    "mkdir datos_alternos"
   ]
  },
  {
   "cell_type": "code",
   "execution_count": null,
   "metadata": {},
   "outputs": [],
   "source": [
    "tar -xvf ~/datos.tar -C datos_alternos"
   ]
  },
  {
   "cell_type": "code",
   "execution_count": null,
   "metadata": {},
   "outputs": [],
   "source": [
    "tree datos_alternos"
   ]
  },
  {
   "cell_type": "code",
   "execution_count": null,
   "metadata": {},
   "outputs": [],
   "source": [
    "touch data/nuevo"
   ]
  },
  {
   "cell_type": "code",
   "execution_count": null,
   "metadata": {
    "scrolled": true
   },
   "outputs": [],
   "source": [
    "ls data"
   ]
  },
  {
   "cell_type": "markdown",
   "metadata": {},
   "source": [
    "* La siguiente celda actualizará el archivo con respecto al directorio."
   ]
  },
  {
   "cell_type": "code",
   "execution_count": null,
   "metadata": {},
   "outputs": [],
   "source": [
    "tar -uvf ~/datos.tar data"
   ]
  },
  {
   "cell_type": "code",
   "execution_count": null,
   "metadata": {},
   "outputs": [],
   "source": [
    "tar -tvf ~/datos.tar"
   ]
  },
  {
   "cell_type": "markdown",
   "metadata": {},
   "source": [
    "### La compresión con ```gzip``` y ```gunzip```."
   ]
  },
  {
   "cell_type": "markdown",
   "metadata": {},
   "source": [
    "https://en.wikipedia.org/wiki/Gzip"
   ]
  },
  {
   "cell_type": "markdown",
   "metadata": {},
   "source": [
    " Opción ```-z```"
   ]
  },
  {
   "cell_type": "code",
   "execution_count": null,
   "metadata": {},
   "outputs": [],
   "source": [
    "tar -cvfz datos.tar.gz data"
   ]
  },
  {
   "cell_type": "markdown",
   "metadata": {},
   "source": [
    "### La compresión ```bzip2``` y ```bunzip2```."
   ]
  },
  {
   "cell_type": "markdown",
   "metadata": {},
   "source": [
    "Opción ```-j```"
   ]
  },
  {
   "cell_type": "code",
   "execution_count": null,
   "metadata": {},
   "outputs": [],
   "source": [
    "tar -cvjf datos.tar.bz2 data"
   ]
  },
  {
   "cell_type": "code",
   "execution_count": null,
   "metadata": {},
   "outputs": [],
   "source": [
    "ls -l *.tar.*"
   ]
  },
  {
   "cell_type": "markdown",
   "metadata": {},
   "source": [
    "\n",
    "### Los formatos *zip* y *rar*.\n",
    "\n",
    "Estos formatos son sistemas basados en Windows. No son nativos de UNIX ni GNU/Linux, pero hay implementaciones.\n",
    "\n",
    "Estos comandos no funcionan con tar.\n",
    "\n",
    "#### ```zip``` y ```unzip```."
   ]
  },
  {
   "cell_type": "code",
   "execution_count": null,
   "metadata": {},
   "outputs": [],
   "source": [
    "zip datos.zip data"
   ]
  },
  {
   "cell_type": "code",
   "execution_count": null,
   "metadata": {},
   "outputs": [],
   "source": [
    "unzip datos.zip"
   ]
  },
  {
   "cell_type": "markdown",
   "metadata": {},
   "source": [
    "El formato *rar* es otro formato que ne la mayoría de los casos no viene preinistalado.\n",
    "\n",
    "```rar``` y ``unrar``"
   ]
  },
  {
   "cell_type": "markdown",
   "metadata": {},
   "source": [
    "## Verificación de autenticidad.\n",
    "\n",
    "Existen herramientas que permiten crear un *hash* -una secuencia de números única- que identifica al contenido de un archivo."
   ]
  },
  {
   "cell_type": "markdown",
   "metadata": {},
   "source": [
    "### ```sha*sum```.\n",
    "\n",
    "La familia SHA son una familia de algoritmos que permiten generar hash y son utilizadas para cifrado y autenticación."
   ]
  },
  {
   "cell_type": "code",
   "execution_count": null,
   "metadata": {},
   "outputs": [],
   "source": [
    "sha1sum *.tar*"
   ]
  },
  {
   "cell_type": "markdown",
   "metadata": {},
   "source": [
    "### ```md5sum```.\n",
    "\n",
    "Este algoritmo fue muy utuilizado en el pasado, sin enbargo ha quedado en desuso debido a que se han logrado crear colisiones en el cálculo del hash."
   ]
  },
  {
   "cell_type": "code",
   "execution_count": null,
   "metadata": {},
   "outputs": [],
   "source": [
    "md5sum *.tar*"
   ]
  },
  {
   "cell_type": "markdown",
   "metadata": {},
   "source": [
    "## Gestores de paquetes de software.\n",
    "\n",
    "### Paquetes de software antiguos.\n",
    "\n",
    "En la década de los 1990, los paquetes de software de las distribuciones de GNU/Linux eran agrupados en conjuntos de *tarballs* los cuales eran \"curados\" por los gestores de la distribución.\n",
    "\n",
    "**Ejemplo:** \n",
    "\n",
    "La distribución [Slackware Linux](https://slackware.org) aún contiene esta estructura de paquetes agrupados por nombres, tal como puede ser visto en https://mirrors.slackware.com/slackware/slackware64-14.2/slackware64\n",
    "\n",
    "\n",
    "### Sistemas de gestión de paquetes de software.\n",
    "\n",
    "Conforme fue creciendo la oferta de distribuciones de GNU/Lunux se fueron desarrollando sistemas capaces de:\n",
    "\n",
    "* Buscar e identificar paquetes de software.\n",
    "* Calcular las dependencias del paquete.\n",
    "* Descargar los paquetes ya sea como *tarballs* e incluso mediante su código fuente.\n",
    "* Instalar o compilar los paquetes, incluyendo sus dependencias.\n",
    "* Eliminar paquetes del sistema.\n",
    "* Actualizar los paquetes del sistema.\n",
    "\n"
   ]
  },
  {
   "cell_type": "markdown",
   "metadata": {},
   "source": [
    "## Repositorios.\n",
    "\n",
    "Un repositorio es un sitio local o en línea que contiene los  paquetes de software de cierta distribución.\n",
    "\n",
    "## Espejos.\n",
    "\n",
    "Un espejo es un recurso en línea que contiene uno o varios reprositoris de una distribución. Por lo general existen los repositorios oficiales y sitios espeko que son mantenidos por la comunidad.\n",
    "\n",
    "## Respositorios no oficiales.\n",
    "\n",
    "Algunas comunidades crean repsotiroios de paquetes no oficilaes. Son esfuerzos para ofrecer paquetes actualizados o my especializados para cierto tipo de software.\n",
    "\n",
    "**Ejemplo:**\n",
    "\n",
    "El siguiente es el repositorio de Google para sus productos.\n",
    "\n",
    "https://www.google.com/linuxrepositories/"
   ]
  },
  {
   "cell_type": "markdown",
   "metadata": {},
   "source": [
    "## Gestión de paquetes basados en archivos *.rpm*.\n",
    "\n",
    "RPM es el acrónimo de \"Red Hat Package Manager\". Sin embargo, ha sido adoptado por otras dsitribuciones como es el caso de SUSE y ofrece una opción robusta para sistemas operativos de caracter empresarial."
   ]
  },
  {
   "cell_type": "markdown",
   "metadata": {},
   "source": [
    "###  El repositorio *EPEL*.\n",
    "\n",
    "Este repositorio cuenta on paquetes extra para *RHEL* y es mantenido por Fedora.\n",
    "\n",
    "https://fedoraproject.org/wiki/EPEL"
   ]
  },
  {
   "cell_type": "markdown",
   "metadata": {},
   "source": [
    "### Configuración de repositorios.\n",
    "\n",
    "El directorio */etc/yum.repos.d/* contiene un conjunto de repositorios con extensión *.repo* al que s ele pueden colocar otros repositorios adicionales."
   ]
  },
  {
   "cell_type": "code",
   "execution_count": null,
   "metadata": {},
   "outputs": [],
   "source": [
    "ls /etc/yum.repos.d/"
   ]
  },
  {
   "cell_type": "code",
   "execution_count": null,
   "metadata": {},
   "outputs": [],
   "source": [
    "cat /etc/yum.repos.d/mongo.repo"
   ]
  },
  {
   "cell_type": "markdown",
   "metadata": {},
   "source": [
    "El directorio */var/cache/yum* contiene a todos los archivos con extensión *.rpm* que son descargados al utilizar algún gestor de paquetes."
   ]
  },
  {
   "cell_type": "code",
   "execution_count": null,
   "metadata": {
    "scrolled": true
   },
   "outputs": [],
   "source": [
    "ls /var/cache/yum/x86_64/7"
   ]
  },
  {
   "cell_type": "code",
   "execution_count": null,
   "metadata": {},
   "outputs": [],
   "source": [
    "tree /var/cache/yum/x86_64/7/epel/packages"
   ]
  },
  {
   "cell_type": "markdown",
   "metadata": {},
   "source": [
    "### El comando ```rpm```.\n",
    "\n",
    "Est4e es el comando orginal para la gestión de paquetes con extensión .*rpm*\n",
    "\n",
    "```\n",
    "rpm <opciones> <archivo o paquete>\n",
    "```\n",
    "\n",
    "Este comando realiza operaciones básicas de instalación de paquetes."
   ]
  },
  {
   "cell_type": "code",
   "execution_count": null,
   "metadata": {},
   "outputs": [],
   "source": [
    "man rpm"
   ]
  },
  {
   "cell_type": "markdown",
   "metadata": {},
   "source": [
    "### El comando ```yum```.\n",
    "\n",
    "Este comando es un gestor más avanzado de paquetesm, el cual permite:\n",
    "\n",
    "* Gestionar repositorios.\n",
    "* Gestionar firmas.\n",
    "* Gestionar paquetes.\n",
    "* Buscar software en el sistema.\n",
    "* Actualizar el sistema\n",
    "\n",
    "```\n",
    "yum <opciones>\n",
    "```"
   ]
  },
  {
   "cell_type": "markdown",
   "metadata": {},
   "source": [
    "## Búsqueda de paquetes."
   ]
  },
  {
   "cell_type": "code",
   "execution_count": null,
   "metadata": {},
   "outputs": [],
   "source": [
    "yum search mongo"
   ]
  },
  {
   "cell_type": "code",
   "execution_count": null,
   "metadata": {},
   "outputs": [],
   "source": [
    "yum list mongo*"
   ]
  },
  {
   "cell_type": "markdown",
   "metadata": {},
   "source": [
    "#### Actualización de los repositorios."
   ]
  },
  {
   "cell_type": "code",
   "execution_count": null,
   "metadata": {},
   "outputs": [],
   "source": [
    "sudo yum update -y"
   ]
  },
  {
   "cell_type": "code",
   "execution_count": null,
   "metadata": {},
   "outputs": [],
   "source": [
    "sudo yum upgrade -y"
   ]
  },
  {
   "cell_type": "markdown",
   "metadata": {},
   "source": [
    "#### Instalación de paquetes seleccionados."
   ]
  },
  {
   "cell_type": "code",
   "execution_count": null,
   "metadata": {},
   "outputs": [],
   "source": [
    "sudo yum install dnf -y"
   ]
  },
  {
   "cell_type": "markdown",
   "metadata": {},
   "source": [
    "###  El comando ```dnf```.\n",
    "\n",
    "Este comando corresponde al gestor de paquetes de Fedora.\n",
    "\n",
    "No viene instalado en CentOS ni en RHEL, pero tiene opciones avanzadas de instalación."
   ]
  },
  {
   "cell_type": "code",
   "execution_count": null,
   "metadata": {},
   "outputs": [],
   "source": [
    "man dnf"
   ]
  },
  {
   "cell_type": "markdown",
   "metadata": {},
   "source": [
    "## Gestión de paquetes basados en archivos *.rpm*."
   ]
  },
  {
   "cell_type": "markdown",
   "metadata": {},
   "source": [
    "### Configuración de repositorios."
   ]
  },
  {
   "cell_type": "markdown",
   "metadata": {},
   "source": [
    "### ```apt```."
   ]
  },
  {
   "cell_type": "markdown",
   "metadata": {},
   "source": [
    "**Ejemplo:**"
   ]
  },
  {
   "cell_type": "code",
   "execution_count": null,
   "metadata": {},
   "outputs": [],
   "source": [
    "sudo systemctl start docker"
   ]
  },
  {
   "cell_type": "markdown",
   "metadata": {},
   "source": [
    "```\n",
    "sudo docker run -it ubuntu\n",
    "```"
   ]
  },
  {
   "cell_type": "markdown",
   "metadata": {},
   "source": [
    "## Otros formatos.\n",
    "\n",
    "Arch \n",
    "SNAP"
   ]
  },
  {
   "cell_type": "markdown",
   "metadata": {
    "collapsed": true
   },
   "source": [
    "<p style=\"text-align: center\"><a rel=\"license\" href=\"http://creativecommons.org/licenses/by/4.0/\"><img alt=\"Licencia Creative Commons\" style=\"border-width:0\" src=\"https://i.creativecommons.org/l/by/4.0/80x15.png\" /></a><br />Esta obra está bajo una <a rel=\"license\" href=\"http://creativecommons.org/licenses/by/4.0/\">Licencia Creative Commons Atribución 4.0 Internacional</a>.</p>\n",
    "<p style=\"text-align: center\">&copy; José Luis Chiquete Valdivieso. 2019.</p>"
   ]
  }
 ],
 "metadata": {
  "kernelspec": {
   "display_name": "Bash",
   "language": "bash",
   "name": "bash"
  },
  "language_info": {
   "codemirror_mode": "shell",
   "file_extension": ".sh",
   "mimetype": "text/x-sh",
   "name": "bash"
  }
 },
 "nbformat": 4,
 "nbformat_minor": 2
}
