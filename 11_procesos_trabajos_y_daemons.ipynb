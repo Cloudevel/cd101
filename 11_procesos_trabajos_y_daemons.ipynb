{
 "cells": [
  {
   "cell_type": "markdown",
   "metadata": {},
   "source": [
    "[![cloudevel](Imagenes/cloudevel.png)](https://cloudevel.com)"
   ]
  },
  {
   "cell_type": "markdown",
   "metadata": {},
   "source": [
    "## Procesos.\n",
    "\n",
    "Los procesos son los diversos programas que se encuentran ejecutándose en un sistema en un momento deternimado.\n",
    "\n",
    "Estos procesos tienen las siguientes caracteísticas.\n",
    "\n",
    "* Ocupan recursos de cómputo (CPU).\n",
    "* Ocupan recursos de de memoria.\n",
    "* Tienen prioridades por sobre otros procesos.\n",
    "* Pueden contener subprocesos.\n",
    "* Pueden tener diversos estados."
   ]
  },
  {
   "cell_type": "markdown",
   "metadata": {},
   "source": [
    "### Listado de procesos con el comando```ps```.\n",
    "\n",
    "Este comando permite describir el estado de los procesos de un sitema al momento de la ejecución de dicho comando.\n",
    "\n",
    "```\n",
    "ps <opciones>\n",
    "```"
   ]
  },
  {
   "cell_type": "markdown",
   "metadata": {},
   "source": [
    "* ```-a``` selecciona todos los procesos excepto los de inicio de la sesión y los asocioados con la terminal.\n",
    "* ```-e``` selecciona todos los procesos.\n",
    "* ```-u <usuario>``` despliega el nombre del usuario dueño del proceso.\n",
    "* ```-j``` formato de trabajos.\n",
    "* ```-H``` Presenta los procesos de forma jerárquica.\n",
    "* ```-x``` Presenta aquellos procesos que no están ligados a una termminal necesariamente."
   ]
  },
  {
   "cell_type": "code",
   "execution_count": null,
   "metadata": {},
   "outputs": [],
   "source": [
    "ps -a"
   ]
  },
  {
   "cell_type": "code",
   "execution_count": null,
   "metadata": {
    "scrolled": false
   },
   "outputs": [],
   "source": [
    "ps -e"
   ]
  },
  {
   "cell_type": "code",
   "execution_count": null,
   "metadata": {},
   "outputs": [],
   "source": [
    "ps -u"
   ]
  },
  {
   "cell_type": "code",
   "execution_count": null,
   "metadata": {},
   "outputs": [],
   "source": [
    "ps -u apache"
   ]
  },
  {
   "cell_type": "code",
   "execution_count": null,
   "metadata": {},
   "outputs": [],
   "source": [
    "ps -ux"
   ]
  },
  {
   "cell_type": "code",
   "execution_count": null,
   "metadata": {
    "scrolled": true
   },
   "outputs": [],
   "source": [
    "ps -au"
   ]
  },
  {
   "cell_type": "code",
   "execution_count": null,
   "metadata": {},
   "outputs": [],
   "source": [
    "ps -aux"
   ]
  },
  {
   "cell_type": "code",
   "execution_count": null,
   "metadata": {
    "scrolled": true
   },
   "outputs": [],
   "source": [
    "ps -ju apache"
   ]
  },
  {
   "cell_type": "code",
   "execution_count": null,
   "metadata": {},
   "outputs": [],
   "source": [
    "ps -ex"
   ]
  },
  {
   "cell_type": "code",
   "execution_count": null,
   "metadata": {},
   "outputs": [],
   "source": [
    "ps -u oi"
   ]
  },
  {
   "cell_type": "code",
   "execution_count": null,
   "metadata": {},
   "outputs": [],
   "source": [
    "ps -u apache"
   ]
  },
  {
   "cell_type": "code",
   "execution_count": null,
   "metadata": {},
   "outputs": [],
   "source": [
    "ps -ejH"
   ]
  },
  {
   "cell_type": "code",
   "execution_count": null,
   "metadata": {},
   "outputs": [],
   "source": [
    "ps -ex"
   ]
  },
  {
   "cell_type": "code",
   "execution_count": null,
   "metadata": {},
   "outputs": [],
   "source": [
    "ps -ejH"
   ]
  },
  {
   "cell_type": "markdown",
   "metadata": {},
   "source": [
    "### Consulta del estado de la memoria con ```free```.\n",
    "\n",
    "Este comando despliega el estado actual de la memoria física y virtual del sistema.\n",
    "\n",
    "```\n",
    "free <opciones>\n",
    "```"
   ]
  },
  {
   "cell_type": "code",
   "execution_count": null,
   "metadata": {},
   "outputs": [],
   "source": [
    "free"
   ]
  },
  {
   "cell_type": "code",
   "execution_count": null,
   "metadata": {},
   "outputs": [],
   "source": [
    "free -h"
   ]
  },
  {
   "cell_type": "markdown",
   "metadata": {},
   "source": [
    "### Listado de los CPU.\n",
    "\n",
    "El comando ```lscpu``` da un listado de los CPU del sistema y sus características."
   ]
  },
  {
   "cell_type": "code",
   "execution_count": null,
   "metadata": {},
   "outputs": [],
   "source": [
    "lscpu"
   ]
  },
  {
   "cell_type": "markdown",
   "metadata": {},
   "source": [
    "### La aplicación ```top```.\n",
    "\n",
    "Esta aplicación permite desplegar los principales recurso del sistema en tiemnpo real mediantwe u7na ventana que se actualiza de forma constante."
   ]
  },
  {
   "cell_type": "markdown",
   "metadata": {},
   "source": [
    "### El comando ```uptime```.\n",
    "\n",
    "Este comando indica el tiempo que el sistema ha estado funcionando desde su arranque."
   ]
  },
  {
   "cell_type": "code",
   "execution_count": null,
   "metadata": {},
   "outputs": [],
   "source": [
    "uptime"
   ]
  },
  {
   "cell_type": "markdown",
   "metadata": {},
   "source": [
    "## Señales a procesos.\n",
    "\n",
    "Los proceso pueden recibir distintos tipos de señales que modifican su comportamiento. Aún cuando existen 67 se nales en GNU/Linux, las más utilizadas son:\n",
    "\n",
    "* 9, la cual corresponde a SIGKILL, indicando a un proceso que debe de ser destruido.\n",
    "* 15, la cual corresponde a SIGTERM, indicando a un proceso que debe terminar."
   ]
  },
  {
   "cell_type": "markdown",
   "metadata": {},
   "source": [
    "### El comando ```kill```."
   ]
  },
  {
   "cell_type": "markdown",
   "metadata": {},
   "source": [
    "El comando ```kill``` envía una señal a un proceso mediante la siguiente sintaxis.\n",
    "\n",
    "```\n",
    "kill <opciones> <pid>\n",
    "```\n",
    "\n",
    "* En donde *pid* es el identificador del proceso."
   ]
  },
  {
   "cell_type": "markdown",
   "metadata": {},
   "source": [
    "### Listado de señales.\n",
    "\n",
    "La opción ```-l```de este comkando muestra una lista de señales que puede enviar\n",
    "```\n",
    "kill -l\n",
    "```"
   ]
  },
  {
   "cell_type": "code",
   "execution_count": null,
   "metadata": {},
   "outputs": [],
   "source": [
    "kill -l"
   ]
  },
  {
   "cell_type": "markdown",
   "metadata": {},
   "source": [
    "### Envío de señales.\n",
    "La opción ```-s``` permite enviar una señal por su número a un proceso.\n",
    "Si no se indica la opción, ```kill``` envía la señal 15 al proceso indicado."
   ]
  },
  {
   "cell_type": "code",
   "execution_count": null,
   "metadata": {},
   "outputs": [],
   "source": [
    "man kill"
   ]
  },
  {
   "cell_type": "markdown",
   "metadata": {},
   "source": [
    "## Sucesión de ejecución de procesos.\n",
    "### ```||```.\n",
    "### ```&&```."
   ]
  },
  {
   "cell_type": "code",
   "execution_count": null,
   "metadata": {},
   "outputs": [],
   "source": [
    "ls && echo \"funciona\""
   ]
  },
  {
   "cell_type": "code",
   "execution_count": null,
   "metadata": {},
   "outputs": [],
   "source": [
    "ls || echo funciona"
   ]
  },
  {
   "cell_type": "code",
   "execution_count": null,
   "metadata": {},
   "outputs": [],
   "source": [
    "ls /root || echo \"no funciona\""
   ]
  },
  {
   "cell_type": "markdown",
   "metadata": {},
   "source": [
    "## El símbolo ```&```."
   ]
  },
  {
   "cell_type": "code",
   "execution_count": null,
   "metadata": {},
   "outputs": [],
   "source": [
    "sleep 10"
   ]
  },
  {
   "cell_type": "code",
   "execution_count": null,
   "metadata": {},
   "outputs": [],
   "source": [
    "sleep 200 &"
   ]
  },
  {
   "cell_type": "code",
   "execution_count": null,
   "metadata": {},
   "outputs": [],
   "source": [
    "ps -e | grep sleep"
   ]
  },
  {
   "cell_type": "code",
   "execution_count": null,
   "metadata": {},
   "outputs": [],
   "source": [
    "kill 2308"
   ]
  },
  {
   "cell_type": "code",
   "execution_count": null,
   "metadata": {},
   "outputs": [],
   "source": [
    "ps -e | grep sleep"
   ]
  },
  {
   "cell_type": "markdown",
   "metadata": {},
   "source": [
    "## Prioridades.\n",
    "\n",
    "Todos los procesos cuentan con un nivel de prioridad en una escala unitaria de -20 a 19. Mientras más bajo sea el número, más prioritario es el proceso.\n",
    "\n",
    "\n",
    "### El comando  ```nice```.\n",
    "\n",
    "Este comando perimte correr un comando asignándole una prioridad.\n",
    "\n",
    "```\n",
    "nice <número>  <comando>\n",
    "```"
   ]
  },
  {
   "cell_type": "code",
   "execution_count": null,
   "metadata": {},
   "outputs": [],
   "source": [
    "nice 3 sleep 200 &"
   ]
  },
  {
   "cell_type": "markdown",
   "metadata": {},
   "source": [
    "### ```renice```."
   ]
  },
  {
   "cell_type": "code",
   "execution_count": null,
   "metadata": {},
   "outputs": [],
   "source": []
  },
  {
   "cell_type": "markdown",
   "metadata": {},
   "source": [
    "## Trabajos.\n",
    "\n",
    "<kbd>Ctrl</kbd><kbd>Z</kbd>"
   ]
  },
  {
   "cell_type": "markdown",
   "metadata": {},
   "source": [
    "### ```jobs```."
   ]
  },
  {
   "cell_type": "code",
   "execution_count": null,
   "metadata": {},
   "outputs": [],
   "source": [
    "jobs"
   ]
  },
  {
   "cell_type": "markdown",
   "metadata": {},
   "source": [
    "### ```fg```."
   ]
  },
  {
   "cell_type": "markdown",
   "metadata": {},
   "source": [
    "### ```bg```."
   ]
  },
  {
   "cell_type": "markdown",
   "metadata": {},
   "source": [
    "### Daemons."
   ]
  },
  {
   "cell_type": "markdown",
   "metadata": {
    "collapsed": true
   },
   "source": [
    "<p style=\"text-align: center\"><a rel=\"license\" href=\"http://creativecommons.org/licenses/by/4.0/\"><img alt=\"Licencia Creative Commons\" style=\"border-width:0\" src=\"https://i.creativecommons.org/l/by/4.0/80x15.png\" /></a><br />Esta obra está bajo una <a rel=\"license\" href=\"http://creativecommons.org/licenses/by/4.0/\">Licencia Creative Commons Atribución 4.0 Internacional</a>.</p>\n",
    "<p style=\"text-align: center\">&copy; José Luis Chiquete Valdivieso. 2019.</p>"
   ]
  }
 ],
 "metadata": {
  "kernelspec": {
   "display_name": "Bash",
   "language": "bash",
   "name": "bash"
  },
  "language_info": {
   "codemirror_mode": "shell",
   "file_extension": ".sh",
   "mimetype": "text/x-sh",
   "name": "bash"
  }
 },
 "nbformat": 4,
 "nbformat_minor": 2
}
