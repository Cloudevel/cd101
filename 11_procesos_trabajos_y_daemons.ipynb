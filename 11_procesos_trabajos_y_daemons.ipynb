{
 "cells": [
  {
   "cell_type": "markdown",
   "metadata": {},
   "source": [
    "[![cloudevel](Imagenes/cloudevel.png)](https://cloudevel.com)"
   ]
  },
  {
   "cell_type": "markdown",
   "metadata": {},
   "source": [
    "## Procesos.\n",
    "\n",
    "Los procesos son los diversos programas que se encuentran ejecutándose en un sistema en un momento deternimado.\n",
    "\n",
    "Estos procesos tienen las siguientes caracteRísticas.\n",
    "\n",
    "* Tienen un identificador (PID).\n",
    "* Tiene dueños (usuario y grupo).\n",
    "* Ocupan recursos de cómputo (CPU).\n",
    "* Ocupan recursos de memoria.\n",
    "* Tienen prioridades por sobre otros procesos.\n",
    "* Pueden contener subprocesos.\n",
    "* Pueden tener diversos estados.\n",
    "* Pueden aceptar y procesar señales del sistema."
   ]
  },
  {
   "cell_type": "markdown",
   "metadata": {},
   "source": [
    "## Estados.\n",
    "\n",
    "1. Running\n",
    "* Interruptible \n",
    "* Uninterruptible\n",
    "* Stopped\n",
    "* Zombie"
   ]
  },
  {
   "cell_type": "markdown",
   "metadata": {},
   "source": [
    "### Listado de procesos con el comando```ps```.\n",
    "\n",
    "Este comando permite describir el estado de los procesos de un sitema al momento de la ejecución de dicho comando.\n",
    "\n",
    "```\n",
    "ps <opciones>\n",
    "```"
   ]
  },
  {
   "cell_type": "markdown",
   "metadata": {},
   "source": [
    "#### Algunas opciones del comando ```ps```.\n",
    "\n",
    "* ```-a``` selecciona todos los procesos excepto los de inicio de la sesión y los asociados con la terminal.\n",
    "* ```-e``` selecciona todos los procesos.\n",
    "* ```-u <usuario>``` despliega el nombre del usuario dueño del proceso.\n",
    "* ```-j``` formato de trabajos.\n",
    "* ```-H``` Presenta los procesos de forma jerárquica.\n",
    "* ```-x``` Presenta aquellos procesos que no están ligados a una termminal necesariamente.\n",
    "* ```-o```\n",
    "* ```--sort```"
   ]
  },
  {
   "cell_type": "code",
   "execution_count": null,
   "metadata": {},
   "outputs": [],
   "source": [
    "ps -a"
   ]
  },
  {
   "cell_type": "code",
   "execution_count": null,
   "metadata": {
    "scrolled": false
   },
   "outputs": [],
   "source": [
    "ps -e"
   ]
  },
  {
   "cell_type": "code",
   "execution_count": null,
   "metadata": {},
   "outputs": [],
   "source": [
    "ps -u"
   ]
  },
  {
   "cell_type": "code",
   "execution_count": null,
   "metadata": {},
   "outputs": [],
   "source": [
    "ps -u apache"
   ]
  },
  {
   "cell_type": "code",
   "execution_count": null,
   "metadata": {},
   "outputs": [],
   "source": [
    "ps -ux"
   ]
  },
  {
   "cell_type": "code",
   "execution_count": null,
   "metadata": {
    "scrolled": true
   },
   "outputs": [],
   "source": [
    "ps -au"
   ]
  },
  {
   "cell_type": "code",
   "execution_count": null,
   "metadata": {},
   "outputs": [],
   "source": [
    "ps -eu"
   ]
  },
  {
   "cell_type": "code",
   "execution_count": null,
   "metadata": {},
   "outputs": [],
   "source": [
    "ps -aux"
   ]
  },
  {
   "cell_type": "code",
   "execution_count": null,
   "metadata": {
    "scrolled": true
   },
   "outputs": [],
   "source": [
    "ps -ju apache"
   ]
  },
  {
   "cell_type": "code",
   "execution_count": null,
   "metadata": {},
   "outputs": [],
   "source": [
    "ps -ex"
   ]
  },
  {
   "cell_type": "code",
   "execution_count": null,
   "metadata": {},
   "outputs": [],
   "source": [
    "ps -u oi"
   ]
  },
  {
   "cell_type": "code",
   "execution_count": null,
   "metadata": {},
   "outputs": [],
   "source": [
    "ps -u apache"
   ]
  },
  {
   "cell_type": "code",
   "execution_count": null,
   "metadata": {},
   "outputs": [],
   "source": [
    "ps -ejH"
   ]
  },
  {
   "cell_type": "code",
   "execution_count": null,
   "metadata": {},
   "outputs": [],
   "source": [
    "ps -ex"
   ]
  },
  {
   "cell_type": "code",
   "execution_count": null,
   "metadata": {},
   "outputs": [],
   "source": [
    "ps -ejH"
   ]
  },
  {
   "cell_type": "code",
   "execution_count": null,
   "metadata": {},
   "outputs": [],
   "source": [
    "ps -eo pid,%cpu,%mem,user,stat,ni,comm,cmd,cpu --sort user"
   ]
  },
  {
   "cell_type": "markdown",
   "metadata": {},
   "source": [
    "#### La man page de ```ps```"
   ]
  },
  {
   "cell_type": "code",
   "execution_count": null,
   "metadata": {
    "scrolled": true
   },
   "outputs": [],
   "source": [
    "man ps"
   ]
  },
  {
   "cell_type": "markdown",
   "metadata": {},
   "source": [
    "## Sucesión de ejecución de procesos.\n",
    "Es posible encadenar procesos mediante los sigientes símbolos:\n",
    "\n",
    "### El símbolo ```||``` ejecuta un OR.\n",
    "``` \n",
    "< proceso 1> || <proceso 2>\n",
    "```\n",
    "\n",
    "Proceso 2 se va a ejecutar despues de que se ejecute correctamente proceso 1.\n",
    "\n",
    "### El símbolo ```&&``` ejecuta un AND.\n",
    "\n",
    "< proceso 1> && <proceso 2>\n",
    "```\n",
    "\n",
    "Proceso se va a ejecutar sólo si falla proceso 1\n"
   ]
  },
  {
   "cell_type": "code",
   "execution_count": null,
   "metadata": {},
   "outputs": [],
   "source": [
    "ls && echo \"funciona\""
   ]
  },
  {
   "cell_type": "code",
   "execution_count": null,
   "metadata": {},
   "outputs": [],
   "source": [
    "ls || echo \"no funciona\""
   ]
  },
  {
   "cell_type": "code",
   "execution_count": null,
   "metadata": {},
   "outputs": [],
   "source": [
    "ls /root || echo \"no funciona\""
   ]
  },
  {
   "cell_type": "markdown",
   "metadata": {},
   "source": [
    "## El comando ```sleep```."
   ]
  },
  {
   "cell_type": "code",
   "execution_count": 48,
   "metadata": {},
   "outputs": [],
   "source": [
    "sleep 5"
   ]
  },
  {
   "cell_type": "code",
   "execution_count": 46,
   "metadata": {
    "scrolled": true
   },
   "outputs": [
    {
     "name": "stdout",
     "output_type": "stream",
     "text": [
      "SLEEP(1)                         User Commands                        SLEEP(1)\n",
      "\n",
      "\n",
      "\n",
      "NAME\n",
      "       sleep - delay for a specified amount of time\n",
      "\n",
      "SYNOPSIS\n",
      "       sleep NUMBER[SUFFIX]...\n",
      "       sleep OPTION\n",
      "\n",
      "DESCRIPTION\n",
      "       Pause for NUMBER seconds.  SUFFIX may be 's' for seconds (the default),\n",
      "       'm' for minutes, 'h' for hours or 'd' for days.  Unlike most  implemen‐\n",
      "       tations  that require NUMBER be an integer, here NUMBER may be an arbi‐\n",
      "       trary floating point number.  Given two or more  arguments,  pause  for\n",
      "       the amount of time specified by the sum of their values.\n",
      "\n",
      "       --help display this help and exit\n",
      "\n",
      "       --version\n",
      "              output version information and exit\n",
      "\n",
      "       GNU  coreutils  online  help:  <http://www.gnu.org/software/coreutils/>\n",
      "       Report sleep translation bugs to <http://translationproject.org/team/>\n",
      "\n",
      "AUTHOR\n",
      "       Written by Jim Meyering and Paul Eggert.\n",
      "\n",
      "COPYRIGHT\n",
      "       Copyright © 2013 Free Software Foundation, Inc.   License  GPLv3+:  GNU\n",
      "       GPL version 3 or later <http://gnu.org/licenses/gpl.html>.\n",
      "       This  is  free  software:  you  are free to change and redistribute it.\n",
      "       There is NO WARRANTY, to the extent permitted by law.\n",
      "\n",
      "SEE ALSO\n",
      "       sleep(3)\n",
      "\n",
      "       The full documentation for sleep is maintained as a Texinfo manual.  If\n",
      "       the  info  and  sleep programs are properly installed at your site, the\n",
      "       command\n",
      "\n",
      "              info coreutils 'sleep invocation'\n",
      "\n",
      "       should give you access to the complete manual.\n",
      "\n",
      "\n",
      "\n",
      "GNU coreutils 8.22                April 2018                          SLEEP(1)\n"
     ]
    }
   ],
   "source": [
    "man sleep"
   ]
  },
  {
   "cell_type": "markdown",
   "metadata": {},
   "source": [
    "## Trabajos."
   ]
  },
  {
   "cell_type": "markdown",
   "metadata": {},
   "source": [
    "### El símbolo ```&```.\n",
    "\n",
    "Este símbolo manda a trasfondo la ejecución del comando."
   ]
  },
  {
   "cell_type": "code",
   "execution_count": 4,
   "metadata": {},
   "outputs": [
    {
     "name": "stdout",
     "output_type": "stream",
     "text": [
      "[1] 3522\n"
     ]
    }
   ],
   "source": [
    "sleep 60 &"
   ]
  },
  {
   "cell_type": "code",
   "execution_count": 5,
   "metadata": {
    "scrolled": true
   },
   "outputs": [
    {
     "name": "stdout",
     "output_type": "stream",
     "text": [
      " 3522 sleep 60\n",
      " 3524 grep --color=auto sleep\n"
     ]
    }
   ],
   "source": [
    "ps -ao pid,cmd | grep sleep"
   ]
  },
  {
   "cell_type": "markdown",
   "metadata": {},
   "source": [
    "### Enviado de un trabajo al trasfondo (background).\n",
    "\n",
    "Los trabajos siempre están ligados a una terminal.\n",
    "\n",
    "<kbd>Ctrl</kbd><kbd>Z</kbd>"
   ]
  },
  {
   "cell_type": "markdown",
   "metadata": {},
   "source": [
    "### Listado de trabajos con el comando  ```jobs```."
   ]
  },
  {
   "cell_type": "code",
   "execution_count": 7,
   "metadata": {},
   "outputs": [
    {
     "name": "stdout",
     "output_type": "stream",
     "text": [
      "[1]+  Ejecutando              sleep 60 &\n"
     ]
    }
   ],
   "source": [
    "jobs"
   ]
  },
  {
   "cell_type": "markdown",
   "metadata": {},
   "source": [
    "### ```fg```."
   ]
  },
  {
   "cell_type": "code",
   "execution_count": 8,
   "metadata": {},
   "outputs": [
    {
     "name": "stdout",
     "output_type": "stream",
     "text": [
      "sleep 60\n"
     ]
    }
   ],
   "source": [
    "fg sleep"
   ]
  },
  {
   "cell_type": "markdown",
   "metadata": {},
   "source": [
    "### ```bg```."
   ]
  },
  {
   "cell_type": "markdown",
   "metadata": {},
   "source": [
    "## El comando ```nohup```."
   ]
  },
  {
   "cell_type": "markdown",
   "metadata": {},
   "source": [
    "## Obtención de PID de un proceso por su comando con ```pidof```."
   ]
  },
  {
   "cell_type": "code",
   "execution_count": 63,
   "metadata": {},
   "outputs": [
    {
     "name": "stdout",
     "output_type": "stream",
     "text": [
      "[5] 3480\n",
      "[4]   Hecho                   sleep 60\n"
     ]
    }
   ],
   "source": [
    "sleep 60 &"
   ]
  },
  {
   "cell_type": "code",
   "execution_count": 64,
   "metadata": {},
   "outputs": [
    {
     "name": "stdout",
     "output_type": "stream",
     "text": [
      "3480\n"
     ]
    }
   ],
   "source": [
    "pidof sleep"
   ]
  },
  {
   "cell_type": "markdown",
   "metadata": {},
   "source": [
    "## Señales a procesos.\n",
    "\n",
    "Los proceso pueden recibir distintos tipos de señales que modifican su comportamiento. Aún cuando existen 67 se nales en GNU/Linux, las más utilizadas son:\n",
    "\n",
    "* 9, la cual corresponde a SIGKILL, indicando a un proceso que debe de ser destruido.\n",
    "* 15, la cual corresponde a SIGTERM, indicando a un proceso que debe terminar."
   ]
  },
  {
   "cell_type": "markdown",
   "metadata": {},
   "source": [
    "### El comando ```kill```."
   ]
  },
  {
   "cell_type": "markdown",
   "metadata": {},
   "source": [
    "El comando ```kill``` envía una señal a un proceso mediante la siguiente sintaxis.\n",
    "\n",
    "```\n",
    "kill <opciones> <pid>\n",
    "```\n",
    "\n",
    "* En donde *pid* es el identificador del proceso."
   ]
  },
  {
   "cell_type": "markdown",
   "metadata": {},
   "source": [
    "#### Listado de señales.\n",
    "\n",
    "La opción ```-l```de este comkando muestra una lista de señales que puede enviar\n",
    "```\n",
    "\n",
    "kill -l\n",
    "```"
   ]
  },
  {
   "cell_type": "code",
   "execution_count": null,
   "metadata": {},
   "outputs": [],
   "source": [
    "kill -l"
   ]
  },
  {
   "cell_type": "markdown",
   "metadata": {},
   "source": [
    "### Envío de señales.\n",
    "La opción ```-s``` permite enviar una señal por su número a un proceso.\n",
    "Si no se indica la opción, ```kill``` envía la señal 15 al proceso indicado."
   ]
  },
  {
   "cell_type": "code",
   "execution_count": null,
   "metadata": {},
   "outputs": [],
   "source": [
    "sleep 200"
   ]
  },
  {
   "cell_type": "markdown",
   "metadata": {},
   "source": [
    "### El comando ```killall```\n",
    "\n",
    "Este comandio manda una señal a partir de un nombre de proceso.\n",
    "\n",
    "```\n",
    "killall <termino>\n",
    "```"
   ]
  },
  {
   "cell_type": "markdown",
   "metadata": {},
   "source": [
    "## Prioridades.\n",
    "\n",
    "Todos los procesos cuentan con un nivel de prioridad en una escala unitaria de -20 a 19. Mientras más bajo sea el número, más prioritario es el proceso.\n",
    "\n",
    "\n",
    "### El comando  ```nice```.\n",
    "\n",
    "Este comando perimte correr un comando asignándole una prioridad.\n",
    "\n",
    "```\n",
    "nice <número>  <comando>\n",
    "```"
   ]
  },
  {
   "cell_type": "code",
   "execution_count": null,
   "metadata": {},
   "outputs": [],
   "source": [
    "nice -3 sleep 200 &"
   ]
  },
  {
   "cell_type": "code",
   "execution_count": null,
   "metadata": {},
   "outputs": [],
   "source": [
    "ps -u | grep sleep"
   ]
  },
  {
   "cell_type": "code",
   "execution_count": null,
   "metadata": {
    "scrolled": true
   },
   "outputs": [],
   "source": [
    "man nice"
   ]
  },
  {
   "cell_type": "markdown",
   "metadata": {},
   "source": [
    "### ```renice```."
   ]
  },
  {
   "cell_type": "code",
   "execution_count": null,
   "metadata": {},
   "outputs": [],
   "source": [
    "sudo renice 4 3348"
   ]
  },
  {
   "cell_type": "markdown",
   "metadata": {},
   "source": [
    "## Daemons.\n",
    "\n",
    "Son procesos que se ejecutan constantemente en trasfondo y no están ligados a una terminal. Comunmente son servicios del sistema . Por lo general su nombre termina con \"d\"."
   ]
  },
  {
   "cell_type": "markdown",
   "metadata": {},
   "source": [
    "## Consulta del estado de la memoria con ```free```.\n",
    "\n",
    "Este comando despliega el estado actual de la memoria física y virtual del sistema.\n",
    "\n",
    "```\n",
    "free <opciones>\n",
    "```"
   ]
  },
  {
   "cell_type": "code",
   "execution_count": null,
   "metadata": {},
   "outputs": [],
   "source": [
    "free"
   ]
  },
  {
   "cell_type": "code",
   "execution_count": null,
   "metadata": {},
   "outputs": [],
   "source": [
    "free -h"
   ]
  },
  {
   "cell_type": "markdown",
   "metadata": {},
   "source": [
    "## La aplicación ```top```.\n",
    "\n",
    "Esta aplicación permite desplegar los procesos y  recursos del sistema en tiempo real mediante una ventana que se actualiza de forma constante.\n"
   ]
  },
  {
   "cell_type": "markdown",
   "metadata": {},
   "source": [
    "## El comando ```uptime```.\n",
    "\n",
    "Este comando indica el tiempo que el sistema ha estado funcionando desde su arranque."
   ]
  },
  {
   "cell_type": "code",
   "execution_count": null,
   "metadata": {},
   "outputs": [],
   "source": [
    "uptime"
   ]
  },
  {
   "cell_type": "markdown",
   "metadata": {
    "collapsed": true
   },
   "source": [
    "<p style=\"text-align: center\"><a rel=\"license\" href=\"http://creativecommons.org/licenses/by/4.0/\"><img alt=\"Licencia Creative Commons\" style=\"border-width:0\" src=\"https://i.creativecommons.org/l/by/4.0/80x15.png\" /></a><br />Esta obra está bajo una <a rel=\"license\" href=\"http://creativecommons.org/licenses/by/4.0/\">Licencia Creative Commons Atribución 4.0 Internacional</a>.</p>\n",
    "<p style=\"text-align: center\">&copy; José Luis Chiquete Valdivieso. 2019.</p>"
   ]
  }
 ],
 "metadata": {
  "kernelspec": {
   "display_name": "Bash",
   "language": "bash",
   "name": "bash"
  },
  "language_info": {
   "codemirror_mode": "shell",
   "file_extension": ".sh",
   "mimetype": "text/x-sh",
   "name": "bash"
  }
 },
 "nbformat": 4,
 "nbformat_minor": 2
}
