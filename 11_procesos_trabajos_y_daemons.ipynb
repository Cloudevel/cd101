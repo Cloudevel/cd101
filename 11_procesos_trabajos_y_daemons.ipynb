{
 "cells": [
  {
   "cell_type": "markdown",
   "metadata": {},
   "source": [
    "[![cloudevel](img/cloudevel.png)](https://cloudevel.com)"
   ]
  },
  {
   "cell_type": "markdown",
   "metadata": {},
   "source": [
    "## Procesos.\n",
    "\n",
    "Los procesos son los diversos programas y binarios que se encuentran ejecutándose en un sistema en un momento deternimado.\n",
    "\n",
    "Estos procesos tienen las siguientes características.\n",
    "\n",
    "* Tienen un número identificador (```PID```).\n",
    "* Tiene dueños (```UID``` y ```GID```).\n",
    "* Ocupan recursos de cómputo (CPU).\n",
    "* Ocupan recursos de memoria.\n",
    "* Tienen prioridades por sobre otros procesos.\n",
    "* Pueden contener subprocesos.\n",
    "* Pueden tener diversos estados.\n",
    "* Pueden aceptar y procesar señales del sistema."
   ]
  },
  {
   "cell_type": "markdown",
   "metadata": {},
   "source": [
    "## Estados.\n",
    "\n",
    "1. Running\n",
    "* Interruptible \n",
    "* Uninterruptible\n",
    "* Stopped\n",
    "* Zombie"
   ]
  },
  {
   "cell_type": "markdown",
   "metadata": {},
   "source": [
    "## Listado de procesos con el comando ```ps```.\n",
    "\n",
    "Este comando permite describir el estado de los procesos de un sitema al momento de la ejecución de dicho comando.\n",
    "\n",
    "```\n",
    "ps <opciones>\n",
    "```"
   ]
  },
  {
   "cell_type": "markdown",
   "metadata": {},
   "source": [
    "#### Algunas opciones del comando ```ps```.\n",
    "\n",
    "* ```-a``` selecciona todos los procesos excepto los de inicio de la sesión y los asociados con la terminal.\n",
    "* ```-e``` selecciona todos los procesos.\n",
    "* ```-u <usuario>``` despliega el nombre del usuario dueño del proceso.\n",
    "* ```-j``` formato de trabajos.\n",
    "* ```-H``` Presenta los procesos de forma jerárquica.\n",
    "* ```-x``` Presenta aquellos procesos que no están ligados a una terminal necesariamente.\n",
    "* ```-o``` Permite formatear la salida de los procesos.\n",
    "* ```--sort``` Permite ordenar bajo cierto criterio el listado de procesos."
   ]
  },
  {
   "cell_type": "code",
   "execution_count": null,
   "metadata": {},
   "outputs": [],
   "source": [
    "ps -a"
   ]
  },
  {
   "cell_type": "code",
   "execution_count": null,
   "metadata": {
    "scrolled": false
   },
   "outputs": [],
   "source": [
    "ps -e"
   ]
  },
  {
   "cell_type": "code",
   "execution_count": null,
   "metadata": {},
   "outputs": [],
   "source": [
    "ps -u"
   ]
  },
  {
   "cell_type": "code",
   "execution_count": null,
   "metadata": {},
   "outputs": [],
   "source": [
    "ps -u www-data"
   ]
  },
  {
   "cell_type": "code",
   "execution_count": null,
   "metadata": {},
   "outputs": [],
   "source": [
    "ps -ux"
   ]
  },
  {
   "cell_type": "code",
   "execution_count": null,
   "metadata": {
    "scrolled": true
   },
   "outputs": [],
   "source": [
    "ps -au"
   ]
  },
  {
   "cell_type": "code",
   "execution_count": null,
   "metadata": {},
   "outputs": [],
   "source": [
    "ps -eu"
   ]
  },
  {
   "cell_type": "code",
   "execution_count": null,
   "metadata": {},
   "outputs": [],
   "source": [
    "ps -aux"
   ]
  },
  {
   "cell_type": "code",
   "execution_count": null,
   "metadata": {
    "scrolled": true
   },
   "outputs": [],
   "source": [
    "ps -ju www-data"
   ]
  },
  {
   "cell_type": "code",
   "execution_count": null,
   "metadata": {},
   "outputs": [],
   "source": [
    "ps -ex"
   ]
  },
  {
   "cell_type": "code",
   "execution_count": null,
   "metadata": {},
   "outputs": [],
   "source": [
    "ps -u oi"
   ]
  },
  {
   "cell_type": "code",
   "execution_count": null,
   "metadata": {},
   "outputs": [],
   "source": [
    "ps -ejH"
   ]
  },
  {
   "cell_type": "code",
   "execution_count": null,
   "metadata": {},
   "outputs": [],
   "source": [
    "ps -ex"
   ]
  },
  {
   "cell_type": "code",
   "execution_count": null,
   "metadata": {},
   "outputs": [],
   "source": [
    "ps -ejH"
   ]
  },
  {
   "cell_type": "code",
   "execution_count": null,
   "metadata": {},
   "outputs": [],
   "source": [
    "ps -eo pid,%cpu,%mem,user,stat,ni,comm,cmd,cpu --sort user"
   ]
  },
  {
   "cell_type": "markdown",
   "metadata": {},
   "source": [
    "### La man page de ```ps```"
   ]
  },
  {
   "cell_type": "code",
   "execution_count": null,
   "metadata": {
    "scrolled": true
   },
   "outputs": [],
   "source": [
    "man ps"
   ]
  },
  {
   "cell_type": "markdown",
   "metadata": {},
   "source": [
    "## Sucesión de ejecución de procesos.\n",
    "Es posible encadenar procesos mediante los sigientes símbolos:\n",
    "\n",
    "### El símbolo ```||``` ejecuta un OR.\n",
    "``` \n",
    "< proceso 1> || <proceso 2>\n",
    "```\n",
    "\n",
    "```<proceso 2>``` ejecutará solo si ```<proceso 1>``` es erroneo.\n",
    "\n",
    "### El símbolo ```&&``` ejecuta un AND.\n",
    "\n",
    "```\n",
    "< proceso 1> && <proceso 2>\n",
    "```\n",
    "\n",
    "```<proceso 2>``` se va a ejecutar sólo si ```<proceso 1>``` es correcto.\n"
   ]
  },
  {
   "cell_type": "code",
   "execution_count": null,
   "metadata": {},
   "outputs": [],
   "source": [
    "ls && echo \"funciona\""
   ]
  },
  {
   "cell_type": "code",
   "execution_count": null,
   "metadata": {},
   "outputs": [],
   "source": [
    "ls /root && echo \"funciona\""
   ]
  },
  {
   "cell_type": "code",
   "execution_count": null,
   "metadata": {},
   "outputs": [],
   "source": [
    "ls || echo \"no vas a ver esto\""
   ]
  },
  {
   "cell_type": "code",
   "execution_count": null,
   "metadata": {
    "scrolled": true
   },
   "outputs": [],
   "source": [
    "ls /root || echo \"no funciona\""
   ]
  },
  {
   "cell_type": "code",
   "execution_count": null,
   "metadata": {},
   "outputs": [],
   "source": [
    "ls; echo \"funciona\""
   ]
  },
  {
   "cell_type": "code",
   "execution_count": null,
   "metadata": {},
   "outputs": [],
   "source": [
    "ls /root; echo \"funciona\""
   ]
  },
  {
   "cell_type": "markdown",
   "metadata": {},
   "source": [
    "## El comando ```sleep```.\n",
    "\n",
    "Este comando permite poner al shell en pausa por un número definido der segundos.\n",
    "\n",
    "```\n",
    "sleep <n> \n",
    "```\n",
    "\n",
    "Donde: \n",
    "\n",
    "* ```<n>``` es un numero entero."
   ]
  },
  {
   "cell_type": "code",
   "execution_count": null,
   "metadata": {},
   "outputs": [],
   "source": [
    "sleep 5"
   ]
  },
  {
   "cell_type": "markdown",
   "metadata": {},
   "source": [
    "### La *man page* de ```sleep```."
   ]
  },
  {
   "cell_type": "code",
   "execution_count": null,
   "metadata": {
    "scrolled": true
   },
   "outputs": [],
   "source": [
    "man sleep"
   ]
  },
  {
   "cell_type": "markdown",
   "metadata": {},
   "source": [
    "## Trabajos.\n",
    "\n",
    "Un trabajo corresponde a la ejecución de un comando dentro de un *shell*. Los trabajos son procesos, pero pueden ser gestionados desde el *shell*."
   ]
  },
  {
   "cell_type": "markdown",
   "metadata": {},
   "source": [
    "### El símbolo ```&```.\n",
    "\n",
    "Este símbolo manda a trasfondo la ejecución del comando."
   ]
  },
  {
   "cell_type": "code",
   "execution_count": null,
   "metadata": {},
   "outputs": [],
   "source": [
    "sleep 60 &"
   ]
  },
  {
   "cell_type": "code",
   "execution_count": null,
   "metadata": {
    "scrolled": true
   },
   "outputs": [],
   "source": [
    "ps -ao pid,cmd | grep sleep"
   ]
  },
  {
   "cell_type": "markdown",
   "metadata": {},
   "source": [
    "### Enviado de un trabajo al trasfondo (background).\n",
    "\n",
    "Los trabajos siempre están ligados a una terminal.\n",
    "\n",
    "Para poder enviar un trabajo a trasfondo y liberar la terminal se utiliza <kbd>Ctrl</kbd><kbd>Z</kbd>."
   ]
  },
  {
   "cell_type": "markdown",
   "metadata": {},
   "source": [
    "### Listado de trabajos con el comando  ```jobs```.\n",
    "\n",
    "El comando ```jobs```despliega el listado de los trabajos en una terminal con la siguiente estructura.\n",
    "\n",
    "\n",
    "```\n",
    "[<n>] <estado> <comando>\n",
    "```\n",
    "\n",
    "Donde:\n",
    "\n",
    "* ```<n>``` es el número asignado al trabajo.\n",
    "* ```<estado>``` es el estado del trabajo.\n",
    "* ```<comando>``` e sel comando de ejecución del trabajo."
   ]
  },
  {
   "cell_type": "code",
   "execution_count": null,
   "metadata": {
    "scrolled": true
   },
   "outputs": [],
   "source": [
    "jobs"
   ]
  },
  {
   "cell_type": "markdown",
   "metadata": {},
   "source": [
    "### El comando ```fg```.\n",
    "\n",
    "Este comando permite traer a la terminal (foreground) un trabajo.\n",
    "\n",
    "```\n",
    "fg <trabajo>\n",
    "```\n",
    "\n",
    "Donde:\n",
    "\n",
    "* ```<trabajo>``` es el número del trabajo o su nombre."
   ]
  },
  {
   "cell_type": "code",
   "execution_count": null,
   "metadata": {
    "scrolled": true
   },
   "outputs": [],
   "source": [
    "fg sleep"
   ]
  },
  {
   "cell_type": "markdown",
   "metadata": {},
   "source": [
    "### ```bg```.\n",
    "\n",
    "Es un comando que permite retomar un trabajo, pero no lo trae el frente,"
   ]
  },
  {
   "cell_type": "code",
   "execution_count": null,
   "metadata": {},
   "outputs": [],
   "source": [
    "bg 1"
   ]
  },
  {
   "cell_type": "markdown",
   "metadata": {},
   "source": [
    "## El comando ```nohup```.\n",
    "\n",
    "Los trabajos están ligado a una terminal. En caso de que la terminal se cierre, los trabajos serán eliminados.\n",
    "\n",
    "El comando ```nohup``` permite crear un trabajo que no dependa de una terminal y sus salidas serán redirigidas a un archivo  llamado ```nohup.out```. "
   ]
  },
  {
   "cell_type": "markdown",
   "metadata": {},
   "source": [
    "## Obtención de ```PID``` de un trabajo. \n",
    "\n",
    "Para obtener el númerom identificador de un trabajo se utiliza el comando ```pidof```.\n",
    "\n",
    "```\n",
    "pidof <trabajo> \n",
    "```"
   ]
  },
  {
   "cell_type": "code",
   "execution_count": null,
   "metadata": {},
   "outputs": [],
   "source": [
    "sleep 60 &"
   ]
  },
  {
   "cell_type": "code",
   "execution_count": null,
   "metadata": {},
   "outputs": [],
   "source": [
    "pidof sleep"
   ]
  },
  {
   "cell_type": "markdown",
   "metadata": {},
   "source": [
    "## Señales a procesos.\n",
    "\n",
    "Los proceso pueden recibir distintos tipos de señales que modifican su comportamiento. Aún cuando existen 67 señales en *GNU/Linux*, las más utilizadas son:\n",
    "\n",
    "* ```9```, la cual corresponde a ```SIGKILL```, indicando a un proceso que debe de ser destruido. Al recibir esta señal, el proceso es destruido de inmediato.\n",
    "* ```15```, la cual corresponde a ```SIGTERM```, indicando a un proceso que debe terminar. Al recibir esta señal, el proceso realizará las operaciones necesarias para detenerse de forma ordenada. \n",
    "\n",
    "https://en.wikipedia.org/wiki/Signal_(IPC)#P"
   ]
  },
  {
   "cell_type": "markdown",
   "metadata": {},
   "source": [
    "### El comando ```kill```."
   ]
  },
  {
   "cell_type": "markdown",
   "metadata": {},
   "source": [
    "El comando ```kill``` envía una señal a un proceso mediante la siguiente sintaxis.\n",
    "\n",
    "```\n",
    "kill <opciones> <pid>\n",
    "```\n",
    "\n",
    "* En donde ```pid``` es el identificador del proceso."
   ]
  },
  {
   "cell_type": "markdown",
   "metadata": {},
   "source": [
    "#### Listado de señales.\n",
    "\n",
    "La opción ```-l```de este comando muestra una lista de señales que puede enviar\n",
    "```\n",
    "\n",
    "kill -l\n",
    "```"
   ]
  },
  {
   "cell_type": "code",
   "execution_count": null,
   "metadata": {},
   "outputs": [],
   "source": [
    "kill -l"
   ]
  },
  {
   "cell_type": "markdown",
   "metadata": {},
   "source": [
    "### Envío de señales.\n",
    "La opción ```-s``` permite enviar una señal por su número a un proceso.\n",
    "Si no se indica la opción, ```kill``` envía la señal 15 al proceso indicado."
   ]
  },
  {
   "cell_type": "code",
   "execution_count": null,
   "metadata": {},
   "outputs": [],
   "source": [
    "sleep 200 &"
   ]
  },
  {
   "cell_type": "code",
   "execution_count": null,
   "metadata": {},
   "outputs": [],
   "source": [
    "ps -e | grep sleep"
   ]
  },
  {
   "cell_type": "code",
   "execution_count": null,
   "metadata": {},
   "outputs": [],
   "source": [
    "kill -s 9 3580"
   ]
  },
  {
   "cell_type": "code",
   "execution_count": null,
   "metadata": {},
   "outputs": [],
   "source": [
    "ps -e | grep sleep"
   ]
  },
  {
   "cell_type": "markdown",
   "metadata": {},
   "source": [
    "### La *man page* del comando ```kill```."
   ]
  },
  {
   "cell_type": "code",
   "execution_count": null,
   "metadata": {
    "scrolled": true
   },
   "outputs": [],
   "source": [
    "man kill"
   ]
  },
  {
   "cell_type": "code",
   "execution_count": null,
   "metadata": {},
   "outputs": [],
   "source": [
    "man sigkill"
   ]
  },
  {
   "cell_type": "markdown",
   "metadata": {},
   "source": [
    "### El comando ```killall```\n",
    "\n",
    "Este comandio manda una señal a partir de un nombre de proceso.\n",
    "\n",
    "```\n",
    "killall <termino>\n",
    "```"
   ]
  },
  {
   "cell_type": "code",
   "execution_count": null,
   "metadata": {},
   "outputs": [],
   "source": [
    "sleep 120 &"
   ]
  },
  {
   "cell_type": "code",
   "execution_count": null,
   "metadata": {},
   "outputs": [],
   "source": [
    "sleep 120 &"
   ]
  },
  {
   "cell_type": "code",
   "execution_count": null,
   "metadata": {},
   "outputs": [],
   "source": [
    "sleep 120 &"
   ]
  },
  {
   "cell_type": "code",
   "execution_count": null,
   "metadata": {},
   "outputs": [],
   "source": [
    "sleep 120 &"
   ]
  },
  {
   "cell_type": "code",
   "execution_count": null,
   "metadata": {},
   "outputs": [],
   "source": [
    "ps -e | grep sleep"
   ]
  },
  {
   "cell_type": "code",
   "execution_count": null,
   "metadata": {
    "scrolled": true
   },
   "outputs": [],
   "source": [
    "killall sleep"
   ]
  },
  {
   "cell_type": "markdown",
   "metadata": {},
   "source": [
    "### La *man page* del comando ```killall```."
   ]
  },
  {
   "cell_type": "code",
   "execution_count": null,
   "metadata": {
    "scrolled": false
   },
   "outputs": [],
   "source": [
    "man killall"
   ]
  },
  {
   "cell_type": "markdown",
   "metadata": {},
   "source": [
    "### El comando ```pstree```.\n",
    "\n",
    "Este comando despliega la estructura jerárquica de los procesos del sistema en foma de árbol."
   ]
  },
  {
   "cell_type": "code",
   "execution_count": null,
   "metadata": {
    "scrolled": true
   },
   "outputs": [],
   "source": [
    "pstree"
   ]
  },
  {
   "cell_type": "markdown",
   "metadata": {},
   "source": [
    "####  La *man page* de ```pstree```."
   ]
  },
  {
   "cell_type": "code",
   "execution_count": null,
   "metadata": {},
   "outputs": [],
   "source": [
    "man pstree"
   ]
  },
  {
   "cell_type": "markdown",
   "metadata": {},
   "source": [
    "## Prioridades.\n",
    "\n",
    "Todos los procesos cuentan con un nivel de prioridad en una escala unitaria de ```-20``` a ```19```. Mientras más bajo sea el número, más prioritario es el proceso.\n",
    "\n",
    "\n",
    "### El comando  ```nice```.\n",
    "\n",
    "Este comando perimte correr un comando asignándole una prioridad.\n",
    "\n",
    "```\n",
    "nice <número>  <comando>\n",
    "```"
   ]
  },
  {
   "cell_type": "code",
   "execution_count": null,
   "metadata": {},
   "outputs": [],
   "source": [
    "nice -3 sleep 200 &"
   ]
  },
  {
   "cell_type": "code",
   "execution_count": null,
   "metadata": {},
   "outputs": [],
   "source": [
    "ps -u | grep sleep"
   ]
  },
  {
   "cell_type": "markdown",
   "metadata": {},
   "source": [
    "#### La man page de *nice*."
   ]
  },
  {
   "cell_type": "code",
   "execution_count": null,
   "metadata": {
    "scrolled": true
   },
   "outputs": [],
   "source": [
    "man nice"
   ]
  },
  {
   "cell_type": "markdown",
   "metadata": {},
   "source": [
    "### ```renice```.\n",
    "\n",
    "El comando ```renice``` permite modificar la prioridad de un proceso en ejecución."
   ]
  },
  {
   "cell_type": "code",
   "execution_count": null,
   "metadata": {},
   "outputs": [],
   "source": [
    "sudo renice 4 3633"
   ]
  },
  {
   "cell_type": "markdown",
   "metadata": {},
   "source": [
    "## Daemons.\n",
    "\n",
    "Son procesos que se ejecutan constantemente en trasfondo y no están ligados a una terminal. Comunmente son servicios del sistema. \n",
    "\n",
    "Por lo general su nombre terminan con \"d\"."
   ]
  },
  {
   "cell_type": "code",
   "execution_count": null,
   "metadata": {},
   "outputs": [],
   "source": [
    "ps -auxH"
   ]
  },
  {
   "cell_type": "markdown",
   "metadata": {},
   "source": [
    "## Consulta del estado de la memoria con ```free```.\n",
    "\n",
    "Este comando despliega el estado actual de la memoria física y virtual del sistema.\n",
    "\n",
    "```\n",
    "free <opciones>\n",
    "```"
   ]
  },
  {
   "cell_type": "code",
   "execution_count": null,
   "metadata": {},
   "outputs": [],
   "source": [
    "free"
   ]
  },
  {
   "cell_type": "code",
   "execution_count": null,
   "metadata": {},
   "outputs": [],
   "source": [
    "free -h"
   ]
  },
  {
   "cell_type": "markdown",
   "metadata": {},
   "source": [
    "## La aplicación ```top```.\n",
    "\n",
    "Esta aplicación permite desplegar los procesos y  recursos del sistema en tiempo real mediante una ventana que se actualiza de forma constante.\n"
   ]
  },
  {
   "cell_type": "code",
   "execution_count": null,
   "metadata": {},
   "outputs": [],
   "source": [
    "man top"
   ]
  },
  {
   "cell_type": "markdown",
   "metadata": {},
   "source": [
    "## El comando ```uptime```.\n",
    "\n",
    "Este comando indica el tiempo que el sistema ha estado funcionando desde su arranque."
   ]
  },
  {
   "cell_type": "code",
   "execution_count": null,
   "metadata": {},
   "outputs": [],
   "source": [
    "uptime"
   ]
  },
  {
   "cell_type": "markdown",
   "metadata": {
    "collapsed": true
   },
   "source": [
    "<p style=\"text-align: center\"><a rel=\"license\" href=\"http://creativecommons.org/licenses/by/4.0/\"><img alt=\"Licencia Creative Commons\" style=\"border-width:0\" src=\"https://i.creativecommons.org/l/by/4.0/80x15.png\" /></a><br />Esta obra está bajo una <a rel=\"license\" href=\"http://creativecommons.org/licenses/by/4.0/\">Licencia Creative Commons Atribución 4.0 Internacional</a>.</p>\n",
    "<p style=\"text-align: center\">&copy; José Luis Chiquete Valdivieso. 2020.</p>"
   ]
  }
 ],
 "metadata": {
  "kernelspec": {
   "display_name": "Bash",
   "language": "bash",
   "name": "bash"
  },
  "language_info": {
   "codemirror_mode": "shell",
   "file_extension": ".sh",
   "mimetype": "text/x-sh",
   "name": "bash"
  }
 },
 "nbformat": 4,
 "nbformat_minor": 2
}
