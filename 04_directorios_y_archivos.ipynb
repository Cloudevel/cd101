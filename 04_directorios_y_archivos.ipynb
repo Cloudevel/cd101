{
 "cells": [
  {
   "cell_type": "markdown",
   "metadata": {},
   "source": [
    "[![cloudevel](Imagenes/cloudevel.png)](https://cloudevel.com)"
   ]
  },
  {
   "cell_type": "markdown",
   "metadata": {},
   "source": [
    "## Conceptos básicos de directorios y archivos."
   ]
  },
  {
   "cell_type": "markdown",
   "metadata": {},
   "source": [
    "Uno de los conceptos claves en la arquitectura tanto de UNIX como la de GNU/Lunix es la de considerar tanto a los dispositivo y a los procesos como flujos de texto dentro de un archivo.\n",
    "\n",
    "La estructura de directorios de UNIX y GNU/Linux además de contener archivos normales contiene al sistema mismo."
   ]
  },
  {
   "cell_type": "markdown",
   "metadata": {},
   "source": [
    "### Los *inodes*.\n",
    "\n",
    "Los *inodes* son estructuras de datos que están ligadas a cada uno de los directorios y archivos en UNIX y GNU/Linux, creando un índice.\n",
    "\n",
    "Los *inodes* almacenan.\n",
    "* La localización del objeto dentro del *dispositivo de bloque*.\n",
    "* Los atributos del objetos.\n",
    "* Metadatos."
   ]
  },
  {
   "cell_type": "markdown",
   "metadata": {},
   "source": [
    "## Comandos básicas con directorios y archivos.\n",
    "\n",
    "### ```pwd```.\n",
    "### ```ls```.\n",
    "### ```cd```.\n",
    "### ```mkdir```.\n",
    "### ```touch```.\n",
    "### ```cp```.\n",
    "### ```rm```.\n",
    "### ```mv```.\n",
    "### ```ln```.\n",
    "### ```stat```.\n",
    "### ```type```.\n",
    "### ```file```.\n",
    "### ```tree```.\n",
    "### ```chmod```."
   ]
  },
  {
   "cell_type": "markdown",
   "metadata": {},
   "source": [
    "## Estructura de archivos de un sistema GNU/Linux.\n",
    "### */*.\n",
    "### */home/*.\n",
    "###  */bin/*.\n",
    "### */sbin/*.\n",
    "### */lib/*.\n",
    "### */sys/*.\n",
    "### */etc/*.\n",
    "###  */var/*.\n",
    "### */opt/*.\n",
    "###  */tmp/*.\n",
    "###  */usr/*.\n",
    "### */dev/*.\n",
    "### */proc/*.\n",
    "### */run/*.\n",
    "### */media y /mount*.\n",
    "### *//boot*."
   ]
  },
  {
   "cell_type": "markdown",
   "metadata": {},
   "source": [
    "<p style=\"text-align: center\"><a rel=\"license\" href=\"http://creativecommons.org/licenses/by/4.0/\"><img alt=\"Licencia Creative Commons\" style=\"border-width:0\" src=\"https://i.creativecommons.org/l/by/4.0/80x15.png\" /></a><br />Esta obra está bajo una <a rel=\"license\" href=\"http://creativecommons.org/licenses/by/4.0/\">Licencia Creative Commons Atribución 4.0 Internacional</a>.</p>\n",
    "<p style=\"text-align: center\">&copy; José Luis Chiquete Valdivieso. 2019.</p>"
   ]
  }
 ],
 "metadata": {
  "kernelspec": {
   "display_name": "Bash",
   "language": "bash",
   "name": "bash"
  },
  "language_info": {
   "codemirror_mode": "shell",
   "file_extension": ".sh",
   "mimetype": "text/x-sh",
   "name": "bash"
  }
 },
 "nbformat": 4,
 "nbformat_minor": 2
}
