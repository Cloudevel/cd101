{
 "cells": [
  {
   "cell_type": "markdown",
   "metadata": {},
   "source": [
    "[![cloudevel](img/cloudevel.png)](https://cloudevel.com)"
   ]
  },
  {
   "cell_type": "markdown",
   "metadata": {},
   "source": [
    "# Directorios y archivos."
   ]
  },
  {
   "cell_type": "markdown",
   "metadata": {},
   "source": [
    "## Conceptos básicos de directorios y archivos."
   ]
  },
  {
   "cell_type": "markdown",
   "metadata": {},
   "source": [
    "### Rutas.\n",
    "\n",
    "El sistema de archivos de *GNU/Linux* se define como una estructura ramificada de directorios que a su vez contienen subdirectorios y archivos como se ilustra a continuación.\n",
    "```\n",
    "/\n",
    "├── bin\n",
    "├── boot\n",
    "├── dev\n",
    "├── etc\n",
    "├── home\n",
    "├── lib \n",
    "├── lib64\n",
    "├── media\n",
    "├── mnt\n",
    "├── opt\n",
    "├── proc\n",
    "├── root\n",
    "├── run\n",
    "├── sbin\n",
    "├── srv\n",
    "├── sys\n",
    "├── tmp\n",
    "├── usr\n",
    "└── var\n",
    "```\n",
    "\n",
    "\n",
    "Todos los subdirectorios del sistema de archivos tienen como origen el directorio raíz, el cual se representa mediante una diagonal ```/``` y cada diagonal subsecuente indica que se hace referencia al un subdirectorio dentro del anterior.\n",
    "\n",
    "Cualquier recurso del sistema de archivos puede ser accedido mediante una ruta.\n",
    "\n",
    "\n",
    "```\n",
    "/<directorio 1>/<directorio 2>/.../<directorio n>/<archivo>\n",
    "```\n",
    "\n",
    "* Si la ruta empieza con una diagonal, se dice que se utiliza una \"ruta absoluta\"."
   ]
  },
  {
   "cell_type": "markdown",
   "metadata": {},
   "source": [
    "### El sistema de archivos contiene también al propio sistema.\n",
    "\n",
    "Uno de los conceptos claves en la arquitectura tanto de *UNIX* como la de *GNU/Linux* es la de considerar tanto a los dispositivo como a los procesos como flujos de texto que pueden ser localizados en el sistema de archivos.\n",
    "\n",
    "La estructura de directorios de *UNIX* y *GNU/Linux* además de contener archivos normales contiene al sistema mismo."
   ]
  },
  {
   "cell_type": "markdown",
   "metadata": {},
   "source": [
    "**Ejemplo:**\n",
    "\n",
    "La ruta ```/proc/cpuinfo``` apunta a un proceso del sistema que contiene la información de la *CPU*.\n",
    "\n",
    "* La siguiente celda desplegará la informacion de la *CPU* del sistema."
   ]
  },
  {
   "cell_type": "code",
   "execution_count": null,
   "metadata": {},
   "outputs": [],
   "source": [
    "cat /proc/cpuinfo"
   ]
  },
  {
   "cell_type": "markdown",
   "metadata": {},
   "source": [
    "## Indexado del sistema de archivos mediante ```inodes```.\n",
    "\n",
    "### Dispositivos de almacenamiento en bloque (*block storage*).\n",
    "\n",
    "Un dispositivo de almacemiento en bloque permite realizar operaciones de escritura y lectura de datos mediante operaciones físicas en medios electromagnéticos u ópticos. \n",
    "\n",
    "La localización de los datos en estos medios se realiza mediante lo que se conoce como una tabla de particiones."
   ]
  },
  {
   "cell_type": "markdown",
   "metadata": {},
   "source": [
    "### Los ```inodes```.\n",
    "\n",
    "Los ```inodes``` son estructuras de datos que relacionan la ruta de un directorio o archivo en el sistema de archivos con su posición física en un dispositivo de bloque.\n",
    "\n",
    "Los ```inodes``` almacenan.\n",
    "* La localización del objeto dentro del dispositivo de bloque.\n",
    "* Los atributos del objetos.\n",
    "* Metadatos."
   ]
  },
  {
   "cell_type": "markdown",
   "metadata": {},
   "source": [
    "## El comando ```pwd```.\n",
    "\n",
    "Este comando permite saber la ruta en la que se encuentra la terminal."
   ]
  },
  {
   "cell_type": "markdown",
   "metadata": {},
   "source": [
    "**Ejemplo:**\n",
    "\n",
    "La siguiente celda desplegará la ruta absoluta en la que se encuentra esta notebook."
   ]
  },
  {
   "cell_type": "code",
   "execution_count": null,
   "metadata": {},
   "outputs": [],
   "source": [
    "pwd"
   ]
  },
  {
   "cell_type": "markdown",
   "metadata": {},
   "source": [
    "### La *man page* de ```pwd```."
   ]
  },
  {
   "cell_type": "code",
   "execution_count": null,
   "metadata": {
    "scrolled": true
   },
   "outputs": [],
   "source": [
    "man pwd"
   ]
  },
  {
   "cell_type": "markdown",
   "metadata": {},
   "source": [
    "## Listado de archivos y directorios con el comando ```ls```.\n",
    "\n",
    "Este comando despliega:\n",
    "* El contenido de un directorio o de un archivo en particular por medio de su ruta.\n",
    "* Los datos de un archivo por medio de su ruta.\n",
    "\n",
    "\n",
    "```\n",
    "ls <opciones> <ruta 1> <ruta 2> ... <ruta n>\n",
    "```\n",
    "\n",
    "Donde:\n",
    "\n",
    "* ```<opciones>``` corresponde a las diversas opciones del comando.\n",
    "* ```<ruta i>``` es la ruta a un archivo o directorio. La ruta por defecto es la ruta del directorio actual.\n",
    "\n",
    "\n",
    "* El comando ```ls``` puede diferenciar entre un archivo y un directorio, por lo que el uso de la diagonal al final para identificar a un directorio es opcional."
   ]
  },
  {
   "cell_type": "markdown",
   "metadata": {},
   "source": [
    "**Ejemplos:**"
   ]
  },
  {
   "cell_type": "markdown",
   "metadata": {},
   "source": [
    "* La siguiente celda desplegará el listado del directorio en el que se encuentra esta notebook."
   ]
  },
  {
   "cell_type": "code",
   "execution_count": null,
   "metadata": {},
   "outputs": [],
   "source": [
    "ls"
   ]
  },
  {
   "cell_type": "markdown",
   "metadata": {},
   "source": [
    "* Las siguiente celda hará un listado extendido de el directorio ```/home/``` del y el subdirectorio ```img``` del directorio actual utilizando las opciones ```-a``` y ```-l```."
   ]
  },
  {
   "cell_type": "code",
   "execution_count": null,
   "metadata": {},
   "outputs": [],
   "source": [
    "ls img /home/ -al"
   ]
  },
  {
   "cell_type": "markdown",
   "metadata": {},
   "source": [
    "* La siguiente celda hará un listado extendido del archivo ```img/cloudevel.png``` utilizando la opción ```-l```."
   ]
  },
  {
   "cell_type": "code",
   "execution_count": null,
   "metadata": {},
   "outputs": [],
   "source": [
    "ls img/cloudevel.png"
   ]
  },
  {
   "cell_type": "code",
   "execution_count": null,
   "metadata": {},
   "outputs": [],
   "source": [
    "ls -l img/cloudevel.png"
   ]
  },
  {
   "cell_type": "markdown",
   "metadata": {},
   "source": [
    "* La siguiente celda hará un listado simple del directorio ```/etc/```."
   ]
  },
  {
   "cell_type": "code",
   "execution_count": null,
   "metadata": {},
   "outputs": [],
   "source": [
    "ls /etc"
   ]
  },
  {
   "cell_type": "markdown",
   "metadata": {},
   "source": [
    "### Listado de elementos ocultos.\n",
    "\n",
    "Los sistemas *GNU/Linux* y *UNIX* permiten ocultar ciertos archivos al ejecutar el comando ```ls``` antecediendo un punto ```.``` antes de su nombre. Sólo mediante la opción ```-l``` es posible que ```ls``` muestre dichos archivos.\n",
    "\n",
    "```\n",
    ".<nombre>\n",
    "```\n",
    "\n",
    "* La opción ```-a ``` o  ```--all``` permite ver todos los archivos, incluyendo los ocultos."
   ]
  },
  {
   "cell_type": "markdown",
   "metadata": {},
   "source": [
    "**Ejemplo:**\n",
    "\n",
    "* La siguiente celda desplegará todos los archivos, incluyendo los ocultos del directorio actual."
   ]
  },
  {
   "cell_type": "code",
   "execution_count": null,
   "metadata": {},
   "outputs": [],
   "source": [
    "ls -a"
   ]
  },
  {
   "cell_type": "markdown",
   "metadata": {},
   "source": [
    "### Listado extendido.\n",
    "\n",
    "La opción ```-l``` permite realizar un listado extendido de elementos que despliegan la siguiente información.\n",
    "\n",
    "\n",
    "```\n",
    "-rw-r--r-- 1 oi oi 47177 May 28 14:08 img/cloudevel.png\n",
    "```\n",
    "\n",
    "* La primera columna contiene una serie de caracteres que describen:\n",
    "    * El tipo de elemento del que se trata.\n",
    "        * ```-``` para archivos comunes.\n",
    "        * ```d``` para directorios.\n",
    "        * ```l``` para enlaces.\n",
    "    * Los permisos para el usuario propietario del elemento.\n",
    "    * Los permisos para el grupo propietario del elemento.\n",
    "    * Los permisos para el resto de los usuarios.\n",
    "* La segunda columna es un número que indica la cantidad de enalces tiene.\n",
    "* La tercera columna indica el nombre del usuario propietario del elemento.\n",
    "* La cuarta columna indica el nombre del grupo propietario del elemento.\n",
    "* La quinta columna indica el tamaño en bytes del archivo.\n",
    "* Las sexta columna muestra la fecha del último acceso al elemento.\n",
    "* La séptima columna muestra el nombre del elemento.\n",
    "\n",
    "La opción ```-h``` permite deplegar el tamaño de un archivo en *KB*, *MB* o *GB* para hacerlo más legible."
   ]
  },
  {
   "cell_type": "markdown",
   "metadata": {},
   "source": [
    "**Ejemplo:**\n",
    "\n",
    "* La siguiente celda desplegará de forma extendida todos los archivos, incluyendo los ocultos, mostrando el tamaño de los archivos en *KB*, *MB* o *GB*."
   ]
  },
  {
   "cell_type": "code",
   "execution_count": null,
   "metadata": {
    "scrolled": true
   },
   "outputs": [],
   "source": [
    "ls --all -lh"
   ]
  },
  {
   "cell_type": "code",
   "execution_count": null,
   "metadata": {
    "scrolled": true
   },
   "outputs": [],
   "source": [
    "tree .git"
   ]
  },
  {
   "cell_type": "markdown",
   "metadata": {},
   "source": [
    "* La siguiente celda desplegará de forma extendida todos los archivos del directorio actual, incluyendo los ocultos, mostrando el tamaño de los archivos en *bytes*."
   ]
  },
  {
   "cell_type": "code",
   "execution_count": null,
   "metadata": {},
   "outputs": [],
   "source": [
    "ls -al"
   ]
  },
  {
   "cell_type": "markdown",
   "metadata": {},
   "source": [
    "### Listado con el numero de ```inode```.\n",
    "\n",
    "La opción ```-i``` da la información del ```inode``` de cada elemento."
   ]
  },
  {
   "cell_type": "markdown",
   "metadata": {},
   "source": [
    "**Ejemplo:**\n",
    "\n",
    "* La siguiente celda desplegará todos los archivos visibles del directorio actual, indicando el número de su ```inode``` correspondiente."
   ]
  },
  {
   "cell_type": "code",
   "execution_count": null,
   "metadata": {},
   "outputs": [],
   "source": [
    "ls -i"
   ]
  },
  {
   "cell_type": "markdown",
   "metadata": {},
   "source": [
    "### Otras opciones de ```ls```.\n",
    "\n",
    "* ```-r``` o ```--reverse``` desplegará el lsitado en orden de mayor a menor.\n",
    "* ```-R``` o ```--recursive``` deeplegará el contenido del directorio de referencia y el de sis subdirectorios."
   ]
  },
  {
   "cell_type": "markdown",
   "metadata": {},
   "source": [
    "**Ejemplos:**"
   ]
  },
  {
   "cell_type": "markdown",
   "metadata": {},
   "source": [
    "* La siguiente celda desplegará un listado a detalle de los archivos del directorio actual, dispuesto en orden inverso."
   ]
  },
  {
   "cell_type": "code",
   "execution_count": null,
   "metadata": {
    "scrolled": false
   },
   "outputs": [],
   "source": [
    "ls -rhl"
   ]
  },
  {
   "cell_type": "markdown",
   "metadata": {},
   "source": [
    "* La siguiente celda desplegará un listado de los archivos del directorio actual y de sus subdirectorios."
   ]
  },
  {
   "cell_type": "code",
   "execution_count": null,
   "metadata": {},
   "outputs": [],
   "source": [
    "ls -R"
   ]
  },
  {
   "cell_type": "markdown",
   "metadata": {},
   "source": [
    "### La *man page* de  ```ls```."
   ]
  },
  {
   "cell_type": "code",
   "execution_count": null,
   "metadata": {},
   "outputs": [],
   "source": [
    "man ls"
   ]
  },
  {
   "cell_type": "markdown",
   "metadata": {},
   "source": [
    "## Rutas absolutas y relativas.\n",
    "\n",
    "Los sitemas *UNIX* y *GNU/Linux* permiten acceder a cualquier recurso del sistema de archivos mediante una ruta. En ese sentido es posible utilizar rutas absolutas o rutas relativas."
   ]
  },
  {
   "cell_type": "markdown",
   "metadata": {},
   "source": [
    "### Rutas absolutas.\n",
    "\n",
    "Una ruta absoluta es aquella que se indica a partir del directorio raíz ```/```.\n",
    "\n",
    "```\n",
    "/<subdirectorio 1>/<subdirectorio 2>/.../<subdirectorio n>/<elemento>\n",
    "```"
   ]
  },
  {
   "cell_type": "markdown",
   "metadata": {},
   "source": [
    "**Ejemplos:**"
   ]
  },
  {
   "cell_type": "markdown",
   "metadata": {},
   "source": [
    "* La siguiente celda enlistará el contenido del directorio raíz."
   ]
  },
  {
   "cell_type": "code",
   "execution_count": null,
   "metadata": {},
   "outputs": [],
   "source": [
    "ls /"
   ]
  },
  {
   "cell_type": "markdown",
   "metadata": {},
   "source": [
    "* Las siguientes celda desplegarán el contenido de directorio ```/usr/local/```."
   ]
  },
  {
   "cell_type": "code",
   "execution_count": null,
   "metadata": {},
   "outputs": [],
   "source": [
    "ls /usr/local"
   ]
  },
  {
   "cell_type": "markdown",
   "metadata": {},
   "source": [
    "* La siguiente celda desplegará al archivo localizado en ```/dev/input/mice```."
   ]
  },
  {
   "cell_type": "code",
   "execution_count": null,
   "metadata": {},
   "outputs": [],
   "source": [
    "ls /dev/input/mice"
   ]
  },
  {
   "cell_type": "markdown",
   "metadata": {},
   "source": [
    "### Rutas relativas.\n",
    "\n",
    "Las rutas relativas no comienzan desde la raíz, sino que utilizan como referencia la posición en la que se encuentra el *shell* y por lo tanto, no comienzan con la diagonal ```\\```.\n",
    "\n",
    "**Nota:** En el caso de las notebooks de Jupyter, la ruta relativa toma como referencia inicial el directorio en el que se encuentra la notebook."
   ]
  },
  {
   "cell_type": "markdown",
   "metadata": {},
   "source": [
    "**Ejemplos:**"
   ]
  },
  {
   "cell_type": "markdown",
   "metadata": {},
   "source": [
    "* La siguiente celda despelgará la posición de esta notebook en el sistema de archivos. Esta será la psición de referencia para las rutas relativas."
   ]
  },
  {
   "cell_type": "code",
   "execution_count": null,
   "metadata": {},
   "outputs": [],
   "source": [
    "pwd"
   ]
  },
  {
   "cell_type": "markdown",
   "metadata": {},
   "source": [
    "* La siguiente celda despelgará el listado de directorio [*img*](img)."
   ]
  },
  {
   "cell_type": "code",
   "execution_count": null,
   "metadata": {
    "scrolled": true
   },
   "outputs": [],
   "source": [
    "ls img"
   ]
  },
  {
   "cell_type": "markdown",
   "metadata": {},
   "source": [
    "* La siguiente celda desplegará la ruta del archivo [*img/03/inicio.png*](img/03/inicio.png)."
   ]
  },
  {
   "cell_type": "code",
   "execution_count": null,
   "metadata": {},
   "outputs": [],
   "source": [
    "ls img/03/inicio.png"
   ]
  },
  {
   "cell_type": "markdown",
   "metadata": {},
   "source": [
    "#### Acceso al directorio actual."
   ]
  },
  {
   "cell_type": "markdown",
   "metadata": {},
   "source": [
    "En algunos casos es útil hacer referencia explícita al directorio en el que se encuentra el *shell*.\n",
    "\n",
    "El directorio actual se denota por un punto ```.```."
   ]
  },
  {
   "cell_type": "markdown",
   "metadata": {},
   "source": [
    "**Ejemplo:**\n",
    "\n",
    "La siguiente celda desplegará un listado extendido de todos el contenido del directorio ligado a esta notebook."
   ]
  },
  {
   "cell_type": "code",
   "execution_count": null,
   "metadata": {},
   "outputs": [],
   "source": [
    "ls -al ."
   ]
  },
  {
   "cell_type": "markdown",
   "metadata": {},
   "source": [
    "#### Acceso a directorios superiores.\n",
    "\n",
    "Para acceder al directorio inmediato superior se utilizan dobles puntos ```../```.\n",
    "Esta operación puede ser usada varias veces para acceder a niveles superiores en la ruta."
   ]
  },
  {
   "cell_type": "markdown",
   "metadata": {},
   "source": [
    "**Ejemplos:**"
   ]
  },
  {
   "cell_type": "markdown",
   "metadata": {},
   "source": [
    "* La siguiente celda desplegará el listado del directorio que contiene al directorio actual."
   ]
  },
  {
   "cell_type": "code",
   "execution_count": null,
   "metadata": {},
   "outputs": [],
   "source": [
    "pwd"
   ]
  },
  {
   "cell_type": "code",
   "execution_count": null,
   "metadata": {
    "scrolled": false
   },
   "outputs": [],
   "source": [
    "ls ../"
   ]
  },
  {
   "cell_type": "markdown",
   "metadata": {},
   "source": [
    " * La siguiente celda despelgará el listado de directorio [*img*](img) a partir del directorio superior."
   ]
  },
  {
   "cell_type": "code",
   "execution_count": null,
   "metadata": {},
   "outputs": [],
   "source": [
    "ls ../cd101/img"
   ]
  },
  {
   "cell_type": "markdown",
   "metadata": {},
   "source": [
    "* La siguiente celda despelgará el listado de el directorio 2 niveles arriba del actual."
   ]
  },
  {
   "cell_type": "code",
   "execution_count": null,
   "metadata": {},
   "outputs": [],
   "source": [
    "ls ../../"
   ]
  },
  {
   "cell_type": "markdown",
   "metadata": {},
   "source": [
    "#### Acceso al directorio *home* del usuario.\n",
    "\n",
    "Es común asignarle a cada usuario de un sistema *UNIX* o *GNU/Linux* un directorio de su propiedad que por lo general es donde el shell se localizará al iniciar la sesión. A este direcotrio se le comoce como el *home* del usuario y se hace referencia a éste mediante una virgulilla ```~```."
   ]
  },
  {
   "cell_type": "markdown",
   "metadata": {},
   "source": [
    "**Ejemplo:**\n",
    "\n",
    "La siguiente celda desplegará el listado extendido de todo el contenido del directorio *home* del usuario ligado al servicio de *Jupyter*.\n",
    "\n",
    "**Nota:** Si esta notebook se está ejecutando desde la máquina virtual proporcionada por Cloudevel<sup>®</sup>, el directorio sería ```/home/oi```."
   ]
  },
  {
   "cell_type": "code",
   "execution_count": null,
   "metadata": {},
   "outputs": [],
   "source": [
    "ls -al ~ "
   ]
  },
  {
   "cell_type": "markdown",
   "metadata": {},
   "source": [
    "## Desplazamiento entre directorios con el comando ```cd```.\n",
    "\n",
    "El comando ```cd``` permite moverse entre directorios indicando la ruta a la que se quiere acceder.\n",
    "\n",
    "```\n",
    "cd <ruta>\n",
    "```\n",
    "\n",
    "Donde:\n",
    "\n",
    "* ```<ruta>``` es una ruta absoluta o relativa del sistema. En caso de que no se ingrese una ruta, el *shell* se posicionará en el *home* del usuario."
   ]
  },
  {
   "cell_type": "markdown",
   "metadata": {},
   "source": [
    "**Ejemplos:**"
   ]
  },
  {
   "cell_type": "markdown",
   "metadata": {},
   "source": [
    "* La siguiente celda moverá el shell al directorio [*img*](img)."
   ]
  },
  {
   "cell_type": "code",
   "execution_count": null,
   "metadata": {},
   "outputs": [],
   "source": [
    "cd img"
   ]
  },
  {
   "cell_type": "code",
   "execution_count": null,
   "metadata": {},
   "outputs": [],
   "source": [
    "pwd"
   ]
  },
  {
   "cell_type": "markdown",
   "metadata": {},
   "source": [
    " * La siguiente celda moverá el shell dos niveles arriba de directorio actual."
   ]
  },
  {
   "cell_type": "code",
   "execution_count": null,
   "metadata": {},
   "outputs": [],
   "source": [
    "cd ../../"
   ]
  },
  {
   "cell_type": "code",
   "execution_count": null,
   "metadata": {},
   "outputs": [],
   "source": [
    "pwd"
   ]
  },
  {
   "cell_type": "markdown",
   "metadata": {},
   "source": [
    "* La siguiente celda moverá el shell al directorio ```/usr/share/```."
   ]
  },
  {
   "cell_type": "code",
   "execution_count": null,
   "metadata": {},
   "outputs": [],
   "source": [
    "cd /usr/share/"
   ]
  },
  {
   "cell_type": "code",
   "execution_count": null,
   "metadata": {},
   "outputs": [],
   "source": [
    "pwd"
   ]
  },
  {
   "cell_type": "markdown",
   "metadata": {},
   "source": [
    "* La siguiente celda moverá el shell al directorio ```/usr/local/```."
   ]
  },
  {
   "cell_type": "code",
   "execution_count": null,
   "metadata": {},
   "outputs": [],
   "source": [
    "cd ../local/"
   ]
  },
  {
   "cell_type": "code",
   "execution_count": null,
   "metadata": {},
   "outputs": [],
   "source": [
    "pwd"
   ]
  },
  {
   "cell_type": "markdown",
   "metadata": {},
   "source": [
    "* La siguiente celda tratará de mover el shell al directorio ```/root/```. Sin embargo, el usuario actual no cuenta con los permisos de acceso a dicho directorio."
   ]
  },
  {
   "cell_type": "code",
   "execution_count": null,
   "metadata": {},
   "outputs": [],
   "source": [
    "cd /root"
   ]
  },
  {
   "cell_type": "markdown",
   "metadata": {},
   "source": [
    "Por lo tanto, el shell no se moverá de su posición actual."
   ]
  },
  {
   "cell_type": "code",
   "execution_count": null,
   "metadata": {},
   "outputs": [],
   "source": [
    "pwd"
   ]
  },
  {
   "cell_type": "markdown",
   "metadata": {},
   "source": [
    "* Las siguientes celdas moverán el shell al *home* del usuario que está ejecutando el servicio de esta notebook de *Jupyter*."
   ]
  },
  {
   "cell_type": "code",
   "execution_count": null,
   "metadata": {},
   "outputs": [],
   "source": [
    "cd ~"
   ]
  },
  {
   "cell_type": "code",
   "execution_count": null,
   "metadata": {},
   "outputs": [],
   "source": [
    "pwd"
   ]
  },
  {
   "cell_type": "code",
   "execution_count": null,
   "metadata": {},
   "outputs": [],
   "source": [
    "cd"
   ]
  },
  {
   "cell_type": "code",
   "execution_count": null,
   "metadata": {},
   "outputs": [],
   "source": [
    "pwd"
   ]
  },
  {
   "cell_type": "markdown",
   "metadata": {},
   "source": [
    "## Creación de directorios con  el comando ```mkdir```.\n",
    "\n",
    "El comando ```mkdir``` permite crear un subdirectorio en caso de que el usuario cuente con los permisos adecuados.\n",
    "\n",
    "```\n",
    "mkdir <ruta 1> <ruta 2> ... <ruta n> \n",
    "```\n",
    "\n",
    "Donde:\n",
    "\n",
    "* ```<ruta i>``` es la ruta de un directorio nuevo. "
   ]
  },
  {
   "cell_type": "markdown",
   "metadata": {},
   "source": [
    "**Ejemplos:**"
   ]
  },
  {
   "cell_type": "markdown",
   "metadata": {},
   "source": [
    "* Se intentará listar la ruta ```~/ejemplo_1```, la cual no corresponde a ningun archivo o directorio."
   ]
  },
  {
   "cell_type": "code",
   "execution_count": null,
   "metadata": {},
   "outputs": [],
   "source": [
    "ls ~/ejemplo_1"
   ]
  },
  {
   "cell_type": "markdown",
   "metadata": {},
   "source": [
    "* Se creará el directorio ```~/ejemplo_1```."
   ]
  },
  {
   "cell_type": "code",
   "execution_count": null,
   "metadata": {},
   "outputs": [],
   "source": [
    "mkdir ~/ejemplo_1"
   ]
  },
  {
   "cell_type": "markdown",
   "metadata": {},
   "source": [
    "* Se intentará listar la ruta ```~/ejemplo_1``` nuevamente utilizando la opción ```-a ```."
   ]
  },
  {
   "cell_type": "code",
   "execution_count": null,
   "metadata": {},
   "outputs": [],
   "source": [
    "ls -a ~/ejemplo_1"
   ]
  },
  {
   "cell_type": "markdown",
   "metadata": {},
   "source": [
    "* Se intentará crear el directorio ```/boot/ejemplo```, pero el usuario actual no cuenta con los permisos para poder realizar esta acción."
   ]
  },
  {
   "cell_type": "code",
   "execution_count": null,
   "metadata": {},
   "outputs": [],
   "source": [
    "mkdir /boot/ejemplo"
   ]
  },
  {
   "cell_type": "markdown",
   "metadata": {},
   "source": [
    "### Creación de directorios anidados.\n",
    "\n",
    "El comando ```mkdir``` sólo puede crear un subdirectorio si su directorio superior existe.\n",
    "\n",
    "la opción ```-p``` permite crear un directorio junto con sus directorios superiores."
   ]
  },
  {
   "cell_type": "markdown",
   "metadata": {},
   "source": [
    "**Ejemplo:**"
   ]
  },
  {
   "cell_type": "markdown",
   "metadata": {},
   "source": [
    "* La siguiente celda msotrará que el directorio ```~/ejemplo_2``` no existe."
   ]
  },
  {
   "cell_type": "code",
   "execution_count": null,
   "metadata": {},
   "outputs": [],
   "source": [
    "ls ~/ejemplo_2"
   ]
  },
  {
   "cell_type": "markdown",
   "metadata": {},
   "source": [
    "* La siguiente celda creará a los directorios ```~/ejemplo_2``` y ```~/ejemplo_2/otro```."
   ]
  },
  {
   "cell_type": "code",
   "execution_count": null,
   "metadata": {
    "scrolled": true
   },
   "outputs": [],
   "source": [
    "mkdir -p ~/ejemplo_2/otro"
   ]
  },
  {
   "cell_type": "code",
   "execution_count": null,
   "metadata": {},
   "outputs": [],
   "source": [
    "ls ~/ejemplo_2"
   ]
  },
  {
   "cell_type": "markdown",
   "metadata": {},
   "source": [
    "### La *man page* de ```mkdir```."
   ]
  },
  {
   "cell_type": "code",
   "execution_count": null,
   "metadata": {},
   "outputs": [],
   "source": [
    "man mkdir"
   ]
  },
  {
   "cell_type": "markdown",
   "metadata": {},
   "source": [
    "## Creación o modificación  de un archivo con ```touch```.\n",
    "\n",
    "Este comando tiene 2 funciones:\n",
    "\n",
    "* Crear un archivo vacío en caso de no existir.\n",
    "* En caso de que el archivo exista, modifica la fecha de acceso al archivo.\n",
    "\n",
    "```\n",
    "touch <ruta1> <ruta 2> ... <ruta n>\n",
    "```\n",
    "\n",
    "Donde:\n",
    "\n",
    "* ```<ruta i>``` es la ruta donde se localiza o se creará un archivo."
   ]
  },
  {
   "cell_type": "markdown",
   "metadata": {},
   "source": [
    "**Ejemplo:**"
   ]
  },
  {
   "cell_type": "markdown",
   "metadata": {},
   "source": [
    "* Se intentará buscar el archivos localizado en la  ruta ```~/archivo```. Debido a que este archivo no  existe, se generará un mensaje de error."
   ]
  },
  {
   "cell_type": "code",
   "execution_count": null,
   "metadata": {},
   "outputs": [],
   "source": [
    "ls ~/archivo"
   ]
  },
  {
   "cell_type": "markdown",
   "metadata": {},
   "source": [
    "Se utilizará el comando ```touch``` para crear los archivos ```~/archivo``` y ```~/otro_archivo```."
   ]
  },
  {
   "cell_type": "code",
   "execution_count": null,
   "metadata": {},
   "outputs": [],
   "source": [
    "touch ~/archivo ~/otro_archivo"
   ]
  },
  {
   "cell_type": "code",
   "execution_count": null,
   "metadata": {},
   "outputs": [],
   "source": [
    "ls ~/archivo ~/otro_archivo -l"
   ]
  },
  {
   "cell_type": "markdown",
   "metadata": {},
   "source": [
    "Se puede apreciar que el tamaño  de ambos archivos es ```0```."
   ]
  },
  {
   "cell_type": "markdown",
   "metadata": {},
   "source": [
    "**Nota:** Espere un par de minutos antes de ejecutar las siguiente celda.\n",
    "\n",
    "* La fecha de acceso del archivo ```~/archivo``` será modificada al momento en l que se de ejecute la siguiente celda."
   ]
  },
  {
   "cell_type": "code",
   "execution_count": null,
   "metadata": {},
   "outputs": [],
   "source": [
    "touch ~/archivo"
   ]
  },
  {
   "cell_type": "markdown",
   "metadata": {},
   "source": [
    "* El cambio será visible al hacer un listado extendido del archivo."
   ]
  },
  {
   "cell_type": "code",
   "execution_count": null,
   "metadata": {
    "scrolled": true
   },
   "outputs": [],
   "source": [
    "ls -l ~/archivo ~/otro_archivo"
   ]
  },
  {
   "cell_type": "markdown",
   "metadata": {},
   "source": [
    "### La *man page* de ```touch```."
   ]
  },
  {
   "cell_type": "code",
   "execution_count": null,
   "metadata": {},
   "outputs": [],
   "source": [
    "man touch"
   ]
  },
  {
   "cell_type": "markdown",
   "metadata": {},
   "source": [
    "## Nombres de directorios y archivos.\n",
    "\n",
    "El sistema de archivos de *GNU/Linux* y de la mayoría de los *UNIX* soporta prácticamente cualquier caracter para darle nombre a un directorio o archivo y por lo general puede tener un tamaño de hasta 255 caracteres.\n",
    "\n",
    "**ADVERTENCIA:**\n",
    "\n",
    "Aún cuando es posible, no se recomienda utilizar espacios y caracteres especiales."
   ]
  },
  {
   "cell_type": "markdown",
   "metadata": {},
   "source": [
    "### Nombres de archivos o directorios con espacios.\n",
    "\n",
    "Los sitemas de archivos y directorios de *GNU/Linux* y la mayoría de los *UNIX* permiten crear nombres que incluyan espacios, pero es necesario utilizar una sintaxis especial."
   ]
  },
  {
   "cell_type": "markdown",
   "metadata": {},
   "source": [
    "**Ejemplos:**"
   ]
  },
  {
   "cell_type": "markdown",
   "metadata": {},
   "source": [
    "* La siguiente celda intentará crear con ``mkdir`` un archivo con espacios, pero en realidad creará 3 directorios:\n",
    "* El dirfectorio ```erroneo``` localizado en el *home* del usuario de esta notebook.\n",
    "* El directorio ```con``` localizado en el directorio actual.\n",
    "* El directorio ```espacios``` localizado en el directorio actual."
   ]
  },
  {
   "cell_type": "code",
   "execution_count": null,
   "metadata": {},
   "outputs": [],
   "source": [
    "mkdir ~/erroneo con espacios"
   ]
  },
  {
   "cell_type": "markdown",
   "metadata": {},
   "source": [
    "* Del mismo modo el resultado con ```ls``` es el listado de 3 directorios."
   ]
  },
  {
   "cell_type": "code",
   "execution_count": null,
   "metadata": {},
   "outputs": [],
   "source": [
    "ls ~/erroneo con espacios -a"
   ]
  },
  {
   "cell_type": "markdown",
   "metadata": {},
   "source": [
    "#### Cadenas de caracteres.\n",
    "\n",
    "El *shell* identifica cualquier valor como si fuera una cadena de caracteres. Sin embargo, el caracter de espacio indica una separación de elementos.\n",
    "\n",
    "Para indicarle al *shell* de que se trata de una cadena de caracteres que incluye espacios, es necesario encerrar el nombre entre comiilas o entre apóstrofes."
   ]
  },
  {
   "cell_type": "markdown",
   "metadata": {},
   "source": [
    "**Ejemplo:**"
   ]
  },
  {
   "cell_type": "markdown",
   "metadata": {},
   "source": [
    "* La siguiente celda creará el directorio ```~/\"directorio con espacios\"```."
   ]
  },
  {
   "cell_type": "code",
   "execution_count": null,
   "metadata": {},
   "outputs": [],
   "source": [
    "mkdir ~/\"directorio con espacios\""
   ]
  },
  {
   "cell_type": "markdown",
   "metadata": {},
   "source": [
    "* El directorio podrá ser listado al ejecutar la siguiente celda."
   ]
  },
  {
   "cell_type": "code",
   "execution_count": null,
   "metadata": {},
   "outputs": [],
   "source": [
    "ls ~"
   ]
  },
  {
   "cell_type": "markdown",
   "metadata": {},
   "source": [
    "#### Uso de la diagonal invertida ```\\``` como caracter de escape.\n",
    "\n",
    "Algunos caracteres como el espacio, los signos ```$```, ```*```, ```?``` y la propia diagonal invertida ```\\``` son caracteres especiales que pueden ser desplegados o \"escapados\" antecediendo una diagonal invertida ```\\```.\n",
    "\n",
    "```\n",
    "\\<caracter>\n",
    "```\n",
    "\n",
    "Donde:\n",
    "\n",
    "* ```<caracter>``` es un caracter especial."
   ]
  },
  {
   "cell_type": "markdown",
   "metadata": {},
   "source": [
    "**Ejemplos:**"
   ]
  },
  {
   "cell_type": "markdown",
   "metadata": {},
   "source": [
    "* La siguiente celda creará el directorio ```~/otro directorio con $\\ caracteres especiales``` usando caracteres de escape."
   ]
  },
  {
   "cell_type": "code",
   "execution_count": null,
   "metadata": {},
   "outputs": [],
   "source": [
    "mkdir ~/otro\\ directorio\\ con\\ \\$\\\\\\ caracteres\\ especiales"
   ]
  },
  {
   "cell_type": "markdown",
   "metadata": {},
   "source": [
    "* La siguiente celda desplegará el directorio ```~``` incluyendo el directorio recién creado."
   ]
  },
  {
   "cell_type": "code",
   "execution_count": null,
   "metadata": {},
   "outputs": [],
   "source": [
    "ls ~"
   ]
  },
  {
   "cell_type": "markdown",
   "metadata": {},
   "source": [
    "### Nombres que empiezan con ```~```.\n",
    "\n",
    "El caracter  ```~``` se utiliza para identificar al directorio *home* del usuario actual. Sin embargo, también es un caracter válido para el inicio de un nombre.\n",
    "\n",
    "Esto se presta a confusiones y es necesario tener cuidado con el uso de estos nombre."
   ]
  },
  {
   "cell_type": "markdown",
   "metadata": {},
   "source": [
    "**Ejemplo:**"
   ]
  },
  {
   "cell_type": "code",
   "execution_count": null,
   "metadata": {},
   "outputs": [],
   "source": [
    "cd"
   ]
  },
  {
   "cell_type": "code",
   "execution_count": null,
   "metadata": {},
   "outputs": [],
   "source": [
    "pwd"
   ]
  },
  {
   "cell_type": "markdown",
   "metadata": {},
   "source": [
    "* La siguiente celda creará al archivo ```~tilde``` en el directorio actual y el archivo ```tilde``` en el directorio *home* del usuario actual."
   ]
  },
  {
   "cell_type": "code",
   "execution_count": null,
   "metadata": {},
   "outputs": [],
   "source": [
    "touch ~tilde ~/tilde"
   ]
  },
  {
   "cell_type": "code",
   "execution_count": null,
   "metadata": {},
   "outputs": [],
   "source": [
    "ls "
   ]
  },
  {
   "cell_type": "markdown",
   "metadata": {},
   "source": [
    "### Archivos y directorios ocultos.\n",
    "\n",
    "Los sistemas *GNU/Linux* y *UNIX* permiten ocultar archivos cuando se ejecuta el comando ```ls``` en el directorio que lo contenga a menos que se utilice la opción ```-a``` poniendo un punto ```.``` al principio del nombre."
   ]
  },
  {
   "cell_type": "markdown",
   "metadata": {},
   "source": [
    "**Ejemplos:**"
   ]
  },
  {
   "cell_type": "markdown",
   "metadata": {},
   "source": [
    "* La siguiente celda creará el directorio ```~/.oculto```."
   ]
  },
  {
   "cell_type": "code",
   "execution_count": null,
   "metadata": {},
   "outputs": [],
   "source": [
    "mkdir ~/.oculto"
   ]
  },
  {
   "cell_type": "markdown",
   "metadata": {},
   "source": [
    "* La siguiente celda desplegará sólo los archivos y directorios visibles del directorio ```~```."
   ]
  },
  {
   "cell_type": "code",
   "execution_count": null,
   "metadata": {},
   "outputs": [],
   "source": [
    "ls ~"
   ]
  },
  {
   "cell_type": "markdown",
   "metadata": {},
   "source": [
    "* La siguiente celda desplegará todo el contenido del directorio ```~``` incluyendo los archivos y directorios ocultos."
   ]
  },
  {
   "cell_type": "code",
   "execution_count": null,
   "metadata": {},
   "outputs": [],
   "source": [
    "ls -a ~"
   ]
  },
  {
   "cell_type": "markdown",
   "metadata": {},
   "source": [
    "## Copia de archivos o directorios con ```cp```.\n",
    "\n",
    "El comando ```cp``` permite copiar un archivo o directorio a otro directorio.\n",
    "\n",
    "De forma general, la sintaxis de este comando es la siguiente:\n",
    "\n",
    "```\n",
    "cp <opciones> <ruta objeto 1> <ruta objeto 2> ... <ruta objeto n> <ruta destino>\n",
    "```\n",
    "\n",
    "Donde:\n",
    "\n",
    "* ```<ruta objeto i>``` es la ruta de un archivo o un directorio.\n",
    "* ```<ruta destino>``` es la ruta a la que serán copiados los archivos o directorios.\n"
   ]
  },
  {
   "cell_type": "markdown",
   "metadata": {},
   "source": [
    "**Ejemplos:**"
   ]
  },
  {
   "cell_type": "markdown",
   "metadata": {},
   "source": [
    "* La siguiente celda enlistará a los archivos ```~/archivo``` y ```~/otro_archivo``` mostrando su ```inode``` correspondiente."
   ]
  },
  {
   "cell_type": "code",
   "execution_count": null,
   "metadata": {},
   "outputs": [],
   "source": [
    "ls -i ~/archivo ~/otro_archivo"
   ]
  },
  {
   "cell_type": "markdown",
   "metadata": {},
   "source": [
    "* La siguiente celda copiará los archivos ```~/archivo``` y ```~/otro_archivo``` en el directorio ```~/ejemplo_2/otro/```."
   ]
  },
  {
   "cell_type": "code",
   "execution_count": null,
   "metadata": {},
   "outputs": [],
   "source": [
    "cp ~/archivo ~/otro_archivo ~/ejemplo_2/otro/"
   ]
  },
  {
   "cell_type": "markdown",
   "metadata": {},
   "source": [
    "* La siguiente celda mostrará que los archivo ```~/ejemplo_2/otro/archivo``` y ```~/ejemplo_2/otro/otro_archivo```  tienen ```inodes``` distintos a los originales."
   ]
  },
  {
   "cell_type": "code",
   "execution_count": null,
   "metadata": {},
   "outputs": [],
   "source": [
    "ls -i ~/ejemplo_2/otro/"
   ]
  },
  {
   "cell_type": "markdown",
   "metadata": {},
   "source": [
    "###  Copia de directorios.\n",
    "\n",
    "El comando ```cp``` permite copiar directorios, pero es necesario utilizar la opción ```-r```  o ```--recursive``` con la finalidad de copiar los archivos y directorios que contienen los dirtectorios de origne."
   ]
  },
  {
   "cell_type": "markdown",
   "metadata": {},
   "source": [
    "**Ejemplo:**"
   ]
  },
  {
   "cell_type": "markdown",
   "metadata": {},
   "source": [
    "* La siguiente celda intenrtará copiar el directorio ```~/ejemplo_2``` dentro de ```~/ejemplo_1/```, pero se desencadenará un error."
   ]
  },
  {
   "cell_type": "code",
   "execution_count": null,
   "metadata": {},
   "outputs": [],
   "source": [
    "cp ~/ejemplo_2 ~/ejemplo_1/"
   ]
  },
  {
   "cell_type": "markdown",
   "metadata": {},
   "source": [
    "* La siguiente celda intenrtará copiar el directorio ```~/ejemplo_2``` dentro de ```~/ejemplo_1/``` de forma recursiva."
   ]
  },
  {
   "cell_type": "code",
   "execution_count": null,
   "metadata": {},
   "outputs": [],
   "source": [
    "cp -r ~/ejemplo_2 ~/ejemplo_1/"
   ]
  },
  {
   "cell_type": "code",
   "execution_count": null,
   "metadata": {},
   "outputs": [],
   "source": [
    "ls -R ~/ejemplo_1"
   ]
  },
  {
   "cell_type": "markdown",
   "metadata": {},
   "source": [
    "### Copia con cambio de nombre.\n",
    "\n",
    "Para copiar un archivo o directorio con un nombre distinto, sólo es necesario ingresar la ruta, incluyendo el nuevo nombre."
   ]
  },
  {
   "cell_type": "markdown",
   "metadata": {},
   "source": [
    "**Ejemplos:**"
   ]
  },
  {
   "cell_type": "markdown",
   "metadata": {},
   "source": [
    "* La siguiente cuelda copiará el archivo ```~\\archivo-1``` al directorio ```~/ejemplo_1/``` con el nombre ```nuevo_archivo.txt```."
   ]
  },
  {
   "cell_type": "code",
   "execution_count": null,
   "metadata": {},
   "outputs": [],
   "source": [
    "cp ~/archivo ~/ejemplo_1/nuevo_archivo.txt"
   ]
  },
  {
   "cell_type": "code",
   "execution_count": null,
   "metadata": {},
   "outputs": [],
   "source": [
    "ls ~/ejemplo_1/"
   ]
  },
  {
   "cell_type": "markdown",
   "metadata": {},
   "source": [
    "La siguiente celda copiará al directorio ```~/ejemplo_1``` al directorio ```~/ejemplo_2/``` con el nombre de ```ejemplo_3```."
   ]
  },
  {
   "cell_type": "code",
   "execution_count": null,
   "metadata": {},
   "outputs": [],
   "source": [
    "cp -r ~/ejemplo_1 ~/ejemplo_2/ejemplo_3"
   ]
  },
  {
   "cell_type": "code",
   "execution_count": null,
   "metadata": {
    "scrolled": true
   },
   "outputs": [],
   "source": [
    "ls -R ~/ejemplo_2"
   ]
  },
  {
   "cell_type": "markdown",
   "metadata": {},
   "source": [
    "### Algunas otras opciones de ```cp```.\n",
    "\n",
    "* ```-l``` o ```--link``` crea una copia con un enlace duro.\n",
    "* ```-s``` o ```--symbolic-link```  crea una copia con un enlace simbólico.\n",
    "* ```-f``` o ```--force``` copia el objeto sobreescribiendo un objeto existente.\n",
    "* ```-i``` o ```--interactive``` pide confirmación en caso de tener que sobreescribir un objeto exitente.\n",
    "* ```-v``` o ```--verbose``` habilita el modo descriptivo."
   ]
  },
  {
   "cell_type": "markdown",
   "metadata": {},
   "source": [
    "### La *man page* de ```cp```."
   ]
  },
  {
   "cell_type": "code",
   "execution_count": null,
   "metadata": {},
   "outputs": [],
   "source": [
    "man cp"
   ]
  },
  {
   "cell_type": "markdown",
   "metadata": {},
   "source": [
    "## Eliminación de objetos con ```rm```.\n",
    "\n",
    "Este comando permite eliminar uno o varios objetos.\n",
    "```\n",
    "rm <opciones> <ruta1> <ruta 2> ... <ruta n>\n",
    "```\n",
    "\n",
    "Donde:\n",
    "\n",
    "* ```<ruta i>``` es la ruta a un directorio o archivo.\n"
   ]
  },
  {
   "cell_type": "markdown",
   "metadata": {},
   "source": [
    "**Ejemplos:**"
   ]
  },
  {
   "cell_type": "markdown",
   "metadata": {},
   "source": [
    "* La siguiente celda eliminará al archivo ```~/archivo```."
   ]
  },
  {
   "cell_type": "code",
   "execution_count": null,
   "metadata": {},
   "outputs": [],
   "source": [
    "rm ~/archivo"
   ]
  },
  {
   "cell_type": "code",
   "execution_count": null,
   "metadata": {},
   "outputs": [],
   "source": [
    "ls ~/archivo"
   ]
  },
  {
   "cell_type": "markdown",
   "metadata": {},
   "source": [
    "### Eliminacion de directorios.\n",
    "\n",
    "Para poder eliminar un directorio que no esté vacío, se tiene que realizar la operación de forma recursiva."
   ]
  },
  {
   "cell_type": "markdown",
   "metadata": {},
   "source": [
    "* La opción ```-r``` es para hacer un  borrado recursivo.\n",
    "* La opción ```-f``` es para forzar el borrado."
   ]
  },
  {
   "cell_type": "markdown",
   "metadata": {},
   "source": [
    "**Ejemplo:**"
   ]
  },
  {
   "cell_type": "markdown",
   "metadata": {},
   "source": [
    "* La siguiente celda intentará eliminar al directorio ```~/ejemplo_2```."
   ]
  },
  {
   "cell_type": "code",
   "execution_count": null,
   "metadata": {
    "scrolled": true
   },
   "outputs": [],
   "source": [
    "rm ~/ejemplo_2"
   ]
  },
  {
   "cell_type": "markdown",
   "metadata": {},
   "source": [
    "* La siguiente celda eliminará al directorio ```~/ejemplo_2``` usando las opciones ```-rf```."
   ]
  },
  {
   "cell_type": "code",
   "execution_count": null,
   "metadata": {},
   "outputs": [],
   "source": [
    "rm -rf ejemplo_2"
   ]
  },
  {
   "cell_type": "code",
   "execution_count": null,
   "metadata": {
    "scrolled": true
   },
   "outputs": [],
   "source": [
    "ls ~"
   ]
  },
  {
   "cell_type": "markdown",
   "metadata": {},
   "source": [
    "### La man page de ```rm```."
   ]
  },
  {
   "cell_type": "code",
   "execution_count": null,
   "metadata": {},
   "outputs": [],
   "source": [
    "man rm"
   ]
  },
  {
   "cell_type": "markdown",
   "metadata": {},
   "source": [
    "## Reubicación de directorios y archivos con ```mv```.\n",
    "\n",
    "El comando ```mv``` modifica el índice del *inode* para apuntar a una nueva ruta.\n",
    "\n",
    "```\n",
    "mv <opciones> <ruta origen> <ruta destino>\n",
    "```\n",
    "\n",
    "Donde:\n",
    "\n",
    "* ```<ruta origen>``` es la ruta donde se encuentra el archivo o subdirectorio.\n",
    "* ```<ruta destino>``` es la ruta donde sera reubicado el archivo o directorio.\n",
    "\n",
    "Este comando no copia y elimina un archivo sino que al archivo original se le asigna una nueva ruta."
   ]
  },
  {
   "cell_type": "markdown",
   "metadata": {},
   "source": [
    "**Ejemplo:**"
   ]
  },
  {
   "cell_type": "markdown",
   "metadata": {},
   "source": [
    "* La siguiente celda creará al archivo ```~/ejemplo```."
   ]
  },
  {
   "cell_type": "code",
   "execution_count": null,
   "metadata": {},
   "outputs": [],
   "source": [
    "touch ~/ejemplo"
   ]
  },
  {
   "cell_type": "markdown",
   "metadata": {},
   "source": [
    "* La siguiente celda mostrará el ```ìnode``` del archivo ```~/ejemplo```."
   ]
  },
  {
   "cell_type": "code",
   "execution_count": null,
   "metadata": {},
   "outputs": [],
   "source": [
    "ls -i ~/ejemplo"
   ]
  },
  {
   "cell_type": "markdown",
   "metadata": {},
   "source": [
    "* La siguiente celda le asignará la nueva ruta ```~/ejemplo_1/movido``` al archivo ```~/ejemplo```."
   ]
  },
  {
   "cell_type": "code",
   "execution_count": null,
   "metadata": {},
   "outputs": [],
   "source": [
    "mv ~/ejemplo ~/ejemplo_1/movido"
   ]
  },
  {
   "cell_type": "markdown",
   "metadata": {},
   "source": [
    "* La siguiente celda mostrará el ```inode``` del archivo ```~/ejemplo_1/movido```."
   ]
  },
  {
   "cell_type": "code",
   "execution_count": null,
   "metadata": {
    "scrolled": true
   },
   "outputs": [],
   "source": [
    "ls -i ~/ejemplo_1/movido"
   ]
  },
  {
   "cell_type": "markdown",
   "metadata": {},
   "source": [
    "### Algunas opciones de ```mv```.\n",
    "\n",
    "* ```-i``` habilita el modo interactivo.\n",
    "* ```-v``` habilita el modo descriptivo."
   ]
  },
  {
   "cell_type": "markdown",
   "metadata": {},
   "source": [
    "### La *man page* de ```mv```."
   ]
  },
  {
   "cell_type": "code",
   "execution_count": null,
   "metadata": {},
   "outputs": [],
   "source": [
    "man mv"
   ]
  },
  {
   "cell_type": "markdown",
   "metadata": {},
   "source": [
    "## Creación de enlaces con ```ln```.\n",
    "\n",
    "Los enlaces en *UNIX* y *GNU/Linux* permiten hacer referencia a un archivo desde distintas ritas o con distintos nombres.\n",
    "\n",
    "El comando ```ln``` permite crear dichos enlaces.\n",
    "\n",
    "```\n",
    "ln <opciones> <ruta origen> <ruta destino> \n",
    "```\n",
    "\n",
    "Donde:\n",
    "* ```<ruta origen>``` es la ruta del directorio o archivo original. \n",
    "* ```<ruta destino>``` el la ruta en la que se realizará el enlace."
   ]
  },
  {
   "cell_type": "markdown",
   "metadata": {},
   "source": [
    "### Enlaces duros.\n",
    "\n",
    "Un enlace duro permite asignarle más de una ruta al mismo objeto.\n",
    "\n",
    "En caso de eliminar alguna ruta al  archivos enlazado, el contenido permanece ligado a las otras rutas.\n",
    "\n",
    "**Nota:**\n",
    "Los enlaces duros sólo se pueden realizar si las rutas se encuentran en el mismo sistema de almacenamiento por bloques."
   ]
  },
  {
   "cell_type": "markdown",
   "metadata": {},
   "source": [
    "**Ejemplos:**"
   ]
  },
  {
   "cell_type": "markdown",
   "metadata": {},
   "source": [
    "* La siguiente celda creará el archivo ```~/original```."
   ]
  },
  {
   "cell_type": "code",
   "execution_count": null,
   "metadata": {},
   "outputs": [],
   "source": [
    "touch ~/original"
   ]
  },
  {
   "cell_type": "markdown",
   "metadata": {},
   "source": [
    "* La siguiente celda creará un enlace duro con la ruta ```~/copia```. "
   ]
  },
  {
   "cell_type": "code",
   "execution_count": null,
   "metadata": {},
   "outputs": [],
   "source": [
    "ln ~/original ~/copia"
   ]
  },
  {
   "cell_type": "markdown",
   "metadata": {},
   "source": [
    "* La siguiente celda mostrará que las rutas ```~/original```y ```~/copia``` hacen referencia al ```ìnode``` de un solo archivo."
   ]
  },
  {
   "cell_type": "code",
   "execution_count": null,
   "metadata": {
    "scrolled": true
   },
   "outputs": [],
   "source": [
    "ls -i ~/original ~/copia"
   ]
  },
  {
   "cell_type": "markdown",
   "metadata": {},
   "source": [
    "* La siguiente celda eliminará la ruta ```~/original```."
   ]
  },
  {
   "cell_type": "code",
   "execution_count": null,
   "metadata": {},
   "outputs": [],
   "source": [
    "rm ~/original"
   ]
  },
  {
   "cell_type": "markdown",
   "metadata": {},
   "source": [
    "* La siguiente celda mostrará que la ruta ```~/original``` ya no existe."
   ]
  },
  {
   "cell_type": "code",
   "execution_count": null,
   "metadata": {
    "scrolled": false
   },
   "outputs": [],
   "source": [
    "ls -i ~/original"
   ]
  },
  {
   "cell_type": "markdown",
   "metadata": {},
   "source": [
    "* La siguiente celda mostrará el ```ìnode``` del archivo localizado en la ruta ```~/copia```."
   ]
  },
  {
   "cell_type": "code",
   "execution_count": null,
   "metadata": {},
   "outputs": [],
   "source": [
    "ls -i ~/copia"
   ]
  },
  {
   "cell_type": "markdown",
   "metadata": {},
   "source": [
    "### Enlaces simbólicos (*symlink*).\n",
    "\n",
    "Un enlace simbólico es una referencia a un archivo en particular, de tal manera que el sistema de archivos no le asigna el mismo ```inode``` a dos rutas, sino que sólo hace una referencia al objeto original y cada enlace tiene su propio ```inode```.\n",
    "\n",
    "Las opción ```-s``` crea un enlace simbólico."
   ]
  },
  {
   "cell_type": "markdown",
   "metadata": {},
   "source": [
    "**Ejemplo:**"
   ]
  },
  {
   "cell_type": "code",
   "execution_count": null,
   "metadata": {},
   "outputs": [],
   "source": []
  },
  {
   "cell_type": "code",
   "execution_count": null,
   "metadata": {},
   "outputs": [],
   "source": [
    "ln -s ~/ejemplo_1 ~/simbolico_1"
   ]
  },
  {
   "cell_type": "code",
   "execution_count": null,
   "metadata": {},
   "outputs": [],
   "source": [
    "ln -s ~/ejemplo_1 ~/simbolico_2"
   ]
  },
  {
   "cell_type": "code",
   "execution_count": null,
   "metadata": {},
   "outputs": [],
   "source": [
    "ls -l ~/ejemplo_1"
   ]
  },
  {
   "cell_type": "code",
   "execution_count": null,
   "metadata": {},
   "outputs": [],
   "source": [
    "ls -l ~/simbolico_1"
   ]
  },
  {
   "cell_type": "code",
   "execution_count": null,
   "metadata": {},
   "outputs": [],
   "source": [
    "ls -l ~/simbolico_2"
   ]
  },
  {
   "cell_type": "markdown",
   "metadata": {},
   "source": [
    "Si se elimina un enlace simbólico, el archivo original y los otros enlaces no son afectados."
   ]
  },
  {
   "cell_type": "code",
   "execution_count": null,
   "metadata": {},
   "outputs": [],
   "source": [
    "rm -rf ~/simbolico_1"
   ]
  },
  {
   "cell_type": "code",
   "execution_count": null,
   "metadata": {},
   "outputs": [],
   "source": [
    "ls -i ~/ejemplo_1"
   ]
  },
  {
   "cell_type": "markdown",
   "metadata": {},
   "source": [
    "Si se elimina el archivo original, sólo queda el enlace a un elemento que no existe."
   ]
  },
  {
   "cell_type": "code",
   "execution_count": null,
   "metadata": {},
   "outputs": [],
   "source": [
    "rm -rf ~/ejemplo_1"
   ]
  },
  {
   "cell_type": "code",
   "execution_count": null,
   "metadata": {},
   "outputs": [],
   "source": [
    "ls ~/simbolico_2"
   ]
  },
  {
   "cell_type": "code",
   "execution_count": null,
   "metadata": {},
   "outputs": [],
   "source": [
    "ls -l ~/simbolico_2"
   ]
  },
  {
   "cell_type": "code",
   "execution_count": null,
   "metadata": {},
   "outputs": [],
   "source": [
    "ls ~/simbolico_2/"
   ]
  },
  {
   "cell_type": "markdown",
   "metadata": {},
   "source": [
    "### Algunas otras opciones de ```ln```.\n",
    "\n",
    "* ```-f``` o ```--force``` elimina un objeto de destino en caso de que ya exista.\n",
    "* ```-i``` o ```interactive``` pregunta si se eliminará un objeto de destino."
   ]
  },
  {
   "cell_type": "markdown",
   "metadata": {},
   "source": [
    "### La *man page* de ```ln```."
   ]
  },
  {
   "cell_type": "code",
   "execution_count": null,
   "metadata": {},
   "outputs": [],
   "source": [
    "man ln"
   ]
  },
  {
   "cell_type": "markdown",
   "metadata": {},
   "source": [
    "## ```stat```.\n",
    "\n",
    "El comando  ```stat``` permite desplegar los datos generales de un objeto. \n",
    "\n",
    "```\n",
    "stat <ruta>\n",
    "```\n",
    "\n",
    "Donde:\n",
    "\n",
    "* ```<ruta>``` es la ruta a un archivo o directorio. "
   ]
  },
  {
   "cell_type": "markdown",
   "metadata": {},
   "source": [
    "**Ejemplo:**"
   ]
  },
  {
   "cell_type": "markdown",
   "metadata": {},
   "source": []
  },
  {
   "cell_type": "code",
   "execution_count": null,
   "metadata": {},
   "outputs": [],
   "source": [
    "touch ~/objeto"
   ]
  },
  {
   "cell_type": "markdown",
   "metadata": {},
   "source": []
  },
  {
   "cell_type": "code",
   "execution_count": null,
   "metadata": {},
   "outputs": [],
   "source": [
    "stat ~/objeto"
   ]
  },
  {
   "cell_type": "code",
   "execution_count": null,
   "metadata": {},
   "outputs": [],
   "source": [
    "stat ~/ejemplo_1"
   ]
  },
  {
   "cell_type": "markdown",
   "metadata": {},
   "source": [
    "### La man page de stat."
   ]
  },
  {
   "cell_type": "code",
   "execution_count": null,
   "metadata": {},
   "outputs": [],
   "source": [
    "man stat"
   ]
  },
  {
   "cell_type": "markdown",
   "metadata": {},
   "source": [
    "## ```file```.\n",
    "\n",
    "EL comando ```file``` regresa el tipo de archivo que se consulta.\n",
    "\n",
    "```\n",
    "file <ruta>\n",
    "```\n",
    "\n",
    "Donde:\n",
    "\n",
    "* ```<ruta>``` es la ruta a un archivo o directorio. "
   ]
  },
  {
   "cell_type": "markdown",
   "metadata": {},
   "source": [
    "**Ejemplos:**"
   ]
  },
  {
   "cell_type": "markdown",
   "metadata": {},
   "source": []
  },
  {
   "cell_type": "code",
   "execution_count": null,
   "metadata": {},
   "outputs": [],
   "source": [
    "file objeto"
   ]
  },
  {
   "cell_type": "markdown",
   "metadata": {},
   "source": []
  },
  {
   "cell_type": "code",
   "execution_count": null,
   "metadata": {},
   "outputs": [],
   "source": [
    "file /opt/oi/cd101/01_introduccion.ipynb"
   ]
  },
  {
   "cell_type": "markdown",
   "metadata": {},
   "source": []
  },
  {
   "cell_type": "code",
   "execution_count": null,
   "metadata": {},
   "outputs": [],
   "source": [
    "file ~/simbolico_2"
   ]
  },
  {
   "cell_type": "markdown",
   "metadata": {},
   "source": []
  },
  {
   "cell_type": "code",
   "execution_count": null,
   "metadata": {},
   "outputs": [],
   "source": [
    "file /usr/bin/ls"
   ]
  },
  {
   "cell_type": "markdown",
   "metadata": {},
   "source": [
    "### La man page de ```file```."
   ]
  },
  {
   "cell_type": "code",
   "execution_count": null,
   "metadata": {},
   "outputs": [],
   "source": [
    "man file"
   ]
  },
  {
   "cell_type": "markdown",
   "metadata": {},
   "source": [
    "## ```tree```.\n",
    "\n",
    "Este comando permite desplegar la estructura de archivos y subdirectorios de un directorio dado.\n",
    "\n",
    "```\n",
    "tree <ruta>\n",
    "```\n",
    "\n",
    "Donde:\n",
    "\n",
    "* ```<ruta>``` es la ruta de un directorio. El directorio por defecto es el directorio actual. "
   ]
  },
  {
   "cell_type": "markdown",
   "metadata": {},
   "source": [
    "**Ejemplos:**"
   ]
  },
  {
   "cell_type": "markdown",
   "metadata": {},
   "source": []
  },
  {
   "cell_type": "code",
   "execution_count": null,
   "metadata": {},
   "outputs": [],
   "source": [
    "tree"
   ]
  },
  {
   "cell_type": "markdown",
   "metadata": {},
   "source": []
  },
  {
   "cell_type": "code",
   "execution_count": null,
   "metadata": {},
   "outputs": [],
   "source": [
    "tree ~"
   ]
  },
  {
   "cell_type": "markdown",
   "metadata": {},
   "source": []
  },
  {
   "cell_type": "code",
   "execution_count": null,
   "metadata": {},
   "outputs": [],
   "source": [
    "tree /opt"
   ]
  },
  {
   "cell_type": "markdown",
   "metadata": {},
   "source": [
    "### La man page de ```tree```."
   ]
  },
  {
   "cell_type": "code",
   "execution_count": null,
   "metadata": {},
   "outputs": [],
   "source": [
    "man tree"
   ]
  },
  {
   "cell_type": "markdown",
   "metadata": {},
   "source": [
    "## Tamaño del contenido de un directorio con ```du```.\n",
    "\n",
    "Este comando despliega el tamaño que ocupa un directorio.\n",
    "\n",
    "```\n",
    "du <ruta>\n",
    "```\n"
   ]
  },
  {
   "cell_type": "code",
   "execution_count": null,
   "metadata": {},
   "outputs": [],
   "source": [
    "du ~"
   ]
  },
  {
   "cell_type": "code",
   "execution_count": null,
   "metadata": {},
   "outputs": [],
   "source": [
    "du -m ~/ejemplo_1"
   ]
  },
  {
   "cell_type": "markdown",
   "metadata": {},
   "source": [
    "### La man page de ```du```."
   ]
  },
  {
   "cell_type": "code",
   "execution_count": null,
   "metadata": {},
   "outputs": [],
   "source": [
    "man du"
   ]
  },
  {
   "cell_type": "markdown",
   "metadata": {},
   "source": [
    "## Estructura de directorios de un sistema GNU/Linux."
   ]
  },
  {
   "cell_type": "markdown",
   "metadata": {},
   "source": [
    "### El directorio raíz */*."
   ]
  },
  {
   "cell_type": "code",
   "execution_count": null,
   "metadata": {},
   "outputs": [],
   "source": [
    "tree /"
   ]
  },
  {
   "cell_type": "code",
   "execution_count": null,
   "metadata": {},
   "outputs": [],
   "source": [
    "tree / -L 1"
   ]
  },
  {
   "cell_type": "markdown",
   "metadata": {},
   "source": [
    "### */home/*."
   ]
  },
  {
   "cell_type": "code",
   "execution_count": null,
   "metadata": {},
   "outputs": [],
   "source": [
    "tree /home -L 1"
   ]
  },
  {
   "cell_type": "code",
   "execution_count": null,
   "metadata": {},
   "outputs": [],
   "source": [
    "tree /home/oi"
   ]
  },
  {
   "cell_type": "markdown",
   "metadata": {},
   "source": [
    "###  */bin/*.\n",
    "\n",
    "Es el directorio en el que se encuentran los comandfos del sistema. "
   ]
  },
  {
   "cell_type": "code",
   "execution_count": null,
   "metadata": {},
   "outputs": [],
   "source": [
    "tree /bin -L 1"
   ]
  },
  {
   "cell_type": "markdown",
   "metadata": {},
   "source": [
    "### */sbin/*.\n",
    "\n",
    "Es el directorio de aplicaciones \"seguras\"."
   ]
  },
  {
   "cell_type": "code",
   "execution_count": null,
   "metadata": {},
   "outputs": [],
   "source": [
    "tree /sbin -L 1"
   ]
  },
  {
   "cell_type": "markdown",
   "metadata": {},
   "source": [
    "### */lib/*  y */lib64/*.\n",
    "\n",
    "Este directorio contiene las bibliotecas del sistema."
   ]
  },
  {
   "cell_type": "code",
   "execution_count": null,
   "metadata": {
    "scrolled": true
   },
   "outputs": [],
   "source": [
    "tree /lib/ -L 1"
   ]
  },
  {
   "cell_type": "markdown",
   "metadata": {},
   "source": [
    "### /lib/modules/\n",
    "\n",
    "Biblioteca de módulos del kernel."
   ]
  },
  {
   "cell_type": "code",
   "execution_count": null,
   "metadata": {},
   "outputs": [],
   "source": [
    "tree /lib/modules -L 1"
   ]
  },
  {
   "cell_type": "markdown",
   "metadata": {},
   "source": [
    "### */etc/*.\n",
    "\n",
    "Este es el directorio que ciontiene las configuraciones del sistema."
   ]
  },
  {
   "cell_type": "code",
   "execution_count": null,
   "metadata": {},
   "outputs": [],
   "source": [
    "tree /bin -L 2"
   ]
  },
  {
   "cell_type": "code",
   "execution_count": null,
   "metadata": {},
   "outputs": [],
   "source": [
    "tree /etc/httpd"
   ]
  },
  {
   "cell_type": "markdown",
   "metadata": {},
   "source": [
    "### */tmp/*.\n",
    "\n",
    "Es el directorio que guarda los archivos temporales de todo el sistema y todos los usuarios."
   ]
  },
  {
   "cell_type": "markdown",
   "metadata": {},
   "source": [
    "###  */var/*.\n",
    "\n",
    "Este directorio contiene archivos que utilizan las aplicaciones y no pertencene a un usuario convencional."
   ]
  },
  {
   "cell_type": "code",
   "execution_count": null,
   "metadata": {
    "scrolled": false
   },
   "outputs": [],
   "source": [
    "tree /var/ -L 2"
   ]
  },
  {
   "cell_type": "markdown",
   "metadata": {},
   "source": [
    "### /var/log/\n",
    "\n",
    "Este directorio contiene las bitácoras del sistema."
   ]
  },
  {
   "cell_type": "markdown",
   "metadata": {},
   "source": [
    "### /var/www/\n",
    "Este es el directorio por defecto para la raíz de Apache."
   ]
  },
  {
   "cell_type": "markdown",
   "metadata": {},
   "source": [
    "###  */usr/*.\n",
    "\n",
    "Este directorio contiene directorios y archivos de acceso (ejecución) para todos los usuarios."
   ]
  },
  {
   "cell_type": "code",
   "execution_count": null,
   "metadata": {},
   "outputs": [],
   "source": [
    "tree /usr/ -L 1"
   ]
  },
  {
   "cell_type": "markdown",
   "metadata": {},
   "source": [
    "### /usr/local/\n",
    "\n",
    "    Es un direcotorio que contiene recursos que no son de uso generalizad del sistema, sino que pueden ser usados por grupos específicos de usuarios."
   ]
  },
  {
   "cell_type": "code",
   "execution_count": null,
   "metadata": {},
   "outputs": [],
   "source": [
    "tree /usr/local/"
   ]
  },
  {
   "cell_type": "markdown",
   "metadata": {},
   "source": [
    "### */opt/*.\n",
    "\n",
    "Este directorio es para aplicaciones varias."
   ]
  },
  {
   "cell_type": "code",
   "execution_count": null,
   "metadata": {},
   "outputs": [],
   "source": [
    "tree /opt/"
   ]
  },
  {
   "cell_type": "markdown",
   "metadata": {},
   "source": [
    "### */boot/*.\n",
    "\n",
    "Es el directorio en el que se encuentra la imagen del kernel y la configuración de arranque del sistema."
   ]
  },
  {
   "cell_type": "code",
   "execution_count": null,
   "metadata": {},
   "outputs": [],
   "source": [
    "tree //boot/"
   ]
  },
  {
   "cell_type": "markdown",
   "metadata": {},
   "source": [
    "### */dev/*.\n",
    "\n",
    "El directorio que liga a los dispositivos detecatdos y configurados por los controladores de l kernel."
   ]
  },
  {
   "cell_type": "code",
   "execution_count": null,
   "metadata": {},
   "outputs": [],
   "source": [
    "tree /dev/ -L 1"
   ]
  },
  {
   "cell_type": "markdown",
   "metadata": {},
   "source": [
    "### */proc/*.\n",
    "\n",
    "Este es el direcotrio que mapea los procesos del sistema."
   ]
  },
  {
   "cell_type": "code",
   "execution_count": null,
   "metadata": {},
   "outputs": [],
   "source": [
    "tree /proc/ -L 1"
   ]
  },
  {
   "cell_type": "markdown",
   "metadata": {},
   "source": [
    "### */sys/*.\n",
    "\n",
    "Este es el directorio que utilizan las bibliotecas del kernel."
   ]
  },
  {
   "cell_type": "code",
   "execution_count": null,
   "metadata": {},
   "outputs": [],
   "source": [
    "tree /sys/ -L 1"
   ]
  },
  {
   "cell_type": "markdown",
   "metadata": {},
   "source": [
    "### */run/*.\n",
    "\n",
    "Es es directorio que contiene archivos de ejecución de ciertos servicios y daemons."
   ]
  },
  {
   "cell_type": "code",
   "execution_count": null,
   "metadata": {},
   "outputs": [],
   "source": [
    "tree /run/ -L 1"
   ]
  },
  {
   "cell_type": "markdown",
   "metadata": {},
   "source": [
    "### */media/ y /mnt/*.\n",
    "\n",
    "Esros son los directorios en los que se montan los diversos sistemas de archivos."
   ]
  },
  {
   "cell_type": "code",
   "execution_count": null,
   "metadata": {},
   "outputs": [],
   "source": [
    "tree /mnt/ -L 2"
   ]
  },
  {
   "cell_type": "code",
   "execution_count": null,
   "metadata": {},
   "outputs": [],
   "source": [
    "tree /media/ -L 2"
   ]
  },
  {
   "cell_type": "markdown",
   "metadata": {},
   "source": [
    "## La variable de entorno *PATH*.\n",
    "\n",
    "Esta variable define las rutas de búsqueda de comandos."
   ]
  },
  {
   "cell_type": "code",
   "execution_count": null,
   "metadata": {},
   "outputs": [],
   "source": [
    "echo $PATH"
   ]
  },
  {
   "cell_type": "markdown",
   "metadata": {},
   "source": [
    "<p style=\"text-align: center\"><a rel=\"license\" href=\"http://creativecommons.org/licenses/by/4.0/\"><img alt=\"Licencia Creative Commons\" style=\"border-width:0\" src=\"https://i.creativecommons.org/l/by/4.0/80x15.png\" /></a><br />Esta obra está bajo una <a rel=\"license\" href=\"http://creativecommons.org/licenses/by/4.0/\">Licencia Creative Commons Atribución 4.0 Internacional</a>.</p>\n",
    "<p style=\"text-align: center\">&copy; José Luis Chiquete Valdivieso. 2019.</p>"
   ]
  }
 ],
 "metadata": {
  "kernelspec": {
   "display_name": "Bash",
   "language": "bash",
   "name": "bash"
  },
  "language_info": {
   "codemirror_mode": "shell",
   "file_extension": ".sh",
   "mimetype": "text/x-sh",
   "name": "bash"
  }
 },
 "nbformat": 4,
 "nbformat_minor": 2
}
