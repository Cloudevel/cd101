{
 "cells": [
  {
   "cell_type": "markdown",
   "metadata": {},
   "source": [
    "[![cloudevel](img/cloudevel.png)](https://cloudevel.com)"
   ]
  },
  {
   "cell_type": "markdown",
   "metadata": {},
   "source": [
    "# Directorios y archivos."
   ]
  },
  {
   "cell_type": "markdown",
   "metadata": {},
   "source": [
    "## Conceptos básicos de directorios y archivos."
   ]
  },
  {
   "cell_type": "markdown",
   "metadata": {},
   "source": [
    "### Rutas.\n",
    "\n",
    "El sistema de archivos de *GNU/Linux* se define como una estructura ramificada de directorios que a su vez contienen subdirectorios y archivos como se ilustra a continuación.\n",
    "```\n",
    "/\n",
    "├── bin\n",
    "├── boot\n",
    "├── dev\n",
    "├── etc\n",
    "├── home\n",
    "├── lib \n",
    "├── lib64\n",
    "├── media\n",
    "├── mnt\n",
    "├── opt\n",
    "├── proc\n",
    "├── root\n",
    "├── run\n",
    "├── sbin\n",
    "├── srv\n",
    "├── sys\n",
    "├── tmp\n",
    "├── usr\n",
    "└── var\n",
    "```\n",
    "\n",
    "\n",
    "Todos los subdirectorios del sistema de archivos tienen como origen el directorio raíz, el cual se representa mediante una diagonal ```/``` y cada diagonal subsecuente indica que se hace referencia al un subdirectorio dentro del anterior.\n",
    "\n",
    "Cualquier recurso del sistema de archivos puede ser accedido mediante una ruta.\n",
    "\n",
    "\n",
    "```\n",
    "/<directorio 1>/<directorio 2>/.../<directorio n>/<archivo>\n",
    "```\n",
    "\n",
    "* Si la ruta empieza con una diagonal, se dice que se utiliza una \"ruta absoluta\"."
   ]
  },
  {
   "cell_type": "markdown",
   "metadata": {},
   "source": [
    "### El sistema de archivos contiene también al propio sistema.\n",
    "\n",
    "Uno de los conceptos claves en la arquitectura tanto de *UNIX* como la de *GNU/Linux* es la de considerar tanto a los dispositivo como a los procesos como flujos de texto que pueden ser localizados en el sistema de archivos.\n",
    "\n",
    "La estructura de directorios de *UNIX* y *GNU/Linux* además de contener archivos normales contiene al sistema mismo."
   ]
  },
  {
   "cell_type": "markdown",
   "metadata": {},
   "source": [
    "**Ejemplo:**\n",
    "\n",
    "La ruta ```/proc/cpuinfo``` apunta a un proceso del sistema que contiene la información de la *CPU*.\n",
    "\n",
    "* La siguiente celda desplegará la informacion de la *CPU* del sistema."
   ]
  },
  {
   "cell_type": "code",
   "execution_count": null,
   "metadata": {},
   "outputs": [],
   "source": [
    "cat /proc/cpuinfo"
   ]
  },
  {
   "cell_type": "markdown",
   "metadata": {},
   "source": [
    "## Indexado del sistema de archivos mediante ```inodes```.\n",
    "\n",
    "### Dispositivos de almacenamiento en bloque (*block storage*).\n",
    "\n",
    "Un dispositivo de almacemiento en bloque permite realizar operaciones de escritura y lectura de datos mediante operaciones físicas en medios electromagnéticos u ópticos. \n",
    "\n",
    "La localización de los datos en estos medios se realiza mediante lo que se conoce como una tabla de particiones."
   ]
  },
  {
   "cell_type": "markdown",
   "metadata": {},
   "source": [
    "### Los ```inodes```.\n",
    "\n",
    "Los ```inodes``` son estructuras de datos que relacionan la ruta de un directorio o archivo en el sistema de archivos con su posición física en un dispositivo de bloque.\n",
    "\n",
    "Los ```inodes``` almacenan.\n",
    "* La localización del objeto dentro del dispositivo de bloque.\n",
    "* Los atributos del objetos.\n",
    "* Metadatos."
   ]
  },
  {
   "cell_type": "markdown",
   "metadata": {},
   "source": [
    "## El comando ```pwd```.\n",
    "\n",
    "Este comando permite saber la ruta en la que se encuentra la terminal."
   ]
  },
  {
   "cell_type": "markdown",
   "metadata": {},
   "source": [
    "**Ejemplo:**\n",
    "\n",
    "La siguiente celda desplegará la ruta absoluta en la que se encuentra esta notebook."
   ]
  },
  {
   "cell_type": "code",
   "execution_count": null,
   "metadata": {},
   "outputs": [],
   "source": [
    "pwd"
   ]
  },
  {
   "cell_type": "markdown",
   "metadata": {},
   "source": [
    "### La *man page* de ```pwd```."
   ]
  },
  {
   "cell_type": "code",
   "execution_count": null,
   "metadata": {
    "scrolled": true
   },
   "outputs": [],
   "source": [
    "man pwd"
   ]
  },
  {
   "cell_type": "markdown",
   "metadata": {},
   "source": [
    "## Listado de archivos y directorios con el comando ```ls```.\n",
    "\n",
    "Este comando despliega:\n",
    "* El contenido de un directorio o de un archivo en particular por medio de su ruta.\n",
    "* Los datos de un archivo por medio de su ruta.\n",
    "\n",
    "\n",
    "```\n",
    "ls <opciones> <ruta 1> <ruta 2> ... <ruta n>\n",
    "```\n",
    "\n",
    "Donde:\n",
    "\n",
    "* ```<opciones>``` corresponde a las diversas opciones del comando.\n",
    "* ```<ruta i>``` es la ruta a un archivo o directorio. La ruta por defecto es la ruta del directorio actual.\n",
    "\n",
    "\n",
    "* El comando ```ls``` puede diferenciar entre un archivo y un directorio, por lo que el uso de la diagonal al final para identificar a un directorio es opcional."
   ]
  },
  {
   "cell_type": "markdown",
   "metadata": {},
   "source": [
    "**Ejemplos:**"
   ]
  },
  {
   "cell_type": "markdown",
   "metadata": {},
   "source": [
    "* La siguiente celda desplegará el listado del directorio en el que se encuentra esta notebook."
   ]
  },
  {
   "cell_type": "code",
   "execution_count": 1,
   "metadata": {},
   "outputs": [
    {
     "name": "stdout",
     "output_type": "stream",
     "text": [
      "01_introduccion.ipynb\n",
      "02_sistemas_de_computo.ipynb\n",
      "03_la_linea_de_comandos.ipynb\n",
      "04_directorios_y_archivos.ipynb\n",
      "05_flujos_de_texto_filtros_y_pipes.ipynb\n",
      "06_expresiones_regulares_y_grep.ipynb\n",
      "07_introduccion_a_vim.ipynb\n",
      "08_usuarios_y_grupos.ipynb\n",
      "09_permisos_y_propietarios_de_archivos.ipynb\n",
      "10_find_y_xargs.ipynb\n",
      "11_procesos_trabajos_y_daemons.ipynb\n",
      "12_inicio_y_apagado_del_sistema.ipynb\n",
      "13_gestion_de_servicios_con_systemd.ipynb\n",
      "14_kernel_modulos_y_dispositivos.ipynb\n",
      "15_volumenes_y_particiones.ipynb\n",
      "16_chroot_y_contenedores.ipynb\n",
      "17_paquetes_de_software.ipynb\n",
      "18_el_temporizador_cron.ipynb\n",
      "19_introduccion_a_redes_basicas.ipynb\n",
      "20_introduccion_a_bash_scripting.ipynb\n",
      "21_sesiones_remotas_y_transmision_de_datos.ipynb\n",
      "22_virtualizacion.ipynb\n",
      "23_seguridad_basica.ipynb\n",
      "LICENSE\n",
      "README.md\n",
      "data\n",
      "img\n",
      "objeto\n"
     ]
    }
   ],
   "source": [
    "ls"
   ]
  },
  {
   "cell_type": "markdown",
   "metadata": {},
   "source": [
    "* Las siguiente celda hará un listado extendido de el directorio ```/home/``` del y el subdirectorio ```img``` del directorio actual utilizando las opciones ```-a``` y ```-l```."
   ]
  },
  {
   "cell_type": "code",
   "execution_count": 2,
   "metadata": {},
   "outputs": [
    {
     "name": "stdout",
     "output_type": "stream",
     "text": [
      "/home/:\n",
      "total 12\n",
      "drwxr-xr-x  3 root root 4096 May 10 01:58 .\n",
      "drwxr-xr-x 20 root root 4096 May 10 01:57 ..\n",
      "drwxr-xr-x 13 oi   oi   4096 May 28 13:30 oi\n",
      "\n",
      "img:\n",
      "total 68\n",
      "drwxr-xr-x 5 oi oi  4096 May 28 14:08 .\n",
      "drwxr-xr-x 6 oi oi  4096 May 28 14:17 ..\n",
      "drwxr-xr-x 2 oi oi  4096 May 28 14:08 02\n",
      "drwxr-xr-x 2 oi oi  4096 May 28 14:08 03\n",
      "drwxr-xr-x 2 oi oi  4096 May 28 14:08 08\n",
      "-rw-r--r-- 1 oi oi 47177 May 28 14:08 cloudevel.png\n"
     ]
    }
   ],
   "source": [
    "ls img /home/ -al"
   ]
  },
  {
   "cell_type": "markdown",
   "metadata": {},
   "source": [
    "* La siguiente celda hará un listado extendido del archivo ```img/cloudevel.png``` utilizando la opción ```-l```."
   ]
  },
  {
   "cell_type": "code",
   "execution_count": 3,
   "metadata": {},
   "outputs": [
    {
     "name": "stdout",
     "output_type": "stream",
     "text": [
      "img/cloudevel.png\n"
     ]
    }
   ],
   "source": [
    "ls img/cloudevel.png"
   ]
  },
  {
   "cell_type": "code",
   "execution_count": 4,
   "metadata": {},
   "outputs": [
    {
     "name": "stdout",
     "output_type": "stream",
     "text": [
      "-rw-r--r-- 1 oi oi 47177 May 28 14:08 img/cloudevel.png\n"
     ]
    }
   ],
   "source": [
    "ls -l img/cloudevel.png"
   ]
  },
  {
   "cell_type": "markdown",
   "metadata": {},
   "source": [
    "* La siguiente celda hará un listado simple del directorio ```/etc/```."
   ]
  },
  {
   "cell_type": "code",
   "execution_count": 5,
   "metadata": {},
   "outputs": [
    {
     "name": "stdout",
     "output_type": "stream",
     "text": [
      "PackageKit              initramfs-tools      popularity-contest.conf\n",
      "X11                     inputrc              profile\n",
      "adduser.conf            iproute2             profile.d\n",
      "alternatives            iscsi                protocols\n",
      "apparmor                issue                python3\n",
      "apparmor.d              issue.net            python3.8\n",
      "apport                  kernel               rc0.d\n",
      "apt                     landscape            rc1.d\n",
      "at.deny                 ld.so.cache          rc2.d\n",
      "bash.bashrc             ld.so.conf           rc3.d\n",
      "bash_completion         ld.so.conf.d         rc4.d\n",
      "bash_completion.d       ldap                 rc5.d\n",
      "bindresvport.blacklist  legal                rc6.d\n",
      "binfmt.d                libaudit.conf        rcS.d\n",
      "byobu                   libnl-3              resolv.conf\n",
      "ca-certificates         locale.alias         rmt\n",
      "ca-certificates.conf    locale.gen           rpc\n",
      "calendar                localtime            rsyslog.conf\n",
      "cloud                   logcheck             rsyslog.d\n",
      "console-setup           login.defs           screenrc\n",
      "cron.d                  logrotate.conf       security\n",
      "cron.daily              logrotate.d          selinux\n",
      "cron.hourly             lsb-release          services\n",
      "cron.monthly            ltrace.conf          shadow\n",
      "cron.weekly             lvm                  shadow-\n",
      "crontab                 machine-id           shells\n",
      "cryptsetup-initramfs    magic                skel\n",
      "crypttab                magic.mime           sos.conf\n",
      "dbus-1                  mailcap              ssh\n",
      "dconf                   mailcap.order        ssl\n",
      "debconf.conf            manpath.config       subgid\n",
      "debian_version          mdadm                subgid-\n",
      "default                 mime.types           subuid\n",
      "deluser.conf            mke2fs.conf          subuid-\n",
      "depmod.d                modprobe.d           sudoers\n",
      "dhcp                    modules              sudoers.d\n",
      "dpkg                    modules-load.d       sysctl.conf\n",
      "e2scrub.conf            mtab                 sysctl.d\n",
      "environment             multipath            systemd\n",
      "ethertypes              multipath.conf       terminfo\n",
      "fonts                   nanorc               thermald\n",
      "fstab                   netplan              timezone\n",
      "fuse.conf               network              tmpfiles.d\n",
      "fwupd                   networkd-dispatcher  ubuntu-advantage\n",
      "gai.conf                networks             ucf.conf\n",
      "groff                   newt                 udev\n",
      "group                   nsswitch.conf        ufw\n",
      "group-                  opt                  update-manager\n",
      "grub.d                  os-release           update-motd.d\n",
      "gshadow                 overlayroot.conf     update-notifier\n",
      "gshadow-                pam.conf             vim\n",
      "gss                     pam.d                vmware-tools\n",
      "hdparm.conf             passwd               vtrgb\n",
      "host.conf               passwd-              wgetrc\n",
      "hostname                perl                 xattr.conf\n",
      "hosts                   pki                  xdg\n",
      "hosts.allow             pm                   zsh_command_not_found\n",
      "hosts.deny              polkit-1\n",
      "init.d                  pollinate\n"
     ]
    }
   ],
   "source": [
    "ls /etc"
   ]
  },
  {
   "cell_type": "markdown",
   "metadata": {},
   "source": [
    "### Listado de elementos ocultos.\n",
    "\n",
    "Los sistemas *GNU/Linux* y *UNIX* permiten ocultar ciertos archivos al ejecutar el comando ```ls``` antecediendo un punto ```.``` antes de su nombre. Sólo mediante la opción ```-l``` es posible que ```ls``` muestre dichos archivos.\n",
    "\n",
    "```\n",
    ".<nombre>\n",
    "```\n",
    "\n",
    "* La opción ```-a ``` o  ```--all``` permite ver todos los archivos, incluyendo los ocultos."
   ]
  },
  {
   "cell_type": "markdown",
   "metadata": {},
   "source": [
    "**Ejemplo:**\n",
    "\n",
    "* La siguiente celda desplegará todos los archivos, incluyendo los ocultos del directorio actual."
   ]
  },
  {
   "cell_type": "code",
   "execution_count": 6,
   "metadata": {},
   "outputs": [
    {
     "name": "stdout",
     "output_type": "stream",
     "text": [
      ".\n",
      "..\n",
      ".git\n",
      ".gitignore\n",
      ".ipynb_checkpoints\n",
      "01_introduccion.ipynb\n",
      "02_sistemas_de_computo.ipynb\n",
      "03_la_linea_de_comandos.ipynb\n",
      "04_directorios_y_archivos.ipynb\n",
      "05_flujos_de_texto_filtros_y_pipes.ipynb\n",
      "06_expresiones_regulares_y_grep.ipynb\n",
      "07_introduccion_a_vim.ipynb\n",
      "08_usuarios_y_grupos.ipynb\n",
      "09_permisos_y_propietarios_de_archivos.ipynb\n",
      "10_find_y_xargs.ipynb\n",
      "11_procesos_trabajos_y_daemons.ipynb\n",
      "12_inicio_y_apagado_del_sistema.ipynb\n",
      "13_gestion_de_servicios_con_systemd.ipynb\n",
      "14_kernel_modulos_y_dispositivos.ipynb\n",
      "15_volumenes_y_particiones.ipynb\n",
      "16_chroot_y_contenedores.ipynb\n",
      "17_paquetes_de_software.ipynb\n",
      "18_el_temporizador_cron.ipynb\n",
      "19_introduccion_a_redes_basicas.ipynb\n",
      "20_introduccion_a_bash_scripting.ipynb\n",
      "21_sesiones_remotas_y_transmision_de_datos.ipynb\n",
      "22_virtualizacion.ipynb\n",
      "23_seguridad_basica.ipynb\n",
      "LICENSE\n",
      "README.md\n",
      "data\n",
      "img\n",
      "objeto\n"
     ]
    }
   ],
   "source": [
    "ls -a"
   ]
  },
  {
   "cell_type": "markdown",
   "metadata": {},
   "source": [
    "### Listado extendido.\n",
    "\n",
    "La opción ```-l``` permite realizar un listado extendido de elementos que despliegan la siguiente información.\n",
    "\n",
    "\n",
    "```\n",
    "-rw-r--r-- 1 oi oi 47177 May 28 14:08 img/cloudevel.png\n",
    "```\n",
    "\n",
    "* La primera columna contiene una serie de caracteres que describen:\n",
    "    * El tipo de elemento del que se trata.\n",
    "        * ```-``` para archivos comunes.\n",
    "        * ```d``` para directorios.\n",
    "        * ```l``` para enlaces.\n",
    "    * Los permisos para el usuario propietario del elemento.\n",
    "    * Los permisos para el grupo propietario del elemento.\n",
    "    * Los permisos para el resto de los usuarios.\n",
    "* La segunda columna es un número que indica el tipo de objeto del que se trata.\n",
    "* La tercera columna indica el nombre del usuario propietario del elemento.\n",
    "* La cuarta columna indica el nombre del grupo porpietario del elemento.\n",
    "* La quinta columna indica el tamaño en bytes del archivo.\n",
    "* Las sexta columna muestra la fecha del último acceso al elemento.\n",
    "* La séptima columna muestra el nombre del elemento.\n",
    "\n",
    "La opción ```-h``` permite deplegar el tamaño de un archivo en *KB*, *MB* o *GB* para hacerlo más legible."
   ]
  },
  {
   "cell_type": "markdown",
   "metadata": {},
   "source": [
    "**Ejemplo:**\n",
    "\n",
    "* La siguiente celda desplegará de forma extendida todos los archivos, incluyendo los ocultos, mostrando el tamaño de los archivos en *KB*, *MB* o *GB*."
   ]
  },
  {
   "cell_type": "code",
   "execution_count": 7,
   "metadata": {},
   "outputs": [
    {
     "name": "stdout",
     "output_type": "stream",
     "text": [
      "total 416K\n",
      "drwxr-xr-x 6 oi oi 4.0K May 28 14:23 .\n",
      "drwxr-xr-x 5 oi oi 4.0K May 28 14:08 ..\n",
      "drwxr-xr-x 8 oi oi 4.0K May 28 14:09 .git\n",
      "-rw-r--r-- 1 oi oi 1.2K May 28 14:08 .gitignore\n",
      "drwxr-xr-x 2 oi oi 4.0K May 28 14:15 .ipynb_checkpoints\n",
      "-rw-r--r-- 1 oi oi  11K May 28 14:08 01_introduccion.ipynb\n",
      "-rw-r--r-- 1 oi oi  15K May 28 14:08 02_sistemas_de_computo.ipynb\n",
      "-rw-r--r-- 1 oi oi  13K May 28 14:08 03_la_linea_de_comandos.ipynb\n",
      "-rw-r--r-- 1 oi oi  65K May 28 14:23 04_directorios_y_archivos.ipynb\n",
      "-rw-r--r-- 1 oi oi  30K May 28 14:08 05_flujos_de_texto_filtros_y_pipes.ipynb\n",
      "-rw-r--r-- 1 oi oi 7.4K May 28 14:08 06_expresiones_regulares_y_grep.ipynb\n",
      "-rw-r--r-- 1 oi oi 4.7K May 28 14:08 07_introduccion_a_vim.ipynb\n",
      "-rw-r--r-- 1 oi oi  13K May 28 14:08 08_usuarios_y_grupos.ipynb\n",
      "-rw-r--r-- 1 oi oi 4.8K May 28 14:08 09_permisos_y_propietarios_de_archivos.ipynb\n",
      "-rw-r--r-- 1 oi oi 6.1K May 28 14:08 10_find_y_xargs.ipynb\n",
      "-rw-r--r-- 1 oi oi  14K May 28 14:08 11_procesos_trabajos_y_daemons.ipynb\n",
      "-rw-r--r-- 1 oi oi 6.2K May 28 14:08 12_inicio_y_apagado_del_sistema.ipynb\n",
      "-rw-r--r-- 1 oi oi 5.8K May 28 14:08 13_gestion_de_servicios_con_systemd.ipynb\n",
      "-rw-r--r-- 1 oi oi 7.8K May 28 14:08 14_kernel_modulos_y_dispositivos.ipynb\n",
      "-rw-r--r-- 1 oi oi  13K May 28 14:08 15_volumenes_y_particiones.ipynb\n",
      "-rw-r--r-- 1 oi oi 4.1K May 28 14:08 16_chroot_y_contenedores.ipynb\n",
      "-rw-r--r-- 1 oi oi  17K May 28 14:08 17_paquetes_de_software.ipynb\n",
      "-rw-r--r-- 1 oi oi 8.3K May 28 14:08 18_el_temporizador_cron.ipynb\n",
      "-rw-r--r-- 1 oi oi  51K May 28 14:08 19_introduccion_a_redes_basicas.ipynb\n",
      "-rw-r--r-- 1 oi oi  14K May 28 14:08 20_introduccion_a_bash_scripting.ipynb\n",
      "-rw-r--r-- 1 oi oi 6.2K May 28 14:08 21_sesiones_remotas_y_transmision_de_datos.ipynb\n",
      "-rw-r--r-- 1 oi oi  11K May 28 14:08 22_virtualizacion.ipynb\n",
      "-rw-r--r-- 1 oi oi 2.9K May 28 14:08 23_seguridad_basica.ipynb\n",
      "-rw-r--r-- 1 oi oi 1.1K May 28 14:08 LICENSE\n",
      "-rw-r--r-- 1 oi oi 1.2K May 28 14:08 README.md\n",
      "drwxr-xr-x 3 oi oi 4.0K May 28 14:08 data\n",
      "drwxr-xr-x 5 oi oi 4.0K May 28 14:08 img\n",
      "-rw-r--r-- 1 oi oi    0 May 28 14:08 objeto\n"
     ]
    }
   ],
   "source": [
    "ls --all -lh"
   ]
  },
  {
   "cell_type": "markdown",
   "metadata": {},
   "source": [
    "* La siguiente celda desplegará de forma extendida todos los archivos del directorio actual, incluyendo los ocultos, mostrando el tamaño de los archivos en *bytes*."
   ]
  },
  {
   "cell_type": "code",
   "execution_count": 8,
   "metadata": {},
   "outputs": [
    {
     "name": "stdout",
     "output_type": "stream",
     "text": [
      "total 416\n",
      "drwxr-xr-x 6 oi oi  4096 May 28 14:29 .\n",
      "drwxr-xr-x 5 oi oi  4096 May 28 14:08 ..\n",
      "drwxr-xr-x 8 oi oi  4096 May 28 14:09 .git\n",
      "-rw-r--r-- 1 oi oi  1203 May 28 14:08 .gitignore\n",
      "drwxr-xr-x 2 oi oi  4096 May 28 14:15 .ipynb_checkpoints\n",
      "-rw-r--r-- 1 oi oi 10956 May 28 14:08 01_introduccion.ipynb\n",
      "-rw-r--r-- 1 oi oi 14891 May 28 14:08 02_sistemas_de_computo.ipynb\n",
      "-rw-r--r-- 1 oi oi 12603 May 28 14:08 03_la_linea_de_comandos.ipynb\n",
      "-rw-r--r-- 1 oi oi 69138 May 28 14:29 04_directorios_y_archivos.ipynb\n",
      "-rw-r--r-- 1 oi oi 30138 May 28 14:08 05_flujos_de_texto_filtros_y_pipes.ipynb\n",
      "-rw-r--r-- 1 oi oi  7549 May 28 14:08 06_expresiones_regulares_y_grep.ipynb\n",
      "-rw-r--r-- 1 oi oi  4760 May 28 14:08 07_introduccion_a_vim.ipynb\n",
      "-rw-r--r-- 1 oi oi 13077 May 28 14:08 08_usuarios_y_grupos.ipynb\n",
      "-rw-r--r-- 1 oi oi  4836 May 28 14:08 09_permisos_y_propietarios_de_archivos.ipynb\n",
      "-rw-r--r-- 1 oi oi  6209 May 28 14:08 10_find_y_xargs.ipynb\n",
      "-rw-r--r-- 1 oi oi 13431 May 28 14:08 11_procesos_trabajos_y_daemons.ipynb\n",
      "-rw-r--r-- 1 oi oi  6250 May 28 14:08 12_inicio_y_apagado_del_sistema.ipynb\n",
      "-rw-r--r-- 1 oi oi  5924 May 28 14:08 13_gestion_de_servicios_con_systemd.ipynb\n",
      "-rw-r--r-- 1 oi oi  7933 May 28 14:08 14_kernel_modulos_y_dispositivos.ipynb\n",
      "-rw-r--r-- 1 oi oi 12537 May 28 14:08 15_volumenes_y_particiones.ipynb\n",
      "-rw-r--r-- 1 oi oi  4174 May 28 14:08 16_chroot_y_contenedores.ipynb\n",
      "-rw-r--r-- 1 oi oi 17273 May 28 14:08 17_paquetes_de_software.ipynb\n",
      "-rw-r--r-- 1 oi oi  8424 May 28 14:08 18_el_temporizador_cron.ipynb\n",
      "-rw-r--r-- 1 oi oi 51339 May 28 14:08 19_introduccion_a_redes_basicas.ipynb\n",
      "-rw-r--r-- 1 oi oi 13764 May 28 14:08 20_introduccion_a_bash_scripting.ipynb\n",
      "-rw-r--r-- 1 oi oi  6275 May 28 14:08 21_sesiones_remotas_y_transmision_de_datos.ipynb\n",
      "-rw-r--r-- 1 oi oi 10385 May 28 14:08 22_virtualizacion.ipynb\n",
      "-rw-r--r-- 1 oi oi  2885 May 28 14:08 23_seguridad_basica.ipynb\n",
      "-rw-r--r-- 1 oi oi  1087 May 28 14:08 LICENSE\n",
      "-rw-r--r-- 1 oi oi  1133 May 28 14:08 README.md\n",
      "drwxr-xr-x 3 oi oi  4096 May 28 14:08 data\n",
      "drwxr-xr-x 5 oi oi  4096 May 28 14:08 img\n",
      "-rw-r--r-- 1 oi oi     0 May 28 14:08 objeto\n"
     ]
    }
   ],
   "source": [
    "ls -al"
   ]
  },
  {
   "cell_type": "markdown",
   "metadata": {},
   "source": [
    "### Listado con el numero de ```inode```.\n",
    "\n",
    "La opción ```-i``` da la información del ```inode``` de cada elemento."
   ]
  },
  {
   "cell_type": "markdown",
   "metadata": {},
   "source": [
    "**Ejemplo:**\n",
    "\n",
    "* La siguiente celda desplegará todos los archivos visibles del directorio actual, indicando el número de su ```inode``` correspondiente."
   ]
  },
  {
   "cell_type": "code",
   "execution_count": 9,
   "metadata": {},
   "outputs": [
    {
     "name": "stdout",
     "output_type": "stream",
     "text": [
      "1842932 01_introduccion.ipynb\n",
      "1842933 02_sistemas_de_computo.ipynb\n",
      "1842934 03_la_linea_de_comandos.ipynb\n",
      "1842935 04_directorios_y_archivos.ipynb\n",
      "1842936 05_flujos_de_texto_filtros_y_pipes.ipynb\n",
      "1842937 06_expresiones_regulares_y_grep.ipynb\n",
      "1842938 07_introduccion_a_vim.ipynb\n",
      "1842939 08_usuarios_y_grupos.ipynb\n",
      "1842940 09_permisos_y_propietarios_de_archivos.ipynb\n",
      "1842941 10_find_y_xargs.ipynb\n",
      "1842942 11_procesos_trabajos_y_daemons.ipynb\n",
      "1842943 12_inicio_y_apagado_del_sistema.ipynb\n",
      "1842944 13_gestion_de_servicios_con_systemd.ipynb\n",
      "1842945 14_kernel_modulos_y_dispositivos.ipynb\n",
      "1842946 15_volumenes_y_particiones.ipynb\n",
      "1842947 16_chroot_y_contenedores.ipynb\n",
      "1842948 17_paquetes_de_software.ipynb\n",
      "1842949 18_el_temporizador_cron.ipynb\n",
      "1842950 19_introduccion_a_redes_basicas.ipynb\n",
      "1842951 20_introduccion_a_bash_scripting.ipynb\n",
      "1842952 21_sesiones_remotas_y_transmision_de_datos.ipynb\n",
      "1842953 22_virtualizacion.ipynb\n",
      "1842954 23_seguridad_basica.ipynb\n",
      "1842955 LICENSE\n",
      "1842956 README.md\n",
      "2364509 data\n",
      "2364527 img\n",
      "1842957 objeto\n"
     ]
    }
   ],
   "source": [
    "ls -i"
   ]
  },
  {
   "cell_type": "markdown",
   "metadata": {},
   "source": [
    "### Otras opciones de ```ls```.\n",
    "\n",
    "* ```-r``` o ```--reverse``` desplegará el lsitado en orden de mayor a menor.\n",
    "* ```-R``` o ```--recursive``` deeplegará el contenido del directorio de referencia y el de sis subdirectorios."
   ]
  },
  {
   "cell_type": "markdown",
   "metadata": {},
   "source": [
    "**Ejemplos:**"
   ]
  },
  {
   "cell_type": "markdown",
   "metadata": {},
   "source": [
    "* La siguiente celda desplegará un listado a detalle de los archivos del directorio actual, dispuesto en orden inverso."
   ]
  },
  {
   "cell_type": "code",
   "execution_count": 10,
   "metadata": {
    "scrolled": false
   },
   "outputs": [
    {
     "name": "stdout",
     "output_type": "stream",
     "text": [
      "total 396K\n",
      "-rw-r--r-- 1 oi oi    0 May 28 14:08 objeto\n",
      "drwxr-xr-x 5 oi oi 4.0K May 28 14:08 img\n",
      "drwxr-xr-x 3 oi oi 4.0K May 28 14:08 data\n",
      "-rw-r--r-- 1 oi oi 1.2K May 28 14:08 README.md\n",
      "-rw-r--r-- 1 oi oi 1.1K May 28 14:08 LICENSE\n",
      "-rw-r--r-- 1 oi oi 2.9K May 28 14:08 23_seguridad_basica.ipynb\n",
      "-rw-r--r-- 1 oi oi  11K May 28 14:08 22_virtualizacion.ipynb\n",
      "-rw-r--r-- 1 oi oi 6.2K May 28 14:08 21_sesiones_remotas_y_transmision_de_datos.ipynb\n",
      "-rw-r--r-- 1 oi oi  14K May 28 14:08 20_introduccion_a_bash_scripting.ipynb\n",
      "-rw-r--r-- 1 oi oi  51K May 28 14:08 19_introduccion_a_redes_basicas.ipynb\n",
      "-rw-r--r-- 1 oi oi 8.3K May 28 14:08 18_el_temporizador_cron.ipynb\n",
      "-rw-r--r-- 1 oi oi  17K May 28 14:08 17_paquetes_de_software.ipynb\n",
      "-rw-r--r-- 1 oi oi 4.1K May 28 14:08 16_chroot_y_contenedores.ipynb\n",
      "-rw-r--r-- 1 oi oi  13K May 28 14:08 15_volumenes_y_particiones.ipynb\n",
      "-rw-r--r-- 1 oi oi 7.8K May 28 14:08 14_kernel_modulos_y_dispositivos.ipynb\n",
      "-rw-r--r-- 1 oi oi 5.8K May 28 14:08 13_gestion_de_servicios_con_systemd.ipynb\n",
      "-rw-r--r-- 1 oi oi 6.2K May 28 14:08 12_inicio_y_apagado_del_sistema.ipynb\n",
      "-rw-r--r-- 1 oi oi  14K May 28 14:08 11_procesos_trabajos_y_daemons.ipynb\n",
      "-rw-r--r-- 1 oi oi 6.1K May 28 14:08 10_find_y_xargs.ipynb\n",
      "-rw-r--r-- 1 oi oi 4.8K May 28 14:08 09_permisos_y_propietarios_de_archivos.ipynb\n",
      "-rw-r--r-- 1 oi oi  13K May 28 14:08 08_usuarios_y_grupos.ipynb\n",
      "-rw-r--r-- 1 oi oi 4.7K May 28 14:08 07_introduccion_a_vim.ipynb\n",
      "-rw-r--r-- 1 oi oi 7.4K May 28 14:08 06_expresiones_regulares_y_grep.ipynb\n",
      "-rw-r--r-- 1 oi oi  30K May 28 14:08 05_flujos_de_texto_filtros_y_pipes.ipynb\n",
      "-rw-r--r-- 1 oi oi  68K May 28 14:29 04_directorios_y_archivos.ipynb\n",
      "-rw-r--r-- 1 oi oi  13K May 28 14:08 03_la_linea_de_comandos.ipynb\n",
      "-rw-r--r-- 1 oi oi  15K May 28 14:08 02_sistemas_de_computo.ipynb\n",
      "-rw-r--r-- 1 oi oi  11K May 28 14:08 01_introduccion.ipynb\n"
     ]
    }
   ],
   "source": [
    "ls -rhl"
   ]
  },
  {
   "cell_type": "markdown",
   "metadata": {},
   "source": [
    "* La siguiente celda desplegará un listado de los archivos del directorio actual y de sus subdirectorios."
   ]
  },
  {
   "cell_type": "code",
   "execution_count": 11,
   "metadata": {},
   "outputs": [
    {
     "name": "stdout",
     "output_type": "stream",
     "text": [
      ".:\n",
      "01_introduccion.ipynb\n",
      "02_sistemas_de_computo.ipynb\n",
      "03_la_linea_de_comandos.ipynb\n",
      "04_directorios_y_archivos.ipynb\n",
      "05_flujos_de_texto_filtros_y_pipes.ipynb\n",
      "06_expresiones_regulares_y_grep.ipynb\n",
      "07_introduccion_a_vim.ipynb\n",
      "08_usuarios_y_grupos.ipynb\n",
      "09_permisos_y_propietarios_de_archivos.ipynb\n",
      "10_find_y_xargs.ipynb\n",
      "11_procesos_trabajos_y_daemons.ipynb\n",
      "12_inicio_y_apagado_del_sistema.ipynb\n",
      "13_gestion_de_servicios_con_systemd.ipynb\n",
      "14_kernel_modulos_y_dispositivos.ipynb\n",
      "15_volumenes_y_particiones.ipynb\n",
      "16_chroot_y_contenedores.ipynb\n",
      "17_paquetes_de_software.ipynb\n",
      "18_el_temporizador_cron.ipynb\n",
      "19_introduccion_a_redes_basicas.ipynb\n",
      "20_introduccion_a_bash_scripting.ipynb\n",
      "21_sesiones_remotas_y_transmision_de_datos.ipynb\n",
      "22_virtualizacion.ipynb\n",
      "23_seguridad_basica.ipynb\n",
      "LICENSE\n",
      "README.md\n",
      "data\n",
      "img\n",
      "objeto\n",
      "\n",
      "./data:\n",
      "05  nuevo\n",
      "\n",
      "./data/05:\n",
      "README.md\n",
      "\n",
      "./img:\n",
      "02  03  08  cloudevel.png\n",
      "\n",
      "./img/02:\n",
      "sistema-operativo.png\n",
      "\n",
      "./img/03:\n",
      "inicio.png  login.png  man.png  password.png\n",
      "\n",
      "./img/08:\n",
      "detalle_listado.png\n"
     ]
    }
   ],
   "source": [
    "ls -R"
   ]
  },
  {
   "cell_type": "markdown",
   "metadata": {},
   "source": [
    "### La *man page* de  ```ls```."
   ]
  },
  {
   "cell_type": "code",
   "execution_count": 12,
   "metadata": {},
   "outputs": [
    {
     "name": "stdout",
     "output_type": "stream",
     "text": [
      "LS(1)                            User Commands                           LS(1)\n",
      "\n",
      "NAME\n",
      "       ls - list directory contents\n",
      "\n",
      "SYNOPSIS\n",
      "       ls [OPTION]... [FILE]...\n",
      "\n",
      "DESCRIPTION\n",
      "       List  information  about  the FILEs (the current directory by default).\n",
      "       Sort entries alphabetically if none of -cftuvSUX nor --sort  is  speci‐\n",
      "       fied.\n",
      "\n",
      "       Mandatory  arguments  to  long  options are mandatory for short options\n",
      "       too.\n",
      "\n",
      "       -a, --all\n",
      "              do not ignore entries starting with .\n",
      "\n",
      "       -A, --almost-all\n",
      "              do not list implied . and ..\n",
      "\n",
      "       --author\n",
      "              with -l, print the author of each file\n",
      "\n",
      "       -b, --escape\n",
      "              print C-style escapes for nongraphic characters\n",
      "\n",
      "       --block-size=SIZE\n",
      "              with  -l,  scale  sizes  by  SIZE  when  printing  them;   e.g.,\n",
      "              '--block-size=M'; see SIZE format below\n",
      "\n",
      "       -B, --ignore-backups\n",
      "              do not list implied entries ending with ~\n",
      "\n",
      "       -c     with -lt: sort by, and show, ctime (time of last modification of\n",
      "              file status information); with -l: show ctime and sort by  name;\n",
      "              otherwise: sort by ctime, newest first\n",
      "\n",
      "       -C     list entries by columns\n",
      "\n",
      "       --color[=WHEN]\n",
      "              colorize  the output; WHEN can be 'always' (default if omitted),\n",
      "              'auto', or 'never'; more info below\n",
      "\n",
      "       -d, --directory\n",
      "              list directories themselves, not their contents\n",
      "\n",
      "       -D, --dired\n",
      "              generate output designed for Emacs' dired mode\n",
      "\n",
      "       -f     do not sort, enable -aU, disable -ls --color\n",
      "\n",
      "       -F, --classify\n",
      "              append indicator (one of */=>@|) to entries\n",
      "\n",
      "       --file-type\n",
      "              likewise, except do not append '*'\n",
      "\n",
      "       --format=WORD\n",
      "              across -x, commas -m, horizontal -x, long -l, single-column  -1,\n",
      "              verbose -l, vertical -C\n",
      "\n",
      "       --full-time\n",
      "              like -l --time-style=full-iso\n",
      "\n",
      "       -g     like -l, but do not list owner\n",
      "\n",
      "       --group-directories-first\n",
      "              group directories before files;\n",
      "\n",
      "              can   be  augmented  with  a  --sort  option,  but  any  use  of\n",
      "              --sort=none (-U) disables grouping\n",
      "\n",
      "       -G, --no-group\n",
      "              in a long listing, don't print group names\n",
      "\n",
      "       -h, --human-readable\n",
      "              with -l and -s, print sizes like 1K 234M 2G etc.\n",
      "\n",
      "       --si   likewise, but use powers of 1000 not 1024\n",
      "\n",
      "       -H, --dereference-command-line\n",
      "              follow symbolic links listed on the command line\n",
      "\n",
      "       --dereference-command-line-symlink-to-dir\n",
      "              follow each command line symbolic link\n",
      "\n",
      "              that points to a directory\n",
      "\n",
      "       --hide=PATTERN\n",
      "              do not list implied entries matching shell  PATTERN  (overridden\n",
      "              by -a or -A)\n",
      "\n",
      "       --hyperlink[=WHEN]\n",
      "              hyperlink file names; WHEN can be 'always' (default if omitted),\n",
      "              'auto', or 'never'\n",
      "\n",
      "       --indicator-style=WORD\n",
      "              append indicator with style WORD to entry names: none (default),\n",
      "              slash (-p), file-type (--file-type), classify (-F)\n",
      "\n",
      "       -i, --inode\n",
      "              print the index number of each file\n",
      "\n",
      "       -I, --ignore=PATTERN\n",
      "              do not list implied entries matching shell PATTERN\n",
      "\n",
      "       -k, --kibibytes\n",
      "              default  to  1024-byte  blocks for disk usage; used only with -s\n",
      "              and per directory totals\n",
      "\n",
      "       -l     use a long listing format\n",
      "\n",
      "       -L, --dereference\n",
      "              when showing file information for a symbolic link, show informa‐\n",
      "              tion  for  the file the link references rather than for the link\n",
      "              itself\n",
      "\n",
      "       -m     fill width with a comma separated list of entries\n",
      "\n",
      "       -n, --numeric-uid-gid\n",
      "              like -l, but list numeric user and group IDs\n",
      "\n",
      "       -N, --literal\n",
      "              print entry names without quoting\n",
      "\n",
      "       -o     like -l, but do not list group information\n",
      "\n",
      "       -p, --indicator-style=slash\n",
      "              append / indicator to directories\n",
      "\n",
      "       -q, --hide-control-chars\n",
      "              print ? instead of nongraphic characters\n",
      "\n",
      "       --show-control-chars\n",
      "              show nongraphic characters as-is (the default, unless program is\n",
      "              'ls' and output is a terminal)\n",
      "\n",
      "       -Q, --quote-name\n",
      "              enclose entry names in double quotes\n",
      "\n",
      "       --quoting-style=WORD\n",
      "              use  quoting style WORD for entry names: literal, locale, shell,\n",
      "              shell-always,  shell-escape,  shell-escape-always,   c,   escape\n",
      "              (overrides QUOTING_STYLE environment variable)\n",
      "\n",
      "       -r, --reverse\n",
      "              reverse order while sorting\n",
      "\n",
      "       -R, --recursive\n",
      "              list subdirectories recursively\n",
      "\n",
      "       -s, --size\n",
      "              print the allocated size of each file, in blocks\n",
      "\n",
      "       -S     sort by file size, largest first\n",
      "\n",
      "       --sort=WORD\n",
      "              sort  by  WORD instead of name: none (-U), size (-S), time (-t),\n",
      "              version (-v), extension (-X)\n",
      "\n",
      "       --time=WORD\n",
      "              with -l, show time as WORD instead of default modification time:\n",
      "              atime  or  access  or  use  (-u); ctime or status (-c); also use\n",
      "              specified time as sort key if --sort=time (newest first)\n",
      "\n",
      "       --time-style=TIME_STYLE\n",
      "              time/date format with -l; see TIME_STYLE below\n",
      "\n",
      "       -t     sort by modification time, newest first\n",
      "\n",
      "       -T, --tabsize=COLS\n",
      "              assume tab stops at each COLS instead of 8\n",
      "\n",
      "       -u     with -lt: sort by, and show, access time; with -l:  show  access\n",
      "              time  and  sort  by name; otherwise: sort by access time, newest\n",
      "              first\n",
      "\n",
      "       -U     do not sort; list entries in directory order\n",
      "\n",
      "       -v     natural sort of (version) numbers within text\n",
      "\n",
      "       -w, --width=COLS\n",
      "              set output width to COLS.  0 means no limit\n",
      "\n",
      "       -x     list entries by lines instead of by columns\n",
      "\n",
      "       -X     sort alphabetically by entry extension\n",
      "\n",
      "       -Z, --context\n",
      "              print any security context of each file\n",
      "\n",
      "       -1     list one file per line.  Avoid '\\n' with -q or -b\n",
      "\n",
      "       --help display this help and exit\n",
      "\n",
      "       --version\n",
      "              output version information and exit\n",
      "\n",
      "       The SIZE argument is an integer and  optional  unit  (example:  10K  is\n",
      "       10*1024).   Units  are  K,M,G,T,P,E,Z,Y  (powers  of 1024) or KB,MB,...\n",
      "       (powers of 1000).\n",
      "\n",
      "       The TIME_STYLE argument can be  full-iso,  long-iso,  iso,  locale,  or\n",
      "       +FORMAT.   FORMAT  is  interpreted  like in date(1).  If FORMAT is FOR‐\n",
      "       MAT1<newline>FORMAT2, then FORMAT1 applies to non-recent files and FOR‐\n",
      "       MAT2  to  recent files.  TIME_STYLE prefixed with 'posix-' takes effect\n",
      "       only outside the POSIX locale.  Also the TIME_STYLE  environment  vari‐\n",
      "       able sets the default style to use.\n",
      "\n",
      "       Using  color  to distinguish file types is disabled both by default and\n",
      "       with --color=never.  With --color=auto, ls emits color codes only  when\n",
      "       standard  output is connected to a terminal.  The LS_COLORS environment\n",
      "       variable can change the settings.  Use the dircolors command to set it.\n",
      "\n",
      "   Exit status:\n",
      "       0      if OK,\n",
      "\n",
      "       1      if minor problems (e.g., cannot access subdirectory),\n",
      "\n",
      "       2      if serious trouble (e.g., cannot access command-line argument).\n",
      "\n",
      "AUTHOR\n",
      "       Written by Richard M. Stallman and David MacKenzie.\n",
      "\n",
      "REPORTING BUGS\n",
      "       GNU coreutils online help: <https://www.gnu.org/software/coreutils/>\n",
      "       Report ls translation bugs to <https://translationproject.org/team/>\n",
      "\n",
      "COPYRIGHT\n",
      "       Copyright © 2018 Free Software Foundation, Inc.   License  GPLv3+:  GNU\n",
      "       GPL version 3 or later <https://gnu.org/licenses/gpl.html>.\n",
      "       This  is  free  software:  you  are free to change and redistribute it.\n",
      "       There is NO WARRANTY, to the extent permitted by law.\n",
      "\n",
      "SEE ALSO\n",
      "       Full documentation at: <https://www.gnu.org/software/coreutils/ls>\n",
      "       or available locally via: info '(coreutils) ls invocation'\n",
      "\n",
      "GNU coreutils 8.30              September 2019                           LS(1)\n"
     ]
    }
   ],
   "source": [
    "man ls"
   ]
  },
  {
   "cell_type": "markdown",
   "metadata": {},
   "source": [
    "## Rutas absolutas y relativas.\n",
    "\n",
    "Los sitemas *UNIX* y *GNU/Linux* permiten acceder a cualquier recurso del sistema de archivos mediante una ruta. En ese sentido es posible utilizar rutas absolutas o rutas relativas."
   ]
  },
  {
   "cell_type": "markdown",
   "metadata": {},
   "source": [
    "### Rutas absolutas.\n",
    "\n",
    "Una ruta absoluta es aquella que se indica a partir del directorio raíz ```/```.\n",
    "\n",
    "```\n",
    "/<subdirectorio 1>/<subdirectorio 2>/.../<subdirectorio n>/<elemento>\n",
    "```"
   ]
  },
  {
   "cell_type": "markdown",
   "metadata": {},
   "source": [
    "**Ejemplos:**"
   ]
  },
  {
   "cell_type": "markdown",
   "metadata": {},
   "source": [
    "* La siguiente celda enlistará el contenido del directorio raíz."
   ]
  },
  {
   "cell_type": "code",
   "execution_count": 13,
   "metadata": {},
   "outputs": [
    {
     "name": "stdout",
     "output_type": "stream",
     "text": [
      "bin    dev   lib    libx32      mnt   root  snap      sys  var\n",
      "boot   etc   lib32  lost+found  opt   run   srv       tmp\n",
      "cdrom  home  lib64  media       proc  sbin  swap.img  usr\n"
     ]
    }
   ],
   "source": [
    "ls /"
   ]
  },
  {
   "cell_type": "markdown",
   "metadata": {},
   "source": [
    "* Las siguientes celda desplegarán el contenido de directorio ```/usr/local/```."
   ]
  },
  {
   "cell_type": "code",
   "execution_count": 14,
   "metadata": {},
   "outputs": [
    {
     "name": "stdout",
     "output_type": "stream",
     "text": [
      "bin  etc  games  include  lib  man  sbin  share  src\n"
     ]
    }
   ],
   "source": [
    "ls /usr/local"
   ]
  },
  {
   "cell_type": "markdown",
   "metadata": {},
   "source": [
    "* La siguiente celda desplegará al archivo localizado en ```/dev/input/mice```."
   ]
  },
  {
   "cell_type": "code",
   "execution_count": 15,
   "metadata": {},
   "outputs": [
    {
     "name": "stdout",
     "output_type": "stream",
     "text": [
      "/dev/input/mice\n"
     ]
    }
   ],
   "source": [
    "ls /dev/input/mice"
   ]
  },
  {
   "cell_type": "markdown",
   "metadata": {},
   "source": [
    "### Rutas relativas.\n",
    "\n",
    "Las rutas relativas no comienzan desde la raíz, sino que utilizan como referencia la posición en la que se encuentra el *shell* y por lo tanto, no comienzan con la diagonal ```\\```.\n",
    "\n",
    "**Nota:** En el caso de las notebooks de Jupyter, la ruta relativa toma como referencia inicial el directorio en el que se encuentra la notebook."
   ]
  },
  {
   "cell_type": "markdown",
   "metadata": {},
   "source": [
    "**Ejemplos:**"
   ]
  },
  {
   "cell_type": "markdown",
   "metadata": {},
   "source": [
    "* La siguiente celda despelgará la posición de esta notebook en el sistema de archivos. Esta será la psición de referencia para las rutas relativas."
   ]
  },
  {
   "cell_type": "code",
   "execution_count": 16,
   "metadata": {},
   "outputs": [
    {
     "name": "stdout",
     "output_type": "stream",
     "text": [
      "/opt/oi/cd101\n"
     ]
    }
   ],
   "source": [
    "pwd"
   ]
  },
  {
   "cell_type": "markdown",
   "metadata": {},
   "source": [
    "* La siguiente celda despelgará el listado de directorio [*img*](img)."
   ]
  },
  {
   "cell_type": "code",
   "execution_count": 17,
   "metadata": {
    "scrolled": true
   },
   "outputs": [
    {
     "name": "stdout",
     "output_type": "stream",
     "text": [
      "02  03  08  cloudevel.png\n"
     ]
    }
   ],
   "source": [
    "ls img"
   ]
  },
  {
   "cell_type": "markdown",
   "metadata": {},
   "source": [
    "* La siguiente celda desplegará la ruta del archivo [*img/03/inicio.png*](img/03/inicio.png)."
   ]
  },
  {
   "cell_type": "code",
   "execution_count": 18,
   "metadata": {},
   "outputs": [
    {
     "name": "stdout",
     "output_type": "stream",
     "text": [
      "img/03/inicio.png\n"
     ]
    }
   ],
   "source": [
    "ls img/03/inicio.png"
   ]
  },
  {
   "cell_type": "markdown",
   "metadata": {},
   "source": [
    "#### Acceso al directorio actual."
   ]
  },
  {
   "cell_type": "markdown",
   "metadata": {},
   "source": [
    "En algunos casos es útil hacer referencia explícita al directorio en el que se encuentra el *shell*.\n",
    "\n",
    "El directorio actual se denota por un punto ```.```."
   ]
  },
  {
   "cell_type": "markdown",
   "metadata": {},
   "source": [
    "**Ejemplo:**\n",
    "\n",
    "La siguiente celda desplegará un listado extendido de todos el contenido del directorio ligado a esta notebook."
   ]
  },
  {
   "cell_type": "code",
   "execution_count": 19,
   "metadata": {},
   "outputs": [
    {
     "name": "stdout",
     "output_type": "stream",
     "text": [
      "total 436\n",
      "drwxr-xr-x 6 oi oi  4096 May 28 14:33 .\n",
      "drwxr-xr-x 5 oi oi  4096 May 28 14:08 ..\n",
      "drwxr-xr-x 8 oi oi  4096 May 28 14:09 .git\n",
      "-rw-r--r-- 1 oi oi  1203 May 28 14:08 .gitignore\n",
      "drwxr-xr-x 2 oi oi  4096 May 28 14:15 .ipynb_checkpoints\n",
      "-rw-r--r-- 1 oi oi 10956 May 28 14:08 01_introduccion.ipynb\n",
      "-rw-r--r-- 1 oi oi 14891 May 28 14:08 02_sistemas_de_computo.ipynb\n",
      "-rw-r--r-- 1 oi oi 12603 May 28 14:08 03_la_linea_de_comandos.ipynb\n",
      "-rw-r--r-- 1 oi oi 88450 May 28 14:33 04_directorios_y_archivos.ipynb\n",
      "-rw-r--r-- 1 oi oi 30138 May 28 14:08 05_flujos_de_texto_filtros_y_pipes.ipynb\n",
      "-rw-r--r-- 1 oi oi  7549 May 28 14:08 06_expresiones_regulares_y_grep.ipynb\n",
      "-rw-r--r-- 1 oi oi  4760 May 28 14:08 07_introduccion_a_vim.ipynb\n",
      "-rw-r--r-- 1 oi oi 13077 May 28 14:08 08_usuarios_y_grupos.ipynb\n",
      "-rw-r--r-- 1 oi oi  4836 May 28 14:08 09_permisos_y_propietarios_de_archivos.ipynb\n",
      "-rw-r--r-- 1 oi oi  6209 May 28 14:08 10_find_y_xargs.ipynb\n",
      "-rw-r--r-- 1 oi oi 13431 May 28 14:08 11_procesos_trabajos_y_daemons.ipynb\n",
      "-rw-r--r-- 1 oi oi  6250 May 28 14:08 12_inicio_y_apagado_del_sistema.ipynb\n",
      "-rw-r--r-- 1 oi oi  5924 May 28 14:08 13_gestion_de_servicios_con_systemd.ipynb\n",
      "-rw-r--r-- 1 oi oi  7933 May 28 14:08 14_kernel_modulos_y_dispositivos.ipynb\n",
      "-rw-r--r-- 1 oi oi 12537 May 28 14:08 15_volumenes_y_particiones.ipynb\n",
      "-rw-r--r-- 1 oi oi  4174 May 28 14:08 16_chroot_y_contenedores.ipynb\n",
      "-rw-r--r-- 1 oi oi 17273 May 28 14:08 17_paquetes_de_software.ipynb\n",
      "-rw-r--r-- 1 oi oi  8424 May 28 14:08 18_el_temporizador_cron.ipynb\n",
      "-rw-r--r-- 1 oi oi 51339 May 28 14:08 19_introduccion_a_redes_basicas.ipynb\n",
      "-rw-r--r-- 1 oi oi 13764 May 28 14:08 20_introduccion_a_bash_scripting.ipynb\n",
      "-rw-r--r-- 1 oi oi  6275 May 28 14:08 21_sesiones_remotas_y_transmision_de_datos.ipynb\n",
      "-rw-r--r-- 1 oi oi 10385 May 28 14:08 22_virtualizacion.ipynb\n",
      "-rw-r--r-- 1 oi oi  2885 May 28 14:08 23_seguridad_basica.ipynb\n",
      "-rw-r--r-- 1 oi oi  1087 May 28 14:08 LICENSE\n",
      "-rw-r--r-- 1 oi oi  1133 May 28 14:08 README.md\n",
      "drwxr-xr-x 3 oi oi  4096 May 28 14:08 data\n",
      "drwxr-xr-x 5 oi oi  4096 May 28 14:08 img\n",
      "-rw-r--r-- 1 oi oi     0 May 28 14:08 objeto\n"
     ]
    }
   ],
   "source": [
    "ls -al ."
   ]
  },
  {
   "cell_type": "markdown",
   "metadata": {},
   "source": [
    "#### Acceso a directorios superiores.\n",
    "\n",
    "Para acceder al directorio inmediato superior se utilizan dobles puntos ```../```.\n",
    "Esta operación puede ser usada varias veces para acceder a niveles superiores en la ruta."
   ]
  },
  {
   "cell_type": "markdown",
   "metadata": {},
   "source": [
    "**Ejemplos:**"
   ]
  },
  {
   "cell_type": "markdown",
   "metadata": {},
   "source": [
    "* La siguiente celda desplegará el listado del directorio que contiene al directorio actual."
   ]
  },
  {
   "cell_type": "code",
   "execution_count": 20,
   "metadata": {},
   "outputs": [
    {
     "name": "stdout",
     "output_type": "stream",
     "text": [
      "/opt/oi/cd101\n"
     ]
    }
   ],
   "source": [
    "pwd"
   ]
  },
  {
   "cell_type": "code",
   "execution_count": 21,
   "metadata": {
    "scrolled": false
   },
   "outputs": [
    {
     "name": "stdout",
     "output_type": "stream",
     "text": [
      "cd101  cd101-200528\n"
     ]
    }
   ],
   "source": [
    "ls ../"
   ]
  },
  {
   "cell_type": "markdown",
   "metadata": {},
   "source": [
    " * La siguiente celda despelgará el listado de directorio [*img*](img) a partir del directorio superior."
   ]
  },
  {
   "cell_type": "code",
   "execution_count": 22,
   "metadata": {},
   "outputs": [
    {
     "name": "stdout",
     "output_type": "stream",
     "text": [
      "02  03  08  cloudevel.png\n"
     ]
    }
   ],
   "source": [
    "ls ../cd101/img"
   ]
  },
  {
   "cell_type": "markdown",
   "metadata": {},
   "source": [
    "* La siguiente celda despelgará el listado de el directorio 2 niveles arriba del actual."
   ]
  },
  {
   "cell_type": "code",
   "execution_count": 23,
   "metadata": {},
   "outputs": [
    {
     "name": "stdout",
     "output_type": "stream",
     "text": [
      "gradle  oi\n"
     ]
    }
   ],
   "source": [
    "ls ../../"
   ]
  },
  {
   "cell_type": "markdown",
   "metadata": {},
   "source": [
    "#### Acceso al directorio *home* del usuario.\n",
    "\n",
    "Es común asignarle a cada usuario de un sistema *UNIX* o *GNU/Linux* un directorio de su propiedad que por lo general es donde el shell se localizará al iniciar la sesión. A este direcotrio se le comoce como el *home* del usuario y se hace referencia a éste mediante una virgulilla ```~```."
   ]
  },
  {
   "cell_type": "markdown",
   "metadata": {},
   "source": [
    "**Ejemplo:**\n",
    "\n",
    "La siguiente celda desplegará el listado extendido de todo el contenido del directorio *home* del usuario ligado al servicio de *Jupyter*.\n",
    "\n",
    "**Nota:** Si esta notebook se está ejecutando desde la máquina virtual proporcionada por Cloudevel<sup>®</sup>, el directorio sería ```/home/oi```."
   ]
  },
  {
   "cell_type": "code",
   "execution_count": 24,
   "metadata": {},
   "outputs": [
    {
     "name": "stdout",
     "output_type": "stream",
     "text": [
      "total 112\n",
      "drwxr-xr-x 13 oi   oi    4096 May 28 13:30 .\n",
      "drwxr-xr-x  3 root root  4096 May 10 01:58 ..\n",
      "-rw-------  1 oi   oi   15660 May 28 14:13 .bash_history\n",
      "-rw-r--r--  1 oi   oi     220 Feb 25 12:03 .bash_logout\n",
      "-rw-r--r--  1 oi   oi    4197 May 10 03:47 .bashrc\n",
      "drwx------  4 oi   oi    4096 May 25 14:22 .cache\n",
      "drwx------  3 oi   oi    4096 May 10 03:45 .config\n",
      "-rw-r--r--  1 oi   oi      60 May 28 02:47 .gitconfig\n",
      "drwxr-xr-x  5 oi   oi    4096 May 25 14:21 .ipython\n",
      "drwx------  2 oi   oi    4096 May 26 13:53 .jupyter\n",
      "-rw-------  1 oi   oi      44 May 27 15:28 .lesshst\n",
      "drwxrwxr-x  4 oi   oi    4096 May 25 14:22 .local\n",
      "drwxrwxr-x  6 oi   oi    4096 May 10 03:57 .npm\n",
      "drwxrwxr-x  8 oi   oi    4096 May 10 03:44 .nvm\n",
      "-rw-r--r--  1 oi   oi     807 Feb 25 12:03 .profile\n",
      "-rw-r--r--  1 oi   oi       0 May 10 02:04 .sudo_as_admin_successful\n",
      "-rw-------  1 oi   oi     556 May 25 14:47 .viminfo\n",
      "-rw-rw-r--  1 oi   oi     298 May 10 03:47 .wget-hsts\n",
      "drwxrwxr-x  3 oi   oi    4096 May 10 03:45 .yarn\n",
      "-rw-rw-r--  1 oi   oi     116 May 10 03:45 .yarnrc\n",
      "drwxrwxr-x  3 oi   oi    4096 May 10 03:44 cd-deploy\n",
      "drwxr-xr-x  3 oi   oi    4096 May 28 13:30 ej\n",
      "drwxrwxr-x  6 oi   oi    4096 May 10 03:47 ide\n",
      "-rwxrwxr-x  1 oi   oi      71 May 10 03:47 jupyter.sh\n",
      "-rwxrwxr-x  1 oi   oi     101 May 10 03:47 theia.sh\n"
     ]
    }
   ],
   "source": [
    "ls -al ~ "
   ]
  },
  {
   "cell_type": "markdown",
   "metadata": {},
   "source": [
    "## Desplazamiento entre directorios con el comando ```cd```.\n",
    "\n",
    "El comando ```cd``` permite moverse entre directorios indicando la ruta a la que se quiere acceder.\n",
    "\n",
    "```\n",
    "cd <ruta>\n",
    "```\n",
    "\n",
    "Donde:\n",
    "\n",
    "* ```<ruta>``` es una ruta absoluta o relativa del sistema. En caso de que no se ingrese una ruta, el *shell* se posicionará en el *home* del usuario."
   ]
  },
  {
   "cell_type": "markdown",
   "metadata": {},
   "source": [
    "**Ejemplos:**"
   ]
  },
  {
   "cell_type": "markdown",
   "metadata": {},
   "source": [
    "* La siguiente celda moverá el shell al directorio [*img*](img)."
   ]
  },
  {
   "cell_type": "code",
   "execution_count": 25,
   "metadata": {},
   "outputs": [],
   "source": [
    "cd img"
   ]
  },
  {
   "cell_type": "code",
   "execution_count": 26,
   "metadata": {},
   "outputs": [
    {
     "name": "stdout",
     "output_type": "stream",
     "text": [
      "/opt/oi/cd101/img\n"
     ]
    }
   ],
   "source": [
    "pwd"
   ]
  },
  {
   "cell_type": "markdown",
   "metadata": {},
   "source": [
    " * La siguiente celda moverá el shell dos niveles arriba de directorio actual."
   ]
  },
  {
   "cell_type": "code",
   "execution_count": 27,
   "metadata": {},
   "outputs": [],
   "source": [
    "cd ../../"
   ]
  },
  {
   "cell_type": "code",
   "execution_count": 28,
   "metadata": {},
   "outputs": [
    {
     "name": "stdout",
     "output_type": "stream",
     "text": [
      "/opt/oi\n"
     ]
    }
   ],
   "source": [
    "pwd"
   ]
  },
  {
   "cell_type": "markdown",
   "metadata": {},
   "source": [
    "* La siguiente celda moverá el shell al directorio ```/usr/share/```."
   ]
  },
  {
   "cell_type": "code",
   "execution_count": 29,
   "metadata": {},
   "outputs": [],
   "source": [
    "cd /usr/share/"
   ]
  },
  {
   "cell_type": "code",
   "execution_count": 30,
   "metadata": {},
   "outputs": [
    {
     "name": "stdout",
     "output_type": "stream",
     "text": [
      "/usr/share\n"
     ]
    }
   ],
   "source": [
    "pwd"
   ]
  },
  {
   "cell_type": "markdown",
   "metadata": {},
   "source": [
    "* La siguiente celda moverá el shell al directorio ```/usr/local/```."
   ]
  },
  {
   "cell_type": "code",
   "execution_count": 31,
   "metadata": {},
   "outputs": [],
   "source": [
    "cd ../local/"
   ]
  },
  {
   "cell_type": "code",
   "execution_count": 32,
   "metadata": {},
   "outputs": [
    {
     "name": "stdout",
     "output_type": "stream",
     "text": [
      "/usr/local\n"
     ]
    }
   ],
   "source": [
    "pwd"
   ]
  },
  {
   "cell_type": "markdown",
   "metadata": {},
   "source": [
    "* La siguiente celda tratará de mover el shell al directorio ```/root/```. Sin embargo, el usuario actual no cuenta con los permisos de acceso a dicho directorio."
   ]
  },
  {
   "cell_type": "code",
   "execution_count": 33,
   "metadata": {},
   "outputs": [
    {
     "name": "stdout",
     "output_type": "stream",
     "text": [
      "bash: cd: /root: Permission denied\n"
     ]
    },
    {
     "ename": "",
     "evalue": "1",
     "output_type": "error",
     "traceback": []
    }
   ],
   "source": [
    "cd /root"
   ]
  },
  {
   "cell_type": "markdown",
   "metadata": {},
   "source": [
    "Por lo tanto, el shell no se moverá de su posición actual."
   ]
  },
  {
   "cell_type": "code",
   "execution_count": 34,
   "metadata": {},
   "outputs": [
    {
     "name": "stdout",
     "output_type": "stream",
     "text": [
      "/usr/local\n"
     ]
    }
   ],
   "source": [
    "pwd"
   ]
  },
  {
   "cell_type": "markdown",
   "metadata": {},
   "source": [
    "* Las siguientes celdas moverán el shell al *home* del usuario que está ejecutando el servicio de esta notebook de *Jupyter*."
   ]
  },
  {
   "cell_type": "code",
   "execution_count": 35,
   "metadata": {},
   "outputs": [],
   "source": [
    "cd ~"
   ]
  },
  {
   "cell_type": "code",
   "execution_count": 36,
   "metadata": {},
   "outputs": [
    {
     "name": "stdout",
     "output_type": "stream",
     "text": [
      "/home/oi\n"
     ]
    }
   ],
   "source": [
    "pwd"
   ]
  },
  {
   "cell_type": "code",
   "execution_count": 37,
   "metadata": {},
   "outputs": [],
   "source": [
    "cd"
   ]
  },
  {
   "cell_type": "code",
   "execution_count": 38,
   "metadata": {},
   "outputs": [
    {
     "name": "stdout",
     "output_type": "stream",
     "text": [
      "/home/oi\n"
     ]
    }
   ],
   "source": [
    "pwd"
   ]
  },
  {
   "cell_type": "markdown",
   "metadata": {},
   "source": [
    "### La man page de ```cd```."
   ]
  },
  {
   "cell_type": "code",
   "execution_count": null,
   "metadata": {},
   "outputs": [],
   "source": [
    "man cd"
   ]
  },
  {
   "cell_type": "markdown",
   "metadata": {},
   "source": [
    "## Creación de directorios con  el comando ```mkdir```.\n",
    "\n",
    "El comando ```mkdir``` permite crear un subdirectorio en caso de que el usuario cuente con los permisos adecuados.\n",
    "\n",
    "```\n",
    "mkdir <ruta 1> <ruta 2> ... <ruta n> \n",
    "```\n",
    "\n",
    "Donde:\n",
    "\n",
    "* ```<ruta i>``` es la ruta de un directorio nuevo. "
   ]
  },
  {
   "cell_type": "markdown",
   "metadata": {},
   "source": [
    "**Ejemplos:**"
   ]
  },
  {
   "cell_type": "markdown",
   "metadata": {},
   "source": [
    "* Se intentará listar la ruta ```~/ejemplo_1```, la cual no corresponde a ningun archivo o directorio."
   ]
  },
  {
   "cell_type": "code",
   "execution_count": 39,
   "metadata": {},
   "outputs": [
    {
     "name": "stdout",
     "output_type": "stream",
     "text": [
      "ls: cannot access '/home/oi/ejemplo_1': No such file or directory\n"
     ]
    },
    {
     "ename": "",
     "evalue": "2",
     "output_type": "error",
     "traceback": []
    }
   ],
   "source": [
    "ls ~/ejemplo_1"
   ]
  },
  {
   "cell_type": "markdown",
   "metadata": {},
   "source": [
    "* Se creará el directorio ```~/ejemplo_1```."
   ]
  },
  {
   "cell_type": "code",
   "execution_count": 40,
   "metadata": {},
   "outputs": [],
   "source": [
    "mkdir ~/ejemplo_1"
   ]
  },
  {
   "cell_type": "markdown",
   "metadata": {},
   "source": [
    "* Se intentará listar la ruta ```~/ejemplo_1``` nuevamente utilizando la opción ```-a ```."
   ]
  },
  {
   "cell_type": "code",
   "execution_count": 41,
   "metadata": {},
   "outputs": [
    {
     "name": "stdout",
     "output_type": "stream",
     "text": [
      ".  ..\n"
     ]
    }
   ],
   "source": [
    "ls -a ~/ejemplo_1"
   ]
  },
  {
   "cell_type": "markdown",
   "metadata": {},
   "source": [
    "* Se intentará crear el directorio ```/boot/ejemplo```, pero el usuario actual no cuenta con los permisos para poder realizar esta acción."
   ]
  },
  {
   "cell_type": "code",
   "execution_count": 42,
   "metadata": {},
   "outputs": [
    {
     "name": "stdout",
     "output_type": "stream",
     "text": [
      "mkdir: cannot create directory ‘/boot/ejemplo’: Permission denied\n"
     ]
    },
    {
     "ename": "",
     "evalue": "1",
     "output_type": "error",
     "traceback": []
    }
   ],
   "source": [
    "mkdir /boot/ejemplo"
   ]
  },
  {
   "cell_type": "markdown",
   "metadata": {},
   "source": [
    "### Creación de directorios anidados.\n",
    "\n",
    "El comando ```mkdir``` sólo puede crear un subdirectorio si su directorio superior existe.\n",
    "\n",
    "la opción ```-p``` permite crear un directorio junto con sus directorios superiores."
   ]
  },
  {
   "cell_type": "markdown",
   "metadata": {},
   "source": [
    "**Ejemplo:**\n",
    "\n",
    "* La siguiente celda creará los  directorios ```~/ejemplo_2/``` y ```~/ejemplo_2/otro/```."
   ]
  },
  {
   "cell_type": "code",
   "execution_count": 43,
   "metadata": {},
   "outputs": [
    {
     "name": "stdout",
     "output_type": "stream",
     "text": [
      "ls: cannot access '/home/oi/ejemplo_2': No such file or directory\n"
     ]
    },
    {
     "ename": "",
     "evalue": "2",
     "output_type": "error",
     "traceback": []
    }
   ],
   "source": [
    "ls ~/ejemplo_2"
   ]
  },
  {
   "cell_type": "code",
   "execution_count": 45,
   "metadata": {
    "scrolled": true
   },
   "outputs": [],
   "source": [
    "mkdir -p ~/ejemplo_2/otro"
   ]
  },
  {
   "cell_type": "code",
   "execution_count": 47,
   "metadata": {},
   "outputs": [
    {
     "name": "stdout",
     "output_type": "stream",
     "text": [
      "otro\n"
     ]
    }
   ],
   "source": [
    "ls ~/ejemplo_2"
   ]
  },
  {
   "cell_type": "markdown",
   "metadata": {},
   "source": [
    "### La man page de ```mkdir```."
   ]
  },
  {
   "cell_type": "code",
   "execution_count": 48,
   "metadata": {},
   "outputs": [
    {
     "name": "stdout",
     "output_type": "stream",
     "text": [
      "MKDIR(1)                         User Commands                        MKDIR(1)\n",
      "\n",
      "NAME\n",
      "       mkdir - make directories\n",
      "\n",
      "SYNOPSIS\n",
      "       mkdir [OPTION]... DIRECTORY...\n",
      "\n",
      "DESCRIPTION\n",
      "       Create the DIRECTORY(ies), if they do not already exist.\n",
      "\n",
      "       Mandatory  arguments  to  long  options are mandatory for short options\n",
      "       too.\n",
      "\n",
      "       -m, --mode=MODE\n",
      "              set file mode (as in chmod), not a=rwx - umask\n",
      "\n",
      "       -p, --parents\n",
      "              no error if existing, make parent directories as needed\n",
      "\n",
      "       -v, --verbose\n",
      "              print a message for each created directory\n",
      "\n",
      "       -Z     set SELinux security context of each created  directory  to  the\n",
      "              default type\n",
      "\n",
      "       --context[=CTX]\n",
      "              like  -Z,  or  if CTX is specified then set the SELinux or SMACK\n",
      "              security context to CTX\n",
      "\n",
      "       --help display this help and exit\n",
      "\n",
      "       --version\n",
      "              output version information and exit\n",
      "\n",
      "AUTHOR\n",
      "       Written by David MacKenzie.\n",
      "\n",
      "REPORTING BUGS\n",
      "       GNU coreutils online help: <https://www.gnu.org/software/coreutils/>\n",
      "       Report mkdir translation bugs to <https://translationproject.org/team/>\n",
      "\n",
      "COPYRIGHT\n",
      "       Copyright © 2018 Free Software Foundation, Inc.   License  GPLv3+:  GNU\n",
      "       GPL version 3 or later <https://gnu.org/licenses/gpl.html>.\n",
      "       This  is  free  software:  you  are free to change and redistribute it.\n",
      "       There is NO WARRANTY, to the extent permitted by law.\n",
      "\n",
      "SEE ALSO\n",
      "       mkdir(2)\n",
      "\n",
      "       Full documentation at: <https://www.gnu.org/software/coreutils/mkdir>\n",
      "       or available locally via: info '(coreutils) mkdir invocation'\n",
      "\n",
      "GNU coreutils 8.30              September 2019                        MKDIR(1)\n"
     ]
    }
   ],
   "source": [
    "man mkdir"
   ]
  },
  {
   "cell_type": "markdown",
   "metadata": {},
   "source": [
    "## Creación o modificación  de un archivo con ```touch```.\n",
    "\n",
    "Este comando tiene 2 funciones:\n",
    "\n",
    "* Crear un archivo vacío en caso de no existir.\n",
    "* En caso de que el archivo exista, modifica la fecha de acceso al archivo.\n",
    "\n",
    "```\n",
    "touch <ruta1> <ruta 2> ... <ruta n>\n",
    "```\n",
    "\n",
    "Donde:\n",
    "\n",
    "* ```<ruta i>``` es la ruta donde se localiza o se creará un archivo."
   ]
  },
  {
   "cell_type": "markdown",
   "metadata": {},
   "source": [
    "**Ejemplo:**"
   ]
  },
  {
   "cell_type": "markdown",
   "metadata": {},
   "source": [
    "* Se intentará buscar el archivos localizado en la  ruta ```~/archivo```. Debido a que este archivo no  existe, se generará un mensaje de error."
   ]
  },
  {
   "cell_type": "code",
   "execution_count": 49,
   "metadata": {},
   "outputs": [
    {
     "name": "stdout",
     "output_type": "stream",
     "text": [
      "ls: cannot access '/home/oi/archivo': No such file or directory\n"
     ]
    },
    {
     "ename": "",
     "evalue": "2",
     "output_type": "error",
     "traceback": []
    }
   ],
   "source": [
    "ls ~/archivo"
   ]
  },
  {
   "cell_type": "markdown",
   "metadata": {},
   "source": [
    "Se utilizará el comando ```touch``` para crear los archivos ```~/archivo``` y ```~\\otro_archivo```."
   ]
  },
  {
   "cell_type": "code",
   "execution_count": 50,
   "metadata": {},
   "outputs": [],
   "source": [
    "touch ~/archivo ~/otro_archivo"
   ]
  },
  {
   "cell_type": "code",
   "execution_count": 51,
   "metadata": {},
   "outputs": [
    {
     "name": "stdout",
     "output_type": "stream",
     "text": [
      "-rw-r--r-- 1 oi oi 0 May 28 14:48 /home/oi/archivo\n",
      "-rw-r--r-- 1 oi oi 0 May 28 14:48 /home/oi/otro_archivo\n"
     ]
    }
   ],
   "source": [
    "ls ~/archivo ~/otro_archivo -l"
   ]
  },
  {
   "cell_type": "markdown",
   "metadata": {},
   "source": [
    "Se puede apreciar que el tamaño  de ambos archivos es ```0```."
   ]
  },
  {
   "cell_type": "markdown",
   "metadata": {},
   "source": [
    "**Nota:** Espere un par de minutos antes de ejecutar las siguiente celda.\n",
    "\n",
    "* La fecha de acceso del archivo ```~/archivo``` será modificada al momento en l que se de ejecute la siguiente celda."
   ]
  },
  {
   "cell_type": "code",
   "execution_count": 52,
   "metadata": {},
   "outputs": [],
   "source": [
    "touch ~/archivo"
   ]
  },
  {
   "cell_type": "markdown",
   "metadata": {},
   "source": [
    "* El cambio será visible al hacer un listado extendido del archivo."
   ]
  },
  {
   "cell_type": "code",
   "execution_count": 53,
   "metadata": {
    "scrolled": true
   },
   "outputs": [
    {
     "name": "stdout",
     "output_type": "stream",
     "text": [
      "-rw-r--r-- 1 oi oi 0 May 28 14:49 /home/oi/archivo\n",
      "-rw-r--r-- 1 oi oi 0 May 28 14:48 /home/oi/otro_archivo\n"
     ]
    }
   ],
   "source": [
    "ls -l ~/archivo ~/otro_archivo"
   ]
  },
  {
   "cell_type": "markdown",
   "metadata": {},
   "source": [
    "### La man page de ```touch```."
   ]
  },
  {
   "cell_type": "code",
   "execution_count": 54,
   "metadata": {},
   "outputs": [
    {
     "name": "stdout",
     "output_type": "stream",
     "text": [
      "TOUCH(1)                         User Commands                        TOUCH(1)\n",
      "\n",
      "NAME\n",
      "       touch - change file timestamps\n",
      "\n",
      "SYNOPSIS\n",
      "       touch [OPTION]... FILE...\n",
      "\n",
      "DESCRIPTION\n",
      "       Update  the  access  and modification times of each FILE to the current\n",
      "       time.\n",
      "\n",
      "       A FILE argument that does not exist is created empty, unless -c  or  -h\n",
      "       is supplied.\n",
      "\n",
      "       A  FILE  argument  string of - is handled specially and causes touch to\n",
      "       change the times of the file associated with standard output.\n",
      "\n",
      "       Mandatory arguments to long options are  mandatory  for  short  options\n",
      "       too.\n",
      "\n",
      "       -a     change only the access time\n",
      "\n",
      "       -c, --no-create\n",
      "              do not create any files\n",
      "\n",
      "       -d, --date=STRING\n",
      "              parse STRING and use it instead of current time\n",
      "\n",
      "       -f     (ignored)\n",
      "\n",
      "       -h, --no-dereference\n",
      "              affect each symbolic link instead of any referenced file (useful\n",
      "              only on systems that can change the timestamps of a symlink)\n",
      "\n",
      "       -m     change only the modification time\n",
      "\n",
      "       -r, --reference=FILE\n",
      "              use this file's times instead of current time\n",
      "\n",
      "       -t STAMP\n",
      "              use [[CC]YY]MMDDhhmm[.ss] instead of current time\n",
      "\n",
      "       --time=WORD\n",
      "              change the specified time: WORD is access, atime, or use: equiv‐\n",
      "              alent to -a WORD is modify or mtime: equivalent to -m\n",
      "\n",
      "       --help display this help and exit\n",
      "\n",
      "       --version\n",
      "              output version information and exit\n",
      "\n",
      "       Note that the -d and -t options accept different time-date formats.\n",
      "\n",
      "DATE STRING\n",
      "       The  --date=STRING  is  a mostly free format human readable date string\n",
      "       such as \"Sun, 29 Feb 2004 16:21:42 -0800\" or \"2004-02-29  16:21:42\"  or\n",
      "       even  \"next Thursday\".  A date string may contain items indicating cal‐\n",
      "       endar date, time of day, time zone, day of week, relative  time,  rela‐\n",
      "       tive date, and numbers.  An empty string indicates the beginning of the\n",
      "       day.  The date string format is more complex than is easily  documented\n",
      "       here but is fully described in the info documentation.\n",
      "\n",
      "AUTHOR\n",
      "       Written  by  Paul  Rubin, Arnold Robbins, Jim Kingdon, David MacKenzie,\n",
      "       and Randy Smith.\n",
      "\n",
      "REPORTING BUGS\n",
      "       GNU coreutils online help: <https://www.gnu.org/software/coreutils/>\n",
      "       Report touch translation bugs to <https://translationproject.org/team/>\n",
      "\n",
      "COPYRIGHT\n",
      "       Copyright © 2018 Free Software Foundation, Inc.   License  GPLv3+:  GNU\n",
      "       GPL version 3 or later <https://gnu.org/licenses/gpl.html>.\n",
      "       This  is  free  software:  you  are free to change and redistribute it.\n",
      "       There is NO WARRANTY, to the extent permitted by law.\n",
      "\n",
      "SEE ALSO\n",
      "       Full documentation at: <https://www.gnu.org/software/coreutils/touch>\n",
      "       or available locally via: info '(coreutils) touch invocation'\n",
      "\n",
      "GNU coreutils 8.30              September 2019                        TOUCH(1)\n"
     ]
    }
   ],
   "source": [
    "man touch"
   ]
  },
  {
   "cell_type": "markdown",
   "metadata": {},
   "source": [
    "## Nombres de directorios y archivos.\n",
    "\n",
    "El sistema de archivos de *GNU/Linux* y de la mayoría de los *UNIX* soporta prácticamente cualquier caracter para darle nombre a un directorio o archivo y por lo general puede tener un tamaño de hasta 255 caracteres.\n",
    "\n",
    "**ADVERTENCIA:**\n",
    "\n",
    "Aún cuando es posible, no se recomienda utilizar espacios y caracteres especiales."
   ]
  },
  {
   "cell_type": "markdown",
   "metadata": {},
   "source": [
    "### Nombres de archivos o directorios con espacios.\n",
    "\n",
    "Los sitemas de archivos y directorios de *GNU/Linux* y la mayoría de los *UNIX* permiten crear nombres que incluyan espacios, pero es necesario utilizar una sintaxis especial."
   ]
  },
  {
   "cell_type": "markdown",
   "metadata": {},
   "source": [
    "**Ejemplos:**"
   ]
  },
  {
   "cell_type": "markdown",
   "metadata": {},
   "source": [
    "* La siguiente celda intentará crear con ``mkdir`` un archivo con espacios, pero en realidad creará 3 directorios:\n",
    "* El dirfectorio ```erroneo``` localizado en el *home* del usuario de esta notebook.\n",
    "* El directorio ```con``` localizado en el directorio actual.\n",
    "* El directorio ```espacios``` localizado en el directorio actual."
   ]
  },
  {
   "cell_type": "code",
   "execution_count": 55,
   "metadata": {},
   "outputs": [],
   "source": [
    "mkdir ~/erroneo con espacios"
   ]
  },
  {
   "cell_type": "markdown",
   "metadata": {},
   "source": [
    "* Del mismo modo el resultado con ```ls``` es el listado de 3 directorios."
   ]
  },
  {
   "cell_type": "code",
   "execution_count": 56,
   "metadata": {},
   "outputs": [
    {
     "name": "stdout",
     "output_type": "stream",
     "text": [
      "/home/oi/erroneo:\n",
      ".  ..\n",
      "\n",
      "con:\n",
      ".  ..\n",
      "\n",
      "espacios:\n",
      ".  ..\n"
     ]
    }
   ],
   "source": [
    "ls ~/erroneo con espacios -a"
   ]
  },
  {
   "cell_type": "markdown",
   "metadata": {},
   "source": [
    "#### Cadenas de caracteres.\n",
    "\n",
    "El *shell* identifica cualquier valor como si fuera una cadena de caracteres. Sin embargo, el caracter de espacio indica una separación de elementos.\n",
    "\n",
    "Para indicarle al *shell* de que se trata de una cadena de caracteres que incluye espacios, es necesario encerrar el nombre entre comiilas o entre apóstrofes."
   ]
  },
  {
   "cell_type": "markdown",
   "metadata": {},
   "source": [
    "**Ejemplo:**"
   ]
  },
  {
   "cell_type": "markdown",
   "metadata": {},
   "source": [
    "* La siguiente celda creará el directorio ```~/\"directorio con espacios\"```."
   ]
  },
  {
   "cell_type": "code",
   "execution_count": 57,
   "metadata": {},
   "outputs": [],
   "source": [
    "mkdir ~/\"directorio con espacios\""
   ]
  },
  {
   "cell_type": "markdown",
   "metadata": {},
   "source": [
    "* El directorio podrá ser listado al ejecutar la siguiente celda."
   ]
  },
  {
   "cell_type": "code",
   "execution_count": 58,
   "metadata": {},
   "outputs": [
    {
     "name": "stdout",
     "output_type": "stream",
     "text": [
      " archivo    'directorio con espacios'   ejemplo_2   ide            theia.sh\n",
      " cd-deploy   ej                         erroneo     jupyter.sh\n",
      " con         ejemplo_1                  espacios    otro_archivo\n"
     ]
    }
   ],
   "source": [
    "ls ~"
   ]
  },
  {
   "cell_type": "markdown",
   "metadata": {},
   "source": [
    "#### Uso de la diagonal invertida ```\\``` como caracter de escape.\n",
    "\n",
    "Algunos caracteres como el espacio, los signos ```$```, ```*```, ```?``` y la propia diagonal invertida ```\\``` son caracteres especiales que pueden ser desplegados o \"escapados\" antecediendo una diagonal invertida ```\\```.\n",
    "\n",
    "```\n",
    "\\<caracter>\n",
    "```\n",
    "\n",
    "Donde:\n",
    "\n",
    "* ```<caracter>``` es un caracter especial."
   ]
  },
  {
   "cell_type": "markdown",
   "metadata": {},
   "source": [
    "**Ejemplos:**"
   ]
  },
  {
   "cell_type": "markdown",
   "metadata": {},
   "source": [
    "* La siguiente celda creará el directorio ```~/otro directorio con $\\ caracteres especiales``` usando caracteres de escape."
   ]
  },
  {
   "cell_type": "code",
   "execution_count": 59,
   "metadata": {},
   "outputs": [],
   "source": [
    "mkdir ~/otro\\ directorio\\ con\\ \\$\\\\\\ caracteres\\ especiales"
   ]
  },
  {
   "cell_type": "markdown",
   "metadata": {},
   "source": [
    "* La siguiente celda desplegará el directorio ```~``` incluyendo el directorio recién creado."
   ]
  },
  {
   "cell_type": "code",
   "execution_count": 60,
   "metadata": {},
   "outputs": [
    {
     "name": "stdout",
     "output_type": "stream",
     "text": [
      " archivo                    erroneo\n",
      " cd-deploy                  espacios\n",
      " con                        ide\n",
      "'directorio con espacios'   jupyter.sh\n",
      " ej                        'otro directorio con $\\ caracteres especiales'\n",
      " ejemplo_1                  otro_archivo\n",
      " ejemplo_2                  theia.sh\n"
     ]
    }
   ],
   "source": [
    "ls ~"
   ]
  },
  {
   "cell_type": "markdown",
   "metadata": {},
   "source": [
    "### Nombres que empiezan con ```~```.\n",
    "\n",
    "El caracter  ```~``` se utiliza para identificar al directorio *home* del usuario actual. Sin embargo, también es un caracter válido para el inicio de un nombre.\n",
    "\n",
    "Esto se presta a confusiones y es necesario tener cuidado con el uso de estos nombre."
   ]
  },
  {
   "cell_type": "markdown",
   "metadata": {},
   "source": [
    "**Ejemplo:**"
   ]
  },
  {
   "cell_type": "markdown",
   "metadata": {},
   "source": [
    "La siguiente celda posicionará a la notebook en el *home* del usuario que está ejecutando *Jupyter*."
   ]
  },
  {
   "cell_type": "code",
   "execution_count": 61,
   "metadata": {},
   "outputs": [],
   "source": [
    "cd"
   ]
  },
  {
   "cell_type": "code",
   "execution_count": 62,
   "metadata": {},
   "outputs": [
    {
     "name": "stdout",
     "output_type": "stream",
     "text": [
      "/home/oi\n"
     ]
    }
   ],
   "source": [
    "pwd"
   ]
  },
  {
   "cell_type": "markdown",
   "metadata": {},
   "source": [
    "* La siguiente celda creará al archivo ```~tilde``` en el directorio actual y el archivo ```tilde``` en el directorio *home* del usuario actual."
   ]
  },
  {
   "cell_type": "code",
   "execution_count": 63,
   "metadata": {},
   "outputs": [],
   "source": [
    "touch ~tilde ~/tilde"
   ]
  },
  {
   "cell_type": "code",
   "execution_count": 64,
   "metadata": {},
   "outputs": [
    {
     "name": "stdout",
     "output_type": "stream",
     "text": [
      " archivo                    espacios\n",
      " cd-deploy                  ide\n",
      " con                        jupyter.sh\n",
      "'directorio con espacios'  'otro directorio con $\\ caracteres especiales'\n",
      " ej                         otro_archivo\n",
      " ejemplo_1                  theia.sh\n",
      " ejemplo_2                  tilde\n",
      " erroneo                   '~tilde'\n"
     ]
    }
   ],
   "source": [
    "ls "
   ]
  },
  {
   "cell_type": "markdown",
   "metadata": {},
   "source": [
    "### Archivos y directorios ocultos.\n",
    "\n",
    "Los sistemas *GNU/Linux* y *UNIX* permiten ocultar archivos cuando se ejecuta el comando ```ls``` en el directorio que lo contenga a menos que se utilice la opción ```-a``` poniendo un punto ```.``` al principio del nombre."
   ]
  },
  {
   "cell_type": "markdown",
   "metadata": {},
   "source": [
    "**Ejemplos:**"
   ]
  },
  {
   "cell_type": "markdown",
   "metadata": {},
   "source": [
    "* La siguiente celda creará el directorio ```~/.oculto```."
   ]
  },
  {
   "cell_type": "code",
   "execution_count": 65,
   "metadata": {},
   "outputs": [],
   "source": [
    "mkdir ~/.oculto"
   ]
  },
  {
   "cell_type": "markdown",
   "metadata": {},
   "source": [
    "* La siguiente celda desplegará sólo los archivos y directorios visibles del directorio ```~```."
   ]
  },
  {
   "cell_type": "code",
   "execution_count": 66,
   "metadata": {},
   "outputs": [
    {
     "name": "stdout",
     "output_type": "stream",
     "text": [
      " archivo                    espacios\n",
      " cd-deploy                  ide\n",
      " con                        jupyter.sh\n",
      "'directorio con espacios'  'otro directorio con $\\ caracteres especiales'\n",
      " ej                         otro_archivo\n",
      " ejemplo_1                  theia.sh\n",
      " ejemplo_2                  tilde\n",
      " erroneo                   '~tilde'\n"
     ]
    }
   ],
   "source": [
    "ls ~"
   ]
  },
  {
   "cell_type": "markdown",
   "metadata": {},
   "source": [
    "* La siguiente celda desplegará todo el contenido del directorio ```~``` incluyendo los archivos y directorios ocultos."
   ]
  },
  {
   "cell_type": "code",
   "execution_count": 67,
   "metadata": {},
   "outputs": [
    {
     "name": "stdout",
     "output_type": "stream",
     "text": [
      " .                           .yarn\n",
      " ..                          .yarnrc\n",
      " .bash_history               archivo\n",
      " .bash_logout                cd-deploy\n",
      " .bashrc                     con\n",
      " .cache                     'directorio con espacios'\n",
      " .config                     ej\n",
      " .gitconfig                  ejemplo_1\n",
      " .ipython                    ejemplo_2\n",
      " .jupyter                    erroneo\n",
      " .lesshst                    espacios\n",
      " .local                      ide\n",
      " .npm                        jupyter.sh\n",
      " .nvm                       'otro directorio con $\\ caracteres especiales'\n",
      " .oculto                     otro_archivo\n",
      " .profile                    theia.sh\n",
      " .sudo_as_admin_successful   tilde\n",
      " .viminfo                   '~tilde'\n",
      " .wget-hsts\n"
     ]
    }
   ],
   "source": [
    "ls -a ~"
   ]
  },
  {
   "cell_type": "markdown",
   "metadata": {},
   "source": [
    "## Copia de archivos o directorios con ```cp```.\n",
    "\n",
    "El comando ```cp``` permite copiar un archivo o directorio a otro directorio.\n",
    "\n",
    "De forma general, la sintaxis de este comando es la siguiente:\n",
    "\n",
    "```\n",
    "cp <opciones> <ruta objeto 1> <ruta objeto 2> ... <ruta objeto n> <ruta destino>\n",
    "```\n",
    "\n",
    "Donde:\n",
    "\n",
    "* ```<ruta objeto i>``` es la ruta de un archivo o un directorio.\n",
    "* ```<ruta destino>``` es la ruta a la que serán copiados los archivos o directorios.\n"
   ]
  },
  {
   "cell_type": "markdown",
   "metadata": {},
   "source": [
    "**Ejemplos:**"
   ]
  },
  {
   "cell_type": "markdown",
   "metadata": {},
   "source": [
    "* La siguiente celda enlistará a los archivos ```archivo``` y ```otro_archivo```."
   ]
  },
  {
   "cell_type": "code",
   "execution_count": 68,
   "metadata": {},
   "outputs": [
    {
     "name": "stdout",
     "output_type": "stream",
     "text": [
      "659861 archivo  659863 otro_archivo\n"
     ]
    }
   ],
   "source": [
    "ls -i archivo otro_archivo"
   ]
  },
  {
   "cell_type": "markdown",
   "metadata": {},
   "source": [
    "* La siguiente celda copiará los archivos ```archivo``` y ```otro_archivo``` en el direcotrio ```~/ejemplo_2/otro/```."
   ]
  },
  {
   "cell_type": "code",
   "execution_count": 69,
   "metadata": {},
   "outputs": [],
   "source": [
    "cp archivo otro_archivo ~/ejemplo_2/otro/"
   ]
  },
  {
   "cell_type": "code",
   "execution_count": 70,
   "metadata": {},
   "outputs": [
    {
     "name": "stdout",
     "output_type": "stream",
     "text": [
      "918581 archivo  918582 otro_archivo\n"
     ]
    }
   ],
   "source": [
    "ls -i ~/ejemplo_2/otro/"
   ]
  },
  {
   "cell_type": "markdown",
   "metadata": {},
   "source": [
    "###  Copia de directorios."
   ]
  },
  {
   "cell_type": "code",
   "execution_count": 71,
   "metadata": {},
   "outputs": [
    {
     "name": "stdout",
     "output_type": "stream",
     "text": [
      "cp: -r not specified; omitting directory '/home/oi/ejemplo_2'\n"
     ]
    },
    {
     "ename": "",
     "evalue": "1",
     "output_type": "error",
     "traceback": []
    }
   ],
   "source": [
    "cp ~/ejemplo_2 ~/ejemplo_1/"
   ]
  },
  {
   "cell_type": "markdown",
   "metadata": {},
   "source": [
    "#### Copia recursiva.\n",
    "\n",
    "La opción ```-r``` o ```--recursive```."
   ]
  },
  {
   "cell_type": "code",
   "execution_count": 72,
   "metadata": {},
   "outputs": [],
   "source": [
    "cp -r ~/ejemplo_2 ~/ejemplo_1/"
   ]
  },
  {
   "cell_type": "code",
   "execution_count": 75,
   "metadata": {},
   "outputs": [
    {
     "name": "stdout",
     "output_type": "stream",
     "text": [
      "/home/oi/ejemplo_1:\n",
      "918583 ejemplo_2\n",
      "\n",
      "/home/oi/ejemplo_1/ejemplo_2:\n",
      "918584 otro\n",
      "\n",
      "/home/oi/ejemplo_1/ejemplo_2/otro:\n",
      "918585 archivo  918586 otro_archivo\n"
     ]
    }
   ],
   "source": [
    "ls -R ~/ejemplo_1 -i"
   ]
  },
  {
   "cell_type": "markdown",
   "metadata": {},
   "source": [
    "### Copia con cambio de nombre."
   ]
  },
  {
   "cell_type": "code",
   "execution_count": 76,
   "metadata": {},
   "outputs": [],
   "source": [
    "cp ~/archivo ~/ejemplo_1/nuevo_archivo.txt"
   ]
  },
  {
   "cell_type": "code",
   "execution_count": 77,
   "metadata": {},
   "outputs": [
    {
     "name": "stdout",
     "output_type": "stream",
     "text": [
      "ejemplo_2  nuevo_archivo.txt\n"
     ]
    }
   ],
   "source": [
    "ls ~/ejemplo_1"
   ]
  },
  {
   "cell_type": "code",
   "execution_count": 78,
   "metadata": {},
   "outputs": [],
   "source": [
    "cp -r ~/ejemplo_2 ~/ejemplo_1/ejemplo_3"
   ]
  },
  {
   "cell_type": "code",
   "execution_count": 80,
   "metadata": {
    "scrolled": true
   },
   "outputs": [
    {
     "name": "stdout",
     "output_type": "stream",
     "text": [
      "/home/oi/ejemplo_1:\n",
      "ejemplo_2  ejemplo_3  nuevo_archivo.txt\n",
      "\n",
      "/home/oi/ejemplo_1/ejemplo_2:\n",
      "otro\n",
      "\n",
      "/home/oi/ejemplo_1/ejemplo_2/otro:\n",
      "archivo  otro_archivo\n",
      "\n",
      "/home/oi/ejemplo_1/ejemplo_3:\n",
      "otro\n",
      "\n",
      "/home/oi/ejemplo_1/ejemplo_3/otro:\n",
      "archivo  otro_archivo\n"
     ]
    }
   ],
   "source": [
    "ls -R ~/ejemplo_1"
   ]
  },
  {
   "cell_type": "markdown",
   "metadata": {},
   "source": [
    "### Algunas otras opciones de ```cp```.\n",
    "\n",
    "* ```-l``` o ```--link``` crea una copia con un enlace duro.\n",
    "* ```-s``` o ```--symbolic-link```  crea una copia con un enlace simbólico.\n",
    "* ```-f``` o ```--force``` copia el objeto sobreescribiendo un objeto existente.\n",
    "* ```-i``` o ```--interactive``` pide confirmación en caso de tener que sobreescribir un objeto exitente.\n",
    "* ```-v``` o ```--verbose``` habiulita el modo explícito."
   ]
  },
  {
   "cell_type": "markdown",
   "metadata": {},
   "source": [
    "### La man page de ```cp```."
   ]
  },
  {
   "cell_type": "code",
   "execution_count": 81,
   "metadata": {},
   "outputs": [
    {
     "name": "stdout",
     "output_type": "stream",
     "text": [
      "CP(1)                            User Commands                           CP(1)\n",
      "\n",
      "NAME\n",
      "       cp - copy files and directories\n",
      "\n",
      "SYNOPSIS\n",
      "       cp [OPTION]... [-T] SOURCE DEST\n",
      "       cp [OPTION]... SOURCE... DIRECTORY\n",
      "       cp [OPTION]... -t DIRECTORY SOURCE...\n",
      "\n",
      "DESCRIPTION\n",
      "       Copy SOURCE to DEST, or multiple SOURCE(s) to DIRECTORY.\n",
      "\n",
      "       Mandatory  arguments  to  long  options are mandatory for short options\n",
      "       too.\n",
      "\n",
      "       -a, --archive\n",
      "              same as -dR --preserve=all\n",
      "\n",
      "       --attributes-only\n",
      "              don't copy the file data, just the attributes\n",
      "\n",
      "       --backup[=CONTROL]\n",
      "              make a backup of each existing destination file\n",
      "\n",
      "       -b     like --backup but does not accept an argument\n",
      "\n",
      "       --copy-contents\n",
      "              copy contents of special files when recursive\n",
      "\n",
      "       -d     same as --no-dereference --preserve=links\n",
      "\n",
      "       -f, --force\n",
      "              if an existing destination file cannot be opened, remove it  and\n",
      "              try  again  (this  option  is ignored when the -n option is also\n",
      "              used)\n",
      "\n",
      "       -i, --interactive\n",
      "              prompt before overwrite (overrides a previous -n option)\n",
      "\n",
      "       -H     follow command-line symbolic links in SOURCE\n",
      "\n",
      "       -l, --link\n",
      "              hard link files instead of copying\n",
      "\n",
      "       -L, --dereference\n",
      "              always follow symbolic links in SOURCE\n",
      "\n",
      "       -n, --no-clobber\n",
      "              do not overwrite an existing file (overrides a previous  -i  op‐\n",
      "              tion)\n",
      "\n",
      "       -P, --no-dereference\n",
      "              never follow symbolic links in SOURCE\n",
      "\n",
      "       -p     same as --preserve=mode,ownership,timestamps\n",
      "\n",
      "       --preserve[=ATTR_LIST]\n",
      "              preserve the specified attributes (default: mode,ownership,time‐\n",
      "              stamps), if  possible  additional  attributes:  context,  links,\n",
      "              xattr, all\n",
      "\n",
      "       --no-preserve=ATTR_LIST\n",
      "              don't preserve the specified attributes\n",
      "\n",
      "       --parents\n",
      "              use full source file name under DIRECTORY\n",
      "\n",
      "       -R, -r, --recursive\n",
      "              copy directories recursively\n",
      "\n",
      "       --reflink[=WHEN]\n",
      "              control clone/CoW copies. See below\n",
      "\n",
      "       --remove-destination\n",
      "              remove  each existing destination file before attempting to open\n",
      "              it (contrast with --force)\n",
      "\n",
      "       --sparse=WHEN\n",
      "              control creation of sparse files. See below\n",
      "\n",
      "       --strip-trailing-slashes\n",
      "              remove any trailing slashes from each SOURCE argument\n",
      "\n",
      "       -s, --symbolic-link\n",
      "              make symbolic links instead of copying\n",
      "\n",
      "       -S, --suffix=SUFFIX\n",
      "              override the usual backup suffix\n",
      "\n",
      "       -t, --target-directory=DIRECTORY\n",
      "              copy all SOURCE arguments into DIRECTORY\n",
      "\n",
      "       -T, --no-target-directory\n",
      "              treat DEST as a normal file\n",
      "\n",
      "       -u, --update\n",
      "              copy only when the SOURCE file is  newer  than  the  destination\n",
      "              file or when the destination file is missing\n",
      "\n",
      "       -v, --verbose\n",
      "              explain what is being done\n",
      "\n",
      "       -x, --one-file-system\n",
      "              stay on this file system\n",
      "\n",
      "       -Z     set SELinux security context of destination file to default type\n",
      "\n",
      "       --context[=CTX]\n",
      "              like  -Z,  or  if CTX is specified then set the SELinux or SMACK\n",
      "              security context to CTX\n",
      "\n",
      "       --help display this help and exit\n",
      "\n",
      "       --version\n",
      "              output version information and exit\n",
      "\n",
      "       By default, sparse SOURCE files are detected by a crude  heuristic  and\n",
      "       the corresponding DEST file is made sparse as well.  That is the behav‐\n",
      "       ior selected by --sparse=auto.  Specify  --sparse=always  to  create  a\n",
      "       sparse  DEST  file  whenever the SOURCE file contains a long enough se‐\n",
      "       quence of zero bytes.  Use --sparse=never to inhibit creation of sparse\n",
      "       files.\n",
      "\n",
      "       When --reflink[=always] is specified, perform a lightweight copy, where\n",
      "       the data blocks are copied only when modified.  If this is not possible\n",
      "       the copy fails, or if --reflink=auto is specified, fall back to a stan‐\n",
      "       dard copy.  Use --reflink=never to ensure a standard copy is performed.\n",
      "\n",
      "       The  backup  suffix  is  '~',  unless  set  with   --suffix   or   SIM‐\n",
      "       PLE_BACKUP_SUFFIX.   The version control method may be selected via the\n",
      "       --backup option or through the  VERSION_CONTROL  environment  variable.\n",
      "       Here are the values:\n",
      "\n",
      "       none, off\n",
      "              never make backups (even if --backup is given)\n",
      "\n",
      "       numbered, t\n",
      "              make numbered backups\n",
      "\n",
      "       existing, nil\n",
      "              numbered if numbered backups exist, simple otherwise\n",
      "\n",
      "       simple, never\n",
      "              always make simple backups\n",
      "\n",
      "       As  a  special  case,  cp  makes  a backup of SOURCE when the force and\n",
      "       backup options are given and SOURCE and DEST are the same name  for  an\n",
      "       existing, regular file.\n",
      "\n",
      "AUTHOR\n",
      "       Written by Torbjorn Granlund, David MacKenzie, and Jim Meyering.\n",
      "\n",
      "REPORTING BUGS\n",
      "       GNU coreutils online help: <https://www.gnu.org/software/coreutils/>\n",
      "       Report cp translation bugs to <https://translationproject.org/team/>\n",
      "\n",
      "COPYRIGHT\n",
      "       Copyright  ©  2018  Free Software Foundation, Inc.  License GPLv3+: GNU\n",
      "       GPL version 3 or later <https://gnu.org/licenses/gpl.html>.\n",
      "       This is free software: you are free  to  change  and  redistribute  it.\n",
      "       There is NO WARRANTY, to the extent permitted by law.\n",
      "\n",
      "SEE ALSO\n",
      "       Full documentation at: <https://www.gnu.org/software/coreutils/cp>\n",
      "       or available locally via: info '(coreutils) cp invocation'\n",
      "\n",
      "GNU coreutils 8.30              September 2019                           CP(1)\n"
     ]
    }
   ],
   "source": [
    "man cp"
   ]
  },
  {
   "cell_type": "markdown",
   "metadata": {},
   "source": [
    "## Eliminación de un elemento con ```rm```.\n",
    "\n",
    "Este comando permite eliminar uno o varios objetos.\n",
    "```\n",
    "rm <opciones> <ruta1> <ruta 2> ... <ruta n>\n",
    "```\n",
    "\n",
    "Donde:\n",
    "\n",
    "* ```<ruta i>``` es la ruta a un directorio o archivo.\n"
   ]
  },
  {
   "cell_type": "markdown",
   "metadata": {},
   "source": [
    "**Ejemplos:**"
   ]
  },
  {
   "cell_type": "code",
   "execution_count": 82,
   "metadata": {
    "scrolled": true
   },
   "outputs": [
    {
     "name": "stdout",
     "output_type": "stream",
     "text": [
      " archivo                    espacios\n",
      " cd-deploy                  ide\n",
      " con                        jupyter.sh\n",
      "'directorio con espacios'  'otro directorio con $\\ caracteres especiales'\n",
      " ej                         otro_archivo\n",
      " ejemplo_1                  theia.sh\n",
      " ejemplo_2                  tilde\n",
      " erroneo                   '~tilde'\n"
     ]
    }
   ],
   "source": [
    "ls ~"
   ]
  },
  {
   "cell_type": "markdown",
   "metadata": {},
   "source": [
    "* La siguiente celda eliminará al archivo ```~/archivo```."
   ]
  },
  {
   "cell_type": "code",
   "execution_count": 83,
   "metadata": {},
   "outputs": [],
   "source": [
    "rm ~/archivo"
   ]
  },
  {
   "cell_type": "code",
   "execution_count": 84,
   "metadata": {},
   "outputs": [
    {
     "name": "stdout",
     "output_type": "stream",
     "text": [
      "ls: cannot access '/home/oi/archivo': No such file or directory\n"
     ]
    },
    {
     "ename": "",
     "evalue": "2",
     "output_type": "error",
     "traceback": []
    }
   ],
   "source": [
    "ls ~/archivo"
   ]
  },
  {
   "cell_type": "code",
   "execution_count": 85,
   "metadata": {},
   "outputs": [
    {
     "name": "stdout",
     "output_type": "stream",
     "text": [
      " cd-deploy                  ide\n",
      " con                        jupyter.sh\n",
      "'directorio con espacios'  'otro directorio con $\\ caracteres especiales'\n",
      " ej                         otro_archivo\n",
      " ejemplo_1                  theia.sh\n",
      " ejemplo_2                  tilde\n",
      " erroneo                   '~tilde'\n",
      " espacios\n"
     ]
    }
   ],
   "source": [
    "ls ~"
   ]
  },
  {
   "cell_type": "markdown",
   "metadata": {},
   "source": [
    "### Eliminacion de directorios.\n",
    "\n",
    "Para poder eliminar un directorio que no esté vacío, se tiene que realizar la operación de forma recursiva."
   ]
  },
  {
   "cell_type": "markdown",
   "metadata": {},
   "source": [
    "* La opción ```-r``` es para hacer un  borrado recursivo.\n",
    "* La opción ```-f``` es para forzar el borrado."
   ]
  },
  {
   "cell_type": "markdown",
   "metadata": {},
   "source": [
    "**Ejemplo:**"
   ]
  },
  {
   "cell_type": "markdown",
   "metadata": {},
   "source": [
    "* La suguiente celda intentará eliminar al directorio ```~/ejemplo_2```."
   ]
  },
  {
   "cell_type": "code",
   "execution_count": 86,
   "metadata": {
    "scrolled": true
   },
   "outputs": [
    {
     "name": "stdout",
     "output_type": "stream",
     "text": [
      "rm: cannot remove '/home/oi/ejemplo_2': Is a directory\n"
     ]
    },
    {
     "ename": "",
     "evalue": "1",
     "output_type": "error",
     "traceback": []
    }
   ],
   "source": [
    "rm ~/ejemplo_2"
   ]
  },
  {
   "cell_type": "markdown",
   "metadata": {},
   "source": [
    "* La siguiente celda eliminará al directorio ```~/ejemplo_2``` usando las opciones ```-rf```."
   ]
  },
  {
   "cell_type": "code",
   "execution_count": 87,
   "metadata": {},
   "outputs": [],
   "source": [
    "rm -rf ejemplo_2"
   ]
  },
  {
   "cell_type": "code",
   "execution_count": 88,
   "metadata": {
    "scrolled": true
   },
   "outputs": [
    {
     "name": "stdout",
     "output_type": "stream",
     "text": [
      " cd-deploy                  ide\n",
      " con                        jupyter.sh\n",
      "'directorio con espacios'  'otro directorio con $\\ caracteres especiales'\n",
      " ej                         otro_archivo\n",
      " ejemplo_1                  theia.sh\n",
      " erroneo                    tilde\n",
      " espacios                  '~tilde'\n"
     ]
    }
   ],
   "source": [
    "ls ~"
   ]
  },
  {
   "cell_type": "markdown",
   "metadata": {},
   "source": [
    "### La man page de ```rm```."
   ]
  },
  {
   "cell_type": "code",
   "execution_count": null,
   "metadata": {},
   "outputs": [],
   "source": [
    "man rm"
   ]
  },
  {
   "cell_type": "markdown",
   "metadata": {},
   "source": [
    "## Reubicación de directorios y archivos con ```mv```.\n",
    "\n",
    "El comando ```mv``` modifica el índice del *inode* para apuntar a otro. directorio.\n",
    "\n",
    "```\n",
    "mv <opciones> <ruta origen> <ruta destino>\n",
    "```\n",
    "\n",
    "Donde:\n",
    "\n",
    "* ```<ruta origen>``` es la ruta donde se encuentra el archivo o subdirectorio.\n",
    "* ```<ruta destino>``` es la ruta donde sera reubicado el archivo o directorio.\n",
    "\n",
    "Este comando no copia y elimina un archivo sino que al archivo original se le asigna una nueva ruta."
   ]
  },
  {
   "cell_type": "markdown",
   "metadata": {},
   "source": [
    "**Ejemplo:**"
   ]
  },
  {
   "cell_type": "markdown",
   "metadata": {},
   "source": [
    "* La siguiente celda creará al archivo ```~/ejemplo```."
   ]
  },
  {
   "cell_type": "code",
   "execution_count": 89,
   "metadata": {},
   "outputs": [],
   "source": [
    "touch ~/ejemplo"
   ]
  },
  {
   "cell_type": "code",
   "execution_count": 90,
   "metadata": {},
   "outputs": [
    {
     "name": "stdout",
     "output_type": "stream",
     "text": [
      "655957 /home/oi/ejemplo\n"
     ]
    }
   ],
   "source": [
    "ls -i ~/ejemplo"
   ]
  },
  {
   "cell_type": "markdown",
   "metadata": {},
   "source": [
    "* La siguiente celda le asignará aa nueva ruta ```~/ejemplo_1/movido``` al archivo ```~/ejemplo```."
   ]
  },
  {
   "cell_type": "code",
   "execution_count": 91,
   "metadata": {},
   "outputs": [],
   "source": [
    "mv ~/ejemplo ~/ejemplo_1/movido"
   ]
  },
  {
   "cell_type": "code",
   "execution_count": 92,
   "metadata": {
    "scrolled": true
   },
   "outputs": [
    {
     "name": "stdout",
     "output_type": "stream",
     "text": [
      "655957 /home/oi/ejemplo_1/movido\n"
     ]
    }
   ],
   "source": [
    "ls -i ~/ejemplo_1/movido"
   ]
  },
  {
   "cell_type": "markdown",
   "metadata": {},
   "source": [
    "### Algunas opciones de ```mv```.\n",
    "\n",
    "* ```-i``` habilita el modo interactivo.\n",
    "* ```-v``` habilita el modo descriptivo."
   ]
  },
  {
   "cell_type": "markdown",
   "metadata": {},
   "source": [
    "### La man page de ```mv```."
   ]
  },
  {
   "cell_type": "code",
   "execution_count": null,
   "metadata": {},
   "outputs": [],
   "source": [
    "man mv"
   ]
  },
  {
   "cell_type": "markdown",
   "metadata": {},
   "source": [
    "## Creación de enlaces con ```ln```.\n",
    "\n",
    "Los enlaces en *UNIX* y *GNU/Linux* permiten hacer referencia a un archivo desde distintas ritas o con distintos nombres.\n",
    "\n",
    "El comando ```ln``` permite crear dichos enlaces.\n",
    "\n",
    "```\n",
    "ln <opciones> <ruta origen> <ruta destino> \n",
    "```\n",
    "\n",
    "Donde:\n",
    "* ```<ruta origen>``` es la ruta del directorio o archivo original. \n",
    "* ```<ruta destino>``` el la ruta en la que se realizará el enlace."
   ]
  },
  {
   "cell_type": "markdown",
   "metadata": {},
   "source": [
    "### Enlaces duros.\n",
    "\n",
    "Un enlace duro permite darle varios nombres y rutas al mismo objeto, por lo que en caso de eliminar alguno de los archivos enlazados, el contenido permanece si queda algún otro nombre diusponible."
   ]
  },
  {
   "cell_type": "code",
   "execution_count": 93,
   "metadata": {},
   "outputs": [],
   "source": [
    "touch ~/original"
   ]
  },
  {
   "cell_type": "code",
   "execution_count": 94,
   "metadata": {},
   "outputs": [],
   "source": [
    "ln ~/original ~/copia"
   ]
  },
  {
   "cell_type": "code",
   "execution_count": 95,
   "metadata": {},
   "outputs": [
    {
     "name": "stdout",
     "output_type": "stream",
     "text": [
      "659861 copia  659861 original\n"
     ]
    }
   ],
   "source": [
    "ls -i original copia"
   ]
  },
  {
   "cell_type": "code",
   "execution_count": 96,
   "metadata": {},
   "outputs": [],
   "source": [
    "rm ~/original"
   ]
  },
  {
   "cell_type": "code",
   "execution_count": 97,
   "metadata": {
    "scrolled": true
   },
   "outputs": [
    {
     "name": "stdout",
     "output_type": "stream",
     "text": [
      "ls: cannot access '/home/oi/original': No such file or directory\n"
     ]
    },
    {
     "ename": "",
     "evalue": "2",
     "output_type": "error",
     "traceback": []
    }
   ],
   "source": [
    "ls -i ~/original"
   ]
  },
  {
   "cell_type": "code",
   "execution_count": 98,
   "metadata": {},
   "outputs": [
    {
     "name": "stdout",
     "output_type": "stream",
     "text": [
      "659861 /home/oi/copia\n"
     ]
    }
   ],
   "source": [
    "ls -i ~/copia"
   ]
  },
  {
   "cell_type": "markdown",
   "metadata": {},
   "source": [
    "### Enlaces simbólicos (symlink).\n",
    "\n",
    "Un enlace simbólico es una referencia a un archivo en particular, de tal manera que el sistema de archivos no le asigna el mismo *inode* a dos rutas, sino que sólo hace una referencia al objeto original y cada enlace tiene su propio ```inode```.\n",
    "\n",
    "Las opción ```-s``` crea un enlace simbólico."
   ]
  },
  {
   "cell_type": "markdown",
   "metadata": {},
   "source": [
    "**Ejemplo:**"
   ]
  },
  {
   "cell_type": "code",
   "execution_count": 99,
   "metadata": {},
   "outputs": [],
   "source": [
    "ln -s ~/ejemplo_1 ~/simbolico_1"
   ]
  },
  {
   "cell_type": "code",
   "execution_count": 100,
   "metadata": {},
   "outputs": [],
   "source": [
    "ln -s ~/ejemplo_1 ~/simbolico_2"
   ]
  },
  {
   "cell_type": "code",
   "execution_count": 101,
   "metadata": {},
   "outputs": [
    {
     "name": "stdout",
     "output_type": "stream",
     "text": [
      "total 16\n",
      "drwxr-xr-x  4 oi oi 4096 May 28 15:22 .\n",
      "drwxr-xr-x 20 oi oi 4096 May 28 15:50 ..\n",
      "drwxr-xr-x  3 oi oi 4096 May 28 15:01 ejemplo_2\n",
      "drwxr-xr-x  3 oi oi 4096 May 28 15:03 ejemplo_3\n",
      "-rw-r--r--  1 oi oi    0 May 28 15:22 movido\n",
      "-rw-r--r--  1 oi oi    0 May 28 15:03 nuevo_archivo.txt\n"
     ]
    }
   ],
   "source": [
    "ls -al ~/ejemplo_1"
   ]
  },
  {
   "cell_type": "code",
   "execution_count": 102,
   "metadata": {},
   "outputs": [
    {
     "name": "stdout",
     "output_type": "stream",
     "text": [
      "lrwxrwxrwx 1 oi oi 18 May 28 15:50 /home/oi/simbolico_1 -> /home/oi/ejemplo_1\n"
     ]
    }
   ],
   "source": [
    "ls -al ~/simbolico_1"
   ]
  },
  {
   "cell_type": "code",
   "execution_count": 103,
   "metadata": {},
   "outputs": [
    {
     "name": "stdout",
     "output_type": "stream",
     "text": [
      "lrwxrwxrwx 1 oi oi 18 May 28 15:50 /home/oi/simbolico_2 -> /home/oi/ejemplo_1\n"
     ]
    }
   ],
   "source": [
    "ls -al ~/simbolico_2"
   ]
  },
  {
   "cell_type": "markdown",
   "metadata": {},
   "source": [
    "Si se elimina un enlace simbólico, el archivo original y los otros enlaces no son afectados."
   ]
  },
  {
   "cell_type": "code",
   "execution_count": 104,
   "metadata": {},
   "outputs": [],
   "source": [
    "rm -rf ~/simbolico_1"
   ]
  },
  {
   "cell_type": "code",
   "execution_count": 105,
   "metadata": {},
   "outputs": [
    {
     "name": "stdout",
     "output_type": "stream",
     "text": [
      "ejemplo_2  ejemplo_3  movido  nuevo_archivo.txt\n"
     ]
    }
   ],
   "source": [
    "ls ~/simbolico_2"
   ]
  },
  {
   "cell_type": "markdown",
   "metadata": {},
   "source": [
    "Si se elimina el archivo original, sólo queda el enlace a un elemento que no existe."
   ]
  },
  {
   "cell_type": "code",
   "execution_count": 106,
   "metadata": {},
   "outputs": [],
   "source": [
    "rm -rf ~/ejemplo_1"
   ]
  },
  {
   "cell_type": "code",
   "execution_count": 107,
   "metadata": {},
   "outputs": [
    {
     "name": "stdout",
     "output_type": "stream",
     "text": [
      "/home/oi/simbolico_2\n"
     ]
    }
   ],
   "source": [
    "ls ~/simbolico_2"
   ]
  },
  {
   "cell_type": "code",
   "execution_count": 108,
   "metadata": {},
   "outputs": [
    {
     "name": "stdout",
     "output_type": "stream",
     "text": [
      "lrwxrwxrwx 1 oi oi 18 May 28 15:50 /home/oi/simbolico_2 -> /home/oi/ejemplo_1\n"
     ]
    }
   ],
   "source": [
    "ls -l ~/simbolico_2"
   ]
  },
  {
   "cell_type": "code",
   "execution_count": 109,
   "metadata": {},
   "outputs": [
    {
     "name": "stdout",
     "output_type": "stream",
     "text": [
      "ls: cannot access '/home/oi/simbolico_2/': No such file or directory\n"
     ]
    },
    {
     "ename": "",
     "evalue": "2",
     "output_type": "error",
     "traceback": []
    }
   ],
   "source": [
    "ls ~/simbolico_2/"
   ]
  },
  {
   "cell_type": "markdown",
   "metadata": {},
   "source": [
    "### Algunas otras ociones de ```ln```.\n",
    "\n",
    "* ```-f``` o ```--force``` elimina un objeto de destino en caso de que ya exista.\n",
    "* ```-i``` o ```interactive``` pregunta si se eliminará un objeto de destino."
   ]
  },
  {
   "cell_type": "markdown",
   "metadata": {},
   "source": [
    "### La man page de ```ln```."
   ]
  },
  {
   "cell_type": "code",
   "execution_count": null,
   "metadata": {},
   "outputs": [],
   "source": [
    "man ln"
   ]
  },
  {
   "cell_type": "markdown",
   "metadata": {},
   "source": [
    "## ```stat```.\n",
    "\n",
    "El comando  ```stat``` permite desplegar los datos generales de un objeto. \n",
    "\n",
    "```\n",
    "stat <ruta>\n",
    "```\n",
    "\n",
    "Donde:\n",
    "\n",
    "* ```<ruta>``` es la ruta a un archivo o directorio. "
   ]
  },
  {
   "cell_type": "markdown",
   "metadata": {},
   "source": [
    "**Ejemplo:**"
   ]
  },
  {
   "cell_type": "markdown",
   "metadata": {},
   "source": []
  },
  {
   "cell_type": "code",
   "execution_count": null,
   "metadata": {},
   "outputs": [],
   "source": [
    "touch objeto"
   ]
  },
  {
   "cell_type": "markdown",
   "metadata": {},
   "source": []
  },
  {
   "cell_type": "code",
   "execution_count": null,
   "metadata": {},
   "outputs": [],
   "source": [
    "stat objeto"
   ]
  },
  {
   "cell_type": "markdown",
   "metadata": {},
   "source": [
    "### La man page de stat."
   ]
  },
  {
   "cell_type": "code",
   "execution_count": null,
   "metadata": {},
   "outputs": [],
   "source": [
    "man stat"
   ]
  },
  {
   "cell_type": "markdown",
   "metadata": {},
   "source": [
    "## ```file```.\n",
    "\n",
    "EL comando ```file``` regresa el tipo de archivo que se consulta.\n",
    "\n",
    "```\n",
    "file <ruta>\n",
    "```\n",
    "\n",
    "Donde:\n",
    "\n",
    "* ```<ruta>``` es la ruta a un archivo o directorio. "
   ]
  },
  {
   "cell_type": "markdown",
   "metadata": {},
   "source": [
    "**Ejemplos:**"
   ]
  },
  {
   "cell_type": "markdown",
   "metadata": {},
   "source": []
  },
  {
   "cell_type": "code",
   "execution_count": null,
   "metadata": {},
   "outputs": [],
   "source": [
    "file objeto"
   ]
  },
  {
   "cell_type": "markdown",
   "metadata": {},
   "source": []
  },
  {
   "cell_type": "code",
   "execution_count": null,
   "metadata": {},
   "outputs": [],
   "source": [
    "file /opt/oi/cd101/01_introduccion.ipynb"
   ]
  },
  {
   "cell_type": "markdown",
   "metadata": {},
   "source": []
  },
  {
   "cell_type": "code",
   "execution_count": null,
   "metadata": {},
   "outputs": [],
   "source": [
    "file ~/simbolico_2"
   ]
  },
  {
   "cell_type": "markdown",
   "metadata": {},
   "source": []
  },
  {
   "cell_type": "code",
   "execution_count": null,
   "metadata": {},
   "outputs": [],
   "source": [
    "file /usr/bin/ls"
   ]
  },
  {
   "cell_type": "markdown",
   "metadata": {},
   "source": [
    "### La man page de ```file```."
   ]
  },
  {
   "cell_type": "code",
   "execution_count": null,
   "metadata": {},
   "outputs": [],
   "source": [
    "man file"
   ]
  },
  {
   "cell_type": "markdown",
   "metadata": {},
   "source": [
    "## ```tree```.\n",
    "\n",
    "Este comando permite desplegar la estructura de archivos y subdirectorios de un directorio dado.\n",
    "\n",
    "```\n",
    "tree <ruta>\n",
    "```\n",
    "\n",
    "Donde:\n",
    "\n",
    "* ```<ruta>``` es la ruta de un directorio. El directorio por defecto es el directorio actual. "
   ]
  },
  {
   "cell_type": "markdown",
   "metadata": {},
   "source": [
    "**Ejemplos:**"
   ]
  },
  {
   "cell_type": "markdown",
   "metadata": {},
   "source": []
  },
  {
   "cell_type": "code",
   "execution_count": null,
   "metadata": {},
   "outputs": [],
   "source": [
    "tree"
   ]
  },
  {
   "cell_type": "markdown",
   "metadata": {},
   "source": []
  },
  {
   "cell_type": "code",
   "execution_count": null,
   "metadata": {},
   "outputs": [],
   "source": [
    "tree ~"
   ]
  },
  {
   "cell_type": "markdown",
   "metadata": {},
   "source": []
  },
  {
   "cell_type": "code",
   "execution_count": null,
   "metadata": {},
   "outputs": [],
   "source": [
    "tree /opt"
   ]
  },
  {
   "cell_type": "markdown",
   "metadata": {},
   "source": [
    "### La man page de ```tree```."
   ]
  },
  {
   "cell_type": "code",
   "execution_count": null,
   "metadata": {},
   "outputs": [],
   "source": [
    "man tree"
   ]
  },
  {
   "cell_type": "markdown",
   "metadata": {},
   "source": [
    "## Tamaño del contenido de un directorio con ```du```.\n",
    "\n",
    "Este comando despliega el tamaño que ocupa un directorio.\n",
    "\n",
    "```\n",
    "du <ruta>\n",
    "```\n"
   ]
  },
  {
   "cell_type": "code",
   "execution_count": null,
   "metadata": {},
   "outputs": [],
   "source": [
    "du ~"
   ]
  },
  {
   "cell_type": "code",
   "execution_count": null,
   "metadata": {},
   "outputs": [],
   "source": [
    "du -m /opt/cloudevel/cd101"
   ]
  },
  {
   "cell_type": "markdown",
   "metadata": {},
   "source": [
    "### La man page de ```du```."
   ]
  },
  {
   "cell_type": "code",
   "execution_count": null,
   "metadata": {},
   "outputs": [],
   "source": [
    "man du"
   ]
  },
  {
   "cell_type": "markdown",
   "metadata": {},
   "source": [
    "## Estructura de directorios de un sistema GNU/Linux."
   ]
  },
  {
   "cell_type": "markdown",
   "metadata": {},
   "source": [
    "### El directorio raíz */*."
   ]
  },
  {
   "cell_type": "code",
   "execution_count": null,
   "metadata": {},
   "outputs": [],
   "source": [
    "tree /"
   ]
  },
  {
   "cell_type": "code",
   "execution_count": null,
   "metadata": {},
   "outputs": [],
   "source": [
    "tree / -L 1"
   ]
  },
  {
   "cell_type": "markdown",
   "metadata": {},
   "source": [
    "### */home/*."
   ]
  },
  {
   "cell_type": "code",
   "execution_count": null,
   "metadata": {},
   "outputs": [],
   "source": [
    "tree /home -L 1"
   ]
  },
  {
   "cell_type": "code",
   "execution_count": null,
   "metadata": {},
   "outputs": [],
   "source": [
    "tree /home/oi"
   ]
  },
  {
   "cell_type": "markdown",
   "metadata": {},
   "source": [
    "###  */bin/*.\n",
    "\n",
    "Es el directorio en el que se encuentran los comandfos del sistema. "
   ]
  },
  {
   "cell_type": "code",
   "execution_count": null,
   "metadata": {},
   "outputs": [],
   "source": [
    "tree /bin -L 1"
   ]
  },
  {
   "cell_type": "markdown",
   "metadata": {},
   "source": [
    "### */sbin/*.\n",
    "\n",
    "Es el directorio de aplicaciones \"seguras\"."
   ]
  },
  {
   "cell_type": "code",
   "execution_count": null,
   "metadata": {},
   "outputs": [],
   "source": [
    "tree /sbin -L 1"
   ]
  },
  {
   "cell_type": "markdown",
   "metadata": {},
   "source": [
    "### */lib/*  y */lib64/*.\n",
    "\n",
    "Este directorio contiene las bibliotecas del sistema."
   ]
  },
  {
   "cell_type": "code",
   "execution_count": null,
   "metadata": {
    "scrolled": true
   },
   "outputs": [],
   "source": [
    "tree /lib/ -L 1"
   ]
  },
  {
   "cell_type": "markdown",
   "metadata": {},
   "source": [
    "### /lib/modules/\n",
    "\n",
    "Biblioteca de módulos del kernel."
   ]
  },
  {
   "cell_type": "code",
   "execution_count": null,
   "metadata": {},
   "outputs": [],
   "source": [
    "tree /lib/modules -L 1"
   ]
  },
  {
   "cell_type": "markdown",
   "metadata": {},
   "source": [
    "### */etc/*.\n",
    "\n",
    "Este es el directorio que ciontiene las configuraciones del sistema."
   ]
  },
  {
   "cell_type": "code",
   "execution_count": null,
   "metadata": {},
   "outputs": [],
   "source": [
    "tree /bin -L 2"
   ]
  },
  {
   "cell_type": "code",
   "execution_count": null,
   "metadata": {},
   "outputs": [],
   "source": [
    "tree /etc/httpd"
   ]
  },
  {
   "cell_type": "markdown",
   "metadata": {},
   "source": [
    "### */tmp/*.\n",
    "\n",
    "Es el directorio que guarda los archivos temporales de todo el sistema y todos los usuarios."
   ]
  },
  {
   "cell_type": "markdown",
   "metadata": {},
   "source": [
    "###  */var/*.\n",
    "\n",
    "Este directorio contiene archivos que utilizan las aplicaciones y no pertencene a un usuario convencional."
   ]
  },
  {
   "cell_type": "code",
   "execution_count": null,
   "metadata": {
    "scrolled": false
   },
   "outputs": [],
   "source": [
    "tree /var/ -L 2"
   ]
  },
  {
   "cell_type": "markdown",
   "metadata": {},
   "source": [
    "### /var/log/\n",
    "\n",
    "Este directorio contiene las bitácoras del sistema."
   ]
  },
  {
   "cell_type": "markdown",
   "metadata": {},
   "source": [
    "### /var/www/\n",
    "Este es el directorio por defecto para la raíz de Apache."
   ]
  },
  {
   "cell_type": "markdown",
   "metadata": {},
   "source": [
    "###  */usr/*.\n",
    "\n",
    "Este directorio contiene directorios y archivos de acceso (ejecución) para todos los usuarios."
   ]
  },
  {
   "cell_type": "code",
   "execution_count": null,
   "metadata": {},
   "outputs": [],
   "source": [
    "tree /usr/ -L 1"
   ]
  },
  {
   "cell_type": "markdown",
   "metadata": {},
   "source": [
    "### /usr/local/\n",
    "\n",
    "    Es un direcotorio que contiene recursos que no son de uso generalizad del sistema, sino que pueden ser usados por grupos específicos de usuarios."
   ]
  },
  {
   "cell_type": "code",
   "execution_count": null,
   "metadata": {},
   "outputs": [],
   "source": [
    "tree /usr/local/"
   ]
  },
  {
   "cell_type": "markdown",
   "metadata": {},
   "source": [
    "### */opt/*.\n",
    "\n",
    "Este directorio es para aplicaciones varias."
   ]
  },
  {
   "cell_type": "code",
   "execution_count": null,
   "metadata": {},
   "outputs": [],
   "source": [
    "tree /opt/"
   ]
  },
  {
   "cell_type": "markdown",
   "metadata": {},
   "source": [
    "### */boot/*.\n",
    "\n",
    "Es el directorio en el que se encuentra la imagen del kernel y la configuración de arranque del sistema."
   ]
  },
  {
   "cell_type": "code",
   "execution_count": null,
   "metadata": {},
   "outputs": [],
   "source": [
    "tree //boot/"
   ]
  },
  {
   "cell_type": "markdown",
   "metadata": {},
   "source": [
    "### */dev/*.\n",
    "\n",
    "El directorio que liga a los dispositivos detecatdos y configurados por los controladores de l kernel."
   ]
  },
  {
   "cell_type": "code",
   "execution_count": null,
   "metadata": {},
   "outputs": [],
   "source": [
    "tree /dev/ -L 1"
   ]
  },
  {
   "cell_type": "markdown",
   "metadata": {},
   "source": [
    "### */proc/*.\n",
    "\n",
    "Este es el direcotrio que mapea los procesos del sistema."
   ]
  },
  {
   "cell_type": "code",
   "execution_count": null,
   "metadata": {},
   "outputs": [],
   "source": [
    "tree /proc/ -L 1"
   ]
  },
  {
   "cell_type": "markdown",
   "metadata": {},
   "source": [
    "### */sys/*.\n",
    "\n",
    "Este es el directorio que utilizan las bibliotecas del kernel."
   ]
  },
  {
   "cell_type": "code",
   "execution_count": null,
   "metadata": {},
   "outputs": [],
   "source": [
    "tree /sys/ -L 1"
   ]
  },
  {
   "cell_type": "markdown",
   "metadata": {},
   "source": [
    "### */run/*.\n",
    "\n",
    "Es es directorio que contiene archivos de ejecución de ciertos servicios y daemons."
   ]
  },
  {
   "cell_type": "code",
   "execution_count": null,
   "metadata": {},
   "outputs": [],
   "source": [
    "tree /run/ -L 1"
   ]
  },
  {
   "cell_type": "markdown",
   "metadata": {},
   "source": [
    "### */media/ y /mnt/*.\n",
    "\n",
    "Esros son los directorios en los que se montan los diversos sistemas de archivos."
   ]
  },
  {
   "cell_type": "code",
   "execution_count": null,
   "metadata": {},
   "outputs": [],
   "source": [
    "tree /mnt/ -L 2"
   ]
  },
  {
   "cell_type": "code",
   "execution_count": null,
   "metadata": {},
   "outputs": [],
   "source": [
    "tree /media/ -L 2"
   ]
  },
  {
   "cell_type": "markdown",
   "metadata": {},
   "source": [
    "## La variable de entorno *PATH*.\n",
    "\n",
    "Esta variable define las rutas de búsqueda de comandos."
   ]
  },
  {
   "cell_type": "code",
   "execution_count": null,
   "metadata": {},
   "outputs": [],
   "source": [
    "echo $PATH"
   ]
  },
  {
   "cell_type": "markdown",
   "metadata": {},
   "source": [
    "<p style=\"text-align: center\"><a rel=\"license\" href=\"http://creativecommons.org/licenses/by/4.0/\"><img alt=\"Licencia Creative Commons\" style=\"border-width:0\" src=\"https://i.creativecommons.org/l/by/4.0/80x15.png\" /></a><br />Esta obra está bajo una <a rel=\"license\" href=\"http://creativecommons.org/licenses/by/4.0/\">Licencia Creative Commons Atribución 4.0 Internacional</a>.</p>\n",
    "<p style=\"text-align: center\">&copy; José Luis Chiquete Valdivieso. 2019.</p>"
   ]
  }
 ],
 "metadata": {
  "kernelspec": {
   "display_name": "Bash",
   "language": "bash",
   "name": "bash"
  },
  "language_info": {
   "codemirror_mode": "shell",
   "file_extension": ".sh",
   "mimetype": "text/x-sh",
   "name": "bash"
  }
 },
 "nbformat": 4,
 "nbformat_minor": 2
}
