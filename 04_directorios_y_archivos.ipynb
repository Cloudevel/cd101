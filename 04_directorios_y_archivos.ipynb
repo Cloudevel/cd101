{
 "cells": [
  {
   "cell_type": "markdown",
   "metadata": {},
   "source": [
    "[![cloudevel](Imagenes/cloudevel.png)](https://cloudevel.com)"
   ]
  },
  {
   "cell_type": "markdown",
   "metadata": {},
   "source": [
    "## Conceptos básicos de directorios y archivos."
   ]
  },
  {
   "cell_type": "markdown",
   "metadata": {},
   "source": [
    "### Rutas.\n",
    "\n",
    "El sistema de archivos de Linux se define como una estrcutura ramificada de subdirectorios y archivos.\n",
    "\n",
    "Todos los subdirectorios del sistema de archivos tienen como origen el directorio ráiz, el cual se representa mediante una diagonal \"*/*\".\n",
    "\n",
    "A partir de la raíz se despliega un estructura de subdirectorios \n",
    "\n",
    "Cualquier recurso del sistema de archivos puede ser accedido mediante una ruta.\n",
    "\n",
    "\n",
    "```\n",
    "/<directorio 1>/<directorio 2>/.../<directorio n>/<archivo>\n",
    "```"
   ]
  },
  {
   "cell_type": "markdown",
   "metadata": {},
   "source": [
    "#### El comando ```pwd```.\n",
    "\n",
    "Este comando permite saber la ruta en la que se encuentra la terminal."
   ]
  },
  {
   "cell_type": "markdown",
   "metadata": {},
   "source": [
    "**Ejemplo:**\n",
    "\n",
    "La siguiente celda desplegará la ruta en la que se encuentra la notebook."
   ]
  },
  {
   "cell_type": "code",
   "execution_count": null,
   "metadata": {},
   "outputs": [],
   "source": [
    "pwd"
   ]
  },
  {
   "cell_type": "markdown",
   "metadata": {},
   "source": [
    "### El sistema de archivos contiene también al propio sistema.\n",
    "\n",
    "Uno de los conceptos claves en la arquitectura tanto de UNIX como la de GNU/Lunix es la de considerar tanto a los dispositivo como a los procesos como flujos de texto que pueden ser localizados en el sistema de archivos.\n",
    "\n",
    "La estructura de directorios de UNIX y GNU/Linux además de contener archivos normales contiene al sistema mismo."
   ]
  },
  {
   "cell_type": "markdown",
   "metadata": {},
   "source": [
    "**Ejemplo:**\n",
    "\n",
    "La ruta */proc/cpuinfo* apunta a un proceso del sistema que contiene la información de las CPU.\n",
    "\n",
    "* La siguiente celda desplegara la informacion de las CPU del sistema."
   ]
  },
  {
   "cell_type": "code",
   "execution_count": null,
   "metadata": {},
   "outputs": [],
   "source": [
    "cat /proc/cpuinfo"
   ]
  },
  {
   "cell_type": "markdown",
   "metadata": {},
   "source": [
    "## Indexado del sistema de archivos mediante *inodes*.\n",
    "\n",
    "### Dispositivos de almacenamiento en bloque (block storage).\n",
    "\n",
    "Un dispositivo de almacemiento en bloque permite realizar operaciones de escritura y lectura de datos mediante operaciones físicas en medios electromagnéticos u ópticos. \n",
    "La localización de los datos en estos medios se realiza mediante lo que se conoce como una tabla de particiones."
   ]
  },
  {
   "cell_type": "markdown",
   "metadata": {},
   "source": [
    "### Los *inodes*.\n",
    "\n",
    "Los *inodes* son estructuras de datos que relacionan la ruta de un directorio o archivo en el sistema de archivos con su posición física en un dispositivo de bloque.\n",
    "\n",
    "Los *inodes* almacenan.\n",
    "* La localización del objeto dentro del dispositivo de bloque.\n",
    "* Los atributos del objetos.\n",
    "* Metadatos."
   ]
  },
  {
   "cell_type": "markdown",
   "metadata": {},
   "source": [
    "## El comando ```ls```.\n",
    "Permite enlistar el contenido de un directorio o de un archivo en particular por medio de su ruta.\n",
    "\n",
    "\n",
    "```\n",
    "ls <ruta> <opciones> <parámetros>\n",
    "```\n",
    "\n",
    "* En caso de que no se ingrese ninguna ruta, se realiza un listado del directorio actual."
   ]
  },
  {
   "cell_type": "markdown",
   "metadata": {},
   "source": [
    "**Ejemplo:**"
   ]
  },
  {
   "cell_type": "code",
   "execution_count": null,
   "metadata": {},
   "outputs": [],
   "source": [
    "ls"
   ]
  },
  {
   "cell_type": "markdown",
   "metadata": {},
   "source": [
    "### Algunas opciones útiles de ```ls```."
   ]
  },
  {
   "cell_type": "markdown",
   "metadata": {},
   "source": [
    "#### Listado de elementos ocultos.\n",
    "\n",
    "Los sistemas GNU/Linux y UNIX permite ocultar ciertos archivos al tulizar ls antecediendo un punto \".\" antes de su nombre.\n",
    "\n",
    "```\n",
    ".<nombre>\n",
    "```\n",
    "\n",
    "* La opción *-a* o *--all* permite ver todos los archivos, incluyendo los ocultos."
   ]
  },
  {
   "cell_type": "markdown",
   "metadata": {},
   "source": [
    "**Ejemplo:**\n",
    "\n",
    "* La siguiente celda desplegará todos los archivos, incluyendo los ocultos del directorio actual."
   ]
  },
  {
   "cell_type": "code",
   "execution_count": 17,
   "metadata": {},
   "outputs": [
    {
     "name": "stdout",
     "output_type": "stream",
     "text": [
      ".\n",
      "..\n",
      "01_introduccion.ipynb\n",
      "02_sistemas_computo.ipynb\n",
      "03_la_línea_de_comandos.ipynb\n",
      "04_directorios_y_archivos.ipynb\n",
      "05_entrada_salida_filtros_y_pipes.ipynb\n",
      "06_introduccion_a_vim.ipynb\n",
      "07_usuarios_y_grupos.ipynb\n",
      "08_inicio_de_linux.ipynb\n",
      "09_el_kernel_de_linux.ipynb\n",
      "10_particiones_y_volumenes_de_archivos.ipynb\n",
      "11_chroot_y_contendores.ipynb\n",
      "12_paquetes-de-software.ipynb\n",
      "13_ introduccion_a_redes_basicas.ipynb\n",
      "14_procesos_trabajos_y_temporizadores.ipynb\n",
      "15_introduccion_a_bash_scripting.ipynb\n",
      "16_gestion_de_servicios_con_systemd.ipynb\n",
      "17_bitacoras.ipynb\n",
      "18_seguridad_básica.ipynb\n",
      "19_maquinas_virtuales.ipynb\n",
      ".git\n",
      ".gitignore\n",
      "Imagenes\n",
      ".ipynb_checkpoints\n",
      "LICENSE\n",
      "README.md\n"
     ]
    }
   ],
   "source": [
    "ls -a"
   ]
  },
  {
   "cell_type": "markdown",
   "metadata": {},
   "source": [
    "#### Listado extendido. \n",
    "\n",
    "La opción *-l* da la información extendida de cada elemento, mediante columnas que indican.\n",
    "\n",
    "* Los permisos con los que cuenta.\n",
    "* Los dueños del elemento (usuario y grupo).\n",
    "* El tamaño del elemento.\n",
    "* Fecha de la última modificación."
   ]
  },
  {
   "cell_type": "markdown",
   "metadata": {},
   "source": [
    "**Ejemplo:**\n",
    "* La siguiente celda desplegará todos los archivos, incluyendo los ocultos del directorio actualde forma extendida."
   ]
  },
  {
   "cell_type": "code",
   "execution_count": 16,
   "metadata": {},
   "outputs": [
    {
     "name": "stdout",
     "output_type": "stream",
     "text": [
      "total 216\n",
      "drwxrwxr-x. 5 oi oi  4096 mar  7 17:03 .\n",
      "drwxr-xr-x. 4 oi oi    45 mar  7 15:05 ..\n",
      "-rw-rw-r--. 1 oi oi 10469 mar  4 19:20 01_introduccion.ipynb\n",
      "-rw-rw-r--. 1 oi oi 13513 mar  7 15:39 02_sistemas_computo.ipynb\n",
      "-rw-rw-r--. 1 oi oi 21029 mar  7 16:45 03_la_línea_de_comandos.ipynb\n",
      "-rw-rw-r--. 1 oi oi 21133 mar  7 17:03 04_directorios_y_archivos.ipynb\n",
      "-rw-rw-r--. 1 oi oi  2139 mar  7 12:44 05_entrada_salida_filtros_y_pipes.ipynb\n",
      "-rw-rw-r--. 1 oi oi  1142 mar  4 17:50 06_introduccion_a_vim.ipynb\n",
      "-rw-rw-r--. 1 oi oi  2014 mar  7 15:07 07_usuarios_y_grupos.ipynb\n",
      "-rw-rw-r--. 1 oi oi  1380 mar  7 13:00 08_inicio_de_linux.ipynb\n",
      "-rw-r--r--. 1 oi oi  4542 mar  7 12:56 09_el_kernel_de_linux.ipynb\n",
      "-rw-rw-r--. 1 oi oi  3210 mar  4 17:50 10_particiones_y_volumenes_de_archivos.ipynb\n",
      "-rw-r--r--. 1 oi oi  1657 mar  7 13:08 11_chroot_y_contendores.ipynb\n",
      "-rw-rw-r--. 1 oi oi  1657 mar  4 17:50 12_paquetes-de-software.ipynb\n",
      "-rw-rw-r--. 1 oi oi  2444 mar  4 17:50 13_ introduccion_a_redes_basicas.ipynb\n",
      "-rw-rw-r--. 1 oi oi 19874 mar  4 17:50 14_procesos_trabajos_y_temporizadores.ipynb\n",
      "-rw-rw-r--. 1 oi oi  6077 mar  6 14:40 15_introduccion_a_bash_scripting.ipynb\n",
      "-rw-rw-r--. 1 oi oi 32637 mar  4 17:50 16_gestion_de_servicios_con_systemd.ipynb\n",
      "-rw-r--r--. 1 oi oi  4542 mar  7 13:10 17_bitacoras.ipynb\n",
      "-rw-rw-r--. 1 oi oi  4542 mar  4 17:50 18_seguridad_básica.ipynb\n",
      "-rw-rw-r--. 1 oi oi  1647 mar  4 17:50 19_maquinas_virtuales.ipynb\n",
      "drwxrwxr-x. 8 oi oi   220 mar  7 13:12 .git\n",
      "-rw-rw-r--. 1 oi oi  1203 mar  4 17:50 .gitignore\n",
      "drwxrwxr-x. 4 oi oi    92 mar  7 16:45 Imagenes\n",
      "drwxr-xr-x. 2 oi oi  4096 mar  7 13:10 .ipynb_checkpoints\n",
      "-rw-rw-r--. 1 oi oi  1068 mar  4 17:50 LICENSE\n",
      "-rw-rw-r--. 1 oi oi  1026 mar  4 17:50 README.md\n"
     ]
    }
   ],
   "source": [
    "ls --all -l"
   ]
  },
  {
   "cell_type": "markdown",
   "metadata": {},
   "source": [
    "#### Listado con el numero de inode.\n",
    "\n",
    "La opción *-i* da la información del inode de cada elemento."
   ]
  },
  {
   "cell_type": "markdown",
   "metadata": {},
   "source": [
    "**Ejemplo:**\n",
    "\n",
    "* La siguiente celda desplegará todos los archivos visibles del directorio actual, indicando el número de su inode correspondiente."
   ]
  },
  {
   "cell_type": "code",
   "execution_count": 18,
   "metadata": {},
   "outputs": [
    {
     "name": "stdout",
     "output_type": "stream",
     "text": [
      "  1138680 01_introduccion.ipynb\n",
      "  1138681 02_sistemas_computo.ipynb\n",
      "  1138682 03_la_línea_de_comandos.ipynb\n",
      "  1138687 04_directorios_y_archivos.ipynb\n",
      "  1138684 05_entrada_salida_filtros_y_pipes.ipynb\n",
      "  1138685 06_introduccion_a_vim.ipynb\n",
      "  1138686 07_usuarios_y_grupos.ipynb\n",
      "  1138683 08_inicio_de_linux.ipynb\n",
      "  1141403 09_el_kernel_de_linux.ipynb\n",
      "  1138689 10_particiones_y_volumenes_de_archivos.ipynb\n",
      "  1141404 11_chroot_y_contendores.ipynb\n",
      "  1138691 12_paquetes-de-software.ipynb\n",
      "  1138690 13_ introduccion_a_redes_basicas.ipynb\n",
      "  1138692 14_procesos_trabajos_y_temporizadores.ipynb\n",
      "  1138693 15_introduccion_a_bash_scripting.ipynb\n",
      "  1138694 16_gestion_de_servicios_con_systemd.ipynb\n",
      "  1141405 17_bitacoras.ipynb\n",
      "  1138695 18_seguridad_básica.ipynb\n",
      "  1138696 19_maquinas_virtuales.ipynb\n",
      "102060841 Imagenes\n",
      "  1138697 LICENSE\n",
      "  1138698 README.md\n"
     ]
    }
   ],
   "source": [
    "ls -i"
   ]
  },
  {
   "cell_type": "markdown",
   "metadata": {},
   "source": [
    "## Rutas absolutas y relativas.\n",
    "\n",
    "### Rutas absolutas.\n",
    "\n",
    "Una ruta absoluta es aquella que se indica a partir de la raíz.\n",
    "\n",
    "```\n",
    "/<subdirectorio 1><subdirectorio 2>/.../<subdirectorio n>/<elemento>\n",
    "```\n",
    "si la ruta apunta a un directorio, es opcional colocar una diagonal al final."
   ]
  },
  {
   "cell_type": "markdown",
   "metadata": {},
   "source": [
    "**Ejemplos:**"
   ]
  },
  {
   "cell_type": "code",
   "execution_count": null,
   "metadata": {},
   "outputs": [],
   "source": [
    "ls /"
   ]
  },
  {
   "cell_type": "code",
   "execution_count": null,
   "metadata": {},
   "outputs": [],
   "source": [
    "ls /home/oi -a"
   ]
  },
  {
   "cell_type": "code",
   "execution_count": null,
   "metadata": {},
   "outputs": [],
   "source": [
    "ls /home/oi/ -a"
   ]
  },
  {
   "cell_type": "code",
   "execution_count": null,
   "metadata": {},
   "outputs": [],
   "source": [
    "ls /dev/input"
   ]
  },
  {
   "cell_type": "markdown",
   "metadata": {},
   "source": [
    "### Rutas relativas.\n",
    "\n",
    "Son las rutas a partir del directiorio actual."
   ]
  },
  {
   "cell_type": "code",
   "execution_count": null,
   "metadata": {},
   "outputs": [],
   "source": [
    "pwd"
   ]
  },
  {
   "cell_type": "code",
   "execution_count": null,
   "metadata": {},
   "outputs": [],
   "source": [
    "ls -a"
   ]
  },
  {
   "cell_type": "markdown",
   "metadata": {},
   "source": [
    "## Desplazamiento entre directorios.\n",
    "\n",
    "El comando ```cd``` permite moverse entre directorios indicando la ruta a la que se quiere acceder.\n",
    "\n",
    "```\n",
    "cd <ruta>\n",
    "```"
   ]
  },
  {
   "cell_type": "markdown",
   "metadata": {},
   "source": [
    "Para acceder a un elemento dentro del directorio actual sólo se necesita hacer referencia a su nombre."
   ]
  },
  {
   "cell_type": "code",
   "execution_count": 19,
   "metadata": {},
   "outputs": [
    {
     "name": "stdout",
     "output_type": "stream",
     "text": [
      "/opt/cloudevel/cd101\n"
     ]
    }
   ],
   "source": [
    "pwd"
   ]
  },
  {
   "cell_type": "code",
   "execution_count": null,
   "metadata": {},
   "outputs": [],
   "source": [
    "cd Imagenes"
   ]
  },
  {
   "cell_type": "code",
   "execution_count": 20,
   "metadata": {},
   "outputs": [
    {
     "name": "stdout",
     "output_type": "stream",
     "text": [
      "01_introduccion.ipynb\n",
      "02_sistemas_computo.ipynb\n",
      "03_la_línea_de_comandos.ipynb\n",
      "04_directorios_y_archivos.ipynb\n",
      "05_entrada_salida_filtros_y_pipes.ipynb\n",
      "06_introduccion_a_vim.ipynb\n",
      "07_usuarios_y_grupos.ipynb\n",
      "08_inicio_de_linux.ipynb\n",
      "09_el_kernel_de_linux.ipynb\n",
      "10_particiones_y_volumenes_de_archivos.ipynb\n",
      "11_chroot_y_contendores.ipynb\n",
      "12_paquetes-de-software.ipynb\n",
      "13_ introduccion_a_redes_basicas.ipynb\n",
      "14_procesos_trabajos_y_temporizadores.ipynb\n",
      "15_introduccion_a_bash_scripting.ipynb\n",
      "16_gestion_de_servicios_con_systemd.ipynb\n",
      "17_bitacoras.ipynb\n",
      "18_seguridad_básica.ipynb\n",
      "19_maquinas_virtuales.ipynb\n",
      "Imagenes\n",
      "LICENSE\n",
      "README.md\n"
     ]
    }
   ],
   "source": [
    "ls"
   ]
  },
  {
   "cell_type": "code",
   "execution_count": 22,
   "metadata": {},
   "outputs": [],
   "source": [
    "cd /"
   ]
  },
  {
   "cell_type": "code",
   "execution_count": 23,
   "metadata": {},
   "outputs": [
    {
     "name": "stdout",
     "output_type": "stream",
     "text": [
      "bin   dev  home  lib64\tmnt  proc  run\t srv  tmp  var\n",
      "boot  etc  lib\t media\topt  root  sbin  sys  usr\n"
     ]
    }
   ],
   "source": [
    "ls"
   ]
  },
  {
   "cell_type": "code",
   "execution_count": 24,
   "metadata": {},
   "outputs": [
    {
     "name": "stdout",
     "output_type": "stream",
     "text": [
      "bash: cd: /root: Permiso denegado\n"
     ]
    },
    {
     "ename": "",
     "evalue": "1",
     "output_type": "error",
     "traceback": []
    }
   ],
   "source": [
    "cd /root"
   ]
  },
  {
   "cell_type": "markdown",
   "metadata": {},
   "source": [
    "Para acceder a un elemento en un subdirectorio se usa el signo \"*/*\", el nombre del subdirectorio cuanrtas veces sea necesario.\n",
    "\n",
    "```\n",
    "<subdirectorio 1>/<subdirectorio 2>/.../<subdirectorio 3>/<archivo>\n",
    "```"
   ]
  },
  {
   "cell_type": "markdown",
   "metadata": {},
   "source": [
    "El directorio actual se denota por un punto \".\".\n",
    "\n",
    "El directorio superior se denota por dos punto seguidos \"..\"."
   ]
  },
  {
   "cell_type": "code",
   "execution_count": null,
   "metadata": {},
   "outputs": [],
   "source": [
    "cd 02"
   ]
  },
  {
   "cell_type": "code",
   "execution_count": null,
   "metadata": {},
   "outputs": [],
   "source": [
    "pwd"
   ]
  },
  {
   "cell_type": "code",
   "execution_count": null,
   "metadata": {},
   "outputs": [],
   "source": [
    "cd ../.."
   ]
  },
  {
   "cell_type": "code",
   "execution_count": null,
   "metadata": {},
   "outputs": [],
   "source": [
    "pwd"
   ]
  },
  {
   "cell_type": "code",
   "execution_count": null,
   "metadata": {},
   "outputs": [],
   "source": [
    "cd ../../.."
   ]
  },
  {
   "cell_type": "code",
   "execution_count": null,
   "metadata": {},
   "outputs": [],
   "source": [
    "pwd"
   ]
  },
  {
   "cell_type": "code",
   "execution_count": null,
   "metadata": {},
   "outputs": [],
   "source": [
    "cd opt/cloudevel"
   ]
  },
  {
   "cell_type": "code",
   "execution_count": null,
   "metadata": {},
   "outputs": [],
   "source": [
    "ls ."
   ]
  },
  {
   "cell_type": "markdown",
   "metadata": {},
   "source": [
    "El caracter \"~\" indica que la referncia será el directorio *home* del usuario."
   ]
  },
  {
   "cell_type": "code",
   "execution_count": null,
   "metadata": {},
   "outputs": [],
   "source": [
    "ls ~ -a"
   ]
  },
  {
   "cell_type": "code",
   "execution_count": null,
   "metadata": {},
   "outputs": [],
   "source": [
    "cd ~"
   ]
  },
  {
   "cell_type": "code",
   "execution_count": null,
   "metadata": {},
   "outputs": [],
   "source": [
    "pwd"
   ]
  },
  {
   "cell_type": "markdown",
   "metadata": {},
   "source": [
    "### Creación de subdirectorios con ```mkdir```.\n",
    "\n",
    "```\n",
    "mkdir <ruta>\n",
    "```"
   ]
  },
  {
   "cell_type": "code",
   "execution_count": null,
   "metadata": {},
   "outputs": [],
   "source": [
    "ls ejemplo"
   ]
  },
  {
   "cell_type": "code",
   "execution_count": null,
   "metadata": {},
   "outputs": [],
   "source": [
    "mkdir ejemplo"
   ]
  },
  {
   "cell_type": "code",
   "execution_count": null,
   "metadata": {},
   "outputs": [],
   "source": [
    "ls"
   ]
  },
  {
   "cell_type": "code",
   "execution_count": null,
   "metadata": {},
   "outputs": [],
   "source": [
    "cd ejemplo"
   ]
  },
  {
   "cell_type": "code",
   "execution_count": null,
   "metadata": {},
   "outputs": [],
   "source": [
    "pwd"
   ]
  },
  {
   "cell_type": "code",
   "execution_count": null,
   "metadata": {},
   "outputs": [],
   "source": [
    "mkdir /opt/cloudevel/ejemplo"
   ]
  },
  {
   "cell_type": "code",
   "execution_count": null,
   "metadata": {},
   "outputs": [],
   "source": [
    "ls /opt/cloudevel/ "
   ]
  },
  {
   "cell_type": "markdown",
   "metadata": {},
   "source": [
    "Es importante tener los permisos para crear directorios y archivos."
   ]
  },
  {
   "cell_type": "code",
   "execution_count": null,
   "metadata": {},
   "outputs": [],
   "source": [
    "mkdir  /boot/ejemplo"
   ]
  },
  {
   "cell_type": "markdown",
   "metadata": {},
   "source": [
    "No sepuede crear de forma anidada."
   ]
  },
  {
   "cell_type": "code",
   "execution_count": null,
   "metadata": {},
   "outputs": [],
   "source": [
    "pwd"
   ]
  },
  {
   "cell_type": "code",
   "execution_count": null,
   "metadata": {},
   "outputs": [],
   "source": [
    "cd ~"
   ]
  },
  {
   "cell_type": "code",
   "execution_count": null,
   "metadata": {},
   "outputs": [],
   "source": [
    "mkdir ejemplo_2/otro"
   ]
  },
  {
   "cell_type": "code",
   "execution_count": null,
   "metadata": {},
   "outputs": [],
   "source": [
    "mkdir ejemplo_2"
   ]
  },
  {
   "cell_type": "code",
   "execution_count": null,
   "metadata": {},
   "outputs": [],
   "source": [
    "mkdir ejemplo_2/otro"
   ]
  },
  {
   "cell_type": "code",
   "execution_count": null,
   "metadata": {},
   "outputs": [],
   "source": [
    "ls ejemplo_2"
   ]
  },
  {
   "cell_type": "markdown",
   "metadata": {},
   "source": [
    "### Creación o modificación  de un archivo con ```touch```.\n",
    "\n",
    "Este comando tiene 2 funciones:\n",
    "\n",
    "* Crear un archivo vacío en caso de no existir.\n",
    "* Modificar la fecha de acceso al archivo."
   ]
  },
  {
   "cell_type": "code",
   "execution_count": null,
   "metadata": {},
   "outputs": [],
   "source": [
    "pwd"
   ]
  },
  {
   "cell_type": "code",
   "execution_count": null,
   "metadata": {},
   "outputs": [],
   "source": [
    "ls"
   ]
  },
  {
   "cell_type": "code",
   "execution_count": null,
   "metadata": {},
   "outputs": [],
   "source": [
    "touch archivo"
   ]
  },
  {
   "cell_type": "code",
   "execution_count": null,
   "metadata": {},
   "outputs": [],
   "source": [
    "ls"
   ]
  },
  {
   "cell_type": "code",
   "execution_count": null,
   "metadata": {},
   "outputs": [],
   "source": [
    "touch /opt/cloudevel/archivo"
   ]
  },
  {
   "cell_type": "code",
   "execution_count": null,
   "metadata": {},
   "outputs": [],
   "source": [
    "ls /opt/cloudevel/"
   ]
  },
  {
   "cell_type": "code",
   "execution_count": null,
   "metadata": {},
   "outputs": [],
   "source": [
    "ls -l ~/archivo"
   ]
  },
  {
   "cell_type": "code",
   "execution_count": null,
   "metadata": {},
   "outputs": [],
   "source": [
    "touch ~/archivo"
   ]
  },
  {
   "cell_type": "code",
   "execution_count": null,
   "metadata": {
    "scrolled": true
   },
   "outputs": [],
   "source": [
    "ls -l ~/archivo"
   ]
  },
  {
   "cell_type": "markdown",
   "metadata": {},
   "source": [
    "Cipar archivos o directorios con ```cp```.\n",
    "\n",
    "```\n",
    "cp <ruta origen> <ruta destino>\n",
    "```\n",
    "\n",
    "La ruta pueden indicar el directorio al que se va a copiar el archivo o la ruta y el nombre del archivo de destino."
   ]
  },
  {
   "cell_type": "code",
   "execution_count": null,
   "metadata": {},
   "outputs": [],
   "source": [
    "cp archivo /opt/cloudevel/"
   ]
  },
  {
   "cell_type": "code",
   "execution_count": null,
   "metadata": {},
   "outputs": [],
   "source": [
    "cp archivo /opt/cloudevel/arch"
   ]
  },
  {
   "cell_type": "markdown",
   "metadata": {},
   "source": [
    "### Eliminación de un elemento con ```rm```.\n",
    "\n",
    "```\n",
    "rm <ruta>\n",
    "```"
   ]
  },
  {
   "cell_type": "code",
   "execution_count": null,
   "metadata": {},
   "outputs": [],
   "source": [
    "rm /opt/cloudevel/archivo"
   ]
  },
  {
   "cell_type": "code",
   "execution_count": null,
   "metadata": {},
   "outputs": [],
   "source": [
    "rm ejemplo_2"
   ]
  },
  {
   "cell_type": "markdown",
   "metadata": {},
   "source": [
    "Para borrar un subdirectorio se necesitan las opciones *-rf*.\n",
    "\n",
    "La opción *r* es para hacer un  borrado recursivo.\n",
    "La opción *f* es para forzar el borrado."
   ]
  },
  {
   "cell_type": "code",
   "execution_count": null,
   "metadata": {},
   "outputs": [],
   "source": [
    "rm -rf ejemplo_2"
   ]
  },
  {
   "cell_type": "code",
   "execution_count": null,
   "metadata": {},
   "outputs": [],
   "source": [
    "ls"
   ]
  },
  {
   "cell_type": "markdown",
   "metadata": {},
   "source": [
    "## Mover archivos con ```mv```.\n",
    "\n",
    "El comando *mv* modifica el índice del *inode* para apuntar a otro. directorio.\n",
    "\n",
    "```\n",
    "mv <ruta_origen> <ruta destino>\n",
    "```"
   ]
  },
  {
   "cell_type": "code",
   "execution_count": null,
   "metadata": {},
   "outputs": [],
   "source": [
    "ls -i archivo"
   ]
  },
  {
   "cell_type": "code",
   "execution_count": null,
   "metadata": {},
   "outputs": [],
   "source": [
    "ls -i /opt/cloudevel/arch"
   ]
  },
  {
   "cell_type": "code",
   "execution_count": null,
   "metadata": {},
   "outputs": [],
   "source": [
    "mv archivo /opt/cloudevel/archivo_2"
   ]
  },
  {
   "cell_type": "code",
   "execution_count": null,
   "metadata": {
    "scrolled": true
   },
   "outputs": [],
   "source": [
    "ls -i /opt/cloudevel/archivo_2"
   ]
  },
  {
   "cell_type": "markdown",
   "metadata": {},
   "source": [
    "## Creación de enlaces simbólicos con *ln*."
   ]
  },
  {
   "cell_type": "code",
   "execution_count": null,
   "metadata": {},
   "outputs": [],
   "source": [
    "pwd"
   ]
  },
  {
   "cell_type": "code",
   "execution_count": null,
   "metadata": {},
   "outputs": [],
   "source": [
    "touch original"
   ]
  },
  {
   "cell_type": "code",
   "execution_count": null,
   "metadata": {},
   "outputs": [],
   "source": [
    "ln original /opt/cloudevel/simbolico"
   ]
  },
  {
   "cell_type": "code",
   "execution_count": null,
   "metadata": {},
   "outputs": [],
   "source": [
    "ls -i /opt/cloudevel/simbolico"
   ]
  },
  {
   "cell_type": "code",
   "execution_count": null,
   "metadata": {},
   "outputs": [],
   "source": [
    "ls -i original"
   ]
  },
  {
   "cell_type": "code",
   "execution_count": null,
   "metadata": {},
   "outputs": [],
   "source": [
    "rm /opt/cloudevel/simbolico"
   ]
  },
  {
   "cell_type": "code",
   "execution_count": null,
   "metadata": {},
   "outputs": [],
   "source": [
    "ls -i original"
   ]
  },
  {
   "cell_type": "code",
   "execution_count": null,
   "metadata": {},
   "outputs": [],
   "source": [
    "ln original /opt/cloudevel/simbolico\n",
    "rm original"
   ]
  },
  {
   "cell_type": "code",
   "execution_count": null,
   "metadata": {},
   "outputs": [],
   "source": [
    "ls -i /opt/cloudevel/simbolico"
   ]
  },
  {
   "cell_type": "code",
   "execution_count": null,
   "metadata": {},
   "outputs": [],
   "source": [
    "Las opciones ```-sf``` hacen un enlace simbólico suave."
   ]
  },
  {
   "cell_type": "code",
   "execution_count": null,
   "metadata": {},
   "outputs": [],
   "source": []
  },
  {
   "cell_type": "markdown",
   "metadata": {},
   "source": [
    "### ```stat```."
   ]
  },
  {
   "cell_type": "code",
   "execution_count": null,
   "metadata": {},
   "outputs": [],
   "source": [
    "touch objeto"
   ]
  },
  {
   "cell_type": "code",
   "execution_count": null,
   "metadata": {},
   "outputs": [],
   "source": [
    "stat objeto"
   ]
  },
  {
   "cell_type": "markdown",
   "metadata": {},
   "source": [
    "### ```file```."
   ]
  },
  {
   "cell_type": "code",
   "execution_count": null,
   "metadata": {},
   "outputs": [],
   "source": [
    "file objeto"
   ]
  },
  {
   "cell_type": "code",
   "execution_count": null,
   "metadata": {},
   "outputs": [],
   "source": [
    "file /opt/cloudevel/cd101/01_introduccion.ipynb"
   ]
  },
  {
   "cell_type": "code",
   "execution_count": null,
   "metadata": {},
   "outputs": [],
   "source": [
    "tree"
   ]
  },
  {
   "cell_type": "code",
   "execution_count": null,
   "metadata": {},
   "outputs": [],
   "source": [
    "tree ~"
   ]
  },
  {
   "cell_type": "code",
   "execution_count": null,
   "metadata": {},
   "outputs": [],
   "source": [
    "tree /opt"
   ]
  },
  {
   "cell_type": "markdown",
   "metadata": {},
   "source": [
    "Tamaño del contenido de un directorio con ```du```."
   ]
  },
  {
   "cell_type": "code",
   "execution_count": null,
   "metadata": {},
   "outputs": [],
   "source": [
    "du ~"
   ]
  },
  {
   "cell_type": "code",
   "execution_count": null,
   "metadata": {},
   "outputs": [],
   "source": [
    "du -m /opt/cloudevel/cd101"
   ]
  },
  {
   "cell_type": "markdown",
   "metadata": {},
   "source": [
    "## Estructura de archivos de un sistema GNU/Linux.\n",
    "### */*.\n",
    "### */home/*.\n",
    "###  */bin/*.\n",
    "### */sbin/*.\n",
    "### */lib/*.\n",
    "### */sys/*.\n",
    "### */etc/*.\n",
    "###  */var/*.\n",
    "### */opt/*.\n",
    "###  */tmp/*.\n",
    "###  */usr/*.\n",
    "### */dev/*.\n",
    "### */proc/*.\n",
    "### */run/*.\n",
    "### */media y /mnt*.\n",
    "### *//boot*."
   ]
  },
  {
   "cell_type": "markdown",
   "metadata": {},
   "source": [
    "<p style=\"text-align: center\"><a rel=\"license\" href=\"http://creativecommons.org/licenses/by/4.0/\"><img alt=\"Licencia Creative Commons\" style=\"border-width:0\" src=\"https://i.creativecommons.org/l/by/4.0/80x15.png\" /></a><br />Esta obra está bajo una <a rel=\"license\" href=\"http://creativecommons.org/licenses/by/4.0/\">Licencia Creative Commons Atribución 4.0 Internacional</a>.</p>\n",
    "<p style=\"text-align: center\">&copy; José Luis Chiquete Valdivieso. 2019.</p>"
   ]
  }
 ],
 "metadata": {
  "kernelspec": {
   "display_name": "Bash",
   "language": "bash",
   "name": "bash"
  },
  "language_info": {
   "codemirror_mode": "shell",
   "file_extension": ".sh",
   "mimetype": "text/x-sh",
   "name": "bash"
  }
 },
 "nbformat": 4,
 "nbformat_minor": 2
}
