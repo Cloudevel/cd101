{
 "cells": [
  {
   "cell_type": "markdown",
   "metadata": {},
   "source": [
    "[![https://cloudevel.com/](https://cloudevel.com/es-mx/media/cloudevel-fondo-twitter.png)](https://cloudevel.com)"
   ]
  },
  {
   "cell_type": "markdown",
   "metadata": {},
   "source": [
    "# Particiones y volumenes de archivos."
   ]
  },
  {
   "cell_type": "markdown",
   "metadata": {},
   "source": [
    "## Dispositivos de almacenamiento.\n",
    "## Particiones de disco.\n",
    "## Formatos de particiones.\n",
    "### _ext2_, _ext3_ y _ext4_.\n",
    "### _XFS_.\n",
    "### _resierfs_.\n",
    "### iso9660_.\n",
    "### _vfat_ y _ntfs_.\n",
    "## Sistemas de archivos especiales.\n",
    "### _swap_.\n",
    "### _sysfs_.\n",
    "### _procfs_.\n",
    "### _devfs_.\n",
    "### _fusefs_.\n",
    "## Montado de volúmenes.\n",
    "### mount, \n",
    "### umount.\n",
    "### El archivo _/etc/fstab_.\n",
    "## Monitoreo y mantenimiento de sistemas de archivos.\n",
    "### _df_.\n",
    "### _du_.\n",
    "### _dd_.\n",
    "### _mkdisk_.\n",
    "### _cfdisk_.\n",
    "### _fsck_ y _efsck_.\n",
    "### _lsblk_.\n",
    "### _blkid_.\n",
    "\n",
    "##  _LVM_.\n",
    "\n",
    "### Volúmenes físicos.\n",
    "#### _pvs_.\n",
    "#### _pvscan_.\n",
    "#### _pvcreate_.\n",
    "#### _pvmove_.\n",
    "#### _pvresize_.\n",
    "#### _pvremove_.\n",
    "#### _pvchange_.\n",
    "#### _pvdisplay_.\n",
    "#### _pvck_.\n",
    "\n",
    "### Grupos de volúmenes.\n",
    "#### _vgcreate_.\n",
    "#### _vgck_.\n",
    "#### _vgdisplay_.\n",
    "#### _vgremove_.\n",
    "#### _vgrename_.\n",
    "#### _vgreduce_.\n",
    "#### _vgextend_.\n",
    "#### _vgimport_.\n",
    "#### _vgchange_.\n",
    "#### _vgscan_.\n",
    "#### _vgsplit_.\n",
    "#### _vgchage_.\n",
    "#### _vgconvert_.\n",
    "#### _vgexport_.\n",
    "#### _vgmerge_.\n",
    "#### _vgmnodes_.\n",
    "\n",
    "### Volúmenres lógicos.\n",
    "#### _lvs_.\n",
    "#### _lvscan_.\n",
    "#### _lvcreate_.\n",
    "#### _lvmove_.\n",
    "#### _lvresize_.\n",
    "#### _lvremove_.\n",
    "#### _lvchange_.\n",
    "#### _lvdisplay_.\n",
    "#### _lvck_.\n",
    "#### _lvconvert_.\n",
    "#### _lvextend_.\n",
    "#### _lvreduce_.\n",
    "\n",
    "### Comandos de LVM.\n",
    "#### _lvmdump_.\n",
    "#### _lvmdiskscan_.\n",
    "#### _lvmconf_.\n",
    "#### _lvmconfig_."
   ]
  },
  {
   "cell_type": "markdown",
   "metadata": {},
   "source": [
    "<p style=\"text-align: center\"><a rel=\"license\" href=\"http://creativecommons.org/licenses/by/4.0/\"><img alt=\"Licencia Creative Commons\" style=\"border-width:0\" src=\"https://i.creativecommons.org/l/by/4.0/80x15.png\" /></a><br />Esta obra está bajo una <a rel=\"license\" href=\"http://creativecommons.org/licenses/by/4.0/\">Licencia Creative Commons Atribución 4.0 Internacional</a>.</p>\n",
    "<p style=\"text-align: center\">&copy; José Luis Chiquete Valdivieso. 2017.</p>"
   ]
  }
 ],
 "metadata": {
  "kernelspec": {
   "display_name": "Bash",
   "language": "bash",
   "name": "bash"
  },
  "language_info": {
   "codemirror_mode": "shell",
   "file_extension": ".sh",
   "mimetype": "text/x-sh",
   "name": "bash"
  }
 },
 "nbformat": 4,
 "nbformat_minor": 2
}
