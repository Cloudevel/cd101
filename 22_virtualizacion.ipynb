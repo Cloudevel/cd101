{
 "cells": [
  {
   "cell_type": "markdown",
   "metadata": {
    "slideshow": {
     "slide_type": "slide"
    }
   },
   "source": [
    "[![cloudevel](Imagenes/cloudevel.png)](https://cloudevel.com)"
   ]
  },
  {
   "cell_type": "markdown",
   "metadata": {
    "slideshow": {
     "slide_type": "slide"
    }
   },
   "source": [
    "# Conceptos básicos."
   ]
  },
  {
   "cell_type": "markdown",
   "metadata": {
    "slideshow": {
     "slide_type": "fragment"
    }
   },
   "source": [
    "### Virtualización.\n",
    "\n",
    "* Consiste en la gestión y utilización de recursos tanto de software como de hardware con el objetivo de crear representaciones de equipos, servidores, redes e infraestructura de cómputo capaces de proveer funcionalidades idénticas a las de sus contrapartes físicas."
   ]
  },
  {
   "cell_type": "markdown",
   "metadata": {
    "slideshow": {
     "slide_type": "fragment"
    }
   },
   "source": [
    "### Máquinas universales.\n",
    "* El matemático Alan Turing definió a una máquina universal como un sistema capaz de emular por completo las funciones de otras máquinas universales.\n",
    "* La virtualizacion se basa en el principio de las máquinas universales de Turing."
   ]
  },
  {
   "cell_type": "markdown",
   "metadata": {
    "slideshow": {
     "slide_type": "fragment"
    }
   },
   "source": [
    "### Tipos de virtualización.\n",
    "* Máquinas (VM, Containers, Zones, etc.).\n",
    "* Redes (SDN, NFV).\n",
    "* Almacenamiento (SDS).\n",
    "* Aplicaciones."
   ]
  },
  {
   "cell_type": "markdown",
   "metadata": {
    "slideshow": {
     "slide_type": "fragment"
    }
   },
   "source": [
    "* Al sistema que contiene y gestiona a los elementos virtualizados se le conoce como _Anfitrión_ (_Host_).\n",
    "* Los sistemas virtualizados dentro del Anfitrión se conocen como _Huesped_ (_Guest_)."
   ]
  },
  {
   "cell_type": "markdown",
   "metadata": {
    "slideshow": {
     "slide_type": "slide"
    }
   },
   "source": [
    "# Máquinas virtuales (VM)."
   ]
  },
  {
   "cell_type": "markdown",
   "metadata": {
    "slideshow": {
     "slide_type": "fragment"
    }
   },
   "source": [
    "Las máquinas virtuales son sistemas capaces de simular de forma simplificada, pero eficaz a los componentes (memoria, procesadores, dispositivos de entrada y salida, etc.) de una máquina física."
   ]
  },
  {
   "cell_type": "markdown",
   "metadata": {
    "slideshow": {
     "slide_type": "subslide"
    }
   },
   "source": [
    "#### Virtualizacion completa.\n",
    "Es cuando es posible emular desde el anfitirón todas las funcionalidades de tal forma que el sistema huesped pueda ser ejecutado exactamente del mismo modo que en un sistema físico.\n",
    "#### Virtualización por hardware.\n",
    "Los fabricantes de procesadores como Intel (VT) y AMD (V) han incluido tecnologías dentro de sus productos que facilitan a los sistemas anfitriones ofrecer entornos virtualizados optimizados desde el hardware mismo.\n",
    "\n",
    "#### Paravirtualización.\n",
    "Es cuando se requiere de hacer ciertas modificaciones en el sistema huesped para poder funcionar en el anfitrión."
   ]
  },
  {
   "cell_type": "markdown",
   "metadata": {
    "slideshow": {
     "slide_type": "slide"
    }
   },
   "source": [
    "# Hipervisores o monitores de máquinas virtuales."
   ]
  },
  {
   "cell_type": "markdown",
   "metadata": {
    "slideshow": {
     "slide_type": "fragment"
    }
   },
   "source": [
    "* El componente encargado de gestionar los recursos y la ejecución de las máquinas virtuales se conoce como hipervisor.\n",
    "* Los hipervisores pueden estar contenidos en el sistema operativo del anfitrión o incluso ser un componente externo al sistema operativo del anfitirón. "
   ]
  },
  {
   "cell_type": "markdown",
   "metadata": {
    "slideshow": {
     "slide_type": "subslide"
    }
   },
   "source": [
    "## Principales proyectos de hipervisores de código abierto.\n",
    "\n",
    "* [Xen.](https://www.xenproject.org/)\n",
    "* [KVM.](https://www.linux-kvm.org/page/Main_Page)\n",
    "* [VirtualBox.](http://www.virtualbox.org/)\n",
    "* [QEMU.](http://www.qemu.org/)\n",
    "* [lib-virt.](https://libvirt.org) no es un hiervisor, sino una biblioteca capaz de "
   ]
  },
  {
   "cell_type": "markdown",
   "metadata": {
    "slideshow": {
     "slide_type": "subslide"
    }
   },
   "source": [
    "## Gestores de VM.\n",
    "Además de los hipervisores, existen herramientas que realizan funciones avanzadas de gestión, distribución y proveeduría de VM.\n",
    "\n",
    "* [ovirt.](http://www.ovirt.org/)\n",
    "* [Archipel](http://archipelproject.org/)\n",
    "* [virt manager.](http://virt-manager.org/)\n",
    "* [Proxmox.](https://www.proxmox.com/)"
   ]
  },
  {
   "cell_type": "markdown",
   "metadata": {
    "slideshow": {
     "slide_type": "subslide"
    }
   },
   "source": [
    "## Aprovisionamienro de VM.\n",
    "\n",
    "* [Vagrant.](http://www.vagrantup.com/)"
   ]
  },
  {
   "cell_type": "markdown",
   "metadata": {
    "slideshow": {
     "slide_type": "subslide"
    }
   },
   "source": [
    "## Clusterización de VM y Cloud.\n",
    "* [OpenStack.](https://openstack.org)\n",
    "* [Apache Mesos.](https://clusterlabs.org/)\n",
    "* [ClusterLabs.](https://clusterlabs.org/)\n",
    "* [Open Nebula.](https://opennebula.org/)"
   ]
  },
  {
   "cell_type": "markdown",
   "metadata": {
    "slideshow": {
     "slide_type": "subslide"
    }
   },
   "source": [
    "## [Linux Bridge.](https://wiki.linuxfoundation.org/networking/bridge)\n",
    "Linux Bridge es un componente del kernel de Linux que permite virtualizar de forma simplificada las funciones de un puente (bridge)."
   ]
  },
  {
   "cell_type": "markdown",
   "metadata": {
    "collapsed": true,
    "slideshow": {
     "slide_type": "subslide"
    }
   },
   "source": [
    "## Redes definidas por software (SDN).\n",
    "\n",
    "### Planos.\n",
    "* Datos. En el que se transmiten los datos de los usuarios.\n",
    "* Control. En el que se transmiten los datos de configuración de la red. \n",
    "* Administración. El que se encarga de la gestión de las redes."
   ]
  },
  {
   "cell_type": "markdown",
   "metadata": {
    "collapsed": true,
    "slideshow": {
     "slide_type": "fragment"
    }
   },
   "source": [
    "### El protocolo OpenFlow.\n",
    "El protocolo abierto que se utiliza para la implementación de SDN es [OpenFlow](https://www.opennetworking.org/).\n",
    "Algunas implementaciones del protocolo son:\n",
    "* [Open VSwitch.](http://openvswitch.org/)\n",
    "* [Open Daylight.](https://www.opendaylight.org/)\n",
    "* [open Contrail.](http://www.opencontrail.org/)\n",
    "* [Mini Net.](http://mininet.org/)\n",
    "* [Floodlght](http://www.projectfloodlight.org/floodlight/)"
   ]
  },
  {
   "cell_type": "markdown",
   "metadata": {
    "slideshow": {
     "slide_type": "subslide"
    }
   },
   "source": [
    "## Virtualización de la función de red (NFV)."
   ]
  },
  {
   "cell_type": "markdown",
   "metadata": {
    "slideshow": {
     "slide_type": "fragment"
    }
   },
   "source": [
    "* Funciones de red virtualizadas (VNF).\n",
    "* Infraestructura de funciones de red virtualizada (NFVI).\n",
    "* Framework de administración y orquestacion de NFV (NFV-MANO)."
   ]
  },
  {
   "cell_type": "markdown",
   "metadata": {
    "collapsed": true,
    "slideshow": {
     "slide_type": "slide"
    }
   },
   "source": [
    "# Almacenamiento definido por software (SDS)."
   ]
  },
  {
   "cell_type": "markdown",
   "metadata": {
    "slideshow": {
     "slide_type": "fragment"
    }
   },
   "source": [
    "* [Ceph.](http://ceph.com/ceph-storage/)\n",
    "* [Glusterfs.](https://www.gluster.org/)\n",
    "* HDFS."
   ]
  },
  {
   "cell_type": "markdown",
   "metadata": {
    "collapsed": true,
    "slideshow": {
     "slide_type": "slide"
    }
   },
   "source": [
    "# Aplicaciones y usos comunes."
   ]
  },
  {
   "cell_type": "markdown",
   "metadata": {
    "slideshow": {
     "slide_type": "fragment"
    }
   },
   "source": [
    "* Consolidación recursos."
   ]
  },
  {
   "cell_type": "markdown",
   "metadata": {
    "slideshow": {
     "slide_type": "fragment"
    }
   },
   "source": [
    "* Respaldo."
   ]
  },
  {
   "cell_type": "markdown",
   "metadata": {
    "slideshow": {
     "slide_type": "fragment"
    }
   },
   "source": [
    "* Recuperación de desastres."
   ]
  },
  {
   "cell_type": "markdown",
   "metadata": {
    "slideshow": {
     "slide_type": "fragment"
    }
   },
   "source": [
    "* Alta disponibilidad."
   ]
  },
  {
   "cell_type": "markdown",
   "metadata": {
    "slideshow": {
     "slide_type": "fragment"
    }
   },
   "source": [
    "* Seguridad informática."
   ]
  },
  {
   "cell_type": "markdown",
   "metadata": {
    "slideshow": {
     "slide_type": "fragment"
    }
   },
   "source": [
    "* DevOps."
   ]
  },
  {
   "cell_type": "markdown",
   "metadata": {
    "slideshow": {
     "slide_type": "fragment"
    }
   },
   "source": [
    "* Cómputo en la nube."
   ]
  },
  {
   "cell_type": "markdown",
   "metadata": {
    "slideshow": {
     "slide_type": "slide"
    }
   },
   "source": [
    "<p style=\"text-align: center\"><a rel=\"license\" href=\"http://creativecommons.org/licenses/by/4.0/\"><img alt=\"Licencia Creative Commons\" style=\"border-width:0\" src=\"https://i.creativecommons.org/l/by/4.0/80x15.png\" /></a><br />Esta obra está bajo una <a rel=\"license\" href=\"http://creativecommons.org/licenses/by/4.0/\">Licencia Creative Commons Atribución 4.0 Internacional</a>.</p>\n",
    "<p style=\"text-align: center\">&copy; José Luis Chiquete Valdivieso. 2019.</p>"
   ]
  }
 ],
 "metadata": {
  "kernelspec": {
   "display_name": "Python 3",
   "language": "python",
   "name": "python3"
  },
  "language_info": {
   "codemirror_mode": {
    "name": "ipython",
    "version": 3
   },
   "file_extension": ".py",
   "mimetype": "text/x-python",
   "name": "python",
   "nbconvert_exporter": "python",
   "pygments_lexer": "ipython3",
   "version": "3.6.6"
  }
 },
 "nbformat": 4,
 "nbformat_minor": 2
}
