{
 "cells": [
  {
   "cell_type": "markdown",
   "metadata": {},
   "source": [
    "[![cloudevel](Imagenes/cloudevel.png)](https://cloudevel.com)"
   ]
  },
  {
   "cell_type": "markdown",
   "metadata": {},
   "source": [
    "# Manejo de directorios y archivos."
   ]
  },
  {
   "cell_type": "markdown",
   "metadata": {},
   "source": [
    "## Operaciones básicas con directorios y archivos.\n",
    "\n",
    "### _pwd_.\n",
    "### _ls_.\n",
    "### _cd_.\n",
    "### _mkdir_.\n",
    "### _touch_.\n",
    "### _cp_.\n",
    "### _rm_.\n",
    "### _mv_.\n",
    "### _ln_.\n",
    "### _stat_.\n",
    "### _type_.\n",
    "### _tree_.\n",
    "\n",
    "## Propietarios y permisos.\n",
    "### _chown_.\n",
    "### _chgroup_.\n",
    "### _chmod_.\n",
    "\n",
    "## Búsqueda de archivos.\n",
    "### _find_.\n",
    "### _xargs_."
   ]
  },
  {
   "cell_type": "markdown",
   "metadata": {},
   "source": [
    "<p style=\"text-align: center\"><a rel=\"license\" href=\"http://creativecommons.org/licenses/by/4.0/\"><img alt=\"Licencia Creative Commons\" style=\"border-width:0\" src=\"https://i.creativecommons.org/l/by/4.0/80x15.png\" /></a><br />Esta obra está bajo una <a rel=\"license\" href=\"http://creativecommons.org/licenses/by/4.0/\">Licencia Creative Commons Atribución 4.0 Internacional</a>.</p>\n",
    "<p style=\"text-align: center\">&copy; José Luis Chiquete Valdivieso. 2019.</p>"
   ]
  }
 ],
 "metadata": {
  "kernelspec": {
   "display_name": "Bash",
   "language": "bash",
   "name": "bash"
  },
  "language_info": {
   "codemirror_mode": "shell",
   "file_extension": ".sh",
   "mimetype": "text/x-sh",
   "name": "bash"
  }
 },
 "nbformat": 4,
 "nbformat_minor": 2
}
