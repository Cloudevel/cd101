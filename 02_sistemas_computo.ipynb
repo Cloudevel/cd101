{
 "cells": [
  {
   "cell_type": "markdown",
   "metadata": {},
   "source": [
    "[![cloudevel](Imagenes/cloudevel.png)](https://cloudevel.com)"
   ]
  },
  {
   "cell_type": "markdown",
   "metadata": {},
   "source": [
    "## Sistemas de cómputo.\n",
    "\n",
    "Los componentes principales de los equipos de cómputo modernos son:\n",
    "\n",
    "* Unidad Central de Procesamiento (CPU por sus siglas en inglés).\n",
    "* Dispositivos de entrada y salida.\n",
    "* Memoria de Acceso Aleatorio (RAM, por sus siglas en inglés).\n",
    "* Dispositivos de entrada/salida.\n",
    "* Sistemas de almacenamiento.\n",
    "\n",
    "## La Unidad central de procesamiento.\n",
    "\n",
    "Es el componente primordial de un equipo de cómputo. Consiste en uno o más \"núcleos\" de procesamiento que reciben instrucciones aritméticas muy básicas, pero que son capaces de realizar miles de millones de cálculos por segundo.\n",
    "\n",
    "El procesador es capaz de realizar operaciones aritméticas con paquete de datos de hasta cierto tamaño en cada ciclo y el tamaño de cada paquete de datos se mide en bits (normalmente son 32 o 64 bits).\n",
    "\n",
    "La unidad de procesamiento contiene un conjunto de instrucciones muy limitadas. A estas instrucciones se les conoce como \"Lenguaje Máquina\" o \"Ensamblador\".\n",
    "\n",
    "## Bus, interfaces y puertos. \n",
    "\n",
    "Siendo que la CPU sólo realiza operaciones con datos, es necesario que exista un flujo de datos. Los datos y las instrucciones (que también son datos) entran y salen de un procesador por medio de un \"bus\", en el cual convergen diversas interfaces de diversos puertos. Algunos puertos e interfaces pueden ser:\n",
    "\n",
    "* Puertos seriales.\n",
    "* Puertos paralelos.\n",
    "* Puertos USB.\n",
    "* Puertos PCI.\n",
    "* Puertos AGP.\n",
    "* Puertos VGA.\n",
    "* Puertos HDMI.\n",
    "* Puertos SCSI.\n",
    "* Interfaz ATA.\n",
    "* Interfaz SATA.\n",
    "\n",
    "\n",
    "## Dispositivos de entrada y salida.\n",
    "\n",
    "### Dispositivos de entrada.\n",
    "\n",
    "Son aquellos que envían información al bus, tal como es el caso de los teclados, los dispositivos apuntadores, las cámaras, las pantallas táctiles y diversos sensores, etc.\n",
    "\n",
    "### Dispositivos de salida.\n",
    "\n",
    "Son aquellos que reciben la información del bus y la despliegan o interpretan, tal como los monitores, las impresoras, los relevadores para servo-motores, etc.\n",
    "\n",
    "### Dispositivos bidireccionales.\n",
    "\n",
    "Son dispositivos que permiten la entrada y salida de datos. Tal es el caso de las interfaces de red, los sistemas de almacenamiento, las tarjetas de audio, etc.\n",
    "\n",
    "Conforme los dispositivos se vuelven más sofisticado, es necesaria una comunicación bidireccional. Por ejemplo, aún cuando la función principal de una impresora es de salida, es necesario que este tipo de dispositivo deba de identificarse, indicar que está listo para imprimir o en su caso, enviar mensajes de error.\n",
    "\n",
    "## Memoria RAM.\n",
    "\n",
    "Es común que a pesar de enorme poder de la CPU, ésta no sea capaz de procesar todos los datos que se le envía o que la información sea requerida posteriormente. Para estos casos es necesario guardar dicha información de forma temporal mientras la CPU está lista para recibirla. La memoria de acceso aleatorio (RAM por las siglas \"Random Access Memory\") es un dispositivo de entrada y salida capaz de almacenar de forma temporal los datos. Este almacenamiento temporal es tan crítico que la interfaz para los módulos de memoria cuentan con su propio bus.\n",
    "\n",
    "La memoria RAM es volátil. Es decir, que cuando el equipo de cómputo es apagado, el contenido almacenado en la memoria deja existir. \n",
    "\n",
    "La capacidad de almacenamiento se mide en bytes (un byte equivale a 8 bits).\n",
    "\n",
    "En el caso de dispositivos pequeños como los Arduino, la memoria RAM es pequeña, en el orden de los Kilobytes (KB). 1KB corresponde a 1024 bytes.\n",
    "\n",
    "En el caso de dispositivos personales como las PCs y las tabletas y los teléfonos inteligentes, la memoria RAM puede alcanzar algunas decenas de Gigabytes (GB). 1 GB corresponde a 1'048,576 bytes.\n",
    "\n",
    "Los servidores pueden tener una capacidad de cientos de GB e incluso llegar hasta varios Terabytes (1,073'741,824 bytes). \n",
    "\n",
    "## Dispositivos y medios de almacenamiento.\n",
    "\n",
    "Mucha de la información que se gestiona en un sistema de cómputo puede ser conservada de manera más permanente mediante el uso de diversos medios de almacenamiento. Antiguamente se utilizaban cintas magnéticas embobinadas que almacenaban unos pocos KB de información. Posteriormente aparecieron los primeros \"discos duros\" de tipo mecánico, los diskettes y más recientemente los discos láser, discos compactos (CD), los DVD, y los discos Blue Ray y las unidades de almacenamiento de estado sólido.\n",
    "\n",
    "### Chips ROM.\n",
    "\n",
    "Existen pequeñas piezas de silicio que contienen circuitos integrados (chips y microchips) y que almacenan cierta cantidad de información la cual está escrita dentro de éstos desde su fabricación y no pueden ser reescritos. A los dispositivos de memoria y almacenamiento no volátiles se les conoce como dispositivos de sólo lectura (ROM por las siglas \"Read Only Memory\").\n",
    "\n",
    "### EEPROM.\n",
    "\n",
    "Los EEPROM (por la siglas \"Electrically Erasable Programmable Read-Only Memory\") son pequeños chips diseñados para contener unas cuantas decenas de KB de código, las cuales no se borrarían aún con el dispositivo apagado. El único modo de escribir en estos chips es mediante impulsos eléctricos. Los EEPROM se utilizan principalmente en dispositivos pequeños que requieren instrucciones muy básicas para operar.\n",
    "\n",
    "### Discos ópticos.\n",
    "\n",
    "Los discos ópticos son piezas circulares cubiertas de un material reflejante cuyas partículas son susceptible de ser afectadas por un rayo láser, de tal forma que estos cambios en la superficie del  disco puedan ser \"leídos\" mediante un haz de luz. La mayoría de los discos ópticos sólo pueden ser escritos una sola vez, por lo que se les conoce como ROM. Existe una variedad de discos ópticos cuya superficie puede ser sobre-escrita unas cuantas veces (RAM). estos discos sólo pueden ser modificados unas cuantas veces en vista de que la superficie se degrada conforme esta es modificada. Algunos de estos medios son los:\n",
    "\n",
    "* Discos láser.\n",
    "* CDs.\n",
    "* DVDs.\n",
    "* Discos Blue Ray.\n",
    "\n",
    "### Discos magnéticos.\n",
    "\n",
    "* **Los discos magnéticos** son piezas circulares recubiertas de un material cuyas partículas pueden ser modificadas en su polaridad mediante la aplicación de magnetismo. Al dispositivo que escribe y lee en los discos se conoce como \"drive\".\n",
    "* **Los discos flexibles** o floppy discs, son discos de material plástico muy ligero que por lo general están protegidos por una cubierta más rígida, los cuales pueden ser accedidos por una ranura. Estos discos son portátiles,intercambiables y se les encuentra en diversos tamaños. Los más comunes son los de 3 y 1/2 pulgadas y 5 y 1/4 pulgadas. Su capacidad de almacenamiento es de hasta 1.4 MB. Fueron muy populares por su facilidad de manejo y bajo costo, pero  ahora son muy escasos y obsoletos.\n",
    "* **Los discos duros** son medios magnéticos que desde un principio fueron diseñados para almacenar grandes cantidades de datos. Los discos duros están alojados permanentemente dentro del drive (HDD por las siglas \"Hard Disk Drive\"), el cual los hace girar a miles de revoluciones por minuto (RPM). Su capacidad varía actualmente de unos cuantos cientos de GB a unos cuantos TB. Los equipos portátiles y de escritorio incluyen normalmente una unidad de disco duro, pero es posible desplegar arreglos compuestos por cientos e incluso miles de unidades.\n",
    "\n",
    "### Dispositivos de memoria no volátil.\n",
    "\n",
    "Conforme la tecnología de almacenamiento de memoria ha ido avanzando, esta se ha hecho cada vez más eficiente, pequeña y económicamente accesible; de tal modo que desde principios del siglo XXI han comenzado a comercializarse dispositivos basados en módulos de memoria que no pierden la información almacenada al ser desconectados.\n",
    "\n",
    "Junto con el auge de los dispositivos móviles como teléfonos inteligentes,cámaras digitales,tabletas, etc. se volvió necesario contar con dispositivos pequeños, intercambiables, de bajo consumo de energía y de bajo costo. Fue entonces que aparecieron las \"memorias USB\", las tarjetas SD, etc. A esta gama de dispositivos se les conoce como Dispositivos de Memoria Flash.  \n",
    "\n",
    "Los Drives de Estado Sólido (SSD por las siglas Solid State Drive) son dispositivos diseñados para sustituir a los HDD. Son unidades de memoria que pueden conectarse a las interfaces que utilizan tradicionalmente los HDD. Los SSD ofrecen muchas ventajas relativas a la velocidad de acceso a la información, pero aún son más caros que los HDD."
   ]
  },
  {
   "cell_type": "markdown",
   "metadata": {},
   "source": [
    "## Virtualización.\n",
    "\n",
    "Actualmentes es posible emular mediante software prácticamente todo tipo de  dispositivo, permitiendo crear máquinas \"virtualizadas\" dentro de un equipo al que se le conoce como huesped (host),el cual por medio de un \"hipervisor\" es capaz de gestionar los recursos emulados y los de cómputo a los que puede acceder cada máquina virtual."
   ]
  },
  {
   "cell_type": "markdown",
   "metadata": {},
   "source": [
    "## Sistemas operativos.\n",
    "\n",
    "Un sistema operativo es el software encargado de acceder y gestionar los recursos (físicos o virtuales) de un equipo de cómputo, de tal forma que permita ejecutar diversas aplicaciones accesibles a los usuarios de dicho sistema.\n",
    "\n",
    "### El kernel.\n",
    "\n",
    "El núcleo de un sistema operativo se conoce como *kernel* y es el componente de software encargado de identificar, acceder y gestionar a los recursos de hardware y de comunicaciones basicas del sistema operativo.\n",
    "\n",
    "#### Espacio del kernel.\n",
    "El kernel cuenta con los privilegios más extensos para acceder a los recursos del sistema operativo. A este entorno se le conoce como \"espacio del kernel\".\n",
    "\n",
    "#### Espacio de usuarios.\n",
    "El entorno en el que se ejecutan el resto de los sistemas, servicios y aplciaciones de sistema operativo se conoce como \"espacio de usuarios\"."
   ]
  },
  {
   "cell_type": "markdown",
   "metadata": {},
   "source": [
    "La siguiente figura representa de forma simplificada los espacios de un sistema operativo.\n",
    "\n",
    "<img src=\"Imagenes/sistema-operativo.png\" width=\"45%\">"
   ]
  },
  {
   "cell_type": "markdown",
   "metadata": {},
   "source": [
    "<p style=\"text-align: center\"><a rel=\"license\" href=\"http://creativecommons.org/licenses/by/4.0/\"><img alt=\"Licencia Creative Commons\" style=\"border-width:0\" src=\"https://i.creativecommons.org/l/by/4.0/80x15.png\" /></a><br />Esta obra está bajo una <a rel=\"license\" href=\"http://creativecommons.org/licenses/by/4.0/\">Licencia Creative Commons Atribución 4.0 Internacional</a>.</p>\n",
    "<p style=\"text-align: center\">&copy; José Luis Chiquete Valdivieso. 2019.</p>"
   ]
  }
 ],
 "metadata": {
  "kernelspec": {
   "display_name": "Bash",
   "language": "bash",
   "name": "bash"
  },
  "language_info": {
   "codemirror_mode": "shell",
   "file_extension": ".sh",
   "mimetype": "text/x-sh",
   "name": "bash"
  }
 },
 "nbformat": 4,
 "nbformat_minor": 2
}
