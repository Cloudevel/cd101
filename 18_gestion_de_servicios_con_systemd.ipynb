{
 "cells": [
  {
   "cell_type": "markdown",
   "metadata": {},
   "source": [
    "[![cloudevel](img/cloudevel.png)](https://cloudevel.com)"
   ]
  },
  {
   "cell_type": "markdown",
   "metadata": {},
   "source": [
    "# Gestión de servicios con ```systemd```.\n",
    "\n",
    "[*Systemd*](https://es.wikipedia.org/wiki/Systemd) es el sistema de inicio del sistema más común en las distribuciones d e*GNU/Linux*. Es el primer proceso que se ejecuta unavez que el *kernel* termina de cargarse correctamente.\n",
    "\n",
    "La labor de los sistemas de inicio como *init* de los sistemas *UNIX* basados en *System V* y *Systemd* es la de iniciar, configurar y gestionar los diversos daemons y procesos que ejecuta in sistema."
   ]
  },
  {
   "cell_type": "markdown",
   "metadata": {},
   "source": [
    "## El directorio ```/lib/systemd/system```.\n",
    "\n",
    "En este directorio se encuentran todos los servicios qiue gestiona *Systemd*."
   ]
  },
  {
   "cell_type": "markdown",
   "metadata": {},
   "source": [
    "* La siguiente celda enlistará el contenido del directorio ```/lib/systemd/system```."
   ]
  },
  {
   "cell_type": "code",
   "execution_count": null,
   "metadata": {},
   "outputs": [],
   "source": [
    "sudo ls /lib/systemd/system"
   ]
  },
  {
   "cell_type": "markdown",
   "metadata": {},
   "source": [
    "## Unidades de *Systemd*.\n",
    "\n",
    "Las unidades son documentos de texto que describen el funcionamiento de diversas tareas gestionadas por *Systemd*. "
   ]
  },
  {
   "cell_type": "markdown",
   "metadata": {},
   "source": [
    "### Los ```targets``` de *Systemd*.\n",
    "\n",
    "Los ```targets``` de *Systemd* son unidades que agrupan una serie de operaciones para alcanzar un estado específico del sistema. Se identifican devido a que tiene la extensión ```.target```."
   ]
  },
  {
   "cell_type": "code",
   "execution_count": null,
   "metadata": {},
   "outputs": [],
   "source": [
    "sudo ls /lib/systemd/system/*.target"
   ]
  },
  {
   "cell_type": "markdown",
   "metadata": {},
   "source": [
    "### Runlevels.\n",
    "\n",
    "Un *runlevel* define la forma en la que el entorno de un sistema *UNIX* o *GNu/Linux* se presenta a los usuarios.\n",
    "\n",
    "* ```0``` Apagado.\n",
    "* ```1``` Modo de rescate. \n",
    "* ```2``` Definido por el usuario.\n",
    "* ```3``` Multi-usuario en modo de texto.\n",
    "* ```4``` Definido por el usuario.\n",
    "* ```5``` Multi-usuario con entorno gráfico.\n",
    "* ```6``` Reinicio del sistema."
   ]
  },
  {
   "cell_type": "markdown",
   "metadata": {},
   "source": [
    "### El comando ```runlevel```.\n",
    "\n",
    "Este comando indica el número del runlevel en el que se encuentra el sistema y si ha sido modificado desde el arranque."
   ]
  },
  {
   "cell_type": "code",
   "execution_count": null,
   "metadata": {},
   "outputs": [],
   "source": [
    "runlevel"
   ]
  },
  {
   "cell_type": "code",
   "execution_count": null,
   "metadata": {},
   "outputs": [],
   "source": [
    "ls -al /lib/systemd/system/runlevel*.target"
   ]
  },
  {
   "cell_type": "markdown",
   "metadata": {},
   "source": [
    "* Las siguientes celdas mostrarán el contenido de ciertos servicios del runlevel ```5```."
   ]
  },
  {
   "cell_type": "code",
   "execution_count": null,
   "metadata": {
    "scrolled": true
   },
   "outputs": [],
   "source": [
    "cat /lib/systemd/system/runlevel5.target"
   ]
  },
  {
   "cell_type": "code",
   "execution_count": null,
   "metadata": {},
   "outputs": [],
   "source": [
    "cat /lib/systemd/system/multi-user.target"
   ]
  },
  {
   "cell_type": "markdown",
   "metadata": {},
   "source": [
    "### Servicios.\n",
    "\n",
    "Los servicios son unidades que permiten habilitar un servicio del sistema. Se identifican por la extensión ```.service```."
   ]
  },
  {
   "cell_type": "code",
   "execution_count": null,
   "metadata": {},
   "outputs": [],
   "source": [
    "ls /lib/systemd/system/*.service"
   ]
  },
  {
   "cell_type": "markdown",
   "metadata": {},
   "source": [
    "* En caso de que esta notebook esté corrriendo desde el servicio de *Jupyter* de una VM proporcionada por Cloudevel <sup>®</sup>, es posible ver la definición del servicio de *Jupyter* ejecutando la siguiente celda."
   ]
  },
  {
   "cell_type": "code",
   "execution_count": null,
   "metadata": {},
   "outputs": [],
   "source": [
    "cat /lib/systemd/system/jupyter.service"
   ]
  },
  {
   "cell_type": "markdown",
   "metadata": {},
   "source": [
    "## Comandos de gestión de servicios.\n",
    "\n",
    "### ```systemctl```.\n",
    "Es el comando de gestión de los servicios de systemd\n",
    "\n",
    "\n",
    "``` \n",
    "systemctl <acción> <servicio>\n",
    "\n",
    "```\n",
    "\n",
    "#### Acciones.\n",
    "\n",
    "* ```enable```\n",
    "* ```disable```\n",
    "* ```start```\n",
    "* ```status```\n",
    "* ```stop```"
   ]
  },
  {
   "cell_type": "code",
   "execution_count": null,
   "metadata": {},
   "outputs": [],
   "source": [
    "sudo systemctl status --no-pager"
   ]
  },
  {
   "cell_type": "code",
   "execution_count": null,
   "metadata": {},
   "outputs": [],
   "source": [
    "systemctl status apache2.service --no-pager"
   ]
  },
  {
   "cell_type": "code",
   "execution_count": null,
   "metadata": {},
   "outputs": [],
   "source": [
    "sudo systemctl stop apache2"
   ]
  },
  {
   "cell_type": "code",
   "execution_count": null,
   "metadata": {},
   "outputs": [],
   "source": [
    "sudo systemctl status apache2 --no-pager"
   ]
  },
  {
   "cell_type": "code",
   "execution_count": null,
   "metadata": {},
   "outputs": [],
   "source": [
    "sudo systemctl start apache2"
   ]
  },
  {
   "cell_type": "code",
   "execution_count": null,
   "metadata": {},
   "outputs": [],
   "source": [
    "sudo systemctl status apache2 --no-pager"
   ]
  },
  {
   "cell_type": "markdown",
   "metadata": {},
   "source": [
    "###  El comando ```service```.\n",
    "\n",
    "El comando *service* es el comando usado por *System V* para la gestión de servicios.\n",
    "\n",
    "Algunas distribuciones de GNU/Linux enmascaran *systemd* y traducen sus sinstrucciones mediante *service*.\n",
    "\n",
    "```\n",
    "service <servicio> <acción>\n",
    "```"
   ]
  },
  {
   "cell_type": "markdown",
   "metadata": {},
   "source": [
    "* La siguiente instrucción deberá ser ejecutada desde una terminal.\n",
    "\n",
    "```\n",
    "sudo service apache2 status\n",
    "```"
   ]
  },
  {
   "cell_type": "markdown",
   "metadata": {
    "collapsed": true
   },
   "source": [
    "<p style=\"text-align: center\"><a rel=\"license\" href=\"http://creativecommons.org/licenses/by/4.0/\"><img alt=\"Licencia Creative Commons\" style=\"border-width:0\" src=\"https://i.creativecommons.org/l/by/4.0/80x15.png\" /></a><br />Esta obra está bajo una <a rel=\"license\" href=\"http://creativecommons.org/licenses/by/4.0/\">Licencia Creative Commons Atribución 4.0 Internacional</a>.</p>\n",
    "<p style=\"text-align: center\">&copy; José Luis Chiquete Valdivieso. 2020.</p>"
   ]
  }
 ],
 "metadata": {
  "kernelspec": {
   "display_name": "Bash",
   "language": "bash",
   "name": "bash"
  },
  "language_info": {
   "codemirror_mode": "shell",
   "file_extension": ".sh",
   "mimetype": "text/x-sh",
   "name": "bash"
  }
 },
 "nbformat": 4,
 "nbformat_minor": 2
}
