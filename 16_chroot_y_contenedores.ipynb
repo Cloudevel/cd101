{
 "cells": [
  {
   "cell_type": "markdown",
   "metadata": {},
   "source": [
    "[![cloudevel](Imagenes/cloudevel.png)](https://cloudevel.com)"
   ]
  },
  {
   "cell_type": "markdown",
   "metadata": {},
   "source": [
    "## Cambio de raíz (chroot) y contenedores.\n",
    "\n",
    "Como se ha discutido previamente, el sistemas de archivos de las plataformas UNIX y Linux son el sistema en si mismo.\n",
    "\n",
    "El comando ```chroot``` permite cambiar la raíz de una terminal a otra ruta dentro del sistema.\n",
    "\n",
    "\n",
    "```\n",
    "chroot <ruta de la nueva raíz> <shell> \n",
    "```"
   ]
  },
  {
   "cell_type": "markdown",
   "metadata": {},
   "source": [
    "## Contenedores.\n",
    "\n",
    "Los contenedores utilizan el concepto de chroot para crear entornos que comparten el kernel, los dispsitivos y algunos procesos del sistema, pero que pertenencen a otra raíz y restringen los permisos de cada contenedor.\n",
    "\n",
    "### Principales herramientas de contenedores.\n",
    "* Jail en \\*BSD.\n",
    "* Chroot en Linux.\n",
    "* [Docker.](http://www.docker.com/)\n",
    "* [Linux Contaniers (LXC/LXD).](https://linuxcontainers.org/)\n",
    "* [OpenVZ.](https://openvz.org/)\n",
    "* [Linux VSever.](http://linux-vserver.org/)\n"
   ]
  },
  {
   "cell_type": "markdown",
   "metadata": {},
   "source": [
    "## Instalación de Docker."
   ]
  },
  {
   "cell_type": "code",
   "execution_count": null,
   "metadata": {},
   "outputs": [],
   "source": [
    "sudo yum check-update"
   ]
  },
  {
   "cell_type": "code",
   "execution_count": null,
   "metadata": {},
   "outputs": [],
   "source": [
    "curl -fsSL https://get.docker.com/ | sh"
   ]
  },
  {
   "cell_type": "code",
   "execution_count": null,
   "metadata": {},
   "outputs": [],
   "source": [
    "sudo systemctl start docker"
   ]
  },
  {
   "cell_type": "code",
   "execution_count": null,
   "metadata": {},
   "outputs": [],
   "source": [
    "sudo systemctl status docker"
   ]
  },
  {
   "cell_type": "markdown",
   "metadata": {},
   "source": [
    "## Instalación de un contenedor con Ubuntu."
   ]
  },
  {
   "cell_type": "markdown",
   "metadata": {},
   "source": [
    "```sudo docker run -it ubuntu```"
   ]
  },
  {
   "cell_type": "markdown",
   "metadata": {
    "collapsed": true
   },
   "source": [
    "<p style=\"text-align: center\"><a rel=\"license\" href=\"http://creativecommons.org/licenses/by/4.0/\"><img alt=\"Licencia Creative Commons\" style=\"border-width:0\" src=\"https://i.creativecommons.org/l/by/4.0/80x15.png\" /></a><br />Esta obra está bajo una <a rel=\"license\" href=\"http://creativecommons.org/licenses/by/4.0/\">Licencia Creative Commons Atribución 4.0 Internacional</a>.</p>\n",
    "<p style=\"text-align: center\">&copy; José Luis Chiquete Valdivieso. 2019.</p>"
   ]
  }
 ],
 "metadata": {
  "kernelspec": {
   "display_name": "Bash",
   "language": "bash",
   "name": "bash"
  },
  "language_info": {
   "codemirror_mode": "shell",
   "file_extension": ".sh",
   "mimetype": "text/x-sh",
   "name": "bash"
  }
 },
 "nbformat": 4,
 "nbformat_minor": 2
}
