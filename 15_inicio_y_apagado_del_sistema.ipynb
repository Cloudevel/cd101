{
 "cells": [
  {
   "cell_type": "markdown",
   "metadata": {},
   "source": [
    "[![cloudevel](img/cloudevel.png)](https://cloudevel.com)"
   ]
  },
  {
   "cell_type": "markdown",
   "metadata": {},
   "source": [
    "# Inicio y apagado de un sistema *GNU/Linux*."
   ]
  },
  {
   "cell_type": "markdown",
   "metadata": {},
   "source": [
    "El proceso de arranque de un sistema de cómputo puede diferir entre dispositivos, sin embargo los componentes de arranque sdon similares en prácticamente todos los casos."
   ]
  },
  {
   "cell_type": "markdown",
   "metadata": {},
   "source": [
    "## Sistemas de arranque o *bootloaders*.\n",
    "\n",
    "Un sistema de arranque es un programa muy simple cuya función es la de cargar los componentes mínimos de un sistema operativo durante el proceso de inicio de un equipo de cómputo.\n",
    "\n",
    "* En el caso de los servidores o las PC de escritorio, los sistemas de arranque son ejecutados por el *BIOS* O LA *UEFI* del equipo\n",
    ".\n",
    "* En el caso de dispositivos con sistemas embebidos, tal como es la *Raspberry Pi*, el sistema de arranque es ejecutado de inmediato."
   ]
  },
  {
   "cell_type": "markdown",
   "metadata": {},
   "source": [
    "## *BIOS*.\n",
    "\n",
    "El *sistema de E/S básico* (*BIOS*) es un componente de software que en el caso de los sistemas de escritorio y servidores se encuentra embebido en un chip de la [*placa madre*](https://es.wikipedia.org/wiki/Placa_base) o *motherboard* de dichos equipos. Su función es la de configurar los recursos de hardware a bajo nivel, de tal forma que los sitemas operativos puedan detectarlos y utulizarlos al arrancar. Del mismo modo, permite configurar los y selccionar los dispositivos de arranque del sistema."
   ]
  },
  {
   "cell_type": "markdown",
   "metadata": {},
   "source": [
    "## *UEFI*.\n",
    "\n",
    "La *interfaz unificada de firmware extendible* ([*UEFI*](https://es.wikipedia.org/wiki/Unified_Extensible_Firmware_Interface)) es una especificacion que prentende sustituir al *BIOS*, la cual permite relizar operaciones de arranque de forma más segura. "
   ]
  },
  {
   "cell_type": "markdown",
   "metadata": {},
   "source": [
    "## Selección del sistema de arranque.\n",
    "\n",
    "Los sistemas de arranque generalmente se encuentran en un disco duro del sistema, pero existen ciertas configuraciones en las que es posible cargar un sistema de arranque directamente mendiante la interfaz de red utulizando la especificación [PXE](https://en.wikipedia.org/wiki/Preboot_Execution_Environment)."
   ]
  },
  {
   "cell_type": "markdown",
   "metadata": {},
   "source": [
    "## *MBR*.\n",
    "\n",
    "El \"Registro Maestro de Arranque\" o *MBR* corresponde al primer sector de un disco, el cual tiene un tamaño de 512 bytes.\n",
    "\n",
    "Por lo general, el *BIOS/UEFI* de una computadora consulta al *MBR* para buscar información de arranque del sistema. En caso de no encontrar un gestor de arranque (*Bootloader*) en el *MBR* de alguno de los dispositivos, lo buscará en las particiones.\n",
    "\n",
    "## Particiones *booteables*.\n",
    "\n",
    "Una partición arrancable o *booteable* es un partición de disco en la cual se puede añadir un *bootloader*. Esta configuración se puede realizar al momento de configurar a la partición."
   ]
  },
  {
   "cell_type": "markdown",
   "metadata": {},
   "source": [
    "## Bootloaders para Linux.\n",
    "\n",
    "* [*ISOLINUX*](https://wiki.syslinux.org/wiki/index.php?title=ISOLINUX), el cual es un sistema de arraque para CD-ROM.\n",
    "* [*U-Boot*](https://www.denx.de/wiki/U-Boot), es un  bootloader universal utilizado primordialmente para sistemas embebidos.\n",
    "* [*GRUB*](https://www.gnu.org/software/grub/) es el bootloader más uitilizado actualmente por sistemas *GNU/Linux*.\n",
    "* [*LILO*](https://en.wikipedia.org/wiki/LILO_(boot_loader) fue el bootloader más utilizado en distribuciones antiguas de *GNU/Linux*."
   ]
  },
  {
   "cell_type": "markdown",
   "metadata": {},
   "source": [
    "## Elementos de arranque.\n",
    "\n",
    "* La imagen de inicio, la cual contiene los componentes mínimos del kernel para que este arranque y por lo general se llama ```initrd.img-<versión del kernel>```. Esta imagen por lo general es montada en la memoria *RAM* en una partición de tipo ```initfsram```.\n",
    "* La imagen del *kernel*, que por lo general tiene el nombre ```vmlinuz-<versión del kernel>```.\n",
    "* El sistema de inicio."
   ]
  },
  {
   "cell_type": "markdown",
   "metadata": {},
   "source": [
    "## El directorio ```/boot```.\n",
    "\n",
    "Este directorio es el que contiene tanto al ejecutable del *bootloader* como a las imágenes y discos RAM que pueden ejecutarse al iniciar."
   ]
  },
  {
   "cell_type": "markdown",
   "metadata": {},
   "source": [
    "* La siguiente celda mostrará el contenido del directorio ```/boot```."
   ]
  },
  {
   "cell_type": "code",
   "execution_count": 10,
   "metadata": {
    "scrolled": false
   },
   "outputs": [
    {
     "name": "stdout",
     "output_type": "stream",
     "text": [
      "System.map-4.15.0-91-generic  initrd.img-4.15.0-91-generic\n",
      "config-4.15.0-91-generic      lost+found\n",
      "grub                          vmlinuz-4.15.0-91-generic\n"
     ]
    }
   ],
   "source": [
    "ls /boot"
   ]
  },
  {
   "cell_type": "markdown",
   "metadata": {},
   "source": [
    "La siguiente celda mostrará la estructura de archivos del directorio ```/boot```."
   ]
  },
  {
   "cell_type": "markdown",
   "metadata": {},
   "source": [
    "tree /boot"
   ]
  },
  {
   "cell_type": "markdown",
   "metadata": {},
   "source": [
    "## El directorio ```/etc/grub.d```.\n",
    "\n",
    "Este directorio es el que contiene los archivos de configuración de *GRUB*."
   ]
  },
  {
   "cell_type": "code",
   "execution_count": null,
   "metadata": {
    "scrolled": true
   },
   "outputs": [],
   "source": [
    "sudo tree /etc/grub.d"
   ]
  },
  {
   "cell_type": "markdown",
   "metadata": {},
   "source": [
    "## Sistemas de inicio.\n",
    "\n",
    "El primer proceso (```PID``` igual a 1) es el sistema de inicio. Existen dos sistemas principales.\n",
    "\n",
    "* [System V](https://es.wikipedia.org/wiki/System_V).\n",
    "* [systemd](https://www.freedesktop.org/wiki/Software/systemd/).\n",
    "\n",
    "Actualmente los principales desarrolladores de sistemas *GNU/Linux* han optado por ```systemd```, mientras que la mayoría de los sistema *UNIX* aún utilizan *System V*."
   ]
  },
  {
   "cell_type": "markdown",
   "metadata": {},
   "source": [
    "## El comando ```dmesg```."
   ]
  },
  {
   "cell_type": "markdown",
   "metadata": {},
   "source": [
    "* Los sistemas *GNU/Linux* y *UNIX* guardan una bitácora de los eventos a nivel de *kernel* desde el momento de su inicio, la cual puede ser consultada con el comando ```dmesg```."
   ]
  },
  {
   "cell_type": "code",
   "execution_count": null,
   "metadata": {
    "scrolled": true
   },
   "outputs": [],
   "source": [
    "dmesg | grep -i cpu"
   ]
  },
  {
   "cell_type": "markdown",
   "metadata": {},
   "source": [
    "## Apagado de un sistema.\n",
    "\n",
    "El comando ```shutdown``` permite enviar la señal de apagado de un sistema.\n",
    "\n",
    "\n",
    "```\n",
    "shutdown <opciones> \n",
    "```"
   ]
  },
  {
   "cell_type": "markdown",
   "metadata": {},
   "source": [
    "### Opciones principales de ```shutdown```.\n",
    "\n",
    "* ```-h``` indica que el sistema debe de a apagarse. \n",
    "* ```-r``` indica que el sistema debe de reiniciarse.\n",
    "* ```+<t>``` indica el tiempo ```<t>``` en minutos en el que el sistema se detendrá.\n",
    "* ```now``` indica que el sistema debe de apagarse de inmediato.\n",
    "* ```-c``` desactiva un cierre programado."
   ]
  },
  {
   "cell_type": "code",
   "execution_count": null,
   "metadata": {
    "scrolled": true
   },
   "outputs": [],
   "source": [
    "man shutdown"
   ]
  },
  {
   "cell_type": "markdown",
   "metadata": {},
   "source": [
    "### El comando ```reboot```.\n",
    "\n",
    "Este comando le indica al sistema que debe de reinicarse.\n",
    "\n",
    "```\n",
    "reboot <opciones>\n",
    "```"
   ]
  },
  {
   "cell_type": "markdown",
   "metadata": {},
   "source": [
    "#### La *man page* de ```reboot```."
   ]
  },
  {
   "cell_type": "code",
   "execution_count": null,
   "metadata": {
    "scrolled": true
   },
   "outputs": [],
   "source": [
    "man reboot"
   ]
  },
  {
   "cell_type": "markdown",
   "metadata": {},
   "source": [
    "<p style=\"text-align: center\"><a rel=\"license\" href=\"http://creativecommons.org/licenses/by/4.0/\"><img alt=\"Licencia Creative Commons\" style=\"border-width:0\" src=\"https://i.creativecommons.org/l/by/4.0/80x15.png\" /></a><br />Esta obra está bajo una <a rel=\"license\" href=\"http://creativecommons.org/licenses/by/4.0/\">Licencia Creative Commons Atribución 4.0 Internacional</a>.</p>\n",
    "<p style=\"text-align: center\">&copy; José Luis Chiquete Valdivieso. 2020.</p>"
   ]
  }
 ],
 "metadata": {
  "kernelspec": {
   "display_name": "Bash",
   "language": "bash",
   "name": "bash"
  },
  "language_info": {
   "codemirror_mode": "shell",
   "file_extension": ".sh",
   "mimetype": "text/x-sh",
   "name": "bash"
  }
 },
 "nbformat": 4,
 "nbformat_minor": 2
}
