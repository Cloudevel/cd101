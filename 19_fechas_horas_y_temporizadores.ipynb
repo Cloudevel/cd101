{
 "cells": [
  {
   "cell_type": "markdown",
   "metadata": {},
   "source": [
    "[![cloudevel](img/cloudevel.png)](https://cloudevel.com)"
   ]
  },
  {
   "cell_type": "markdown",
   "metadata": {},
   "source": [
    "# Fechas y temporizadores."
   ]
  },
  {
   "cell_type": "markdown",
   "metadata": {},
   "source": [
    "## Preliminares."
   ]
  },
  {
   "cell_type": "markdown",
   "metadata": {},
   "source": [
    "### El contador de tiempo de *UNIX* y *GNU/Linux*."
   ]
  },
  {
   "cell_type": "markdown",
   "metadata": {},
   "source": [
    "### Zonas horarias.\n",
    "\n",
    "https://en.wikipedia.org/wiki/List_of_tz_database_time_zones"
   ]
  },
  {
   "cell_type": "markdown",
   "metadata": {},
   "source": [
    "### El protocolo *NTP*."
   ]
  },
  {
   "cell_type": "markdown",
   "metadata": {},
   "source": [
    "## El comando ```date```.\n",
    "\n",
    "Este comando permite desplegar i fijar la hora de un sistema en caso de que se cuenten con los permisos."
   ]
  },
  {
   "cell_type": "markdown",
   "metadata": {},
   "source": [
    "### Despliegue de la fecha y hora.\n",
    "\n",
    "```\n",
    "date +%<formato 1><caracter 1>%<formato 2><caracter 2>...<caracter m>%formato<n>\n",
    "```"
   ]
  },
  {
   "cell_type": "markdown",
   "metadata": {},
   "source": [
    "#### Formatos:\n",
    "\n",
    "* ```%D``` despliega la fecha en formato *MM/DD/AA*.\n",
    "* ```%T``` despliega la hora en formato *HH:MM:SS*.\n",
    "* ```%Z``` despliega la zona horaria.\n",
    "* ```*z``` despliega la diferencia de hora con respecto al *GMT* .\n"
   ]
  },
  {
   "cell_type": "markdown",
   "metadata": {},
   "source": [
    "**Ejemplos:**"
   ]
  },
  {
   "cell_type": "code",
   "execution_count": null,
   "metadata": {},
   "outputs": [],
   "source": [
    "date"
   ]
  },
  {
   "cell_type": "code",
   "execution_count": 23,
   "metadata": {},
   "outputs": [
    {
     "name": "stdout",
     "output_type": "stream",
     "text": [
      "13:45:09UTC\n"
     ]
    }
   ],
   "source": [
    "date +%T"
   ]
  },
  {
   "cell_type": "code",
   "execution_count": 22,
   "metadata": {},
   "outputs": [
    {
     "name": "stdout",
     "output_type": "stream",
     "text": [
      "06/08/20\n"
     ]
    }
   ],
   "source": [
    "date +%D"
   ]
  },
  {
   "cell_type": "code",
   "execution_count": 14,
   "metadata": {},
   "outputs": [
    {
     "name": "stdout",
     "output_type": "stream",
     "text": [
      "1591567040\n"
     ]
    }
   ],
   "source": [
    "date +%s"
   ]
  },
  {
   "cell_type": "code",
   "execution_count": 20,
   "metadata": {},
   "outputs": [
    {
     "name": "stdout",
     "output_type": "stream",
     "text": [
      "06/07/20_21:58:08-08\n"
     ]
    }
   ],
   "source": [
    "date +%D_%T-%S"
   ]
  },
  {
   "cell_type": "code",
   "execution_count": 26,
   "metadata": {},
   "outputs": [
    {
     "name": "stdout",
     "output_type": "stream",
     "text": [
      "06/08/20_13:46:41-41:UTC:+0000\n"
     ]
    }
   ],
   "source": [
    "date +%D_%T-%S:%Z:%z"
   ]
  },
  {
   "cell_type": "code",
   "execution_count": null,
   "metadata": {},
   "outputs": [],
   "source": [
    "TZ='America/Los_Angeles' date"
   ]
  },
  {
   "cell_type": "code",
   "execution_count": 9,
   "metadata": {},
   "outputs": [
    {
     "name": "stdout",
     "output_type": "stream",
     "text": [
      "Sun Jun  7 20:34:24 UTC 2020\n"
     ]
    }
   ],
   "source": [
    "date -r LICENSE"
   ]
  },
  {
   "cell_type": "code",
   "execution_count": 10,
   "metadata": {},
   "outputs": [
    {
     "name": "stdout",
     "output_type": "stream",
     "text": [
      "Mon Apr 20 11:54:07 UTC 2020\n"
     ]
    }
   ],
   "source": [
    "date --date='@1587383647'"
   ]
  },
  {
   "cell_type": "markdown",
   "metadata": {},
   "source": [
    "### La *manpage* de ```date```."
   ]
  },
  {
   "cell_type": "code",
   "execution_count": null,
   "metadata": {
    "scrolled": false
   },
   "outputs": [],
   "source": [
    "man date"
   ]
  },
  {
   "cell_type": "markdown",
   "metadata": {},
   "source": [
    "## El comando ```timedatectl```."
   ]
  },
  {
   "cell_type": "code",
   "execution_count": 30,
   "metadata": {
    "scrolled": true
   },
   "outputs": [
    {
     "name": "stdout",
     "output_type": "stream",
     "text": [
      "                      Local time: Mon 2020-06-08 13:49:17 UTC\n",
      "                  Universal time: Mon 2020-06-08 13:49:17 UTC\n",
      "                        RTC time: Mon 2020-06-08 13:49:04\n",
      "                       Time zone: Etc/UTC (UTC, +0000)\n",
      "       System clock synchronized: yes\n",
      "systemd-timesyncd.service active: yes\n",
      "                 RTC in local TZ: no\n"
     ]
    }
   ],
   "source": [
    "timedatectl"
   ]
  },
  {
   "cell_type": "code",
   "execution_count": 31,
   "metadata": {},
   "outputs": [
    {
     "name": "stdout",
     "output_type": "stream",
     "text": [
      "TIMEDATECTL(1)                    timedatectl                   TIMEDATECTL(1)\n",
      "\n",
      "NAME\n",
      "       timedatectl - Control the system time and date\n",
      "\n",
      "SYNOPSIS\n",
      "       timedatectl [OPTIONS...] {COMMAND}\n",
      "\n",
      "DESCRIPTION\n",
      "       timedatectl may be used to query and change the system clock and its\n",
      "       settings.\n",
      "\n",
      "       Use systemd-firstboot(1) to initialize the system time zone for mounted\n",
      "       (but not booted) system images.\n",
      "\n",
      "OPTIONS\n",
      "       The following options are understood:\n",
      "\n",
      "       --no-ask-password\n",
      "           Do not query the user for authentication for privileged operations.\n",
      "\n",
      "       --adjust-system-clock\n",
      "           If set-local-rtc is invoked and this option is passed, the system\n",
      "           clock is synchronized from the RTC again, taking the new setting\n",
      "           into account. Otherwise, the RTC is synchronized from the system\n",
      "           clock.\n",
      "\n",
      "       -H, --host=\n",
      "           Execute the operation remotely. Specify a hostname, or a username\n",
      "           and hostname separated by \"@\", to connect to. The hostname may\n",
      "           optionally be suffixed by a container name, separated by \":\", which\n",
      "           connects directly to a specific container on the specified host.\n",
      "           This will use SSH to talk to the remote machine manager instance.\n",
      "           Container names may be enumerated with machinectl -H HOST.\n",
      "\n",
      "       -M, --machine=\n",
      "           Execute operation on a local container. Specify a container name to\n",
      "           connect to.\n",
      "\n",
      "       -h, --help\n",
      "           Print a short help text and exit.\n",
      "\n",
      "       --version\n",
      "           Print a short version string and exit.\n",
      "\n",
      "       --no-pager\n",
      "           Do not pipe output into a pager.\n",
      "\n",
      "       The following commands are understood:\n",
      "\n",
      "       status\n",
      "           Show current settings of the system clock and RTC, including\n",
      "           whether network time synchronization through\n",
      "           systemd-timesyncd.service is active. Even if it is inactive, a\n",
      "           different service might still synchronize the clock.\n",
      "\n",
      "       set-time [TIME]\n",
      "           Set the system clock to the specified time. This will also update\n",
      "           the RTC time accordingly. The time may be specified in the format\n",
      "           \"2012-10-30 18:17:16\".\n",
      "\n",
      "       set-timezone [TIMEZONE]\n",
      "           Set the system time zone to the specified value. Available\n",
      "           timezones can be listed with list-timezones. If the RTC is\n",
      "           configured to be in the local time, this will also update the RTC\n",
      "           time. This call will alter the /etc/localtime symlink. See\n",
      "           localtime(5) for more information.\n",
      "\n",
      "       list-timezones\n",
      "           List available time zones, one per line. Entries from the list can\n",
      "           be set as the system timezone with set-timezone.\n",
      "\n",
      "       set-local-rtc [BOOL]\n",
      "           Takes a boolean argument. If \"0\", the system is configured to\n",
      "           maintain the RTC in universal time. If \"1\", it will maintain the\n",
      "           RTC in local time instead. Note that maintaining the RTC in the\n",
      "           local timezone is not fully supported and will create various\n",
      "           problems with time zone changes and daylight saving adjustments. If\n",
      "           at all possible, keep the RTC in UTC mode. Note that invoking this\n",
      "           will also synchronize the RTC from the system clock, unless\n",
      "           --adjust-system-clock is passed (see above). This command will\n",
      "           change the 3rd line of /etc/adjtime, as documented in hwclock(8).\n",
      "\n",
      "       set-ntp [BOOL]\n",
      "           Takes a boolean argument. Controls whether network time\n",
      "           synchronization is active and enabled (if available). This enables\n",
      "           and starts, or disables and stops the systemd-timesyncd.service\n",
      "           unit. It does not affect the state of any other, unrelated network\n",
      "           time synchronization services that might be installed on the\n",
      "           system. This command is hence mostly equivalent to: systemctl\n",
      "           enable --now systemd-timesyncd.service and systemctl disable --now\n",
      "           systemd-timesyncd.service, but is protected by a different access\n",
      "           policy.\n",
      "\n",
      "           Note that even if time synchronization is turned off with this\n",
      "           command, another unrelated system service might still synchronize\n",
      "           the clock with the network. Also note that, strictly speaking,\n",
      "           systemd-timesyncd.service does more than just network time\n",
      "           synchronization, as it ensures a monotonic clock on systems without\n",
      "           RTC even if no network is available. See systemd-\n",
      "           timesyncd.service(8) for details about this.\n",
      "\n",
      "EXIT STATUS\n",
      "       On success, 0 is returned, a non-zero failure code otherwise.\n",
      "\n",
      "ENVIRONMENT\n",
      "       $SYSTEMD_PAGER\n",
      "           Pager to use when --no-pager is not given; overrides $PAGER. If\n",
      "           neither $SYSTEMD_PAGER nor $PAGER are set, a set of well-known\n",
      "           pager implementations are tried in turn, including less(1) and\n",
      "           more(1), until one is found. If no pager implementation is\n",
      "           discovered no pager is invoked. Setting this environment variable\n",
      "           to an empty string or the value \"cat\" is equivalent to passing\n",
      "           --no-pager.\n",
      "\n",
      "       $SYSTEMD_LESS\n",
      "           Override the options passed to less (by default \"FRSXMK\").\n",
      "\n",
      "       $SYSTEMD_LESSCHARSET\n",
      "           Override the charset passed to less (by default \"utf-8\", if the\n",
      "           invoking terminal is determined to be UTF-8 compatible).\n",
      "\n",
      "EXAMPLES\n",
      "       Show current settings:\n",
      "\n",
      "           $ timedatectl\n",
      "                                 Local time: Thu 2017-09-21 16:08:56 CEST\n",
      "                             Universal time: Thu 2017-09-21 14:08:56 UTC\n",
      "                                   RTC time: Thu 2017-09-21 14:08:56\n",
      "                                  Time zone: Europe/Warsaw (CEST, +0200)\n",
      "                  System clock synchronized: yes\n",
      "           systemd-timesyncd.service active: yes\n",
      "                            RTC in local TZ: no\n",
      "\n",
      "       Enable network time synchronization:\n",
      "\n",
      "           $ timedatectl set-ntp true\n",
      "           ==== AUTHENTICATING FOR org.freedesktop.timedate1.set-ntp ===\n",
      "           Authentication is required to control whether network time synchronization shall be enabled.\n",
      "           Authenticating as: user\n",
      "           Password: ********\n",
      "           ==== AUTHENTICATION COMPLETE ===\n",
      "\n",
      "           $ systemctl status systemd-timesyncd.service\n",
      "           ● systemd-timesyncd.service - Network Time Synchronization\n",
      "              Loaded: loaded (/lib/systemd/system/systemd-timesyncd.service; enabled)\n",
      "              Active: active (running) since Mo 2015-03-30 14:20:38 CEST; 5s ago\n",
      "                Docs: man:systemd-timesyncd.service(8)\n",
      "            Main PID: 595 (systemd-timesyn)\n",
      "              Status: \"Using Time Server 216.239.38.15:123 (time4.google.com).\"\n",
      "              CGroup: /system.slice/systemd-timesyncd.service\n",
      "                      └─595 /lib/systemd/systemd-timesyncd\n",
      "           ...\n",
      "\n",
      "SEE ALSO\n",
      "       systemd(1), hwclock(8), date(1), localtime(5), systemctl(1), systemd-\n",
      "       timedated.service(8), systemd-timesyncd.service(8), systemd-\n",
      "       firstboot(1)\n",
      "\n",
      "systemd 237                                                     TIMEDATECTL(1)\n"
     ]
    }
   ],
   "source": [
    "man timedatectl"
   ]
  },
  {
   "cell_type": "markdown",
   "metadata": {},
   "source": [
    "## El comando ```at```."
   ]
  },
  {
   "cell_type": "code",
   "execution_count": 33,
   "metadata": {},
   "outputs": [
    {
     "name": "stdout",
     "output_type": "stream",
     "text": [
      "● atd.service - Deferred execution scheduler\n",
      "   Loaded: loaded (/lib/systemd/system/atd.service; enabled; vendor preset: enabled)\n",
      "   Active: active (running) since Sun 2020-06-07 20:26:54 UTC; 17h ago\n",
      "     Docs: man:atd(8)\n",
      " Main PID: 994 (atd)\n",
      "    Tasks: 1 (limit: 4915)\n",
      "   CGroup: /system.slice/atd.service\n",
      "           └─994 /usr/sbin/atd -f\n",
      "\n",
      "Jun 07 20:26:54 cloudevel systemd[1]: Started Deferred execution scheduler.\n"
     ]
    }
   ],
   "source": [
    "systemctl status atd --no-pager"
   ]
  },
  {
   "cell_type": "code",
   "execution_count": 32,
   "metadata": {},
   "outputs": [
    {
     "name": "stdout",
     "output_type": "stream",
     "text": [
      "AT(1)                       General Commands Manual                      AT(1)\n",
      "\n",
      "NAME\n",
      "       at,  batch,  atq, atrm - queue, examine or delete jobs for later execu‐\n",
      "       tion\n",
      "\n",
      "SYNOPSIS\n",
      "       at [-V] [-q queue] [-f file] [-mMlv] timespec...\n",
      "       at [-V] [-q queue] [-f file] [-mMkv] [-t time]\n",
      "       at -c job [job...]\n",
      "       atq [-V] [-q queue]\n",
      "       at [-rd] job [job...]\n",
      "       atrm [-V] job [job...]\n",
      "       batch\n",
      "       at -b\n",
      "\n",
      "DESCRIPTION\n",
      "       at and batch read commands from standard  input  or  a  specified  file\n",
      "       which are to be executed at a later time, using /bin/sh.\n",
      "\n",
      "       at      executes commands at a specified time.\n",
      "\n",
      "       atq     lists  the  user's  pending  jobs, unless the user is the supe‐\n",
      "               ruser; in that case, everybody's jobs are listed.   The  format\n",
      "               of  the  output  lines (one for each job) is: Job number, date,\n",
      "               hour, queue, and username.\n",
      "\n",
      "       atrm    deletes jobs, identified by their job number.\n",
      "\n",
      "       batch   executes commands when system  load  levels  permit;  in  other\n",
      "               words,  when  the  load  average  drops below 1.5, or the value\n",
      "               specified in the invocation of atd.\n",
      "\n",
      "       At allows fairly complex time  specifications,  extending  the  POSIX.2\n",
      "       standard.   It  accepts  times of the form HH:MM to run a job at a spe‐\n",
      "       cific time of day.  (If that time is already  past,  the  next  day  is\n",
      "       assumed.)   You  may  also specify midnight, noon, or teatime (4pm) and\n",
      "       you can have a time-of-day suffixed with AM or PM for  running  in  the\n",
      "       morning or the evening.  You can also say what day the job will be run,\n",
      "       by giving a date in the form month-name day with an optional  year,  or\n",
      "       giving  a  date  of  the form MMDD[CC]YY, MM/DD/[CC]YY, DD.MM.[CC]YY or\n",
      "       [CC]YY-MM-DD.  The specification of a date must follow  the  specifica‐\n",
      "       tion  of  the  time  of  day.  You can also give times like now + count\n",
      "       time-units, where the time-units can be minutes, hours, days, or  weeks\n",
      "       and  you  can  tell  at to run the job today by suffixing the time with\n",
      "       today and to run the job tomorrow by suffixing the time with tomorrow.\n",
      "\n",
      "       For example, to run a job at 4pm three days from now, you would  do  at\n",
      "       4pm  + 3 days, to run a job at 10:00am on July 31, you would do at 10am\n",
      "       Jul 31 and to run a job at 1am tomorrow, you would do at 1am tomorrow.\n",
      "\n",
      "       If you specify a job to absolutely run at a specific time and  date  in\n",
      "       the  past, the job will run as soon as possible.  For example, if it is\n",
      "       8pm and you do a at 6pm today, it will run more likely at 8:05pm.\n",
      "\n",
      "       The  definition  of  the   time   specification   can   be   found   in\n",
      "       /usr/share/doc/at/timespec.\n",
      "\n",
      "       For  both  at  and  batch, commands are read from standard input or the\n",
      "       file specified with the -f option and executed.  The working directory,\n",
      "       the environment (except for the variables BASH_VERSINFO, DISPLAY, EUID,\n",
      "       GROUPS, SHELLOPTS, TERM, UID, and _) and the umask  are  retained  from\n",
      "       the time of invocation.\n",
      "\n",
      "       As  at  is currently implemented as a setuid program, other environment\n",
      "       variables (e.g.  LD_LIBRARY_PATH or LD_PRELOAD) are also not  exported.\n",
      "       This  may  change  in the future.  As a workaround, set these variables\n",
      "       explicitly in your job.\n",
      "\n",
      "       An at - or batch - command invoked from a su(1) shell will  retain  the\n",
      "       current  userid.   The  user will be mailed standard error and standard\n",
      "       output from his commands, if any.  Mail will be sent using the  command\n",
      "       /usr/sbin/sendmail.  If at is executed from a su(1) shell, the owner of\n",
      "       the login shell will receive the mail.\n",
      "\n",
      "       The superuser may use these commands in any  case.   For  other  users,\n",
      "       permission  to  use  at  is  determined  by the files /etc/at.allow and\n",
      "       /etc/at.deny.  See at.allow(5) for details.\n",
      "\n",
      "OPTIONS\n",
      "       -V      prints the version number to standard error and  exit  success‐\n",
      "               fully.\n",
      "\n",
      "       -q queue\n",
      "               uses  the  specified  queue.  A queue designation consists of a\n",
      "               single letter; valid queue designations range from a to z and A\n",
      "               to  Z.   The  a queue is the default for at and the b queue for\n",
      "               batch.  Queues with higher letters run with increased niceness.\n",
      "               The  special queue \"=\" is reserved for jobs which are currently\n",
      "               running.\n",
      "\n",
      "       If a job is submitted to a queue designated with an  uppercase  letter,\n",
      "       the  job is treated as if it were submitted to batch at the time of the\n",
      "       job.  Once the time is reached, the batch processing rules with respect\n",
      "       to  load average apply.  If atq is given a specific queue, it will only\n",
      "       show jobs pending in that queue.\n",
      "\n",
      "       -m      Send mail to the user when the job has completed even if  there\n",
      "               was no output.\n",
      "\n",
      "       -M      Never send mail to the user.\n",
      "\n",
      "       -f file Reads the job from file rather than standard input.\n",
      "\n",
      "       -t time run the job at time, given in the format [[CC]YY]MMDDhhmm[.ss]\n",
      "\n",
      "       -l      Is an alias for atq.\n",
      "\n",
      "       -r      Is an alias for atrm.\n",
      "\n",
      "       -d      Is an alias for atrm.\n",
      "\n",
      "       -b      is an alias for batch.\n",
      "\n",
      "       -v      Shows the time the job will be executed before reading the job.\n",
      "\n",
      "       Times displayed will be in the format \"Thu Feb 20 14:50:00 1997\".\n",
      "\n",
      "       -c     cats the jobs listed on the command line to standard output.\n",
      "\n",
      "FILES\n",
      "       /var/spool/cron/atjobs\n",
      "       /var/spool/cron/atspool\n",
      "       /proc/loadavg\n",
      "       /var/run/utmp\n",
      "       /etc/at.allow\n",
      "       /etc/at.deny\n",
      "\n",
      "SEE ALSO\n",
      "       at.allow(5), at.deny(5), atd(8), cron(1), nice(1), sh(1), umask(2).\n",
      "\n",
      "BUGS\n",
      "       The  correct  operation of batch for Linux depends on the presence of a\n",
      "       proc- type directory mounted on /proc.\n",
      "\n",
      "       If the file /var/run/utmp is not available or corrupted, or if the user\n",
      "       is  not  logged  on  at the time at is invoked, the mail is sent to the\n",
      "       userid found in the environment variable LOGNAME.  If that is undefined\n",
      "       or empty, the current userid is assumed.\n",
      "\n",
      "       At  and  batch as presently implemented are not suitable when users are\n",
      "       competing for resources.  If this is the case for your site, you  might\n",
      "       want to consider another batch system, such as nqs.\n",
      "\n",
      "AUTHOR\n",
      "       At was mostly written by Thomas Koenig, ig25@rz.uni-karlsruhe.de.\n",
      "\n",
      "                                  2009-11-14                             AT(1)\n"
     ]
    }
   ],
   "source": [
    "man at now"
   ]
  },
  {
   "cell_type": "markdown",
   "metadata": {},
   "source": [
    "## Temporizadores.\n",
    "\n",
    "Un temporizador (scheduler) en la tradición de UNIX y GNU/Linux es un daemon que ejecuta tareas preestablecidas en intervalos de tiempo definidos.\n",
    "\n",
    "El uso de los temporizadores permite realizar diversas acciones repetitivas sin la necesidad de ser ejecutadas manualmente.\n",
    "\n",
    "Aún cuando existen varios temporizadores para UNIX y GNU/Linux, el más común es ```cron```."
   ]
  },
  {
   "cell_type": "code",
   "execution_count": null,
   "metadata": {},
   "outputs": [],
   "source": []
  },
  {
   "cell_type": "code",
   "execution_count": null,
   "metadata": {},
   "outputs": [],
   "source": []
  },
  {
   "cell_type": "markdown",
   "metadata": {},
   "source": [
    "## El daemon  ```crond```.\n",
    "\n",
    "Los temporizadores están ligados a un daemon el cual se encarga de ejecutar los comandos indicados a la hora definida."
   ]
  },
  {
   "cell_type": "markdown",
   "metadata": {},
   "source": [
    "**Ejemplo:**\n",
    "\n",
    "En el caso de es que esta notebook sea ejecutada desde la máquina virtual proporcionada por Cloudevel<sup>®</sup>, es posible conocer el estado del servicio mediante la siguiente instrucción."
   ]
  },
  {
   "cell_type": "code",
   "execution_count": 1,
   "metadata": {},
   "outputs": [
    {
     "name": "stdout",
     "output_type": "stream",
     "text": [
      "\u001b[0;1;32m●\u001b[0m cron.service - Regular background program processing daemon\n",
      "   Loaded: loaded (/lib/systemd/system/cron.service; enabled; vendor preset: enabled)\n",
      "   Active: \u001b[0;1;32mactive (running)\u001b[0m since Sun 2020-06-07 20:26:55 UTC; 35min ago\n",
      "     Docs: man:cron(8)\n",
      " Main PID: 1062 (cron)\n",
      "    Tasks: 1 (limit: 4915)\n",
      "   CGroup: /system.slice/cron.service\n",
      "           └─1062 /usr/sbin/cron -f\n",
      "\n",
      "Jun 07 20:26:55 cloudevel systemd[1]: Started Regular background program pr…mon.\n",
      "Jun 07 20:26:55 cloudevel cron[1062]: (CRON) INFO (pidfile fd = 3)\n",
      "Jun 07 20:26:56 cloudevel cron[1062]: (CRON) INFO (Running @reboot jobs)\n",
      "Hint: Some lines were ellipsized, use -l to show in full.\n"
     ]
    }
   ],
   "source": [
    "sudo systemctl status cron --no-pager"
   ]
  },
  {
   "cell_type": "markdown",
   "metadata": {},
   "source": [
    "### Los archivos *crontab*.\n",
    "\n",
    "Las tablas de cron o \"crontabs\" son archivos de texto que contienen una serie de líneas que decriben la ejecución de un comando específico en un tiempo determinado.\n",
    "\n",
    "Cada línea del archivo crontab se apegarse al siguiente formato:\n",
    "\n",
    "```\n",
    "* * * * * comando(s)\n",
    "- - - - -\n",
    "| | | | |\n",
    "| | | | ----- Día de la semana (0 - 7) (Sunday=0 or 7)\n",
    "| | | ------- Mes (1 - 12)\n",
    "| | --------- Día del mes(1 - 31)\n",
    "| ----------- Hora (0 - 23)\n",
    "------------- Minutos (0 - 59)\n",
    "```\n",
    "\n",
    "Cuando se utiliza el asterisco * , se está haciendo la indicación de que el comando aplica a todas las opciones de tiempo correspondientes.\n",
    "\n",
    "Los archivos *crontab* se localizan en el directorio */var/spool/cron/*"
   ]
  },
  {
   "cell_type": "code",
   "execution_count": 2,
   "metadata": {},
   "outputs": [
    {
     "name": "stdout",
     "output_type": "stream",
     "text": [
      "atjobs\tatspool  crontabs\n"
     ]
    }
   ],
   "source": [
    "sudo ls /var/spool/cron"
   ]
  },
  {
   "cell_type": "markdown",
   "metadata": {},
   "source": [
    "**Ejemplo:**\n",
    "\n",
    "La siguiente línea:\n",
    "\n",
    "```\n",
    "30   3    *    *    1 apt update  \n",
    "```\n",
    "\n",
    "Indica que se ejecutará el comando ```apt update``` cada lunes a las 3:30 horas."
   ]
  },
  {
   "cell_type": "markdown",
   "metadata": {},
   "source": [
    "### El comando ```crontab```.\n",
    "\n",
    "No se recomienda editar los archivos *crontab* directamente. El comando ```crontab``` permite manipular un  archivo de este tipo para el usuario actual en caso de que cuente con los permisos para realizar estas operaciones.\n",
    "\n",
    "```\n",
    "crontab <opciones> <argumentos>\n",
    "```\n",
    "Las principales opciones de este comando son:\n",
    "\n",
    "* ```-e``` permite editar un archivo crontab para el usuario actual. En caso de que no exista, se creará un archivo temporal.\n",
    "* ```-l``` enlista el contendo del archivo crontab del usuario.\n",
    "* ```-r``` elimina el archivo crontab."
   ]
  },
  {
   "cell_type": "markdown",
   "metadata": {},
   "source": [
    "**Ejemplos:**"
   ]
  },
  {
   "cell_type": "markdown",
   "metadata": {},
   "source": [
    "* La siguiente celda desplegará el contenido del archivo *crontab* del usuario actual.\n",
    "\n",
    "Si no existe un archivo para el usuario, este no desplegará nada."
   ]
  },
  {
   "cell_type": "markdown",
   "metadata": {},
   "source": [
    "* Ejecute el comando ```crontab -e``` desde una terminal y añada la siguiente línea: \n",
    "\n",
    "```25 16 * * * echo \"Saludos\" >> ~/saludos.txt```\n",
    "\n",
    "Lo anterior hará que el texto *Saludos\" sea añadido al archivo *~/saludos.txt* a las 14:25 horas diariamente."
   ]
  },
  {
   "cell_type": "code",
   "execution_count": 1,
   "metadata": {},
   "outputs": [
    {
     "name": "stdout",
     "output_type": "stream",
     "text": [
      "no crontab for oi\n"
     ]
    },
    {
     "ename": "",
     "evalue": "1",
     "output_type": "error",
     "traceback": []
    }
   ],
   "source": [
    "crontab -l"
   ]
  },
  {
   "cell_type": "code",
   "execution_count": 2,
   "metadata": {},
   "outputs": [
    {
     "name": "stdout",
     "output_type": "stream",
     "text": [
      "ls: cannot access '/home/oi/saludos.txt': No such file or directory\n"
     ]
    },
    {
     "ename": "",
     "evalue": "2",
     "output_type": "error",
     "traceback": []
    }
   ],
   "source": [
    "ls ~/saludos.txt"
   ]
  },
  {
   "cell_type": "code",
   "execution_count": 3,
   "metadata": {
    "scrolled": true
   },
   "outputs": [
    {
     "name": "stdout",
     "output_type": "stream",
     "text": [
      "cat: /home/oi/saludos.txt: No such file or directory\n"
     ]
    },
    {
     "ename": "",
     "evalue": "1",
     "output_type": "error",
     "traceback": []
    }
   ],
   "source": [
    "cat ~/saludos.txt"
   ]
  },
  {
   "cell_type": "markdown",
   "metadata": {},
   "source": [
    "* La siguiente celda elimininará el crontab del usuario actual. "
   ]
  },
  {
   "cell_type": "code",
   "execution_count": 4,
   "metadata": {},
   "outputs": [
    {
     "name": "stdout",
     "output_type": "stream",
     "text": [
      "no crontab for oi\n"
     ]
    },
    {
     "ename": "",
     "evalue": "1",
     "output_type": "error",
     "traceback": []
    }
   ],
   "source": [
    "crontab -r"
   ]
  },
  {
   "cell_type": "code",
   "execution_count": 5,
   "metadata": {},
   "outputs": [
    {
     "name": "stdout",
     "output_type": "stream",
     "text": [
      "no crontab for oi\n"
     ]
    },
    {
     "ename": "",
     "evalue": "1",
     "output_type": "error",
     "traceback": []
    }
   ],
   "source": [
    "crontab -l"
   ]
  },
  {
   "cell_type": "markdown",
   "metadata": {},
   "source": [
    "## Archivos y directorios relevantes de ```crond```.\n",
    "\n",
    "El daemon ```crond``` cuenta con algunos archivos que pueden ser utilizados por *root*.\n",
    "\n",
    "### Archivos de permisos.\n",
    "\n",
    "Los suguientes archivos delimitan a los usuarios que pueden o no utilizar crear *crontabs*.\n",
    "\n",
    "* */etc/cron.allow* contiene una lista de los usuarios autorizados.\n",
    "* */etc/cron.deny* contiene una lista de los usuarios autorizados."
   ]
  },
  {
   "cell_type": "code",
   "execution_count": 7,
   "metadata": {},
   "outputs": [
    {
     "name": "stdout",
     "output_type": "stream",
     "text": [
      "mdadm  php  popularity-contest\n"
     ]
    }
   ],
   "source": [
    "sudo ls /etc/cron.d/"
   ]
  },
  {
   "cell_type": "code",
   "execution_count": 8,
   "metadata": {},
   "outputs": [
    {
     "name": "stdout",
     "output_type": "stream",
     "text": [
      "ls: cannot access '/etc/cron.deny': No such file or directory\n"
     ]
    },
    {
     "ename": "",
     "evalue": "2",
     "output_type": "error",
     "traceback": []
    }
   ],
   "source": [
    "sudo ls /etc/cron.deny"
   ]
  },
  {
   "cell_type": "code",
   "execution_count": null,
   "metadata": {},
   "outputs": [],
   "source": [
    "sudo ls /etc/cron.allow"
   ]
  },
  {
   "cell_type": "markdown",
   "metadata": {},
   "source": [
    "### Archivos de administración.\n",
    "\n",
    "Estos archivos contienen una serie de comandos que pueden ser ejecutados en un momento específico.\n",
    "\n",
    "* */etc/cron.hourly* se ejecutarán en el primer segundo del primer minuto de cada hora.\n",
    "* */etc/cron.daily* se jejecutarán en el primer segundo de un día, diarimante.\n",
    "* */etc/cron.monthly* se ejecutarán en el primer segundo del primer día del mes, mensualmente."
   ]
  },
  {
   "cell_type": "code",
   "execution_count": null,
   "metadata": {},
   "outputs": [],
   "source": [
    "ls /etc/cron.*"
   ]
  },
  {
   "cell_type": "markdown",
   "metadata": {},
   "source": [
    "### Bitácoras de cron.\n",
    "\n",
    "El archivo *var/log/cron* contiene la bitácora de todas las acciones del ```crond```."
   ]
  },
  {
   "cell_type": "code",
   "execution_count": null,
   "metadata": {},
   "outputs": [],
   "source": [
    "sudo cat /var/log/cron "
   ]
  },
  {
   "cell_type": "code",
   "execution_count": null,
   "metadata": {},
   "outputs": [],
   "source": [
    "cat /etc/crontab"
   ]
  },
  {
   "cell_type": "markdown",
   "metadata": {},
   "source": [
    "## El comando ```at```."
   ]
  },
  {
   "cell_type": "code",
   "execution_count": null,
   "metadata": {},
   "outputs": [],
   "source": []
  },
  {
   "cell_type": "markdown",
   "metadata": {},
   "source": [
    "### La *manpage* de ```at```."
   ]
  },
  {
   "cell_type": "code",
   "execution_count": null,
   "metadata": {},
   "outputs": [],
   "source": [
    "man at"
   ]
  },
  {
   "cell_type": "markdown",
   "metadata": {
    "collapsed": true
   },
   "source": [
    "<p style=\"text-align: center\"><a rel=\"license\" href=\"http://creativecommons.org/licenses/by/4.0/\"><img alt=\"Licencia Creative Commons\" style=\"border-width:0\" src=\"https://i.creativecommons.org/l/by/4.0/80x15.png\" /></a><br />Esta obra está bajo una <a rel=\"license\" href=\"http://creativecommons.org/licenses/by/4.0/\">Licencia Creative Commons Atribución 4.0 Internacional</a>.</p>\n",
    "<p style=\"text-align: center\">&copy; José Luis Chiquete Valdivieso. 2020.</p>"
   ]
  }
 ],
 "metadata": {
  "kernelspec": {
   "display_name": "Bash",
   "language": "bash",
   "name": "bash"
  },
  "language_info": {
   "codemirror_mode": "shell",
   "file_extension": ".sh",
   "mimetype": "text/x-sh",
   "name": "bash"
  }
 },
 "nbformat": 4,
 "nbformat_minor": 2
}
