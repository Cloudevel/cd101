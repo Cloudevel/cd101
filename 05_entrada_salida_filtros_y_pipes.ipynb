{
 "cells": [
  {
   "cell_type": "markdown",
   "metadata": {},
   "source": [
    "[![cloudevel](Imagenes/cloudevel.png)](https://cloudevel.com)"
   ]
  },
  {
   "cell_type": "markdown",
   "metadata": {},
   "source": [
    "## Entrada estándar, salida estandar y error estándar."
   ]
  },
  {
   "cell_type": "markdown",
   "metadata": {},
   "source": [
    "### Entrada estándar.\n",
    "\n",
    "Se conoce como *stdin* y para el usuario corresponde a las señales enviadas por un teclado."
   ]
  },
  {
   "cell_type": "markdown",
   "metadata": {},
   "source": [
    "### Salida estándar.\n",
    "\n",
    "Se conoce como *stdout* y en una terminal corresponde a lo que se despliega en  el monitos despu;es de ejecutar un comando."
   ]
  },
  {
   "cell_type": "code",
   "execution_count": null,
   "metadata": {},
   "outputs": [],
   "source": [
    "ls"
   ]
  },
  {
   "cell_type": "markdown",
   "metadata": {},
   "source": [
    "### Error estándar.\n",
    "\n",
    "La salida estándar ocurre cuando un comando es ejecutado exitosamente. Sin embargo, el error estándar (*stderr*) corresponde al flujo de texto resultante de un error."
   ]
  },
  {
   "cell_type": "code",
   "execution_count": null,
   "metadata": {},
   "outputs": [],
   "source": [
    "ls erroneo"
   ]
  },
  {
   "cell_type": "markdown",
   "metadata": {},
   "source": [
    "## El comando ```echo```.\n",
    "\n",
    "Envía un flujo de texto a la salida estándar."
   ]
  },
  {
   "cell_type": "code",
   "execution_count": null,
   "metadata": {},
   "outputs": [],
   "source": [
    "echo Hola"
   ]
  },
  {
   "cell_type": "code",
   "execution_count": null,
   "metadata": {},
   "outputs": [],
   "source": [
    "echo \"Hola\""
   ]
  },
  {
   "cell_type": "code",
   "execution_count": null,
   "metadata": {
    "scrolled": true
   },
   "outputs": [],
   "source": [
    "echo 'Hola'"
   ]
  },
  {
   "cell_type": "markdown",
   "metadata": {},
   "source": [
    "Uso de caracteres de escape con la opción  *-e*.\n",
    "\n",
    "* El caracter de escape de el retorno  de línea es *\\n*.\n",
    "* El caracter de escape de tabulador es *\\t*."
   ]
  },
  {
   "cell_type": "code",
   "execution_count": null,
   "metadata": {},
   "outputs": [],
   "source": [
    "echo \"Hola\\nMundo.\""
   ]
  },
  {
   "cell_type": "code",
   "execution_count": null,
   "metadata": {},
   "outputs": [],
   "source": [
    "echo -e \"Hola\\nMundo.\""
   ]
  },
  {
   "cell_type": "markdown",
   "metadata": {},
   "source": [
    "## El comando ```cat```.\n",
    "\n",
    "El comando ```cat``` permite redireccionar flujos de textos tanto en archivos como en la salida estándar y la entrada estándar."
   ]
  },
  {
   "cell_type": "markdown",
   "metadata": {},
   "source": [
    "### Despliegue de un archivo convencional a la salida estándar.\n",
    "\n",
    "El comando ```cat```ouede leer un archivo y enviarlo a la salida estándar mediante la siguiente sintaxis: \n",
    "\n",
    "```\n",
    "cat <archivo> \n",
    "```"
   ]
  },
  {
   "cell_type": "code",
   "execution_count": null,
   "metadata": {
    "scrolled": true
   },
   "outputs": [],
   "source": [
    "cat README.md"
   ]
  },
  {
   "cell_type": "code",
   "execution_count": null,
   "metadata": {},
   "outputs": [],
   "source": [
    "cat "
   ]
  },
  {
   "cell_type": "markdown",
   "metadata": {},
   "source": [
    "### Despliegue de un flujo de datos del sistema.\n",
    "\n",
    "Como ya se comentó previamente, UNIX y GNU/Linux consideran a los procesos y a los dispostivos como archivos, con la difrencia de que estos archivos están ligados a un flujo constante de datos. Este flujo de datos puede ser considerado como un flujo de texto que puede ser capturado mediante ```cat```."
   ]
  },
  {
   "cell_type": "markdown",
   "metadata": {},
   "source": [
    "**Ejemplo:**\n",
    "\n",
    "**ADVERTENCIA:**\n",
    "\n",
    "No se recomienda realizar el siguiente ejercicio en un sistema de pruebas ni en una terminal de Jupyter ya que es posible que la terminal desde la que se relice quede inestable.\n",
    "\n",
    "Si se encuentra utilizando la máquina virtual proporcionada por  Cloudevel<sup>®</sup>, haga lo siguiente:\n",
    "* Ingrese a la consola de Virtualbox e inicie una sesión con el usuario *root* y la contraseña *0p3n5t4ckCDMX*.\n",
    "* Asegúrese de que la consola capture los eventos de su dispositivo apuntador, haciendo click en la ventana de dicha consola. El mouse desaparecerá.\n",
    "* Ejecute el comando ```cat /dev/input/mice```.\n",
    "\n",
    "Este comando enviará a la salida estándar de la terminal una serie de caracteres que corresponden a una representación de los eventos del dispositivo.\n",
    "\n",
    "* Para dejar de capturar los eventos del dispositivo teclee <kbd>Ctrl</kbd><kbd>C</kbd>.\n",
    "\n",
    "Para que la terminal de Virtualbox deje de capturar los eventos del dispositivo, accione la tecla <kbd>Ctrl</kbd> a la derecha de su teclado. Si usa una Mac, accione la tecla la tecla <kbd>Cmd</kbd> a la derecha de su teclado."
   ]
  },
  {
   "cell_type": "markdown",
   "metadata": {},
   "source": [
    "### Despliegue de varios archivos.\n",
    "\n",
    "el comando ```cat``` permite redireccionar más de un archivo mediante la siguiente sintaxis:\n",
    "\n",
    "```\n",
    "cat <archivo 1> <archivo 2> ... <archivo n> \n",
    "```"
   ]
  },
  {
   "cell_type": "code",
   "execution_count": null,
   "metadata": {
    "scrolled": false
   },
   "outputs": [],
   "source": [
    "cat README.md LICENSE"
   ]
  },
  {
   "cell_type": "markdown",
   "metadata": {},
   "source": [
    "## Operaciones de entrada y salida con archivos."
   ]
  },
  {
   "cell_type": "markdown",
   "metadata": {},
   "source": [
    "### Envío a un archivo con ```>```."
   ]
  },
  {
   "cell_type": "code",
   "execution_count": null,
   "metadata": {},
   "outputs": [],
   "source": [
    "echo -e \"Saludos.\\nEste es un mensaje de texto.\" > saludo.txt"
   ]
  },
  {
   "cell_type": "code",
   "execution_count": null,
   "metadata": {},
   "outputs": [],
   "source": [
    "cat saludo.txt"
   ]
  },
  {
   "cell_type": "code",
   "execution_count": null,
   "metadata": {},
   "outputs": [],
   "source": [
    "ls -i > listado.txt"
   ]
  },
  {
   "cell_type": "code",
   "execution_count": null,
   "metadata": {},
   "outputs": [],
   "source": [
    "cat listado.txt"
   ]
  },
  {
   "cell_type": "code",
   "execution_count": null,
   "metadata": {},
   "outputs": [],
   "source": [
    "cat listado.txt saludo.txt > concatenado.txt"
   ]
  },
  {
   "cell_type": "code",
   "execution_count": null,
   "metadata": {},
   "outputs": [],
   "source": [
    "cat concatenado.txt"
   ]
  },
  {
   "cell_type": "markdown",
   "metadata": {},
   "source": [
    "#### Captura del teclado con ```cat``` y ```>```."
   ]
  },
  {
   "cell_type": "markdown",
   "metadata": {},
   "source": [
    "```\n",
    "cat > escrito.txt\n",
    "```"
   ]
  },
  {
   "cell_type": "markdown",
   "metadata": {},
   "source": [
    "#### Captura del error estándar."
   ]
  },
  {
   "cell_type": "code",
   "execution_count": null,
   "metadata": {},
   "outputs": [],
   "source": [
    "ls erroneo 2> error.txt"
   ]
  },
  {
   "cell_type": "code",
   "execution_count": null,
   "metadata": {},
   "outputs": [],
   "source": [
    "cat error.txt"
   ]
  },
  {
   "cell_type": "code",
   "execution_count": null,
   "metadata": {},
   "outputs": [],
   "source": [
    "ls Imagenes 2> error.txt"
   ]
  },
  {
   "cell_type": "code",
   "execution_count": null,
   "metadata": {},
   "outputs": [],
   "source": [
    "cat error.txt"
   ]
  },
  {
   "cell_type": "markdown",
   "metadata": {},
   "source": [
    "### Adición de flujo de texto a un archivo con ```>>```."
   ]
  },
  {
   "cell_type": "code",
   "execution_count": null,
   "metadata": {},
   "outputs": [],
   "source": [
    "ls -l >> listado.txt"
   ]
  },
  {
   "cell_type": "code",
   "execution_count": null,
   "metadata": {
    "scrolled": true
   },
   "outputs": [],
   "source": [
    "cat listado.txt"
   ]
  },
  {
   "cell_type": "markdown",
   "metadata": {},
   "source": [
    "## Filtros."
   ]
  },
  {
   "cell_type": "code",
   "execution_count": null,
   "metadata": {},
   "outputs": [],
   "source": []
  },
  {
   "cell_type": "markdown",
   "metadata": {},
   "source": [
    "### ```less``` y ```more```. \n",
    "\n",
    "El filtro ```less``` permite usar una ventana similar a la de ```man``` en una terminal."
   ]
  },
  {
   "cell_type": "markdown",
   "metadata": {},
   "source": [
    "### ```head```."
   ]
  },
  {
   "cell_type": "code",
   "execution_count": null,
   "metadata": {},
   "outputs": [],
   "source": [
    "head LICENSE"
   ]
  },
  {
   "cell_type": "code",
   "execution_count": null,
   "metadata": {},
   "outputs": [],
   "source": [
    "head README.md -n 3"
   ]
  },
  {
   "cell_type": "markdown",
   "metadata": {},
   "source": [
    "### ```tail```."
   ]
  },
  {
   "cell_type": "code",
   "execution_count": null,
   "metadata": {
    "scrolled": true
   },
   "outputs": [],
   "source": [
    "tail README.md"
   ]
  },
  {
   "cell_type": "code",
   "execution_count": null,
   "metadata": {},
   "outputs": [],
   "source": [
    "tail README.md -n 4"
   ]
  },
  {
   "cell_type": "markdown",
   "metadata": {},
   "source": [
    "### ```wc```."
   ]
  },
  {
   "cell_type": "code",
   "execution_count": null,
   "metadata": {},
   "outputs": [],
   "source": [
    "wc README.md"
   ]
  },
  {
   "cell_type": "code",
   "execution_count": null,
   "metadata": {},
   "outputs": [],
   "source": [
    "wc README.md -l"
   ]
  },
  {
   "cell_type": "code",
   "execution_count": null,
   "metadata": {},
   "outputs": [],
   "source": [
    "wc README.md -w"
   ]
  },
  {
   "cell_type": "code",
   "execution_count": null,
   "metadata": {
    "scrolled": true
   },
   "outputs": [],
   "source": [
    "wc README.md -c"
   ]
  },
  {
   "cell_type": "code",
   "execution_count": null,
   "metadata": {},
   "outputs": [],
   "source": [
    "wc README.md -cw"
   ]
  },
  {
   "cell_type": "markdown",
   "metadata": {},
   "source": [
    "### ```nl```."
   ]
  },
  {
   "cell_type": "code",
   "execution_count": null,
   "metadata": {},
   "outputs": [],
   "source": [
    "nl README.md"
   ]
  },
  {
   "cell_type": "markdown",
   "metadata": {},
   "source": [
    "### ```expand```."
   ]
  },
  {
   "cell_type": "markdown",
   "metadata": {},
   "source": [
    "### ```unexpand```."
   ]
  },
  {
   "cell_type": "markdown",
   "metadata": {},
   "source": [
    "### ```sort ```."
   ]
  },
  {
   "cell_type": "code",
   "execution_count": 10,
   "metadata": {},
   "outputs": [],
   "source": [
    "echo -e \"Hugo\\nPaco\\nLuis\" > ~/patos.txt"
   ]
  },
  {
   "cell_type": "code",
   "execution_count": 11,
   "metadata": {},
   "outputs": [
    {
     "name": "stdout",
     "output_type": "stream",
     "text": [
      "Hugo\n",
      "Luis\n",
      "Paco\n"
     ]
    }
   ],
   "source": [
    "sort ~/patos.txt"
   ]
  },
  {
   "cell_type": "code",
   "execution_count": 12,
   "metadata": {},
   "outputs": [],
   "source": [
    "echo -e \"Sota\\nCaballo\\nRey\" > ~/cartas.txt"
   ]
  },
  {
   "cell_type": "code",
   "execution_count": 13,
   "metadata": {},
   "outputs": [
    {
     "name": "stdout",
     "output_type": "stream",
     "text": [
      "Caballo\n",
      "Hugo\n",
      "Luis\n",
      "Paco\n",
      "Rey\n",
      "Sota\n"
     ]
    }
   ],
   "source": [
    "sort ~/patos.txt ~/cartas.txt"
   ]
  },
  {
   "cell_type": "code",
   "execution_count": 15,
   "metadata": {},
   "outputs": [
    {
     "name": "stdout",
     "output_type": "stream",
     "text": [
      "Sota\n",
      "Rey\n",
      "Paco\n",
      "Luis\n",
      "Hugo\n",
      "Caballo\n"
     ]
    }
   ],
   "source": [
    "sort ~/patos.txt ~/cartas.txt -r"
   ]
  },
  {
   "cell_type": "code",
   "execution_count": 20,
   "metadata": {},
   "outputs": [],
   "source": [
    "echo -e \"2\\n5\\n21\\n32\\n6\\n245\\n\" > ~/numeros.txt"
   ]
  },
  {
   "cell_type": "code",
   "execution_count": 22,
   "metadata": {},
   "outputs": [
    {
     "name": "stdout",
     "output_type": "stream",
     "text": [
      "\n",
      "2\n",
      "21\n",
      "245\n",
      "32\n",
      "5\n",
      "6\n"
     ]
    }
   ],
   "source": [
    "sort ~/numeros.txt"
   ]
  },
  {
   "cell_type": "code",
   "execution_count": 21,
   "metadata": {},
   "outputs": [
    {
     "name": "stdout",
     "output_type": "stream",
     "text": [
      "\n",
      "2\n",
      "5\n",
      "6\n",
      "21\n",
      "32\n",
      "245\n"
     ]
    }
   ],
   "source": [
    "sort ~/numeros.txt -n"
   ]
  },
  {
   "cell_type": "markdown",
   "metadata": {},
   "source": [
    "### ```split```."
   ]
  },
  {
   "cell_type": "code",
   "execution_count": 25,
   "metadata": {},
   "outputs": [
    {
     "name": "stdout",
     "output_type": "stream",
     "text": [
      "SPLIT(1)                         User Commands                        SPLIT(1)\n",
      "\n",
      "\n",
      "\n",
      "NAME\n",
      "       split - split a file into pieces\n",
      "\n",
      "SYNOPSIS\n",
      "       split [OPTION]... [INPUT [PREFIX]]\n",
      "\n",
      "DESCRIPTION\n",
      "       Output  fixed-size  pieces of INPUT to PREFIXaa, PREFIXab, ...; default\n",
      "       size is 1000 lines, and default PREFIX is 'x'.  With no INPUT, or  when\n",
      "       INPUT is -, read standard input.\n",
      "\n",
      "       Mandatory  arguments  to  long  options are mandatory for short options\n",
      "       too.\n",
      "\n",
      "       -a, --suffix-length=N\n",
      "              generate suffixes of length N (default 2)\n",
      "\n",
      "       --additional-suffix=SUFFIX\n",
      "              append an additional SUFFIX to file names\n",
      "\n",
      "       -b, --bytes=SIZE\n",
      "              put SIZE bytes per output file\n",
      "\n",
      "       -C, --line-bytes=SIZE\n",
      "              put at most SIZE bytes of lines per output file\n",
      "\n",
      "       -d, --numeric-suffixes[=FROM]\n",
      "              use numeric suffixes instead of  alphabetic;  FROM  changes  the\n",
      "              start value (default 0)\n",
      "\n",
      "       -e, --elide-empty-files\n",
      "              do not generate empty output files with '-n'\n",
      "\n",
      "       --filter=COMMAND\n",
      "              write to shell COMMAND; file name is $FILE\n",
      "\n",
      "       -l, --lines=NUMBER\n",
      "              put NUMBER lines per output file\n",
      "\n",
      "       -n, --number=CHUNKS\n",
      "              generate CHUNKS output files; see explanation below\n",
      "\n",
      "       -u, --unbuffered\n",
      "              immediately copy input to output with '-n r/...'\n",
      "\n",
      "       --verbose\n",
      "              print a diagnostic just before each output file is opened\n",
      "\n",
      "       --help display this help and exit\n",
      "\n",
      "       --version\n",
      "              output version information and exit\n",
      "\n",
      "       SIZE  is  an  integer and optional unit (example: 10M is 10*1024*1024).\n",
      "       Units are K, M, G, T, P, E, Z, Y (powers of 1024) or KB, MB, ...  (pow‐\n",
      "       ers of 1000).\n",
      "\n",
      "       CHUNKS  may  be:  N       split into N files based on size of input K/N\n",
      "       output Kth of N to stdout l/N     split into N files without  splitting\n",
      "       lines  l/K/N    output  Kth  of N to stdout without splitting lines r/N\n",
      "       like 'l' but use round robin distribution  r/K/N    likewise  but  only\n",
      "       output Kth of N to stdout\n",
      "\n",
      "       GNU  coreutils  online  help:  <http://www.gnu.org/software/coreutils/>\n",
      "       Report split translation bugs to <http://translationproject.org/team/>\n",
      "\n",
      "AUTHOR\n",
      "       Written by Torbjorn Granlund and Richard M. Stallman.\n",
      "\n",
      "COPYRIGHT\n",
      "       Copyright © 2013 Free Software Foundation, Inc.   License  GPLv3+:  GNU\n",
      "       GPL version 3 or later <http://gnu.org/licenses/gpl.html>.\n",
      "       This  is  free  software:  you  are free to change and redistribute it.\n",
      "       There is NO WARRANTY, to the extent permitted by law.\n",
      "\n",
      "SEE ALSO\n",
      "       The full documentation for split is maintained as a Texinfo manual.  If\n",
      "       the  info  and  split programs are properly installed at your site, the\n",
      "       command\n",
      "\n",
      "              info coreutils 'split invocation'\n",
      "\n",
      "       should give you access to the complete manual.\n",
      "\n",
      "\n",
      "\n",
      "GNU coreutils 8.22                April 2018                          SPLIT(1)\n"
     ]
    }
   ],
   "source": [
    "split README.md -n 3"
   ]
  },
  {
   "cell_type": "code",
   "execution_count": null,
   "metadata": {},
   "outputs": [],
   "source": []
  },
  {
   "cell_type": "markdown",
   "metadata": {},
   "source": [
    "### ```cut```."
   ]
  },
  {
   "cell_type": "code",
   "execution_count": 26,
   "metadata": {},
   "outputs": [
    {
     "name": "stdout",
     "output_type": "stream",
     "text": [
      "CUT(1)                           User Commands                          CUT(1)\n",
      "\n",
      "\n",
      "\n",
      "NAME\n",
      "       cut - remove sections from each line of files\n",
      "\n",
      "SYNOPSIS\n",
      "       cut OPTION... [FILE]...\n",
      "\n",
      "DESCRIPTION\n",
      "       Print selected parts of lines from each FILE to standard output.\n",
      "\n",
      "       Mandatory  arguments  to  long  options are mandatory for short options\n",
      "       too.\n",
      "\n",
      "       -b, --bytes=LIST\n",
      "              select only these bytes\n",
      "\n",
      "       -c, --characters=LIST\n",
      "              select only these characters\n",
      "\n",
      "       -d, --delimiter=DELIM\n",
      "              use DELIM instead of TAB for field delimiter\n",
      "\n",
      "       -f, --fields=LIST\n",
      "              select only these fields;  also print any line that contains  no\n",
      "              delimiter character, unless the -s option is specified\n",
      "\n",
      "       -n     with -b: don't split multibyte characters\n",
      "\n",
      "       --complement\n",
      "              complement the set of selected bytes, characters or fields\n",
      "\n",
      "       -s, --only-delimited\n",
      "              do not print lines not containing delimiters\n",
      "\n",
      "       --output-delimiter=STRING\n",
      "              use  STRING  as  the  output delimiter the default is to use the\n",
      "              input delimiter\n",
      "\n",
      "       --help display this help and exit\n",
      "\n",
      "       --version\n",
      "              output version information and exit\n",
      "\n",
      "       Use one, and only one of -b, -c or -f.  Each LIST is  made  up  of  one\n",
      "       range,  or  many ranges separated by commas.  Selected input is written\n",
      "       in the same order that it is read, and is written exactly  once.   Each\n",
      "       range is one of:\n",
      "\n",
      "       N      N'th byte, character or field, counted from 1\n",
      "\n",
      "       N-     from N'th byte, character or field, to end of line\n",
      "\n",
      "       N-M    from N'th to M'th (included) byte, character or field\n",
      "\n",
      "       -M     from first to M'th (included) byte, character or field\n",
      "\n",
      "       With no FILE, or when FILE is -, read standard input.\n",
      "\n",
      "       GNU  coreutils  online  help:  <http://www.gnu.org/software/coreutils/>\n",
      "       Report cut translation bugs to <http://translationproject.org/team/>\n",
      "\n",
      "AUTHOR\n",
      "       Written by David M. Ihnat, David MacKenzie, and Jim Meyering.\n",
      "\n",
      "COPYRIGHT\n",
      "       Copyright © 2013 Free Software Foundation, Inc.   License  GPLv3+:  GNU\n",
      "       GPL version 3 or later <http://gnu.org/licenses/gpl.html>.\n",
      "       This  is  free  software:  you  are free to change and redistribute it.\n",
      "       There is NO WARRANTY, to the extent permitted by law.\n",
      "\n",
      "SEE ALSO\n",
      "       The full documentation for cut is maintained as a Texinfo  manual.   If\n",
      "       the info and cut programs are properly installed at your site, the com‐\n",
      "       mand\n",
      "\n",
      "              info coreutils 'cut invocation'\n",
      "\n",
      "       should give you access to the complete manual.\n",
      "\n",
      "\n",
      "\n",
      "GNU coreutils 8.22                April 2018                            CUT(1)\n"
     ]
    }
   ],
   "source": [
    "man cut"
   ]
  },
  {
   "cell_type": "markdown",
   "metadata": {},
   "source": [
    "### ```paste```."
   ]
  },
  {
   "cell_type": "code",
   "execution_count": 28,
   "metadata": {},
   "outputs": [
    {
     "name": "stdout",
     "output_type": "stream",
     "text": [
      "Hugo\tSota\n",
      "Paco\tCaballo\n",
      "Luis\tRey\n"
     ]
    }
   ],
   "source": [
    "paste ~/patos.txt ~/cartas.txt"
   ]
  },
  {
   "cell_type": "markdown",
   "metadata": {},
   "source": [
    "### ```uniq```."
   ]
  },
  {
   "cell_type": "code",
   "execution_count": 32,
   "metadata": {},
   "outputs": [
    {
     "name": "stdout",
     "output_type": "stream",
     "text": [
      "UNIQ(1)                          User Commands                         UNIQ(1)\n",
      "\n",
      "\n",
      "\n",
      "NAME\n",
      "       uniq - report or omit repeated lines\n",
      "\n",
      "SYNOPSIS\n",
      "       uniq [OPTION]... [INPUT [OUTPUT]]\n",
      "\n",
      "DESCRIPTION\n",
      "       Filter  adjacent matching lines from INPUT (or standard input), writing\n",
      "       to OUTPUT (or standard output).\n",
      "\n",
      "       With no options, matching lines are merged to the first occurrence.\n",
      "\n",
      "       Mandatory arguments to long options are  mandatory  for  short  options\n",
      "       too.\n",
      "\n",
      "       -c, --count\n",
      "              prefix lines by the number of occurrences\n",
      "\n",
      "       -d, --repeated\n",
      "              only print duplicate lines, one for each group\n",
      "\n",
      "       -D, --all-repeated[=METHOD]\n",
      "              print  all duplicate lines groups can be delimited with an empty\n",
      "              line METHOD={none(default),prepend,separate}\n",
      "\n",
      "       -f, --skip-fields=N\n",
      "              avoid comparing the first N fields\n",
      "\n",
      "       --group[=METHOD]\n",
      "              show  all  items,  separating  groups   with   an   empty   line\n",
      "              METHOD={separate(default),prepend,append,both}\n",
      "\n",
      "       -i, --ignore-case\n",
      "              ignore differences in case when comparing\n",
      "\n",
      "       -s, --skip-chars=N\n",
      "              avoid comparing the first N characters\n",
      "\n",
      "       -u, --unique\n",
      "              only print unique lines\n",
      "\n",
      "       -z, --zero-terminated\n",
      "              end lines with 0 byte, not newline\n",
      "\n",
      "       -w, --check-chars=N\n",
      "              compare no more than N characters in lines\n",
      "\n",
      "       --help display this help and exit\n",
      "\n",
      "       --version\n",
      "              output version information and exit\n",
      "\n",
      "       A field is a run of blanks (usually spaces and/or TABs), then non-blank\n",
      "       characters.  Fields are skipped before chars.\n",
      "\n",
      "       Note: 'uniq' does not detect repeated lines unless they  are  adjacent.\n",
      "       You  may want to sort the input first, or use 'sort -u' without 'uniq'.\n",
      "       Also, comparisons honor the rules specified by 'LC_COLLATE'.\n",
      "\n",
      "       GNU  coreutils  online  help:  <http://www.gnu.org/software/coreutils/>\n",
      "       Report uniq translation bugs to <http://translationproject.org/team/>\n",
      "\n",
      "AUTHOR\n",
      "       Written by Richard M. Stallman and David MacKenzie.\n",
      "\n",
      "COPYRIGHT\n",
      "       Copyright  ©  2013  Free Software Foundation, Inc.  License GPLv3+: GNU\n",
      "       GPL version 3 or later <http://gnu.org/licenses/gpl.html>.\n",
      "       This is free software: you are free  to  change  and  redistribute  it.\n",
      "       There is NO WARRANTY, to the extent permitted by law.\n",
      "\n",
      "SEE ALSO\n",
      "       comm(1), join(1), sort(1)\n",
      "\n",
      "       The  full documentation for uniq is maintained as a Texinfo manual.  If\n",
      "       the info and uniq programs are properly installed  at  your  site,  the\n",
      "       command\n",
      "\n",
      "              info coreutils 'uniq invocation'\n",
      "\n",
      "       should give you access to the complete manual.\n",
      "\n",
      "\n",
      "\n",
      "GNU coreutils 8.22                April 2018                           UNIQ(1)\n"
     ]
    }
   ],
   "source": [
    "man uniq"
   ]
  },
  {
   "cell_type": "markdown",
   "metadata": {},
   "source": [
    "### ```comm```."
   ]
  },
  {
   "cell_type": "code",
   "execution_count": null,
   "metadata": {},
   "outputs": [],
   "source": []
  },
  {
   "cell_type": "markdown",
   "metadata": {},
   "source": [
    "### ```join```."
   ]
  },
  {
   "cell_type": "code",
   "execution_count": 31,
   "metadata": {},
   "outputs": [
    {
     "name": "stdout",
     "output_type": "stream",
     "text": [
      "JOIN(1)                          User Commands                         JOIN(1)\n",
      "\n",
      "\n",
      "\n",
      "NAME\n",
      "       join - join lines of two files on a common field\n",
      "\n",
      "SYNOPSIS\n",
      "       join [OPTION]... FILE1 FILE2\n",
      "\n",
      "DESCRIPTION\n",
      "       For  each  pair of input lines with identical join fields, write a line\n",
      "       to standard output.  The default join field is the first, delimited  by\n",
      "       whitespace.  When FILE1 or FILE2 (not both) is -, read standard input.\n",
      "\n",
      "       -a FILENUM\n",
      "              also  print unpairable lines from file FILENUM, where FILENUM is\n",
      "              1 or 2, corresponding to FILE1 or FILE2\n",
      "\n",
      "       -e EMPTY\n",
      "              replace missing input fields with EMPTY\n",
      "\n",
      "       -i, --ignore-case\n",
      "              ignore differences in case when comparing fields\n",
      "\n",
      "       -j FIELD\n",
      "              equivalent to '-1 FIELD -2 FIELD'\n",
      "\n",
      "       -o FORMAT\n",
      "              obey FORMAT while constructing output line\n",
      "\n",
      "       -t CHAR\n",
      "              use CHAR as input and output field separator\n",
      "\n",
      "       -v FILENUM\n",
      "              like -a FILENUM, but suppress joined output lines\n",
      "\n",
      "       -1 FIELD\n",
      "              join on this FIELD of file 1\n",
      "\n",
      "       -2 FIELD\n",
      "              join on this FIELD of file 2\n",
      "\n",
      "       --check-order\n",
      "              check that the input is correctly  sorted,  even  if  all  input\n",
      "              lines are pairable\n",
      "\n",
      "       --nocheck-order\n",
      "              do not check that the input is correctly sorted\n",
      "\n",
      "       --header\n",
      "              treat  the  first line in each file as field headers, print them\n",
      "              without trying to pair them\n",
      "\n",
      "       -z, --zero-terminated\n",
      "              end lines with 0 byte, not newline\n",
      "\n",
      "       --help display this help and exit\n",
      "\n",
      "       --version\n",
      "              output version information and exit\n",
      "\n",
      "       Unless -t CHAR  is  given,  leading  blanks  separate  fields  and  are\n",
      "       ignored,  else fields are separated by CHAR.  Any FIELD is a field num‐\n",
      "       ber counted from 1.  FORMAT is one or more  comma  or  blank  separated\n",
      "       specifications, each being 'FILENUM.FIELD' or '0'.  Default FORMAT out‐\n",
      "       puts the join field, the remaining fields  from  FILE1,  the  remaining\n",
      "       fields  from  FILE2,  all  separated by CHAR.  If FORMAT is the keyword\n",
      "       'auto', then the first line of  each  file  determines  the  number  of\n",
      "       fields output for each line.\n",
      "\n",
      "       Important:  FILE1  and  FILE2 must be sorted on the join fields.  E.g.,\n",
      "       use \"sort -k 1b,1\" if 'join' has no options, or use  \"join  -t  ''\"  if\n",
      "       'sort'  has no options.  Note, comparisons honor the rules specified by\n",
      "       'LC_COLLATE'.  If the input is not sorted  and  some  lines  cannot  be\n",
      "       joined, a warning message will be given.\n",
      "\n",
      "       GNU  coreutils  online  help:  <http://www.gnu.org/software/coreutils/>\n",
      "       Report join translation bugs to <http://translationproject.org/team/>\n",
      "\n",
      "AUTHOR\n",
      "       Written by Mike Haertel.\n",
      "\n",
      "COPYRIGHT\n",
      "       Copyright © 2013 Free Software Foundation, Inc.   License  GPLv3+:  GNU\n",
      "       GPL version 3 or later <http://gnu.org/licenses/gpl.html>.\n",
      "       This  is  free  software:  you  are free to change and redistribute it.\n",
      "       There is NO WARRANTY, to the extent permitted by law.\n",
      "\n",
      "SEE ALSO\n",
      "       comm(1), uniq(1)\n",
      "\n",
      "       The full documentation for join is maintained as a Texinfo manual.   If\n",
      "       the  info  and  join  programs are properly installed at your site, the\n",
      "       command\n",
      "\n",
      "              info coreutils 'join invocation'\n",
      "\n",
      "       should give you access to the complete manual.\n",
      "\n",
      "\n",
      "\n",
      "GNU coreutils 8.22                April 2018                           JOIN(1)\n"
     ]
    }
   ],
   "source": [
    "man join"
   ]
  },
  {
   "cell_type": "markdown",
   "metadata": {},
   "source": [
    "### ```diff```."
   ]
  },
  {
   "cell_type": "markdown",
   "metadata": {},
   "source": [
    "### ```patch```."
   ]
  },
  {
   "cell_type": "markdown",
   "metadata": {},
   "source": [
    "### ```tr```."
   ]
  },
  {
   "cell_type": "code",
   "execution_count": 33,
   "metadata": {},
   "outputs": [
    {
     "name": "stdout",
     "output_type": "stream",
     "text": [
      "TR(1)                            User Commands                           TR(1)\n",
      "\n",
      "\n",
      "\n",
      "NAME\n",
      "       tr - translate or delete characters\n",
      "\n",
      "SYNOPSIS\n",
      "       tr [OPTION]... SET1 [SET2]\n",
      "\n",
      "DESCRIPTION\n",
      "       Translate, squeeze, and/or delete characters from standard input, writ‐\n",
      "       ing to standard output.\n",
      "\n",
      "       -c, -C, --complement\n",
      "              use the complement of SET1\n",
      "\n",
      "       -d, --delete\n",
      "              delete characters in SET1, do not translate\n",
      "\n",
      "       -s, --squeeze-repeats\n",
      "              replace each input sequence of  a  repeated  character  that  is\n",
      "              listed in SET1 with a single occurrence of that character\n",
      "\n",
      "       -t, --truncate-set1\n",
      "              first truncate SET1 to length of SET2\n",
      "\n",
      "       --help display this help and exit\n",
      "\n",
      "       --version\n",
      "              output version information and exit\n",
      "\n",
      "       SETs  are  specified  as  strings  of characters.  Most represent them‐\n",
      "       selves.  Interpreted sequences are:\n",
      "\n",
      "       \\NNN   character with octal value NNN (1 to 3 octal digits)\n",
      "\n",
      "       \\\\     backslash\n",
      "\n",
      "       \\a     audible BEL\n",
      "\n",
      "       \\b     backspace\n",
      "\n",
      "       \\f     form feed\n",
      "\n",
      "       \\n     new line\n",
      "\n",
      "       \\r     return\n",
      "\n",
      "       \\t     horizontal tab\n",
      "\n",
      "       \\v     vertical tab\n",
      "\n",
      "       CHAR1-CHAR2\n",
      "              all characters from CHAR1 to CHAR2 in ascending order\n",
      "\n",
      "       [CHAR*]\n",
      "              in SET2, copies of CHAR until length of SET1\n",
      "\n",
      "       [CHAR*REPEAT]\n",
      "              REPEAT copies of CHAR, REPEAT octal if starting with 0\n",
      "\n",
      "       [:alnum:]\n",
      "              all letters and digits\n",
      "\n",
      "       [:alpha:]\n",
      "              all letters\n",
      "\n",
      "       [:blank:]\n",
      "              all horizontal whitespace\n",
      "\n",
      "       [:cntrl:]\n",
      "              all control characters\n",
      "\n",
      "       [:digit:]\n",
      "              all digits\n",
      "\n",
      "       [:graph:]\n",
      "              all printable characters, not including space\n",
      "\n",
      "       [:lower:]\n",
      "              all lower case letters\n",
      "\n",
      "       [:print:]\n",
      "              all printable characters, including space\n",
      "\n",
      "       [:punct:]\n",
      "              all punctuation characters\n",
      "\n",
      "       [:space:]\n",
      "              all horizontal or vertical whitespace\n",
      "\n",
      "       [:upper:]\n",
      "              all upper case letters\n",
      "\n",
      "       [:xdigit:]\n",
      "              all hexadecimal digits\n",
      "\n",
      "       [=CHAR=]\n",
      "              all characters which are equivalent to CHAR\n",
      "\n",
      "       Translation occurs if -d is not given and both SET1  and  SET2  appear.\n",
      "       -t  may  be  used only when translating.  SET2 is extended to length of\n",
      "       SET1 by repeating its last character as necessary.   Excess  characters\n",
      "       of  SET2  are  ignored.  Only [:lower:] and [:upper:] are guaranteed to\n",
      "       expand in ascending order; used in SET2  while  translating,  they  may\n",
      "       only  be used in pairs to specify case conversion.  -s uses SET1 if not\n",
      "       translating nor deleting; else squeezing uses  SET2  and  occurs  after\n",
      "       translation or deletion.\n",
      "\n",
      "       GNU  coreutils  online  help:  <http://www.gnu.org/software/coreutils/>\n",
      "       Report tr translation bugs to <http://translationproject.org/team/>\n",
      "\n",
      "AUTHOR\n",
      "       Written by Jim Meyering.\n",
      "\n",
      "COPYRIGHT\n",
      "       Copyright © 2013 Free Software Foundation, Inc.   License  GPLv3+:  GNU\n",
      "       GPL version 3 or later <http://gnu.org/licenses/gpl.html>.\n",
      "       This  is  free  software:  you  are free to change and redistribute it.\n",
      "       There is NO WARRANTY, to the extent permitted by law.\n",
      "\n",
      "SEE ALSO\n",
      "       The full documentation for tr is maintained as a  Texinfo  manual.   If\n",
      "       the  info and tr programs are properly installed at your site, the com‐\n",
      "       mand\n",
      "\n",
      "              info coreutils 'tr invocation'\n",
      "\n",
      "       should give you access to the complete manual.\n",
      "\n",
      "\n",
      "\n",
      "GNU coreutils 8.22                April 2018                             TR(1)\n"
     ]
    }
   ],
   "source": [
    "man tr"
   ]
  },
  {
   "cell_type": "markdown",
   "metadata": {},
   "source": [
    "### ```od```."
   ]
  },
  {
   "cell_type": "code",
   "execution_count": null,
   "metadata": {
    "scrolled": false
   },
   "outputs": [],
   "source": [
    "man od"
   ]
  },
  {
   "cell_type": "markdown",
   "metadata": {},
   "source": [
    "### ```pr```."
   ]
  },
  {
   "cell_type": "markdown",
   "metadata": {},
   "source": [
    "## pipe ```|```"
   ]
  },
  {
   "cell_type": "markdown",
   "metadata": {},
   "source": [
    "## ```tee ```"
   ]
  },
  {
   "cell_type": "markdown",
   "metadata": {},
   "source": [
    "<p style=\"text-align: center\"><a rel=\"license\" href=\"http://creativecommons.org/licenses/by/4.0/\"><img alt=\"Licencia Creative Commons\" style=\"border-width:0\" src=\"https://i.creativecommons.org/l/by/4.0/80x15.png\" /></a><br />Esta obra está bajo una <a rel=\"license\" href=\"http://creativecommons.org/licenses/by/4.0/\">Licencia Creative Commons Atribución 4.0 Internacional</a>.</p>\n",
    "<p style=\"text-align: center\">&copy; José Luis Chiquete Valdivieso. 2019.</p>"
   ]
  }
 ],
 "metadata": {
  "kernelspec": {
   "display_name": "Bash",
   "language": "bash",
   "name": "bash"
  },
  "language_info": {
   "codemirror_mode": "shell",
   "file_extension": ".sh",
   "mimetype": "text/x-sh",
   "name": "bash"
  }
 },
 "nbformat": 4,
 "nbformat_minor": 2
}
