{
 "cells": [
  {
   "cell_type": "markdown",
   "metadata": {},
   "source": [
    "[![cloudevel](Imagenes/cloudevel.png)](https://cloudevel.com)"
   ]
  },
  {
   "cell_type": "markdown",
   "metadata": {},
   "source": [
    "## Entrada, salida y error estándar.\n",
    "\n",
    "\n",
    "https://www.cyberciti.biz/faq/redirecting-stderr-to-stdout/\n",
    "\n",
    "## Flujos de texto.\n",
    "\n",
    "## Filtros.\n",
    "### ```less``` y ```more```. \n",
    "### ```cat```.\n",
    "### ```echo```.\n",
    "### ```print```.\n",
    "### ```head```.\n",
    "### ```tail```.\n",
    "### ```wc ```.\n",
    "### ```diff```.\n",
    "### ```patch```.\n",
    "### ```sort ```.\n",
    "### ```uniq```.\n",
    "### ```split```.\n",
    "### ```cut```.\n",
    "###  ```paste```.\n",
    "### ```join```.\n",
    "### ```tr```.\n",
    "### ```expand```.\n",
    "### ```unexpand```.\n",
    "### ```pr```.\n",
    "### ```nl```.\n",
    "### ```fmt```.\n",
    "### La familia ```grep```.\n",
    "### ```awk```y ```gawk```.\n",
    "### ```ed``` y ```sed```.\n",
    "## Enrutamiento de flujos con pipes.\n",
    "### \"*|*\"\n",
    "### \"*&lt;\"\n",
    "### \"*&gt;*\"\n",
    "### \"*&lt;&lt;*\"\n",
    "### \"*&gt;&gt;*\"\n",
    "### \"*tee*\"\n",
    "\n",
    "## Búsqueda de archivos.\n",
    "### ```find```.\n",
    "###  ```xargs```."
   ]
  },
  {
   "cell_type": "markdown",
   "metadata": {},
   "source": [
    "<p style=\"text-align: center\"><a rel=\"license\" href=\"http://creativecommons.org/licenses/by/4.0/\"><img alt=\"Licencia Creative Commons\" style=\"border-width:0\" src=\"https://i.creativecommons.org/l/by/4.0/80x15.png\" /></a><br />Esta obra está bajo una <a rel=\"license\" href=\"http://creativecommons.org/licenses/by/4.0/\">Licencia Creative Commons Atribución 4.0 Internacional</a>.</p>\n",
    "<p style=\"text-align: center\">&copy; José Luis Chiquete Valdivieso. 2019.</p>"
   ]
  }
 ],
 "metadata": {
  "kernelspec": {
   "display_name": "Bash",
   "language": "bash",
   "name": "bash"
  },
  "language_info": {
   "codemirror_mode": "shell",
   "file_extension": ".sh",
   "mimetype": "text/x-sh",
   "name": "bash"
  }
 },
 "nbformat": 4,
 "nbformat_minor": 2
}
