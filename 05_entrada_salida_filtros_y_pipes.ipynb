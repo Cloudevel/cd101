{
 "cells": [
  {
   "cell_type": "markdown",
   "metadata": {},
   "source": [
    "[![cloudevel](Imagenes/cloudevel.png)](https://cloudevel.com)"
   ]
  },
  {
   "cell_type": "markdown",
   "metadata": {},
   "source": [
    "## Entrada estándar, salida estandar y error estándar."
   ]
  },
  {
   "cell_type": "markdown",
   "metadata": {},
   "source": [
    "### Entrada estándar.\n",
    "\n",
    "Se conoce como *stdin* y para el usuario corresponde a las señales enviadas por un teclado."
   ]
  },
  {
   "cell_type": "markdown",
   "metadata": {},
   "source": [
    "### Salida estándar.\n",
    "\n",
    "Se conoce como *stdout* y en una terminal corresponde a lo que se despliega en  el monitos despu;es de ejecutar un comando."
   ]
  },
  {
   "cell_type": "code",
   "execution_count": null,
   "metadata": {},
   "outputs": [],
   "source": [
    "ls"
   ]
  },
  {
   "cell_type": "markdown",
   "metadata": {},
   "source": [
    "### Error estándar.\n",
    "\n",
    "La salida estándar ocurre cuando un comando es ejecutado exitosamente. Sin embargo, el error estándar (*stderr*) corresponde al flujo de texto resultante de un error."
   ]
  },
  {
   "cell_type": "code",
   "execution_count": null,
   "metadata": {},
   "outputs": [],
   "source": [
    "ls erroneo"
   ]
  },
  {
   "cell_type": "markdown",
   "metadata": {},
   "source": [
    "## El comando ```echo```.\n",
    "\n",
    "Envía un flujo de texto a la salida estándar."
   ]
  },
  {
   "cell_type": "code",
   "execution_count": null,
   "metadata": {},
   "outputs": [],
   "source": [
    "echo Hola"
   ]
  },
  {
   "cell_type": "code",
   "execution_count": null,
   "metadata": {},
   "outputs": [],
   "source": [
    "echo \"Hola\""
   ]
  },
  {
   "cell_type": "code",
   "execution_count": null,
   "metadata": {
    "scrolled": true
   },
   "outputs": [],
   "source": [
    "echo 'Hola'"
   ]
  },
  {
   "cell_type": "markdown",
   "metadata": {},
   "source": [
    "Uso de caracteres de escape con la opción  *-e*.\n",
    "\n",
    "* El caracter de escape de el retorno  de línea es *\\n*.\n",
    "* El caracter de escape de tabulador es *\\t*."
   ]
  },
  {
   "cell_type": "code",
   "execution_count": null,
   "metadata": {},
   "outputs": [],
   "source": [
    "echo \"Hola\\nMundo.\""
   ]
  },
  {
   "cell_type": "code",
   "execution_count": null,
   "metadata": {},
   "outputs": [],
   "source": [
    "echo -e \"Hola\\nMundo.\""
   ]
  },
  {
   "cell_type": "markdown",
   "metadata": {},
   "source": [
    "### La manpage de ```echo```."
   ]
  },
  {
   "cell_type": "code",
   "execution_count": null,
   "metadata": {},
   "outputs": [],
   "source": [
    "man echo"
   ]
  },
  {
   "cell_type": "markdown",
   "metadata": {},
   "source": [
    "## El comando ```cat```.\n",
    "\n",
    "El comando ```cat``` permite redireccionar flujos de textos tanto en archivos como en la salida estándar y la entrada estándar."
   ]
  },
  {
   "cell_type": "markdown",
   "metadata": {},
   "source": [
    "### Despliegue de un archivo convencional a la salida estándar.\n",
    "\n",
    "El comando ```cat```ouede leer un archivo y enviarlo a la salida estándar mediante la siguiente sintaxis: \n",
    "\n",
    "```\n",
    "cat <archivo> \n",
    "```"
   ]
  },
  {
   "cell_type": "code",
   "execution_count": null,
   "metadata": {
    "scrolled": true
   },
   "outputs": [],
   "source": [
    "cat README.md"
   ]
  },
  {
   "cell_type": "markdown",
   "metadata": {},
   "source": [
    "### Despliegue de un flujo de datos del sistema.\n",
    "\n",
    "Como ya se comentó previamente, UNIX y GNU/Linux consideran a los procesos y a los dispostivos como archivos, con la difrencia de que estos archivos están ligados a un flujo constante de datos. Este flujo de datos puede ser considerado como un flujo de texto que puede ser capturado mediante ```cat```."
   ]
  },
  {
   "cell_type": "markdown",
   "metadata": {},
   "source": [
    "**Ejemplo:**\n",
    "\n",
    "**ADVERTENCIA:**\n",
    "\n",
    "No se recomienda realizar el siguiente ejercicio en un sistema de pruebas ni en una terminal de Jupyter ya que es posible que la terminal desde la que se relice quede inestable.\n",
    "\n",
    "Si se encuentra utilizando la máquina virtual proporcionada por  Cloudevel<sup>®</sup>, haga lo siguiente:\n",
    "* Ingrese a la consola de Virtualbox e inicie una sesión con el usuario *root* y la contraseña *0p3n5t4ckCDMX*.\n",
    "* Asegúrese de que la consola capture los eventos de su dispositivo apuntador, haciendo click en la ventana de dicha consola. El mouse desaparecerá.\n",
    "* Ejecute el comando ```cat /dev/input/mice```.\n",
    "\n",
    "Este comando enviará a la salida estándar de la terminal una serie de caracteres que corresponden a una representación de los eventos del dispositivo.\n",
    "\n",
    "* Para dejar de capturar los eventos del dispositivo teclee <kbd>Ctrl</kbd><kbd>C</kbd>.\n",
    "\n",
    "Para que la terminal de Virtualbox deje de capturar los eventos del dispositivo, accione la tecla <kbd>Ctrl</kbd> a la derecha de su teclado. Si usa una Mac, accione la tecla la tecla <kbd>Cmd</kbd> a la derecha de su teclado."
   ]
  },
  {
   "cell_type": "markdown",
   "metadata": {},
   "source": [
    "### Despliegue de varios archivos.\n",
    "\n",
    "el comando ```cat``` permite redireccionar más de un archivo mediante la siguiente sintaxis:\n",
    "\n",
    "```\n",
    "cat <archivo 1> <archivo 2> ... <archivo n> \n",
    "```"
   ]
  },
  {
   "cell_type": "code",
   "execution_count": null,
   "metadata": {
    "scrolled": false
   },
   "outputs": [],
   "source": [
    "cat README.md LICENSE"
   ]
  },
  {
   "cell_type": "markdown",
   "metadata": {},
   "source": [
    "### La manpage de ```cat```."
   ]
  },
  {
   "cell_type": "code",
   "execution_count": null,
   "metadata": {},
   "outputs": [],
   "source": [
    "man cat"
   ]
  },
  {
   "cell_type": "markdown",
   "metadata": {},
   "source": [
    "## Operaciones de entrada y salida con archivos."
   ]
  },
  {
   "cell_type": "markdown",
   "metadata": {},
   "source": [
    "### Envío a un archivo con ```>```."
   ]
  },
  {
   "cell_type": "code",
   "execution_count": 1,
   "metadata": {},
   "outputs": [],
   "source": [
    "echo -e \"Saludos.\\nEste es un mensaje de texto.\" > ~/saludo.txt"
   ]
  },
  {
   "cell_type": "code",
   "execution_count": 2,
   "metadata": {},
   "outputs": [
    {
     "name": "stdout",
     "output_type": "stream",
     "text": [
      "Saludos.\n",
      "Este es un mensaje de texto.\n"
     ]
    }
   ],
   "source": [
    "cat ~/saludo.txt"
   ]
  },
  {
   "cell_type": "code",
   "execution_count": 3,
   "metadata": {},
   "outputs": [],
   "source": [
    "ls -i > ~/listado.txt"
   ]
  },
  {
   "cell_type": "code",
   "execution_count": 4,
   "metadata": {},
   "outputs": [
    {
     "name": "stdout",
     "output_type": "stream",
     "text": [
      "  1138680 01_introduccion.ipynb\n",
      "  1138681 02_sistemas_computo.ipynb\n",
      "  1141403 03_la_línea_de_comandos.ipynb\n",
      "  1141404 04_directorios_y_archivos.ipynb\n",
      "  1141405 05_entrada_salida_filtros_y_pipes.ipynb\n",
      "  1138682 06_expresiones_regulares_y_busquedas.ipynb\n",
      "  1138683 07_introduccion_a_vim.ipynb\n",
      "  1138684 08_usuarios_y_grupos.ipynb\n",
      "  1138685 09_inicio_de_linux.ipynb\n",
      "  1138686 10_el_kernel_de_linux.ipynb\n",
      "  1138687 11_particiones_y_volumenes_de_archivos.ipynb\n",
      "  1138689 12_chroot_y_contendores.ipynb\n",
      "  1138690 13_paquetes-de-software.ipynb\n",
      "  1138691 14_ introduccion_a_redes_basicas.ipynb\n",
      "  1138692 15_procesos_trabajos_y_temporizadores.ipynb\n",
      "  1138693 16_introduccion_a_bash_scripting.ipynb\n",
      "  1138694 17_gestion_de_servicios_con_systemd.ipynb\n",
      "  1138695 18_bitacoras.ipynb\n",
      "  1138696 19_seguridad_basica.ipynb\n",
      "  1128580 20_maquinas_virtuales.ipynb\n",
      " 68415579 data\n",
      "102060841 Imagenes\n",
      "  1138697 LICENSE\n",
      "  1138698 README.md\n"
     ]
    }
   ],
   "source": [
    "cat ~/listado.txt"
   ]
  },
  {
   "cell_type": "code",
   "execution_count": 5,
   "metadata": {},
   "outputs": [],
   "source": [
    "cat ~/listado.txt ~/saludo.txt > ~/concatenado.txt"
   ]
  },
  {
   "cell_type": "code",
   "execution_count": 6,
   "metadata": {},
   "outputs": [
    {
     "name": "stdout",
     "output_type": "stream",
     "text": [
      "  1138680 01_introduccion.ipynb\n",
      "  1138681 02_sistemas_computo.ipynb\n",
      "  1141403 03_la_línea_de_comandos.ipynb\n",
      "  1141404 04_directorios_y_archivos.ipynb\n",
      "  1141405 05_entrada_salida_filtros_y_pipes.ipynb\n",
      "  1138682 06_expresiones_regulares_y_busquedas.ipynb\n",
      "  1138683 07_introduccion_a_vim.ipynb\n",
      "  1138684 08_usuarios_y_grupos.ipynb\n",
      "  1138685 09_inicio_de_linux.ipynb\n",
      "  1138686 10_el_kernel_de_linux.ipynb\n",
      "  1138687 11_particiones_y_volumenes_de_archivos.ipynb\n",
      "  1138689 12_chroot_y_contendores.ipynb\n",
      "  1138690 13_paquetes-de-software.ipynb\n",
      "  1138691 14_ introduccion_a_redes_basicas.ipynb\n",
      "  1138692 15_procesos_trabajos_y_temporizadores.ipynb\n",
      "  1138693 16_introduccion_a_bash_scripting.ipynb\n",
      "  1138694 17_gestion_de_servicios_con_systemd.ipynb\n",
      "  1138695 18_bitacoras.ipynb\n",
      "  1138696 19_seguridad_basica.ipynb\n",
      "  1128580 20_maquinas_virtuales.ipynb\n",
      " 68415579 data\n",
      "102060841 Imagenes\n",
      "  1138697 LICENSE\n",
      "  1138698 README.md\n",
      "Saludos.\n",
      "Este es un mensaje de texto.\n"
     ]
    }
   ],
   "source": [
    "cat ~/concatenado.txt"
   ]
  },
  {
   "cell_type": "markdown",
   "metadata": {},
   "source": [
    "#### Captura del teclado con ```cat``` y ```>```."
   ]
  },
  {
   "cell_type": "markdown",
   "metadata": {},
   "source": [
    "```\n",
    "cat > ~/escrito.txt\n",
    "```"
   ]
  },
  {
   "cell_type": "markdown",
   "metadata": {},
   "source": [
    "#### Captura del error estándar."
   ]
  },
  {
   "cell_type": "code",
   "execution_count": 8,
   "metadata": {},
   "outputs": [
    {
     "name": "stdout",
     "output_type": "stream",
     "text": [
      "ls: no se puede acceder a erroneo: No existe el fichero o el directorio\n"
     ]
    },
    {
     "ename": "",
     "evalue": "2",
     "output_type": "error",
     "traceback": []
    }
   ],
   "source": [
    "ls erroneo"
   ]
  },
  {
   "cell_type": "code",
   "execution_count": 9,
   "metadata": {},
   "outputs": [
    {
     "ename": "",
     "evalue": "2",
     "output_type": "error",
     "traceback": []
    }
   ],
   "source": [
    "ls erroneo 2> ~/error.txt"
   ]
  },
  {
   "cell_type": "code",
   "execution_count": 10,
   "metadata": {},
   "outputs": [
    {
     "name": "stdout",
     "output_type": "stream",
     "text": [
      "ls: no se puede acceder a erroneo: No existe el fichero o el directorio\n"
     ]
    }
   ],
   "source": [
    "cat ~/error.txt"
   ]
  },
  {
   "cell_type": "code",
   "execution_count": 11,
   "metadata": {},
   "outputs": [
    {
     "name": "stdout",
     "output_type": "stream",
     "text": [
      "02  03\tcloudevel.png\n"
     ]
    }
   ],
   "source": [
    "ls Imagenes 2> ~/error.txt"
   ]
  },
  {
   "cell_type": "code",
   "execution_count": 13,
   "metadata": {},
   "outputs": [],
   "source": [
    "cat ~/error.txt"
   ]
  },
  {
   "cell_type": "markdown",
   "metadata": {},
   "source": [
    "### Adición de flujo de texto a un archivo con ```>>```."
   ]
  },
  {
   "cell_type": "code",
   "execution_count": 15,
   "metadata": {},
   "outputs": [],
   "source": [
    "ls  -i > ~/listado.txt"
   ]
  },
  {
   "cell_type": "code",
   "execution_count": 16,
   "metadata": {},
   "outputs": [
    {
     "name": "stdout",
     "output_type": "stream",
     "text": [
      "  1138680 01_introduccion.ipynb\n",
      "  1138681 02_sistemas_computo.ipynb\n",
      "  1141403 03_la_línea_de_comandos.ipynb\n",
      "  1141404 04_directorios_y_archivos.ipynb\n",
      "  1141405 05_entrada_salida_filtros_y_pipes.ipynb\n",
      "  1138682 06_expresiones_regulares_y_busquedas.ipynb\n",
      "  1138683 07_introduccion_a_vim.ipynb\n",
      "  1138684 08_usuarios_y_grupos.ipynb\n",
      "  1138685 09_inicio_de_linux.ipynb\n",
      "  1138686 10_el_kernel_de_linux.ipynb\n",
      "  1138687 11_particiones_y_volumenes_de_archivos.ipynb\n",
      "  1138689 12_chroot_y_contendores.ipynb\n",
      "  1138690 13_paquetes-de-software.ipynb\n",
      "  1138691 14_ introduccion_a_redes_basicas.ipynb\n",
      "  1138692 15_procesos_trabajos_y_temporizadores.ipynb\n",
      "  1138693 16_introduccion_a_bash_scripting.ipynb\n",
      "  1138694 17_gestion_de_servicios_con_systemd.ipynb\n",
      "  1138695 18_bitacoras.ipynb\n",
      "  1138696 19_seguridad_basica.ipynb\n",
      "  1128580 20_maquinas_virtuales.ipynb\n",
      " 68415579 data\n",
      "102060841 Imagenes\n",
      "  1138697 LICENSE\n",
      "  1138698 README.md\n"
     ]
    }
   ],
   "source": [
    "cat ~/listado.txt"
   ]
  },
  {
   "cell_type": "code",
   "execution_count": 17,
   "metadata": {},
   "outputs": [],
   "source": [
    "ls -l >> ~/listado.txt"
   ]
  },
  {
   "cell_type": "code",
   "execution_count": 18,
   "metadata": {
    "scrolled": true
   },
   "outputs": [
    {
     "name": "stdout",
     "output_type": "stream",
     "text": [
      "  1138680 01_introduccion.ipynb\n",
      "  1138681 02_sistemas_computo.ipynb\n",
      "  1141403 03_la_línea_de_comandos.ipynb\n",
      "  1141404 04_directorios_y_archivos.ipynb\n",
      "  1141405 05_entrada_salida_filtros_y_pipes.ipynb\n",
      "  1138682 06_expresiones_regulares_y_busquedas.ipynb\n",
      "  1138683 07_introduccion_a_vim.ipynb\n",
      "  1138684 08_usuarios_y_grupos.ipynb\n",
      "  1138685 09_inicio_de_linux.ipynb\n",
      "  1138686 10_el_kernel_de_linux.ipynb\n",
      "  1138687 11_particiones_y_volumenes_de_archivos.ipynb\n",
      "  1138689 12_chroot_y_contendores.ipynb\n",
      "  1138690 13_paquetes-de-software.ipynb\n",
      "  1138691 14_ introduccion_a_redes_basicas.ipynb\n",
      "  1138692 15_procesos_trabajos_y_temporizadores.ipynb\n",
      "  1138693 16_introduccion_a_bash_scripting.ipynb\n",
      "  1138694 17_gestion_de_servicios_con_systemd.ipynb\n",
      "  1138695 18_bitacoras.ipynb\n",
      "  1138696 19_seguridad_basica.ipynb\n",
      "  1128580 20_maquinas_virtuales.ipynb\n",
      " 68415579 data\n",
      "102060841 Imagenes\n",
      "  1138697 LICENSE\n",
      "  1138698 README.md\n",
      "total 232\n",
      "-rw-rw-r--. 1 oi oi 10469 mar  4 19:20 01_introduccion.ipynb\n",
      "-rw-rw-r--. 1 oi oi 13516 mar  7 17:20 02_sistemas_computo.ipynb\n",
      "-rw-rw-r--. 1 oi oi 12229 mar 11 16:22 03_la_línea_de_comandos.ipynb\n",
      "-rw-rw-r--. 1 oi oi 47363 mar 11 17:25 04_directorios_y_archivos.ipynb\n",
      "-rw-rw-r--. 1 oi oi 31115 mar 12 14:16 05_entrada_salida_filtros_y_pipes.ipynb\n",
      "-rw-rw-r--. 1 oi oi  8418 mar 12 13:09 06_expresiones_regulares_y_busquedas.ipynb\n",
      "-rw-rw-r--. 1 oi oi  4718 mar 12 14:00 07_introduccion_a_vim.ipynb\n",
      "-rw-rw-r--. 1 oi oi  2410 mar 11 16:22 08_usuarios_y_grupos.ipynb\n",
      "-rw-rw-r--. 1 oi oi  1431 mar 11 16:22 09_inicio_de_linux.ipynb\n",
      "-rw-rw-r--. 1 oi oi  1758 mar 11 16:22 10_el_kernel_de_linux.ipynb\n",
      "-rw-rw-r--. 1 oi oi  3191 mar 11 16:22 11_particiones_y_volumenes_de_archivos.ipynb\n",
      "-rw-rw-r--. 1 oi oi  1109 mar 11 16:22 12_chroot_y_contendores.ipynb\n",
      "-rw-rw-r--. 1 oi oi  1771 mar 11 16:22 13_paquetes-de-software.ipynb\n",
      "-rw-rw-r--. 1 oi oi  2319 mar 11 16:22 14_ introduccion_a_redes_basicas.ipynb\n",
      "-rw-rw-r--. 1 oi oi 19838 mar 11 16:22 15_procesos_trabajos_y_temporizadores.ipynb\n",
      "-rw-rw-r--. 1 oi oi  6077 mar 11 16:22 16_introduccion_a_bash_scripting.ipynb\n",
      "-rw-rw-r--. 1 oi oi  4555 mar 11 16:22 17_gestion_de_servicios_con_systemd.ipynb\n",
      "-rw-rw-r--. 1 oi oi  4542 mar 11 16:22 18_bitacoras.ipynb\n",
      "-rw-rw-r--. 1 oi oi  4542 mar 11 16:22 19_seguridad_basica.ipynb\n",
      "-rw-rw-r--. 1 oi oi  1574 mar 11 16:22 20_maquinas_virtuales.ipynb\n",
      "drwxr-xr-x. 4 oi oi    42 mar 12 11:34 data\n",
      "drwxrwxr-x. 5 oi oi    73 mar  7 17:20 Imagenes\n",
      "-rw-rw-r--. 1 oi oi  1068 mar  4 17:50 LICENSE\n",
      "-rw-rw-r--. 1 oi oi  1079 mar 12 12:04 README.md\n"
     ]
    }
   ],
   "source": [
    "cat ~/listado.txt"
   ]
  },
  {
   "cell_type": "markdown",
   "metadata": {},
   "source": [
    "## Filtros."
   ]
  },
  {
   "cell_type": "markdown",
   "metadata": {},
   "source": [
    "Los fitros son aplicaciones con capacidad de procesar (modificar o analizar) el flujo de texto que recibe, dando por resultado otro flujo de texto."
   ]
  },
  {
   "cell_type": "markdown",
   "metadata": {},
   "source": [
    "### Visualización de texto en una ventana mediante  ```less``` y ```more```. \n",
    "\n",
    "El filtro ```less``` permite usar una ventana similar a la de ```man``` en una terminal.\n",
    "\n",
    "\n",
    "**Ejemplos:**\n",
    "\n",
    "* Abra una terminal de Jupyter y ejecute el comando ```less cd101/README.md```.\n",
    "\n",
    "* Abra una terminal de Jupyter y ejecute el comando ```more cd101/README.md```.\n",
    "\n",
    "**Nota:**\n",
    "Para salir de la ventana, use la tecla <kbd>q</kbd>."
   ]
  },
  {
   "cell_type": "markdown",
   "metadata": {},
   "source": [
    "#### La manpage de ```less```."
   ]
  },
  {
   "cell_type": "code",
   "execution_count": 19,
   "metadata": {},
   "outputs": [
    {
     "name": "stdout",
     "output_type": "stream",
     "text": [
      "LESS(1)                     General Commands Manual                    LESS(1)\n",
      "\n",
      "\n",
      "\n",
      "NAME\n",
      "       less - opposite of more\n",
      "\n",
      "SYNOPSIS\n",
      "       less -?\n",
      "       less --help\n",
      "       less -V\n",
      "       less --version\n",
      "       less [-[+]aABcCdeEfFgGiIJKLmMnNqQrRsSuUVwWX~]\n",
      "            [-b space] [-h lines] [-j line] [-k keyfile]\n",
      "            [-{oO} logfile] [-p pattern] [-P prompt] [-t tag]\n",
      "            [-T tagsfile] [-x tab,...] [-y lines] [-[z] lines]\n",
      "            [-# shift] [+[+]cmd] [--] [filename]...\n",
      "       (See  the  OPTIONS section for alternate option syntax with long option\n",
      "       names.)\n",
      "\n",
      "\n",
      "DESCRIPTION\n",
      "       Less is a program similar to more (1), but which allows backward  move‐\n",
      "       ment in the file as well as forward movement.  Also, less does not have\n",
      "       to read the entire input file before  starting,  so  with  large  input\n",
      "       files  it  starts  up  faster than text editors like vi (1).  Less uses\n",
      "       termcap (or terminfo on some systems), so it can run on  a  variety  of\n",
      "       terminals.   There is even limited support for hardcopy terminals.  (On\n",
      "       a hardcopy terminal, lines which should be printed at the  top  of  the\n",
      "       screen are prefixed with a caret.)\n",
      "\n",
      "       Commands  are based on both more and vi.  Commands may be preceded by a\n",
      "       decimal number, called N in the descriptions below.  The number is used\n",
      "       by some commands, as indicated.\n",
      "\n",
      "\n",
      "COMMANDS\n",
      "       In  the following descriptions, ^X means control-X.  ESC stands for the\n",
      "       ESCAPE  key;  for  example  ESC-v  means  the  two  character  sequence\n",
      "       \"ESCAPE\", then \"v\".\n",
      "\n",
      "       h or H Help:  display  a  summary of these commands.  If you forget all\n",
      "              the other commands, remember this one.\n",
      "\n",
      "       SPACE or ^V or f or ^F\n",
      "              Scroll forward N  lines,  default  one  window  (see  option  -z\n",
      "              below).   If  N  is  more  than  the screen size, only the final\n",
      "              screenful is displayed.  Warning: some systems use ^V as a  spe‐\n",
      "              cial literalization character.\n",
      "\n",
      "       z      Like  SPACE,  but  if  N is specified, it becomes the new window\n",
      "              size.\n",
      "\n",
      "       ESC-SPACE\n",
      "              Like SPACE, but scrolls a full screenful,  even  if  it  reaches\n",
      "              end-of-file in the process.\n",
      "\n",
      "       ENTER or RETURN or ^N or e or ^E or j or ^J\n",
      "              Scroll  forward N lines, default 1.  The entire N lines are dis‐\n",
      "              played, even if N is more than the screen size.\n",
      "\n",
      "       d or ^D\n",
      "              Scroll forward N lines, default one half of the screen size.  If\n",
      "              N  is specified, it becomes the new default for subsequent d and\n",
      "              u commands.\n",
      "\n",
      "       b or ^B or ESC-v\n",
      "              Scroll backward N lines,  default  one  window  (see  option  -z\n",
      "              below).   If  N  is  more  than  the screen size, only the final\n",
      "              screenful is displayed.\n",
      "\n",
      "       w      Like ESC-v, but if N is specified, it  becomes  the  new  window\n",
      "              size.\n",
      "\n",
      "       y or ^Y or ^P or k or ^K\n",
      "              Scroll backward N lines, default 1.  The entire N lines are dis‐\n",
      "              played, even if N is more than the screen size.   Warning:  some\n",
      "              systems use ^Y as a special job control character.\n",
      "\n",
      "       u or ^U\n",
      "              Scroll  backward  N  lines, default one half of the screen size.\n",
      "              If N is specified, it becomes the new default for  subsequent  d\n",
      "              and u commands.\n",
      "\n",
      "       ESC-) or RIGHTARROW\n",
      "              Scroll  horizontally right N characters, default half the screen\n",
      "              width (see the -# option).  If  a  number  N  is  specified,  it\n",
      "              becomes  the  default  for  future RIGHTARROW and LEFTARROW com‐\n",
      "              mands.  While the text is scrolled, it acts  as  though  the  -S\n",
      "              option (chop lines) were in effect.\n",
      "\n",
      "       ESC-( or LEFTARROW\n",
      "              Scroll  horizontally  left N characters, default half the screen\n",
      "              width (see the -# option).  If  a  number  N  is  specified,  it\n",
      "              becomes  the  default  for  future RIGHTARROW and LEFTARROW com‐\n",
      "              mands.\n",
      "\n",
      "       r or ^R or ^L\n",
      "              Repaint the screen.\n",
      "\n",
      "       R      Repaint the screen, discarding any buffered  input.   Useful  if\n",
      "              the file is changing while it is being viewed.\n",
      "\n",
      "       F      Scroll  forward, and keep trying to read when the end of file is\n",
      "              reached.  Normally this command would be used  when  already  at\n",
      "              the  end of the file.  It is a way to monitor the tail of a file\n",
      "              which is growing while it is being  viewed.   (The  behavior  is\n",
      "              similar to the \"tail -f\" command.)\n",
      "\n",
      "       ESC-F  Like  F,  but  as soon as a line is found which matches the last\n",
      "              search pattern, the terminal bell is rung and forward  scrolling\n",
      "              stops.\n",
      "\n",
      "       g or < or ESC-<\n",
      "              Go to line N in the file, default 1 (beginning of file).  (Warn‐\n",
      "              ing: this may be slow if N is large.)\n",
      "\n",
      "       G or > or ESC->\n",
      "              Go to line N in the file, default the end of the  file.   (Warn‐\n",
      "              ing:  this  may  be slow if N is large, or if N is not specified\n",
      "              and standard input, rather than a file, is being read.)\n",
      "\n",
      "       p or % Go to a position N percent into the file.  N should be between 0\n",
      "              and 100, and may contain a decimal point.\n",
      "\n",
      "       P      Go to the line containing byte offset N in the file.\n",
      "\n",
      "       {      If a left curly bracket appears in the top line displayed on the\n",
      "              screen, the { command  will  go  to  the  matching  right  curly\n",
      "              bracket.   The matching right curly bracket is positioned on the\n",
      "              bottom line of the screen.  If there is more than one left curly\n",
      "              bracket  on  the top line, a number N may be used to specify the\n",
      "              N-th bracket on the line.\n",
      "\n",
      "       }      If a right curly bracket appears in the bottom line displayed on\n",
      "              the  screen,  the  }  command will go to the matching left curly\n",
      "              bracket.  The matching left curly bracket is positioned  on  the\n",
      "              top  line  of the screen.  If there is more than one right curly\n",
      "              bracket on the top line, a number N may be used to  specify  the\n",
      "              N-th bracket on the line.\n",
      "\n",
      "       (      Like {, but applies to parentheses rather than curly brackets.\n",
      "\n",
      "       )      Like }, but applies to parentheses rather than curly brackets.\n",
      "\n",
      "       [      Like  {, but applies to square brackets rather than curly brack‐\n",
      "              ets.\n",
      "\n",
      "       ]      Like }, but applies to square brackets rather than curly  brack‐\n",
      "              ets.\n",
      "\n",
      "       ESC-^F Followed  by two characters, acts like {, but uses the two char‐\n",
      "              acters as open and close brackets, respectively.   For  example,\n",
      "              \"ESC  ^F < >\" could be used to go forward to the > which matches\n",
      "              the < in the top displayed line.\n",
      "\n",
      "       ESC-^B Followed by two characters, acts like }, but uses the two  char‐\n",
      "              acters  as  open and close brackets, respectively.  For example,\n",
      "              \"ESC ^B < >\" could be used to go backward to the < which matches\n",
      "              the > in the bottom displayed line.\n",
      "\n",
      "       m      Followed  by  any  lowercase  letter, marks the current position\n",
      "              with that letter.\n",
      "\n",
      "       '      (Single quote.)  Followed by any lowercase  letter,  returns  to\n",
      "              the position which was previously marked with that letter.  Fol‐\n",
      "              lowed by another single quote, returns to the position at  which\n",
      "              the last \"large\" movement command was executed.  Followed by a ^\n",
      "              or $, jumps to the beginning or end of  the  file  respectively.\n",
      "              Marks  are  preserved when a new file is examined, so the ' com‐\n",
      "              mand can be used to switch between input files.\n",
      "\n",
      "       ^X^X   Same as single quote.\n",
      "\n",
      "       /pattern\n",
      "              Search forward in the file for the N-th line containing the pat‐\n",
      "              tern.  N defaults to 1.  The pattern is a regular expression, as\n",
      "              recognized by the regular expression library  supplied  by  your\n"
     ]
    },
    {
     "name": "stdout",
     "output_type": "stream",
     "text": [
      "              system.   The search starts at the first line displayed (but see\n",
      "              the -a and -j options, which change this).\n",
      "\n",
      "              Certain characters are special if entered at  the  beginning  of\n",
      "              the  pattern;  they modify the type of search rather than become\n",
      "              part of the pattern:\n",
      "\n",
      "              ^N or !\n",
      "                     Search for lines which do NOT match the pattern.\n",
      "\n",
      "              ^E or *\n",
      "                     Search multiple files.  That is, if  the  search  reaches\n",
      "                     the  END of the current file without finding a match, the\n",
      "                     search continues in the next file  in  the  command  line\n",
      "                     list.\n",
      "\n",
      "              ^F or @\n",
      "                     Begin  the  search at the first line of the FIRST file in\n",
      "                     the command line list, regardless of  what  is  currently\n",
      "                     displayed  on  the screen or the settings of the -a or -j\n",
      "                     options.\n",
      "\n",
      "              ^K     Highlight any text which matches the pattern on the  cur‐\n",
      "                     rent screen, but don't move to the first match (KEEP cur‐\n",
      "                     rent position).\n",
      "\n",
      "              ^R     Don't interpret regular expression  metacharacters;  that\n",
      "                     is, do a simple textual comparison.\n",
      "\n",
      "       ?pattern\n",
      "              Search  backward  in  the  file for the N-th line containing the\n",
      "              pattern.  The search starts at the line immediately  before  the\n",
      "              top line displayed.\n",
      "\n",
      "              Certain characters are special as in the / command:\n",
      "\n",
      "              ^N or !\n",
      "                     Search for lines which do NOT match the pattern.\n",
      "\n",
      "              ^E or *\n",
      "                     Search  multiple  files.   That is, if the search reaches\n",
      "                     the beginning of  the  current  file  without  finding  a\n",
      "                     match,  the  search continues in the previous file in the\n",
      "                     command line list.\n",
      "\n",
      "              ^F or @\n",
      "                     Begin the search at the last line of the last file in the\n",
      "                     command  line  list, regardless of what is currently dis‐\n",
      "                     played on the screen or the settings  of  the  -a  or  -j\n",
      "                     options.\n",
      "\n",
      "              ^K     As in forward searches.\n",
      "\n",
      "              ^R     As in forward searches.\n",
      "\n",
      "       ESC-/pattern\n",
      "              Same as \"/*\".\n",
      "\n",
      "       ESC-?pattern\n",
      "              Same as \"?*\".\n",
      "\n",
      "       n      Repeat  previous  search, for N-th line containing the last pat‐\n",
      "              tern.  If the previous search was modified by ^N, the search  is\n",
      "              made  for the N-th line NOT containing the pattern.  If the pre‐\n",
      "              vious search was modified by ^E, the  search  continues  in  the\n",
      "              next  (or  previous)  file if not satisfied in the current file.\n",
      "              If the previous search was modified by ^R, the  search  is  done\n",
      "              without  using  regular  expressions.  There is no effect if the\n",
      "              previous search was modified by ^F or ^K.\n",
      "\n",
      "       N      Repeat previous search, but in the reverse direction.\n",
      "\n",
      "       ESC-n  Repeat previous  search,  but  crossing  file  boundaries.   The\n",
      "              effect is as if the previous search were modified by *.\n",
      "\n",
      "       ESC-N  Repeat  previous search, but in the reverse direction and cross‐\n",
      "              ing file boundaries.\n",
      "\n",
      "       ESC-u  Undo search highlighting.   Turn  off  highlighting  of  strings\n",
      "              matching the current search pattern.  If highlighting is already\n",
      "              off because of a previous ESC-u command, turn highlighting  back\n",
      "              on.   Any  search  command  will also turn highlighting back on.\n",
      "              (Highlighting can also be disabled by toggling the -G option; in\n",
      "              that case search commands do not turn highlighting back on.)\n",
      "\n",
      "       &pattern\n",
      "              Display  only  lines which match the pattern; lines which do not\n",
      "              match the pattern are not displayed.  If pattern  is  empty  (if\n",
      "              you  type  &  immediately  followed  by ENTER), any filtering is\n",
      "              turned off, and all lines are displayed.  While filtering is  in\n",
      "              effect,  an  ampersand  is  displayed  at  the  beginning of the\n",
      "              prompt, as a reminder that some lines in the file may be hidden.\n",
      "\n",
      "              Certain characters are special as in the / command:\n",
      "\n",
      "              ^N or !\n",
      "                     Display only lines which do NOT match the pattern.\n",
      "\n",
      "              ^R     Don't interpret regular expression  metacharacters;  that\n",
      "                     is, do a simple textual comparison.\n",
      "\n",
      "       :e [filename]\n",
      "              Examine  a  new file.  If the filename is missing, the \"current\"\n",
      "              file (see the :n and :p commands below) from the list  of  files\n",
      "              in  the  command line is re-examined.  A percent sign (%) in the\n",
      "              filename is replaced by the name of the current file.   A  pound\n",
      "              sign  (#)  is  replaced  by  the name of the previously examined\n",
      "              file.   However,  two  consecutive  percent  signs  are   simply\n",
      "              replaced with a single percent sign.  This allows you to enter a\n",
      "              filename that contains a percent sign in the  name.   Similarly,\n",
      "              two  consecutive  pound  signs  are replaced with a single pound\n",
      "              sign.  The filename is inserted into the command  line  list  of\n",
      "              files  so  that it can be seen by subsequent :n and :p commands.\n",
      "              If the filename consists of several files, they are all inserted\n",
      "              into  the  list  of files and the first one is examined.  If the\n",
      "              filename contains one or more spaces, the entire filename should\n",
      "              be enclosed in double quotes (also see the -\" option).\n",
      "\n",
      "       ^X^V or E\n",
      "              Same  as :e.  Warning: some systems use ^V as a special literal‐\n",
      "              ization character.  On such systems, you may not be able to  use\n",
      "              ^V.\n",
      "\n",
      "       :n     Examine  the next file (from the list of files given in the com‐\n",
      "              mand line).  If a number N is specified, the N-th next  file  is\n",
      "              examined.\n",
      "\n",
      "       :p     Examine the previous file in the command line list.  If a number\n",
      "              N is specified, the N-th previous file is examined.\n",
      "\n",
      "       :x     Examine the first file in the command line list.  If a number  N\n",
      "              is specified, the N-th file in the list is examined.\n",
      "\n",
      "       :d     Remove the current file from the list of files.\n",
      "\n",
      "       t      Go  to the next tag, if there were more than one matches for the\n",
      "              current tag.  See the -t option for more details about tags.\n",
      "\n",
      "       T      Go to the previous tag, if there were more than one matches  for\n",
      "              the current tag.\n",
      "\n",
      "       = or ^G or :f\n",
      "              Prints  some  information about the file being viewed, including\n",
      "              its name and the line number and byte offset of the bottom  line\n",
      "              being  displayed.  If possible, it also prints the length of the\n",
      "              file, the number of lines in the file and  the  percent  of  the\n",
      "              file above the last displayed line.\n",
      "\n",
      "       -      Followed  by one of the command line option letters (see OPTIONS\n",
      "              below), this will change the setting of that option and print  a\n",
      "              message  describing  the  new  setting.   If a ^P (CONTROL-P) is\n",
      "              entered immediately after the dash, the setting of the option is\n",
      "              changed  but  no message is printed.  If the option letter has a\n",
      "              numeric value (such as -b or -h), or a string value (such as  -P\n",
      "              or  -t), a new value may be entered after the option letter.  If\n",
      "              no new value is entered, a message describing the  current  set‐\n",
      "              ting is printed and nothing is changed.\n",
      "\n",
      "       --     Like  the  -  command, but takes a long option name (see OPTIONS\n",
      "              below) rather than a single option letter.  You must press ENTER\n",
      "              or  RETURN after typing the option name.  A ^P immediately after\n"
     ]
    },
    {
     "name": "stdout",
     "output_type": "stream",
     "text": [
      "              the second dash suppresses printing of a message describing  the\n",
      "              new setting, as in the - command.\n",
      "\n",
      "       -+     Followed  by  one  of  the command line option letters this will\n",
      "              reset the option to its default  setting  and  print  a  message\n",
      "              describing  the  new  setting.  (The \"-+X\" command does the same\n",
      "              thing as \"-+X\" on the command line.)  This  does  not  work  for\n",
      "              string-valued options.\n",
      "\n",
      "       --+    Like  the -+ command, but takes a long option name rather than a\n",
      "              single option letter.\n",
      "\n",
      "       -!     Followed by one of the command line option  letters,  this  will\n",
      "              reset  the  option  to the \"opposite\" of its default setting and\n",
      "              print a message describing the new setting.  This does not  work\n",
      "              for numeric or string-valued options.\n",
      "\n",
      "       --!    Like  the -! command, but takes a long option name rather than a\n",
      "              single option letter.\n",
      "\n",
      "       _      (Underscore.)  Followed by one of the command line  option  let‐\n",
      "              ters,  this  will print a message describing the current setting\n",
      "              of that option.  The setting of the option is not changed.\n",
      "\n",
      "       __     (Double underscore.)  Like the _ (underscore) command, but takes\n",
      "              a long option name rather than a single option letter.  You must\n",
      "              press ENTER or RETURN after typing the option name.\n",
      "\n",
      "       +cmd   Causes the specified cmd to be executed each time a new file  is\n",
      "              examined.  For example, +G causes less to initially display each\n",
      "              file starting at the end rather than the beginning.\n",
      "\n",
      "       V      Prints the version number of less being run.\n",
      "\n",
      "       q or Q or :q or :Q or ZZ\n",
      "              Exits less.\n",
      "\n",
      "       The following four commands may or may not be valid, depending on  your\n",
      "       particular installation.\n",
      "\n",
      "       v      Invokes  an  editor  to edit the current file being viewed.  The\n",
      "              editor is taken from the environment variable VISUAL if defined,\n",
      "              or  EDITOR if VISUAL is not defined, or defaults to \"vi\" if nei‐\n",
      "              ther VISUAL nor EDITOR is defined.  See also the  discussion  of\n",
      "              LESSEDIT under the section on PROMPTS below.\n",
      "\n",
      "       ! shell-command\n",
      "              Invokes  a shell to run the shell-command given.  A percent sign\n",
      "              (%) in the command is replaced by the name of the current  file.\n",
      "              A pound sign (#) is replaced by the name of the previously exam‐\n",
      "              ined file.  \"!!\" repeats the last shell command.   \"!\"  with  no\n",
      "              shell  command  simply  invokes  a  shell.  On Unix systems, the\n",
      "              shell is taken from the environment variable SHELL, or  defaults\n",
      "              to  \"sh\".   On  MS-DOS and OS/2 systems, the shell is the normal\n",
      "              command processor.\n",
      "\n",
      "       | <m> shell-command\n",
      "              <m> represents any mark letter.  Pipes a section  of  the  input\n",
      "              file  to the given shell command.  The section of the file to be\n",
      "              piped is between the first line on the current  screen  and  the\n",
      "              position  marked by the letter.  <m> may also be ^ or $ to indi‐\n",
      "              cate beginning or end of file respectively.  If <m> is . or new‐\n",
      "              line, the current screen is piped.\n",
      "\n",
      "       s filename\n",
      "              Save  the  input  to  a file.  This only works if the input is a\n",
      "              pipe, not an ordinary file.\n",
      "\n",
      "OPTIONS\n",
      "       Command line options are described below.  Most options may be  changed\n",
      "       while less is running, via the \"-\" command.\n",
      "\n",
      "       Most  options  may be given in one of two forms: either a dash followed\n",
      "       by a single letter, or two dashes followed by a long  option  name.   A\n",
      "       long  option  name  may  be  abbreviated as long as the abbreviation is\n",
      "       unambiguous.  For example, --quit-at-eof may be abbreviated --quit, but\n",
      "       not --qui, since both --quit-at-eof and --quiet begin with --qui.  Some\n",
      "       long option names are in uppercase, such as --QUIT-AT-EOF, as  distinct\n",
      "       from  --quit-at-eof.  Such option names need only have their first let‐\n",
      "       ter capitalized; the remainder of the name may be in either case.   For\n",
      "       example, --Quit-at-eof is equivalent to --QUIT-AT-EOF.\n",
      "\n",
      "       Options are also taken from the environment variable \"LESS\".  For exam‐\n",
      "       ple, to avoid typing \"less -options ...\" each time less is invoked, you\n",
      "       might tell csh:\n",
      "\n",
      "       setenv LESS \"-options\"\n",
      "\n",
      "       or if you use sh:\n",
      "\n",
      "       LESS=\"-options\"; export LESS\n",
      "\n",
      "       On  MS-DOS,  you don't need the quotes, but you should replace any per‐\n",
      "       cent signs in the options string by double percent signs.\n",
      "\n",
      "       The environment variable is parsed before the command line, so  command\n",
      "       line  options  override  the  LESS  environment variable.  If an option\n",
      "       appears in the LESS variable, it can be reset to its default  value  on\n",
      "       the command line by beginning the command line option with \"-+\".\n",
      "\n",
      "       Some  options  like -k or -D require a string to follow the option let‐\n",
      "       ter.  The string for that option is considered to  end  when  a  dollar\n",
      "       sign  ($)  is found.  For example, you can set two -D options on MS-DOS\n",
      "       like this:\n",
      "\n",
      "       LESS=\"Dn9.1$Ds4.1\"\n",
      "\n",
      "       If the --use-backslash option appears earlier in the  options,  then  a\n",
      "       dollar  sign or backslash may be included literally in an option string\n",
      "       by preceding it with a backslash.  If the --use-backslash option is not\n",
      "       in  effect, then backslashes are not treated specially, and there is no\n",
      "       way to include a dollar sign in the option string.\n",
      "\n",
      "       -? or --help\n",
      "              This option displays a summary of the commands accepted by  less\n",
      "              (the  same  as  the  h  command).   (Depending on how your shell\n",
      "              interprets the question mark, it may be necessary to  quote  the\n",
      "              question mark, thus: \"-\\?\".)\n",
      "\n",
      "       -a or --search-skip-screen\n",
      "              By  default,  forward searches start at the top of the displayed\n",
      "              screen and backwards searches start at the bottom  of  the  dis‐\n",
      "              played  screen (except for repeated searches invoked by the n or\n",
      "              N commands, which  start  after  or  before  the  \"target\"  line\n",
      "              respectively; see the -j option for more about the target line).\n",
      "              The -a option causes forward searches to instead  start  at  the\n",
      "              bottom  of  the screen and backward searches to start at the top\n",
      "              of the screen, thus skipping all lines displayed on the screen.\n",
      "\n",
      "       -A or --SEARCH-SKIP-SCREEN\n",
      "              Causes all forward searches (not just non-repeated searches)  to\n",
      "              start  just  after the target line, and all backward searches to\n",
      "              start just before the target line.  Thus, forward searches  will\n",
      "              skip part of the displayed screen (from the first line up to and\n",
      "              including the target line).  Similarly backwards  searches  will\n",
      "              skip the displayed screen from the last line up to and including\n",
      "              the target line.  This was the default behavior in less versions\n",
      "              prior to 441.\n",
      "\n",
      "       -bn or --buffers=n\n",
      "              Specifies  the  amount  of  buffer  space less will use for each\n",
      "              file, in units of kilobytes (1024 bytes).   By  default  64K  of\n",
      "              buffer  space  is used for each file (unless the file is a pipe;\n",
      "              see the -B option).  The -b  option  specifies  instead  that  n\n",
      "              kilobytes of buffer space should be used for each file.  If n is\n",
      "              -1, buffer space is unlimited; that is, the entire file  can  be\n",
      "              read into memory.\n",
      "\n",
      "       -B or --auto-buffers\n",
      "              By default, when data is read from a pipe, buffers are allocated\n",
      "              automatically as needed.  If a large amount of data is read from\n",
      "              the  pipe,  this  can cause a large amount of memory to be allo‐\n",
      "              cated.  The -B option disables this automatic allocation of buf‐\n"
     ]
    },
    {
     "name": "stdout",
     "output_type": "stream",
     "text": [
      "              fers  for pipes, so that only 64K (or the amount of space speci‐\n",
      "              fied by the -b option) is used for the pipe.  Warning: use of -B\n",
      "              can  result  in  erroneous display, since only the most recently\n",
      "              viewed part of the piped data is kept  in  memory;  any  earlier\n",
      "              data is lost.\n",
      "\n",
      "       -c or --clear-screen\n",
      "              Causes  full  screen  repaints  to  be painted from the top line\n",
      "              down.  By default, full screen repaints are  done  by  scrolling\n",
      "              from the bottom of the screen.\n",
      "\n",
      "       -C or --CLEAR-SCREEN\n",
      "              Same as -c, for compatibility with older versions of less.\n",
      "\n",
      "       -d or --dumb\n",
      "              The -d option suppresses the error message normally displayed if\n",
      "              the terminal is dumb; that is, lacks some important  capability,\n",
      "              such as the ability to clear the screen or scroll backward.  The\n",
      "              -d option does not otherwise change the behavior of  less  on  a\n",
      "              dumb terminal.\n",
      "\n",
      "       -Dxcolor or --color=xcolor\n",
      "              [MS-DOS only] Sets the color of the text displayed.  x is a sin‐\n",
      "              gle character which selects the type  of  text  whose  color  is\n",
      "              being  set: n=normal, s=standout, d=bold, u=underlined, k=blink.\n",
      "              color is a pair of numbers separated by  a  period.   The  first\n",
      "              number  selects  the foreground color and the second selects the\n",
      "              background color of the text.  A single number N is the same  as\n",
      "              N.M, where M is the normal background color.\n",
      "\n",
      "\n",
      "       -e or --quit-at-eof\n",
      "              Causes  less  to  automatically  exit the second time it reaches\n",
      "              end-of-file.  By default, the only way to exit less is  via  the\n",
      "              \"q\" command.\n",
      "\n",
      "       -E or --QUIT-AT-EOF\n",
      "              Causes less to automatically exit the first time it reaches end-\n",
      "              of-file.\n",
      "\n",
      "       -f or --force\n",
      "              Forces non-regular files to be opened.  (A non-regular file is a\n",
      "              directory  or a device special file.)  Also suppresses the warn‐\n",
      "              ing message when a binary file is opened.  By default, less will\n",
      "              refuse to open non-regular files.  Note that some operating sys‐\n",
      "              tems will not allow directories to be read, even if -f is set.\n",
      "\n",
      "       -F or --quit-if-one-screen\n",
      "              Causes less to automatically exit if the entire file can be dis‐\n",
      "              played on the first screen.\n",
      "\n",
      "       -g or --hilite-search\n",
      "              Normally,  less  will highlight ALL strings which match the last\n",
      "              search command.  The -g option changes this  behavior  to  high‐\n",
      "              light  only  the  particular  string which was found by the last\n",
      "              search command.  This can cause less to run somewhat faster than\n",
      "              the default.\n",
      "\n",
      "       -G or --HILITE-SEARCH\n",
      "              The  -G  option  suppresses all highlighting of strings found by\n",
      "              search commands.\n",
      "\n",
      "       --old-bot\n",
      "              Reverts to the old bottom of screen behavior.  This can be some‐\n",
      "              times  desirable  if  the  long lines are not wrapped  correctly\n",
      "              when  reaching  the  bottom  of  the  terminal,  while scrolling\n",
      "              forward.\n",
      "\n",
      "       -hn or --max-back-scroll=n\n",
      "              Specifies  a  maximum number of lines to scroll backward.  If it\n",
      "              is necessary to scroll backward more than n lines, the screen is\n",
      "              repainted in a forward direction instead.  (If the terminal does\n",
      "              not have the ability to scroll backward, -h0 is implied.)\n",
      "\n",
      "       -i or --ignore-case\n",
      "              Causes searches to ignore case; that is, uppercase and lowercase\n",
      "              are  considered identical.  This option is ignored if any upper‐\n",
      "              case letters appear in the search pattern; in other words, if  a\n",
      "              pattern  contains  uppercase  letters, then that search does not\n",
      "              ignore case.\n",
      "\n",
      "       -I or --IGNORE-CASE\n",
      "              Like -i, but searches ignore case even if the  pattern  contains\n",
      "              uppercase letters.\n",
      "\n",
      "       -jn or --jump-target=n\n",
      "              Specifies  a line on the screen where the \"target\" line is to be\n",
      "              positioned.  The target line is the line specified by  any  com‐\n",
      "              mand  to  search for a pattern, jump to a line number, jump to a\n",
      "              file percentage or jump to a tag.  The screen line may be speci‐\n",
      "              fied  by  a number: the top line on the screen is 1, the next is\n",
      "              2, and so on.  The number may be negative to specify a line rel‐\n",
      "              ative to the bottom of the screen: the bottom line on the screen\n",
      "              is -1, the second to the bottom is -2, and so on.   Alternately,\n",
      "              the  screen line may be specified as a fraction of the height of\n",
      "              the screen, starting with a decimal point: .5 is in  the  middle\n",
      "              of  the screen, .3 is three tenths down from the first line, and\n",
      "              so on.  If the line is specified as a fraction, the actual  line\n",
      "              number  is  recalculated  if  the terminal window is resized, so\n",
      "              that the target line remains at the specified  fraction  of  the\n",
      "              screen  height.   If  any form of the -j option is used, forward\n",
      "              searches begin at the line immediately after  the  target  line,\n",
      "              and  backward  searches begin at the target line, unless changed\n",
      "              by -a or -A.  For example, if \"-j4\" is used, the target line  is\n",
      "              the  fourth line on the screen, so forward searches begin at the\n",
      "              fifth line on the screen.\n",
      "\n",
      "       -J or --status-column\n",
      "              Displays a status column at the left edge of  the  screen.   The\n",
      "              status  column  shows the lines that matched the current search.\n",
      "              The status column is also used if the -w  or  -W  option  is  in\n",
      "              effect.\n",
      "\n",
      "       -kfilename or --lesskey-file=filename\n",
      "              Causes  less  to  open and interpret the named file as a lesskey\n",
      "              (1) file.  Multiple -k options may be specified.  If the LESSKEY\n",
      "              or  LESSKEY_SYSTEM  environment variable is set, or if a lesskey\n",
      "              file is found in a standard place (see KEY BINDINGS), it is also\n",
      "              used as a lesskey file.\n",
      "\n",
      "       -K or --quit-on-intr\n",
      "              Causes  less  to exit immediately (with status 2) when an inter‐\n",
      "              rupt character (usually ^C) is typed.   Normally,  an  interrupt\n",
      "              character causes less to stop whatever it is doing and return to\n",
      "              its command prompt.  Note that  use  of  this  option  makes  it\n",
      "              impossible to return to the command prompt from the \"F\" command.\n",
      "\n",
      "       -L or --no-lessopen\n",
      "              Ignore  the  LESSOPEN  environment  variable (see the INPUT PRE‐\n",
      "              PROCESSOR section below).  This option can be  set  from  within\n",
      "              less,  but  it will apply only to files opened subsequently, not\n",
      "              to the file which is currently open.\n",
      "\n",
      "       -m or --long-prompt\n",
      "              Causes less to prompt verbosely (like more),  with  the  percent\n",
      "              into the file.  By default, less prompts with a colon.\n",
      "\n",
      "       -M or --LONG-PROMPT\n",
      "              Causes less to prompt even more verbosely than more.\n",
      "\n",
      "       -n or --line-numbers\n",
      "              Suppresses  line numbers.  The default (to use line numbers) may\n",
      "              cause less to run more slowly in some cases, especially  with  a\n",
      "              very  large  input  file.   Suppressing line numbers with the -n\n",
      "              option will avoid this problem.  Using line numbers  means:  the\n",
      "              line number will be displayed in the verbose prompt and in the =\n",
      "              command, and the v command will pass the current line number  to\n",
      "              the  editor  (see  also  the  discussion  of LESSEDIT in PROMPTS\n",
      "              below).\n",
      "\n",
      "       -N or --LINE-NUMBERS\n",
      "              Causes a line number to be displayed at the  beginning  of  each\n",
      "              line in the display.\n",
      "\n"
     ]
    },
    {
     "name": "stdout",
     "output_type": "stream",
     "text": [
      "       -ofilename or --log-file=filename\n",
      "              Causes  less  to copy its input to the named file as it is being\n",
      "              viewed.  This applies only when the input file is a pipe, not an\n",
      "              ordinary  file.   If  the file already exists, less will ask for\n",
      "              confirmation before overwriting it.\n",
      "\n",
      "       -Ofilename or --LOG-FILE=filename\n",
      "              The -O option is like -o, but it will overwrite an existing file\n",
      "              without asking for confirmation.\n",
      "\n",
      "              If  no log file has been specified, the -o and -O options can be\n",
      "              used from within less to specify a log  file.   Without  a  file\n",
      "              name, they will simply report the name of the log file.  The \"s\"\n",
      "              command is equivalent to specifying -o from within less.\n",
      "\n",
      "       -ppattern or --pattern=pattern\n",
      "              The -p option on the command line is  equivalent  to  specifying\n",
      "              +/pattern;  that  is, it tells less to start at the first occur‐\n",
      "              rence of pattern in the file.\n",
      "\n",
      "       -Pprompt or --prompt=prompt\n",
      "              Provides a way to tailor the three prompt  styles  to  your  own\n",
      "              preference.  This option would normally be put in the LESS envi‐\n",
      "              ronment variable, rather than being typed in with each less com‐\n",
      "              mand.  Such an option must either be the last option in the LESS\n",
      "              variable, or be terminated by a dollar sign.  -Ps followed by  a\n",
      "              string  changes  the default (short) prompt to that string.  -Pm\n",
      "              changes the medium (-m)  prompt.   -PM  changes  the  long  (-M)\n",
      "              prompt.   -Ph  changes  the  prompt  for  the  help screen.  -P=\n",
      "              changes the message printed by the = command.  -Pw  changes  the\n",
      "              message  printed while waiting for data (in the F command).  All\n",
      "              prompt strings consist of a  sequence  of  letters  and  special\n",
      "              escape sequences.  See the section on PROMPTS for more details.\n",
      "\n",
      "       -q or --quiet or --silent\n",
      "              Causes  moderately  \"quiet\"  operation: the terminal bell is not\n",
      "              rung if an attempt is made to scroll past the end of the file or\n",
      "              before the beginning of the file.  If the terminal has a \"visual\n",
      "              bell\", it is used instead.  The bell will  be  rung  on  certain\n",
      "              other  errors, such as typing an invalid character.  The default\n",
      "              is to ring the terminal bell in all such cases.\n",
      "\n",
      "       -Q or --QUIET or --SILENT\n",
      "              Causes totally \"quiet\" operation: the  terminal  bell  is  never\n",
      "              rung.\n",
      "\n",
      "       -r or --raw-control-chars\n",
      "              Causes \"raw\" control characters to be displayed.  The default is\n",
      "              to display control characters  using  the  caret  notation;  for\n",
      "              example, a control-A (octal 001) is displayed as \"^A\".  Warning:\n",
      "              when the -r option is used, less cannot keep track of the actual\n",
      "              appearance  of  the screen (since this depends on how the screen\n",
      "              responds to each type of control character).  Thus, various dis‐\n",
      "              play  problems may result, such as long lines being split in the\n",
      "              wrong place.\n",
      "\n",
      "       -R or --RAW-CONTROL-CHARS\n",
      "              Like -r, but only ANSI \"color\" escape sequences  are  output  in\n",
      "              \"raw\" form.  Unlike -r, the screen appearance is maintained cor‐\n",
      "              rectly  in  most  cases.   ANSI  \"color\"  escape  sequences  are\n",
      "              sequences of the form:\n",
      "\n",
      "                   ESC [ ... m\n",
      "\n",
      "              where  the  \"...\" is zero or more color specification characters\n",
      "              For the purpose of keeping  track  of  screen  appearance,  ANSI\n",
      "              color  escape sequences are assumed to not move the cursor.  You\n",
      "              can make less think that characters other than \"m\" can end  ANSI\n",
      "              color  escape  sequences  by  setting  the  environment variable\n",
      "              LESSANSIENDCHARS to the list of characters which can end a color\n",
      "              escape  sequence.   And  you can make less think that characters\n",
      "              other than the standard ones may appear between the ESC and  the\n",
      "              m  by  setting  the environment variable LESSANSIMIDCHARS to the\n",
      "              list of characters which can appear.\n",
      "\n",
      "       -s or --squeeze-blank-lines\n",
      "              Causes consecutive blank lines to  be  squeezed  into  a  single\n",
      "              blank line.  This is useful when viewing nroff output.\n",
      "\n",
      "       -S or --chop-long-lines\n",
      "              Causes  lines  longer than the screen width to be chopped (trun‐\n",
      "              cated) rather than wrapped.  That is, the portion of a long line\n",
      "              that does not fit in the screen width is not shown.  The default\n",
      "              is to wrap long lines; that is, display  the  remainder  on  the\n",
      "              next line.\n",
      "\n",
      "       -ttag or --tag=tag\n",
      "              The -t option, followed immediately by a TAG, will edit the file\n",
      "              containing that tag.  For this to work, tag information must  be\n",
      "              available;  for  example,  there  may  be  a file in the current\n",
      "              directory called \"tags\", which was previously built by ctags (1)\n",
      "              or an equivalent command.  If the environment variable LESSGLOB‐\n",
      "              ALTAGS is set, it is taken to be the name of a command  compati‐\n",
      "              ble  with  global  (1), and that command is executed to find the\n",
      "              tag.  (See http://www.gnu.org/software/global/global.html).  The\n",
      "              -t  option  may  also be specified from within less (using the -\n",
      "              command) as a way of examining a new file.  The command \":t\"  is\n",
      "              equivalent to specifying -t from within less.\n",
      "\n",
      "       -Ttagsfile or --tag-file=tagsfile\n",
      "              Specifies a tags file to be used instead of \"tags\".\n",
      "\n",
      "       -u or --underline-special\n",
      "              Causes  backspaces  and carriage returns to be treated as print‐\n",
      "              able characters; that is, they are sent  to  the  terminal  when\n",
      "              they appear in the input.\n",
      "\n",
      "       -U or --UNDERLINE-SPECIAL\n",
      "              Causes  backspaces,  tabs  and carriage returns to be treated as\n",
      "              control characters; that is, they are handled  as  specified  by\n",
      "              the -r option.\n",
      "\n",
      "              By  default,  if  neither  -u  nor -U is given, backspaces which\n",
      "              appear adjacent to an  underscore  character  are  treated  spe‐\n",
      "              cially:  the  underlined  text is displayed using the terminal's\n",
      "              hardware underlining capability.  Also, backspaces which  appear\n",
      "              between  two  identical  characters  are  treated specially: the\n",
      "              overstruck text is printed using the terminal's  hardware  bold‐\n",
      "              face  capability.   Other backspaces are deleted, along with the\n",
      "              preceding character.  Carriage returns immediately followed by a\n",
      "              newline  are  deleted.   Other  carriage  returns are handled as\n",
      "              specified by the -r option.  Text which is overstruck or  under‐\n",
      "              lined can be searched for if neither -u nor -U is in effect.\n",
      "\n",
      "       -V or --version\n",
      "              Displays the version number of less.\n",
      "\n",
      "       -w or --hilite-unread\n",
      "              Temporarily  highlights  the  first  \"new\"  line after a forward\n",
      "              movement of a full page.  The first \"new\" line is the line imme‐\n",
      "              diately  following  the  line  previously  at  the bottom of the\n",
      "              screen.  Also highlights the target line after a g or p command.\n",
      "              The  highlight is removed at the next command which causes move‐\n",
      "              ment.  The entire line is highlighted, unless the -J  option  is\n",
      "              in effect, in which case only the status column is highlighted.\n",
      "\n",
      "       -W or --HILITE-UNREAD\n",
      "              Like -w, but temporarily highlights the first new line after any\n",
      "              forward movement command larger than one line.\n",
      "\n",
      "       -xn,... or --tabs=n,...\n",
      "              Sets tab stops.  If only one n is specified, tab stops  are  set\n",
      "              at  multiples  of n.  If multiple values separated by commas are\n"
     ]
    },
    {
     "name": "stdout",
     "output_type": "stream",
     "text": [
      "              specified, tab stops are set at those positions, and  then  con‐\n",
      "              tinue  with  the  same  spacing  as  the last two.  For example,\n",
      "              -x9,17 will set tabs at positions  9,  17,  25,  33,  etc.   The\n",
      "              default for n is 8.\n",
      "\n",
      "       -X or --no-init\n",
      "              Disables sending the termcap initialization and deinitialization\n",
      "              strings to the terminal.  This is  sometimes  desirable  if  the\n",
      "              deinitialization  string does something unnecessary, like clear‐\n",
      "              ing the screen.\n",
      "\n",
      "       -yn or --max-forw-scroll=n\n",
      "              Specifies a maximum number of lines to scroll forward.  If it is\n",
      "              necessary  to  scroll  forward  more than n lines, the screen is\n",
      "              repainted instead.  The -c or -C option may be used  to  repaint\n",
      "              from  the top of the screen if desired.  By default, any forward\n",
      "              movement causes scrolling.\n",
      "\n",
      "       -[z]n or --window=n\n",
      "              Changes the default scrolling  window  size  to  n  lines.   The\n",
      "              default is one screenful.  The z and w commands can also be used\n",
      "              to change the window size.  The \"z\" may be omitted for  compati‐\n",
      "              bility with some versions of more.  If the number n is negative,\n",
      "              it indicates n lines less than the  current  screen  size.   For\n",
      "              example, if the screen is 24 lines, -z-4 sets the scrolling win‐\n",
      "              dow to 20 lines.  If the screen is  resized  to  40  lines,  the\n",
      "              scrolling window automatically changes to 36 lines.\n",
      "\n",
      "       -\"cc or --quotes=cc\n",
      "              Changes  the  filename quoting character.  This may be necessary\n",
      "              if you are trying to name a file which contains both spaces  and\n",
      "              quote  characters.  Followed by a single character, this changes\n",
      "              the quote character to that character.  Filenames  containing  a\n",
      "              space should then be surrounded by that character rather than by\n",
      "              double quotes.  Followed by two  characters,  changes  the  open\n",
      "              quote  to the first character, and the close quote to the second\n",
      "              character.  Filenames containing a space should then be preceded\n",
      "              by  the  open  quote  character  and followed by the close quote\n",
      "              character.  Note  that  even  after  the  quote  characters  are\n",
      "              changed,  this  option  remains  -\" (a dash followed by a double\n",
      "              quote).\n",
      "\n",
      "       -~ or --tilde\n",
      "              Normally lines after end of file are displayed as a single tilde\n",
      "              (~).  This option causes lines after end of file to be displayed\n",
      "              as blank lines.\n",
      "\n",
      "       -# or --shift\n",
      "              Specifies the default number of positions to scroll horizontally\n",
      "              in  the RIGHTARROW and LEFTARROW commands.  If the number speci‐\n",
      "              fied is zero, it sets the default number  of  positions  to  one\n",
      "              half of the screen width.  Alternately, the number may be speci‐\n",
      "              fied as a fraction of the width of the screen, starting  with  a\n",
      "              decimal  point:  .5  is  half  of  the screen width, .3 is three\n",
      "              tenths of the screen width, and so on.  If the number is  speci‐\n",
      "              fied  as  a  fraction,  the actual number of scroll positions is\n",
      "              recalculated if the terminal window  is  resized,  so  that  the\n",
      "              actual  scroll  remains  at the specified fraction of the screen\n",
      "              width.\n",
      "\n",
      "       --follow-name\n",
      "              Normally, if the input file is renamed while  an  F  command  is\n",
      "              executing,  less  will  continue  to display the contents of the\n",
      "              original file despite its  name  change.   If  --follow-name  is\n",
      "              specified, during an F command less will periodically attempt to\n",
      "              reopen the file by name.  If the reopen succeeds and the file is\n",
      "              a  different file from the original (which means that a new file\n",
      "              has been created  with  the  same  name  as  the  original  (now\n",
      "              renamed) file), less will display the contents of that new file.\n",
      "\n",
      "       --no-keypad\n",
      "              Disables  sending the keypad initialization and deinitialization\n",
      "              strings to the terminal.  This is sometimes useful if the keypad\n",
      "              strings make the numeric keypad behave in an undesirable manner.\n",
      "\n",
      "       --use-backslash\n",
      "              This  option changes the interpretations of options which follow\n",
      "              this one.  After the --use-backslash option, any backslash in an\n",
      "              option  string  is  removed and the following character is taken\n",
      "              literally.  This allows a dollar sign to be included  in  option\n",
      "              strings.\n",
      "\n",
      "       --     A  command  line  argument of \"--\" marks the end of option argu‐\n",
      "              ments.  Any arguments following this are  interpreted  as  file‐\n",
      "              names.  This can be useful when viewing a file whose name begins\n",
      "              with a \"-\" or \"+\".\n",
      "\n",
      "       +      If a command line option begins with +, the  remainder  of  that\n",
      "              option  is taken to be an initial command to less.  For example,\n",
      "              +G tells less to start at the end of the file  rather  than  the\n",
      "              beginning,  and  +/xyz tells it to start at the first occurrence\n",
      "              of \"xyz\" in the file.  As a special case,  +<number>  acts  like\n",
      "              +<number>g; that is, it starts the display at the specified line\n",
      "              number (however, see the caveat under the  \"g\"  command  above).\n",
      "              If  the  option  starts  with ++, the initial command applies to\n",
      "              every file being viewed, not just the first one.  The +  command\n",
      "              described previously may also be used to set (or change) an ini‐\n",
      "              tial command for every file.\n",
      "\n",
      "\n",
      "LINE EDITING\n",
      "       When entering command line at the bottom of the screen (for example,  a\n",
      "       filename for the :e command, or the pattern for a search command), cer‐\n",
      "       tain keys can be used to manipulate the command  line.   Most  commands\n",
      "       have  an alternate form in [ brackets ] which can be used if a key does\n",
      "       not exist on a particular keyboard.  (Note  that  the  forms  beginning\n",
      "       with  ESC do not work in some MS-DOS and Windows systems because ESC is\n",
      "       the line erase character.)  Any of these special keys  may  be  entered\n",
      "       literally  by  preceding  it with the \"literal\" character, either ^V or\n",
      "       ^A.  A backslash itself may also be entered literally by  entering  two\n",
      "       backslashes.\n",
      "\n",
      "       LEFTARROW [ ESC-h ]\n",
      "              Move the cursor one space to the left.\n",
      "\n",
      "       RIGHTARROW [ ESC-l ]\n",
      "              Move the cursor one space to the right.\n",
      "\n",
      "       ^LEFTARROW [ ESC-b or ESC-LEFTARROW ]\n",
      "              (That  is, CONTROL and LEFTARROW simultaneously.)  Move the cur‐\n",
      "              sor one word to the left.\n",
      "\n",
      "       ^RIGHTARROW [ ESC-w or ESC-RIGHTARROW ]\n",
      "              (That is, CONTROL and RIGHTARROW simultaneously.)  Move the cur‐\n",
      "              sor one word to the right.\n",
      "\n",
      "       HOME [ ESC-0 ]\n",
      "              Move the cursor to the beginning of the line.\n",
      "\n",
      "       END [ ESC-$ ]\n",
      "              Move the cursor to the end of the line.\n",
      "\n",
      "       BACKSPACE\n",
      "              Delete  the  character  to the left of the cursor, or cancel the\n",
      "              command if the command line is empty.\n",
      "\n",
      "       DELETE or [ ESC-x ]\n",
      "              Delete the character under the cursor.\n",
      "\n",
      "       ^BACKSPACE [ ESC-BACKSPACE ]\n",
      "              (That is, CONTROL and  BACKSPACE  simultaneously.)   Delete  the\n",
      "              word to the left of the cursor.\n",
      "\n",
      "       ^DELETE [ ESC-X or ESC-DELETE ]\n",
      "              (That  is,  CONTROL and DELETE simultaneously.)  Delete the word\n",
      "              under the cursor.\n",
      "\n",
      "       UPARROW [ ESC-k ]\n",
      "              Retrieve the previous command line.  If  you  first  enter  some\n",
      "              text  and then press UPARROW, it will retrieve the previous com‐\n",
      "              mand which begins with that text.\n",
      "\n",
      "       DOWNARROW [ ESC-j ]\n",
      "              Retrieve the next command line.  If you first  enter  some  text\n"
     ]
    },
    {
     "name": "stdout",
     "output_type": "stream",
     "text": [
      "              and  then  press  DOWNARROW,  it  will retrieve the next command\n",
      "              which begins with that text.\n",
      "\n",
      "       TAB    Complete the partial filename to the left of the cursor.  If  it\n",
      "              matches  more than one filename, the first match is entered into\n",
      "              the command line.  Repeated  TABs  will  cycle  thru  the  other\n",
      "              matching filenames.  If the completed filename is a directory, a\n",
      "              \"/\" is appended to the filename.  (On MS-DOS systems, a  \"\\\"  is\n",
      "              appended.)   The  environment variable LESSSEPARATOR can be used\n",
      "              to specify a different character to append to a directory name.\n",
      "\n",
      "       BACKTAB [ ESC-TAB ]\n",
      "              Like, TAB, but cycles in the reverse direction thru the matching\n",
      "              filenames.\n",
      "\n",
      "       ^L     Complete  the partial filename to the left of the cursor.  If it\n",
      "              matches more than one filename, all matches are entered into the\n",
      "              command line (if they fit).\n",
      "\n",
      "       ^U (Unix and OS/2) or ESC (MS-DOS)\n",
      "              Delete  the  entire  command  line, or cancel the command if the\n",
      "              command line is empty.  If you have changed your line-kill char‐\n",
      "              acter in Unix to something other than ^U, that character is used\n",
      "              instead of ^U.\n",
      "\n",
      "       ^G     Delete the entire command line and return to the main prompt.\n",
      "\n",
      "\n",
      "KEY BINDINGS\n",
      "       You may define your own less commands by using the program lesskey  (1)\n",
      "       to  create  a  lesskey file.  This file specifies a set of command keys\n",
      "       and an action associated with each key.  You may also  use  lesskey  to\n",
      "       change the line-editing keys (see LINE EDITING), and to set environment\n",
      "       variables.  If the environment variable LESSKEY is set, less uses  that\n",
      "       as  the  name of the lesskey file.  Otherwise, less looks in a standard\n",
      "       place for the lesskey file: On Unix systems, less looks for  a  lesskey\n",
      "       file  called  \"$HOME/.less\".  On MS-DOS and Windows systems, less looks\n",
      "       for a lesskey file called \"$HOME/_less\", and if it is not found  there,\n",
      "       then looks for a lesskey file called \"_less\" in any directory specified\n",
      "       in the PATH environment variable.  On OS/2 systems, less  looks  for  a\n",
      "       lesskey  file  called  \"$HOME/less.ini\",  and  if it is not found, then\n",
      "       looks for a lesskey file called \"less.ini\" in any  directory  specified\n",
      "       in the INIT environment variable, and if it not found there, then looks\n",
      "       for a lesskey file called \"less.ini\" in any directory specified in  the\n",
      "       PATH  environment  variable.   See  the  lesskey  manual  page for more\n",
      "       details.\n",
      "\n",
      "       A system-wide lesskey file may also be set up to provide key  bindings.\n",
      "       If a key is defined in both a local lesskey file and in the system-wide\n",
      "       file, key bindings in the local file take precedence over those in  the\n",
      "       system-wide  file.   If the environment variable LESSKEY_SYSTEM is set,\n",
      "       less uses that as the name of the system-wide lesskey file.  Otherwise,\n",
      "       less  looks  in  a  standard place for the system-wide lesskey file: On\n",
      "       Unix systems, the system-wide lesskey file  is  /usr/local/etc/sysless.\n",
      "       (However,  if  less  was  built with a different sysconf directory than\n",
      "       /usr/local/etc, that directory is where the sysless file is found.)  On\n",
      "       MS-DOS  and  Windows  systems, the system-wide lesskey file is c:\\_sys‐\n",
      "       less.  On OS/2 systems, the system-wide lesskey file is c:\\sysless.ini.\n",
      "\n",
      "\n",
      "INPUT PREPROCESSOR\n",
      "       You may define an \"input preprocessor\" for less.  Before less  opens  a\n",
      "       file, it first gives your input preprocessor a chance to modify the way\n",
      "       the contents of the file are displayed.  An input preprocessor is  sim‐\n",
      "       ply  an executable program (or shell script), which writes the contents\n",
      "       of the file to a different file, called the replacement file.  The con‐\n",
      "       tents  of  the replacement file are then displayed in place of the con‐\n",
      "       tents of the original file.  However, it will appear to the user as  if\n",
      "       the  original  file  is opened; that is, less will display the original\n",
      "       filename as the name of the current file.\n",
      "\n",
      "       An input preprocessor receives one command line argument, the  original\n",
      "       filename,  as  entered  by  the user.  It should create the replacement\n",
      "       file, and when finished, print the name of the replacement file to  its\n",
      "       standard  output.  If the input preprocessor does not output a replace‐\n",
      "       ment filename, less uses the original file, as normal.  The input  pre‐\n",
      "       processor  is  not  called  when  viewing standard input.  To set up an\n",
      "       input preprocessor, set the LESSOPEN environment variable to a  command\n",
      "       line  which  will  invoke  your  input preprocessor.  This command line\n",
      "       should include one  occurrence  of  the  string  \"%s\",  which  will  be\n",
      "       replaced  by  the  filename  when  the  input  preprocessor  command is\n",
      "       invoked.\n",
      "\n",
      "       When less closes a file opened in such a way, it will call another pro‐\n",
      "       gram,  called  the  input  postprocessor, which may perform any desired\n",
      "       clean-up action (such as  deleting  the  replacement  file  created  by\n",
      "       LESSOPEN).  This program receives two command line arguments, the orig‐\n",
      "       inal filename as entered by the user, and the name of  the  replacement\n",
      "       file.   To set up an input postprocessor, set the LESSCLOSE environment\n",
      "       variable to a command line which will invoke your input  postprocessor.\n",
      "       It  may  include  two  occurrences  of  the  string  \"%s\"; the first is\n",
      "       replaced with the original name of the file and  the  second  with  the\n",
      "       name of the replacement file, which was output by LESSOPEN.\n",
      "\n",
      "       For  example, on many Unix systems, these two scripts will allow you to\n",
      "       keep files in compressed format, but still let less view them directly:\n",
      "\n",
      "       lessopen.sh:\n",
      "            #! /bin/sh\n",
      "            case \"$1\" in\n",
      "            *.Z) uncompress -\n",
      "                 if [ -s /tmp/less.$$ ]; then\n",
      "                      echo /tmp/less.$$\n",
      "                 else\n",
      "                      rm -f /tmp/less.$$\n",
      "                 fi\n",
      "                 ;;\n",
      "            esac\n",
      "\n",
      "       lessclose.sh:\n",
      "            #! /bin/sh\n",
      "            rm $2\n",
      "\n",
      "       To use these scripts, put them both where they can be executed and  set\n",
      "       LESSOPEN=\"lessopen.sh %s\",  and  LESSCLOSE=\"lessclose.sh %s %s\".   More\n",
      "       complex LESSOPEN and LESSCLOSE scripts may be written to  accept  other\n",
      "       types of compressed files, and so on.\n",
      "\n",
      "       It  is  also  possible to set up an input preprocessor to pipe the file\n",
      "       data directly to less, rather than putting the data into a  replacement\n",
      "       file.  This avoids the need to decompress the entire file before start‐\n",
      "       ing to view it.  An input preprocessor that works this way is called an\n",
      "       input  pipe.   An input pipe, instead of writing the name of a replace‐\n",
      "       ment file on its standard output, writes the  entire  contents  of  the\n",
      "       replacement  file  on  its standard output.  If the input pipe does not\n",
      "       write any characters on its standard output, then there is no  replace‐\n",
      "       ment  file and less uses the original file, as normal.  To use an input\n",
      "       pipe, make the first character in the LESSOPEN environment  variable  a\n",
      "       vertical  bar  (|)  to  signify that the input preprocessor is an input\n",
      "       pipe.\n",
      "\n",
      "       For example, on many Unix systems, this script will work like the  pre‐\n",
      "       vious example scripts:\n",
      "\n",
      "       lesspipe.sh:\n",
      "            #! /bin/sh\n",
      "            case \"$1\" in\n",
      "            *.Z) uncompress -c $1  2>/dev/null\n",
      "            *)   exit 1\n",
      "                 ;;\n",
      "            esac\n",
      "            exit $?\n",
      "\n",
      "       To  use  this  script,  put  it  where  it  can  be  executed  and  set\n",
      "       LESSOPEN=\"|lesspipe.sh %s\".\n",
      "\n",
      "       Note that a preprocessor cannot output an empty  file,  since  that  is\n",
      "       interpreted  as  meaning there is no replacement, and the original file\n",
      "       is used.  To avoid this, if LESSOPEN starts with two vertical bars, the\n"
     ]
    },
    {
     "name": "stdout",
     "output_type": "stream",
     "text": [
      "       exit  status  of  the script becomes meaningful.  If the exit status is\n",
      "       zero, the output is considered to  be  replacement  text,  even  if  it\n",
      "       empty.   If  the  exit status is nonzero, any output is ignored and the\n",
      "       original file is used.  For compatibility  with  previous  versions  of\n",
      "       less, if LESSOPEN starts with only one vertical bar, the exit status of\n",
      "       the preprocessor is ignored.\n",
      "\n",
      "       When an input pipe is used, a LESSCLOSE postprocessor can be used,  but\n",
      "       it is usually not necessary since there is no replacement file to clean\n",
      "       up.  In this case, the replacement file name passed  to  the  LESSCLOSE\n",
      "       postprocessor is \"-\".\n",
      "\n",
      "       For  compatibility with previous versions of less, the input preproces‐\n",
      "       sor or pipe is not used if less is viewing standard input.  However, if\n",
      "       the  first  character of LESSOPEN is a dash (-), the input preprocessor\n",
      "       is used on standard input as well as other files.  In  this  case,  the\n",
      "       dash  is  not  considered  to  be part of the preprocessor command.  If\n",
      "       standard input is being viewed, the input preprocessor is passed a file\n",
      "       name  consisting of a single dash.  Similarly, if the first two charac‐\n",
      "       ters of LESSOPEN are vertical bar and dash (|-) or  two  vertical  bars\n",
      "       and  a  dash (||-), the input pipe is used on standard input as well as\n",
      "       other files.  Again, in this case the dash is not considered to be part\n",
      "       of the input pipe command.\n",
      "\n",
      "       There are used following files to set up default preprocessor:\n",
      "            /etc/profile.d/less.sh\n",
      "            /etc/profile.d/less.csh\n",
      "       These  files  set  up /usr/bin/lesspipe.sh as a default filter. An user\n",
      "       defined filter can be specified in ~/.lessfilter. This file should have\n",
      "       an  execute  bit  set and accept only one parameter, which represents a\n",
      "       filename. If the user defined filter process the file, zero  should  be\n",
      "       returned. Otherwise ~/.lessfilter tries to handle the file.\n",
      "\n",
      "\n",
      "NATIONAL CHARACTER SETS\n",
      "       There are three types of characters in the input file:\n",
      "\n",
      "       normal characters\n",
      "              can be displayed directly to the screen.\n",
      "\n",
      "       control characters\n",
      "              should  not  be displayed directly, but are expected to be found\n",
      "              in ordinary text files (such as backspace and tab).\n",
      "\n",
      "       binary characters\n",
      "              should not be displayed directly and  are  not  expected  to  be\n",
      "              found in text files.\n",
      "\n",
      "       A \"character set\" is simply a description of which characters are to be\n",
      "       considered normal, control, and binary.   The  LESSCHARSET  environment\n",
      "       variable  may  be  used to select a character set.  Possible values for\n",
      "       LESSCHARSET are:\n",
      "\n",
      "       ascii  BS, TAB, NL, CR, and formfeed are control characters, all  chars\n",
      "              with  values  between  32 and 126 are normal, and all others are\n",
      "              binary.\n",
      "\n",
      "       iso8859\n",
      "              Selects an ISO 8859 character set.  This is the same  as  ASCII,\n",
      "              except  characters  between  160  and  255 are treated as normal\n",
      "              characters.\n",
      "\n",
      "       latin1 Same as iso8859.\n",
      "\n",
      "       latin9 Same as iso8859.\n",
      "\n",
      "       dos    Selects a character set appropriate for MS-DOS.\n",
      "\n",
      "       ebcdic Selects an EBCDIC character set.\n",
      "\n",
      "       IBM-1047\n",
      "              Selects an EBCDIC character set used by  OS/390  Unix  Services.\n",
      "              This  is the EBCDIC analogue of latin1.  You get similar results\n",
      "              by setting either LESSCHARSET=IBM-1047 or LC_CTYPE=en_US in your\n",
      "              environment.\n",
      "\n",
      "       koi8-r Selects a Russian character set.\n",
      "\n",
      "       next   Selects a character set appropriate for NeXT computers.\n",
      "\n",
      "       utf-8  Selects  the  UTF-8  encoding  of  the  ISO 10646 character set.\n",
      "              UTF-8 is special in that it supports  multi-byte  characters  in\n",
      "              the  input  file.   It  is  the only character set that supports\n",
      "              multi-byte characters.\n",
      "\n",
      "       windows\n",
      "              Selects a character set appropriate for  Microsoft  Windows  (cp\n",
      "              1251).\n",
      "\n",
      "       In  rare cases, it may be desired to tailor less to use a character set\n",
      "       other than the ones definable by LESSCHARSET.  In this case, the  envi‐\n",
      "       ronment variable LESSCHARDEF can be used to define a character set.  It\n",
      "       should be set to a string where each character in the string represents\n",
      "       one  character  in  the character set.  The character \".\" is used for a\n",
      "       normal character, \"c\" for control, and \"b\" for binary.  A decimal  num‐\n",
      "       ber  may  be  used  for  repetition.  For example, \"bccc4b.\" would mean\n",
      "       character 0 is binary, 1, 2 and 3 are  control,  4,  5,  6  and  7  are\n",
      "       binary, and 8 is normal.  All characters after the last are taken to be\n",
      "       the same as the last, so characters 9  through  255  would  be  normal.\n",
      "       (This  is an example, and does not necessarily represent any real char‐\n",
      "       acter set.)\n",
      "\n",
      "       This table shows the value of LESSCHARDEF which is equivalent  to  each\n",
      "       of the possible values for LESSCHARSET:\n",
      "\n",
      "            ascii     8bcccbcc18b95.b\n",
      "            dos       8bcccbcc12bc5b95.b.\n",
      "            ebcdic    5bc6bcc7bcc41b.9b7.9b5.b..8b6.10b6.b9.7b\n",
      "                      9.8b8.17b3.3b9.7b9.8b8.6b10.b.b.b.\n",
      "            IBM-1047  4cbcbc3b9cbccbccbb4c6bcc5b3cbbc4bc4bccbc\n",
      "                      191.b\n",
      "            iso8859   8bcccbcc18b95.33b.\n",
      "            koi8-r    8bcccbcc18b95.b128.\n",
      "            latin1    8bcccbcc18b95.33b.\n",
      "            next      8bcccbcc18b95.bb125.bb\n",
      "\n",
      "       If  neither  LESSCHARSET nor LESSCHARDEF is set, but any of the strings\n",
      "       \"UTF-8\", \"UTF8\", \"utf-8\" or \"utf8\" is found in the LC_ALL, LC_CTYPE  or\n",
      "       LANG environment variables, then the default character set is utf-8.\n",
      "\n",
      "       If  that  string  is  not found, but your system supports the setlocale\n",
      "       interface, less will use setlocale  to  determine  the  character  set.\n",
      "       setlocale  is  controlled  by  setting the LANG or LC_CTYPE environment\n",
      "       variables.\n",
      "\n",
      "       Finally, if the setlocale interface is also not available, the  default\n",
      "       character set is latin1.\n",
      "\n",
      "       Control  and  binary  characters  are  displayed  in  standout (reverse\n",
      "       video).  Each such character is displayed in caret notation if possible\n",
      "       (e.g.  ^A for control-A).  Caret notation is used only if inverting the\n",
      "       0100 bit results in a normal printable character.  Otherwise, the char‐\n",
      "       acter  is displayed as a hex number in angle brackets.  This format can\n",
      "       be changed by setting the LESSBINFMT environment variable.   LESSBINFMT\n",
      "       may begin with a \"*\" and one character to select the display attribute:\n",
      "       \"*k\" is blinking, \"*d\" is bold, \"*u\" is underlined, \"*s\"  is  standout,\n",
      "       and  \"*n\"  is  normal.  If LESSBINFMT does not begin with a \"*\", normal\n",
      "       attribute is assumed.  The remainder of LESSBINFMT is  a  string  which\n",
      "       may  include one printf-style escape sequence (a % followed by x, X, o,\n",
      "       d, etc.).  For example, if LESSBINFMT is  \"*u[%x]\",  binary  characters\n",
      "       are  displayed  in  underlined hexadecimal surrounded by brackets.  The\n",
      "       default if no LESSBINFMT is  specified  is  \"*s<%02X>\".   Warning:  the\n",
      "       result  of  expanding the character via LESSBINFMT must be less than 31\n",
      "       characters.\n",
      "\n",
      "       When the character set is utf-8, the LESSUTFBINFMT environment variable\n",
      "       acts similarly to LESSBINFMT but it applies to Unicode code points that\n",
      "       were successfully decoded but are unsuitable for display  (e.g.,  unas‐\n",
      "       signed  code  points).   Its  default  value is \"<U+%04lX>\".  Note that\n",
      "       LESSUTFBINFMT and LESSBINFMT  share  their  display  attribute  setting\n",
      "       (\"*x\")  so specifying one will affect both; LESSUTFBINFMT is read after\n",
      "       LESSBINFMT so its setting, if any,  will  have  priority.   Problematic\n",
      "       octets  in  a  UTF-8  file (octets of a truncated sequence, octets of a\n",
      "       complete but non-shortest form  sequence,  illegal  octets,  and  stray\n",
      "       trailing  octets)  are displayed individually using LESSBINFMT so as to\n"
     ]
    },
    {
     "name": "stdout",
     "output_type": "stream",
     "text": [
      "       facilitate diagnostic of how the UTF-8 file is ill-formed.\n",
      "\n",
      "\n",
      "PROMPTS\n",
      "       The -P option allows you to tailor the prompt to your preference.   The\n",
      "       string  given  to  the  -P option replaces the specified prompt string.\n",
      "       Certain characters in the string are interpreted specially.  The prompt\n",
      "       mechanism  is  rather complicated to provide flexibility, but the ordi‐\n",
      "       nary user need not understand the details of constructing  personalized\n",
      "       prompt strings.\n",
      "\n",
      "       A  percent sign followed by a single character is expanded according to\n",
      "       what the following character is:\n",
      "\n",
      "       %bX    Replaced by the byte offset into the current input file.  The  b\n",
      "              is followed by a single character (shown as X above) which spec‐\n",
      "              ifies the line whose byte offset is to be used.  If the  charac‐\n",
      "              ter  is a \"t\", the byte offset of the top line in the display is\n",
      "              used, an \"m\" means use the middle line, a \"b\" means use the bot‐\n",
      "              tom  line,  a \"B\" means use the line just after the bottom line,\n",
      "              and a \"j\" means use the \"target\" line, as specified  by  the  -j\n",
      "              option.\n",
      "\n",
      "       %B     Replaced by the size of the current input file.\n",
      "\n",
      "       %c     Replaced by the column number of the text appearing in the first\n",
      "              column of the screen.\n",
      "\n",
      "       %dX    Replaced by the page number of a line in the  input  file.   The\n",
      "              line to be used is determined by the X, as with the %b option.\n",
      "\n",
      "       %D     Replaced  by  the  number of pages in the input file, or equiva‐\n",
      "              lently, the page number of the last line in the input file.\n",
      "\n",
      "       %E     Replaced by the name of the editor (from the VISUAL  environment\n",
      "              variable,  or  the  EDITOR environment variable if VISUAL is not\n",
      "              defined).  See the discussion of the LESSEDIT feature below.\n",
      "\n",
      "       %f     Replaced by the name of the current input file.\n",
      "\n",
      "       %F     Replaced by the last component of the name of the current  input\n",
      "              file.\n",
      "\n",
      "       %i     Replaced  by  the index of the current file in the list of input\n",
      "              files.\n",
      "\n",
      "       %lX    Replaced by the line number of a line in the  input  file.   The\n",
      "              line to be used is determined by the X, as with the %b option.\n",
      "\n",
      "       %L     Replaced by the line number of the last line in the input file.\n",
      "\n",
      "       %m     Replaced by the total number of input files.\n",
      "\n",
      "       %pX    Replaced  by  the  percent into the current input file, based on\n",
      "              byte offsets.  The line used is determined by the X as with  the\n",
      "              %b option.\n",
      "\n",
      "       %PX    Replaced  by  the  percent into the current input file, based on\n",
      "              line numbers.  The line used is determined by the X as with  the\n",
      "              %b option.\n",
      "\n",
      "       %s     Same as %B.\n",
      "\n",
      "       %t     Causes  any  trailing spaces to be removed.  Usually used at the\n",
      "              end of the string, but may appear anywhere.\n",
      "\n",
      "       %x     Replaced by the name of the next input file in the list.\n",
      "\n",
      "       If any item is unknown (for example, the file size if input is a pipe),\n",
      "       a question mark is printed instead.\n",
      "\n",
      "       The  format  of  the  prompt string can be changed depending on certain\n",
      "       conditions.  A question mark followed by a single character  acts  like\n",
      "       an  \"IF\":  depending  on the following character, a condition is evalu‐\n",
      "       ated.  If the condition is true, any characters following the  question\n",
      "       mark  and  condition  character,  up  to  a period, are included in the\n",
      "       prompt.  If the condition is false, such characters are  not  included.\n",
      "       A  colon appearing between the question mark and the period can be used\n",
      "       to establish an \"ELSE\": any characters between the colon and the period\n",
      "       are  included  in  the string if and only if the IF condition is false.\n",
      "       Condition characters (which follow a question mark) may be:\n",
      "\n",
      "       ?a     True if any characters have been included in the prompt so far.\n",
      "\n",
      "       ?bX    True if the byte offset of the specified line is known.\n",
      "\n",
      "       ?B     True if the size of current input file is known.\n",
      "\n",
      "       ?c     True if the text is horizontally shifted (%c is not zero).\n",
      "\n",
      "       ?dX    True if the page number of the specified line is known.\n",
      "\n",
      "       ?e     True if at end-of-file.\n",
      "\n",
      "       ?f     True if there is an input filename (that is, if input is  not  a\n",
      "              pipe).\n",
      "\n",
      "       ?lX    True if the line number of the specified line is known.\n",
      "\n",
      "       ?L     True if the line number of the last line in the file is known.\n",
      "\n",
      "       ?m     True if there is more than one input file.\n",
      "\n",
      "       ?n     True if this is the first prompt in a new input file.\n",
      "\n",
      "       ?pX    True  if  the percent into the current input file, based on byte\n",
      "              offsets, of the specified line is known.\n",
      "\n",
      "       ?PX    True if the percent into the current input file, based  on  line\n",
      "              numbers, of the specified line is known.\n",
      "\n",
      "       ?s     Same as \"?B\".\n",
      "\n",
      "       ?x     True  if  there  is  a  next input file (that is, if the current\n",
      "              input file is not the last one).\n",
      "\n",
      "       Any characters other than  the  special  ones  (question  mark,  colon,\n",
      "       period,  percent,  and  backslash) become literally part of the prompt.\n",
      "       Any of the special characters may be included in the  prompt  literally\n",
      "       by preceding it with a backslash.\n",
      "\n",
      "       Some examples:\n",
      "\n",
      "       ?f%f:Standard input.\n",
      "\n",
      "       This  prompt prints the filename, if known; otherwise the string \"Stan‐\n",
      "       dard input\".\n",
      "\n",
      "       ?f%f .?ltLine %lt:?pt%pt\\%:?btByte %bt:-...\n",
      "\n",
      "       This prompt would print the filename, if known.  The filename  is  fol‐\n",
      "       lowed  by  the  line  number, if known, otherwise the percent if known,\n",
      "       otherwise the byte offset if known.   Otherwise,  a  dash  is  printed.\n",
      "       Notice  how  each  question  mark  has a matching period, and how the %\n",
      "       after the %pt is included literally by escaping it with a backslash.\n",
      "\n",
      "       ?n?f%f .?m(file %i of %m) ..?e(END) ?x- Next\\: %x..%t\n",
      "\n",
      "       This prints the filename if this is the first prompt in  a  file,  fol‐\n",
      "       lowed  by  the  \"file  N  of N\" message if there is more than one input\n",
      "       file.  Then, if we are at end-of-file, the string  \"(END)\"  is  printed\n",
      "       followed  by  the name of the next file, if there is one.  Finally, any\n",
      "       trailing spaces are truncated.  This is the default prompt.  For refer‐\n",
      "       ence,  here  are  the  defaults  for  the  other two prompts (-m and -M\n",
      "       respectively).  Each is broken into  two  lines  here  for  readability\n",
      "       only.\n",
      "\n",
      "       ?n?f%f .?m(file %i of %m) ..?e(END) ?x- Next\\: %x.:\n",
      "            ?pB%pB\\%:byte %bB?s/%s...%t\n",
      "\n",
      "       ?f%f .?n?m(file %i of %m) ..?ltlines %lt-%lb?L/%L. :\n",
      "            byte %bB?s/%s. .?e(END) ?x- Next\\: %x.:?pB%pB\\%..%t\n",
      "\n",
      "       And here is the default message produced by the = command:\n",
      "\n",
      "       ?f%f .?m(file %i of %m) .?ltlines %lt-%lb?L/%L. .\n",
      "            byte %bB?s/%s. ?e(END) :?pB%pB\\%..%t\n",
      "\n",
      "       The  prompt expansion features are also used for another purpose: if an\n",
      "       environment variable LESSEDIT is defined, it is used as the command  to\n",
      "       be  executed  when  the  v  command is invoked.  The LESSEDIT string is\n",
      "       expanded in the same way as the prompt strings.  The default value  for\n",
      "       LESSEDIT is:\n",
      "\n",
      "            %E ?lm+%lm. %f\n",
      "\n",
      "       Note that this expands to the editor name, followed by a + and the line\n",
      "       number, followed by the file name.  If your editor does not accept  the\n",
      "       \"+linenumber\"  syntax,  or  has other differences in invocation syntax,\n",
      "       the LESSEDIT variable can be changed to modify this default.\n",
      "\n",
      "\n",
      "SECURITY\n",
      "       When the environment variable LESSSECURE is set to 1, less  runs  in  a\n",
      "       \"secure\" mode.  This means these features are disabled:\n",
      "\n",
      "              !      the shell command\n",
      "\n",
      "              |      the pipe command\n",
      "\n",
      "              :e     the examine command.\n",
      "\n",
      "              v      the editing command\n",
      "\n",
      "              s  -o  log files\n",
      "\n",
      "              -k     use of lesskey files\n",
      "\n",
      "              -t     use of tags files\n",
      "\n",
      "                     metacharacters in filenames, such as *\n"
     ]
    },
    {
     "name": "stdout",
     "output_type": "stream",
     "text": [
      "\n",
      "                     filename completion (TAB, ^L)\n",
      "\n",
      "       Less can also be compiled to be permanently in \"secure\" mode.\n",
      "\n",
      "\n",
      "COMPATIBILITY WITH MORE\n",
      "       If the environment variable LESS_IS_MORE is set to 1, or if the program\n",
      "       is invoked via a file link named \"more\", less behaves (mostly) in  con‐\n",
      "       formance  with  the  POSIX \"more\" command specification.  In this mode,\n",
      "       less behaves differently in these ways:\n",
      "\n",
      "       The -e option works differently.  If the -e option  is  not  set,  less\n",
      "       behaves  as  if  the -E option were set.  If the -e option is set, less\n",
      "       behaves as if the -e and -F options were set.\n",
      "\n",
      "       The -m option works differently.  If the -m  option  is  not  set,  the\n",
      "       medium  prompt  is used, and it is prefixed with the string \"--More--\".\n",
      "       If the -m option is set, the short prompt is used.\n",
      "\n",
      "       The -n option acts like the -z option.  The normal behavior of  the  -n\n",
      "       option is unavailable in this mode.\n",
      "\n",
      "       The  parameter  to  the  -p option is taken to be a less command rather\n",
      "       than a search pattern.\n",
      "\n",
      "       The LESS environment variable is  ignored,  and  the  MORE  environment\n",
      "       variable is used in its place.\n",
      "\n",
      "\n",
      "ENVIRONMENT VARIABLES\n",
      "       Environment variables may be specified either in the system environment\n",
      "       as usual, or in a lesskey  (1)  file.   If  environment  variables  are\n",
      "       defined  in  more  than one place, variables defined in a local lesskey\n",
      "       file take precedence over variables defined in the system  environment,\n",
      "       which take precedence over variables defined in the system-wide lesskey\n",
      "       file.\n",
      "\n",
      "       COLUMNS\n",
      "              Sets the number of columns on the screen.  Takes precedence over\n",
      "              the  number  of columns specified by the TERM variable.  (But if\n",
      "              you  have  a  windowing  system  which  supports  TIOCGWINSZ  or\n",
      "              WIOCGETD,  the  window  system's  idea  of the screen size takes\n",
      "              precedence over the LINES and COLUMNS environment variables.)\n",
      "\n",
      "       EDITOR The name of the editor (used for the v command).\n",
      "\n",
      "       HOME   Name of the user's home directory (used to find a  lesskey  file\n",
      "              on Unix and OS/2 systems).\n",
      "\n",
      "       HOMEDRIVE, HOMEPATH\n",
      "              Concatenation  of  the  HOMEDRIVE and HOMEPATH environment vari‐\n",
      "              ables is the name of the user's home directory if the HOME vari‐\n",
      "              able is not set (only in the Windows version).\n",
      "\n",
      "       INIT   Name  of  the user's init directory (used to find a lesskey file\n",
      "              on OS/2 systems).\n",
      "\n",
      "       LANG   Language for determining the character set.\n",
      "\n",
      "       LC_CTYPE\n",
      "              Language for determining the character set.\n",
      "\n",
      "       LESS   Options which are passed to less automatically.\n",
      "\n",
      "       LESSANSIENDCHARS\n",
      "              Characters which may end an ANSI color escape sequence  (default\n",
      "              \"m\").\n",
      "\n",
      "       LESSANSIMIDCHARS\n",
      "              Characters  which  may  appear between the ESC character and the\n",
      "              end  character  in  an  ANSI  color  escape  sequence   (default\n",
      "              \"0123456789;[?!\"'#%()*+ \".\n",
      "\n",
      "       LESSBINFMT\n",
      "              Format for displaying non-printable, non-control characters.\n",
      "\n",
      "       LESSCHARDEF\n",
      "              Defines a character set.\n",
      "\n",
      "       LESSCHARSET\n",
      "              Selects a predefined character set.\n",
      "\n",
      "       LESSCLOSE\n",
      "              Command line to invoke the (optional) input-postprocessor.\n",
      "\n",
      "       LESSECHO\n",
      "              Name of the lessecho program (default \"lessecho\").  The lessecho\n",
      "              program is needed to expand metacharacters, such as * and ?,  in\n",
      "              filenames on Unix systems.\n",
      "\n",
      "       LESSEDIT\n",
      "              Editor  prototype  string (used for the v command).  See discus‐\n",
      "              sion under PROMPTS.\n",
      "\n",
      "       LESSGLOBALTAGS\n",
      "              Name of the command used by the -t option to find  global  tags.\n",
      "              Normally should be set to \"global\" if your system has the global\n",
      "              (1) command.  If not set, global tags are not used.\n",
      "\n",
      "       LESSHISTFILE\n",
      "              Name of the history file used to remember  search  commands  and\n",
      "              shell  commands  between  invocations of less.  If set to \"-\" or\n",
      "              \"/dev/null\", a  history  file  is  not  used.   The  default  is\n",
      "              \"$HOME/.lesshst\"  on  Unix  systems, \"$HOME/_lesshst\" on DOS and\n",
      "              Windows systems, or \"$HOME/lesshst.ini\"  or  \"$INIT/lesshst.ini\"\n",
      "              on OS/2 systems.\n",
      "\n",
      "       LESSHISTSIZE\n",
      "              The maximum number of commands to save in the history file.  The\n",
      "              default is 100.\n",
      "\n",
      "       LESSKEY\n",
      "              Name of the default lesskey(1) file.\n",
      "\n",
      "       LESSKEY_SYSTEM\n",
      "              Name of the default system-wide lesskey(1) file.\n",
      "\n",
      "       LESSMETACHARS\n",
      "              List of characters which are considered \"metacharacters\" by  the\n",
      "              shell.\n",
      "\n",
      "       LESSMETAESCAPE\n",
      "              Prefix  which  less will add before each metacharacter in a com‐\n",
      "              mand sent to the shell.  If LESSMETAESCAPE is an  empty  string,\n",
      "              commands  containing  metacharacters  will  not be passed to the\n",
      "              shell.\n",
      "\n",
      "       LESSOPEN\n",
      "              Command line to invoke the (optional) input-preprocessor.\n",
      "\n",
      "       LESSSECURE\n",
      "              Runs less in \"secure\" mode.  See discussion under SECURITY.\n",
      "\n",
      "       LESSSEPARATOR\n",
      "              String to be appended to a directory name  in  filename  comple‐\n",
      "              tion.\n",
      "\n",
      "       LESSUTFBINFMT\n",
      "              Format for displaying non-printable Unicode code points.\n",
      "\n",
      "       LESS_IS_MORE\n",
      "              Emulate the more (1) command.\n",
      "\n",
      "       LINES  Sets  the  number of lines on the screen.  Takes precedence over\n",
      "              the number of lines specified by the TERM variable.  (But if you\n",
      "              have  a  windowing system which supports TIOCGWINSZ or WIOCGETD,\n",
      "              the window system's idea of the  screen  size  takes  precedence\n",
      "              over the LINES and COLUMNS environment variables.)\n",
      "\n",
      "       MORE   Options  which  are passed to less automatically when running in\n",
      "              more compatible mode.\n",
      "\n",
      "       PATH   User's search path (used to find a lesskey file  on  MS-DOS  and\n",
      "              OS/2 systems).\n",
      "\n",
      "       SHELL  The  shell  used  to execute the ! command, as well as to expand\n",
      "              filenames.\n",
      "\n",
      "       TERM   The type of terminal on which less is being run.\n",
      "\n",
      "       VISUAL The name of the editor (used for the v command).\n",
      "\n",
      "\n",
      "SEE ALSO\n",
      "       lesskey(1)\n",
      "\n",
      "\n",
      "COPYRIGHT\n",
      "       Copyright (C) 1984-2012  Mark Nudelman\n",
      "\n",
      "       less is part of the GNU project and is free software.  You  can  redis‐\n",
      "       tribute  it and/or modify it under the terms of either (1) the GNU Gen‐\n",
      "       eral Public License as published by the Free  Software  Foundation;  or\n",
      "       (2) the Less License.  See the file README in the less distribution for\n",
      "       more details regarding redistribution.  You should have received a copy\n",
      "       of  the  GNU General Public License along with the source for less; see\n",
      "       the file COPYING.  If not, write to the Free  Software  Foundation,  59\n",
      "       Temple  Place, Suite 330, Boston, MA  02111-1307, USA.  You should also\n",
      "       have received a copy of the Less License; see the file LICENSE.\n",
      "\n",
      "       less is distributed in the hope that it will be useful, but WITHOUT ANY\n",
      "       WARRANTY;  without even the implied warranty of MERCHANTABILITY or FIT‐\n",
      "       NESS FOR A PARTICULAR PURPOSE.  See the GNU General Public License  for\n",
      "       more details.\n",
      "\n",
      "\n",
      "AUTHOR\n",
      "       Mark Nudelman\n",
      "       Send bug reports or comments to <bug-less@gnu.org>\n",
      "       See http://www.greenwoodsoftware.com/less/bugs.html for the latest list\n",
      "       of known bugs in less.\n",
      "       For more information, see the less homepage at\n",
      "       http://www.greenwoodsoftware.com/less.\n",
      "\n",
      "\n",
      "\n",
      "                           Version 458: 04 Apr 2013                    LESS(1)\n"
     ]
    }
   ],
   "source": [
    "man less"
   ]
  },
  {
   "cell_type": "markdown",
   "metadata": {},
   "source": [
    "#### La manpage de ```more```."
   ]
  },
  {
   "cell_type": "code",
   "execution_count": 20,
   "metadata": {},
   "outputs": [
    {
     "name": "stdout",
     "output_type": "stream",
     "text": [
      "MORE(1)                          User Commands                         MORE(1)\n",
      "\n",
      "\n",
      "\n",
      "NAME\n",
      "       more - file perusal filter for crt viewing\n",
      "\n",
      "SYNOPSIS\n",
      "       more [options] file [...]\n",
      "\n",
      "DESCRIPTION\n",
      "       more is a filter for paging through text one screenful at a time.  This\n",
      "       version is especially primitive.  Users  should  realize  that  less(1)\n",
      "       provides more(1) emulation plus extensive enhancements.\n",
      "\n",
      "OPTIONS\n",
      "       Command-line  options are described below.  Options are also taken from\n",
      "       the environment variable MORE (make sure to precede them  with  a  dash\n",
      "       (``-'')) but command line options will override them.\n",
      "\n",
      "       -number\n",
      "              This option specifies an integer number which is the screen size\n",
      "              (in lines).\n",
      "\n",
      "       -d     more will prompt the user with the message \"[Press space to con‐\n",
      "              tinue,  'q' to quit.]\" and will display \"[Press 'h' for instruc‐\n",
      "              tions.]\" instead of ringing the bell  when  an  illegal  key  is\n",
      "              pressed.\n",
      "\n",
      "       -l     more  usually  treats ^L (form feed) as a special character, and\n",
      "              will pause after any line that contains a  form  feed.   The  -l\n",
      "              option will prevent this behavior.\n",
      "\n",
      "       -f     Causes  more  to  count logical, rather than screen lines (i.e.,\n",
      "              long lines are not folded).\n",
      "\n",
      "       -p     Do not scroll.  Instead, clear the whole screen and then display\n",
      "              the  text.  Notice that this option is switched on automatically\n",
      "              if the executable is named page.\n",
      "\n",
      "       -c     Do not scroll.  Instead, paint each screen from the top,  clear‐\n",
      "              ing the remainder of each line as it is displayed.\n",
      "\n",
      "       -s     Squeeze multiple blank lines into one.\n",
      "\n",
      "       -u     Suppress underlining.\n",
      "\n",
      "       +/     The  +/  option  specifies  a  string  that will be searched for\n",
      "              before each file is displayed.\n",
      "\n",
      "       +number\n",
      "              Start at line number.\n",
      "\n",
      "COMMANDS\n",
      "       Interactive commands for more are based on vi(1).  Some commands may be\n",
      "       preceded  by  a decimal number, called k in the descriptions below.  In\n",
      "       the following descriptions, ^X means control-X.\n",
      "\n",
      "              h or ?    Help: display a summary of  these  commands.   If  you\n",
      "                        forget all the other commands, remember this one.\n",
      "\n",
      "              SPACE     Display  next  k  lines  of text.  Defaults to current\n",
      "                        screen size.\n",
      "\n",
      "              z         Display next k lines of  text.   Defaults  to  current\n",
      "                        screen size.  Argument becomes new default.\n",
      "\n",
      "              RETURN    Display  next  k lines of text.  Defaults to 1.  Argu‐\n",
      "                        ment becomes new default.\n",
      "\n",
      "              d or ^D   Scroll k lines.  Default is current scroll size,  ini‐\n",
      "                        tially 11.  Argument becomes new default.\n",
      "\n",
      "              q or Q or INTERRUPT\n",
      "                        Exit.\n",
      "\n",
      "              s         Skip forward k lines of text.  Defaults to 1.\n",
      "\n",
      "              f         Skip forward k screenfuls of text.  Defaults to 1.\n",
      "\n",
      "              b or ^B   Skip  backwards  k screenfuls of text.  Defaults to 1.\n",
      "                        Only works with files, not pipes.\n",
      "\n",
      "              ´         Go to place where previous search started.\n",
      "\n",
      "              =         Display current line number.\n",
      "\n",
      "              /pattern  Search  for  kth  occurrence  of  regular  expression.\n",
      "                        Defaults to 1.\n",
      "\n",
      "              n         Search  for kth occurrence of last regular expression.\n",
      "                        Defaults to 1.\n",
      "\n",
      "              !command or :!command\n",
      "                        Execute command in a subshell.\n",
      "\n",
      "              v         Start up an editor at current  line.   The  editor  is\n",
      "                        taken from the environment variable VISUAL if defined,\n",
      "                        or EDITOR if VISUAL is not defined, or defaults to  vi\n",
      "                        if neither VISUAL nor EDITOR is defined.\n",
      "\n",
      "              ^L        Redraw screen.\n",
      "\n",
      "              :n        Go to kth next file.  Defaults to 1.\n",
      "\n",
      "              :P        Go to kth previous file.  Defaults to 1.\n",
      "\n",
      "              :f        Display current file name and line number.\n",
      "\n",
      "              .         Repeat previous command.\n",
      "\n",
      "ENVIRONMENT\n",
      "       More utilizes the following environment variables, if they exist:\n",
      "\n",
      "       MORE   This variable may be set with favored options to more.\n",
      "\n",
      "       SHELL  Current shell in use (normally set by the shell at login time).\n",
      "\n",
      "       TERM   Specifies  terminal type, used by more to get the terminal char‐\n",
      "              acteristics necessary to manipulate the screen.\n",
      "\n",
      "       VISUAL Editor the user is preferring.   Used  when  key  command  v  is\n",
      "              pressed.\n",
      "\n",
      "       EDITOR Editor of choise when VISUAL is not specified.\n",
      "\n",
      "SEE ALSO\n",
      "       vi(1), less(1)\n",
      "\n",
      "AUTHORS\n",
      "       Eric Shienbrood, UC Berkeley\n",
      "       Modified by Geoff Peck, UCB to add underlining, single spacing\n",
      "       Modified by John Foderaro, UCB to add -c and MORE environment variable\n",
      "\n",
      "HISTORY\n",
      "       The more command appeared in 3.0BSD.  This man page documents more ver‐\n",
      "       sion 5.19 (Berkeley 6/29/88), which is currently in use  in  the  Linux\n",
      "       community.   Documentation was produced using several other versions of\n",
      "       the man page, and extensive inspection of the source code.\n",
      "\n",
      "AVAILABILITY\n",
      "       The more command is part of the util-linux  package  and  is  available\n",
      "       from  Linux  Kernel Archive ⟨ftp://ftp.kernel.org/pub/linux/utils/util-\n",
      "       linux/⟩.\n",
      "\n",
      "\n",
      "\n",
      "util-linux                      September 2011                         MORE(1)\n"
     ]
    }
   ],
   "source": [
    "man more"
   ]
  },
  {
   "cell_type": "markdown",
   "metadata": {},
   "source": [
    "### El comando ```head```.\n",
    "\n",
    "Este comando permite desplegar la primeras 10 líneas de un flujo de texto.\n",
    "\n",
    "```\n",
    "head <flujo de texto>\n",
    "```\n",
    "La opción *-n* permite indicaer el número de líneas que desplegará ```head```."
   ]
  },
  {
   "cell_type": "code",
   "execution_count": 21,
   "metadata": {},
   "outputs": [
    {
     "name": "stdout",
     "output_type": "stream",
     "text": [
      "MIT License\n",
      "\n",
      "Copyright (c) 2018 Cloudevel®\n",
      "\n",
      "Permission is hereby granted, free of charge, to any person obtaining a copy\n",
      "of this software and associated documentation files (the \"Software\"), to deal\n",
      "in the Software without restriction, including without limitation the rights\n",
      "to use, copy, modify, merge, publish, distribute, sublicense, and/or sell\n",
      "copies of the Software, and to permit persons to whom the Software is\n",
      "furnished to do so, subject to the following conditions:\n"
     ]
    }
   ],
   "source": [
    "head LICENSE"
   ]
  },
  {
   "cell_type": "code",
   "execution_count": 25,
   "metadata": {},
   "outputs": [
    {
     "name": "stdout",
     "output_type": "stream",
     "text": [
      "MIT License\n"
     ]
    }
   ],
   "source": [
    "head LICENSE -n 1"
   ]
  },
  {
   "cell_type": "markdown",
   "metadata": {},
   "source": [
    "#### La manpage de ```head```."
   ]
  },
  {
   "cell_type": "code",
   "execution_count": null,
   "metadata": {},
   "outputs": [],
   "source": [
    "man head"
   ]
  },
  {
   "cell_type": "markdown",
   "metadata": {},
   "source": [
    "### El comando ```tail```.\n",
    "\n",
    "Este comando permite desplegar la últimas 10 líneas de un flujo de texto.\n",
    "\n",
    "```\n",
    "tail <flujo de texto>\n",
    "```\n",
    "\n",
    "La opción -n permite indicaer el número de líneas que desplegará ```tail```.\n"
   ]
  },
  {
   "cell_type": "code",
   "execution_count": 26,
   "metadata": {
    "scrolled": true
   },
   "outputs": [
    {
     "name": "stdout",
     "output_type": "stream",
     "text": [
      "\n",
      "## Clonación del repositorio.\n",
      "\n",
      "Para clonar el repositorio en su sitema de archivos local, ejecute desde una terminal:\n",
      "\n",
      "``` bash\n",
      "git clone https://github.com/Cloudevel/cd101.git\n",
      "```\n",
      "\n",
      "Las notebooks son liberadas bajo los términos de la [Licencia MIT](LICENSE).\n"
     ]
    }
   ],
   "source": [
    "tail README.md"
   ]
  },
  {
   "cell_type": "code",
   "execution_count": 28,
   "metadata": {},
   "outputs": [
    {
     "name": "stdout",
     "output_type": "stream",
     "text": [
      "git clone https://github.com/Cloudevel/cd101.git\n",
      "```\n",
      "\n",
      "Las notebooks son liberadas bajo los términos de la [Licencia MIT](LICENSE).\n"
     ]
    }
   ],
   "source": [
    "tail README.md -n 4"
   ]
  },
  {
   "cell_type": "markdown",
   "metadata": {},
   "source": [
    "#### La manpage de ```tail```."
   ]
  },
  {
   "cell_type": "code",
   "execution_count": null,
   "metadata": {},
   "outputs": [],
   "source": [
    "man tail"
   ]
  },
  {
   "cell_type": "markdown",
   "metadata": {},
   "source": [
    "### El comando ```wc```.\n",
    "\n",
    "Este comando permite contar los elementos de un flujo de texto\n",
    "```\n",
    "wc <flujo de texto> <opciones>\n",
    "```\n",
    "\n",
    "Al ejecutar este comnado sin opciones, este regresará:\n",
    "\n",
    "* El número de líneas del flujo.\n",
    "* El número de palabras del flujo.\n",
    "* El número de caracteres del flujo.\n",
    "\n",
    "#### Opciones .\n",
    "\n",
    "* La opción *-l* desplegará el número de líneas.\n",
    "* La opción *-w* desplegará el número de palabras.\n",
    "* La opción *-c* desplegará el número de caracteres."
   ]
  },
  {
   "cell_type": "code",
   "execution_count": 29,
   "metadata": {},
   "outputs": [
    {
     "name": "stdout",
     "output_type": "stream",
     "text": [
      "  20  137 1079 README.md\n"
     ]
    }
   ],
   "source": [
    "wc README.md"
   ]
  },
  {
   "cell_type": "code",
   "execution_count": 30,
   "metadata": {},
   "outputs": [
    {
     "name": "stdout",
     "output_type": "stream",
     "text": [
      "20 README.md\n"
     ]
    }
   ],
   "source": [
    "wc README.md -l"
   ]
  },
  {
   "cell_type": "code",
   "execution_count": 31,
   "metadata": {},
   "outputs": [
    {
     "name": "stdout",
     "output_type": "stream",
     "text": [
      "137 README.md\n"
     ]
    }
   ],
   "source": [
    "wc README.md -w"
   ]
  },
  {
   "cell_type": "code",
   "execution_count": 32,
   "metadata": {
    "scrolled": true
   },
   "outputs": [
    {
     "name": "stdout",
     "output_type": "stream",
     "text": [
      "1079 README.md\n"
     ]
    }
   ],
   "source": [
    "wc README.md -c"
   ]
  },
  {
   "cell_type": "code",
   "execution_count": 33,
   "metadata": {},
   "outputs": [
    {
     "name": "stdout",
     "output_type": "stream",
     "text": [
      " 137 1079 README.md\n"
     ]
    }
   ],
   "source": [
    "wc README.md -cw"
   ]
  },
  {
   "cell_type": "markdown",
   "metadata": {},
   "source": [
    "#### La manpage de ```wc```."
   ]
  },
  {
   "cell_type": "code",
   "execution_count": null,
   "metadata": {},
   "outputs": [],
   "source": [
    "man wc"
   ]
  },
  {
   "cell_type": "markdown",
   "metadata": {},
   "source": [
    "### El comando ```nl```.\n",
    "\n",
    "Este comando le asignará y desplegará un número consecutivo a la izquierda de cada línea del flujo.\n",
    "\n",
    "```\n",
    "nl <flujo>\n",
    "```"
   ]
  },
  {
   "cell_type": "code",
   "execution_count": 34,
   "metadata": {},
   "outputs": [
    {
     "name": "stdout",
     "output_type": "stream",
     "text": [
      "       \n",
      "     1\t# cd101 \"Introducción a Linux para Virtualización y DevOps\".\n",
      "       \n",
      "     2\tNotebooks de [Jupyter](https://jupyter.org) que incluyen los apuntes del curso cd101 \"Introducción a Linux para Virtualización y DevOps\", de Cloudevel®. \n",
      "       \n",
      "     3\tLas notebooks se deben de ejecutar utilizando el [kernel de Bash](https://github.com/takluyver/bash_kernel).\n",
      "       \n",
      "     4\t## Nuestra máquina virtual.\n",
      "       \n",
      "     5\tPara facilitar la instalación y configuración tanto de Jupyter como del kernel de Bash se recomienda descargar nuestra VM de [Virtualbox](https://virtualbox.org) la cual puede ser descargada desde https://cloudevel.com/downloads/base/view. Una vez que se ejecute la VM podrá acceder a un servidor de Jupyter totalmente funcional ingresando desde el navegador de su equipo en la dirección ```http://localhost:8999``` con la contraseña ```Jupyter```.\n",
      "       \n",
      "     6\t## Clonación del repositorio.\n",
      "       \n",
      "     7\tPara clonar el repositorio en su sitema de archivos local, ejecute desde una terminal:\n",
      "       \n",
      "     8\t``` bash\n",
      "     9\tgit clone https://github.com/Cloudevel/cd101.git\n",
      "    10\t```\n",
      "       \n",
      "    11\tLas notebooks son liberadas bajo los términos de la [Licencia MIT](LICENSE).\n"
     ]
    }
   ],
   "source": [
    "nl README.md"
   ]
  },
  {
   "cell_type": "markdown",
   "metadata": {},
   "source": [
    "#### La manpage de ```nl```."
   ]
  },
  {
   "cell_type": "code",
   "execution_count": null,
   "metadata": {},
   "outputs": [],
   "source": [
    "man nl"
   ]
  },
  {
   "cell_type": "markdown",
   "metadata": {},
   "source": [
    "### El comando  ```sort ```.\n",
    "\n",
    "Este comando regresa el contenido del flujo de texto ingresado, ordenado a partir de varios criterios.\n",
    "\n",
    "```\n",
    "sort <flujo de texto> <opciones>\n",
    "```\n",
    "\n",
    "Si el comando ```sort``` se utiliza sin opciones, realizará un orden a partir de los caracteres de cada línea de menos a mayor. \n",
    "\n",
    "\n",
    "### Opciones.\n",
    "\n",
    "* La opción *-r* hace el ordenamiento inverso.\n",
    "* La opción *-n* realiza un ordenamiento numérico. "
   ]
  },
  {
   "cell_type": "code",
   "execution_count": 35,
   "metadata": {},
   "outputs": [],
   "source": [
    "echo -e \"Hugo\\nPaco\\nLuis\" > ~/patos.txt"
   ]
  },
  {
   "cell_type": "code",
   "execution_count": 36,
   "metadata": {},
   "outputs": [
    {
     "name": "stdout",
     "output_type": "stream",
     "text": [
      "Hugo\n",
      "Luis\n",
      "Paco\n"
     ]
    }
   ],
   "source": [
    "sort ~/patos.txt"
   ]
  },
  {
   "cell_type": "code",
   "execution_count": 37,
   "metadata": {},
   "outputs": [],
   "source": [
    "echo -e \"Sota\\nCaballo\\nRey\" > ~/cartas.txt"
   ]
  },
  {
   "cell_type": "code",
   "execution_count": 40,
   "metadata": {},
   "outputs": [
    {
     "name": "stdout",
     "output_type": "stream",
     "text": [
      "Caballo\n",
      "Hugo\n",
      "Luis\n",
      "Paco\n",
      "Rey\n",
      "Sota\n"
     ]
    }
   ],
   "source": [
    "sort ~/patos.txt ~/cartas.txt"
   ]
  },
  {
   "cell_type": "code",
   "execution_count": 41,
   "metadata": {},
   "outputs": [
    {
     "name": "stdout",
     "output_type": "stream",
     "text": [
      "Sota\n",
      "Rey\n",
      "Paco\n",
      "Luis\n",
      "Hugo\n",
      "Caballo\n"
     ]
    }
   ],
   "source": [
    "sort ~/patos.txt ~/cartas.txt -r"
   ]
  },
  {
   "cell_type": "code",
   "execution_count": 42,
   "metadata": {},
   "outputs": [],
   "source": [
    "echo -e \"2\\n5\\n21\\n32\\n6\\n245\\n\" > ~/numeros.txt"
   ]
  },
  {
   "cell_type": "code",
   "execution_count": 43,
   "metadata": {},
   "outputs": [
    {
     "name": "stdout",
     "output_type": "stream",
     "text": [
      "2\n",
      "5\n",
      "21\n",
      "32\n",
      "6\n",
      "245\n",
      "\n"
     ]
    }
   ],
   "source": [
    "cat ~/numeros.txt"
   ]
  },
  {
   "cell_type": "code",
   "execution_count": 44,
   "metadata": {},
   "outputs": [
    {
     "name": "stdout",
     "output_type": "stream",
     "text": [
      "\n",
      "2\n",
      "21\n",
      "245\n",
      "32\n",
      "5\n",
      "6\n"
     ]
    }
   ],
   "source": [
    "sort ~/numeros.txt"
   ]
  },
  {
   "cell_type": "code",
   "execution_count": 45,
   "metadata": {},
   "outputs": [
    {
     "name": "stdout",
     "output_type": "stream",
     "text": [
      "\n",
      "2\n",
      "5\n",
      "6\n",
      "21\n",
      "32\n",
      "245\n"
     ]
    }
   ],
   "source": [
    "sort ~/numeros.txt -n"
   ]
  },
  {
   "cell_type": "markdown",
   "metadata": {},
   "source": [
    "#### La manpage de ```sort```."
   ]
  },
  {
   "cell_type": "code",
   "execution_count": null,
   "metadata": {},
   "outputs": [],
   "source": [
    "man sort"
   ]
  },
  {
   "cell_type": "markdown",
   "metadata": {},
   "source": [
    "### El comando ```split```.\n",
    "\n",
    "Este comando permite dividir un flujo de texto en segmentos, los cuales son guardados en archivos cuyons nombres se dan a a partir de  prefijos.\n",
    "\n",
    "Si no se indica ningúna opción, split creará segmentos de 1000 líneas con el prefijo \"x\" y sufijos de dos valores alfabéticos empezando con *aa*.\n",
    "\n",
    "#### Opciones.\n",
    "\n",
    "* La opción *-l* indica el número de líneas por segmento.\n",
    "* La opción *-n* indica el número de segmentos en el que se dividirá el flujo.\n",
    "* La opción *-d* indica que los sufijos deben de ser numéricos.\n"
   ]
  },
  {
   "cell_type": "code",
   "execution_count": 46,
   "metadata": {},
   "outputs": [],
   "source": [
    "split README.md -l 5"
   ]
  },
  {
   "cell_type": "markdown",
   "metadata": {},
   "source": [
    "El resultado son los archivos *xaa*, *xab*, *xac* y *xad*."
   ]
  },
  {
   "cell_type": "code",
   "execution_count": 47,
   "metadata": {},
   "outputs": [
    {
     "name": "stdout",
     "output_type": "stream",
     "text": [
      "\n",
      "# cd101 \"Introducción a Linux para Virtualización y DevOps\".\n",
      "\n",
      "Notebooks de [Jupyter](https://jupyter.org) que incluyen los apuntes del curso cd101 \"Introducción a Linux para Virtualización y DevOps\", de Cloudevel®. \n",
      "\n"
     ]
    }
   ],
   "source": [
    "cat xaa"
   ]
  },
  {
   "cell_type": "code",
   "execution_count": 50,
   "metadata": {},
   "outputs": [
    {
     "name": "stdout",
     "output_type": "stream",
     "text": [
      "5 xaa\n"
     ]
    }
   ],
   "source": [
    "wc -l xaa"
   ]
  },
  {
   "cell_type": "code",
   "execution_count": 48,
   "metadata": {},
   "outputs": [
    {
     "name": "stdout",
     "output_type": "stream",
     "text": [
      "Las notebooks se deben de ejecutar utilizando el [kernel de Bash](https://github.com/takluyver/bash_kernel).\n",
      "\n",
      "## Nuestra máquina virtual.\n",
      "\n",
      "Para facilitar la instalación y configuración tanto de Jupyter como del kernel de Bash se recomienda descargar nuestra VM de [Virtualbox](https://virtualbox.org) la cual puede ser descargada desde https://cloudevel.com/downloads/base/view. Una vez que se ejecute la VM podrá acceder a un servidor de Jupyter totalmente funcional ingresando desde el navegador de su equipo en la dirección ```http://localhost:8999``` con la contraseña ```Jupyter```.\n"
     ]
    }
   ],
   "source": [
    "cat xab"
   ]
  },
  {
   "cell_type": "code",
   "execution_count": 51,
   "metadata": {},
   "outputs": [
    {
     "name": "stdout",
     "output_type": "stream",
     "text": [
      "5 xab\n"
     ]
    }
   ],
   "source": [
    "wc -l xab"
   ]
  },
  {
   "cell_type": "code",
   "execution_count": 49,
   "metadata": {},
   "outputs": [
    {
     "name": "stdout",
     "output_type": "stream",
     "text": [
      "\n",
      "## Clonación del repositorio.\n",
      "\n",
      "Para clonar el repositorio en su sitema de archivos local, ejecute desde una terminal:\n",
      "\n"
     ]
    }
   ],
   "source": [
    "cat xac"
   ]
  },
  {
   "cell_type": "code",
   "execution_count": 52,
   "metadata": {},
   "outputs": [
    {
     "name": "stdout",
     "output_type": "stream",
     "text": [
      "5 xac\n"
     ]
    }
   ],
   "source": [
    "wc -l xac"
   ]
  },
  {
   "cell_type": "code",
   "execution_count": null,
   "metadata": {},
   "outputs": [],
   "source": [
    "cat xad"
   ]
  },
  {
   "cell_type": "code",
   "execution_count": 53,
   "metadata": {},
   "outputs": [],
   "source": [
    "split README.md -n 3 -d"
   ]
  },
  {
   "cell_type": "markdown",
   "metadata": {},
   "source": [
    "El resutlado son los archivos *x00* * x01* *x01*."
   ]
  },
  {
   "cell_type": "code",
   "execution_count": 54,
   "metadata": {},
   "outputs": [
    {
     "name": "stdout",
     "output_type": "stream",
     "text": [
      "\n",
      "# cd101 \"Introducción a Linux para Virtualización y DevOps\".\n",
      "\n",
      "Notebooks de [Jupyter](https://jupyter.org) que incluyen los apuntes del curso cd101 \"Introducción a Linux para Virtualización y DevOps\", de Cloudevel®. \n",
      "\n",
      "Las notebooks se deben de ejecutar utilizando el [kernel de Bash](https://github.com/takluyver/bash_kernel).\n",
      "\n",
      "## Nuestra máquina virtua"
     ]
    }
   ],
   "source": [
    "cat x00"
   ]
  },
  {
   "cell_type": "code",
   "execution_count": 55,
   "metadata": {
    "scrolled": true
   },
   "outputs": [
    {
     "name": "stdout",
     "output_type": "stream",
     "text": [
      "l.\n",
      "\n",
      "Para facilitar la instalación y configuración tanto de Jupyter como del kernel de Bash se recomienda descargar nuestra VM de [Virtualbox](https://virtualbox.org) la cual puede ser descargada desde https://cloudevel.com/downloads/base/view. Una vez que se ejecute la VM podrá acceder a un servidor de Jupyter totalmente funcional ingresando desde el nav"
     ]
    }
   ],
   "source": [
    "cat x01"
   ]
  },
  {
   "cell_type": "code",
   "execution_count": 56,
   "metadata": {},
   "outputs": [
    {
     "name": "stdout",
     "output_type": "stream",
     "text": [
      "egador de su equipo en la dirección ```http://localhost:8999``` con la contraseña ```Jupyter```.\n",
      "\n",
      "## Clonación del repositorio.\n",
      "\n",
      "Para clonar el repositorio en su sitema de archivos local, ejecute desde una terminal:\n",
      "\n",
      "``` bash\n",
      "git clone https://github.com/Cloudevel/cd101.git\n",
      "```\n",
      "\n",
      "Las notebooks son liberadas bajo los términos de la [Licencia MIT](LICENSE).\n"
     ]
    }
   ],
   "source": [
    "cat x02"
   ]
  },
  {
   "cell_type": "markdown",
   "metadata": {},
   "source": [
    "#### La manpage de ```split```."
   ]
  },
  {
   "cell_type": "code",
   "execution_count": null,
   "metadata": {},
   "outputs": [],
   "source": [
    "man split"
   ]
  },
  {
   "cell_type": "markdown",
   "metadata": {},
   "source": [
    "### El comando ```cut```.\n",
    "\n",
    "Este comando permite extraer rangos de texto de cada línea de un flujo de texto.\n",
    "\n",
    "```\n",
    "cut <flujo de texto> <opciones>\n",
    "```\n",
    "\n",
    "#### Definiendo un rango de caracteres.\n",
    "* La opción *-c* define el rango de caracteres .\n",
    "\n",
    "```\n",
    "cut <flujo de texto> -c<posición de inicio>-<posición final>\n",
    "```"
   ]
  },
  {
   "cell_type": "code",
   "execution_count": 57,
   "metadata": {},
   "outputs": [
    {
     "name": "stdout",
     "output_type": "stream",
     "text": [
      "\n",
      "101 \"I\n",
      "\n",
      "books \n",
      "\n",
      "notebo\n",
      "\n",
      "uestra\n",
      "\n",
      " facil\n",
      "\n",
      "lonaci\n",
      "\n",
      " clona\n",
      "\n",
      "bash\n",
      "clone \n",
      "\n",
      "\n",
      "notebo\n"
     ]
    }
   ],
   "source": [
    "cut README.md -c5-10"
   ]
  },
  {
   "cell_type": "code",
   "execution_count": 60,
   "metadata": {},
   "outputs": [
    {
     "name": "stdout",
     "output_type": "stream",
     "text": [
      "\n",
      "# cd101 \"In\n",
      "\n",
      "Notebooks d\n",
      "\n",
      "Las noteboo\n",
      "\n",
      "## Nuestra \n",
      "\n",
      "Para facili\n",
      "\n",
      "## Clonació\n",
      "\n",
      "Para clonar\n",
      "\n",
      "``` bash\n",
      "git clone h\n",
      "```\n",
      "\n",
      "Las noteboo\n"
     ]
    }
   ],
   "source": [
    "cut README.md -c10-"
   ]
  },
  {
   "cell_type": "markdown",
   "metadata": {},
   "source": [
    "#### Usando campos delimitados por tabuladores.\n",
    "\n",
    "Si el flujo de texto contiene tabuladores, cada tabulador conforma a un campo que puede sder indizado a partir del 1.\n",
    "\n",
    "La opción *-f* permite extraer un rango de campos.\n",
    "\n",
    "```\n",
    "cut <flujo de texto> -f<posición de inicio>-<posición final>\n",
    "```"
   ]
  },
  {
   "cell_type": "code",
   "execution_count": 61,
   "metadata": {},
   "outputs": [],
   "source": [
    "echo -e '1\\t2\\t3\\t4\\t5\\nuno\\tdos\\ttres\\tcuatro\\tcinco' > ~/campos.txt"
   ]
  },
  {
   "cell_type": "code",
   "execution_count": 62,
   "metadata": {},
   "outputs": [
    {
     "name": "stdout",
     "output_type": "stream",
     "text": [
      "1\t2\t3\t4\t5\n",
      "uno\tdos\ttres\tcuatro\tcinco\n"
     ]
    }
   ],
   "source": [
    "cat ~/campos.txt"
   ]
  },
  {
   "cell_type": "code",
   "execution_count": 63,
   "metadata": {},
   "outputs": [
    {
     "name": "stdout",
     "output_type": "stream",
     "text": [
      "1\n",
      "uno\n"
     ]
    }
   ],
   "source": [
    "cut ~/campos.txt -f1"
   ]
  },
  {
   "cell_type": "code",
   "execution_count": 64,
   "metadata": {
    "scrolled": true
   },
   "outputs": [
    {
     "name": "stdout",
     "output_type": "stream",
     "text": [
      "3\t4\t5\n",
      "tres\tcuatro\tcinco\n"
     ]
    }
   ],
   "source": [
    "cut ~/campos.txt -f3-"
   ]
  },
  {
   "cell_type": "markdown",
   "metadata": {},
   "source": [
    "#### Definiendo un seperador distinto a un tabulador.\n",
    "\n",
    "La opción *-d* permite definir un caracter delimitador distinto del tabulador.\n",
    "\n",
    "```\n",
    "cut <flujo de texto> -d\"<caracter>\" -f<posición de inicio>-<posición final>\n",
    "```"
   ]
  },
  {
   "cell_type": "code",
   "execution_count": 65,
   "metadata": {},
   "outputs": [],
   "source": [
    "echo -e '1|2|3|4|5\\nuno|dos|tres|cuatro|cinco' > ~/separados.txt"
   ]
  },
  {
   "cell_type": "code",
   "execution_count": 66,
   "metadata": {},
   "outputs": [
    {
     "name": "stdout",
     "output_type": "stream",
     "text": [
      "1|2|3|4|5\n",
      "uno|dos|tres|cuatro|cinco\n"
     ]
    }
   ],
   "source": [
    "cat ~/separados.txt"
   ]
  },
  {
   "cell_type": "code",
   "execution_count": 67,
   "metadata": {},
   "outputs": [
    {
     "name": "stdout",
     "output_type": "stream",
     "text": [
      "1\n",
      "uno\n"
     ]
    }
   ],
   "source": [
    "cut ~/separados.txt -d\"|\" -f1"
   ]
  },
  {
   "cell_type": "code",
   "execution_count": 68,
   "metadata": {},
   "outputs": [
    {
     "name": "stdout",
     "output_type": "stream",
     "text": [
      "1|2|3|4|5\n",
      "uno|dos|tres|cuatro|cinco\n"
     ]
    }
   ],
   "source": [
    "cut ~/separados.txt -d\"|\" -f-5"
   ]
  },
  {
   "cell_type": "code",
   "execution_count": 69,
   "metadata": {},
   "outputs": [
    {
     "name": "stdout",
     "output_type": "stream",
     "text": [
      "3|4\n",
      "tres|cuatro\n"
     ]
    }
   ],
   "source": [
    "cut ~/separados.txt -d\"|\" -f3-4"
   ]
  },
  {
   "cell_type": "markdown",
   "metadata": {},
   "source": [
    "#### La manpage de ```cut```."
   ]
  },
  {
   "cell_type": "code",
   "execution_count": null,
   "metadata": {},
   "outputs": [],
   "source": [
    "man cut"
   ]
  },
  {
   "cell_type": "markdown",
   "metadata": {},
   "source": [
    "### El comando ```paste```.\n",
    "\n",
    "Este comando permite unir en un sólo flujo de texto a más de un archivo, pegando línea por  línea y utilizando un tabulador como separador.\n",
    "\n",
    "```\n",
    "paste <archivo 1> <archivo 2> ... <archivo n>\n",
    "```"
   ]
  },
  {
   "cell_type": "code",
   "execution_count": 70,
   "metadata": {},
   "outputs": [
    {
     "name": "stdout",
     "output_type": "stream",
     "text": [
      "Hugo\tSota\n",
      "Paco\tCaballo\n",
      "Luis\tRey\n"
     ]
    }
   ],
   "source": [
    "paste ~/patos.txt ~/cartas.txt"
   ]
  },
  {
   "cell_type": "markdown",
   "metadata": {},
   "source": [
    "#### La manpage de ```paste```."
   ]
  },
  {
   "cell_type": "code",
   "execution_count": 71,
   "metadata": {
    "scrolled": true
   },
   "outputs": [
    {
     "name": "stdout",
     "output_type": "stream",
     "text": [
      "PASTE(1)                         User Commands                        PASTE(1)\n",
      "\n",
      "\n",
      "\n",
      "NAME\n",
      "       paste - merge lines of files\n",
      "\n",
      "SYNOPSIS\n",
      "       paste [OPTION]... [FILE]...\n",
      "\n",
      "DESCRIPTION\n",
      "       Write  lines  consisting  of  the sequentially corresponding lines from\n",
      "       each FILE, separated by TABs, to standard output.   With  no  FILE,  or\n",
      "       when FILE is -, read standard input.\n",
      "\n",
      "       Mandatory  arguments  to  long  options are mandatory for short options\n",
      "       too.\n",
      "\n",
      "       -d, --delimiters=LIST\n",
      "              reuse characters from LIST instead of TABs\n",
      "\n",
      "       -s, --serial\n",
      "              paste one file at a time instead of in parallel\n",
      "\n",
      "       --help display this help and exit\n",
      "\n",
      "       --version\n",
      "              output version information and exit\n",
      "\n",
      "       GNU  coreutils  online  help:  <http://www.gnu.org/software/coreutils/>\n",
      "       Report paste translation bugs to <http://translationproject.org/team/>\n",
      "\n",
      "AUTHOR\n",
      "       Written by David M. Ihnat and David MacKenzie.\n",
      "\n",
      "COPYRIGHT\n",
      "       Copyright  ©  2013  Free Software Foundation, Inc.  License GPLv3+: GNU\n",
      "       GPL version 3 or later <http://gnu.org/licenses/gpl.html>.\n",
      "       This is free software: you are free  to  change  and  redistribute  it.\n",
      "       There is NO WARRANTY, to the extent permitted by law.\n",
      "\n",
      "SEE ALSO\n",
      "       The full documentation for paste is maintained as a Texinfo manual.  If\n",
      "       the info and paste programs are properly installed at  your  site,  the\n",
      "       command\n",
      "\n",
      "              info coreutils 'paste invocation'\n",
      "\n",
      "       should give you access to the complete manual.\n",
      "\n",
      "\n",
      "\n",
      "GNU coreutils 8.22                April 2018                          PASTE(1)\n"
     ]
    }
   ],
   "source": [
    "man paste"
   ]
  },
  {
   "cell_type": "markdown",
   "metadata": {},
   "source": [
    "### El comando ```uniq```.\n",
    "\n",
    "El comando ```uniq``` identifica líneas contiguas que se repiten en un flujo de texto.\n",
    "\n",
    "```\n",
    "uniq <flujo de texto> <opciones>\n",
    "```\n",
    "\n",
    "Si se ejecuta sin opciones, deslpegará el contenido original, sustrayendo las líneas contiguas repetidas.\n",
    "\n",
    "#### Opciones.\n",
    "\n",
    "* La opción *-c* añade el número de repeticiones contiguas de una línea.\n",
    "* La opción *-d* despliega sólo aquellas líneas que sufren de repetición."
   ]
  },
  {
   "cell_type": "code",
   "execution_count": 72,
   "metadata": {},
   "outputs": [],
   "source": [
    "echo -e \"no repetida 1\\nno repetida 2\\nrepetida\\nrepetida\\nrepetida\\nno repetida 3\\nrepetida\\nno repetida 4\" > ~/repetidos.txt"
   ]
  },
  {
   "cell_type": "code",
   "execution_count": 73,
   "metadata": {},
   "outputs": [
    {
     "name": "stdout",
     "output_type": "stream",
     "text": [
      "no repetida 1\n",
      "no repetida 2\n",
      "repetida\n",
      "repetida\n",
      "repetida\n",
      "no repetida 3\n",
      "repetida\n",
      "no repetida 4\n"
     ]
    }
   ],
   "source": [
    "cat ~/repetidos.txt"
   ]
  },
  {
   "cell_type": "code",
   "execution_count": 74,
   "metadata": {},
   "outputs": [
    {
     "name": "stdout",
     "output_type": "stream",
     "text": [
      "no repetida 1\n",
      "no repetida 2\n",
      "repetida\n",
      "no repetida 3\n",
      "repetida\n",
      "no repetida 4\n"
     ]
    }
   ],
   "source": [
    "uniq ~/repetidos.txt"
   ]
  },
  {
   "cell_type": "code",
   "execution_count": 75,
   "metadata": {},
   "outputs": [
    {
     "name": "stdout",
     "output_type": "stream",
     "text": [
      "      1 no repetida 1\n",
      "      1 no repetida 2\n",
      "      3 repetida\n",
      "      1 no repetida 3\n",
      "      1 repetida\n",
      "      1 no repetida 4\n"
     ]
    }
   ],
   "source": [
    "uniq ~/repetidos.txt -c"
   ]
  },
  {
   "cell_type": "code",
   "execution_count": 76,
   "metadata": {},
   "outputs": [
    {
     "name": "stdout",
     "output_type": "stream",
     "text": [
      "repetida\n"
     ]
    }
   ],
   "source": [
    "uniq ~/repetidos.txt -d"
   ]
  },
  {
   "cell_type": "code",
   "execution_count": 77,
   "metadata": {},
   "outputs": [
    {
     "name": "stdout",
     "output_type": "stream",
     "text": [
      "      3 repetida\n"
     ]
    }
   ],
   "source": [
    "uniq ~/repetidos.txt -dc"
   ]
  },
  {
   "cell_type": "markdown",
   "metadata": {},
   "source": [
    "#### La manpage de ```uniq```."
   ]
  },
  {
   "cell_type": "code",
   "execution_count": null,
   "metadata": {},
   "outputs": [],
   "source": [
    "man uniq"
   ]
  },
  {
   "cell_type": "markdown",
   "metadata": {},
   "source": [
    "## Otros filtros.\n",
    "\n",
    "* ```comm```\n",
    "* ```join```\n",
    "* ```expand```\n",
    "* ```unexpand```\n",
    "* ```od```\n",
    "* ```tr```\n",
    "* ```pr```\n",
    "* ```diff```\n",
    "* ```patch```\n",
    "* ```awk``` y ```gawk```\n"
   ]
  },
  {
   "cell_type": "code",
   "execution_count": 78,
   "metadata": {},
   "outputs": [
    {
     "name": "stdout",
     "output_type": "stream",
     "text": [
      "0a1,8\n",
      "> # ¡En construcción!\n",
      "> # cd 101\n",
      "> # ¡En construcción!\n",
      "> # cd 101\n",
      "> # ¡En construcción!\n",
      "> # cd 101\n",
      "> # ¡En construcción!\n",
      "> # cd 101\n",
      "2d9\n",
      "< # cd101 \"Introducción a Linux para Virtualización y DevOps\".\n",
      "4c11,13\n",
      "< Notebooks de [Jupyter](https://jupyter.org) que incluyen los apuntes del curso cd101 \"Introducción a Linux para Virtualización y DevOps\", de Cloudevel®. \n",
      "---\n",
      "> # cd101 \"Introducción a GNU/Linux para entornos virtuales\".\n",
      "> \n",
      "> Notebooks de [Jupyter](https://jupyter.org) que incluyen los apuntes del curso cd101 \"Introducción a GNU/Linux para entornos virtuales\", de Cloudevel®. \n",
      "11,20d19\n",
      "< \n",
      "< ## Clonación del repositorio.\n",
      "< \n",
      "< Para clonar el repositorio en su sitema de archivos local, ejecute desde una terminal:\n",
      "< \n",
      "< ``` bash\n",
      "< git clone https://github.com/Cloudevel/cd101.git\n",
      "< ```\n",
      "< \n",
      "< Las notebooks son liberadas bajo los términos de la [Licencia MIT](LICENSE).\n"
     ]
    },
    {
     "ename": "",
     "evalue": "1",
     "output_type": "error",
     "traceback": []
    }
   ],
   "source": [
    "diff README.md data/05/README.md"
   ]
  },
  {
   "cell_type": "code",
   "execution_count": null,
   "metadata": {},
   "outputs": [],
   "source": []
  },
  {
   "cell_type": "markdown",
   "metadata": {},
   "source": [
    "## pipe ```|```\n",
    "\n",
    "Por su naturaleza, los filtros obtienen el flujo de datos mediante una entrada y regresan el resultado por una salida.\n",
    "\n",
    "El shell UNIX y GNU/Linux permite redireccionar las entradas y salidas de un flujo de datos mediante lo que se conoce como *pipes* (tubos), lo que permite redirigir la salida de un filtro a la entrada de otro.\n",
    "\n",
    "```\n",
    "<flujo de texto> | <filtro 1> | <filtro 2> |... | <filtro n> \n",
    "```"
   ]
  },
  {
   "cell_type": "code",
   "execution_count": 79,
   "metadata": {},
   "outputs": [
    {
     "name": "stdout",
     "output_type": "stream",
     "text": [
      "01_introduccion.ipynb\n",
      "02_sistemas_computo.ipynb\n",
      "03_la_línea_de_comandos.ipynb\n",
      "04_directorios_y_archivos.ipynb\n",
      "05_entrada_salida_filtros_y_pipes.ipynb\n",
      "06_expresiones_regulares_y_busquedas.ipynb\n",
      "07_introduccion_a_vim.ipynb\n",
      "08_usuarios_y_grupos.ipynb\n",
      "09_inicio_de_linux.ipynb\n",
      "10_el_kernel_de_linux.ipynb\n",
      "11_particiones_y_volumenes_de_archivos.ipynb\n",
      "12_chroot_y_contendores.ipynb\n",
      "13_paquetes-de-software.ipynb\n",
      "14_ introduccion_a_redes_basicas.ipynb\n",
      "15_procesos_trabajos_y_temporizadores.ipynb\n",
      "16_introduccion_a_bash_scripting.ipynb\n",
      "17_gestion_de_servicios_con_systemd.ipynb\n",
      "18_bitacoras.ipynb\n",
      "19_seguridad_basica.ipynb\n",
      "20_maquinas_virtuales.ipynb\n",
      "data\n",
      "Imagenes\n",
      "LICENSE\n",
      "listado\n",
      "README.md\n",
      "x00\n",
      "x01\n",
      "x02\n",
      "xaa\n",
      "xab\n",
      "xac\n",
      "xad\n"
     ]
    }
   ],
   "source": [
    "ls"
   ]
  },
  {
   "cell_type": "code",
   "execution_count": 80,
   "metadata": {},
   "outputs": [
    {
     "name": "stdout",
     "output_type": "stream",
     "text": [
      "xad\n",
      "xac\n",
      "xab\n",
      "xaa\n",
      "x02\n",
      "x01\n",
      "x00\n",
      "README.md\n",
      "listado\n",
      "LICENSE\n",
      "Imagenes\n",
      "data\n",
      "20_maquinas_virtuales.ipynb\n",
      "19_seguridad_basica.ipynb\n",
      "18_bitacoras.ipynb\n",
      "17_gestion_de_servicios_con_systemd.ipynb\n",
      "16_introduccion_a_bash_scripting.ipynb\n",
      "15_procesos_trabajos_y_temporizadores.ipynb\n",
      "14_ introduccion_a_redes_basicas.ipynb\n",
      "13_paquetes-de-software.ipynb\n",
      "12_chroot_y_contendores.ipynb\n",
      "11_particiones_y_volumenes_de_archivos.ipynb\n",
      "10_el_kernel_de_linux.ipynb\n",
      "09_inicio_de_linux.ipynb\n",
      "08_usuarios_y_grupos.ipynb\n",
      "07_introduccion_a_vim.ipynb\n",
      "06_expresiones_regulares_y_busquedas.ipynb\n",
      "05_entrada_salida_filtros_y_pipes.ipynb\n",
      "04_directorios_y_archivos.ipynb\n",
      "03_la_línea_de_comandos.ipynb\n",
      "02_sistemas_computo.ipynb\n",
      "01_introduccion.ipynb\n"
     ]
    }
   ],
   "source": [
    "ls | sort -r"
   ]
  },
  {
   "cell_type": "code",
   "execution_count": 81,
   "metadata": {},
   "outputs": [
    {
     "name": "stdout",
     "output_type": "stream",
     "text": [
      "03_la_línea_de_comandos.ipynb\n",
      "02_sistemas_computo.ipynb\n",
      "01_introduccion.ipynb\n"
     ]
    }
   ],
   "source": [
    "ls | sort -r | tail -n3 "
   ]
  },
  {
   "cell_type": "code",
   "execution_count": 82,
   "metadata": {},
   "outputs": [
    {
     "name": "stdout",
     "output_type": "stream",
     "text": [
      "la_línea_de_comandos.ipynb\n",
      "sistemas_computo.ipynb\n",
      "introduccion.ipynb\n"
     ]
    }
   ],
   "source": [
    "ls | sort -r | tail -n3 | cut -c4-"
   ]
  },
  {
   "cell_type": "code",
   "execution_count": 83,
   "metadata": {},
   "outputs": [
    {
     "name": "stdout",
     "output_type": "stream",
     "text": [
      "3\n"
     ]
    }
   ],
   "source": [
    "ls | sort -r | tail -n3 | cut -c4- | wc -l"
   ]
  },
  {
   "cell_type": "markdown",
   "metadata": {},
   "source": [
    "## El  pipe ```tee ```.\n",
    "\n",
    "Este pipe permite guardar el flujo de datos en un achivo y de forma simultánea enviarlo a la entrada de unb pipe.\n",
    "\n",
    "``` \n",
    "<flujo> | tee <archivo> | <filtro> \n",
    "```"
   ]
  },
  {
   "cell_type": "code",
   "execution_count": 84,
   "metadata": {},
   "outputs": [
    {
     "name": "stdout",
     "output_type": "stream",
     "text": [
      "la_línea_de_comandos.ipynb\n",
      "sistemas_computo.ipynb\n",
      "introduccion.ipynb\n"
     ]
    }
   ],
   "source": [
    "ls | tee ~/lista.txt | sort -r | tail -n3 | cut -c4-"
   ]
  },
  {
   "cell_type": "code",
   "execution_count": 85,
   "metadata": {},
   "outputs": [
    {
     "name": "stdout",
     "output_type": "stream",
     "text": [
      "01_introduccion.ipynb\n",
      "02_sistemas_computo.ipynb\n",
      "03_la_línea_de_comandos.ipynb\n",
      "04_directorios_y_archivos.ipynb\n",
      "05_entrada_salida_filtros_y_pipes.ipynb\n",
      "06_expresiones_regulares_y_busquedas.ipynb\n",
      "07_introduccion_a_vim.ipynb\n",
      "08_usuarios_y_grupos.ipynb\n",
      "09_inicio_de_linux.ipynb\n",
      "10_el_kernel_de_linux.ipynb\n",
      "11_particiones_y_volumenes_de_archivos.ipynb\n",
      "12_chroot_y_contendores.ipynb\n",
      "13_paquetes-de-software.ipynb\n",
      "14_ introduccion_a_redes_basicas.ipynb\n",
      "15_procesos_trabajos_y_temporizadores.ipynb\n",
      "16_introduccion_a_bash_scripting.ipynb\n",
      "17_gestion_de_servicios_con_systemd.ipynb\n",
      "18_bitacoras.ipynb\n",
      "19_seguridad_basica.ipynb\n",
      "20_maquinas_virtuales.ipynb\n",
      "data\n",
      "Imagenes\n",
      "LICENSE\n",
      "listado\n",
      "README.md\n",
      "x00\n",
      "x01\n",
      "x02\n",
      "xaa\n",
      "xab\n",
      "xac\n",
      "xad\n"
     ]
    }
   ],
   "source": [
    "cat ~/lista.txt"
   ]
  },
  {
   "cell_type": "markdown",
   "metadata": {},
   "source": [
    "<p style=\"text-align: center\"><a rel=\"license\" href=\"http://creativecommons.org/licenses/by/4.0/\"><img alt=\"Licencia Creative Commons\" style=\"border-width:0\" src=\"https://i.creativecommons.org/l/by/4.0/80x15.png\" /></a><br />Esta obra está bajo una <a rel=\"license\" href=\"http://creativecommons.org/licenses/by/4.0/\">Licencia Creative Commons Atribución 4.0 Internacional</a>.</p>\n",
    "<p style=\"text-align: center\">&copy; José Luis Chiquete Valdivieso. 2019.</p>"
   ]
  }
 ],
 "metadata": {
  "kernelspec": {
   "display_name": "Bash",
   "language": "bash",
   "name": "bash"
  },
  "language_info": {
   "codemirror_mode": "shell",
   "file_extension": ".sh",
   "mimetype": "text/x-sh",
   "name": "bash"
  }
 },
 "nbformat": 4,
 "nbformat_minor": 2
}
