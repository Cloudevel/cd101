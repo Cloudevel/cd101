{
 "cells": [
  {
   "cell_type": "markdown",
   "metadata": {},
   "source": [
    "[![cloudevel](Imagenes/cloudevel.png)](https://cloudevel.com)"
   ]
  },
  {
   "cell_type": "markdown",
   "metadata": {},
   "source": [
    "## Entrada estándar, salida estandar y error estándar."
   ]
  },
  {
   "cell_type": "markdown",
   "metadata": {},
   "source": [
    "### Entrada estándar.\n",
    "\n",
    "Se conoce como *stdin* y para el usuario corresponde a las señales enviadas por un teclado."
   ]
  },
  {
   "cell_type": "markdown",
   "metadata": {},
   "source": [
    "### Salida estándar.\n",
    "\n",
    "Se conoce como *stdout* y en una terminal corresponde a lo que se despliega en  el monitos despu;es de ejecutar un comando."
   ]
  },
  {
   "cell_type": "code",
   "execution_count": null,
   "metadata": {},
   "outputs": [],
   "source": [
    "ls"
   ]
  },
  {
   "cell_type": "markdown",
   "metadata": {},
   "source": [
    "### Error estándar.\n",
    "\n",
    "La salida estándar ocurre cuando un comando es ejecutado exitosamente. Sin embargo, el error estándar (*stderr*) corresponde al flujo de texto resultante de un error."
   ]
  },
  {
   "cell_type": "code",
   "execution_count": null,
   "metadata": {},
   "outputs": [],
   "source": [
    "ls erroneo"
   ]
  },
  {
   "cell_type": "markdown",
   "metadata": {},
   "source": [
    "## El comando ```echo```.\n",
    "\n",
    "Envía un flujo de texto a la salida estándar."
   ]
  },
  {
   "cell_type": "code",
   "execution_count": null,
   "metadata": {},
   "outputs": [],
   "source": [
    "echo Hola"
   ]
  },
  {
   "cell_type": "code",
   "execution_count": null,
   "metadata": {},
   "outputs": [],
   "source": [
    "echo \"Hola\""
   ]
  },
  {
   "cell_type": "code",
   "execution_count": null,
   "metadata": {
    "scrolled": true
   },
   "outputs": [],
   "source": [
    "echo 'Hola'"
   ]
  },
  {
   "cell_type": "markdown",
   "metadata": {},
   "source": [
    "Uso de caracteres de escape con la opción  *-e*.\n",
    "\n",
    "* El caracter de escape de el retorno  de línea es *\\n*.\n",
    "* El caracter de escape de tabulador es *\\t*."
   ]
  },
  {
   "cell_type": "code",
   "execution_count": null,
   "metadata": {},
   "outputs": [],
   "source": [
    "echo \"Hola\\nMundo.\""
   ]
  },
  {
   "cell_type": "code",
   "execution_count": null,
   "metadata": {},
   "outputs": [],
   "source": [
    "echo -e \"Hola\\nMundo.\""
   ]
  },
  {
   "cell_type": "markdown",
   "metadata": {},
   "source": [
    "### La manpage de ```echo```."
   ]
  },
  {
   "cell_type": "code",
   "execution_count": null,
   "metadata": {},
   "outputs": [],
   "source": [
    "man echo"
   ]
  },
  {
   "cell_type": "markdown",
   "metadata": {},
   "source": [
    "## El comando ```cat```.\n",
    "\n",
    "El comando ```cat``` permite redireccionar flujos de textos tanto en archivos como en la salida estándar y la entrada estándar."
   ]
  },
  {
   "cell_type": "markdown",
   "metadata": {},
   "source": [
    "### Despliegue de un archivo convencional a la salida estándar.\n",
    "\n",
    "El comando ```cat```ouede leer un archivo y enviarlo a la salida estándar mediante la siguiente sintaxis: \n",
    "\n",
    "```\n",
    "cat <archivo> \n",
    "```"
   ]
  },
  {
   "cell_type": "code",
   "execution_count": null,
   "metadata": {
    "scrolled": true
   },
   "outputs": [],
   "source": [
    "cat README.md"
   ]
  },
  {
   "cell_type": "code",
   "execution_count": null,
   "metadata": {},
   "outputs": [],
   "source": [
    "cat "
   ]
  },
  {
   "cell_type": "markdown",
   "metadata": {},
   "source": [
    "### Despliegue de un flujo de datos del sistema.\n",
    "\n",
    "Como ya se comentó previamente, UNIX y GNU/Linux consideran a los procesos y a los dispostivos como archivos, con la difrencia de que estos archivos están ligados a un flujo constante de datos. Este flujo de datos puede ser considerado como un flujo de texto que puede ser capturado mediante ```cat```."
   ]
  },
  {
   "cell_type": "markdown",
   "metadata": {},
   "source": [
    "**Ejemplo:**\n",
    "\n",
    "**ADVERTENCIA:**\n",
    "\n",
    "No se recomienda realizar el siguiente ejercicio en un sistema de pruebas ni en una terminal de Jupyter ya que es posible que la terminal desde la que se relice quede inestable.\n",
    "\n",
    "Si se encuentra utilizando la máquina virtual proporcionada por  Cloudevel<sup>®</sup>, haga lo siguiente:\n",
    "* Ingrese a la consola de Virtualbox e inicie una sesión con el usuario *root* y la contraseña *0p3n5t4ckCDMX*.\n",
    "* Asegúrese de que la consola capture los eventos de su dispositivo apuntador, haciendo click en la ventana de dicha consola. El mouse desaparecerá.\n",
    "* Ejecute el comando ```cat /dev/input/mice```.\n",
    "\n",
    "Este comando enviará a la salida estándar de la terminal una serie de caracteres que corresponden a una representación de los eventos del dispositivo.\n",
    "\n",
    "* Para dejar de capturar los eventos del dispositivo teclee <kbd>Ctrl</kbd><kbd>C</kbd>.\n",
    "\n",
    "Para que la terminal de Virtualbox deje de capturar los eventos del dispositivo, accione la tecla <kbd>Ctrl</kbd> a la derecha de su teclado. Si usa una Mac, accione la tecla la tecla <kbd>Cmd</kbd> a la derecha de su teclado."
   ]
  },
  {
   "cell_type": "markdown",
   "metadata": {},
   "source": [
    "### Despliegue de varios archivos.\n",
    "\n",
    "el comando ```cat``` permite redireccionar más de un archivo mediante la siguiente sintaxis:\n",
    "\n",
    "```\n",
    "cat <archivo 1> <archivo 2> ... <archivo n> \n",
    "```"
   ]
  },
  {
   "cell_type": "code",
   "execution_count": null,
   "metadata": {
    "scrolled": false
   },
   "outputs": [],
   "source": [
    "cat README.md LICENSE"
   ]
  },
  {
   "cell_type": "markdown",
   "metadata": {},
   "source": [
    "### La manpage de ```cat```."
   ]
  },
  {
   "cell_type": "code",
   "execution_count": null,
   "metadata": {},
   "outputs": [],
   "source": [
    "man cat"
   ]
  },
  {
   "cell_type": "markdown",
   "metadata": {},
   "source": [
    "## Operaciones de entrada y salida con archivos."
   ]
  },
  {
   "cell_type": "markdown",
   "metadata": {},
   "source": [
    "### Envío a un archivo con ```>```."
   ]
  },
  {
   "cell_type": "code",
   "execution_count": null,
   "metadata": {},
   "outputs": [],
   "source": [
    "echo -e \"Saludos.\\nEste es un mensaje de texto.\" > saludo.txt"
   ]
  },
  {
   "cell_type": "code",
   "execution_count": null,
   "metadata": {},
   "outputs": [],
   "source": [
    "cat saludo.txt"
   ]
  },
  {
   "cell_type": "code",
   "execution_count": null,
   "metadata": {},
   "outputs": [],
   "source": [
    "ls -i > listado.txt"
   ]
  },
  {
   "cell_type": "code",
   "execution_count": null,
   "metadata": {},
   "outputs": [],
   "source": [
    "cat listado.txt"
   ]
  },
  {
   "cell_type": "code",
   "execution_count": null,
   "metadata": {},
   "outputs": [],
   "source": [
    "cat listado.txt saludo.txt > concatenado.txt"
   ]
  },
  {
   "cell_type": "code",
   "execution_count": null,
   "metadata": {},
   "outputs": [],
   "source": [
    "cat concatenado.txt"
   ]
  },
  {
   "cell_type": "markdown",
   "metadata": {},
   "source": [
    "#### Captura del teclado con ```cat``` y ```>```."
   ]
  },
  {
   "cell_type": "markdown",
   "metadata": {},
   "source": [
    "```\n",
    "cat > escrito.txt\n",
    "```"
   ]
  },
  {
   "cell_type": "markdown",
   "metadata": {},
   "source": [
    "#### Captura del error estándar."
   ]
  },
  {
   "cell_type": "code",
   "execution_count": null,
   "metadata": {},
   "outputs": [],
   "source": [
    "ls erroneo 2> error.txt"
   ]
  },
  {
   "cell_type": "code",
   "execution_count": null,
   "metadata": {},
   "outputs": [],
   "source": [
    "cat error.txt"
   ]
  },
  {
   "cell_type": "code",
   "execution_count": null,
   "metadata": {},
   "outputs": [],
   "source": [
    "ls Imagenes 2> error.txt"
   ]
  },
  {
   "cell_type": "code",
   "execution_count": null,
   "metadata": {},
   "outputs": [],
   "source": [
    "cat error.txt"
   ]
  },
  {
   "cell_type": "markdown",
   "metadata": {},
   "source": [
    "### Adición de flujo de texto a un archivo con ```>>```."
   ]
  },
  {
   "cell_type": "code",
   "execution_count": null,
   "metadata": {},
   "outputs": [],
   "source": [
    "ls -l >> listado.txt"
   ]
  },
  {
   "cell_type": "code",
   "execution_count": null,
   "metadata": {
    "scrolled": true
   },
   "outputs": [],
   "source": [
    "cat listado.txt"
   ]
  },
  {
   "cell_type": "markdown",
   "metadata": {},
   "source": [
    "## Filtros."
   ]
  },
  {
   "cell_type": "code",
   "execution_count": null,
   "metadata": {},
   "outputs": [],
   "source": []
  },
  {
   "cell_type": "markdown",
   "metadata": {},
   "source": [
    "### ```less``` y ```more```. \n",
    "\n",
    "El filtro ```less``` permite usar una ventana similar a la de ```man``` en una terminal."
   ]
  },
  {
   "cell_type": "markdown",
   "metadata": {},
   "source": [
    "#### La manpage de ```less```."
   ]
  },
  {
   "cell_type": "code",
   "execution_count": null,
   "metadata": {},
   "outputs": [],
   "source": [
    "man less"
   ]
  },
  {
   "cell_type": "markdown",
   "metadata": {},
   "source": [
    "#### La manpage de ```more```."
   ]
  },
  {
   "cell_type": "code",
   "execution_count": null,
   "metadata": {},
   "outputs": [],
   "source": [
    "man more"
   ]
  },
  {
   "cell_type": "markdown",
   "metadata": {},
   "source": [
    "### ```head```."
   ]
  },
  {
   "cell_type": "code",
   "execution_count": null,
   "metadata": {},
   "outputs": [],
   "source": [
    "head LICENSE"
   ]
  },
  {
   "cell_type": "code",
   "execution_count": null,
   "metadata": {},
   "outputs": [],
   "source": [
    "head README.md -n 3"
   ]
  },
  {
   "cell_type": "markdown",
   "metadata": {},
   "source": [
    "#### La manpage de ```head```."
   ]
  },
  {
   "cell_type": "code",
   "execution_count": null,
   "metadata": {},
   "outputs": [],
   "source": [
    "man head"
   ]
  },
  {
   "cell_type": "markdown",
   "metadata": {},
   "source": [
    "### ```tail```."
   ]
  },
  {
   "cell_type": "code",
   "execution_count": null,
   "metadata": {
    "scrolled": true
   },
   "outputs": [],
   "source": [
    "tail README.md"
   ]
  },
  {
   "cell_type": "code",
   "execution_count": null,
   "metadata": {},
   "outputs": [],
   "source": [
    "tail README.md -n 4"
   ]
  },
  {
   "cell_type": "markdown",
   "metadata": {},
   "source": [
    "#### La manpage de ```tail```."
   ]
  },
  {
   "cell_type": "code",
   "execution_count": null,
   "metadata": {},
   "outputs": [],
   "source": [
    "man tail"
   ]
  },
  {
   "cell_type": "markdown",
   "metadata": {},
   "source": [
    "### ```wc```."
   ]
  },
  {
   "cell_type": "code",
   "execution_count": null,
   "metadata": {},
   "outputs": [],
   "source": [
    "wc README.md"
   ]
  },
  {
   "cell_type": "code",
   "execution_count": null,
   "metadata": {},
   "outputs": [],
   "source": [
    "wc README.md -l"
   ]
  },
  {
   "cell_type": "code",
   "execution_count": null,
   "metadata": {},
   "outputs": [],
   "source": [
    "wc README.md -w"
   ]
  },
  {
   "cell_type": "code",
   "execution_count": null,
   "metadata": {
    "scrolled": true
   },
   "outputs": [],
   "source": [
    "wc README.md -c"
   ]
  },
  {
   "cell_type": "code",
   "execution_count": null,
   "metadata": {},
   "outputs": [],
   "source": [
    "wc README.md -cw"
   ]
  },
  {
   "cell_type": "markdown",
   "metadata": {},
   "source": [
    "#### La manpage de ```wc```."
   ]
  },
  {
   "cell_type": "code",
   "execution_count": null,
   "metadata": {},
   "outputs": [],
   "source": [
    "man wc"
   ]
  },
  {
   "cell_type": "markdown",
   "metadata": {},
   "source": [
    "### ```nl```."
   ]
  },
  {
   "cell_type": "code",
   "execution_count": null,
   "metadata": {},
   "outputs": [],
   "source": [
    "nl README.md"
   ]
  },
  {
   "cell_type": "markdown",
   "metadata": {},
   "source": [
    "#### La manpage de ```nl```."
   ]
  },
  {
   "cell_type": "code",
   "execution_count": null,
   "metadata": {},
   "outputs": [],
   "source": [
    "man nl"
   ]
  },
  {
   "cell_type": "markdown",
   "metadata": {},
   "source": [
    "### ```sort ```."
   ]
  },
  {
   "cell_type": "code",
   "execution_count": 7,
   "metadata": {},
   "outputs": [],
   "source": [
    "echo -e \"Hugo\\nPaco\\nLuis\" > ~/patos.txt"
   ]
  },
  {
   "cell_type": "code",
   "execution_count": 8,
   "metadata": {},
   "outputs": [
    {
     "name": "stdout",
     "output_type": "stream",
     "text": [
      "Hugo\n",
      "Luis\n",
      "Paco\n"
     ]
    }
   ],
   "source": [
    "sort ~/patos.txt"
   ]
  },
  {
   "cell_type": "code",
   "execution_count": 9,
   "metadata": {},
   "outputs": [],
   "source": [
    "echo -e \"Sota\\nCaballo\\nRey\" > ~/cartas.txt"
   ]
  },
  {
   "cell_type": "code",
   "execution_count": 10,
   "metadata": {},
   "outputs": [
    {
     "name": "stdout",
     "output_type": "stream",
     "text": [
      "Caballo\n",
      "Hugo\n",
      "Luis\n",
      "Paco\n",
      "Rey\n",
      "Sota\n"
     ]
    }
   ],
   "source": [
    "sort ~/patos.txt ~/cartas.txt"
   ]
  },
  {
   "cell_type": "code",
   "execution_count": 11,
   "metadata": {},
   "outputs": [
    {
     "name": "stdout",
     "output_type": "stream",
     "text": [
      "Sota\n",
      "Rey\n",
      "Paco\n",
      "Luis\n",
      "Hugo\n",
      "Caballo\n"
     ]
    }
   ],
   "source": [
    "sort ~/patos.txt ~/cartas.txt -r"
   ]
  },
  {
   "cell_type": "code",
   "execution_count": 12,
   "metadata": {},
   "outputs": [],
   "source": [
    "echo -e \"2\\n5\\n21\\n32\\n6\\n245\\n\" > ~/numeros.txt"
   ]
  },
  {
   "cell_type": "code",
   "execution_count": 13,
   "metadata": {},
   "outputs": [
    {
     "name": "stdout",
     "output_type": "stream",
     "text": [
      "\n",
      "2\n",
      "21\n",
      "245\n",
      "32\n",
      "5\n",
      "6\n"
     ]
    }
   ],
   "source": [
    "sort ~/numeros.txt"
   ]
  },
  {
   "cell_type": "code",
   "execution_count": 14,
   "metadata": {},
   "outputs": [
    {
     "name": "stdout",
     "output_type": "stream",
     "text": [
      "\n",
      "2\n",
      "5\n",
      "6\n",
      "21\n",
      "32\n",
      "245\n"
     ]
    }
   ],
   "source": [
    "sort ~/numeros.txt -n"
   ]
  },
  {
   "cell_type": "markdown",
   "metadata": {},
   "source": [
    "#### La manpage de ```sort```."
   ]
  },
  {
   "cell_type": "code",
   "execution_count": 15,
   "metadata": {},
   "outputs": [
    {
     "name": "stdout",
     "output_type": "stream",
     "text": [
      "SORT(1)                          User Commands                         SORT(1)\n",
      "\n",
      "\n",
      "\n",
      "NAME\n",
      "       sort - sort lines of text files\n",
      "\n",
      "SYNOPSIS\n",
      "       sort [OPTION]... [FILE]...\n",
      "       sort [OPTION]... --files0-from=F\n",
      "\n",
      "DESCRIPTION\n",
      "       Write sorted concatenation of all FILE(s) to standard output.\n",
      "\n",
      "       Mandatory  arguments  to  long  options are mandatory for short options\n",
      "       too.  Ordering options:\n",
      "\n",
      "       -b, --ignore-leading-blanks\n",
      "              ignore leading blanks\n",
      "\n",
      "       -d, --dictionary-order\n",
      "              consider only blanks and alphanumeric characters\n",
      "\n",
      "       -f, --ignore-case\n",
      "              fold lower case to upper case characters\n",
      "\n",
      "       -g, --general-numeric-sort\n",
      "              compare according to general numerical value\n",
      "\n",
      "       -i, --ignore-nonprinting\n",
      "              consider only printable characters\n",
      "\n",
      "       -M, --month-sort\n",
      "              compare (unknown) < 'JAN' < ... < 'DEC'\n",
      "\n",
      "       -h, --human-numeric-sort\n",
      "              compare human readable numbers (e.g., 2K 1G)\n",
      "\n",
      "       -n, --numeric-sort\n",
      "              compare according to string numerical value\n",
      "\n",
      "       -R, --random-sort\n",
      "              sort by random hash of keys\n",
      "\n",
      "       --random-source=FILE\n",
      "              get random bytes from FILE\n",
      "\n",
      "       -r, --reverse\n",
      "              reverse the result of comparisons\n",
      "\n",
      "       --sort=WORD\n",
      "              sort according to WORD: general-numeric  -g,  human-numeric  -h,\n",
      "              month -M, numeric -n, random -R, version -V\n",
      "\n",
      "       -V, --version-sort\n",
      "              natural sort of (version) numbers within text\n",
      "\n",
      "       Other options:\n",
      "\n",
      "       --batch-size=NMERGE\n",
      "              merge at most NMERGE inputs at once; for more use temp files\n",
      "\n",
      "       -c, --check, --check=diagnose-first\n",
      "              check for sorted input; do not sort\n",
      "\n",
      "       -C, --check=quiet, --check=silent\n",
      "              like -c, but do not report first bad line\n",
      "\n",
      "       --compress-program=PROG\n",
      "              compress temporaries with PROG; decompress them with PROG -d\n",
      "\n",
      "       --debug\n",
      "              annotate the part of the line used to sort, and warn about ques‐\n",
      "              tionable usage to stderr\n",
      "\n",
      "       --files0-from=F\n",
      "              read input from the files specified by NUL-terminated  names  in\n",
      "              file F; If F is - then read names from standard input\n",
      "\n",
      "       -k, --key=KEYDEF\n",
      "              sort via a key; KEYDEF gives location and type\n",
      "\n",
      "       -m, --merge\n",
      "              merge already sorted files; do not sort\n",
      "\n",
      "       -o, --output=FILE\n",
      "              write result to FILE instead of standard output\n",
      "\n",
      "       -s, --stable\n",
      "              stabilize sort by disabling last-resort comparison\n",
      "\n",
      "       -S, --buffer-size=SIZE\n",
      "              use SIZE for main memory buffer\n",
      "\n",
      "       -t, --field-separator=SEP\n",
      "              use SEP instead of non-blank to blank transition\n",
      "\n",
      "       -T, --temporary-directory=DIR\n",
      "              use  DIR  for temporaries, not $TMPDIR or /tmp; multiple options\n",
      "              specify multiple directories\n",
      "\n",
      "       --parallel=N\n",
      "              change the number of sorts run concurrently to N\n",
      "\n",
      "       -u, --unique\n",
      "              with -c, check for strict ordering; without -c, output only  the\n",
      "              first of an equal run\n",
      "\n",
      "       -z, --zero-terminated\n",
      "              end lines with 0 byte, not newline\n",
      "\n",
      "       --help display this help and exit\n",
      "\n",
      "       --version\n",
      "              output version information and exit\n",
      "\n",
      "       KEYDEF  is F[.C][OPTS][,F[.C][OPTS]] for start and stop position, where\n",
      "       F is a field number and C a character position in the field;  both  are\n",
      "       origin 1, and the stop position defaults to the line's end.  If neither\n",
      "       -t nor -b is in effect, characters in a  field  are  counted  from  the\n",
      "       beginning of the preceding whitespace.  OPTS is one or more single-let‐\n",
      "       ter ordering options  [bdfgiMhnRrV],  which  override  global  ordering\n",
      "       options  for  that key.  If no key is given, use the entire line as the\n",
      "       key.\n",
      "\n",
      "       SIZE may be followed by the following multiplicative suffixes: % 1%  of\n",
      "       memory, b 1, K 1024 (default), and so on for M, G, T, P, E, Z, Y.\n",
      "\n",
      "       With no FILE, or when FILE is -, read standard input.\n",
      "\n",
      "       ***  WARNING  ***  The locale specified by the environment affects sort\n",
      "       order.  Set LC_ALL=C to get the traditional sort order that uses native\n",
      "       byte values.\n",
      "\n",
      "       GNU  coreutils  online  help:  <http://www.gnu.org/software/coreutils/>\n",
      "       Report sort translation bugs to <http://translationproject.org/team/>\n",
      "\n",
      "AUTHOR\n",
      "       Written by Mike Haertel and Paul Eggert.\n",
      "\n",
      "COPYRIGHT\n",
      "       Copyright © 2013 Free Software Foundation, Inc.   License  GPLv3+:  GNU\n",
      "       GPL version 3 or later <http://gnu.org/licenses/gpl.html>.\n",
      "       This  is  free  software:  you  are free to change and redistribute it.\n",
      "       There is NO WARRANTY, to the extent permitted by law.\n",
      "\n",
      "SEE ALSO\n",
      "       uniq(1)\n",
      "\n",
      "       The full documentation for sort is maintained as a Texinfo manual.   If\n",
      "       the  info  and  sort  programs are properly installed at your site, the\n",
      "       command\n",
      "\n",
      "              info coreutils 'sort invocation'\n",
      "\n",
      "       should give you access to the complete manual.\n",
      "\n",
      "\n",
      "\n",
      "GNU coreutils 8.22                April 2018                           SORT(1)\n"
     ]
    }
   ],
   "source": [
    "man sort"
   ]
  },
  {
   "cell_type": "markdown",
   "metadata": {},
   "source": [
    "### ```split```."
   ]
  },
  {
   "cell_type": "code",
   "execution_count": 16,
   "metadata": {},
   "outputs": [],
   "source": [
    "split README.md -n 3"
   ]
  },
  {
   "cell_type": "markdown",
   "metadata": {},
   "source": [
    "#### La manpage de ```split```."
   ]
  },
  {
   "cell_type": "code",
   "execution_count": 17,
   "metadata": {},
   "outputs": [
    {
     "name": "stdout",
     "output_type": "stream",
     "text": [
      "SPLIT(1)                         User Commands                        SPLIT(1)\n",
      "\n",
      "\n",
      "\n",
      "NAME\n",
      "       split - split a file into pieces\n",
      "\n",
      "SYNOPSIS\n",
      "       split [OPTION]... [INPUT [PREFIX]]\n",
      "\n",
      "DESCRIPTION\n",
      "       Output  fixed-size  pieces of INPUT to PREFIXaa, PREFIXab, ...; default\n",
      "       size is 1000 lines, and default PREFIX is 'x'.  With no INPUT, or  when\n",
      "       INPUT is -, read standard input.\n",
      "\n",
      "       Mandatory  arguments  to  long  options are mandatory for short options\n",
      "       too.\n",
      "\n",
      "       -a, --suffix-length=N\n",
      "              generate suffixes of length N (default 2)\n",
      "\n",
      "       --additional-suffix=SUFFIX\n",
      "              append an additional SUFFIX to file names\n",
      "\n",
      "       -b, --bytes=SIZE\n",
      "              put SIZE bytes per output file\n",
      "\n",
      "       -C, --line-bytes=SIZE\n",
      "              put at most SIZE bytes of lines per output file\n",
      "\n",
      "       -d, --numeric-suffixes[=FROM]\n",
      "              use numeric suffixes instead of  alphabetic;  FROM  changes  the\n",
      "              start value (default 0)\n",
      "\n",
      "       -e, --elide-empty-files\n",
      "              do not generate empty output files with '-n'\n",
      "\n",
      "       --filter=COMMAND\n",
      "              write to shell COMMAND; file name is $FILE\n",
      "\n",
      "       -l, --lines=NUMBER\n",
      "              put NUMBER lines per output file\n",
      "\n",
      "       -n, --number=CHUNKS\n",
      "              generate CHUNKS output files; see explanation below\n",
      "\n",
      "       -u, --unbuffered\n",
      "              immediately copy input to output with '-n r/...'\n",
      "\n",
      "       --verbose\n",
      "              print a diagnostic just before each output file is opened\n",
      "\n",
      "       --help display this help and exit\n",
      "\n",
      "       --version\n",
      "              output version information and exit\n",
      "\n",
      "       SIZE  is  an  integer and optional unit (example: 10M is 10*1024*1024).\n",
      "       Units are K, M, G, T, P, E, Z, Y (powers of 1024) or KB, MB, ...  (pow‐\n",
      "       ers of 1000).\n",
      "\n",
      "       CHUNKS  may  be:  N       split into N files based on size of input K/N\n",
      "       output Kth of N to stdout l/N     split into N files without  splitting\n",
      "       lines  l/K/N    output  Kth  of N to stdout without splitting lines r/N\n",
      "       like 'l' but use round robin distribution  r/K/N    likewise  but  only\n",
      "       output Kth of N to stdout\n",
      "\n",
      "       GNU  coreutils  online  help:  <http://www.gnu.org/software/coreutils/>\n",
      "       Report split translation bugs to <http://translationproject.org/team/>\n",
      "\n",
      "AUTHOR\n",
      "       Written by Torbjorn Granlund and Richard M. Stallman.\n",
      "\n",
      "COPYRIGHT\n",
      "       Copyright © 2013 Free Software Foundation, Inc.   License  GPLv3+:  GNU\n",
      "       GPL version 3 or later <http://gnu.org/licenses/gpl.html>.\n",
      "       This  is  free  software:  you  are free to change and redistribute it.\n",
      "       There is NO WARRANTY, to the extent permitted by law.\n",
      "\n",
      "SEE ALSO\n",
      "       The full documentation for split is maintained as a Texinfo manual.  If\n",
      "       the  info  and  split programs are properly installed at your site, the\n",
      "       command\n",
      "\n",
      "              info coreutils 'split invocation'\n",
      "\n",
      "       should give you access to the complete manual.\n",
      "\n",
      "\n",
      "\n",
      "GNU coreutils 8.22                April 2018                          SPLIT(1)\n"
     ]
    }
   ],
   "source": [
    "man split"
   ]
  },
  {
   "cell_type": "markdown",
   "metadata": {},
   "source": [
    "### ```cut```."
   ]
  },
  {
   "cell_type": "code",
   "execution_count": 18,
   "metadata": {},
   "outputs": [
    {
     "name": "stdout",
     "output_type": "stream",
     "text": [
      "101\n",
      "N CONS\n",
      "\n",
      "101 \"I\n",
      "\n",
      "books \n",
      "\n",
      "notebo\n",
      "\n",
      "uestra\n",
      "\n",
      " facil\n",
      "\n",
      "lonaci\n",
      "\n",
      " clona\n",
      "\n",
      "bash\n",
      "clone \n",
      "\n"
     ]
    }
   ],
   "source": [
    "cut README.md -c5-10"
   ]
  },
  {
   "cell_type": "code",
   "execution_count": 19,
   "metadata": {},
   "outputs": [
    {
     "name": "stdout",
     "output_type": "stream",
     "text": [
      "\n",
      "STRUCCIÓN!\n",
      "\n",
      "Introducción a GNU/Linux para entornos virtuales\".\n",
      "\n",
      " de [Jupyter](https://jupyter.org) que incluyen los apuntes del curso cd101 \"Introducción a GNU/Linux para entornos virtuales\", de Cloudevel®. \n",
      "\n",
      "ooks se deben de ejecutar utilizando el [kernel de Bash](https://github.com/takluyver/bash_kernel).\n",
      "\n",
      "a máquina virtual.\n",
      "\n",
      "litar la instalación y configuración tanto de Jupyter como del kernel de Bash se recomienda descargar nuestra VM de [Virtualbox](https://virtualbox.org) la cual puede ser descargada desde https://cloudevel.com/downloads/base/view. Una vez que se ejecute la VM podrá acceder a un servidor de Jupyter totalmente funcional ingresando desde el navegador de su equipo en la dirección ```http://localhost:8999``` con la contraseña ```Jupyter```.\n",
      "\n",
      "ión del repositorio.\n",
      "\n",
      "ar el repositorio en su sitema de archivos local, ejecute desde una terminal:\n",
      "\n",
      "\n",
      " https://github.com/Cloudevel/cd101.git\n",
      "\n"
     ]
    }
   ],
   "source": [
    "cut README.md -c10-"
   ]
  },
  {
   "cell_type": "code",
   "execution_count": 20,
   "metadata": {},
   "outputs": [],
   "source": [
    "echo -e '1|2|3|4|5\\nuno|dos|tres|cuatro|cinco' > ~/separados.txt"
   ]
  },
  {
   "cell_type": "code",
   "execution_count": 21,
   "metadata": {},
   "outputs": [
    {
     "name": "stdout",
     "output_type": "stream",
     "text": [
      "1|2|3|4|5\n",
      "uno|dos|tres|cuatro|cinco\n"
     ]
    }
   ],
   "source": [
    "cat ~/separados.txt"
   ]
  },
  {
   "cell_type": "code",
   "execution_count": 22,
   "metadata": {},
   "outputs": [
    {
     "name": "stdout",
     "output_type": "stream",
     "text": [
      "1\n",
      "uno\n"
     ]
    }
   ],
   "source": [
    "cut ~/separados.txt -d\"|\" -f1"
   ]
  },
  {
   "cell_type": "code",
   "execution_count": 23,
   "metadata": {},
   "outputs": [
    {
     "name": "stdout",
     "output_type": "stream",
     "text": [
      "1|2|3|4|5\n",
      "uno|dos|tres|cuatro|cinco\n"
     ]
    }
   ],
   "source": [
    "cut ~/separados.txt -d\"|\" -f-5"
   ]
  },
  {
   "cell_type": "code",
   "execution_count": 24,
   "metadata": {},
   "outputs": [
    {
     "name": "stdout",
     "output_type": "stream",
     "text": [
      "3|4\n",
      "tres|cuatro\n"
     ]
    }
   ],
   "source": [
    "cut ~/separados.txt -d\"|\" -f3-4"
   ]
  },
  {
   "cell_type": "markdown",
   "metadata": {},
   "source": [
    "#### La manpage de ```cut```."
   ]
  },
  {
   "cell_type": "code",
   "execution_count": 25,
   "metadata": {},
   "outputs": [
    {
     "name": "stdout",
     "output_type": "stream",
     "text": [
      "CUT(1)                           User Commands                          CUT(1)\n",
      "\n",
      "\n",
      "\n",
      "NAME\n",
      "       cut - remove sections from each line of files\n",
      "\n",
      "SYNOPSIS\n",
      "       cut OPTION... [FILE]...\n",
      "\n",
      "DESCRIPTION\n",
      "       Print selected parts of lines from each FILE to standard output.\n",
      "\n",
      "       Mandatory  arguments  to  long  options are mandatory for short options\n",
      "       too.\n",
      "\n",
      "       -b, --bytes=LIST\n",
      "              select only these bytes\n",
      "\n",
      "       -c, --characters=LIST\n",
      "              select only these characters\n",
      "\n",
      "       -d, --delimiter=DELIM\n",
      "              use DELIM instead of TAB for field delimiter\n",
      "\n",
      "       -f, --fields=LIST\n",
      "              select only these fields;  also print any line that contains  no\n",
      "              delimiter character, unless the -s option is specified\n",
      "\n",
      "       -n     with -b: don't split multibyte characters\n",
      "\n",
      "       --complement\n",
      "              complement the set of selected bytes, characters or fields\n",
      "\n",
      "       -s, --only-delimited\n",
      "              do not print lines not containing delimiters\n",
      "\n",
      "       --output-delimiter=STRING\n",
      "              use  STRING  as  the  output delimiter the default is to use the\n",
      "              input delimiter\n",
      "\n",
      "       --help display this help and exit\n",
      "\n",
      "       --version\n",
      "              output version information and exit\n",
      "\n",
      "       Use one, and only one of -b, -c or -f.  Each LIST is  made  up  of  one\n",
      "       range,  or  many ranges separated by commas.  Selected input is written\n",
      "       in the same order that it is read, and is written exactly  once.   Each\n",
      "       range is one of:\n",
      "\n",
      "       N      N'th byte, character or field, counted from 1\n",
      "\n",
      "       N-     from N'th byte, character or field, to end of line\n",
      "\n",
      "       N-M    from N'th to M'th (included) byte, character or field\n",
      "\n",
      "       -M     from first to M'th (included) byte, character or field\n",
      "\n",
      "       With no FILE, or when FILE is -, read standard input.\n",
      "\n",
      "       GNU  coreutils  online  help:  <http://www.gnu.org/software/coreutils/>\n",
      "       Report cut translation bugs to <http://translationproject.org/team/>\n",
      "\n",
      "AUTHOR\n",
      "       Written by David M. Ihnat, David MacKenzie, and Jim Meyering.\n",
      "\n",
      "COPYRIGHT\n",
      "       Copyright © 2013 Free Software Foundation, Inc.   License  GPLv3+:  GNU\n",
      "       GPL version 3 or later <http://gnu.org/licenses/gpl.html>.\n",
      "       This  is  free  software:  you  are free to change and redistribute it.\n",
      "       There is NO WARRANTY, to the extent permitted by law.\n",
      "\n",
      "SEE ALSO\n",
      "       The full documentation for cut is maintained as a Texinfo  manual.   If\n",
      "       the info and cut programs are properly installed at your site, the com‐\n",
      "       mand\n",
      "\n",
      "              info coreutils 'cut invocation'\n",
      "\n",
      "       should give you access to the complete manual.\n",
      "\n",
      "\n",
      "\n",
      "GNU coreutils 8.22                April 2018                            CUT(1)\n"
     ]
    }
   ],
   "source": [
    "man cut"
   ]
  },
  {
   "cell_type": "markdown",
   "metadata": {},
   "source": [
    "### ```paste```."
   ]
  },
  {
   "cell_type": "code",
   "execution_count": 26,
   "metadata": {},
   "outputs": [
    {
     "name": "stdout",
     "output_type": "stream",
     "text": [
      "Hugo\tSota\n",
      "Paco\tCaballo\n",
      "Luis\tRey\n"
     ]
    }
   ],
   "source": [
    "paste ~/patos.txt ~/cartas.txt"
   ]
  },
  {
   "cell_type": "markdown",
   "metadata": {},
   "source": [
    "### ```uniq```."
   ]
  },
  {
   "cell_type": "code",
   "execution_count": 103,
   "metadata": {},
   "outputs": [],
   "source": [
    "echo -e \"no repetida 1\\nno repetida 2\\nrepetida\\nrepetida\\nrepetida\\nno repetida 3\\nrepetida\\nno repetida 4\" > ~/repetidos.txt"
   ]
  },
  {
   "cell_type": "code",
   "execution_count": 104,
   "metadata": {},
   "outputs": [
    {
     "name": "stdout",
     "output_type": "stream",
     "text": [
      "no repetida 1\n",
      "no repetida 2\n",
      "repetida\n",
      "repetida\n",
      "repetida\n",
      "no repetida 3\n",
      "repetida\n",
      "no repetida 4\n"
     ]
    }
   ],
   "source": [
    "cat ~/repetidos.txt"
   ]
  },
  {
   "cell_type": "code",
   "execution_count": 105,
   "metadata": {},
   "outputs": [
    {
     "name": "stdout",
     "output_type": "stream",
     "text": [
      "      1 no repetida 1\n",
      "      1 no repetida 2\n",
      "      3 repetida\n",
      "      1 no repetida 3\n",
      "      1 repetida\n",
      "      1 no repetida 4\n"
     ]
    }
   ],
   "source": [
    "uniq ~/repetidos.txt -c"
   ]
  },
  {
   "cell_type": "code",
   "execution_count": 107,
   "metadata": {},
   "outputs": [
    {
     "name": "stdout",
     "output_type": "stream",
     "text": [
      "      3 repetida\n"
     ]
    }
   ],
   "source": [
    "uniq ~/repetidos.txt -d"
   ]
  },
  {
   "cell_type": "code",
   "execution_count": 109,
   "metadata": {},
   "outputs": [
    {
     "name": "stdout",
     "output_type": "stream",
     "text": [
      "      3 repetida\n"
     ]
    }
   ],
   "source": [
    "uniq ~/repetidos.txt -dc"
   ]
  },
  {
   "cell_type": "code",
   "execution_count": 32,
   "metadata": {},
   "outputs": [
    {
     "name": "stdout",
     "output_type": "stream",
     "text": [
      "UNIQ(1)                          User Commands                         UNIQ(1)\n",
      "\n",
      "\n",
      "\n",
      "NAME\n",
      "       uniq - report or omit repeated lines\n",
      "\n",
      "SYNOPSIS\n",
      "       uniq [OPTION]... [INPUT [OUTPUT]]\n",
      "\n",
      "DESCRIPTION\n",
      "       Filter  adjacent matching lines from INPUT (or standard input), writing\n",
      "       to OUTPUT (or standard output).\n",
      "\n",
      "       With no options, matching lines are merged to the first occurrence.\n",
      "\n",
      "       Mandatory arguments to long options are  mandatory  for  short  options\n",
      "       too.\n",
      "\n",
      "       -c, --count\n",
      "              prefix lines by the number of occurrences\n",
      "\n",
      "       -d, --repeated\n",
      "              only print duplicate lines, one for each group\n",
      "\n",
      "       -D, --all-repeated[=METHOD]\n",
      "              print  all duplicate lines groups can be delimited with an empty\n",
      "              line METHOD={none(default),prepend,separate}\n",
      "\n",
      "       -f, --skip-fields=N\n",
      "              avoid comparing the first N fields\n",
      "\n",
      "       --group[=METHOD]\n",
      "              show  all  items,  separating  groups   with   an   empty   line\n",
      "              METHOD={separate(default),prepend,append,both}\n",
      "\n",
      "       -i, --ignore-case\n",
      "              ignore differences in case when comparing\n",
      "\n",
      "       -s, --skip-chars=N\n",
      "              avoid comparing the first N characters\n",
      "\n",
      "       -u, --unique\n",
      "              only print unique lines\n",
      "\n",
      "       -z, --zero-terminated\n",
      "              end lines with 0 byte, not newline\n",
      "\n",
      "       -w, --check-chars=N\n",
      "              compare no more than N characters in lines\n",
      "\n",
      "       --help display this help and exit\n",
      "\n",
      "       --version\n",
      "              output version information and exit\n",
      "\n",
      "       A field is a run of blanks (usually spaces and/or TABs), then non-blank\n",
      "       characters.  Fields are skipped before chars.\n",
      "\n",
      "       Note: 'uniq' does not detect repeated lines unless they  are  adjacent.\n",
      "       You  may want to sort the input first, or use 'sort -u' without 'uniq'.\n",
      "       Also, comparisons honor the rules specified by 'LC_COLLATE'.\n",
      "\n",
      "       GNU  coreutils  online  help:  <http://www.gnu.org/software/coreutils/>\n",
      "       Report uniq translation bugs to <http://translationproject.org/team/>\n",
      "\n",
      "AUTHOR\n",
      "       Written by Richard M. Stallman and David MacKenzie.\n",
      "\n",
      "COPYRIGHT\n",
      "       Copyright  ©  2013  Free Software Foundation, Inc.  License GPLv3+: GNU\n",
      "       GPL version 3 or later <http://gnu.org/licenses/gpl.html>.\n",
      "       This is free software: you are free  to  change  and  redistribute  it.\n",
      "       There is NO WARRANTY, to the extent permitted by law.\n",
      "\n",
      "SEE ALSO\n",
      "       comm(1), join(1), sort(1)\n",
      "\n",
      "       The  full documentation for uniq is maintained as a Texinfo manual.  If\n",
      "       the info and uniq programs are properly installed  at  your  site,  the\n",
      "       command\n",
      "\n",
      "              info coreutils 'uniq invocation'\n",
      "\n",
      "       should give you access to the complete manual.\n",
      "\n",
      "\n",
      "\n",
      "GNU coreutils 8.22                April 2018                           UNIQ(1)\n"
     ]
    }
   ],
   "source": [
    "man uniq"
   ]
  },
  {
   "cell_type": "markdown",
   "metadata": {},
   "source": [
    "### ```comm```."
   ]
  },
  {
   "cell_type": "code",
   "execution_count": null,
   "metadata": {},
   "outputs": [],
   "source": []
  },
  {
   "cell_type": "markdown",
   "metadata": {},
   "source": [
    "### ```join```."
   ]
  },
  {
   "cell_type": "code",
   "execution_count": null,
   "metadata": {},
   "outputs": [],
   "source": [
    "man join"
   ]
  },
  {
   "cell_type": "markdown",
   "metadata": {},
   "source": [
    "### ```diff```."
   ]
  },
  {
   "cell_type": "code",
   "execution_count": 110,
   "metadata": {},
   "outputs": [
    {
     "name": "stdout",
     "output_type": "stream",
     "text": [
      "DIFF(1)                          User Commands                         DIFF(1)\n",
      "\n",
      "\n",
      "\n",
      "NAME\n",
      "       diff - compare files line by line\n",
      "\n",
      "SYNOPSIS\n",
      "       diff [OPTION]... FILES\n",
      "\n",
      "DESCRIPTION\n",
      "       Compare FILES line by line.\n",
      "\n",
      "       Mandatory  arguments  to  long  options are mandatory for short options\n",
      "       too.\n",
      "\n",
      "       --normal\n",
      "              output a normal diff (the default)\n",
      "\n",
      "       -q, --brief\n",
      "              report only when files differ\n",
      "\n",
      "       -s, --report-identical-files\n",
      "              report when two files are the same\n",
      "\n",
      "       -c, -C NUM, --context[=NUM]\n",
      "              output NUM (default 3) lines of copied context\n",
      "\n",
      "       -u, -U NUM, --unified[=NUM]\n",
      "              output NUM (default 3) lines of unified context\n",
      "\n",
      "       -e, --ed\n",
      "              output an ed script\n",
      "\n",
      "       -n, --rcs\n",
      "              output an RCS format diff\n",
      "\n",
      "       -y, --side-by-side\n",
      "              output in two columns\n",
      "\n",
      "       -W, --width=NUM\n",
      "              output at most NUM (default 130) print columns\n",
      "\n",
      "       --left-column\n",
      "              output only the left column of common lines\n",
      "\n",
      "       --suppress-common-lines\n",
      "              do not output common lines\n",
      "\n",
      "       -p, --show-c-function\n",
      "              show which C function each change is in\n",
      "\n",
      "       -F, --show-function-line=RE\n",
      "              show the most recent line matching RE\n",
      "\n",
      "       --label LABEL\n",
      "              use LABEL instead of file name (can be repeated)\n",
      "\n",
      "       -t, --expand-tabs\n",
      "              expand tabs to spaces in output\n",
      "\n",
      "       -T, --initial-tab\n",
      "              make tabs line up by prepending a tab\n",
      "\n",
      "       --tabsize=NUM\n",
      "              tab stops every NUM (default 8) print columns\n",
      "\n",
      "       --suppress-blank-empty\n",
      "              suppress space or tab before empty output lines\n",
      "\n",
      "       -l, --paginate\n",
      "              pass output through 'pr' to paginate it\n",
      "\n",
      "       -r, --recursive\n",
      "              recursively compare any subdirectories found\n",
      "\n",
      "       --no-dereference\n",
      "              don't follow symbolic links\n",
      "\n",
      "       -N, --new-file\n",
      "              treat absent files as empty\n",
      "\n",
      "       --unidirectional-new-file\n",
      "              treat absent first files as empty\n",
      "\n",
      "       --ignore-file-name-case\n",
      "              ignore case when comparing file names\n",
      "\n",
      "       --no-ignore-file-name-case\n",
      "              consider case when comparing file names\n",
      "\n",
      "       -x, --exclude=PAT\n",
      "              exclude files that match PAT\n",
      "\n",
      "       -X, --exclude-from=FILE\n",
      "              exclude files that match any pattern in FILE\n",
      "\n",
      "       -S, --starting-file=FILE\n",
      "              start with FILE when comparing directories\n",
      "\n",
      "       --from-file=FILE1\n",
      "              compare FILE1 to all operands; FILE1 can be a directory\n",
      "\n",
      "       --to-file=FILE2\n",
      "              compare all operands to FILE2; FILE2 can be a directory\n",
      "\n",
      "       -i, --ignore-case\n",
      "              ignore case differences in file contents\n",
      "\n",
      "       -E, --ignore-tab-expansion\n",
      "              ignore changes due to tab expansion\n",
      "\n",
      "       -Z, --ignore-trailing-space\n",
      "              ignore white space at line end\n",
      "\n",
      "       -b, --ignore-space-change\n",
      "              ignore changes in the amount of white space\n",
      "\n",
      "       -w, --ignore-all-space\n",
      "              ignore all white space\n",
      "\n",
      "       -B, --ignore-blank-lines\n",
      "              ignore changes where lines are all blank\n",
      "\n",
      "       -I, --ignore-matching-lines=RE\n",
      "              ignore changes where all lines match RE\n",
      "\n",
      "       -a, --text\n",
      "              treat all files as text\n",
      "\n",
      "       --strip-trailing-cr\n",
      "              strip trailing carriage return on input\n",
      "\n",
      "       -D, --ifdef=NAME\n",
      "              output merged file with '#ifdef NAME' diffs\n",
      "\n",
      "       --GTYPE-group-format=GFMT\n",
      "              format GTYPE input groups with GFMT\n",
      "\n",
      "       --line-format=LFMT\n",
      "              format all input lines with LFMT\n",
      "\n",
      "       --LTYPE-line-format=LFMT\n",
      "              format LTYPE input lines with LFMT\n",
      "\n",
      "              These format options provide fine-grained control over the  out‐\n",
      "              put\n",
      "\n",
      "              of diff, generalizing -D/--ifdef.\n",
      "\n",
      "       LTYPE is 'old', 'new', or 'unchanged'.\n",
      "              GTYPE is LTYPE or 'changed'.\n",
      "\n",
      "              GFMT (only) may contain:\n",
      "\n",
      "       %<     lines from FILE1\n",
      "\n",
      "       %>     lines from FILE2\n",
      "\n",
      "       %=     lines common to FILE1 and FILE2\n",
      "\n",
      "       %[-][WIDTH][.[PREC]]{doxX}LETTER\n",
      "              printf-style spec for LETTER\n",
      "\n",
      "              LETTERs are as follows for new group, lower case for old group:\n",
      "\n",
      "       F      first line number\n",
      "\n",
      "       L      last line number\n",
      "\n",
      "       N      number of lines = L-F+1\n",
      "\n",
      "       E      F-1\n",
      "\n",
      "       M      L+1\n",
      "\n",
      "       %(A=B?T:E)\n",
      "              if A equals B then T else E\n",
      "\n",
      "              LFMT (only) may contain:\n",
      "\n",
      "       %L     contents of line\n",
      "\n",
      "       %l     contents of line, excluding any trailing newline\n",
      "\n",
      "       %[-][WIDTH][.[PREC]]{doxX}n\n",
      "              printf-style spec for input line number\n",
      "\n",
      "              Both GFMT and LFMT may contain:\n",
      "\n",
      "       %%     %\n",
      "\n",
      "       %c'C'  the single character C\n",
      "\n",
      "       %c'\\OOO'\n",
      "              the character with octal code OOO\n",
      "\n",
      "       C      the character C (other characters represent themselves)\n",
      "\n",
      "       -d, --minimal\n",
      "              try hard to find a smaller set of changes\n",
      "\n",
      "       --horizon-lines=NUM\n",
      "              keep NUM lines of the common prefix and suffix\n",
      "\n",
      "       --speed-large-files\n",
      "              assume large files and many scattered small changes\n",
      "\n",
      "       --help display this help and exit\n",
      "\n",
      "       -v, --version\n",
      "              output version information and exit\n",
      "\n",
      "       FILES  are  'FILE1  FILE2'  or 'DIR1 DIR2' or 'DIR FILE...' or 'FILE...\n",
      "       DIR'.  If --from-file or --to-file is given, there are no  restrictions\n",
      "       on  FILE(s).   If a FILE is '-', read standard input.  Exit status is 0\n",
      "       if inputs are the same, 1 if different, 2 if trouble.\n",
      "\n",
      "AUTHOR\n",
      "       Written by Paul Eggert, Mike Haertel, David  Hayes,  Richard  Stallman,\n",
      "       and Len Tower.\n",
      "\n",
      "REPORTING BUGS\n",
      "       Report bugs to: bug-diffutils@gnu.org\n",
      "       GNU diffutils home page: <http://www.gnu.org/software/diffutils/>\n",
      "       General help using GNU software: <http://www.gnu.org/gethelp/>\n",
      "\n",
      "COPYRIGHT\n",
      "       Copyright  ©  2013  Free Software Foundation, Inc.  License GPLv3+: GNU\n",
      "       GPL version 3 or later <http://gnu.org/licenses/gpl.html>.\n",
      "       This is free software: you are free  to  change  and  redistribute  it.\n",
      "       There is NO WARRANTY, to the extent permitted by law.\n",
      "\n",
      "SEE ALSO\n",
      "       wdiff(1), cmp(1), diff3(1), sdiff(1), patch(1)\n",
      "\n",
      "       The  full documentation for diff is maintained as a Texinfo manual.  If\n",
      "       the info and diff programs are properly installed  at  your  site,  the\n",
      "       command\n",
      "\n",
      "              info diff\n",
      "\n",
      "       should give you access to the complete manual.\n",
      "\n",
      "\n",
      "\n",
      "diffutils 3.3                      June 2014                           DIFF(1)\n"
     ]
    }
   ],
   "source": [
    "man diff"
   ]
  },
  {
   "cell_type": "markdown",
   "metadata": {},
   "source": [
    "### ```patch```."
   ]
  },
  {
   "cell_type": "code",
   "execution_count": null,
   "metadata": {},
   "outputs": [],
   "source": []
  },
  {
   "cell_type": "markdown",
   "metadata": {},
   "source": [
    "### ```tr```."
   ]
  },
  {
   "cell_type": "code",
   "execution_count": null,
   "metadata": {},
   "outputs": [],
   "source": [
    "man tr"
   ]
  },
  {
   "cell_type": "markdown",
   "metadata": {},
   "source": [
    "### ```expand```."
   ]
  },
  {
   "cell_type": "markdown",
   "metadata": {},
   "source": [
    "### ```unexpand```."
   ]
  },
  {
   "cell_type": "markdown",
   "metadata": {},
   "source": [
    "### ```od```."
   ]
  },
  {
   "cell_type": "code",
   "execution_count": null,
   "metadata": {
    "scrolled": false
   },
   "outputs": [],
   "source": [
    "man od"
   ]
  },
  {
   "cell_type": "markdown",
   "metadata": {},
   "source": [
    "### ```pr```."
   ]
  },
  {
   "cell_type": "markdown",
   "metadata": {},
   "source": [
    "## pipe ```|```"
   ]
  },
  {
   "cell_type": "markdown",
   "metadata": {},
   "source": [
    "## ```tee ```"
   ]
  },
  {
   "cell_type": "markdown",
   "metadata": {},
   "source": [
    "<p style=\"text-align: center\"><a rel=\"license\" href=\"http://creativecommons.org/licenses/by/4.0/\"><img alt=\"Licencia Creative Commons\" style=\"border-width:0\" src=\"https://i.creativecommons.org/l/by/4.0/80x15.png\" /></a><br />Esta obra está bajo una <a rel=\"license\" href=\"http://creativecommons.org/licenses/by/4.0/\">Licencia Creative Commons Atribución 4.0 Internacional</a>.</p>\n",
    "<p style=\"text-align: center\">&copy; José Luis Chiquete Valdivieso. 2019.</p>"
   ]
  }
 ],
 "metadata": {
  "kernelspec": {
   "display_name": "Bash",
   "language": "bash",
   "name": "bash"
  },
  "language_info": {
   "codemirror_mode": "shell",
   "file_extension": ".sh",
   "mimetype": "text/x-sh",
   "name": "bash"
  }
 },
 "nbformat": 4,
 "nbformat_minor": 2
}
