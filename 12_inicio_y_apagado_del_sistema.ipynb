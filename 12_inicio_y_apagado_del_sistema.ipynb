{
 "cells": [
  {
   "cell_type": "markdown",
   "metadata": {},
   "source": [
    "[![cloudevel](Imagenes/cloudevel.png)](https://cloudevel.com)"
   ]
  },
  {
   "cell_type": "markdown",
   "metadata": {},
   "source": [
    "El proceso de arranque de un sistema de cómputo puede diferir entre dispositivos, sin embargo los componentes de arranque sdon similares en prácticamente todos los casos."
   ]
  },
  {
   "cell_type": "markdown",
   "metadata": {},
   "source": [
    "## Sistemas de arranque o *bootloaders*.\n",
    "\n",
    "Un sistema de arranque es un programa muy simple, cuya función es la de cargar los componentes mínimos de un sistema operativo durante el proceso de arranque de un equipo de cómputo.\n",
    "\n",
    "* En el caso de los servidores o las PC de escritorio, los sistemas de arranque son ejecutados por el BIOS del equipo.\n",
    "* En el caso de dispositivos con sistemas embebidos, tal como es la Raspberry Pi, el sistema de arranque es ejecutado de inmediato."
   ]
  },
  {
   "cell_type": "markdown",
   "metadata": {},
   "source": [
    "## Selección del sistema de arranque.\n",
    "\n",
    "Los sistemas de arranque generalmente se encuentran en un disco duro del sistema, pero existen ciertas configuraciones en las que es posible cargar un sistema de arranque directamente mendiante la interfaz de red utulizando la especificación [PXE](https://en.wikipedia.org/wiki/Preboot_Execution_Environment)."
   ]
  },
  {
   "cell_type": "markdown",
   "metadata": {},
   "source": [
    "## UEFI.\n",
    "\n",
    "Esta especificación es una iniciativa de Microsoft para los fabricantes de HW para permitir el arranque seguro de los sistemas operativos de una PC. "
   ]
  },
  {
   "cell_type": "markdown",
   "metadata": {},
   "source": [
    "## MBR.\n",
    "\n",
    "El \"Registro Maestro de Arranque\" o *MBR* corresponde al primer sector de un disco, el cual tiene un tamaño de 512 bytes.\n",
    "\n",
    "Por lo general, el BIOS de una computadora consulta al *MBR* para buscar información de arranque del sistema. En caso de no encontrar un gestor de arranque (Bootloader) en el MBR, lo buscará en las particiones.\n",
    "\n",
    "## Particiones * booteables*.\n",
    "\n",
    "Una partición arrancable o *booteable* es un partición de disco en la cual se puede añadir un bootloader. Esta configuración se puede realizar al momento de configurar a la partición."
   ]
  },
  {
   "cell_type": "markdown",
   "metadata": {},
   "source": [
    "## Bootloaders para Linux.\n",
    "\n",
    "* [ISOLINUX](https://wiki.syslinux.org/wiki/index.php?title=ISOLINUX), el cual es un sistema de arraque para CD-ROM.\n",
    "* [U-Boot](https://www.denx.de/wiki/U-Boot), es un  bootloader universal utilizado primordialmente para sistemas embebidos.\n",
    "* [LILO](https://en.wikipedia.org/wiki/LILO_(boot_loader) fue el bootloader más utilizado.\n",
    "* [GRUB](https://www.gnu.org/software/grub/) es el bootloader más uitilizado actualmente."
   ]
  },
  {
   "cell_type": "markdown",
   "metadata": {},
   "source": [
    "## Elementos de arranque.\n",
    "\n",
    "* El disco RAM de inicio (initfsram).\n",
    "* La imagen del kernel.\n",
    "* El sistema de inicio."
   ]
  },
  {
   "cell_type": "code",
   "execution_count": 3,
   "metadata": {
    "scrolled": true
   },
   "outputs": [
    {
     "name": "stdout",
     "output_type": "stream",
     "text": [
      "  PID  PGID   SID TTY          TIME CMD\n",
      "    2     0     0 ?        00:00:00 kthreadd\n",
      "    3     0     0 ?        00:00:00   ksoftirqd/0\n",
      "    5     0     0 ?        00:00:00   kworker/0:0H\n",
      "    6     0     0 ?        00:00:00   kworker/u2:0\n",
      "    7     0     0 ?        00:00:00   migration/0\n",
      "    8     0     0 ?        00:00:00   rcu_bh\n",
      "    9     0     0 ?        00:00:00   rcu_sched\n",
      "   10     0     0 ?        00:00:00   lru-add-drain\n",
      "   11     0     0 ?        00:00:00   watchdog/0\n",
      "   13     0     0 ?        00:00:00   kdevtmpfs\n",
      "   14     0     0 ?        00:00:00   netns\n",
      "   15     0     0 ?        00:00:00   khungtaskd\n",
      "   16     0     0 ?        00:00:00   writeback\n",
      "   17     0     0 ?        00:00:00   kintegrityd\n",
      "   18     0     0 ?        00:00:00   bioset\n",
      "   19     0     0 ?        00:00:00   bioset\n",
      "   20     0     0 ?        00:00:00   bioset\n",
      "   21     0     0 ?        00:00:00   kblockd\n",
      "   22     0     0 ?        00:00:00   md\n",
      "   23     0     0 ?        00:00:00   edac-poller\n",
      "   29     0     0 ?        00:00:00   kswapd0\n",
      "   30     0     0 ?        00:00:00   ksmd\n",
      "   31     0     0 ?        00:00:00   crypto\n",
      "   39     0     0 ?        00:00:00   kthrotld\n",
      "   41     0     0 ?        00:00:00   kmpath_rdacd\n",
      "   42     0     0 ?        00:00:00   kaluad\n",
      "   43     0     0 ?        00:00:00   kpsmoused\n",
      "   44     0     0 ?        00:00:00   ipv6_addrconf\n",
      "   58     0     0 ?        00:00:00   deferwq\n",
      "   89     0     0 ?        00:00:00   kauditd\n",
      "  264     0     0 ?        00:00:00   ata_sff\n",
      "  268     0     0 ?        00:00:00   scsi_eh_0\n",
      "  270     0     0 ?        00:00:00   scsi_tmf_0\n",
      "  272     0     0 ?        00:00:00   scsi_eh_1\n",
      "  273     0     0 ?        00:00:00   scsi_tmf_1\n",
      "  275     0     0 ?        00:00:00   kworker/u2:3\n",
      "  276     0     0 ?        00:00:00   scsi_eh_2\n",
      "  277     0     0 ?        00:00:00   scsi_tmf_2\n",
      "  309     0     0 ?        00:00:00   kworker/0:1H\n",
      "  350     0     0 ?        00:00:00   kdmflush\n",
      "  351     0     0 ?        00:00:00   bioset\n",
      "  361     0     0 ?        00:00:00   kdmflush\n",
      "  362     0     0 ?        00:00:00   bioset\n",
      "  374     0     0 ?        00:00:00   bioset\n",
      "  375     0     0 ?        00:00:00   xfsalloc\n",
      "  376     0     0 ?        00:00:00   xfs_mru_cache\n",
      "  377     0     0 ?        00:00:00   xfs-buf/dm-0\n",
      "  378     0     0 ?        00:00:00   xfs-data/dm-0\n",
      "  379     0     0 ?        00:00:00   xfs-conv/dm-0\n",
      "  380     0     0 ?        00:00:00   xfs-cil/dm-0\n",
      "  381     0     0 ?        00:00:00   xfs-reclaim/dm-\n",
      "  382     0     0 ?        00:00:00   xfs-log/dm-0\n",
      "  383     0     0 ?        00:00:00   xfs-eofblocks/d\n",
      "  384     0     0 ?        00:00:00   xfsaild/dm-0\n",
      "  550     0     0 ?        00:00:00   xfs-buf/sda1\n",
      "  553     0     0 ?        00:00:00   xfs-data/sda1\n",
      "  555     0     0 ?        00:00:00   xfs-conv/sda1\n",
      "  559     0     0 ?        00:00:00   xfs-cil/sda1\n",
      "  560     0     0 ?        00:00:00   xfs-reclaim/sda\n",
      "  562     0     0 ?        00:00:00   xfs-log/sda1\n",
      "  564     0     0 ?        00:00:00   xfs-eofblocks/s\n",
      "  565     0     0 ?        00:00:00   xfsaild/sda1\n",
      " 1952     0     0 ?        00:00:00   kworker/0:3\n",
      " 1980     0     0 ?        00:00:00   kworker/0:0\n",
      " 1989     0     0 ?        00:00:00   kworker/0:1\n",
      "    1     1     1 ?        00:00:01 systemd\n",
      "  452   452   452 ?        00:00:00   systemd-journal\n",
      "  476   476   476 ?        00:00:00   lvmetad\n",
      "  486   486   486 ?        00:00:00   systemd-udevd\n",
      "  589   589   589 ?        00:00:00   auditd\n",
      "  611   611   611 ?        00:00:00   polkitd\n",
      "  613   613   613 ?        00:00:13   jupyter-noteboo\n",
      " 1966  1966  1966 pts/0    00:00:00     bash\n",
      " 2003  2003  2003 ?        00:00:00     python3\n",
      " 2014  2014  2014 pts/1    00:00:00       bash\n",
      " 2041  2041  2014 pts/1    00:00:00         ps\n",
      "  615   615   615 ?        00:00:00   dbus-daemon\n",
      "  619   619   619 ?        00:00:00   systemd-logind\n",
      "  629   629   629 ?        00:00:00   crond\n",
      "  632   632   632 ?        00:00:00   firewalld\n",
      "  636   635   635 ?        00:00:00   chronyd\n",
      "  637   637   637 tty1     00:00:00   agetty\n",
      "  645   645   645 ?        00:00:00   NetworkManager\n",
      "  788   788   645 ?        00:00:00     dhclient\n",
      "  987   987   987 ?        00:00:00   sshd\n",
      "  988   988   988 ?        00:00:01   tuned\n",
      "  990   990   990 ?        00:00:00   httpd\n",
      " 1190   990   990 ?        00:00:00     httpd\n",
      " 1191   990   990 ?        00:00:00     httpd\n",
      " 1192   990   990 ?        00:00:00     httpd\n",
      " 1193   990   990 ?        00:00:00     httpd\n",
      " 1195   990   990 ?        00:00:00     httpd\n",
      "  991   991   991 ?        00:00:00   rsyslogd\n",
      " 1035  1035  1035 ?        00:00:00   mysqld_safe\n",
      " 1306  1035  1035 ?        00:00:03     mysqld\n",
      " 1428  1428  1428 ?        00:00:00   master\n",
      " 1435  1428  1428 ?        00:00:00     qmgr\n",
      " 1880  1428  1428 ?        00:00:00     pickup\n"
     ]
    }
   ],
   "source": [
    "ps -ejH "
   ]
  },
  {
   "cell_type": "markdown",
   "metadata": {},
   "source": [
    "## El directorio */boot*.\n",
    "\n",
    "Este directorio es el que contiene tanto al ejecutable del bootloader como a las imágenes y discos RAM que pueden ejecutarse al iniciar."
   ]
  },
  {
   "cell_type": "code",
   "execution_count": 4,
   "metadata": {},
   "outputs": [
    {
     "name": "stdout",
     "output_type": "stream",
     "text": [
      "config-3.10.0-862.6.3.el7.x86_64\n",
      "efi\n",
      "grub\n",
      "grub2\n",
      "initramfs-0-rescue-7cc6256369a74b0a8f2f6cdf7a9810e0.img\n",
      "initramfs-3.10.0-862.6.3.el7.x86_64.img\n",
      "symvers-3.10.0-862.6.3.el7.x86_64.gz\n",
      "System.map-3.10.0-862.6.3.el7.x86_64\n",
      "vmlinuz-0-rescue-7cc6256369a74b0a8f2f6cdf7a9810e0\n",
      "vmlinuz-3.10.0-862.6.3.el7.x86_64\n"
     ]
    }
   ],
   "source": [
    "ls /boot"
   ]
  },
  {
   "cell_type": "code",
   "execution_count": 5,
   "metadata": {},
   "outputs": [
    {
     "name": "stdout",
     "output_type": "stream",
     "text": [
      "/boot\n",
      "├── config-3.10.0-862.6.3.el7.x86_64\n",
      "├── efi\n",
      "│   └── EFI\n",
      "│       └── centos\n",
      "├── grub\n",
      "│   └── splash.xpm.gz\n",
      "├── grub2 [error opening dir]\n",
      "├── initramfs-0-rescue-7cc6256369a74b0a8f2f6cdf7a9810e0.img\n",
      "├── initramfs-3.10.0-862.6.3.el7.x86_64.img\n",
      "├── symvers-3.10.0-862.6.3.el7.x86_64.gz\n",
      "├── System.map-3.10.0-862.6.3.el7.x86_64\n",
      "├── vmlinuz-0-rescue-7cc6256369a74b0a8f2f6cdf7a9810e0\n",
      "└── vmlinuz-3.10.0-862.6.3.el7.x86_64\n",
      "\n",
      "5 directories, 8 files\n"
     ]
    }
   ],
   "source": [
    "tree /boot"
   ]
  },
  {
   "cell_type": "code",
   "execution_count": 9,
   "metadata": {},
   "outputs": [
    {
     "name": "stdout",
     "output_type": "stream",
     "text": [
      "/etc/grub.d\n",
      "├── 00_header\n",
      "├── 00_tuned\n",
      "├── 01_users\n",
      "├── 10_linux\n",
      "├── 20_linux_xen\n",
      "├── 20_ppc_terminfo\n",
      "├── 30_os-prober\n",
      "├── 40_custom\n",
      "├── 41_custom\n",
      "└── README\n",
      "\n",
      "0 directories, 10 files\n"
     ]
    }
   ],
   "source": [
    "sudo tree /etc/grub.d"
   ]
  },
  {
   "cell_type": "code",
   "execution_count": 11,
   "metadata": {},
   "outputs": [
    {
     "name": "stdout",
     "output_type": "stream",
     "text": [
      "#\n",
      "# DO NOT EDIT THIS FILE\n",
      "#\n",
      "# It is automatically generated by grub2-mkconfig using templates\n",
      "# from /etc/grub.d and settings from /etc/default/grub\n",
      "#\n",
      "\n",
      "### BEGIN /etc/grub.d/00_header ###\n",
      "set pager=1\n",
      "\n",
      "if [ -s $prefix/grubenv ]; then\n",
      "  load_env\n",
      "fi\n",
      "if [ \"${next_entry}\" ] ; then\n",
      "   set default=\"${next_entry}\"\n",
      "   set next_entry=\n",
      "   save_env next_entry\n",
      "   set boot_once=true\n",
      "else\n",
      "   set default=\"${saved_entry}\"\n",
      "fi\n",
      "\n",
      "if [ x\"${feature_menuentry_id}\" = xy ]; then\n",
      "  menuentry_id_option=\"--id\"\n",
      "else\n",
      "  menuentry_id_option=\"\"\n",
      "fi\n",
      "\n",
      "export menuentry_id_option\n",
      "\n",
      "if [ \"${prev_saved_entry}\" ]; then\n",
      "  set saved_entry=\"${prev_saved_entry}\"\n",
      "  save_env saved_entry\n",
      "  set prev_saved_entry=\n",
      "  save_env prev_saved_entry\n",
      "  set boot_once=true\n",
      "fi\n",
      "\n",
      "function savedefault {\n",
      "  if [ -z \"${boot_once}\" ]; then\n",
      "    saved_entry=\"${chosen}\"\n",
      "    save_env saved_entry\n",
      "  fi\n",
      "}\n",
      "\n",
      "function load_video {\n",
      "  if [ x$feature_all_video_module = xy ]; then\n",
      "    insmod all_video\n",
      "  else\n",
      "    insmod efi_gop\n",
      "    insmod efi_uga\n",
      "    insmod ieee1275_fb\n",
      "    insmod vbe\n",
      "    insmod vga\n",
      "    insmod video_bochs\n",
      "    insmod video_cirrus\n",
      "  fi\n",
      "}\n",
      "\n",
      "terminal_output console\n",
      "if [ x$feature_timeout_style = xy ] ; then\n",
      "  set timeout_style=menu\n",
      "  set timeout=5\n",
      "# Fallback normal timeout code in case the timeout_style feature is\n",
      "# unavailable.\n",
      "else\n",
      "  set timeout=5\n",
      "fi\n",
      "### END /etc/grub.d/00_header ###\n",
      "\n",
      "### BEGIN /etc/grub.d/00_tuned ###\n",
      "set tuned_params=\"\"\n",
      "set tuned_initrd=\"\"\n",
      "### END /etc/grub.d/00_tuned ###\n",
      "\n",
      "### BEGIN /etc/grub.d/01_users ###\n",
      "if [ -f ${prefix}/user.cfg ]; then\n",
      "  source ${prefix}/user.cfg\n",
      "  if [ -n \"${GRUB2_PASSWORD}\" ]; then\n",
      "    set superusers=\"root\"\n",
      "    export superusers\n",
      "    password_pbkdf2 root ${GRUB2_PASSWORD}\n",
      "  fi\n",
      "fi\n",
      "### END /etc/grub.d/01_users ###\n",
      "\n",
      "### BEGIN /etc/grub.d/10_linux ###\n",
      "menuentry 'CentOS Linux (3.10.0-862.6.3.el7.x86_64) 7 (Core)' --class centos --class gnu-linux --class gnu --class os --unrestricted $menuentry_id_option 'gnulinux-3.10.0-862.el7.x86_64-advanced-471d7a4e-8fd2-46d0-8ffa-66794a0564cd' {\n",
      "\tload_video\n",
      "\tset gfxpayload=keep\n",
      "\tinsmod gzio\n",
      "\tinsmod part_msdos\n",
      "\tinsmod xfs\n",
      "\tset root='hd0,msdos1'\n",
      "\tif [ x$feature_platform_search_hint = xy ]; then\n",
      "\t  search --no-floppy --fs-uuid --set=root --hint-bios=hd0,msdos1 --hint-efi=hd0,msdos1 --hint-baremetal=ahci0,msdos1 --hint='hd0,msdos1'  e26622fa-ad17-49e3-899a-9c41bb69d429\n",
      "\telse\n",
      "\t  search --no-floppy --fs-uuid --set=root e26622fa-ad17-49e3-899a-9c41bb69d429\n",
      "\tfi\n",
      "\tlinux16 /vmlinuz-3.10.0-862.6.3.el7.x86_64 root=/dev/mapper/centos-root ro crashkernel=auto rd.lvm.lv=centos/root rd.lvm.lv=centos/swap rhgb quiet LANG=es_MX.UTF-8\n",
      "\tinitrd16 /initramfs-3.10.0-862.6.3.el7.x86_64.img\n",
      "}\n",
      "menuentry 'CentOS Linux (0-rescue-7cc6256369a74b0a8f2f6cdf7a9810e0) 7 (Core)' --class centos --class gnu-linux --class gnu --class os --unrestricted $menuentry_id_option 'gnulinux-0-rescue-7cc6256369a74b0a8f2f6cdf7a9810e0-advanced-471d7a4e-8fd2-46d0-8ffa-66794a0564cd' {\n",
      "\tload_video\n",
      "\tinsmod gzio\n",
      "\tinsmod part_msdos\n",
      "\tinsmod xfs\n",
      "\tset root='hd0,msdos1'\n",
      "\tif [ x$feature_platform_search_hint = xy ]; then\n",
      "\t  search --no-floppy --fs-uuid --set=root --hint-bios=hd0,msdos1 --hint-efi=hd0,msdos1 --hint-baremetal=ahci0,msdos1 --hint='hd0,msdos1'  e26622fa-ad17-49e3-899a-9c41bb69d429\n",
      "\telse\n",
      "\t  search --no-floppy --fs-uuid --set=root e26622fa-ad17-49e3-899a-9c41bb69d429\n",
      "\tfi\n",
      "\tlinux16 /vmlinuz-0-rescue-7cc6256369a74b0a8f2f6cdf7a9810e0 root=/dev/mapper/centos-root ro crashkernel=auto rd.lvm.lv=centos/root rd.lvm.lv=centos/swap rhgb quiet\n",
      "\tinitrd16 /initramfs-0-rescue-7cc6256369a74b0a8f2f6cdf7a9810e0.img\n",
      "}\n",
      "\n",
      "### END /etc/grub.d/10_linux ###\n",
      "\n",
      "### BEGIN /etc/grub.d/20_linux_xen ###\n",
      "### END /etc/grub.d/20_linux_xen ###\n",
      "\n",
      "### BEGIN /etc/grub.d/20_ppc_terminfo ###\n",
      "### END /etc/grub.d/20_ppc_terminfo ###\n",
      "\n",
      "### BEGIN /etc/grub.d/30_os-prober ###\n",
      "### END /etc/grub.d/30_os-prober ###\n",
      "\n",
      "### BEGIN /etc/grub.d/40_custom ###\n",
      "# This file provides an easy way to add custom menu entries.  Simply type the\n",
      "# menu entries you want to add after this comment.  Be careful not to change\n",
      "# the 'exec tail' line above.\n",
      "### END /etc/grub.d/40_custom ###\n",
      "\n",
      "### BEGIN /etc/grub.d/41_custom ###\n",
      "if [ -f  ${config_directory}/custom.cfg ]; then\n",
      "  source ${config_directory}/custom.cfg\n",
      "elif [ -z \"${config_directory}\" -a -f  $prefix/custom.cfg ]; then\n",
      "  source $prefix/custom.cfg;\n",
      "fi\n",
      "### END /etc/grub.d/41_custom ###\n"
     ]
    }
   ],
   "source": [
    "sudo cat /etc/grub2.cfg"
   ]
  },
  {
   "cell_type": "markdown",
   "metadata": {},
   "source": [
    "## Sistemas de inicio.\n",
    "\n",
    "El primer proceso (PID=1) es el sistema de inicio. Existen dos sistemas principales.\n",
    "\n",
    "* [System V](https://es.wikipedia.org/wiki/System_V).\n",
    "* [systemd](https://www.freedesktop.org/wiki/Software/systemd/).\n",
    "\n",
    "Los principales fabricantes de sistemas GNU/Linux han optado por systemd."
   ]
  },
  {
   "cell_type": "markdown",
   "metadata": {},
   "source": [
    "## El comando ```dmesg```."
   ]
  },
  {
   "cell_type": "code",
   "execution_count": 14,
   "metadata": {},
   "outputs": [
    {
     "name": "stdout",
     "output_type": "stream",
     "text": [
      "[    0.000000] Initializing cgroup subsys cpuset\n",
      "[    0.000000] Initializing cgroup subsys cpu\n",
      "[    0.000000] Initializing cgroup subsys cpuacct\n",
      "[    0.000000] CPU MTRRs all blank - virtualized system.\n",
      "[    0.000000] ACPI: SSDT 000000001fff02a0 001CC (v01 VBOX   VBOXCPUT 00000002 INTL 20100528)\n",
      "[    0.000000] kvm-clock: cpu 0, msr 0:1ff79001, primary cpu clock\n",
      "[    0.000000] smpboot: Allowing 1 CPUs, 0 hotplug CPUs\n",
      "[    0.000000] setup_percpu: NR_CPUS:5120 nr_cpumask_bits:1 nr_cpu_ids:1 nr_node_ids:1\n",
      "[    0.000000] PERCPU: Embedded 35 pages/cpu @ffff8d811fc00000 s104920 r8192 d30248 u2097152\n",
      "[    0.000000] pcpu-alloc: s104920 r8192 d30248 u2097152 alloc=1*2097152\n",
      "[    0.000000] pcpu-alloc: [0] 0 \n",
      "[    0.000000] SLUB: HWalign=64, Order=0-3, MinObjects=0, CPUs=1, Nodes=1\n",
      "[    0.000000] \tRCU restricting CPUs from NR_CPUS=5120 to nr_cpu_ids=1.\n",
      "[    0.043525] CPU: Physical Processor ID: 0\n",
      "[    0.044620] mce: CPU supports 0 MCE banks\n",
      "[    0.123532] smpboot: CPU0: Intel(R) Core(TM) i7-7820HQ CPU @ 2.90GHz (fam: 06, model: 9e, stepping: 09)\n",
      "[    0.222128] Performance Events: unsupported p6 CPU model 158 no PMU driver, software events only.\n",
      "[    0.223160] Brought up 1 CPUs\n",
      "[    0.626363] cpuidle: using governor menu\n",
      "[    3.028179] cryptd: max_cpu_qlen set to 100\n"
     ]
    }
   ],
   "source": [
    "dmesg | grep -i cpu"
   ]
  },
  {
   "cell_type": "markdown",
   "metadata": {},
   "source": [
    "## Apagado del sistema."
   ]
  },
  {
   "cell_type": "markdown",
   "metadata": {},
   "source": [
    "## Reinicio del sistema."
   ]
  },
  {
   "cell_type": "markdown",
   "metadata": {},
   "source": [
    "<p style=\"text-align: center\"><a rel=\"license\" href=\"http://creativecommons.org/licenses/by/4.0/\"><img alt=\"Licencia Creative Commons\" style=\"border-width:0\" src=\"https://i.creativecommons.org/l/by/4.0/80x15.png\" /></a><br />Esta obra está bajo una <a rel=\"license\" href=\"http://creativecommons.org/licenses/by/4.0/\">Licencia Creative Commons Atribución 4.0 Internacional</a>.</p>\n",
    "<p style=\"text-align: center\">&copy; José Luis Chiquete Valdivieso. 2019.</p>"
   ]
  }
 ],
 "metadata": {
  "kernelspec": {
   "display_name": "Bash",
   "language": "bash",
   "name": "bash"
  },
  "language_info": {
   "codemirror_mode": "shell",
   "file_extension": ".sh",
   "mimetype": "text/x-sh",
   "name": "bash"
  }
 },
 "nbformat": 4,
 "nbformat_minor": 2
}
