{
 "cells": [
  {
   "cell_type": "markdown",
   "metadata": {},
   "source": [
    "[![cloudevel](Imagenes/cloudevel.png)](https://cloudevel.com)"
   ]
  },
  {
   "cell_type": "markdown",
   "metadata": {},
   "source": [
    "Un temporizador (scheduler) en la tradición de UNIX y GNU/Linux es un daemon que ejecuta tareas preestablecidas en intervalos de tiempo definidos.\n",
    "\n",
    "El uso de los temporizadores permite realizar diversas acciones repetitivas sin la necesidad de ser ejecutadas manualmente.\n",
    "\n",
    "Aún cuando existen varios temporizadores para UNIX y GNU/Linux, los más común es ```cron```."
   ]
  },
  {
   "cell_type": "markdown",
   "metadata": {},
   "source": [
    "## El daemon  ```crond```.\n",
    "\n",
    "Los temporizadores están ligados a un daemon el cual se encarga de ejecutar los comandos indicados a la hora definida."
   ]
  },
  {
   "cell_type": "markdown",
   "metadata": {},
   "source": [
    "**Ejemplo:**\n",
    "\n",
    "En el caso de es que esta notebook sea ejecutada desde la máquina virtual proporcionada por Cloudevel<sup>®</sup>, es posible conocer el estado del servicio mediante la siguiente instrucción."
   ]
  },
  {
   "cell_type": "code",
   "execution_count": null,
   "metadata": {},
   "outputs": [],
   "source": [
    "systemctl status crond"
   ]
  },
  {
   "cell_type": "markdown",
   "metadata": {},
   "source": [
    "### Los archivos *crontab*.\n",
    "\n",
    "Las tablas de cron o \"crontabs\" son archivos de texto que contienen una serie de líneas que decriben la ejecución de un comando específico en un tiempo determinado.\n",
    "\n",
    "Cada línea del archivo crontab se apegarse al siguiente formato:\n",
    "\n",
    "```\n",
    "* * * * * comando(s)\n",
    "- - - - -\n",
    "| | | | |\n",
    "| | | | ----- Día de la semana (0 - 7) (Sunday=0 or 7)\n",
    "| | | ------- Mes (1 - 12)\n",
    "| | --------- Día del mes(1 - 31)\n",
    "| ----------- Hora (0 - 23)\n",
    "------------- Minutos (0 - 59)\n",
    "```\n",
    "\n",
    "Cuando se utiliza el asterisco * , se está haciendo la indicación de que el comando aplica a todas las opciones de tiempo correspondientes."
   ]
  },
  {
   "cell_type": "markdown",
   "metadata": {},
   "source": [
    "**Ejemplo:**\n",
    "\n",
    "La siguiente línea:\n",
    "\n",
    "```\n",
    "30   3    *    *    1 yum update  \n",
    "```\n",
    "\n",
    "Indica que se ejecutará el comando ```yum update``` cada lunes a las 3:30 horas."
   ]
  },
  {
   "cell_type": "markdown",
   "metadata": {},
   "source": [
    "### El comando ```crontab```.\n",
    "\n",
    "No se recomienda editar los archivos *crontab* directamente. El comando ```crontab``` permite manipular un  archivo de este tipo para el usuario actual en caso de que cuente con los permisos para realizar estas operaciones.\n",
    "\n",
    "```\n",
    "crontab <opciones> <argumentos>\n",
    "```\n",
    "Las principales opciones de este comando son:\n",
    "\n",
    "* ```-e``` permite editar un archivo crontab para el usuario actual. En caso de que no exista, se creará un archivo temporal.\n",
    "* ```-l``` enlista el contendo del archivo crontab del usuario.\n",
    "* ```-r``` elimina el archivo crontab."
   ]
  },
  {
   "cell_type": "markdown",
   "metadata": {},
   "source": [
    "**Ejemplos:**"
   ]
  },
  {
   "cell_type": "markdown",
   "metadata": {},
   "source": [
    "* La siguiente celda desplegará el contenido del archivo *crontab* del usuario actual.\n",
    "\n",
    "Si no existe un archivo para el usuario, este no desplegará nada."
   ]
  },
  {
   "cell_type": "code",
   "execution_count": null,
   "metadata": {},
   "outputs": [],
   "source": [
    "crontab -l"
   ]
  },
  {
   "cell_type": "markdown",
   "metadata": {},
   "source": [
    "* Ejecute el comando ````crontab -e``` desde una terminal y añada la siguiente línea: \n",
    "\n",
    "```25 16 * * * echo \"Saludos\" > ~/saludos.txt```\n",
    "\n",
    "Lo anterior hará que el texto *Saludos\" sea añadido al archivo *~/saludos.txt* a las 14:25 horas diariamente."
   ]
  },
  {
   "cell_type": "code",
   "execution_count": null,
   "metadata": {},
   "outputs": [],
   "source": [
    "crontab -l"
   ]
  },
  {
   "cell_type": "code",
   "execution_count": null,
   "metadata": {},
   "outputs": [],
   "source": [
    "crontab -r"
   ]
  },
  {
   "cell_type": "code",
   "execution_count": null,
   "metadata": {},
   "outputs": [],
   "source": [
    "crontab -l"
   ]
  },
  {
   "cell_type": "markdown",
   "metadata": {},
   "source": [
    "## Archivos y directorios relevantes de ```crond```.\n",
    "\n",
    "El daemon ```crond``` cuenta con algunos archivos que pueden ser utilizados por *root*.\n",
    "\n",
    "### Archivos de permisos.\n",
    "\n",
    "Los suguientes archivos delimitan a los usuarios que pueden o no utilizar crear *crontabs*.\n",
    "\n",
    "* */etc/cron.allow* contiene una lista de los usuarios autorizados.\n",
    "* *etc/cron.deny* contiene una lista de los usuarios autorizados.\n",
    "\n",
    "\n",
    "### Archivos de administración.\n",
    "\n",
    "Estos archivos contienen una serie de comandos que pueden ser ejecutados en un momento específico.\n",
    "\n",
    "* */etc/cron.hourly* se ejecutarán en el primer segundo del primer minuto de cada hora.\n",
    "* */etc/cron.daily* se jejecutarán en el primer segundo de un día, diarimante.\n",
    "* */etc/cron.monthly* se ejecutarán en el primer segundo del primer día del mes, mensualmente.\n",
    "\n",
    "### Bitácoras de cron.\n",
    "\n",
    "El archivo *var/log/cron* contiene la bitácora de todas las acciones del ```crond```."
   ]
  },
  {
   "cell_type": "code",
   "execution_count": null,
   "metadata": {},
   "outputs": [],
   "source": [
    "sudo cat /var/log/cron "
   ]
  },
  {
   "cell_type": "markdown",
   "metadata": {
    "collapsed": true
   },
   "source": [
    "<p style=\"text-align: center\"><a rel=\"license\" href=\"http://creativecommons.org/licenses/by/4.0/\"><img alt=\"Licencia Creative Commons\" style=\"border-width:0\" src=\"https://i.creativecommons.org/l/by/4.0/80x15.png\" /></a><br />Esta obra está bajo una <a rel=\"license\" href=\"http://creativecommons.org/licenses/by/4.0/\">Licencia Creative Commons Atribución 4.0 Internacional</a>.</p>\n",
    "<p style=\"text-align: center\">&copy; José Luis Chiquete Valdivieso. 2019.</p>"
   ]
  }
 ],
 "metadata": {
  "kernelspec": {
   "display_name": "Bash",
   "language": "bash",
   "name": "bash"
  },
  "language_info": {
   "codemirror_mode": "shell",
   "file_extension": ".sh",
   "mimetype": "text/x-sh",
   "name": "bash"
  }
 },
 "nbformat": 4,
 "nbformat_minor": 2
}
