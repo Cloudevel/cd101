{
 "cells": [
  {
   "cell_type": "markdown",
   "metadata": {},
   "source": [
    "[![cloudevel](Imagenes/cloudevel.png)](https://cloudevel.com)"
   ]
  },
  {
   "cell_type": "markdown",
   "metadata": {},
   "source": [
    "Un temporizador (scheduler) en la tradición de UNIX y GNU/Linux es un daemon que ejecuta tareas preestablecidas en intervalos de tiempo definidos.\n",
    "\n",
    "El uso de los temporizadores permite realizar diversas acciones repetitivas sin la necesidad de ser ejecutadas manualmente.\n",
    "\n",
    "Aún cuando existen varios temporizadores para UNIX y GNU/Linux, los más común es ```cron```."
   ]
  },
  {
   "cell_type": "markdown",
   "metadata": {},
   "source": [
    "## El daemon  ```crond```.\n",
    "\n",
    "Los temporizadores están ligados a un daemon el cual se encarga de ejecutar los comandos indicados a la hora definida."
   ]
  },
  {
   "cell_type": "markdown",
   "metadata": {},
   "source": [
    "**Ejemplo:**\n",
    "\n",
    "En el caso de es que esta notebook sea ejecutada desde la máquina virtual proporcionada por Cloudevel<sup>®</sup>, es posible conocer el estado del servicio mediante la siguiente instrucción."
   ]
  },
  {
   "cell_type": "code",
   "execution_count": 1,
   "metadata": {},
   "outputs": [
    {
     "name": "stdout",
     "output_type": "stream",
     "text": [
      "\u001b[1;32m●\u001b[0m crond.service - Command Scheduler\n",
      "   Loaded: loaded (/usr/lib/systemd/system/crond.service; enabled; vendor preset: enabled)\n",
      "   Active: \u001b[1;32mactive (running)\u001b[0m since lun 2019-04-01 14:08:15 PDT; 2h 11min ago\n",
      " Main PID: 2596 (crond)\n",
      "   CGroup: /system.slice/crond.service\n",
      "           └─2596 /usr/sbin/crond -n\n",
      "\n",
      "abr 01 14:36:01 cloudevel.localdomain crond[2596]: (crontabs) ORPHAN (no pass...\n",
      "abr 01 14:36:01 cloudevel.localdomain crond[2596]: (oi) RELOAD (/var/spool/cr...\n",
      "abr 01 14:37:01 cloudevel.localdomain crond[2596]: (crontabs) ORPHAN (no pass...\n",
      "abr 01 14:37:01 cloudevel.localdomain crond[2596]: (oi) RELOAD (/var/spool/cr...\n",
      "abr 01 14:43:01 cloudevel.localdomain crond[2596]: (crontabs) ORPHAN (no pass...\n",
      "abr 01 14:43:01 cloudevel.localdomain crond[2596]: (oi) RELOAD (/var/spool/cr...\n",
      "abr 01 15:01:01 cloudevel.localdomain crond[2596]: (crontabs) ORPHAN (no pass...\n",
      "abr 01 15:01:01 cloudevel.localdomain crond[2596]: (oi) RELOAD (/var/spool/cr...\n",
      "abr 01 15:12:01 cloudevel.localdomain crond[2596]: (crontabs) ORPHAN (no pass...\n",
      "abr 01 15:13:01 cloudevel.localdomain crond[2596]: (crontabs) ORPHAN (no pass...\n",
      "Hint: Some lines were ellipsized, use -l to show in full.\n"
     ]
    }
   ],
   "source": [
    "systemctl status crond"
   ]
  },
  {
   "cell_type": "markdown",
   "metadata": {},
   "source": [
    "### Los archivos *crontab*.\n",
    "\n",
    "Las tablas de cron o \"crontabs\" son archivos de texto que contienen una serie de líneas que decriben la ejecución de un comando específico en un tiempo determinado.\n",
    "\n",
    "Cada línea del archivo crontab se apegarse al siguiente formato:\n",
    "\n",
    "```\n",
    "* * * * * comando(s)\n",
    "- - - - -\n",
    "| | | | |\n",
    "| | | | ----- Día de la semana (0 - 7) (Sunday=0 or 7)\n",
    "| | | ------- Mes (1 - 12)\n",
    "| | --------- Día del mes(1 - 31)\n",
    "| ----------- Hora (0 - 23)\n",
    "------------- Minutos (0 - 59)\n",
    "```\n",
    "\n",
    "Cuando se utiliza el asterisco * , se está haciendo la indicación de que el comando aplica a todas las opciones de tiempo correspondientes.\n",
    "\n",
    "Los archivos *crontab* se localizan en el directorio */var/spool/cron/*"
   ]
  },
  {
   "cell_type": "code",
   "execution_count": 15,
   "metadata": {},
   "outputs": [
    {
     "name": "stdout",
     "output_type": "stream",
     "text": [
      "crontabs\n"
     ]
    }
   ],
   "source": [
    "sudo ls /var/spool/cron"
   ]
  },
  {
   "cell_type": "markdown",
   "metadata": {},
   "source": [
    "**Ejemplo:**\n",
    "\n",
    "La siguiente línea:\n",
    "\n",
    "```\n",
    "30   3    *    *    1 yum update  \n",
    "```\n",
    "\n",
    "Indica que se ejecutará el comando ```yum update``` cada lunes a las 3:30 horas."
   ]
  },
  {
   "cell_type": "markdown",
   "metadata": {},
   "source": [
    "### El comando ```crontab```.\n",
    "\n",
    "No se recomienda editar los archivos *crontab* directamente. El comando ```crontab``` permite manipular un  archivo de este tipo para el usuario actual en caso de que cuente con los permisos para realizar estas operaciones.\n",
    "\n",
    "```\n",
    "crontab <opciones> <argumentos>\n",
    "```\n",
    "Las principales opciones de este comando son:\n",
    "\n",
    "* ```-e``` permite editar un archivo crontab para el usuario actual. En caso de que no exista, se creará un archivo temporal.\n",
    "* ```-l``` enlista el contendo del archivo crontab del usuario.\n",
    "* ```-r``` elimina el archivo crontab."
   ]
  },
  {
   "cell_type": "markdown",
   "metadata": {},
   "source": [
    "**Ejemplos:**"
   ]
  },
  {
   "cell_type": "markdown",
   "metadata": {},
   "source": [
    "* La siguiente celda desplegará el contenido del archivo *crontab* del usuario actual.\n",
    "\n",
    "Si no existe un archivo para el usuario, este no desplegará nada."
   ]
  },
  {
   "cell_type": "code",
   "execution_count": 2,
   "metadata": {},
   "outputs": [
    {
     "name": "stdout",
     "output_type": "stream",
     "text": [
      "no crontab for oi\n"
     ]
    },
    {
     "ename": "",
     "evalue": "1",
     "output_type": "error",
     "traceback": []
    }
   ],
   "source": [
    "crontab -l"
   ]
  },
  {
   "cell_type": "markdown",
   "metadata": {},
   "source": [
    "* Ejecute el comando ```crontab -e``` desde una terminal y añada la siguiente línea: \n",
    "\n",
    "```25 16 * * * echo \"Saludos\" >> ~/saludos.txt```\n",
    "\n",
    "Lo anterior hará que el texto *Saludos\" sea añadido al archivo *~/saludos.txt* a las 14:25 horas diariamente."
   ]
  },
  {
   "cell_type": "code",
   "execution_count": 8,
   "metadata": {},
   "outputs": [
    {
     "name": "stdout",
     "output_type": "stream",
     "text": [
      "27 16 * * * echo \"Saludos\" >> ~/saludos.txt\n"
     ]
    }
   ],
   "source": [
    "crontab -l"
   ]
  },
  {
   "cell_type": "code",
   "execution_count": 6,
   "metadata": {},
   "outputs": [
    {
     "name": "stdout",
     "output_type": "stream",
     "text": [
      "/home/oi/saludos.txt\n"
     ]
    }
   ],
   "source": [
    "ls ~/saludos.txt"
   ]
  },
  {
   "cell_type": "code",
   "execution_count": 7,
   "metadata": {
    "scrolled": true
   },
   "outputs": [
    {
     "name": "stdout",
     "output_type": "stream",
     "text": [
      "Saludos\n"
     ]
    }
   ],
   "source": [
    "cat ~/saludos.txt"
   ]
  },
  {
   "cell_type": "markdown",
   "metadata": {},
   "source": [
    "* La siguiente celda elimininará el crontab del usuario actual. "
   ]
  },
  {
   "cell_type": "code",
   "execution_count": 9,
   "metadata": {},
   "outputs": [],
   "source": [
    "crontab -r"
   ]
  },
  {
   "cell_type": "code",
   "execution_count": 10,
   "metadata": {},
   "outputs": [
    {
     "name": "stdout",
     "output_type": "stream",
     "text": [
      "no crontab for oi\n"
     ]
    },
    {
     "ename": "",
     "evalue": "1",
     "output_type": "error",
     "traceback": []
    }
   ],
   "source": [
    "crontab -l"
   ]
  },
  {
   "cell_type": "markdown",
   "metadata": {},
   "source": [
    "## Archivos y directorios relevantes de ```crond```.\n",
    "\n",
    "El daemon ```crond``` cuenta con algunos archivos que pueden ser utilizados por *root*.\n",
    "\n",
    "### Archivos de permisos.\n",
    "\n",
    "Los suguientes archivos delimitan a los usuarios que pueden o no utilizar crear *crontabs*.\n",
    "\n",
    "* */etc/cron.allow* contiene una lista de los usuarios autorizados.\n",
    "* */etc/cron.deny* contiene una lista de los usuarios autorizados."
   ]
  },
  {
   "cell_type": "code",
   "execution_count": 12,
   "metadata": {},
   "outputs": [
    {
     "name": "stdout",
     "output_type": "stream",
     "text": [
      "ls: no se puede acceder a /etc/cron.allow: No existe el fichero o el directorio\n"
     ]
    },
    {
     "ename": "",
     "evalue": "2",
     "output_type": "error",
     "traceback": []
    }
   ],
   "source": [
    "sudo ls /etc/cron.allow"
   ]
  },
  {
   "cell_type": "markdown",
   "metadata": {},
   "source": [
    "### Archivos de administración.\n",
    "\n",
    "Estos archivos contienen una serie de comandos que pueden ser ejecutados en un momento específico.\n",
    "\n",
    "* */etc/cron.hourly* se ejecutarán en el primer segundo del primer minuto de cada hora.\n",
    "* */etc/cron.daily* se jejecutarán en el primer segundo de un día, diarimante.\n",
    "* */etc/cron.monthly* se ejecutarán en el primer segundo del primer día del mes, mensualmente."
   ]
  },
  {
   "cell_type": "code",
   "execution_count": 13,
   "metadata": {},
   "outputs": [
    {
     "name": "stdout",
     "output_type": "stream",
     "text": [
      "/etc/cron.deny\n",
      "\n",
      "/etc/cron.d:\n",
      "0hourly\n",
      "\n",
      "/etc/cron.daily:\n",
      "logrotate  man-db.cron\n",
      "\n",
      "/etc/cron.hourly:\n",
      "0anacron\n",
      "\n",
      "/etc/cron.monthly:\n",
      "\n",
      "/etc/cron.weekly:\n"
     ]
    }
   ],
   "source": [
    "ls /etc/cron.*"
   ]
  },
  {
   "cell_type": "markdown",
   "metadata": {},
   "source": [
    "### Bitácoras de cron.\n",
    "\n",
    "El archivo *var/log/cron* contiene la bitácora de todas las acciones del ```crond```."
   ]
  },
  {
   "cell_type": "code",
   "execution_count": 14,
   "metadata": {},
   "outputs": [
    {
     "name": "stdout",
     "output_type": "stream",
     "text": [
      "Mar 26 16:16:02 cloudevel run-parts(/etc/cron.daily)[3931]: finished logrotate\n",
      "Mar 26 16:16:02 cloudevel run-parts(/etc/cron.daily)[3916]: starting man-db.cron\n",
      "Mar 26 16:16:04 cloudevel run-parts(/etc/cron.daily)[4993]: finished man-db.cron\n",
      "Mar 26 16:16:04 cloudevel anacron[3864]: Job `cron.daily' terminated\n",
      "Mar 26 16:36:01 cloudevel anacron[3864]: Job `cron.weekly' started\n",
      "Mar 26 16:36:01 cloudevel anacron[3864]: Job `cron.weekly' terminated\n",
      "Mar 26 16:36:01 cloudevel anacron[3864]: Normal exit (2 jobs run)\n",
      "Mar 26 17:01:01 cloudevel CROND[5788]: (root) CMD (run-parts /etc/cron.hourly)\n",
      "Mar 26 17:01:01 cloudevel run-parts(/etc/cron.hourly)[5788]: starting 0anacron\n",
      "Mar 26 17:01:01 cloudevel run-parts(/etc/cron.hourly)[5797]: finished 0anacron\n",
      "Mar 26 18:01:02 cloudevel CROND[6222]: (root) CMD (run-parts /etc/cron.hourly)\n",
      "Mar 26 18:01:02 cloudevel run-parts(/etc/cron.hourly)[6222]: starting 0anacron\n",
      "Mar 26 18:01:02 cloudevel run-parts(/etc/cron.hourly)[6231]: finished 0anacron\n",
      "Apr  1 14:08:15 cloudevel crond[2596]: (CRON) INFO (RANDOM_DELAY will be scaled with factor 2% if used.)\n",
      "Apr  1 14:08:16 cloudevel crond[2596]: (CRON) INFO (running with inotify support)\n",
      "Apr  1 14:20:26 cloudevel crontab[3764]: (oi) LIST (oi)\n",
      "Apr  1 14:20:33 cloudevel crontab[3768]: (root) LIST (root)\n",
      "Apr  1 14:29:39 cloudevel crontab[3828]: (root) REPLACE (oi)\n",
      "Apr  1 14:30:01 cloudevel crond[2596]: (crontabs) ORPHAN (no passwd entry)\n",
      "Apr  1 14:31:23 cloudevel crontab[3837]: (oi) BEGIN EDIT (oi)\n",
      "Apr  1 14:31:37 cloudevel crontab[3840]: (oi) BEGIN EDIT (oi)\n",
      "Apr  1 14:33:55 cloudevel crontab[3840]: (oi) REPLACE (oi)\n",
      "Apr  1 14:33:55 cloudevel crontab[3840]: (oi) END EDIT (oi)\n",
      "Apr  1 14:34:01 cloudevel crontab[3843]: (oi) LIST (oi)\n",
      "Apr  1 14:34:01 cloudevel crond[2596]: (crontabs) ORPHAN (no passwd entry)\n",
      "Apr  1 14:34:01 cloudevel crond[2596]: (oi) RELOAD (/var/spool/cron/oi)\n",
      "Apr  1 14:34:30 cloudevel crontab[3845]: (oi) BEGIN EDIT (oi)\n",
      "Apr  1 14:34:52 cloudevel crontab[3845]: (oi) END EDIT (oi)\n",
      "Apr  1 14:35:29 cloudevel crontab[3850]: (oi) BEGIN EDIT (oi)\n",
      "Apr  1 14:36:00 cloudevel crontab[3850]: (oi) REPLACE (oi)\n",
      "Apr  1 14:36:00 cloudevel crontab[3850]: (oi) END EDIT (oi)\n",
      "Apr  1 14:36:01 cloudevel crond[2596]: (crontabs) ORPHAN (no passwd entry)\n",
      "Apr  1 14:36:01 cloudevel crond[2596]: (oi) RELOAD (/var/spool/cron/oi)\n",
      "Apr  1 14:36:19 cloudevel crontab[3854]: (oi) LIST (oi)\n",
      "Apr  1 14:36:38 cloudevel crontab[3858]: (oi) BEGIN EDIT (oi)\n",
      "Apr  1 14:36:45 cloudevel crontab[3858]: (oi) REPLACE (oi)\n",
      "Apr  1 14:36:45 cloudevel crontab[3858]: (oi) END EDIT (oi)\n",
      "Apr  1 14:36:51 cloudevel crontab[3861]: (oi) LIST (oi)\n",
      "Apr  1 14:37:01 cloudevel crond[2596]: (crontabs) ORPHAN (no passwd entry)\n",
      "Apr  1 14:37:01 cloudevel crond[2596]: (oi) RELOAD (/var/spool/cron/oi)\n",
      "Apr  1 14:37:01 cloudevel CROND[3866]: (oi) CMD (echo \"Hola\" >> ~/saludo.txt )\n",
      "Apr  1 14:41:41 cloudevel crontab[3886]: (root) LIST (root)\n",
      "Apr  1 14:41:44 cloudevel crontab[3891]: (root) BEGIN EDIT (root)\n",
      "Apr  1 14:41:56 cloudevel crontab[3891]: (root) END EDIT (root)\n",
      "Apr  1 14:42:38 cloudevel crontab[3912]: (root) REPLACE (oi)\n",
      "Apr  1 14:43:01 cloudevel crond[2596]: (crontabs) ORPHAN (no passwd entry)\n",
      "Apr  1 14:43:01 cloudevel crond[2596]: (oi) RELOAD (/var/spool/cron/oi)\n",
      "Apr  1 14:43:10 cloudevel crontab[3920]: (oi) LIST (oi)\n",
      "Apr  1 14:43:14 cloudevel crontab[3922]: (oi) BEGIN EDIT (oi)\n",
      "Apr  1 14:43:21 cloudevel crontab[3922]: (oi) END EDIT (oi)\n",
      "Apr  1 14:46:40 cloudevel crontab[3954]: (oi) LIST (oi)\n",
      "Apr  1 14:46:45 cloudevel crontab[3956]: (oi) BEGIN EDIT (oi)\n",
      "Apr  1 15:00:30 cloudevel crontab[3956]: (oi) REPLACE (oi)\n",
      "Apr  1 15:00:30 cloudevel crontab[3956]: (oi) END EDIT (oi)\n",
      "Apr  1 15:00:45 cloudevel crontab[3963]: (oi) BEGIN EDIT (oi)\n",
      "Apr  1 15:00:54 cloudevel crontab[3963]: (oi) REPLACE (oi)\n",
      "Apr  1 15:00:54 cloudevel crontab[3963]: (oi) END EDIT (oi)\n",
      "Apr  1 15:01:01 cloudevel crond[2596]: (crontabs) ORPHAN (no passwd entry)\n",
      "Apr  1 15:01:01 cloudevel crond[2596]: (oi) RELOAD (/var/spool/cron/oi)\n",
      "Apr  1 15:01:02 cloudevel CROND[3970]: (oi) CMD (echo Hola)\n",
      "Apr  1 15:01:02 cloudevel CROND[3972]: (root) CMD (run-parts /etc/cron.hourly)\n",
      "Apr  1 15:01:02 cloudevel run-parts(/etc/cron.hourly)[3972]: starting 0anacron\n",
      "Apr  1 15:01:02 cloudevel anacron[3983]: Anacron started on 2019-04-01\n",
      "Apr  1 15:01:02 cloudevel run-parts(/etc/cron.hourly)[3986]: finished 0anacron\n",
      "Apr  1 15:01:02 cloudevel anacron[3983]: Will run job `cron.daily' in 19 min.\n",
      "Apr  1 15:01:02 cloudevel anacron[3983]: Jobs will be executed sequentially\n",
      "Apr  1 15:01:13 cloudevel crontab[3989]: (oi) LIST (oi)\n",
      "Apr  1 15:06:17 cloudevel crontab[4028]: (oi) LIST (oi)\n",
      "Apr  1 15:10:27 cloudevel crontab[4031]: (oi) LIST (oi)\n",
      "Apr  1 15:10:35 cloudevel crontab[4034]: (oi) BEGIN EDIT (oi)\n",
      "Apr  1 15:11:02 cloudevel crontab[4073]: (oi) BEGIN EDIT (oi)\n",
      "Apr  1 15:11:07 cloudevel crontab[4073]: (oi) END EDIT (oi)\n",
      "Apr  1 15:12:01 cloudevel crond[2596]: (crontabs) ORPHAN (no passwd entry)\n",
      "Apr  1 15:12:08 cloudevel crontab[4097]: (oi) LIST (oi)\n",
      "Apr  1 15:12:10 cloudevel crontab[4099]: (oi) DELETE (oi)\n",
      "Apr  1 15:12:26 cloudevel crontab[4101]: (oi) LIST (oi)\n",
      "Apr  1 15:13:01 cloudevel crond[2596]: (crontabs) ORPHAN (no passwd entry)\n",
      "Apr  1 15:20:02 cloudevel anacron[3983]: Job `cron.daily' started\n",
      "Apr  1 15:20:02 cloudevel run-parts(/etc/cron.daily)[4109]: starting logrotate\n",
      "Apr  1 15:20:02 cloudevel run-parts(/etc/cron.daily)[4117]: finished logrotate\n",
      "Apr  1 15:20:02 cloudevel run-parts(/etc/cron.daily)[4109]: starting man-db.cron\n",
      "Apr  1 15:20:03 cloudevel run-parts(/etc/cron.daily)[4210]: finished man-db.cron\n",
      "Apr  1 15:20:03 cloudevel anacron[3983]: Job `cron.daily' terminated\n",
      "Apr  1 15:20:03 cloudevel anacron[3983]: Normal exit (1 job run)\n",
      "Apr  1 16:01:01 cloudevel CROND[4303]: (root) CMD (run-parts /etc/cron.hourly)\n",
      "Apr  1 16:01:01 cloudevel run-parts(/etc/cron.hourly)[4303]: starting 0anacron\n",
      "Apr  1 16:01:01 cloudevel run-parts(/etc/cron.hourly)[4312]: finished 0anacron\n",
      "Apr  1 16:23:36 cloudevel crontab[4487]: (oi) LIST (oi)\n",
      "Apr  1 16:24:26 cloudevel crontab[4490]: (oi) BEGIN EDIT (oi)\n",
      "Apr  1 16:26:02 cloudevel crontab[4490]: (oi) REPLACE (oi)\n",
      "Apr  1 16:26:02 cloudevel crontab[4490]: (oi) END EDIT (oi)\n",
      "Apr  1 16:26:11 cloudevel crontab[4493]: (oi) LIST (oi)\n",
      "Apr  1 16:27:01 cloudevel crond[2596]: (crontabs) ORPHAN (no passwd entry)\n",
      "Apr  1 16:27:01 cloudevel CROND[4499]: (oi) CMD (echo \"Saludos\" >> ~/saludos.txt)\n",
      "Apr  1 16:28:31 cloudevel crontab[4505]: (oi) LIST (oi)\n",
      "Apr  1 16:28:34 cloudevel crontab[4507]: (oi) DELETE (oi)\n",
      "Apr  1 16:28:37 cloudevel crontab[4509]: (oi) LIST (oi)\n",
      "Apr  1 16:28:55 cloudevel crontab[4512]: (oi) BEGIN EDIT (oi)\n",
      "Apr  1 16:29:01 cloudevel crond[2596]: (crontabs) ORPHAN (no passwd entry)\n"
     ]
    }
   ],
   "source": [
    "sudo cat /var/log/cron "
   ]
  },
  {
   "cell_type": "code",
   "execution_count": 16,
   "metadata": {},
   "outputs": [
    {
     "name": "stdout",
     "output_type": "stream",
     "text": [
      "SHELL=/bin/bash\n",
      "PATH=/sbin:/bin:/usr/sbin:/usr/bin\n",
      "MAILTO=root\n",
      "\n",
      "# For details see man 4 crontabs\n",
      "\n",
      "# Example of job definition:\n",
      "# .---------------- minute (0 - 59)\n",
      "# |  .------------- hour (0 - 23)\n",
      "# |  |  .---------- day of month (1 - 31)\n",
      "# |  |  |  .------- month (1 - 12) OR jan,feb,mar,apr ...\n",
      "# |  |  |  |  .---- day of week (0 - 6) (Sunday=0 or 7) OR sun,mon,tue,wed,thu,fri,sat\n",
      "# |  |  |  |  |\n",
      "# *  *  *  *  * user-name  command to be executed\n",
      "\n"
     ]
    }
   ],
   "source": [
    "cat /etc/crontab"
   ]
  },
  {
   "cell_type": "markdown",
   "metadata": {
    "collapsed": true
   },
   "source": [
    "<p style=\"text-align: center\"><a rel=\"license\" href=\"http://creativecommons.org/licenses/by/4.0/\"><img alt=\"Licencia Creative Commons\" style=\"border-width:0\" src=\"https://i.creativecommons.org/l/by/4.0/80x15.png\" /></a><br />Esta obra está bajo una <a rel=\"license\" href=\"http://creativecommons.org/licenses/by/4.0/\">Licencia Creative Commons Atribución 4.0 Internacional</a>.</p>\n",
    "<p style=\"text-align: center\">&copy; José Luis Chiquete Valdivieso. 2019.</p>"
   ]
  }
 ],
 "metadata": {
  "kernelspec": {
   "display_name": "Bash",
   "language": "bash",
   "name": "bash"
  },
  "language_info": {
   "codemirror_mode": "shell",
   "file_extension": ".sh",
   "mimetype": "text/x-sh",
   "name": "bash"
  }
 },
 "nbformat": 4,
 "nbformat_minor": 2
}
