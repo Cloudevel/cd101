{
 "cells": [
  {
   "cell_type": "markdown",
   "metadata": {},
   "source": [
    "[![cloudevel](Imagenes/cloudevel.png)](https://cloudevel.com)"
   ]
  },
  {
   "cell_type": "markdown",
   "metadata": {},
   "source": [
    "## El comando ```find```.\n",
    "\n",
    "Este comando permite realizar diversos tipos de búsquedas a partir de un directorio por medio de una expresión.\n",
    "\n",
    "```\n",
    "find <directorio inicial> <expresión>\n",
    "```\n",
    "\n",
    "Las expresiones pueden estar conformadas por:\n",
    "\n",
    "* Opciones.\n",
    "* Pruebas.\n",
    "* Acciones."
   ]
  },
  {
   "cell_type": "markdown",
   "metadata": {},
   "source": [
    "**Ejemplo:**"
   ]
  },
  {
   "cell_type": "code",
   "execution_count": null,
   "metadata": {
    "scrolled": true
   },
   "outputs": [],
   "source": [
    "find ./ *.ipynb"
   ]
  },
  {
   "cell_type": "markdown",
   "metadata": {},
   "source": [
    "### Algunas opciones.\n",
    "\n",
    "* *-L* continúa la búsqueda en los directorios con ligas simbólicas.\n",
    "* *-P* no realiza la búsqueda en los directorios con ligas simbólicas.\n",
    "* *-maxdepth*\n",
    "* *-mindepth*"
   ]
  },
  {
   "cell_type": "markdown",
   "metadata": {},
   "source": [
    "### Criterios numéricos.\n",
    "\n",
    "* *+n*\n",
    "* *-n*\n",
    "* *n*\n",
    "\n",
    "### Pruebas.\n",
    "* *-newer* archivo\n",
    "* *-amin* n\n",
    "* *-anewer* archivo\n",
    "* *-atime* n\n",
    "* *-cmin* n\n",
    "* *-cnewer* archivo\n",
    "* *-ctime* n\n",
    "* *-mmin* n\n",
    "* *-mnewer* archivo\n",
    "* *-mtime* n\n",
    "* *-readable*\n",
    "* *-executable*\n",
    "* *-writable*\n",
    "* *-perm*\n",
    "* *-links*\n",
    "* *-fstype*\n",
    "* *-gid* n\n",
    "* *-group* nombre\n",
    "* *-nogroup* n\n",
    "* *-user* nombre\n",
    "* *-nouser* n\n",
    "* *-name* patrón\n",
    "* *-iname* patrón\n",
    "* *-lname* patrón\n",
    "* *-ilname* patrón\n",
    "* *-inum n\n",
    "* *-path* patrón\n",
    "* *-ipath* patrón\n",
    "* *-regex* patrón\n",
    "* *-iregex* patrón\n",
    "* *-samefile* ruta\n",
    "* *-size* n\n",
    "* *-type* tipo\n",
    "* *-used* n"
   ]
  },
  {
   "cell_type": "markdown",
   "metadata": {},
   "source": [
    "### Acciones.\n",
    "* *-delete* **ADVERTENCIA:** Colocar después de una prueba!.\n",
    "* *-exec comando {} \\;\n",
    "* *-ok*\n",
    "* *-execdir* comando;\n",
    "* *-okdir comando;*\n",
    "* *-print*\n",
    "* *fprint*"
   ]
  },
  {
   "cell_type": "code",
   "execution_count": null,
   "metadata": {},
   "outputs": [],
   "source": [
    "find . -iname '*.ipynb' -print"
   ]
  },
  {
   "cell_type": "code",
   "execution_count": null,
   "metadata": {},
   "outputs": [],
   "source": [
    "find . -iname '*.ipynb' -exec  wc {} \\;"
   ]
  },
  {
   "cell_type": "code",
   "execution_count": null,
   "metadata": {},
   "outputs": [],
   "source": [
    "find . -iname '*.ipynb' -ok  wc {} \\;"
   ]
  },
  {
   "cell_type": "code",
   "execution_count": null,
   "metadata": {},
   "outputs": [],
   "source": [
    "find . -type d -exec ls {} +"
   ]
  },
  {
   "cell_type": "markdown",
   "metadata": {},
   "source": [
    "## El comando ```xargs```."
   ]
  },
  {
   "cell_type": "code",
   "execution_count": null,
   "metadata": {},
   "outputs": [],
   "source": [
    "ls | xargs touch"
   ]
  },
  {
   "cell_type": "code",
   "execution_count": null,
   "metadata": {},
   "outputs": [],
   "source": [
    "ls -l"
   ]
  },
  {
   "cell_type": "markdown",
   "metadata": {
    "collapsed": true
   },
   "source": [
    "<p style=\"text-align: center\"><a rel=\"license\" href=\"http://creativecommons.org/licenses/by/4.0/\"><img alt=\"Licencia Creative Commons\" style=\"border-width:0\" src=\"https://i.creativecommons.org/l/by/4.0/80x15.png\" /></a><br />Esta obra está bajo una <a rel=\"license\" href=\"http://creativecommons.org/licenses/by/4.0/\">Licencia Creative Commons Atribución 4.0 Internacional</a>.</p>\n",
    "<p style=\"text-align: center\">&copy; José Luis Chiquete Valdivieso. 2019.</p>"
   ]
  }
 ],
 "metadata": {
  "kernelspec": {
   "display_name": "Bash",
   "language": "bash",
   "name": "bash"
  },
  "language_info": {
   "codemirror_mode": "shell",
   "file_extension": ".sh",
   "mimetype": "text/x-sh",
   "name": "bash"
  }
 },
 "nbformat": 4,
 "nbformat_minor": 2
}
