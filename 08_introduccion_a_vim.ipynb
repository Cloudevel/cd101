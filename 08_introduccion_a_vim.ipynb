{
 "cells": [
  {
   "cell_type": "markdown",
   "metadata": {
    "collapsed": true
   },
   "source": [
    "[![cloudevel](img/cloudevel.png)](https://cloudevel.com)"
   ]
  },
  {
   "cell_type": "markdown",
   "metadata": {},
   "source": [
    "## Los editores ```vi``` y ```vim```.\n",
    "\n",
    "Existen diversas opciones de editores de texto para *UNIX* y *GNU/Linux*, sin embargo, todos incluyen al editor ```vi``` o una adaptación más moderna, llamada ```vim```.\n",
    "\n",
    "La familioa de  editores ```vi``` son muy populares y venerados debido a su amplia gama de comandos, opciones y extensiones, pero también uno de los más temidos, debido a que requiere que el usuario memorice varias combinaciones de teclas y se enfrente a una interfaz de texto que en un principio no es demasiado amigable.\n",
    "\n",
    "\n",
    "Es psiboe consultar una listra de comandos de *vim* desde\n",
    "https://vim.rtorr.com/"
   ]
  },
  {
   "cell_type": "markdown",
   "metadata": {},
   "source": [
    "## Modos de vim.\n",
    "\n",
    "Una de las características primoridales de ```vi``` es que cuenta con dos modos:\n",
    "\n",
    "* El modo de comando.\n",
    "* El modo de edición."
   ]
  },
  {
   "cell_type": "markdown",
   "metadata": {},
   "source": [
    "### Modo de comando.\n",
    "\n",
    "El modo de comando permite ejecutar diversas instruccionesque ejecuta el editor de textos.\n",
    "\n",
    "Para acceder al modo de comando desde el modo de ediciónn debe de teclearse la tecla <kbd>ESC</kbd>"
   ]
  },
  {
   "cell_type": "markdown",
   "metadata": {},
   "source": [
    "### Modo de edición.\n",
    "\n",
    "El modo de edición permite desplazarse por el texto y modificarlo.\n",
    "\n",
    "Los siguientes comando permiten acceder al modo de edición.\n",
    "* <kbd>i</kbd> modo de edición.\n",
    "* <kbd>o</kbd> modo de edición dejando un retorno de línea.\n",
    "* <kbd>I</kbd> modo de edición al rpincipio de la línea.\n",
    "* <kbd>O</kbd> modo de edición unan línea arriba."
   ]
  },
  {
   "cell_type": "markdown",
   "metadata": {},
   "source": [
    "## Desplazamiento.\n",
    "\n",
    "* <kbd>h</kbd> desplaza el cursor a la izquierda.\n",
    "* <kbd>j</kbd> desplaza el cursor hacia abajo.\n",
    "* <kbd>k</kbd> desplaza el cursor hacia arriba.\n",
    "* <kbd>l</kbd> desplaza el cursor a la derecha."
   ]
  },
  {
   "cell_type": "markdown",
   "metadata": {},
   "source": [
    "## Comandos básicos."
   ]
  },
  {
   "cell_type": "markdown",
   "metadata": {},
   "source": [
    "### Salir de *vi*.\n",
    "\n",
    "* Para salir de *vi* se utiliza el comando.\n",
    "\n",
    "```\n",
    ":q\n",
    "```\n",
    "\n",
    "* Para guardar los cambios y salir se usa el comando:\n",
    "\n",
    "```\n",
    ":wq\n",
    "```\n",
    "\n",
    "* Para forzar la salida se utilzia el comando:\n",
    "\n",
    "```\n",
    ":q!\n",
    "```"
   ]
  },
  {
   "cell_type": "markdown",
   "metadata": {},
   "source": [
    "### Guardar archivos.\n",
    "\n",
    "Los siguientes comandos permite guardar archivos.\n",
    "\n",
    "#### Guardar.\n",
    "\n",
    "```\n",
    ":w \n",
    "```\n",
    "\n",
    "#### Guardar como.\n",
    "\n",
    "```\n",
    ":w <ruta>\n",
    "```\n",
    "\n",
    "* Donde:\n",
    "\n",
    "* ```<ruta>``` es la ruta del archivo a guardar."
   ]
  },
  {
   "cell_type": "markdown",
   "metadata": {},
   "source": [
    "### Multiplicador.\n",
    "\n",
    "```\n",
    "<n><comando>\n",
    "```\n",
    "\n",
    "Donde:\n",
    "\n",
    "* ```<n>``` es un número entero.\n",
    "* ```<comando>``` es un comando de *vi*."
   ]
  },
  {
   "cell_type": "markdown",
   "metadata": {},
   "source": [
    "### Eliminación de texto.\n",
    "\n",
    "* <kbd>x</kbd>.\n",
    "* <kbd>d</kbd><kbd>w</kbd>.\n",
    "* <kbd>d</kbd><kbd>d</kbd>."
   ]
  },
  {
   "cell_type": "markdown",
   "metadata": {},
   "source": [
    "### Deshacer.\n",
    "\n",
    "```\n",
    ":undo\n",
    "```"
   ]
  },
  {
   "cell_type": "markdown",
   "metadata": {},
   "source": [
    "### Búsqueda y sustitución.\n",
    "\n",
    "#### Búsqueda simple.\n",
    "\n",
    "```\n",
    ":/<cadena>\n",
    "```\n",
    "\n",
    "#### Sustitución.\n",
    "```\n",
    ":s/<cadena de búsqueda>/<cadena de sustitución>\n",
    "```\n",
    "\n",
    "\n",
    "#### Sustitución de todos.\n",
    "\n",
    "```\n",
    ":%s/<cadena de búsqueda>/<cadena de sustitución>\n",
    "```"
   ]
  },
  {
   "cell_type": "markdown",
   "metadata": {},
   "source": [
    "### Copiar, cortar y pegar.\n",
    "\n",
    "#### Seleccionar.\n",
    "\n",
    "* <kbd>v</kbd>\n",
    "* <kbd>V</kbd>\n",
    "* <kbd>Ctrl</kbd><kbd>v</kbd>\n",
    "\n",
    "\n",
    "#### Copiar.\n",
    "\n",
    "* <kbd>y</kbd>\n",
    "\n",
    "#### Cortar.\n",
    "\n",
    "* <kbd>d</kbd>\n",
    "\n",
    "#### Pegar.\n",
    "\n",
    "* <kbd>p</kbd>\n",
    "* <kbd>P</kbd>"
   ]
  },
  {
   "cell_type": "markdown",
   "metadata": {},
   "source": [
    "## Editores alternos."
   ]
  },
  {
   "cell_type": "markdown",
   "metadata": {},
   "source": [
    "<p style=\"text-align: center\"><a rel=\"license\" href=\"http://creativecommons.org/licenses/by/4.0/\"><img alt=\"Licencia Creative Commons\" style=\"border-width:0\" src=\"https://i.creativecommons.org/l/by/4.0/80x15.png\" /></a><br />Esta obra está bajo una <a rel=\"license\" href=\"http://creativecommons.org/licenses/by/4.0/\">Licencia Creative Commons Atribución 4.0 Internacional</a>.</p>\n",
    "<p style=\"text-align: center\">&copy; José Luis Chiquete Valdivieso. 2020.</p>"
   ]
  }
 ],
 "metadata": {
  "kernelspec": {
   "display_name": "Bash",
   "language": "bash",
   "name": "bash"
  },
  "language_info": {
   "codemirror_mode": "shell",
   "file_extension": ".sh",
   "mimetype": "text/x-sh",
   "name": "bash"
  }
 },
 "nbformat": 4,
 "nbformat_minor": 2
}
