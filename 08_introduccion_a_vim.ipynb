{
 "cells": [
  {
   "cell_type": "markdown",
   "metadata": {
    "collapsed": true
   },
   "source": [
    "[![cloudevel](img/cloudevel.png)](https://cloudevel.com)"
   ]
  },
  {
   "cell_type": "markdown",
   "metadata": {},
   "source": [
    "## Los editores ```vi``` y ```vim```.\n",
    "\n",
    "Existen diversas opciones de editores de texto para *UNIX* y *GNU/Linux*, sin embargo, todos incluyen al editor [*vi*](https://en.wikipedia.org/wiki/Vi) o adaptaciones más modernas como [*vim*](https://www.vim.org/) o [*neovim*](https://neovim.io/).\n",
    "\n",
    "La familia de  editores ```vi``` son muy populares y venerados debido a su amplia gama de comandos, opciones y extensiones, pero también uno de los más temidos, debido a que requiere que el usuario memorice varias combinaciones de teclas y se enfrente a una interfaz de texto que en un principio no es demasiado amigable para los usuarios acostumbrados a los editores de texto de entornos gráficos.\n",
    "\n",
    "El editor *vim* cuenta con múltiples extensiones para lenguajes de programación y desarrollo de software.\n",
    "\n",
    "Es posible consultar una lista de comandos de *vim* desde https://vim.rtorr.com/lang/es_es"
   ]
  },
  {
   "cell_type": "markdown",
   "metadata": {},
   "source": [
    "## Modos de *vim*.\n",
    "\n",
    "Una de las características primoridales de ```vi``` es que cuenta con dos modos:\n",
    "\n",
    "* El modo de comando.\n",
    "* El modo de inserción."
   ]
  },
  {
   "cell_type": "markdown",
   "metadata": {},
   "source": [
    "### Modo de comando.\n",
    "\n",
    "El modo de comando permite ejecutar diversas instruccionesque ejecuta el editor de textos.\n",
    "\n",
    "Para acceder al modo de comando desde el modo de ediciónn debe de teclearse la tecla <kbd>ESC</kbd>"
   ]
  },
  {
   "cell_type": "markdown",
   "metadata": {},
   "source": [
    "### Modo de edición.\n",
    "\n",
    "El modo de edición permite desplazarse por el texto y modificarlo.\n",
    "\n",
    "Los siguientes comando permiten acceder al modo de edición.\n",
    "* <kbd>i</kbd> modo de edición.\n",
    "* <kbd>o</kbd> modo de edición dejando un retorno de línea.\n",
    "* <kbd>I</kbd> modo de edición al principio de la línea.\n",
    "* <kbd>O</kbd> modo de edición unan línea arriba."
   ]
  },
  {
   "cell_type": "markdown",
   "metadata": {},
   "source": [
    "## Desplazamiento.\n",
    "\n",
    "* <kbd>h</kbd> desplaza el cursor a la izquierda.\n",
    "* <kbd>j</kbd> desplaza el cursor hacia abajo.\n",
    "* <kbd>k</kbd> desplaza el cursor hacia arriba.\n",
    "* <kbd>l</kbd> desplaza el cursor a la derecha."
   ]
  },
  {
   "cell_type": "markdown",
   "metadata": {},
   "source": [
    "## Comandos básicos."
   ]
  },
  {
   "cell_type": "markdown",
   "metadata": {},
   "source": [
    "### Salir de *vi*.\n",
    "\n",
    "* Para salir de *vi* se utiliza el comando.\n",
    "\n",
    "<kbd>:</kbd><kbd>q</kbd>\n",
    "\n",
    "\n",
    "* Para guardar los cambios y salir se usa el comando:\n",
    "\n",
    "\n",
    "<kbd>:</kbd><kbd>w</kbd><kbd>q</kbd>\n",
    "\n",
    "\n",
    "* Para forzar la salida se utilzia el comando:\n",
    "\n",
    "<kbd>:</kbd><kbd>q</kbd><kbd>!</kbd>"
   ]
  },
  {
   "cell_type": "markdown",
   "metadata": {},
   "source": [
    "### Guardar archivos.\n",
    "\n",
    "Los siguientes comandos permiten guardar archivos.\n",
    "\n",
    "#### Guardar.\n",
    "\n",
    "<kbd>:</kbd><kbd>w</kbd>\n",
    "\n",
    "#### Guardar como.\n",
    "\n",
    "<kbd>:</kbd><kbd>w</kbd> ```<ruta>```\n",
    "\n",
    "\n",
    "* Donde:\n",
    "\n",
    "* ```<ruta>``` es la ruta del archivo a guardar."
   ]
  },
  {
   "cell_type": "markdown",
   "metadata": {},
   "source": [
    "### Multiplicador.\n",
    "\n",
    "```\n",
    "<n><comando>\n",
    "```\n",
    "\n",
    "Donde:\n",
    "\n",
    "* ```<n>``` es un número entero.\n",
    "* ```<comando>``` es un comando de *vi*."
   ]
  },
  {
   "cell_type": "markdown",
   "metadata": {},
   "source": [
    "### Eliminación de texto.\n",
    "\n",
    "* <kbd>x</kbd>. Elimina un caracter.\n",
    "* <kbd>d</kbd><kbd>w</kbd>. Elimina una palabra,\n",
    "* <kbd>d</kbd><kbd>d</kbd>. Elimina un renglón."
   ]
  },
  {
   "cell_type": "markdown",
   "metadata": {},
   "source": [
    "### Deshacer.\n",
    "\n",
    "Los siguientes comandos permiten desahcer la última acción realizada.\n",
    "\n",
    "<kbd>:</kbd><kbd>u</kbd>\n",
    "\n",
    "<kbd>:</kbd>```undo```\n"
   ]
  },
  {
   "cell_type": "markdown",
   "metadata": {},
   "source": [
    "### Búsqueda y sustitución.\n",
    "\n",
    "EL editor ```vi```permite realizar operaciones avanzadas de búsdqueda que pueden incluir expresiones regulares.\n",
    "\n",
    "#### Búsqueda simple.\n",
    "\n",
    "<kbd>:</kbd><kbd>/</kbd>```<patrón de búsqueda>```\n",
    "\n",
    "Donde:\n",
    "\n",
    "* ```<patrón de búsqueda>``` es una cadena de caracteres o una expresión regular.\n",
    "\n",
    "#### Búsqueda y sustitución de un patrón.\n",
    "\n",
    "<kbd>:</kbd><kbd>s</kbd><kbd>/</kbd>```<cadena de búsqueda>```<kbd>/</kbd>```<cadena de sustitución>```\n",
    "\n",
    "Donde:\n",
    "\n",
    "* ```<patrón de búsqueda>``` es una cadena de caracteres o una expresión regular.\n",
    "* ```<patrón de sustitución>``` es la cadena de caracteres\n",
    " que sustituirá a la primera cadena que coincida con ```<patrón de búsqueda>```.\n",
    "\n",
    "#### Búsqueda y sustitución de todas las coincidencias.\n",
    "\n",
    "<kbd>:</kbd><kbd>%</kbd><kbd>s</kbd><kbd>/</kbd>```<patrón de búsqueda>```<kbd>/</kbd>```<cadena de sustitución>```\n",
    "\n",
    "Donde:\n",
    "\n",
    "* ```<patrón de búsqueda>``` es una cadena de caracteres o una expresión regular.\n",
    "* ```<cadena de sustitución>``` es la cadena de caracteres\n",
    " que sustituirá a las cadena que coincida con ```<patrón de búsqueda>```."
   ]
  },
  {
   "cell_type": "markdown",
   "metadata": {},
   "source": [
    "### Copiar, cortar y pegar.\n",
    "\n",
    "#### Seleccionar.\n",
    "\n",
    "* <kbd>v</kbd> Inicia el modo de selección por acracter. Una vez que se inicie, el usuario marcará el bloque que será seleccionado caracter por caracter. \n",
    "* <kbd>V</kbd> Inicia el modo de selección por cloumnas. Una vez que se inicie, el usuario marcará las líneas que serán seleccionadas.\n",
    "* <kbd>Ctrl</kbd><kbd>v</kbd> Inicia el modo de selección por sección. Una vez que se inicie, el usuario podra definir una columna de un ancho específico a lo largo de varias líneas que serán seleccionadas.\n",
    "\n",
    "\n",
    "#### Copiar.\n",
    "\n",
    "* <kbd>y</kbd> Este comando copia el bloque de texto seleccionado.\n",
    "\n",
    "#### Cortar.\n",
    "\n",
    "* <kbd>d</kbd> Este comando pega el bloque de texto seleccionado.\n",
    "\n",
    "#### Pegar.\n",
    "\n",
    "* <kbd>p</kbd>\n",
    "* <kbd>P</kbd>"
   ]
  },
  {
   "cell_type": "markdown",
   "metadata": {},
   "source": [
    "## Editores alternos."
   ]
  },
  {
   "cell_type": "markdown",
   "metadata": {},
   "source": [
    "<p style=\"text-align: center\"><a rel=\"license\" href=\"http://creativecommons.org/licenses/by/4.0/\"><img alt=\"Licencia Creative Commons\" style=\"border-width:0\" src=\"https://i.creativecommons.org/l/by/4.0/80x15.png\" /></a><br />Esta obra está bajo una <a rel=\"license\" href=\"http://creativecommons.org/licenses/by/4.0/\">Licencia Creative Commons Atribución 4.0 Internacional</a>.</p>\n",
    "<p style=\"text-align: center\">&copy; José Luis Chiquete Valdivieso. 2020.</p>"
   ]
  }
 ],
 "metadata": {
  "kernelspec": {
   "display_name": "Bash",
   "language": "bash",
   "name": "bash"
  },
  "language_info": {
   "codemirror_mode": "shell",
   "file_extension": ".sh",
   "mimetype": "text/x-sh",
   "name": "bash"
  }
 },
 "nbformat": 4,
 "nbformat_minor": 2
}
