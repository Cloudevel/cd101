{
 "cells": [
  {
   "cell_type": "markdown",
   "metadata": {},
   "source": [
    "[![cloudevel](img/cloudevel.png)](https://cloudevel.com)"
   ]
  },
  {
   "cell_type": "markdown",
   "metadata": {},
   "source": [
    "Al existir tantas distribuciones basadsas en la plataforma GNU/Linux, el tema de la distribución e instalación de paquetes de software se volvió un tema muy complejo.\n",
    "\n",
    "La problemática aumenta en vista de que en la gran mayoría de los casos, un paquete de software requiere de una biblioteca de paquetes adicionales. El cálculo de las dependencias de un paquete fue durante mucho tiempo un gran obstáculo para la adopción de la plataforma."
   ]
  },
  {
   "cell_type": "markdown",
   "metadata": {},
   "source": [
    "## Compilación del código fuente.\n",
    "\n",
    "La gran ventaja del software publicado bajo los términos de una licencia de software libre, es que se tiene acceso al código fuente de dicho software y dependiendo del lenguaje de programación en el que se encuentren codificados es posible crear archivos binarios que se ajusten a una paltaforma específica.\n",
    "\n",
    "Aún cuando esta forma de distribuir el software es muy poderosa, resulta muy complicada incluso para programadores y administradores de sistemas experimentados.\n",
    "\n",
    "### El toolchain de GNU.\n",
    "\n",
    "https://es.wikipedia.org/wiki/GNU_toolchain\n",
    "\n",
    "### Pasos generales.\n",
    "\n",
    "Por lo general, la forma en la que se compila el software es la siguiente:\n",
    "\n",
    "* Configuración.\n",
    "* Compilación.\n",
    "* Instalación.\n",
    "\n",
    "### Scripts de instalación.\n",
    "\n",
    "Muchos desarrolladores han optado por incluir junto con el código fuente, guiones (scprits) escritos en lenguajes interpretados como Bash, Python, Perl, etc. los cuales automatizan la configuración y complilación del software que publica.\n",
    "\n",
    "\n",
    "### Los archivos *README* e *INSTALL*.\n",
    "\n",
    "En la mayoría de los casos, los desarroladores incluyen archivos llamados *README* e *INSTALL* con diversas extensiones, los cual contienen los detalles e instrucciones de configuración, compilación e instalación del software que han publicado."
   ]
  },
  {
   "cell_type": "markdown",
   "metadata": {},
   "source": [
    "## Empaquetado y compresión de estructuras de archivos.\n",
    "\n",
    "Por lo general, el software es publicado en *paquetes* que contienen estructuras de archivos y directorios, los cuales se utilizan para faciliatar la descarga e instalación de dicho software."
   ]
  },
  {
   "cell_type": "markdown",
   "metadata": {},
   "source": [
    "### El comando ```tar```.\n",
    "\n",
    "El comando ```tar``` es la herramienta más utilizada para empacar, comprimir y extraer archivos de las plataformas UNIX y GNU/Linux. Es un acrónimo de \"Tape ARchiver\".\n",
    "\n",
    "A los archivos creados con ```tar``` se les conoce como *tarballs*, cuya traducción es *bolas de alquitrán*, en vista de quedichos archivos aglutinan a otros archivos. \n",
    "\n",
    "La sintaxis básica es la siguiente, pero cambia dependiendo de las opciones que se le añaden como argumentos.\n",
    "\n",
    "```\n",
    "tar <argumentos>\n",
    "```\n",
    "\n",
    "Las opciones básicas de ```tar``` son:\n",
    "* ```-f``` o ```--file=<archivo>``` \n",
    "* ```-c``` o ```--create```\n",
    "* ```-x``` o ```--extract``` o ```--get```\n",
    "* ```-t``` o ```--list```\n",
    "* ```-v``` o ```--verbose```\n",
    "* ```-p``` o ```--preserve-permissions```\n",
    "* ```-u``` o ```--update```\n",
    "* ```-A``` o ```--catenate```\n",
    "* ```-r``` o ```--append```\n",
    "* ```-d``` o ```--diff```\n",
    "* ```-C``` o ```--directory```"
   ]
  },
  {
   "cell_type": "markdown",
   "metadata": {},
   "source": [
    "* La siguiente celda creará un archivo *datos.tar* del directorio *data*."
   ]
  },
  {
   "cell_type": "code",
   "execution_count": null,
   "metadata": {},
   "outputs": [],
   "source": [
    "tar -cf datos.tar data"
   ]
  },
  {
   "cell_type": "code",
   "execution_count": null,
   "metadata": {},
   "outputs": [],
   "source": [
    "ls *.tar"
   ]
  },
  {
   "cell_type": "code",
   "execution_count": null,
   "metadata": {},
   "outputs": [],
   "source": [
    "cp datos.tar ~/"
   ]
  },
  {
   "cell_type": "code",
   "execution_count": null,
   "metadata": {},
   "outputs": [],
   "source": [
    "ls ~/*.tar"
   ]
  },
  {
   "cell_type": "markdown",
   "metadata": {},
   "source": [
    "* La siguiente celda hará un listado de los contenidos del archivo."
   ]
  },
  {
   "cell_type": "code",
   "execution_count": null,
   "metadata": {},
   "outputs": [],
   "source": [
    "tar -tvf ~/datos.tar"
   ]
  },
  {
   "cell_type": "markdown",
   "metadata": {},
   "source": [
    "* La siguiente celda extraerá un listado de los contenidos del archivo en el directorio actual."
   ]
  },
  {
   "cell_type": "code",
   "execution_count": null,
   "metadata": {},
   "outputs": [],
   "source": [
    "mkdir datos_alternos"
   ]
  },
  {
   "cell_type": "code",
   "execution_count": null,
   "metadata": {},
   "outputs": [],
   "source": [
    "tar -xvf ~/datos.tar -C datos_alternos"
   ]
  },
  {
   "cell_type": "code",
   "execution_count": null,
   "metadata": {},
   "outputs": [],
   "source": [
    "tree datos_alternos"
   ]
  },
  {
   "cell_type": "code",
   "execution_count": null,
   "metadata": {},
   "outputs": [],
   "source": [
    "touch data/nuevo"
   ]
  },
  {
   "cell_type": "code",
   "execution_count": null,
   "metadata": {
    "scrolled": true
   },
   "outputs": [],
   "source": [
    "ls data"
   ]
  },
  {
   "cell_type": "markdown",
   "metadata": {},
   "source": [
    "* La siguiente celda actualizará el archivo con respecto al directorio."
   ]
  },
  {
   "cell_type": "code",
   "execution_count": null,
   "metadata": {},
   "outputs": [],
   "source": [
    "tar -uvf ~/datos.tar data"
   ]
  },
  {
   "cell_type": "code",
   "execution_count": null,
   "metadata": {},
   "outputs": [],
   "source": [
    "tar -tvf ~/datos.tar"
   ]
  },
  {
   "cell_type": "markdown",
   "metadata": {},
   "source": [
    "### La compresión con ```gzip``` y ```gunzip```."
   ]
  },
  {
   "cell_type": "markdown",
   "metadata": {},
   "source": [
    "https://en.wikipedia.org/wiki/Gzip"
   ]
  },
  {
   "cell_type": "markdown",
   "metadata": {},
   "source": [
    " Opción ```-z```"
   ]
  },
  {
   "cell_type": "code",
   "execution_count": null,
   "metadata": {},
   "outputs": [],
   "source": [
    "tar -cvfz datos.tar.gz data"
   ]
  },
  {
   "cell_type": "markdown",
   "metadata": {},
   "source": [
    "### La compresión ```bzip2``` y ```bunzip2```."
   ]
  },
  {
   "cell_type": "markdown",
   "metadata": {},
   "source": [
    "Opción ```-j```"
   ]
  },
  {
   "cell_type": "code",
   "execution_count": null,
   "metadata": {},
   "outputs": [],
   "source": [
    "tar -cvjf datos.tar.bz2 data"
   ]
  },
  {
   "cell_type": "code",
   "execution_count": null,
   "metadata": {},
   "outputs": [],
   "source": [
    "ls -l *.tar.*"
   ]
  },
  {
   "cell_type": "markdown",
   "metadata": {},
   "source": [
    "\n",
    "### Los formatos *zip* y *rar*.\n",
    "\n",
    "Estos formatos son sistemas basados en Windows. No son nativos de UNIX ni GNU/Linux, pero hay implementaciones.\n",
    "\n",
    "Estos comandos no funcionan con tar.\n",
    "\n",
    "#### ```zip``` y ```unzip```."
   ]
  },
  {
   "cell_type": "code",
   "execution_count": null,
   "metadata": {},
   "outputs": [],
   "source": [
    "zip datos.zip data"
   ]
  },
  {
   "cell_type": "code",
   "execution_count": null,
   "metadata": {},
   "outputs": [],
   "source": [
    "unzip datos.zip"
   ]
  },
  {
   "cell_type": "markdown",
   "metadata": {},
   "source": [
    "El formato *rar* es otro formato que ne la mayoría de los casos no viene preinistalado.\n",
    "\n",
    "```rar``` y ``unrar``"
   ]
  },
  {
   "cell_type": "markdown",
   "metadata": {},
   "source": [
    "## Verificación de autenticidad.\n",
    "\n",
    "Existen herramientas que permiten crear un *hash* -una secuencia de números única- que identifica al contenido de un archivo."
   ]
  },
  {
   "cell_type": "markdown",
   "metadata": {},
   "source": [
    "### ```sha*sum```.\n",
    "\n",
    "La familia SHA son una familia de algoritmos que permiten generar hash y son utilizadas para cifrado y autenticación."
   ]
  },
  {
   "cell_type": "code",
   "execution_count": null,
   "metadata": {},
   "outputs": [],
   "source": [
    "sha1sum *.tar*"
   ]
  },
  {
   "cell_type": "markdown",
   "metadata": {},
   "source": [
    "### ```md5sum```.\n",
    "\n",
    "Este algoritmo fue muy utuilizado en el pasado, sin enbargo ha quedado en desuso debido a que se han logrado crear colisiones en el cálculo del hash."
   ]
  },
  {
   "cell_type": "code",
   "execution_count": null,
   "metadata": {},
   "outputs": [],
   "source": [
    "md5sum *.tar*"
   ]
  },
  {
   "cell_type": "markdown",
   "metadata": {},
   "source": [
    "## Gestores de paquetes de software.\n",
    "\n",
    "### Paquetes de software antiguos.\n",
    "\n",
    "En la década de los 1990, los paquetes de software de las distribuciones de GNU/Linux eran agrupados en conjuntos de *tarballs* los cuales eran \"curados\" por los gestores de la distribución.\n",
    "\n",
    "**Ejemplo:** \n",
    "\n",
    "La distribución [Slackware Linux](https://slackware.org) aún contiene esta estructura de paquetes agrupados por nombres, tal como puede ser visto en https://mirrors.slackware.com/slackware/slackware64-14.2/slackware64\n",
    "\n",
    "\n",
    "### Sistemas de gestión de paquetes de software.\n",
    "\n",
    "Conforme fue creciendo la oferta de distribuciones de GNU/Lunux se fueron desarrollando sistemas capaces de:\n",
    "\n",
    "* Buscar e identificar paquetes de software.\n",
    "* Calcular las dependencias del paquete.\n",
    "* Descargar los paquetes ya sea como *tarballs* e incluso mediante su código fuente.\n",
    "* Instalar o compilar los paquetes, incluyendo sus dependencias.\n",
    "* Eliminar paquetes del sistema.\n",
    "* Actualizar los paquetes del sistema.\n",
    "\n"
   ]
  },
  {
   "cell_type": "markdown",
   "metadata": {},
   "source": [
    "## Repositorios.\n",
    "\n",
    "Un repositorio es un sitio local o en línea que contiene los  paquetes de software de cierta distribución.\n",
    "\n",
    "## Espejos.\n",
    "\n",
    "Un espejo es un recurso en línea que contiene uno o varios reprositoris de una distribución. Por lo general existen los repositorios oficiales y sitios espeko que son mantenidos por la comunidad.\n",
    "\n",
    "## Respositorios no oficiales.\n",
    "\n",
    "Algunas comunidades crean repsotiroios de paquetes no oficilaes. Son esfuerzos para ofrecer paquetes actualizados o my especializados para cierto tipo de software.\n",
    "\n",
    "**Ejemplo:**\n",
    "\n",
    "El siguiente es el repositorio de Google para sus productos.\n",
    "\n",
    "https://www.google.com/linuxrepositories/"
   ]
  },
  {
   "cell_type": "markdown",
   "metadata": {},
   "source": [
    "## Gestión de paquetes basados en archivos ```.rpm```.\n",
    "\n",
    "*RPM* es el acrónimo de \"Red Hat Package Manager\". Sin embargo, ha sido adoptado por otras dsitribuciones como es el caso de SUSE y ofrece una opción robusta para sistemas operativos de caracter empresarial."
   ]
  },
  {
   "cell_type": "markdown",
   "metadata": {},
   "source": [
    "### Preliminares.\n",
    "\n",
    "La notebook de este capítulo fue diseñada para ser ejecutada desde un sistemas basado en uns distribución de *GNU/Linux* basada  en *Debian*, por lo que los comandos de gestión de paquetes se realizarán mediante un contenedor basado en *CentOS*. "
   ]
  },
  {
   "cell_type": "code",
   "execution_count": null,
   "metadata": {},
   "outputs": [],
   "source": [
    "sudo docker run -dit --name centos-demo centos /bin/bash"
   ]
  },
  {
   "cell_type": "code",
   "execution_count": 12,
   "metadata": {},
   "outputs": [
    {
     "name": "stdout",
     "output_type": "stream",
     "text": [
      "Last metadata expiration check: 0:00:39 ago on Thu Jun 18 13:39:52 2020.\n",
      "Dependencies resolved.\n",
      "================================================================================\n",
      " Package                     Arch   Version                     Repo       Size\n",
      "================================================================================\n",
      "Upgrading:\n",
      " audit-libs                  x86_64 3.0-0.17.20191104git1c2f876.el8\n",
      "                                                                BaseOS    116 k\n",
      " bind-export-libs            x86_64 32:9.11.13-3.el8            BaseOS    1.1 M\n",
      " binutils                    x86_64 2.30-73.el8                 BaseOS    5.7 M\n",
      " centos-gpg-keys             noarch 8.2-2.2004.0.1.el8          BaseOS     12 k\n",
      " centos-release              x86_64 8.2-2.2004.0.1.el8          BaseOS     21 k\n",
      " centos-repos                x86_64 8.2-2.2004.0.1.el8          BaseOS     13 k\n",
      " coreutils-single            x86_64 8.30-7.el8_2.1              BaseOS    627 k\n",
      " crypto-policies             noarch 20191128-2.git23e1bf1.el8   BaseOS    103 k\n",
      " cryptsetup-libs             x86_64 2.2.2-1.el8                 BaseOS    428 k\n",
      " curl                        x86_64 7.61.1-12.el8               BaseOS    353 k\n",
      " device-mapper               x86_64 8:1.02.169-3.el8            BaseOS    372 k\n",
      " device-mapper-libs          x86_64 8:1.02.169-3.el8            BaseOS    405 k\n",
      " dhcp-client                 x86_64 12:4.3.6-40.el8             BaseOS    318 k\n",
      " dhcp-common                 noarch 12:4.3.6-40.el8             BaseOS    207 k\n",
      " dhcp-libs                   x86_64 12:4.3.6-40.el8             BaseOS    147 k\n",
      " dnf                         noarch 4.2.17-6.el8                BaseOS    469 k\n",
      " dnf-data                    noarch 4.2.17-6.el8                BaseOS    145 k\n",
      " dracut                      x86_64 049-70.git20200228.el8      BaseOS    365 k\n",
      " dracut-network              x86_64 049-70.git20200228.el8      BaseOS    100 k\n",
      " dracut-squash               x86_64 049-70.git20200228.el8      BaseOS     54 k\n",
      " elfutils-default-yama-scope noarch 0.178-7.el8                 BaseOS     48 k\n",
      " elfutils-libelf             x86_64 0.178-7.el8                 BaseOS    212 k\n",
      " elfutils-libs               x86_64 0.178-7.el8                 BaseOS    292 k\n",
      " file-libs                   x86_64 5.33-13.el8                 BaseOS    542 k\n",
      " glib2                       x86_64 2.56.4-8.el8                BaseOS    2.5 M\n",
      " glibc                       x86_64 2.28-101.el8                BaseOS    3.7 M\n",
      " glibc-common                x86_64 2.28-101.el8                BaseOS    1.3 M\n",
      " glibc-minimal-langpack      x86_64 2.28-101.el8                BaseOS     51 k\n",
      " gnutls                      x86_64 3.6.8-10.el8_2              BaseOS    915 k\n",
      " info                        x86_64 6.5-6.el8                   BaseOS    198 k\n",
      " ipcalc                      x86_64 0.2.4-4.el8                 BaseOS     38 k\n",
      " iproute                     x86_64 5.3.0-1.el8                 BaseOS    656 k\n",
      " iptables-libs               x86_64 1.8.4-10.el8                BaseOS    105 k\n",
      " kexec-tools                 x86_64 2.0.20-14.el8               BaseOS    485 k\n",
      " kmod                        x86_64 25-16.el8                   BaseOS    126 k\n",
      " kmod-libs                   x86_64 25-16.el8                   BaseOS     68 k\n",
      " krb5-libs                   x86_64 1.17-18.el8                 BaseOS    844 k\n",
      " libarchive                  x86_64 3.3.2-8.el8_1               BaseOS    359 k\n",
      " libblkid                    x86_64 2.32.1-22.el8               BaseOS    214 k\n",
      " libcap                      x86_64 2.26-3.el8                  BaseOS     59 k\n",
      " libcap-ng                   x86_64 0.7.9-5.el8                 BaseOS     33 k\n",
      " libcom_err                  x86_64 1.45.4-3.el8                BaseOS     49 k\n",
      " libcomps                    x86_64 0.1.11-4.el8                BaseOS     81 k\n",
      " libcurl-minimal             x86_64 7.61.1-12.el8               BaseOS    285 k\n",
      " libdnf                      x86_64 0.39.1-5.el8                BaseOS    620 k\n",
      " libfdisk                    x86_64 2.32.1-22.el8               BaseOS    249 k\n",
      " libgcc                      x86_64 8.3.1-5.el8.0.2             BaseOS     78 k\n",
      " libmodulemd1                x86_64 1.8.16-0.2.8.2.1            BaseOS    176 k\n",
      " libmount                    x86_64 2.32.1-22.el8               BaseOS    231 k\n",
      " librepo                     x86_64 1.11.0-2.el8                BaseOS     90 k\n",
      " libreport-filesystem        x86_64 2.9.5-10.el8                BaseOS     21 k\n",
      " libselinux                  x86_64 2.9-3.el8                   BaseOS    166 k\n",
      " libsemanage                 x86_64 2.9-2.el8                   BaseOS    165 k\n",
      " libsmartcols                x86_64 2.32.1-22.el8               BaseOS    174 k\n",
      " libsolv                     x86_64 0.7.7-1.el8                 BaseOS    356 k\n",
      " libstdc++                   x86_64 8.3.1-5.el8.0.2             BaseOS    451 k\n",
      " libuuid                     x86_64 2.32.1-22.el8               BaseOS     94 k\n",
      " libxml2                     x86_64 2.9.7-7.el8                 BaseOS    695 k\n",
      " openldap                    x86_64 2.4.46-11.el8_1             BaseOS    352 k\n",
      " openssl-libs                x86_64 1:1.1.1c-15.el8             BaseOS    1.5 M\n",
      " pam                         x86_64 1.3.1-8.el8                 BaseOS    738 k\n",
      " platform-python             x86_64 3.6.8-23.el8                BaseOS     82 k\n",
      " platform-python-pip         noarch 9.0.3-16.el8                BaseOS    1.8 M\n",
      " python3-dnf                 noarch 4.2.17-6.el8                BaseOS    521 k\n",
      " python3-hawkey              x86_64 0.39.1-5.el8                BaseOS     99 k\n",
      " python3-libcomps            x86_64 0.1.11-4.el8                BaseOS     52 k\n",
      " python3-libdnf              x86_64 0.39.1-5.el8                BaseOS    689 k\n",
      " python3-libs                x86_64 3.6.8-23.el8                BaseOS    7.8 M\n",
      " python3-pip-wheel           noarch 9.0.3-16.el8                BaseOS    1.2 M\n",
      " python3-rpm                 x86_64 4.14.2-37.el8               BaseOS    156 k\n",
      " rpm                         x86_64 4.14.2-37.el8               BaseOS    540 k\n",
      " rpm-build-libs              x86_64 4.14.2-37.el8               BaseOS    154 k\n",
      " rpm-libs                    x86_64 4.14.2-37.el8               BaseOS    337 k\n",
      " setup                       noarch 2.12.2-5.el8                BaseOS    180 k\n",
      " sqlite-libs                 x86_64 3.26.0-6.el8                BaseOS    579 k\n",
      " systemd                     x86_64 239-30.el8_2                BaseOS    3.5 M\n",
      " systemd-libs                x86_64 239-30.el8_2                BaseOS    1.1 M\n",
      " systemd-pam                 x86_64 239-30.el8_2                BaseOS    449 k\n",
      " systemd-udev                x86_64 239-30.el8_2                BaseOS    1.3 M\n",
      " tzdata                      noarch 2020a-1.el8                 BaseOS    469 k\n",
      " util-linux                  x86_64 2.32.1-22.el8               BaseOS    2.5 M\n",
      " yum                         noarch 4.2.17-6.el8                BaseOS    193 k\n",
      " zlib                        x86_64 1.2.11-13.el8               BaseOS    102 k\n",
      "Installing dependencies:\n",
      " unbound-libs                x86_64 1.7.3-11.el8_2              AppStream 499 k\n",
      " xkeyboard-config            noarch 2.28-1.el8                  AppStream 782 k\n",
      " file                        x86_64 5.33-13.el8                 BaseOS     76 k\n",
      " gettext                     x86_64 0.19.8.1-17.el8             BaseOS    1.1 M\n",
      " gettext-libs                x86_64 0.19.8.1-17.el8             BaseOS    314 k\n",
      " grub2-common                noarch 1:2.02-81.el8               BaseOS    882 k\n",
      " grub2-tools                 x86_64 1:2.02-81.el8               BaseOS    2.0 M\n",
      " grub2-tools-minimal         x86_64 1:2.02-81.el8               BaseOS    202 k\n",
      " kbd-legacy                  noarch 2.0.4-8.el8                 BaseOS    481 k\n",
      " kbd-misc                    noarch 2.0.4-8.el8                 BaseOS    1.4 M\n",
      " libcroco                    x86_64 0.6.12-4.el8                BaseOS    113 k\n",
      " libevent                    x86_64 2.1.8-5.el8                 BaseOS    253 k\n",
      " libgomp                     x86_64 8.3.1-5.el8.0.2             BaseOS    203 k\n",
      " libzstd                     x86_64 1.4.2-2.el8                 BaseOS    260 k\n"
     ]
    },
    {
     "name": "stdout",
     "output_type": "stream",
     "text": [
      " openssl                     x86_64 1:1.1.1c-15.el8             BaseOS    697 k\n",
      " os-prober                   x86_64 1.74-6.el8                  BaseOS     51 k\n",
      " trousers-lib                x86_64 0.3.14-4.el8                BaseOS    169 k\n",
      " which                       x86_64 2.21-12.el8                 BaseOS     49 k\n",
      "Installing weak dependencies:\n",
      " elfutils-debuginfod-client  x86_64 0.178-7.el8                 AppStream  62 k\n",
      " geolite2-city               noarch 20180605-1.el8              AppStream  19 M\n",
      " geolite2-country            noarch 20180605-1.el8              AppStream 1.0 M\n",
      " libmaxminddb                x86_64 1.2.0-7.el8                 AppStream  25 k\n",
      " libxkbcommon                x86_64 0.9.1-1.el8                 AppStream 116 k\n",
      " python3-unbound             x86_64 1.7.3-11.el8_2              AppStream 118 k\n",
      " cracklib-dicts              x86_64 2.9.6-15.el8                BaseOS    4.0 M\n",
      " diffutils                   x86_64 3.6-6.el8                   BaseOS    358 k\n",
      " glibc-langpack-en           x86_64 2.28-101.el8                BaseOS    821 k\n",
      " grubby                      x86_64 8.40-38.el8                 BaseOS     50 k\n",
      " hardlink                    x86_64 1:1.3-6.el8                 BaseOS     29 k\n",
      " kbd                         x86_64 2.0.4-8.el8                 BaseOS    392 k\n",
      " kpartx                      x86_64 0.8.3-3.el8                 BaseOS    105 k\n",
      " openssl-pkcs11              x86_64 0.4.10-2.el8                BaseOS     66 k\n",
      " pigz                        x86_64 2.4-4.el8                   BaseOS     79 k\n",
      " rpm-plugin-systemd-inhibit  x86_64 4.14.2-37.el8               BaseOS     76 k\n",
      " shared-mime-info            x86_64 1.9-3.el8                   BaseOS    329 k\n",
      " trousers                    x86_64 0.3.14-4.el8                BaseOS    153 k\n",
      "\n",
      "Transaction Summary\n",
      "================================================================================\n",
      "Install  36 Packages\n",
      "Upgrade  83 Packages\n",
      "\n",
      "Total download size: 90 M\n",
      "Downloading Packages:\n",
      "(1/119): elfutils-debuginfod-client-0.178-7.el8 282 kB/s |  62 kB     00:00    \n",
      "(2/119): libmaxminddb-1.2.0-7.el8.x86_64.rpm    188 kB/s |  25 kB     00:00    \n",
      "(3/119): libxkbcommon-0.9.1-1.el8.x86_64.rpm    301 kB/s | 116 kB     00:00    \n",
      "(4/119): geolite2-country-20180605-1.el8.noarch 1.2 MB/s | 1.0 MB     00:00    \n",
      "(5/119): unbound-libs-1.7.3-11.el8_2.x86_64.rpm 1.4 MB/s | 499 kB     00:00    \n",
      "(6/119): python3-unbound-1.7.3-11.el8_2.x86_64. 195 kB/s | 118 kB     00:00    \n",
      "(7/119): xkeyboard-config-2.28-1.el8.noarch.rpm 1.9 MB/s | 782 kB     00:00    \n",
      "(8/119): diffutils-3.6-6.el8.x86_64.rpm         184 kB/s | 358 kB     00:01    \n",
      "(9/119): file-5.33-13.el8.x86_64.rpm            224 kB/s |  76 kB     00:00    \n",
      "(10/119): gettext-0.19.8.1-17.el8.x86_64.rpm    758 kB/s | 1.1 MB     00:01    \n",
      "(11/119): cracklib-dicts-2.9.6-15.el8.x86_64.rp 935 kB/s | 4.0 MB     00:04    \n",
      "(12/119): geolite2-city-20180605-1.el8.noarch.r 3.1 MB/s |  19 MB     00:06    \n",
      "(13/119): gettext-libs-0.19.8.1-17.el8.x86_64.r 419 kB/s | 314 kB     00:00    \n",
      "(14/119): glibc-langpack-en-2.28-101.el8.x86_64 1.6 MB/s | 821 kB     00:00    \n",
      "(15/119): grub2-tools-minimal-2.02-81.el8.x86_6 1.0 MB/s | 202 kB     00:00    \n",
      "(16/119): grubby-8.40-38.el8.x86_64.rpm         307 kB/s |  50 kB     00:00    \n",
      "(17/119): grub2-common-2.02-81.el8.noarch.rpm   1.7 MB/s | 882 kB     00:00    \n",
      "(18/119): hardlink-1.3-6.el8.x86_64.rpm         174 kB/s |  29 kB     00:00    \n",
      "(19/119): kbd-legacy-2.0.4-8.el8.noarch.rpm     1.9 MB/s | 481 kB     00:00    \n",
      "(20/119): kbd-2.0.4-8.el8.x86_64.rpm            1.0 MB/s | 392 kB     00:00    \n",
      "(21/119): kpartx-0.8.3-3.el8.x86_64.rpm         308 kB/s | 105 kB     00:00    \n",
      "(22/119): libcroco-0.6.12-4.el8.x86_64.rpm      584 kB/s | 113 kB     00:00    \n",
      "(23/119): kbd-misc-2.0.4-8.el8.noarch.rpm       2.4 MB/s | 1.4 MB     00:00    \n",
      "(24/119): libevent-2.1.8-5.el8.x86_64.rpm       1.0 MB/s | 253 kB     00:00    \n",
      "(25/119): libgomp-8.3.1-5.el8.0.2.x86_64.rpm    794 kB/s | 203 kB     00:00    \n",
      "(26/119): libzstd-1.4.2-2.el8.x86_64.rpm        1.3 MB/s | 260 kB     00:00    \n",
      "(27/119): openssl-pkcs11-0.4.10-2.el8.x86_64.rp 254 kB/s |  66 kB     00:00    \n",
      "(28/119): grub2-tools-2.02-81.el8.x86_64.rpm    878 kB/s | 2.0 MB     00:02    \n",
      "(29/119): os-prober-1.74-6.el8.x86_64.rpm       317 kB/s |  51 kB     00:00    \n",
      "(30/119): rpm-plugin-systemd-inhibit-4.14.2-37. 300 kB/s |  76 kB     00:00    \n",
      "(31/119): pigz-2.4-4.el8.x86_64.rpm             287 kB/s |  79 kB     00:00    \n",
      "(32/119): shared-mime-info-1.9-3.el8.x86_64.rpm 1.5 MB/s | 329 kB     00:00    \n",
      "(33/119): trousers-0.3.14-4.el8.x86_64.rpm      666 kB/s | 153 kB     00:00    \n",
      "(34/119): trousers-lib-0.3.14-4.el8.x86_64.rpm  819 kB/s | 169 kB     00:00    \n",
      "(35/119): which-2.21-12.el8.x86_64.rpm          258 kB/s |  49 kB     00:00    \n",
      "(36/119): audit-libs-3.0-0.17.20191104git1c2f87 545 kB/s | 116 kB     00:00    \n",
      "(37/119): openssl-1.1.1c-15.el8.x86_64.rpm      443 kB/s | 697 kB     00:01    \n",
      "(38/119): centos-gpg-keys-8.2-2.2004.0.1.el8.no  49 kB/s |  12 kB     00:00    \n",
      "(39/119): bind-export-libs-9.11.13-3.el8.x86_64 1.7 MB/s | 1.1 MB     00:00    \n",
      "(40/119): centos-release-8.2-2.2004.0.1.el8.x86  56 kB/s |  21 kB     00:00    \n",
      "(41/119): centos-repos-8.2-2.2004.0.1.el8.x86_6  45 kB/s |  13 kB     00:00    \n",
      "(42/119): crypto-policies-20191128-2.git23e1bf1 357 kB/s | 103 kB     00:00    \n",
      "(43/119): coreutils-single-8.30-7.el8_2.1.x86_6 1.2 MB/s | 627 kB     00:00    \n",
      "(44/119): cryptsetup-libs-2.2.2-1.el8.x86_64.rp 1.5 MB/s | 428 kB     00:00    \n",
      "(45/119): curl-7.61.1-12.el8.x86_64.rpm         1.3 MB/s | 353 kB     00:00    \n",
      "(46/119): device-mapper-1.02.169-3.el8.x86_64.r 1.3 MB/s | 372 kB     00:00    \n",
      "(47/119): device-mapper-libs-1.02.169-3.el8.x86 1.5 MB/s | 405 kB     00:00    \n",
      "(48/119): dhcp-common-4.3.6-40.el8.noarch.rpm   322 kB/s | 207 kB     00:00    \n",
      "(49/119): dhcp-libs-4.3.6-40.el8.x86_64.rpm     767 kB/s | 147 kB     00:00    \n",
      "(50/119): binutils-2.30-73.el8.x86_64.rpm       2.0 MB/s | 5.7 MB     00:02    \n",
      "(51/119): dhcp-client-4.3.6-40.el8.x86_64.rpm   252 kB/s | 318 kB     00:01    \n",
      "(52/119): dnf-4.2.17-6.el8.noarch.rpm           1.4 MB/s | 469 kB     00:00    \n",
      "(53/119): dnf-data-4.2.17-6.el8.noarch.rpm      820 kB/s | 145 kB     00:00    \n",
      "(54/119): dracut-049-70.git20200228.el8.x86_64. 1.6 MB/s | 365 kB     00:00    \n",
      "(55/119): dracut-network-049-70.git20200228.el8 534 kB/s | 100 kB     00:00    \n",
      "(56/119): dracut-squash-049-70.git20200228.el8. 337 kB/s |  54 kB     00:00    \n",
      "(57/119): elfutils-default-yama-scope-0.178-7.e 203 kB/s |  48 kB     00:00    \n",
      "(58/119): elfutils-libelf-0.178-7.el8.x86_64.rp 788 kB/s | 212 kB     00:00    \n",
      "(59/119): elfutils-libs-0.178-7.el8.x86_64.rpm  990 kB/s | 292 kB     00:00    \n",
      "(60/119): file-libs-5.33-13.el8.x86_64.rpm      1.3 MB/s | 542 kB     00:00    \n",
      "(61/119): glibc-common-2.28-101.el8.x86_64.rpm  1.4 MB/s | 1.3 MB     00:00    \n",
      "(62/119): glib2-2.56.4-8.el8.x86_64.rpm         1.6 MB/s | 2.5 MB     00:01    \n",
      "(63/119): glibc-minimal-langpack-2.28-101.el8.x 264 kB/s |  51 kB     00:00    \n",
      "(64/119): info-6.5-6.el8.x86_64.rpm             727 kB/s | 198 kB     00:00    \n",
      "(65/119): glibc-2.28-101.el8.x86_64.rpm         2.0 MB/s | 3.7 MB     00:01    \n",
      "(66/119): ipcalc-0.2.4-4.el8.x86_64.rpm         230 kB/s |  38 kB     00:00    \n",
      "(67/119): gnutls-3.6.8-10.el8_2.x86_64.rpm      1.8 MB/s | 915 kB     00:00    \n",
      "(68/119): iptables-libs-1.8.4-10.el8.x86_64.rpm 582 kB/s | 105 kB     00:00    \n",
      "(69/119): iproute-5.3.0-1.el8.x86_64.rpm        1.6 MB/s | 656 kB     00:00    \n",
      "(70/119): kmod-25-16.el8.x86_64.rpm             679 kB/s | 126 kB     00:00    \n",
      "(71/119): kexec-tools-2.0.20-14.el8.x86_64.rpm  1.4 MB/s | 485 kB     00:00    \n",
      "(72/119): kmod-libs-25-16.el8.x86_64.rpm        427 kB/s |  68 kB     00:00    \n",
      "(73/119): libarchive-3.3.2-8.el8_1.x86_64.rpm   1.3 MB/s | 359 kB     00:00    \n",
      "(74/119): libblkid-2.32.1-22.el8.x86_64.rpm     823 kB/s | 214 kB     00:00    \n",
      "(75/119): krb5-libs-1.17-18.el8.x86_64.rpm      1.9 MB/s | 844 kB     00:00    \n",
      "(76/119): libcap-2.26-3.el8.x86_64.rpm          353 kB/s |  59 kB     00:00    \n",
      "(77/119): libcap-ng-0.7.9-5.el8.x86_64.rpm      202 kB/s |  33 kB     00:00    \n",
      "(78/119): libcom_err-1.45.4-3.el8.x86_64.rpm    296 kB/s |  49 kB     00:00    \n"
     ]
    },
    {
     "name": "stdout",
     "output_type": "stream",
     "text": [
      "(79/119): libcomps-0.1.11-4.el8.x86_64.rpm      473 kB/s |  81 kB     00:00    \n",
      "(80/119): libcurl-minimal-7.61.1-12.el8.x86_64. 1.2 MB/s | 285 kB     00:00    \n",
      "(81/119): libfdisk-2.32.1-22.el8.x86_64.rpm     1.0 MB/s | 249 kB     00:00    \n",
      "(82/119): libgcc-8.3.1-5.el8.0.2.x86_64.rpm     482 kB/s |  78 kB     00:00    \n",
      "(83/119): libdnf-0.39.1-5.el8.x86_64.rpm        1.6 MB/s | 620 kB     00:00    \n",
      "(84/119): libmodulemd1-1.8.16-0.2.8.2.1.x86_64. 888 kB/s | 176 kB     00:00    \n",
      "(85/119): libmount-2.32.1-22.el8.x86_64.rpm     1.1 MB/s | 231 kB     00:00    \n",
      "(86/119): librepo-1.11.0-2.el8.x86_64.rpm       523 kB/s |  90 kB     00:00    \n",
      "(87/119): libreport-filesystem-2.9.5-10.el8.x86 108 kB/s |  21 kB     00:00    \n",
      "(88/119): libselinux-2.9-3.el8.x86_64.rpm       882 kB/s | 166 kB     00:00    \n",
      "(89/119): libsemanage-2.9-2.el8.x86_64.rpm      859 kB/s | 165 kB     00:00    \n",
      "(90/119): libsmartcols-2.32.1-22.el8.x86_64.rpm 885 kB/s | 174 kB     00:00    \n",
      "(91/119): libsolv-0.7.7-1.el8.x86_64.rpm        1.6 MB/s | 356 kB     00:00    \n",
      "(92/119): libuuid-2.32.1-22.el8.x86_64.rpm      551 kB/s |  94 kB     00:00    \n",
      "(93/119): libstdc++-8.3.1-5.el8.0.2.x86_64.rpm  1.2 MB/s | 451 kB     00:00    \n",
      "(94/119): openldap-2.4.46-11.el8_1.x86_64.rpm   1.6 MB/s | 352 kB     00:00    \n",
      "(95/119): libxml2-2.9.7-7.el8.x86_64.rpm        1.5 MB/s | 695 kB     00:00    \n",
      "(96/119): platform-python-3.6.8-23.el8.x86_64.r 374 kB/s |  82 kB     00:00    \n",
      "(97/119): pam-1.3.1-8.el8.x86_64.rpm            1.8 MB/s | 738 kB     00:00    \n",
      "(98/119): openssl-libs-1.1.1c-15.el8.x86_64.rpm 1.4 MB/s | 1.5 MB     00:01    \n",
      "(99/119): python3-dnf-4.2.17-6.el8.noarch.rpm   876 kB/s | 521 kB     00:00    \n",
      "(100/119): python3-hawkey-0.39.1-5.el8.x86_64.r 488 kB/s |  99 kB     00:00    \n",
      "(101/119): python3-libcomps-0.1.11-4.el8.x86_64 315 kB/s |  52 kB     00:00    \n",
      "(102/119): platform-python-pip-9.0.3-16.el8.noa 1.9 MB/s | 1.8 MB     00:00    \n",
      "(103/119): python3-libdnf-0.39.1-5.el8.x86_64.r 1.3 MB/s | 689 kB     00:00    \n",
      "(104/119): python3-rpm-4.14.2-37.el8.x86_64.rpm 668 kB/s | 156 kB     00:00    \n",
      "(105/119): python3-pip-wheel-9.0.3-16.el8.noarc 1.8 MB/s | 1.2 MB     00:00    \n",
      "(106/119): rpm-build-libs-4.14.2-37.el8.x86_64. 669 kB/s | 154 kB     00:00    \n",
      "(107/119): rpm-4.14.2-37.el8.x86_64.rpm         1.4 MB/s | 540 kB     00:00    \n",
      "(108/119): rpm-libs-4.14.2-37.el8.x86_64.rpm    1.4 MB/s | 337 kB     00:00    \n",
      "(109/119): setup-2.12.2-5.el8.noarch.rpm        821 kB/s | 180 kB     00:00    \n",
      "(110/119): sqlite-libs-3.26.0-6.el8.x86_64.rpm  1.3 MB/s | 579 kB     00:00    \n",
      "(111/119): systemd-libs-239-30.el8_2.x86_64.rpm 2.0 MB/s | 1.1 MB     00:00    \n",
      "(112/119): systemd-pam-239-30.el8_2.x86_64.rpm  1.5 MB/s | 449 kB     00:00    \n",
      "(113/119): systemd-udev-239-30.el8_2.x86_64.rpm 1.8 MB/s | 1.3 MB     00:00    \n",
      "(114/119): tzdata-2020a-1.el8.noarch.rpm        1.6 MB/s | 469 kB     00:00    \n",
      "(115/119): systemd-239-30.el8_2.x86_64.rpm      1.5 MB/s | 3.5 MB     00:02    \n",
      "(116/119): yum-4.2.17-6.el8.noarch.rpm          742 kB/s | 193 kB     00:00    \n",
      "(117/119): zlib-1.2.11-13.el8.x86_64.rpm        459 kB/s | 102 kB     00:00    \n",
      "(118/119): python3-libs-3.6.8-23.el8.x86_64.rpm 1.7 MB/s | 7.8 MB     00:04    \n",
      "(119/119): util-linux-2.32.1-22.el8.x86_64.rpm  2.3 MB/s | 2.5 MB     00:01    \n",
      "--------------------------------------------------------------------------------\n",
      "Total                                           3.9 MB/s |  90 MB     00:23     \n",
      "warning: /var/cache/dnf/AppStream-02e86d1c976ab532/packages/elfutils-debuginfod-client-0.178-7.el8.x86_64.rpm: Header V3 RSA/SHA256 Signature, key ID 8483c65d: NOKEY\n",
      "CentOS-8 - AppStream                            706 kB/s | 1.6 kB     00:00    \n",
      "Importing GPG key 0x8483C65D:\n",
      " Userid     : \"CentOS (CentOS Official Signing Key) <security@centos.org>\"\n",
      " Fingerprint: 99DB 70FA E1D7 CE22 7FB6 4882 05B5 55B3 8483 C65D\n",
      " From       : /etc/pki/rpm-gpg/RPM-GPG-KEY-centosofficial\n",
      "Key imported successfully\n",
      "Running transaction check\n",
      "Transaction check succeeded.\n",
      "Running transaction test\n",
      "Transaction test succeeded.\n",
      "Running transaction\n",
      "  Preparing        :                                                        1/1 \n",
      "  Running scriptlet: libgcc-8.3.1-5.el8.0.2.x86_64                          1/1 \n",
      "  Upgrading        : libgcc-8.3.1-5.el8.0.2.x86_64                        1/202 \n",
      "  Running scriptlet: libgcc-8.3.1-5.el8.0.2.x86_64                        1/202 \n",
      "  Upgrading        : python3-pip-wheel-9.0.3-16.el8.noarch                2/202 \n",
      "  Upgrading        : centos-gpg-keys-8.2-2.2004.0.1.el8.noarch            3/202 \n",
      "  Upgrading        : centos-release-8.2-2.2004.0.1.el8.x86_64             4/202 \n",
      "  Upgrading        : centos-repos-8.2-2.2004.0.1.el8.x86_64               5/202 \n",
      "  Installing       : grub2-common-1:2.02-81.el8.noarch                    6/202 \n",
      "  Installing       : geolite2-country-20180605-1.el8.noarch               7/202 \n",
      "  Installing       : geolite2-city-20180605-1.el8.noarch                  8/202 \n",
      "  Upgrading        : tzdata-2020a-1.el8.noarch                            9/202 \n",
      "  Upgrading        : glibc-common-2.28-101.el8.x86_64                    10/202 \n",
      "  Upgrading        : libselinux-2.9-3.el8.x86_64                         11/202 \n",
      "  Running scriptlet: glibc-2.28-101.el8.x86_64                           12/202 \n",
      "  Upgrading        : glibc-2.28-101.el8.x86_64                           12/202 \n",
      "warning: /etc/nsswitch.conf created as /etc/nsswitch.conf.rpmnew\n",
      "\n",
      "  Running scriptlet: glibc-2.28-101.el8.x86_64                           12/202 \n",
      "  Installing       : glibc-langpack-en-2.28-101.el8.x86_64               13/202 \n",
      "  Upgrading        : zlib-1.2.11-13.el8.x86_64                           14/202 \n",
      "  Upgrading        : libcap-2.26-3.el8.x86_64                            15/202 \n",
      "  Upgrading        : coreutils-single-8.30-7.el8_2.1.x86_64              16/202 \n",
      "  Upgrading        : elfutils-libelf-0.178-7.el8.x86_64                  17/202 \n",
      "  Upgrading        : libxml2-2.9.7-7.el8.x86_64                          18/202 \n",
      "  Installing       : libzstd-1.4.2-2.el8.x86_64                          19/202 \n",
      "  Upgrading        : libstdc++-8.3.1-5.el8.0.2.x86_64                    20/202 \n",
      "  Running scriptlet: libstdc++-8.3.1-5.el8.0.2.x86_64                    20/202 \n",
      "  Upgrading        : libuuid-2.32.1-22.el8.x86_64                        21/202 \n",
      "  Running scriptlet: libuuid-2.32.1-22.el8.x86_64                        21/202 \n",
      "  Upgrading        : libblkid-2.32.1-22.el8.x86_64                       22/202 \n",
      "  Running scriptlet: libblkid-2.32.1-22.el8.x86_64                       22/202 \n",
      "  Upgrading        : libmount-2.32.1-22.el8.x86_64                       23/202 \n",
      "  Running scriptlet: libmount-2.32.1-22.el8.x86_64                       23/202 \n",
      "  Upgrading        : systemd-libs-239-30.el8_2.x86_64                    24/202 \n",
      "  Running scriptlet: systemd-libs-239-30.el8_2.x86_64                    24/202 \n",
      "  Upgrading        : info-6.5-6.el8.x86_64                               25/202 \n",
      "  Upgrading        : sqlite-libs-3.26.0-6.el8.x86_64                     26/202 \n",
      "  Upgrading        : libcom_err-1.45.4-3.el8.x86_64                      27/202 \n",
      "  Running scriptlet: libcom_err-1.45.4-3.el8.x86_64                      27/202 \n",
      "  Upgrading        : libsmartcols-2.32.1-22.el8.x86_64                   28/202 \n",
      "  Running scriptlet: libsmartcols-2.32.1-22.el8.x86_64                   28/202 \n",
      "  Upgrading        : file-libs-5.33-13.el8.x86_64                        29/202 \n",
      "  Upgrading        : libcap-ng-0.7.9-5.el8.x86_64                        30/202 \n",
      "  Upgrading        : audit-libs-3.0-0.17.20191104git1c2f876.el8.x86_6    31/202 \n",
      "  Installing       : libgomp-8.3.1-5.el8.0.2.x86_64                      32/202 \n",
      "  Running scriptlet: libgomp-8.3.1-5.el8.0.2.x86_64                      32/202 \n",
      "  Upgrading        : iproute-5.3.0-1.el8.x86_64                          33/202 \n",
      "  Installing       : file-5.33-13.el8.x86_64                             34/202 \n",
      "  Installing       : diffutils-3.6-6.el8.x86_64                          35/202 \n",
      "  Running scriptlet: diffutils-3.6-6.el8.x86_64                          35/202 \n",
      "  Upgrading        : dhcp-libs-12:4.3.6-40.el8.x86_64                    36/202 \n",
      "  Upgrading        : libfdisk-2.32.1-22.el8.x86_64                       37/202 \n"
     ]
    },
    {
     "name": "stdout",
     "output_type": "stream",
     "text": [
      "  Running scriptlet: libfdisk-2.32.1-22.el8.x86_64                       37/202 \n",
      "  Upgrading        : libcomps-0.1.11-4.el8.x86_64                        38/202 \n",
      "  Installing       : pigz-2.4-4.el8.x86_64                               39/202 \n",
      "  Installing       : libmaxminddb-1.2.0-7.el8.x86_64                     40/202 \n",
      "  Running scriptlet: libmaxminddb-1.2.0-7.el8.x86_64                     40/202 \n",
      "  Upgrading        : ipcalc-0.2.4-4.el8.x86_64                           41/202 \n",
      "  Installing       : hardlink-1:1.3-6.el8.x86_64                         42/202 \n",
      "  Installing       : which-2.21-12.el8.x86_64                            43/202 \n",
      "  Upgrading        : iptables-libs-1.8.4-10.el8.x86_64                   44/202 \n",
      "  Upgrading        : libreport-filesystem-2.9.5-10.el8.x86_64            45/202 \n",
      "  Upgrading        : dnf-data-4.2.17-6.el8.noarch                        46/202 \n",
      "  Upgrading        : dhcp-common-12:4.3.6-40.el8.noarch                  47/202 \n",
      "  Installing       : kbd-misc-2.0.4-8.el8.noarch                         48/202 \n",
      "  Installing       : kbd-legacy-2.0.4-8.el8.noarch                       49/202 \n",
      "  Installing       : cracklib-dicts-2.9.6-15.el8.x86_64                  50/202 \n",
      "  Upgrading        : pam-1.3.1-8.el8.x86_64                              51/202 \n",
      "  Running scriptlet: pam-1.3.1-8.el8.x86_64                              51/202 \n",
      "  Upgrading        : util-linux-2.32.1-22.el8.x86_64                     52/202 \n",
      "  Running scriptlet: util-linux-2.32.1-22.el8.x86_64                     52/202 \n",
      "  Installing       : kbd-2.0.4-8.el8.x86_64                              53/202 \n",
      "  Installing       : xkeyboard-config-2.28-1.el8.noarch                  54/202 \n",
      "  Installing       : libxkbcommon-0.9.1-1.el8.x86_64                     55/202 \n",
      "  Upgrading        : krb5-libs-1.17-18.el8.x86_64                        56/202 \n",
      "  Installing       : grub2-tools-minimal-1:2.02-81.el8.x86_64            57/202 \n",
      "  Upgrading        : libcurl-minimal-7.61.1-12.el8.x86_64                58/202 \n",
      "  Installing       : elfutils-debuginfod-client-0.178-7.el8.x86_64       59/202 \n",
      "  Upgrading        : platform-python-pip-9.0.3-16.el8.noarch             60/202 \n",
      "  Upgrading        : python3-libs-3.6.8-23.el8.x86_64                    61/202 \n",
      "  Upgrading        : elfutils-default-yama-scope-0.178-7.el8.noarch      62/202 \n",
      "  Running scriptlet: elfutils-default-yama-scope-0.178-7.el8.noarch      62/202 \n",
      "  Upgrading        : elfutils-libs-0.178-7.el8.x86_64                    63/202 \n",
      "  Installing       : openssl-1:1.1.1c-15.el8.x86_64                      64/202 \n",
      "  Upgrading        : libarchive-3.3.2-8.el8_1.x86_64                     65/202 \n",
      "  Upgrading        : curl-7.61.1-12.el8.x86_64                           66/202 \n",
      "  Upgrading        : platform-python-3.6.8-23.el8.x86_64                 67/202 \n",
      "  Running scriptlet: platform-python-3.6.8-23.el8.x86_64                 67/202 \n",
      "  Installing       : grubby-8.40-38.el8.x86_64                           68/202 \n",
      "  Upgrading        : crypto-policies-20191128-2.git23e1bf1.el8.noarch    69/202 \n",
      "  Installing       : kpartx-0.8.3-3.el8.x86_64                           70/202 \n",
      "  Upgrading        : device-mapper-8:1.02.169-3.el8.x86_64               71/202 \n",
      "  Upgrading        : device-mapper-libs-8:1.02.169-3.el8.x86_64          72/202 \n",
      "  Upgrading        : systemd-pam-239-30.el8_2.x86_64                     73/202 \n",
      "  Installing       : openssl-pkcs11-0.4.10-2.el8.x86_64                  74/202 \n",
      "  Upgrading        : openssl-libs-1:1.1.1c-15.el8.x86_64                 75/202 \n",
      "  Running scriptlet: openssl-libs-1:1.1.1c-15.el8.x86_64                 75/202 \n",
      "  Upgrading        : kmod-25-16.el8.x86_64                               76/202 \n",
      "  Upgrading        : kmod-libs-25-16.el8.x86_64                          77/202 \n",
      "  Running scriptlet: kmod-libs-25-16.el8.x86_64                          77/202 \n",
      "  Upgrading        : cryptsetup-libs-2.2.2-1.el8.x86_64                  78/202 \n",
      "  Running scriptlet: cryptsetup-libs-2.2.2-1.el8.x86_64                  78/202 \n",
      "  Installing       : trousers-lib-0.3.14-4.el8.x86_64                    79/202 \n",
      "  Running scriptlet: trousers-lib-0.3.14-4.el8.x86_64                    79/202 \n",
      "  Installing       : gettext-libs-0.19.8.1-17.el8.x86_64                 80/202 \n",
      "  Installing       : libcroco-0.6.12-4.el8.x86_64                        81/202 \n",
      "  Running scriptlet: libcroco-0.6.12-4.el8.x86_64                        81/202 \n",
      "  Upgrading        : gnutls-3.6.8-10.el8_2.x86_64                        82/202 \n",
      "  Running scriptlet: systemd-239-30.el8_2.x86_64                         83/202 \n",
      "  Upgrading        : systemd-239-30.el8_2.x86_64                         83/202 \n",
      "  Running scriptlet: systemd-239-30.el8_2.x86_64                         83/202 \n",
      "  Upgrading        : systemd-udev-239-30.el8_2.x86_64                    84/202 \n",
      "  Running scriptlet: systemd-udev-239-30.el8_2.x86_64                    84/202 \n",
      "  Upgrading        : dracut-049-70.git20200228.el8.x86_64                85/202 \n",
      "  Installing       : os-prober-1.74-6.el8.x86_64                         86/202 \n",
      "  Running scriptlet: trousers-0.3.14-4.el8.x86_64                        87/202 \n",
      "  Installing       : trousers-0.3.14-4.el8.x86_64                        87/202 \n",
      "  Running scriptlet: trousers-0.3.14-4.el8.x86_64                        87/202 \n",
      "  Upgrading        : rpm-4.14.2-37.el8.x86_64                            88/202 \n",
      "  Upgrading        : rpm-libs-4.14.2-37.el8.x86_64                       89/202 \n",
      "  Running scriptlet: rpm-libs-4.14.2-37.el8.x86_64                       89/202 \n",
      "  Installing       : gettext-0.19.8.1-17.el8.x86_64                      90/202 \n",
      "  Running scriptlet: gettext-0.19.8.1-17.el8.x86_64                      90/202 \n",
      "  Running scriptlet: grub2-tools-1:2.02-81.el8.x86_64                    91/202 \n",
      "  Installing       : grub2-tools-1:2.02-81.el8.x86_64                    91/202 \n",
      "  Running scriptlet: grub2-tools-1:2.02-81.el8.x86_64                    91/202 \n",
      "  Upgrading        : glib2-2.56.4-8.el8.x86_64                           92/202 \n",
      "  Installing       : shared-mime-info-1.9-3.el8.x86_64                   93/202 \n",
      "  Running scriptlet: shared-mime-info-1.9-3.el8.x86_64                   93/202 \n",
      "  Upgrading        : libmodulemd1-1.8.16-0.2.8.2.1.x86_64                94/202 \n",
      "  Upgrading        : librepo-1.11.0-2.el8.x86_64                         95/202 \n",
      "  Upgrading        : libsolv-0.7.7-1.el8.x86_64                          96/202 \n",
      "  Upgrading        : libdnf-0.39.1-5.el8.x86_64                          97/202 \n",
      "  Upgrading        : python3-libdnf-0.39.1-5.el8.x86_64                  98/202 \n",
      "  Installing       : libevent-2.1.8-5.el8.x86_64                         99/202 \n",
      "  Running scriptlet: unbound-libs-1.7.3-11.el8_2.x86_64                 100/202 \n",
      "  Installing       : unbound-libs-1.7.3-11.el8_2.x86_64                 100/202 \n",
      "  Running scriptlet: unbound-libs-1.7.3-11.el8_2.x86_64                 100/202 \n",
      "  Installing       : python3-unbound-1.7.3-11.el8_2.x86_64              101/202 \n",
      "  Upgrading        : python3-hawkey-0.39.1-5.el8.x86_64                 102/202 \n",
      "  Installing       : rpm-plugin-systemd-inhibit-4.14.2-37.el8.x86_64    103/202 \n",
      "  Upgrading        : rpm-build-libs-4.14.2-37.el8.x86_64                104/202 \n",
      "  Running scriptlet: rpm-build-libs-4.14.2-37.el8.x86_64                104/202 \n",
      "  Upgrading        : python3-rpm-4.14.2-37.el8.x86_64                   105/202 \n",
      "  Upgrading        : dracut-squash-049-70.git20200228.el8.x86_64        106/202 \n",
      "  Upgrading        : bind-export-libs-32:9.11.13-3.el8.x86_64           107/202 \n",
      "  Running scriptlet: bind-export-libs-32:9.11.13-3.el8.x86_64           107/202 \n",
      "  Upgrading        : dhcp-client-12:4.3.6-40.el8.x86_64                 108/202 \n",
      "  Upgrading        : dracut-network-049-70.git20200228.el8.x86_64       109/202 \n",
      "  Upgrading        : python3-libcomps-0.1.11-4.el8.x86_64               110/202 \n",
      "  Upgrading        : python3-dnf-4.2.17-6.el8.noarch                    111/202 \n",
      "  Upgrading        : dnf-4.2.17-6.el8.noarch                            112/202 \n",
      "  Running scriptlet: dnf-4.2.17-6.el8.noarch                            112/202 \n",
      "  Upgrading        : yum-4.2.17-6.el8.noarch                            113/202 \n"
     ]
    },
    {
     "name": "stdout",
     "output_type": "stream",
     "text": [
      "  Upgrading        : kexec-tools-2.0.20-14.el8.x86_64                   114/202 \n",
      "  Running scriptlet: kexec-tools-2.0.20-14.el8.x86_64                   114/202 \n",
      "  Upgrading        : openldap-2.4.46-11.el8_1.x86_64                    115/202 \n",
      "  Upgrading        : libsemanage-2.9-2.el8.x86_64                       116/202 \n",
      "  Upgrading        : binutils-2.30-73.el8.x86_64                        117/202 \n",
      "  Running scriptlet: binutils-2.30-73.el8.x86_64                        117/202 \n",
      "  Upgrading        : glibc-minimal-langpack-2.28-101.el8.x86_64         118/202 \n",
      "  Upgrading        : setup-2.12.2-5.el8.noarch                          119/202 \n",
      "warning: /etc/shadow created as /etc/shadow.rpmnew\n",
      "\n",
      "  Running scriptlet: setup-2.12.2-5.el8.noarch                          119/202 \n",
      "  Running scriptlet: kexec-tools-2.0.19-12.el8_1.1.x86_64               120/202 \n",
      "  Cleanup          : kexec-tools-2.0.19-12.el8_1.1.x86_64               120/202 \n",
      "  Running scriptlet: kexec-tools-2.0.19-12.el8_1.1.x86_64               120/202 \n",
      "  Running scriptlet: binutils-2.30-58.el8.0.1.x86_64                    121/202 \n",
      "  Cleanup          : binutils-2.30-58.el8.0.1.x86_64                    121/202 \n",
      "  Running scriptlet: binutils-2.30-58.el8.0.1.x86_64                    121/202 \n",
      "  Cleanup          : device-mapper-8:1.02.163-5.el8.0.1.x86_64          122/202 \n",
      "  Cleanup          : openldap-2.4.46-10.el8.x86_64                      123/202 \n",
      "  Cleanup          : libsemanage-2.9-1.el8.x86_64                       124/202 \n",
      "  Cleanup          : dracut-network-049-27.git20190906.el8_1.1.x86_64   125/202 \n",
      "  Cleanup          : dhcp-client-12:4.3.6-34.el8.x86_64                 126/202 \n",
      "  Cleanup          : dhcp-libs-12:4.3.6-34.el8.x86_64                   127/202 \n",
      "  Cleanup          : dracut-squash-049-27.git20190906.el8_1.1.x86_64    128/202 \n",
      "  Cleanup          : yum-4.2.7-7.el8_1.noarch                           129/202 \n",
      "  Running scriptlet: dnf-4.2.7-7.el8_1.noarch                           130/202 \n",
      "  Cleanup          : dnf-4.2.7-7.el8_1.noarch                           130/202 \n",
      "  Running scriptlet: dnf-4.2.7-7.el8_1.noarch                           130/202 \n",
      "  Cleanup          : python3-dnf-4.2.7-7.el8_1.noarch                   131/202 \n",
      "  Cleanup          : dnf-data-4.2.7-7.el8_1.noarch                      132/202 \n",
      "  Cleanup          : setup-2.12.2-2.el8_1.1.noarch                      133/202 \n",
      "  Cleanup          : python3-hawkey-0.35.1-9.el8_1.x86_64               134/202 \n",
      "  Cleanup          : python3-libdnf-0.35.1-9.el8_1.x86_64               135/202 \n",
      "  Cleanup          : libdnf-0.35.1-9.el8_1.x86_64                       136/202 \n",
      "  Cleanup          : python3-rpm-4.14.2-25.el8.x86_64                   137/202 \n",
      "  Cleanup          : rpm-build-libs-4.14.2-25.el8.x86_64                138/202 \n",
      "  Running scriptlet: rpm-build-libs-4.14.2-25.el8.x86_64                138/202 \n",
      "  Cleanup          : libstdc++-8.3.1-4.5.el8.x86_64                     139/202 \n",
      "  Running scriptlet: libstdc++-8.3.1-4.5.el8.x86_64                     139/202 \n",
      "  Cleanup          : dracut-049-27.git20190906.el8_1.1.x86_64           140/202 \n",
      "  Cleanup          : systemd-udev-239-18.el8_1.1.x86_64                 141/202 \n",
      "  Running scriptlet: systemd-udev-239-18.el8_1.1.x86_64                 141/202 \n",
      "  Cleanup          : elfutils-default-yama-scope-0.176-5.el8.noarch     142/202 \n",
      "  Running scriptlet: systemd-239-18.el8_1.1.x86_64                      143/202 \n",
      "  Cleanup          : systemd-239-18.el8_1.1.x86_64                      143/202 \n",
      "  Cleanup          : elfutils-libs-0.176-5.el8.x86_64                   144/202 \n",
      "  Cleanup          : util-linux-2.32.1-17.el8.x86_64                    145/202 \n",
      "  Cleanup          : systemd-pam-239-18.el8_1.1.x86_64                  146/202 \n",
      "  Cleanup          : cryptsetup-libs-2.2.0-2.el8.x86_64                 147/202 \n",
      "  Running scriptlet: cryptsetup-libs-2.2.0-2.el8.x86_64                 147/202 \n",
      "  Cleanup          : pam-1.3.1-4.el8.x86_64                             148/202 \n",
      "  Running scriptlet: pam-1.3.1-4.el8.x86_64                             148/202 \n",
      "  Cleanup          : libfdisk-2.32.1-17.el8.x86_64                      149/202 \n",
      "  Running scriptlet: libfdisk-2.32.1-17.el8.x86_64                      149/202 \n",
      "  Cleanup          : bind-export-libs-32:9.11.4-26.P2.el8.x86_64        150/202 \n",
      "  Running scriptlet: bind-export-libs-32:9.11.4-26.P2.el8.x86_64        150/202 \n",
      "  Cleanup          : device-mapper-libs-8:1.02.163-5.el8.0.1.x86_64     151/202 \n",
      "  Cleanup          : systemd-libs-239-18.el8_1.1.x86_64                 152/202 \n",
      "  Cleanup          : kmod-libs-25-13.el8.x86_64                         153/202 \n",
      "  Running scriptlet: kmod-libs-25-13.el8.x86_64                         153/202 \n",
      "  Cleanup          : librepo-1.10.3-3.el8.x86_64                        154/202 \n",
      "  Cleanup          : libsolv-0.7.4-3.el8.x86_64                         155/202 \n",
      "  Cleanup          : rpm-4.14.2-25.el8.x86_64                           156/202 \n",
      "  Cleanup          : rpm-libs-4.14.2-25.el8.x86_64                      157/202 \n",
      "  Running scriptlet: rpm-libs-4.14.2-25.el8.x86_64                      157/202 \n",
      "  Cleanup          : libarchive-3.3.2-7.el8.x86_64                      158/202 \n",
      "  Cleanup          : iproute-4.18.0-15.el8.x86_64                       159/202 \n",
      "  Cleanup          : curl-7.61.1-11.el8.x86_64                          160/202 \n",
      "  Cleanup          : libcurl-minimal-7.61.1-11.el8.x86_64               161/202 \n",
      "  Cleanup          : krb5-libs-1.17-9.el8.x86_64                        162/202 \n",
      "  Cleanup          : libsmartcols-2.32.1-17.el8.x86_64                  163/202 \n",
      "  Running scriptlet: libsmartcols-2.32.1-17.el8.x86_64                  163/202 \n",
      "  Cleanup          : kmod-25-13.el8.x86_64                              164/202 \n",
      "  Cleanup          : python3-libcomps-0.1.11-2.el8.x86_64               165/202 \n",
      "  Cleanup          : python3-libs-3.6.8-15.1.el8.x86_64                 166/202 \n",
      "  Cleanup          : platform-python-3.6.8-15.1.el8.x86_64              167/202 \n",
      "  Running scriptlet: platform-python-3.6.8-15.1.el8.x86_64              167/202 \n",
      "  Cleanup          : openssl-libs-1:1.1.1c-2.el8.x86_64                 168/202 \n",
      "  Running scriptlet: openssl-libs-1:1.1.1c-2.el8.x86_64                 168/202 \n",
      "  Cleanup          : libcomps-0.1.11-2.el8.x86_64                       169/202 \n",
      "  Cleanup          : libxml2-2.9.7-5.el8.x86_64                         170/202 \n",
      "  Cleanup          : sqlite-libs-3.26.0-3.el8.x86_64                    171/202 \n",
      "  Cleanup          : libcom_err-1.44.6-3.el8.x86_64                     172/202 \n",
      "  Running scriptlet: libcom_err-1.44.6-3.el8.x86_64                     172/202 \n",
      "  Cleanup          : iptables-libs-1.8.2-16.el8.x86_64                  173/202 \n",
      "  Cleanup          : file-libs-5.33-8.el8.x86_64                        174/202 \n",
      "  Cleanup          : libmodulemd1-1.8.11-4.el8_1.x86_64                 175/202 \n",
      "  Cleanup          : glib2-2.56.4-7.el8.x86_64                          176/202 \n",
      "  Cleanup          : libmount-2.32.1-17.el8.x86_64                      177/202 \n",
      "  Running scriptlet: libmount-2.32.1-17.el8.x86_64                      177/202 \n",
      "  Cleanup          : libblkid-2.32.1-17.el8.x86_64                      178/202 \n",
      "  Running scriptlet: libblkid-2.32.1-17.el8.x86_64                      178/202 \n",
      "  Cleanup          : gnutls-3.6.8-8.el8.x86_64                          179/202 \n",
      "  Cleanup          : libuuid-2.32.1-17.el8.x86_64                       180/202 \n",
      "  Running scriptlet: libuuid-2.32.1-17.el8.x86_64                       180/202 \n",
      "  Cleanup          : elfutils-libelf-0.176-5.el8.x86_64                 181/202 \n",
      "  Cleanup          : ipcalc-0.2.4-3.el8.x86_64                          182/202 \n",
      "  Cleanup          : info-6.5-4.el8.x86_64                              183/202 \n",
      "  Cleanup          : crypto-policies-20190807-1.git9b1477b.el8.noarch   184/202 \n",
      "  Cleanup          : centos-release-8.1-1.1911.0.8.el8.x86_64           185/202 \n",
      "  Cleanup          : centos-repos-8.1-1.1911.0.8.el8.x86_64             186/202 \n",
      "  Cleanup          : centos-gpg-keys-8.1-1.1911.0.8.el8.noarch          187/202 \n",
      "  Cleanup          : platform-python-pip-9.0.3-15.el8.noarch            188/202 \n"
     ]
    },
    {
     "name": "stdout",
     "output_type": "stream",
     "text": [
      "  Cleanup          : python3-pip-wheel-9.0.3-15.el8.noarch              189/202 \n",
      "  Cleanup          : libreport-filesystem-2.9.5-9.el8.x86_64            190/202 \n",
      "  Cleanup          : dhcp-common-12:4.3.6-34.el8.noarch                 191/202 \n",
      "  Cleanup          : coreutils-single-8.30-6.el8.x86_64                 192/202 \n",
      "  Cleanup          : libcap-2.26-1.el8.x86_64                           193/202 \n",
      "  Cleanup          : audit-libs-3.0-0.10.20180831git0047a6c.el8.x86_6   194/202 \n",
      "  Cleanup          : libcap-ng-0.7.9-4.el8.x86_64                       195/202 \n",
      "  Cleanup          : zlib-1.2.11-10.el8.x86_64                          196/202 \n",
      "  Cleanup          : libselinux-2.9-2.1.el8.x86_64                      197/202 \n",
      "  Cleanup          : glibc-2.28-72.el8.x86_64                           198/202 \n",
      "  Cleanup          : glibc-minimal-langpack-2.28-72.el8.x86_64          199/202 \n",
      "  Cleanup          : glibc-common-2.28-72.el8.x86_64                    200/202 \n",
      "  Cleanup          : tzdata-2019c-1.el8.noarch                          201/202 \n",
      "  Cleanup          : libgcc-8.3.1-4.5.el8.x86_64                        202/202 \n",
      "  Running scriptlet: libgcc-8.3.1-4.5.el8.x86_64                        202/202 \n",
      "  Running scriptlet: crypto-policies-20191128-2.git23e1bf1.el8.noarch   202/202 \n",
      "  Running scriptlet: libgcc-8.3.1-4.5.el8.x86_64                        202/202 \n",
      "  Running scriptlet: glibc-common-2.28-101.el8.x86_64                   202/202 \n",
      "  Running scriptlet: info-6.5-6.el8.x86_64                              202/202 \n",
      "  Running scriptlet: systemd-239-30.el8_2.x86_64                        202/202 \n",
      "  Running scriptlet: systemd-udev-239-30.el8_2.x86_64                   202/202 \n",
      "  Running scriptlet: glib2-2.56.4-8.el8.x86_64                          202/202 \n",
      "  Running scriptlet: shared-mime-info-1.9-3.el8.x86_64                  202/202 \n",
      "  Verifying        : elfutils-debuginfod-client-0.178-7.el8.x86_64        1/202 \n",
      "  Verifying        : geolite2-city-20180605-1.el8.noarch                  2/202 \n",
      "  Verifying        : geolite2-country-20180605-1.el8.noarch               3/202 \n",
      "  Verifying        : libmaxminddb-1.2.0-7.el8.x86_64                      4/202 \n",
      "  Verifying        : libxkbcommon-0.9.1-1.el8.x86_64                      5/202 \n",
      "  Verifying        : python3-unbound-1.7.3-11.el8_2.x86_64                6/202 \n",
      "  Verifying        : unbound-libs-1.7.3-11.el8_2.x86_64                   7/202 \n",
      "  Verifying        : xkeyboard-config-2.28-1.el8.noarch                   8/202 \n",
      "  Verifying        : cracklib-dicts-2.9.6-15.el8.x86_64                   9/202 \n",
      "  Verifying        : diffutils-3.6-6.el8.x86_64                          10/202 \n",
      "  Verifying        : file-5.33-13.el8.x86_64                             11/202 \n",
      "  Verifying        : gettext-0.19.8.1-17.el8.x86_64                      12/202 \n",
      "  Verifying        : gettext-libs-0.19.8.1-17.el8.x86_64                 13/202 \n",
      "  Verifying        : glibc-langpack-en-2.28-101.el8.x86_64               14/202 \n",
      "  Verifying        : grub2-common-1:2.02-81.el8.noarch                   15/202 \n",
      "  Verifying        : grub2-tools-1:2.02-81.el8.x86_64                    16/202 \n",
      "  Verifying        : grub2-tools-minimal-1:2.02-81.el8.x86_64            17/202 \n",
      "  Verifying        : grubby-8.40-38.el8.x86_64                           18/202 \n",
      "  Verifying        : hardlink-1:1.3-6.el8.x86_64                         19/202 \n",
      "  Verifying        : kbd-2.0.4-8.el8.x86_64                              20/202 \n",
      "  Verifying        : kbd-legacy-2.0.4-8.el8.noarch                       21/202 \n",
      "  Verifying        : kbd-misc-2.0.4-8.el8.noarch                         22/202 \n",
      "  Verifying        : kpartx-0.8.3-3.el8.x86_64                           23/202 \n",
      "  Verifying        : libcroco-0.6.12-4.el8.x86_64                        24/202 \n",
      "  Verifying        : libevent-2.1.8-5.el8.x86_64                         25/202 \n",
      "  Verifying        : libgomp-8.3.1-5.el8.0.2.x86_64                      26/202 \n",
      "  Verifying        : libzstd-1.4.2-2.el8.x86_64                          27/202 \n",
      "  Verifying        : openssl-1:1.1.1c-15.el8.x86_64                      28/202 \n",
      "  Verifying        : openssl-pkcs11-0.4.10-2.el8.x86_64                  29/202 \n",
      "  Verifying        : os-prober-1.74-6.el8.x86_64                         30/202 \n",
      "  Verifying        : pigz-2.4-4.el8.x86_64                               31/202 \n",
      "  Verifying        : rpm-plugin-systemd-inhibit-4.14.2-37.el8.x86_64     32/202 \n",
      "  Verifying        : shared-mime-info-1.9-3.el8.x86_64                   33/202 \n",
      "  Verifying        : trousers-0.3.14-4.el8.x86_64                        34/202 \n",
      "  Verifying        : trousers-lib-0.3.14-4.el8.x86_64                    35/202 \n",
      "  Verifying        : which-2.21-12.el8.x86_64                            36/202 \n",
      "  Verifying        : audit-libs-3.0-0.17.20191104git1c2f876.el8.x86_6    37/202 \n",
      "  Verifying        : audit-libs-3.0-0.10.20180831git0047a6c.el8.x86_6    38/202 \n",
      "  Verifying        : bind-export-libs-32:9.11.13-3.el8.x86_64            39/202 \n",
      "  Verifying        : bind-export-libs-32:9.11.4-26.P2.el8.x86_64         40/202 \n",
      "  Verifying        : binutils-2.30-73.el8.x86_64                         41/202 \n",
      "  Verifying        : binutils-2.30-58.el8.0.1.x86_64                     42/202 \n",
      "  Verifying        : centos-gpg-keys-8.2-2.2004.0.1.el8.noarch           43/202 \n",
      "  Verifying        : centos-gpg-keys-8.1-1.1911.0.8.el8.noarch           44/202 \n",
      "  Verifying        : centos-release-8.2-2.2004.0.1.el8.x86_64            45/202 \n",
      "  Verifying        : centos-release-8.1-1.1911.0.8.el8.x86_64            46/202 \n",
      "  Verifying        : centos-repos-8.2-2.2004.0.1.el8.x86_64              47/202 \n",
      "  Verifying        : centos-repos-8.1-1.1911.0.8.el8.x86_64              48/202 \n",
      "  Verifying        : coreutils-single-8.30-7.el8_2.1.x86_64              49/202 \n",
      "  Verifying        : coreutils-single-8.30-6.el8.x86_64                  50/202 \n",
      "  Verifying        : crypto-policies-20191128-2.git23e1bf1.el8.noarch    51/202 \n",
      "  Verifying        : crypto-policies-20190807-1.git9b1477b.el8.noarch    52/202 \n",
      "  Verifying        : cryptsetup-libs-2.2.2-1.el8.x86_64                  53/202 \n",
      "  Verifying        : cryptsetup-libs-2.2.0-2.el8.x86_64                  54/202 \n",
      "  Verifying        : curl-7.61.1-12.el8.x86_64                           55/202 \n",
      "  Verifying        : curl-7.61.1-11.el8.x86_64                           56/202 \n",
      "  Verifying        : device-mapper-8:1.02.169-3.el8.x86_64               57/202 \n",
      "  Verifying        : device-mapper-8:1.02.163-5.el8.0.1.x86_64           58/202 \n",
      "  Verifying        : device-mapper-libs-8:1.02.169-3.el8.x86_64          59/202 \n",
      "  Verifying        : device-mapper-libs-8:1.02.163-5.el8.0.1.x86_64      60/202 \n",
      "  Verifying        : dhcp-client-12:4.3.6-40.el8.x86_64                  61/202 \n",
      "  Verifying        : dhcp-client-12:4.3.6-34.el8.x86_64                  62/202 \n",
      "  Verifying        : dhcp-common-12:4.3.6-40.el8.noarch                  63/202 \n",
      "  Verifying        : dhcp-common-12:4.3.6-34.el8.noarch                  64/202 \n",
      "  Verifying        : dhcp-libs-12:4.3.6-40.el8.x86_64                    65/202 \n",
      "  Verifying        : dhcp-libs-12:4.3.6-34.el8.x86_64                    66/202 \n",
      "  Verifying        : dnf-4.2.17-6.el8.noarch                             67/202 \n",
      "  Verifying        : dnf-4.2.7-7.el8_1.noarch                            68/202 \n",
      "  Verifying        : dnf-data-4.2.17-6.el8.noarch                        69/202 \n",
      "  Verifying        : dnf-data-4.2.7-7.el8_1.noarch                       70/202 \n",
      "  Verifying        : dracut-049-70.git20200228.el8.x86_64                71/202 \n",
      "  Verifying        : dracut-049-27.git20190906.el8_1.1.x86_64            72/202 \n",
      "  Verifying        : dracut-network-049-70.git20200228.el8.x86_64        73/202 \n",
      "  Verifying        : dracut-network-049-27.git20190906.el8_1.1.x86_64    74/202 \n",
      "  Verifying        : dracut-squash-049-70.git20200228.el8.x86_64         75/202 \n",
      "  Verifying        : dracut-squash-049-27.git20190906.el8_1.1.x86_64     76/202 \n",
      "  Verifying        : elfutils-default-yama-scope-0.178-7.el8.noarch      77/202 \n",
      "  Verifying        : elfutils-default-yama-scope-0.176-5.el8.noarch      78/202 \n",
      "  Verifying        : elfutils-libelf-0.178-7.el8.x86_64                  79/202 \n"
     ]
    },
    {
     "name": "stdout",
     "output_type": "stream",
     "text": [
      "  Verifying        : elfutils-libelf-0.176-5.el8.x86_64                  80/202 \n",
      "  Verifying        : elfutils-libs-0.178-7.el8.x86_64                    81/202 \n",
      "  Verifying        : elfutils-libs-0.176-5.el8.x86_64                    82/202 \n",
      "  Verifying        : file-libs-5.33-13.el8.x86_64                        83/202 \n",
      "  Verifying        : file-libs-5.33-8.el8.x86_64                         84/202 \n",
      "  Verifying        : glib2-2.56.4-8.el8.x86_64                           85/202 \n",
      "  Verifying        : glib2-2.56.4-7.el8.x86_64                           86/202 \n",
      "  Verifying        : glibc-2.28-101.el8.x86_64                           87/202 \n",
      "  Verifying        : glibc-2.28-72.el8.x86_64                            88/202 \n",
      "  Verifying        : glibc-common-2.28-101.el8.x86_64                    89/202 \n",
      "  Verifying        : glibc-common-2.28-72.el8.x86_64                     90/202 \n",
      "  Verifying        : glibc-minimal-langpack-2.28-101.el8.x86_64          91/202 \n",
      "  Verifying        : glibc-minimal-langpack-2.28-72.el8.x86_64           92/202 \n",
      "  Verifying        : gnutls-3.6.8-10.el8_2.x86_64                        93/202 \n",
      "  Verifying        : gnutls-3.6.8-8.el8.x86_64                           94/202 \n",
      "  Verifying        : info-6.5-6.el8.x86_64                               95/202 \n",
      "  Verifying        : info-6.5-4.el8.x86_64                               96/202 \n",
      "  Verifying        : ipcalc-0.2.4-4.el8.x86_64                           97/202 \n",
      "  Verifying        : ipcalc-0.2.4-3.el8.x86_64                           98/202 \n",
      "  Verifying        : iproute-5.3.0-1.el8.x86_64                          99/202 \n",
      "  Verifying        : iproute-4.18.0-15.el8.x86_64                       100/202 \n",
      "  Verifying        : iptables-libs-1.8.4-10.el8.x86_64                  101/202 \n",
      "  Verifying        : iptables-libs-1.8.2-16.el8.x86_64                  102/202 \n",
      "  Verifying        : kexec-tools-2.0.20-14.el8.x86_64                   103/202 \n",
      "  Verifying        : kexec-tools-2.0.19-12.el8_1.1.x86_64               104/202 \n",
      "  Verifying        : kmod-25-16.el8.x86_64                              105/202 \n",
      "  Verifying        : kmod-25-13.el8.x86_64                              106/202 \n",
      "  Verifying        : kmod-libs-25-16.el8.x86_64                         107/202 \n",
      "  Verifying        : kmod-libs-25-13.el8.x86_64                         108/202 \n",
      "  Verifying        : krb5-libs-1.17-18.el8.x86_64                       109/202 \n",
      "  Verifying        : krb5-libs-1.17-9.el8.x86_64                        110/202 \n",
      "  Verifying        : libarchive-3.3.2-8.el8_1.x86_64                    111/202 \n",
      "  Verifying        : libarchive-3.3.2-7.el8.x86_64                      112/202 \n",
      "  Verifying        : libblkid-2.32.1-22.el8.x86_64                      113/202 \n",
      "  Verifying        : libblkid-2.32.1-17.el8.x86_64                      114/202 \n",
      "  Verifying        : libcap-2.26-3.el8.x86_64                           115/202 \n",
      "  Verifying        : libcap-2.26-1.el8.x86_64                           116/202 \n",
      "  Verifying        : libcap-ng-0.7.9-5.el8.x86_64                       117/202 \n",
      "  Verifying        : libcap-ng-0.7.9-4.el8.x86_64                       118/202 \n",
      "  Verifying        : libcom_err-1.45.4-3.el8.x86_64                     119/202 \n",
      "  Verifying        : libcom_err-1.44.6-3.el8.x86_64                     120/202 \n",
      "  Verifying        : libcomps-0.1.11-4.el8.x86_64                       121/202 \n",
      "  Verifying        : libcomps-0.1.11-2.el8.x86_64                       122/202 \n",
      "  Verifying        : libcurl-minimal-7.61.1-12.el8.x86_64               123/202 \n",
      "  Verifying        : libcurl-minimal-7.61.1-11.el8.x86_64               124/202 \n",
      "  Verifying        : libdnf-0.39.1-5.el8.x86_64                         125/202 \n",
      "  Verifying        : libdnf-0.35.1-9.el8_1.x86_64                       126/202 \n",
      "  Verifying        : libfdisk-2.32.1-22.el8.x86_64                      127/202 \n",
      "  Verifying        : libfdisk-2.32.1-17.el8.x86_64                      128/202 \n",
      "  Verifying        : libgcc-8.3.1-5.el8.0.2.x86_64                      129/202 \n",
      "  Verifying        : libgcc-8.3.1-4.5.el8.x86_64                        130/202 \n",
      "  Verifying        : libmodulemd1-1.8.16-0.2.8.2.1.x86_64               131/202 \n",
      "  Verifying        : libmodulemd1-1.8.11-4.el8_1.x86_64                 132/202 \n",
      "  Verifying        : libmount-2.32.1-22.el8.x86_64                      133/202 \n",
      "  Verifying        : libmount-2.32.1-17.el8.x86_64                      134/202 \n",
      "  Verifying        : librepo-1.11.0-2.el8.x86_64                        135/202 \n",
      "  Verifying        : librepo-1.10.3-3.el8.x86_64                        136/202 \n",
      "  Verifying        : libreport-filesystem-2.9.5-10.el8.x86_64           137/202 \n",
      "  Verifying        : libreport-filesystem-2.9.5-9.el8.x86_64            138/202 \n",
      "  Verifying        : libselinux-2.9-3.el8.x86_64                        139/202 \n",
      "  Verifying        : libselinux-2.9-2.1.el8.x86_64                      140/202 \n",
      "  Verifying        : libsemanage-2.9-2.el8.x86_64                       141/202 \n",
      "  Verifying        : libsemanage-2.9-1.el8.x86_64                       142/202 \n",
      "  Verifying        : libsmartcols-2.32.1-22.el8.x86_64                  143/202 \n",
      "  Verifying        : libsmartcols-2.32.1-17.el8.x86_64                  144/202 \n",
      "  Verifying        : libsolv-0.7.7-1.el8.x86_64                         145/202 \n",
      "  Verifying        : libsolv-0.7.4-3.el8.x86_64                         146/202 \n",
      "  Verifying        : libstdc++-8.3.1-5.el8.0.2.x86_64                   147/202 \n",
      "  Verifying        : libstdc++-8.3.1-4.5.el8.x86_64                     148/202 \n",
      "  Verifying        : libuuid-2.32.1-22.el8.x86_64                       149/202 \n",
      "  Verifying        : libuuid-2.32.1-17.el8.x86_64                       150/202 \n",
      "  Verifying        : libxml2-2.9.7-7.el8.x86_64                         151/202 \n",
      "  Verifying        : libxml2-2.9.7-5.el8.x86_64                         152/202 \n",
      "  Verifying        : openldap-2.4.46-11.el8_1.x86_64                    153/202 \n",
      "  Verifying        : openldap-2.4.46-10.el8.x86_64                      154/202 \n",
      "  Verifying        : openssl-libs-1:1.1.1c-15.el8.x86_64                155/202 \n",
      "  Verifying        : openssl-libs-1:1.1.1c-2.el8.x86_64                 156/202 \n",
      "  Verifying        : pam-1.3.1-8.el8.x86_64                             157/202 \n",
      "  Verifying        : pam-1.3.1-4.el8.x86_64                             158/202 \n",
      "  Verifying        : platform-python-3.6.8-23.el8.x86_64                159/202 \n",
      "  Verifying        : platform-python-3.6.8-15.1.el8.x86_64              160/202 \n",
      "  Verifying        : platform-python-pip-9.0.3-16.el8.noarch            161/202 \n",
      "  Verifying        : platform-python-pip-9.0.3-15.el8.noarch            162/202 \n",
      "  Verifying        : python3-dnf-4.2.17-6.el8.noarch                    163/202 \n",
      "  Verifying        : python3-dnf-4.2.7-7.el8_1.noarch                   164/202 \n",
      "  Verifying        : python3-hawkey-0.39.1-5.el8.x86_64                 165/202 \n",
      "  Verifying        : python3-hawkey-0.35.1-9.el8_1.x86_64               166/202 \n",
      "  Verifying        : python3-libcomps-0.1.11-4.el8.x86_64               167/202 \n",
      "  Verifying        : python3-libcomps-0.1.11-2.el8.x86_64               168/202 \n",
      "  Verifying        : python3-libdnf-0.39.1-5.el8.x86_64                 169/202 \n",
      "  Verifying        : python3-libdnf-0.35.1-9.el8_1.x86_64               170/202 \n",
      "  Verifying        : python3-libs-3.6.8-23.el8.x86_64                   171/202 \n",
      "  Verifying        : python3-libs-3.6.8-15.1.el8.x86_64                 172/202 \n",
      "  Verifying        : python3-pip-wheel-9.0.3-16.el8.noarch              173/202 \n",
      "  Verifying        : python3-pip-wheel-9.0.3-15.el8.noarch              174/202 \n",
      "  Verifying        : python3-rpm-4.14.2-37.el8.x86_64                   175/202 \n",
      "  Verifying        : python3-rpm-4.14.2-25.el8.x86_64                   176/202 \n",
      "  Verifying        : rpm-4.14.2-37.el8.x86_64                           177/202 \n",
      "  Verifying        : rpm-4.14.2-25.el8.x86_64                           178/202 \n",
      "  Verifying        : rpm-build-libs-4.14.2-37.el8.x86_64                179/202 \n",
      "  Verifying        : rpm-build-libs-4.14.2-25.el8.x86_64                180/202 \n",
      "  Verifying        : rpm-libs-4.14.2-37.el8.x86_64                      181/202 \n"
     ]
    },
    {
     "name": "stdout",
     "output_type": "stream",
     "text": [
      "  Verifying        : rpm-libs-4.14.2-25.el8.x86_64                      182/202 \n",
      "  Verifying        : setup-2.12.2-5.el8.noarch                          183/202 \n",
      "  Verifying        : setup-2.12.2-2.el8_1.1.noarch                      184/202 \n",
      "  Verifying        : sqlite-libs-3.26.0-6.el8.x86_64                    185/202 \n",
      "  Verifying        : sqlite-libs-3.26.0-3.el8.x86_64                    186/202 \n",
      "  Verifying        : systemd-239-30.el8_2.x86_64                        187/202 \n",
      "  Verifying        : systemd-239-18.el8_1.1.x86_64                      188/202 \n",
      "  Verifying        : systemd-libs-239-30.el8_2.x86_64                   189/202 \n",
      "  Verifying        : systemd-libs-239-18.el8_1.1.x86_64                 190/202 \n",
      "  Verifying        : systemd-pam-239-30.el8_2.x86_64                    191/202 \n",
      "  Verifying        : systemd-pam-239-18.el8_1.1.x86_64                  192/202 \n",
      "  Verifying        : systemd-udev-239-30.el8_2.x86_64                   193/202 \n",
      "  Verifying        : systemd-udev-239-18.el8_1.1.x86_64                 194/202 \n",
      "  Verifying        : tzdata-2020a-1.el8.noarch                          195/202 \n",
      "  Verifying        : tzdata-2019c-1.el8.noarch                          196/202 \n",
      "  Verifying        : util-linux-2.32.1-22.el8.x86_64                    197/202 \n",
      "  Verifying        : util-linux-2.32.1-17.el8.x86_64                    198/202 \n",
      "  Verifying        : yum-4.2.17-6.el8.noarch                            199/202 \n",
      "  Verifying        : yum-4.2.7-7.el8_1.noarch                           200/202 \n",
      "  Verifying        : zlib-1.2.11-13.el8.x86_64                          201/202 \n",
      "  Verifying        : zlib-1.2.11-10.el8.x86_64                          202/202 \n",
      "\n",
      "Upgraded:\n",
      "  audit-libs-3.0-0.17.20191104git1c2f876.el8.x86_64                             \n",
      "  bind-export-libs-32:9.11.13-3.el8.x86_64                                      \n",
      "  binutils-2.30-73.el8.x86_64                                                   \n",
      "  centos-gpg-keys-8.2-2.2004.0.1.el8.noarch                                     \n",
      "  centos-release-8.2-2.2004.0.1.el8.x86_64                                      \n",
      "  centos-repos-8.2-2.2004.0.1.el8.x86_64                                        \n",
      "  coreutils-single-8.30-7.el8_2.1.x86_64                                        \n",
      "  crypto-policies-20191128-2.git23e1bf1.el8.noarch                              \n",
      "  cryptsetup-libs-2.2.2-1.el8.x86_64                                            \n",
      "  curl-7.61.1-12.el8.x86_64                                                     \n",
      "  device-mapper-8:1.02.169-3.el8.x86_64                                         \n",
      "  device-mapper-libs-8:1.02.169-3.el8.x86_64                                    \n",
      "  dhcp-client-12:4.3.6-40.el8.x86_64                                            \n",
      "  dhcp-common-12:4.3.6-40.el8.noarch                                            \n",
      "  dhcp-libs-12:4.3.6-40.el8.x86_64                                              \n",
      "  dnf-4.2.17-6.el8.noarch                                                       \n",
      "  dnf-data-4.2.17-6.el8.noarch                                                  \n",
      "  dracut-049-70.git20200228.el8.x86_64                                          \n",
      "  dracut-network-049-70.git20200228.el8.x86_64                                  \n",
      "  dracut-squash-049-70.git20200228.el8.x86_64                                   \n",
      "  elfutils-default-yama-scope-0.178-7.el8.noarch                                \n",
      "  elfutils-libelf-0.178-7.el8.x86_64                                            \n",
      "  elfutils-libs-0.178-7.el8.x86_64                                              \n",
      "  file-libs-5.33-13.el8.x86_64                                                  \n",
      "  glib2-2.56.4-8.el8.x86_64                                                     \n",
      "  glibc-2.28-101.el8.x86_64                                                     \n",
      "  glibc-common-2.28-101.el8.x86_64                                              \n",
      "  glibc-minimal-langpack-2.28-101.el8.x86_64                                    \n",
      "  gnutls-3.6.8-10.el8_2.x86_64                                                  \n",
      "  info-6.5-6.el8.x86_64                                                         \n",
      "  ipcalc-0.2.4-4.el8.x86_64                                                     \n",
      "  iproute-5.3.0-1.el8.x86_64                                                    \n",
      "  iptables-libs-1.8.4-10.el8.x86_64                                             \n",
      "  kexec-tools-2.0.20-14.el8.x86_64                                              \n",
      "  kmod-25-16.el8.x86_64                                                         \n",
      "  kmod-libs-25-16.el8.x86_64                                                    \n",
      "  krb5-libs-1.17-18.el8.x86_64                                                  \n",
      "  libarchive-3.3.2-8.el8_1.x86_64                                               \n",
      "  libblkid-2.32.1-22.el8.x86_64                                                 \n",
      "  libcap-2.26-3.el8.x86_64                                                      \n",
      "  libcap-ng-0.7.9-5.el8.x86_64                                                  \n",
      "  libcom_err-1.45.4-3.el8.x86_64                                                \n",
      "  libcomps-0.1.11-4.el8.x86_64                                                  \n",
      "  libcurl-minimal-7.61.1-12.el8.x86_64                                          \n",
      "  libdnf-0.39.1-5.el8.x86_64                                                    \n",
      "  libfdisk-2.32.1-22.el8.x86_64                                                 \n",
      "  libgcc-8.3.1-5.el8.0.2.x86_64                                                 \n",
      "  libmodulemd1-1.8.16-0.2.8.2.1.x86_64                                          \n",
      "  libmount-2.32.1-22.el8.x86_64                                                 \n",
      "  librepo-1.11.0-2.el8.x86_64                                                   \n",
      "  libreport-filesystem-2.9.5-10.el8.x86_64                                      \n",
      "  libselinux-2.9-3.el8.x86_64                                                   \n",
      "  libsemanage-2.9-2.el8.x86_64                                                  \n",
      "  libsmartcols-2.32.1-22.el8.x86_64                                             \n",
      "  libsolv-0.7.7-1.el8.x86_64                                                    \n",
      "  libstdc++-8.3.1-5.el8.0.2.x86_64                                              \n",
      "  libuuid-2.32.1-22.el8.x86_64                                                  \n",
      "  libxml2-2.9.7-7.el8.x86_64                                                    \n",
      "  openldap-2.4.46-11.el8_1.x86_64                                               \n",
      "  openssl-libs-1:1.1.1c-15.el8.x86_64                                           \n",
      "  pam-1.3.1-8.el8.x86_64                                                        \n",
      "  platform-python-3.6.8-23.el8.x86_64                                           \n",
      "  platform-python-pip-9.0.3-16.el8.noarch                                       \n",
      "  python3-dnf-4.2.17-6.el8.noarch                                               \n",
      "  python3-hawkey-0.39.1-5.el8.x86_64                                            \n",
      "  python3-libcomps-0.1.11-4.el8.x86_64                                          \n",
      "  python3-libdnf-0.39.1-5.el8.x86_64                                            \n",
      "  python3-libs-3.6.8-23.el8.x86_64                                              \n",
      "  python3-pip-wheel-9.0.3-16.el8.noarch                                         \n",
      "  python3-rpm-4.14.2-37.el8.x86_64                                              \n",
      "  rpm-4.14.2-37.el8.x86_64                                                      \n",
      "  rpm-build-libs-4.14.2-37.el8.x86_64                                           \n",
      "  rpm-libs-4.14.2-37.el8.x86_64                                                 \n",
      "  setup-2.12.2-5.el8.noarch                                                     \n",
      "  sqlite-libs-3.26.0-6.el8.x86_64                                               \n",
      "  systemd-239-30.el8_2.x86_64                                                   \n",
      "  systemd-libs-239-30.el8_2.x86_64                                              \n",
      "  systemd-pam-239-30.el8_2.x86_64                                               \n",
      "  systemd-udev-239-30.el8_2.x86_64                                              \n",
      "  tzdata-2020a-1.el8.noarch                                                     \n",
      "  util-linux-2.32.1-22.el8.x86_64                                               \n"
     ]
    },
    {
     "name": "stdout",
     "output_type": "stream",
     "text": [
      "  yum-4.2.17-6.el8.noarch                                                       \n",
      "  zlib-1.2.11-13.el8.x86_64                                                     \n",
      "\n",
      "Installed:\n",
      "  elfutils-debuginfod-client-0.178-7.el8.x86_64                                 \n",
      "  geolite2-city-20180605-1.el8.noarch                                           \n",
      "  geolite2-country-20180605-1.el8.noarch                                        \n",
      "  libmaxminddb-1.2.0-7.el8.x86_64                                               \n",
      "  libxkbcommon-0.9.1-1.el8.x86_64                                               \n",
      "  python3-unbound-1.7.3-11.el8_2.x86_64                                         \n",
      "  cracklib-dicts-2.9.6-15.el8.x86_64                                            \n",
      "  diffutils-3.6-6.el8.x86_64                                                    \n",
      "  glibc-langpack-en-2.28-101.el8.x86_64                                         \n",
      "  grubby-8.40-38.el8.x86_64                                                     \n",
      "  hardlink-1:1.3-6.el8.x86_64                                                   \n",
      "  kbd-2.0.4-8.el8.x86_64                                                        \n",
      "  kpartx-0.8.3-3.el8.x86_64                                                     \n",
      "  openssl-pkcs11-0.4.10-2.el8.x86_64                                            \n",
      "  pigz-2.4-4.el8.x86_64                                                         \n",
      "  rpm-plugin-systemd-inhibit-4.14.2-37.el8.x86_64                               \n",
      "  shared-mime-info-1.9-3.el8.x86_64                                             \n",
      "  trousers-0.3.14-4.el8.x86_64                                                  \n",
      "  unbound-libs-1.7.3-11.el8_2.x86_64                                            \n",
      "  xkeyboard-config-2.28-1.el8.noarch                                            \n",
      "  file-5.33-13.el8.x86_64                                                       \n",
      "  gettext-0.19.8.1-17.el8.x86_64                                                \n",
      "  gettext-libs-0.19.8.1-17.el8.x86_64                                           \n",
      "  grub2-common-1:2.02-81.el8.noarch                                             \n",
      "  grub2-tools-1:2.02-81.el8.x86_64                                              \n",
      "  grub2-tools-minimal-1:2.02-81.el8.x86_64                                      \n",
      "  kbd-legacy-2.0.4-8.el8.noarch                                                 \n",
      "  kbd-misc-2.0.4-8.el8.noarch                                                   \n",
      "  libcroco-0.6.12-4.el8.x86_64                                                  \n",
      "  libevent-2.1.8-5.el8.x86_64                                                   \n",
      "  libgomp-8.3.1-5.el8.0.2.x86_64                                                \n",
      "  libzstd-1.4.2-2.el8.x86_64                                                    \n",
      "  openssl-1:1.1.1c-15.el8.x86_64                                                \n",
      "  os-prober-1.74-6.el8.x86_64                                                   \n",
      "  trousers-lib-0.3.14-4.el8.x86_64                                              \n",
      "  which-2.21-12.el8.x86_64                                                      \n",
      "\n",
      "Complete!\n"
     ]
    }
   ],
   "source": [
    "sudo docker container exec centos-demo yum update -y"
   ]
  },
  {
   "cell_type": "markdown",
   "metadata": {},
   "source": [
    "###  El repositorio *EPEL*.\n",
    "\n",
    "Este repositorio cuenta on paquetes extra para *RHEL* y es mantenido por Fedora.\n",
    "\n",
    "https://fedoraproject.org/wiki/EPEL"
   ]
  },
  {
   "cell_type": "code",
   "execution_count": 13,
   "metadata": {},
   "outputs": [
    {
     "name": "stdout",
     "output_type": "stream",
     "text": [
      "Last metadata expiration check: 0:04:25 ago on Thu Jun 18 13:39:52 2020.\n",
      "Dependencies resolved.\n",
      "================================================================================\n",
      " Package               Architecture    Version            Repository       Size\n",
      "================================================================================\n",
      "Installing:\n",
      " epel-release          noarch          8-8.el8            extras           23 k\n",
      "\n",
      "Transaction Summary\n",
      "================================================================================\n",
      "Install  1 Package\n",
      "\n",
      "Total download size: 23 k\n",
      "Installed size: 32 k\n",
      "Downloading Packages:\n",
      "epel-release-8-8.el8.noarch.rpm                  90 kB/s |  23 kB     00:00    \n",
      "--------------------------------------------------------------------------------\n",
      "Total                                            50 kB/s |  23 kB     00:00     \n",
      "Running transaction check\n",
      "Transaction check succeeded.\n",
      "Running transaction test\n",
      "Transaction test succeeded.\n",
      "Running transaction\n",
      "  Preparing        :                                                        1/1 \n",
      "  Installing       : epel-release-8-8.el8.noarch                            1/1 \n",
      "  Running scriptlet: epel-release-8-8.el8.noarch                            1/1 \n",
      "  Verifying        : epel-release-8-8.el8.noarch                            1/1 \n",
      "\n",
      "Installed:\n",
      "  epel-release-8-8.el8.noarch                                                   \n",
      "\n",
      "Complete!\n"
     ]
    }
   ],
   "source": [
    "sudo docker container exec centos-demo yum install epel-release -y"
   ]
  },
  {
   "cell_type": "code",
   "execution_count": 14,
   "metadata": {},
   "outputs": [
    {
     "name": "stdout",
     "output_type": "stream",
     "text": [
      "Extra Packages for Enterprise Linux Modular 8 - 124 kB/s | 119 kB     00:00    \n",
      "Extra Packages for Enterprise Linux 8 - x86_64  2.1 MB/s | 7.0 MB     00:03    \n",
      "Dependencies resolved.\n",
      "Nothing to do.\n",
      "Complete!\n"
     ]
    }
   ],
   "source": [
    "sudo docker container exec centos-demo yum update -y"
   ]
  },
  {
   "cell_type": "markdown",
   "metadata": {},
   "source": [
    "### Configuración de repositorios.\n",
    "\n",
    "El directorio ```/etc/yum.repos.d/``` contiene un conjunto de repositorios con extensión ```.repo``` al que se le pueden añadir repositorios adicionales."
   ]
  },
  {
   "cell_type": "code",
   "execution_count": 15,
   "metadata": {
    "scrolled": true
   },
   "outputs": [
    {
     "name": "stdout",
     "output_type": "stream",
     "text": [
      "CentOS-AppStream.repo\n",
      "CentOS-Base.repo\n",
      "CentOS-CR.repo\n",
      "CentOS-Debuginfo.repo\n",
      "CentOS-Devel.repo\n",
      "CentOS-Extras.repo\n",
      "CentOS-HA.repo\n",
      "CentOS-Media.repo\n",
      "CentOS-PowerTools.repo\n",
      "CentOS-Sources.repo\n",
      "CentOS-Vault.repo\n",
      "CentOS-centosplus.repo\n",
      "CentOS-fasttrack.repo\n",
      "epel-modular.repo\n",
      "epel-playground.repo\n",
      "epel-testing-modular.repo\n",
      "epel-testing.repo\n",
      "epel.repo\n"
     ]
    }
   ],
   "source": [
    "sudo docker container exec centos-demo ls /etc/yum.repos.d/"
   ]
  },
  {
   "cell_type": "code",
   "execution_count": 16,
   "metadata": {},
   "outputs": [
    {
     "name": "stdout",
     "output_type": "stream",
     "text": [
      "[epel]\n",
      "name=Extra Packages for Enterprise Linux $releasever - $basearch\n",
      "#baseurl=https://download.fedoraproject.org/pub/epel/$releasever/Everything/$basearch\n",
      "metalink=https://mirrors.fedoraproject.org/metalink?repo=epel-$releasever&arch=$basearch&infra=$infra&content=$contentdir\n",
      "enabled=1\n",
      "gpgcheck=1\n",
      "gpgkey=file:///etc/pki/rpm-gpg/RPM-GPG-KEY-EPEL-8\n",
      "\n",
      "[epel-debuginfo]\n",
      "name=Extra Packages for Enterprise Linux $releasever - $basearch - Debug\n",
      "#baseurl=https://download.fedoraproject.org/pub/epel/$releasever/Everything/$basearch/debug\n",
      "metalink=https://mirrors.fedoraproject.org/metalink?repo=epel-debug-$releasever&arch=$basearch&infra=$infra&content=$contentdir\n",
      "enabled=0\n",
      "gpgkey=file:///etc/pki/rpm-gpg/RPM-GPG-KEY-EPEL-8\n",
      "gpgcheck=1\n",
      "\n",
      "[epel-source]\n",
      "name=Extra Packages for Enterprise Linux $releasever - $basearch - Source\n",
      "#baseurl=https://download.fedoraproject.org/pub/epel/$releasever/Everything/SRPMS\n",
      "metalink=https://mirrors.fedoraproject.org/metalink?repo=epel-source-$releasever&arch=$basearch&infra=$infra&content=$contentdir\n",
      "enabled=0\n",
      "gpgkey=file:///etc/pki/rpm-gpg/RPM-GPG-KEY-EPEL-8\n",
      "gpgcheck=1\n"
     ]
    }
   ],
   "source": [
    "sudo docker container exec centos-demo cat /etc/yum.repos.d/epel.repo"
   ]
  },
  {
   "cell_type": "markdown",
   "metadata": {},
   "source": [
    "En versiones modernas de distribciones basadas en ```Red Hat```  El directorio ```/var/cache/dnf``` contiene a todos los archivos con extensión ```.rpm``` que son descargados al utilizar algún gestor de paquetes.\n",
    "\n",
    "En versiones menos recientes de distribciones basadas en ```Red Hat```  El directorio ```/var/cache/yum``` contiene a todos los archivos con extensión ```.rpm``` que son descargados al utilizar algún gestor de paquetes."
   ]
  },
  {
   "cell_type": "code",
   "execution_count": 21,
   "metadata": {
    "scrolled": true
   },
   "outputs": [
    {
     "name": "stdout",
     "output_type": "stream",
     "text": [
      "AppStream-02e86d1c976ab532\n",
      "AppStream-filenames.solvx\n",
      "AppStream.solv\n",
      "BaseOS-f6a80ba95cf937f2\n",
      "BaseOS-filenames.solvx\n",
      "BaseOS.solv\n",
      "epel-05da96c052a128d8\n",
      "epel-filenames.solvx\n",
      "epel-modular-43ca2d7bda15b3b6\n",
      "epel-modular-filenames.solvx\n",
      "epel-modular-updateinfo.solvx\n",
      "epel-modular.solv\n",
      "epel-presto.solvx\n",
      "epel-updateinfo.solvx\n",
      "epel.solv\n",
      "expired_repos.json\n",
      "extras-cbfb2f07b0021b7e\n",
      "extras-filenames.solvx\n",
      "extras.solv\n",
      "tempfiles.json\n"
     ]
    }
   ],
   "source": [
    "sudo docker container exec centos-demo ls /var/cache/dnf"
   ]
  },
  {
   "cell_type": "code",
   "execution_count": 25,
   "metadata": {},
   "outputs": [
    {
     "name": "stdout",
     "output_type": "stream",
     "text": [
      "Last metadata expiration check: 0:05:50 ago on Thu Jun 18 13:44:45 2020.\n",
      "Dependencies resolved.\n",
      "================================================================================\n",
      " Package        Architecture     Version                 Repository        Size\n",
      "================================================================================\n",
      "Installing:\n",
      " tree           x86_64           1.7.0-15.el8            BaseOS            59 k\n",
      "\n",
      "Transaction Summary\n",
      "================================================================================\n",
      "Install  1 Package\n",
      "\n",
      "Total download size: 59 k\n",
      "Installed size: 109 k\n",
      "Downloading Packages:\n",
      "tree-1.7.0-15.el8.x86_64.rpm                     64 kB/s |  59 kB     00:00    \n",
      "--------------------------------------------------------------------------------\n",
      "Total                                            34 kB/s |  59 kB     00:01     \n",
      "Running transaction check\n",
      "Transaction check succeeded.\n",
      "Running transaction test\n",
      "Transaction test succeeded.\n",
      "Running transaction\n",
      "  Preparing        :                                                        1/1 \n",
      "  Installing       : tree-1.7.0-15.el8.x86_64                               1/1 \n",
      "  Running scriptlet: tree-1.7.0-15.el8.x86_64                               1/1 \n",
      "  Verifying        : tree-1.7.0-15.el8.x86_64                               1/1 \n",
      "\n",
      "Installed:\n",
      "  tree-1.7.0-15.el8.x86_64                                                      \n",
      "\n",
      "Complete!\n"
     ]
    }
   ],
   "source": [
    "sudo docker container exec centos-demo yum install tree -y"
   ]
  },
  {
   "cell_type": "code",
   "execution_count": 26,
   "metadata": {},
   "outputs": [
    {
     "name": "stdout",
     "output_type": "stream",
     "text": [
      "/var/cache/dnf\n",
      "|-- AppStream-02e86d1c976ab532\n",
      "|   |-- mirrorlist\n",
      "|   |-- packages\n",
      "|   `-- repodata\n",
      "|       |-- 170e73cd06610ade5e6eb49a297e2edb60c2180a8522e41c9bec76bb4e1c697c-comps-AppStream.x86_64.xml.xz\n",
      "|       |-- 1bc5c9c172b2d64c1788705d20fa30d0a9265a6f6fbc6b74f0b133f001978264-primary.xml.gz\n",
      "|       |-- 9f33a5743cdf465777a728188c83763b7284a105a63b6d300a5cabcdfcb31b7a-modules.yaml.gz\n",
      "|       |-- f01d2812d01c1ebefc4c928e200f280484f1e47973b422fc3043a86dedc24b14-filelists.xml.gz\n",
      "|       `-- repomd.xml\n",
      "|-- AppStream-filenames.solvx\n",
      "|-- AppStream.solv\n",
      "|-- BaseOS-f6a80ba95cf937f2\n",
      "|   |-- mirrorlist\n",
      "|   |-- packages\n",
      "|   `-- repodata\n",
      "|       |-- 08a9add0907af002934460d81ea0edc8bb4154db679cdc113d4c51efcbddfce4-comps-BaseOS.x86_64.xml.xz\n",
      "|       |-- 336cebe9883eb7f91cef1c2dd1ab8281eda4074cffc2c2becfdffee688ab80dd-primary.xml.gz\n",
      "|       |-- cd2f6133271278b52af42ce204a4207d6b93d89b6d44f75ece64af70d0d2f6fb-filelists.xml.gz\n",
      "|       `-- repomd.xml\n",
      "|-- BaseOS-filenames.solvx\n",
      "|-- BaseOS.solv\n",
      "|-- epel-05da96c052a128d8\n",
      "|   |-- metalink.xml\n",
      "|   `-- repodata\n",
      "|       |-- 1329df96a3e1ef4388af2deec90b43ae7d1145e3156be5e9c2501406cc6d1380-primary.xml.gz\n",
      "|       |-- 6d607b7e9e53a929b8af508ec15fe04785dd1e534b6a994cb8e85d9065b44873-prestodelta.xml.xz\n",
      "|       |-- 7a95f329e878992560cec29b5bcd5148bc4dc7aaa1e18978a7bf4566550752b0-filelists.xml.gz\n",
      "|       |-- d43f172748de343435e039a6db8faf3ea9c50c27832f3c16e7736fcac1efef7f-comps-Everything.x86_64.xml\n",
      "|       |-- f1143a9c69f61e2ddbb869d7bbad45bc8b3dc224c9d766f59bf77db1686018f7-updateinfo.xml.bz2\n",
      "|       `-- repomd.xml\n",
      "|-- epel-filenames.solvx\n",
      "|-- epel-modular-43ca2d7bda15b3b6\n",
      "|   |-- metalink.xml\n",
      "|   `-- repodata\n",
      "|       |-- 2bb764f29927246c6d0dd22dfec706c31455e71c0c2d58d952723122ae320bbf-primary.xml.gz\n",
      "|       |-- 2c9f51287240970fd9c08b19404459afad1ef81a1a9f790f41b8d395e22d40a1-modules.yaml.gz\n",
      "|       |-- 77b5df1faf2ecfacde66f36333afa15108d3256298bfbf922ac9167a389f01ca-filelists.xml.gz\n",
      "|       |-- edaa7258f4739ed096952a3a15296cd8f624af1c34ada51a33a13a6f3fb9d3bd-updateinfo.xml.xz\n",
      "|       `-- repomd.xml\n",
      "|-- epel-modular-filenames.solvx\n",
      "|-- epel-modular-updateinfo.solvx\n",
      "|-- epel-modular.solv\n",
      "|-- epel-presto.solvx\n",
      "|-- epel-updateinfo.solvx\n",
      "|-- epel.solv\n",
      "|-- expired_repos.json\n",
      "|-- extras-cbfb2f07b0021b7e\n",
      "|   |-- mirrorlist\n",
      "|   |-- packages\n",
      "|   `-- repodata\n",
      "|       |-- 103625a723a0ba0614db64c1cbd4101299af28686fa263e9998f1014db616266-filelists.xml.gz\n",
      "|       |-- ec54b5a200bf6d82e61e95e15f090f62833ebe75b0c67ca0ac25e30931649f2a-primary.xml.gz\n",
      "|       `-- repomd.xml\n",
      "|-- extras-filenames.solvx\n",
      "|-- extras.solv\n",
      "`-- tempfiles.json\n",
      "\n",
      "13 directories, 43 files\n"
     ]
    }
   ],
   "source": [
    "sudo docker container exec centos-demo tree /var/cache/dnf"
   ]
  },
  {
   "cell_type": "markdown",
   "metadata": {},
   "source": [
    "### El comando ```rpm```.\n",
    "\n",
    "Este es el comando orginal para la gestión de paquetes con extensión ```.rpm```.\n",
    "\n",
    "```\n",
    "rpm <opciones> <archivo o paquete>\n",
    "```\n",
    "\n",
    "Este comando realiza operaciones básicas de instalación de paquetes."
   ]
  },
  {
   "cell_type": "markdown",
   "metadata": {},
   "source": [
    "### El comando ```yum```.\n",
    "\n",
    "Este comando es un gestor más avanzado de paquetesm, el cual permite:\n",
    "\n",
    "* Gestionar repositorios.\n",
    "* Gestionar firmas.\n",
    "* Gestionar paquetes.\n",
    "* Buscar software en el sistema.\n",
    "* Actualizar el sistema\n",
    "\n",
    "```\n",
    "yum <opciones>\n",
    "```"
   ]
  },
  {
   "cell_type": "markdown",
   "metadata": {},
   "source": [
    "## Búsqueda de paquetes."
   ]
  },
  {
   "cell_type": "code",
   "execution_count": null,
   "metadata": {},
   "outputs": [],
   "source": [
    "yum search mongo"
   ]
  },
  {
   "cell_type": "code",
   "execution_count": null,
   "metadata": {},
   "outputs": [],
   "source": [
    "yum list mongo*"
   ]
  },
  {
   "cell_type": "markdown",
   "metadata": {},
   "source": [
    "#### Actualización de los repositorios."
   ]
  },
  {
   "cell_type": "code",
   "execution_count": null,
   "metadata": {},
   "outputs": [],
   "source": [
    "sudo yum update -y"
   ]
  },
  {
   "cell_type": "code",
   "execution_count": null,
   "metadata": {},
   "outputs": [],
   "source": [
    "sudo yum upgrade -y"
   ]
  },
  {
   "cell_type": "markdown",
   "metadata": {},
   "source": [
    "#### Instalación de paquetes seleccionados."
   ]
  },
  {
   "cell_type": "code",
   "execution_count": null,
   "metadata": {},
   "outputs": [],
   "source": [
    "sudo yum install dnf -y"
   ]
  },
  {
   "cell_type": "markdown",
   "metadata": {},
   "source": [
    "###  El comando ```dnf```.\n",
    "\n",
    "Este comando corresponde al gestor de paquetes de Fedora.\n",
    "\n",
    "No viene instalado en CentOS ni en RHEL, pero tiene opciones avanzadas de instalación."
   ]
  },
  {
   "cell_type": "code",
   "execution_count": null,
   "metadata": {},
   "outputs": [],
   "source": [
    "man dnf"
   ]
  },
  {
   "cell_type": "markdown",
   "metadata": {},
   "source": [
    "## Gestión de paquetes basados en archivos *.deb*."
   ]
  },
  {
   "cell_type": "markdown",
   "metadata": {},
   "source": [
    "### Configuración de repositorios."
   ]
  },
  {
   "cell_type": "markdown",
   "metadata": {},
   "source": [
    "### ```apt```."
   ]
  },
  {
   "cell_type": "markdown",
   "metadata": {},
   "source": [
    "**Ejemplo:**"
   ]
  },
  {
   "cell_type": "code",
   "execution_count": null,
   "metadata": {},
   "outputs": [],
   "source": [
    "sudo systemctl start docker"
   ]
  },
  {
   "cell_type": "markdown",
   "metadata": {},
   "source": [
    "```\n",
    "sudo docker run -it ubuntu\n",
    "```"
   ]
  },
  {
   "cell_type": "markdown",
   "metadata": {},
   "source": [
    "## Otros formatos.\n",
    "\n",
    "Arch \n",
    "SNAP"
   ]
  },
  {
   "cell_type": "markdown",
   "metadata": {
    "collapsed": true
   },
   "source": [
    "<p style=\"text-align: center\"><a rel=\"license\" href=\"http://creativecommons.org/licenses/by/4.0/\"><img alt=\"Licencia Creative Commons\" style=\"border-width:0\" src=\"https://i.creativecommons.org/l/by/4.0/80x15.png\" /></a><br />Esta obra está bajo una <a rel=\"license\" href=\"http://creativecommons.org/licenses/by/4.0/\">Licencia Creative Commons Atribución 4.0 Internacional</a>.</p>\n",
    "<p style=\"text-align: center\">&copy; José Luis Chiquete Valdivieso. 2020.</p>"
   ]
  }
 ],
 "metadata": {
  "kernelspec": {
   "display_name": "Bash",
   "language": "bash",
   "name": "bash"
  },
  "language_info": {
   "codemirror_mode": "shell",
   "file_extension": ".sh",
   "mimetype": "text/x-sh",
   "name": "bash"
  }
 },
 "nbformat": 4,
 "nbformat_minor": 2
}
