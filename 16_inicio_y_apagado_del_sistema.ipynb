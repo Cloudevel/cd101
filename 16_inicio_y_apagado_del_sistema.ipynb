{
 "cells": [
  {
   "cell_type": "markdown",
   "metadata": {},
   "source": [
    "[![cloudevel](img/cloudevel.png)](https://cloudevel.com)"
   ]
  },
  {
   "cell_type": "markdown",
   "metadata": {},
   "source": [
    "El proceso de arranque de un sistema de cómputo puede diferir entre dispositivos, sin embargo los componentes de arranque sdon similares en prácticamente todos los casos."
   ]
  },
  {
   "cell_type": "markdown",
   "metadata": {},
   "source": [
    "## Sistemas de arranque o *bootloaders*.\n",
    "\n",
    "Un sistema de arranque es un programa muy simple, cuya función es la de cargar los componentes mínimos de un sistema operativo durante el proceso de arranque de un equipo de cómputo.\n",
    "\n",
    "* En el caso de los servidores o las PC de escritorio, los sistemas de arranque son ejecutados por el BIOS del equipo.\n",
    "* En el caso de dispositivos con sistemas embebidos, tal como es la Raspberry Pi, el sistema de arranque es ejecutado de inmediato."
   ]
  },
  {
   "cell_type": "markdown",
   "metadata": {},
   "source": [
    "## Selección del sistema de arranque.\n",
    "\n",
    "Los sistemas de arranque generalmente se encuentran en un disco duro del sistema, pero existen ciertas configuraciones en las que es posible cargar un sistema de arranque directamente mendiante la interfaz de red utulizando la especificación [PXE](https://en.wikipedia.org/wiki/Preboot_Execution_Environment)."
   ]
  },
  {
   "cell_type": "markdown",
   "metadata": {},
   "source": [
    "## UEFI.\n",
    "\n",
    "Esta especificación es una iniciativa de Microsoft para los fabricantes de HW para permitir el arranque seguro de los sistemas operativos de una PC. "
   ]
  },
  {
   "cell_type": "markdown",
   "metadata": {},
   "source": [
    "## MBR.\n",
    "\n",
    "El \"Registro Maestro de Arranque\" o *MBR* corresponde al primer sector de un disco, el cual tiene un tamaño de 512 bytes.\n",
    "\n",
    "Por lo general, el BIOS de una computadora consulta al *MBR* para buscar información de arranque del sistema. En caso de no encontrar un gestor de arranque (Bootloader) en el MBR, lo buscará en las particiones.\n",
    "\n",
    "## Particiones * booteables*.\n",
    "\n",
    "Una partición arrancable o *booteable* es un partición de disco en la cual se puede añadir un bootloader. Esta configuración se puede realizar al momento de configurar a la partición."
   ]
  },
  {
   "cell_type": "markdown",
   "metadata": {},
   "source": [
    "## Bootloaders para Linux.\n",
    "\n",
    "* [ISOLINUX](https://wiki.syslinux.org/wiki/index.php?title=ISOLINUX), el cual es un sistema de arraque para CD-ROM.\n",
    "* [U-Boot](https://www.denx.de/wiki/U-Boot), es un  bootloader universal utilizado primordialmente para sistemas embebidos.\n",
    "* [LILO](https://en.wikipedia.org/wiki/LILO_(boot_loader) fue el bootloader más utilizado.\n",
    "* [GRUB](https://www.gnu.org/software/grub/) es el bootloader más uitilizado actualmente."
   ]
  },
  {
   "cell_type": "markdown",
   "metadata": {},
   "source": [
    "## Elementos de arranque.\n",
    "\n",
    "* El disco RAM de inicio (initfsram).\n",
    "* La imagen del kernel.\n",
    "* El sistema de inicio."
   ]
  },
  {
   "cell_type": "code",
   "execution_count": null,
   "metadata": {
    "scrolled": true
   },
   "outputs": [],
   "source": [
    "ps -ejH "
   ]
  },
  {
   "cell_type": "markdown",
   "metadata": {},
   "source": [
    "## El directorio */boot*.\n",
    "\n",
    "Este directorio es el que contiene tanto al ejecutable del bootloader como a las imágenes y discos RAM que pueden ejecutarse al iniciar."
   ]
  },
  {
   "cell_type": "code",
   "execution_count": null,
   "metadata": {},
   "outputs": [],
   "source": [
    "ls /boot"
   ]
  },
  {
   "cell_type": "code",
   "execution_count": null,
   "metadata": {},
   "outputs": [],
   "source": [
    "tree /boot"
   ]
  },
  {
   "cell_type": "code",
   "execution_count": null,
   "metadata": {},
   "outputs": [],
   "source": [
    "sudo tree /etc/grub.d"
   ]
  },
  {
   "cell_type": "code",
   "execution_count": null,
   "metadata": {},
   "outputs": [],
   "source": [
    "sudo cat /etc/grub2.cfg"
   ]
  },
  {
   "cell_type": "markdown",
   "metadata": {},
   "source": [
    "## Sistemas de inicio.\n",
    "\n",
    "El primer proceso (PID=1) es el sistema de inicio. Existen dos sistemas principales.\n",
    "\n",
    "* [System V](https://es.wikipedia.org/wiki/System_V).\n",
    "* [systemd](https://www.freedesktop.org/wiki/Software/systemd/).\n",
    "\n",
    "Los principales fabricantes de sistemas GNU/Linux han optado por systemd."
   ]
  },
  {
   "cell_type": "markdown",
   "metadata": {},
   "source": [
    "## El comando ```dmesg```."
   ]
  },
  {
   "cell_type": "code",
   "execution_count": null,
   "metadata": {},
   "outputs": [],
   "source": [
    "dmesg | grep -i cpu"
   ]
  },
  {
   "cell_type": "markdown",
   "metadata": {},
   "source": [
    "## Apagado de un sistema."
   ]
  },
  {
   "cell_type": "code",
   "execution_count": null,
   "metadata": {},
   "outputs": [],
   "source": []
  },
  {
   "cell_type": "markdown",
   "metadata": {},
   "source": [
    "## Reinicio de un sistema."
   ]
  },
  {
   "cell_type": "code",
   "execution_count": null,
   "metadata": {},
   "outputs": [],
   "source": []
  },
  {
   "cell_type": "markdown",
   "metadata": {},
   "source": [
    "<p style=\"text-align: center\"><a rel=\"license\" href=\"http://creativecommons.org/licenses/by/4.0/\"><img alt=\"Licencia Creative Commons\" style=\"border-width:0\" src=\"https://i.creativecommons.org/l/by/4.0/80x15.png\" /></a><br />Esta obra está bajo una <a rel=\"license\" href=\"http://creativecommons.org/licenses/by/4.0/\">Licencia Creative Commons Atribución 4.0 Internacional</a>.</p>\n",
    "<p style=\"text-align: center\">&copy; José Luis Chiquete Valdivieso. 2019.</p>"
   ]
  }
 ],
 "metadata": {
  "kernelspec": {
   "display_name": "Bash",
   "language": "bash",
   "name": "bash"
  },
  "language_info": {
   "codemirror_mode": "shell",
   "file_extension": ".sh",
   "mimetype": "text/x-sh",
   "name": "bash"
  }
 },
 "nbformat": 4,
 "nbformat_minor": 2
}
