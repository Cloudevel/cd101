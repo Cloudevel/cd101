{
 "cells": [
  {
   "cell_type": "markdown",
   "metadata": {},
   "source": [
    "[![cloudevel](img/cloudevel.png)](https://cloudevel.com)"
   ]
  },
  {
   "cell_type": "markdown",
   "metadata": {},
   "source": [
    "## El comando ```find```.\n",
    "\n",
    "Este comando permite realizar diversos tipos de búsquedas a partir de un directorio por medio de una expresión.\n",
    "\n",
    "```\n",
    "find <directorio inicial> <expresión>\n",
    "```\n",
    "\n",
    "Las expresiones pueden estar conformadas por:\n",
    "\n",
    "* Opciones.\n",
    "* Pruebas.\n",
    "* Acciones."
   ]
  },
  {
   "cell_type": "markdown",
   "metadata": {},
   "source": [
    "**Ejemplo:**"
   ]
  },
  {
   "cell_type": "code",
   "execution_count": null,
   "metadata": {
    "scrolled": false
   },
   "outputs": [],
   "source": [
    "find . *.ipynb"
   ]
  },
  {
   "cell_type": "markdown",
   "metadata": {},
   "source": [
    "### Algunas opciones.\n",
    "\n",
    "* ```-L``` continúa la búsqueda en los directorios con ligas simbólicas.\n",
    "* ```-P``` no realiza la búsqueda en los directorios con ligas simbólicas.\n",
    "* ```-maxdepth``` indica el máximo número de niveles de subdirectorios en los que se realizará la búsqueda.\n",
    "* ```-mindepth```  indica el número mínimo de niveles de subdirectorios en los que se realizará la búsqueda."
   ]
  },
  {
   "cell_type": "code",
   "execution_count": null,
   "metadata": {},
   "outputs": [],
   "source": [
    "find . *.ipynb -maxdepth 1"
   ]
  },
  {
   "cell_type": "code",
   "execution_count": null,
   "metadata": {},
   "outputs": [],
   "source": [
    "find . *.ipynb -maxdepth 2"
   ]
  },
  {
   "cell_type": "markdown",
   "metadata": {},
   "source": [
    "### Criterios numéricos.\n",
    "\n",
    "* ```+n``` mayor que n.\n",
    "* ```-n``` menor que n.\n",
    "* ```n``` igual a n.\n",
    "\n",
    "### Pruebas.\n",
    "\n",
    "#### Pruebas con respecto a tiempo.\n",
    "* ```-newer``` archivo\n",
    "* ```-amin``` n\n",
    "* ```-anewer``` archivo\n",
    "* ``-atime`` n\n",
    "* ``-cmin`` n\n",
    "* ```-cnewer``` archivo\n",
    "* ``-ctime`` n\n",
    "* ```-mmin``` n\n",
    "* ```-mnewer``` archivo\n",
    "* ```-mtime``` n\n",
    "\n",
    "#### Pruebas con respecto a permisos.\n",
    "* ```-readable```\n",
    "* ```-executable```\n",
    "* ```-writable```\n",
    "* ```-perm```\n",
    "\n",
    "#### Pruebas con respecto a tipo de archivo.\n",
    "* ```-links```\n",
    "* ```-fstype```\n",
    "\n",
    "#### Pruebas con respecto a los propietarios.\n",
    "* ```-gid``` n\n",
    "* ```-group``` nombre\n",
    "* ```-nogroup``` n\n",
    "* ```pid``` n\n",
    "* ```-user``` nombre\n",
    "* ```-nouser``` n\n",
    "\n",
    "#### Pruebas con respecto a nombres.\n",
    "* ```-name``` patrón\n",
    "* ```-iname``` patrón\n",
    "\n",
    "* ```-lname```  patrón\n",
    "* ```-ilname``` patrón\n",
    "\n",
    "\n",
    "#### Prueba por inode.\n",
    "* ```-inum``` n\n",
    "\n",
    "#### Pruebas por ruta.\n",
    "* ```-path``` patrón\n",
    "* ```-ipath``` patrón\n",
    "\n",
    "#### Pruebas por regex.\n",
    "* ```-regex``` patrón\n",
    "* ```-iregex``` patrón\n",
    "\n",
    "#### Prueba por igualdad.\n",
    "\n",
    "* ```-samefile``` archivo\n",
    "\n",
    "#### Prueba por caracerísticas.\n",
    "* ```-size``` n\n",
    "* ```-type``` tipo\n",
    "* ```-used``` n"
   ]
  },
  {
   "cell_type": "markdown",
   "metadata": {},
   "source": [
    "### Acciones.\n",
    "* ```-delete``` **ADVERTENCIA:** Colocar después de una prueba.\n",
    "* ```-exec <comando> {} \\;``` \n",
    "* ```-ok <comando> {} \\;```\n",
    "* ```-execdir <comando> {} \\;```\n",
    "* ```-okdir <comando> {} \\;```\n",
    "* ```-print```\n",
    "* ```-printf```"
   ]
  },
  {
   "cell_type": "code",
   "execution_count": null,
   "metadata": {},
   "outputs": [],
   "source": [
    "find . -iname '*.ipynb' -print"
   ]
  },
  {
   "cell_type": "code",
   "execution_count": null,
   "metadata": {
    "scrolled": true
   },
   "outputs": [],
   "source": [
    "find . -iname '*.ipynb' -exec  wc {} \\;"
   ]
  },
  {
   "cell_type": "markdown",
   "metadata": {},
   "source": [
    "* Ejecute el siguiente comando desde una terminal.\n",
    "\n",
    "```\n",
    "find . -iname '*.ipynb' -ok  wc {} \\;\n",
    "```"
   ]
  },
  {
   "cell_type": "code",
   "execution_count": null,
   "metadata": {},
   "outputs": [],
   "source": [
    "find . -maxdepth 1 -type d -exec ls {} +"
   ]
  },
  {
   "cell_type": "code",
   "execution_count": null,
   "metadata": {},
   "outputs": [],
   "source": [
    "find .  -iname '*.ipynb' -exec cat {} \\; | grep -i 'gnu/linux'"
   ]
  },
  {
   "cell_type": "code",
   "execution_count": null,
   "metadata": {},
   "outputs": [],
   "source": [
    "man find"
   ]
  },
  {
   "cell_type": "markdown",
   "metadata": {},
   "source": [
    "## El comando ```xargs```.\n",
    "\n",
    "Este comando es un filtro que usa como argumento para un comando cada elemento de un flujo de datos.\n",
    "\n",
    "```\n",
    " <pipe> xargs <comando> \n",
    "```"
   ]
  },
  {
   "cell_type": "code",
   "execution_count": null,
   "metadata": {},
   "outputs": [],
   "source": [
    "ls"
   ]
  },
  {
   "cell_type": "code",
   "execution_count": null,
   "metadata": {},
   "outputs": [],
   "source": [
    "ls | xargs wc"
   ]
  },
  {
   "cell_type": "code",
   "execution_count": null,
   "metadata": {
    "scrolled": true
   },
   "outputs": [],
   "source": [
    "man xargs"
   ]
  },
  {
   "cell_type": "markdown",
   "metadata": {
    "collapsed": true
   },
   "source": [
    "<p style=\"text-align: center\"><a rel=\"license\" href=\"http://creativecommons.org/licenses/by/4.0/\"><img alt=\"Licencia Creative Commons\" style=\"border-width:0\" src=\"https://i.creativecommons.org/l/by/4.0/80x15.png\" /></a><br />Esta obra está bajo una <a rel=\"license\" href=\"http://creativecommons.org/licenses/by/4.0/\">Licencia Creative Commons Atribución 4.0 Internacional</a>.</p>\n",
    "<p style=\"text-align: center\">&copy; José Luis Chiquete Valdivieso. 2019.</p>"
   ]
  }
 ],
 "metadata": {
  "kernelspec": {
   "display_name": "Bash",
   "language": "bash",
   "name": "bash"
  },
  "language_info": {
   "codemirror_mode": "shell",
   "file_extension": ".sh",
   "mimetype": "text/x-sh",
   "name": "bash"
  }
 },
 "nbformat": 4,
 "nbformat_minor": 2
}
