{
 "cells": [
  {
   "cell_type": "markdown",
   "metadata": {},
   "source": [
    "[![cloudevel](img/cloudevel.png)](https://cloudevel.com)"
   ]
  },
  {
   "cell_type": "markdown",
   "metadata": {},
   "source": [
    "## El comando ```find```.\n",
    "\n",
    "Este comando permite realizar diversos tipos de búsquedas a partir de un directorio por medio de una expresión.\n",
    "\n",
    "```\n",
    "find <directorio inicial> <expresión>\n",
    "```\n",
    "\n",
    "Las expresiones pueden estar conformadas por:\n",
    "\n",
    "* Opciones.\n",
    "* Pruebas.\n",
    "* Acciones."
   ]
  },
  {
   "cell_type": "markdown",
   "metadata": {},
   "source": [
    "**Ejemplo:**"
   ]
  },
  {
   "cell_type": "code",
   "execution_count": null,
   "metadata": {
    "scrolled": false
   },
   "outputs": [],
   "source": [
    "find . *.ipynb"
   ]
  },
  {
   "cell_type": "markdown",
   "metadata": {},
   "source": [
    "### Algunas opciones.\n",
    "\n",
    "* ```-L``` continúa la búsqueda en los directorios con ligas simbólicas.\n",
    "* ```-P``` no realiza la búsqueda en los directorios con ligas simbólicas.\n",
    "* ```-maxdepth``` indica el máximo número de niveles de subdirectorios en los que se realizará la búsqueda.\n",
    "* ```-mindepth```  indica el número mínimo de niveles de subdirectorios en los que se realizará la búsqueda."
   ]
  },
  {
   "cell_type": "code",
   "execution_count": null,
   "metadata": {},
   "outputs": [],
   "source": [
    "find . *.ipynb -maxdepth 1"
   ]
  },
  {
   "cell_type": "code",
   "execution_count": null,
   "metadata": {},
   "outputs": [],
   "source": [
    "find . *.ipynb -maxdepth 2"
   ]
  },
  {
   "cell_type": "markdown",
   "metadata": {},
   "source": [
    "### Criterios numéricos.\n",
    "\n",
    "* ```+n``` mayor que n.\n",
    "* ```-n``` menor que n.\n",
    "* ```n``` igual a n."
   ]
  },
  {
   "cell_type": "markdown",
   "metadata": {},
   "source": [
    "### Pruebas."
   ]
  },
  {
   "cell_type": "markdown",
   "metadata": {},
   "source": [
    "#### Pruebas con respecto a tiempo.\n",
    "* ```-newer``` archivo\n",
    "* ```-amin``` n\n",
    "* ```-atime``` n\n",
    "* ```-anewer``` archivo\n",
    "* ```-cmin``` n\n",
    "* ```-ctime``` n\n",
    "* ```-cnewer``` archivo\n",
    "* ```-mmin``` n\n",
    "* ```-mtime``` n\n",
    "* ```-mnewer``` archivo"
   ]
  },
  {
   "cell_type": "code",
   "execution_count": null,
   "metadata": {},
   "outputs": [],
   "source": [
    "find . -maxdepth 1 -mmin -60 "
   ]
  },
  {
   "cell_type": "code",
   "execution_count": null,
   "metadata": {},
   "outputs": [],
   "source": [
    "find . -maxdepth 1 -atime -1 "
   ]
  },
  {
   "cell_type": "code",
   "execution_count": null,
   "metadata": {},
   "outputs": [],
   "source": [
    "find . *.ipynb -maxdepth 1 -newer 05_jerarquía_de_directorios.ipynb "
   ]
  },
  {
   "cell_type": "markdown",
   "metadata": {},
   "source": [
    "#### Pruebas con respecto a permisos.\n",
    "\n",
    "* ```-readable```\n",
    "* ```-executable```\n",
    "* ```-writable```\n",
    "* ```-perm```"
   ]
  },
  {
   "cell_type": "code",
   "execution_count": null,
   "metadata": {},
   "outputs": [],
   "source": [
    "echo \"/bin/bash\n",
    "echo Hola, mundo.\" > saluda.sh"
   ]
  },
  {
   "cell_type": "code",
   "execution_count": null,
   "metadata": {},
   "outputs": [],
   "source": [
    "chmod +x saluda.sh"
   ]
  },
  {
   "cell_type": "code",
   "execution_count": null,
   "metadata": {},
   "outputs": [],
   "source": [
    "ls -l saluda.sh"
   ]
  },
  {
   "cell_type": "code",
   "execution_count": null,
   "metadata": {},
   "outputs": [],
   "source": [
    "find . -maxdepth 1 -executable"
   ]
  },
  {
   "cell_type": "markdown",
   "metadata": {},
   "source": [
    "#### Pruebas con respecto a tipo de archivo.\n",
    "* ```-links```\n",
    "* ```-fstype```"
   ]
  },
  {
   "cell_type": "code",
   "execution_count": null,
   "metadata": {},
   "outputs": [],
   "source": []
  },
  {
   "cell_type": "markdown",
   "metadata": {},
   "source": [
    "#### Pruebas con respecto a los propietarios.\n",
    "* ```-gid``` n\n",
    "* ```-group``` nombre\n",
    "* ```-nogroup``` n\n",
    "* ```pid``` n\n",
    "* ```-user``` nombre\n",
    "* ```-nouser``` n"
   ]
  },
  {
   "cell_type": "code",
   "execution_count": null,
   "metadata": {},
   "outputs": [],
   "source": [
    "sudo chown oi:root saluda.sh"
   ]
  },
  {
   "cell_type": "code",
   "execution_count": null,
   "metadata": {},
   "outputs": [],
   "source": [
    "ls -l saluda.sh"
   ]
  },
  {
   "cell_type": "code",
   "execution_count": null,
   "metadata": {},
   "outputs": [],
   "source": [
    "find . -maxdepth 1 -uid 1000 | sort"
   ]
  },
  {
   "cell_type": "code",
   "execution_count": null,
   "metadata": {
    "scrolled": true
   },
   "outputs": [],
   "source": [
    "find . -maxdepth 1 -group root"
   ]
  },
  {
   "cell_type": "markdown",
   "metadata": {},
   "source": [
    "#### Pruebas con respecto a nombres.\n",
    "* ```-name``` patrón\n",
    "* ```-iname``` patrón\n",
    "\n",
    "* ```-lname```  patrón\n",
    "* ```-ilname``` patrón"
   ]
  },
  {
   "cell_type": "code",
   "execution_count": null,
   "metadata": {},
   "outputs": [],
   "source": [
    "find . -maxdepth 1 -iname *bash*"
   ]
  },
  {
   "cell_type": "markdown",
   "metadata": {},
   "source": [
    "#### Pruebas por ruta.\n",
    "* ```-path``` patrón\n",
    "* ```-ipath``` patrón"
   ]
  },
  {
   "cell_type": "code",
   "execution_count": null,
   "metadata": {},
   "outputs": [],
   "source": [
    "find . -path \"*CH*\""
   ]
  },
  {
   "cell_type": "markdown",
   "metadata": {},
   "source": [
    "#### Prueba por inode.\n",
    "* ```-inum``` n"
   ]
  },
  {
   "cell_type": "markdown",
   "metadata": {},
   "source": [
    "#### Pruebas por regex.\n",
    "* ```-regex``` patrón\n",
    "* ```-iregex``` patrón"
   ]
  },
  {
   "cell_type": "code",
   "execution_count": null,
   "metadata": {},
   "outputs": [],
   "source": [
    "find . -regextype egrep -regex '.*(0|2)(3|5|7)_.*' | sort"
   ]
  },
  {
   "cell_type": "code",
   "execution_count": null,
   "metadata": {},
   "outputs": [],
   "source": [
    "find . -regextype egrep -regex '.*(sh$|png$)' | sort"
   ]
  },
  {
   "cell_type": "markdown",
   "metadata": {},
   "source": [
    "#### Prueba por igualdad.\n",
    "\n",
    "* ```-samefile``` archivo"
   ]
  },
  {
   "cell_type": "code",
   "execution_count": null,
   "metadata": {},
   "outputs": [],
   "source": [
    "sudo chown 1000:1000 *.sh"
   ]
  },
  {
   "cell_type": "code",
   "execution_count": null,
   "metadata": {},
   "outputs": [],
   "source": [
    "ls -l *.sh"
   ]
  },
  {
   "cell_type": "code",
   "execution_count": null,
   "metadata": {},
   "outputs": [],
   "source": [
    "cp saluda.sh img/"
   ]
  },
  {
   "cell_type": "code",
   "execution_count": null,
   "metadata": {},
   "outputs": [],
   "source": [
    "find . -samefile img/saluda.sh"
   ]
  },
  {
   "cell_type": "markdown",
   "metadata": {},
   "source": [
    "#### Prueba por características.\n",
    "* ```-size``` n\n",
    "* ```-type``` tipo\n",
    "* ```-used``` n"
   ]
  },
  {
   "cell_type": "code",
   "execution_count": null,
   "metadata": {},
   "outputs": [],
   "source": [
    "find . -maxdepth 1 -size +20k"
   ]
  },
  {
   "cell_type": "code",
   "execution_count": null,
   "metadata": {},
   "outputs": [],
   "source": [
    "find . -maxdepth 2 -type d"
   ]
  },
  {
   "cell_type": "markdown",
   "metadata": {},
   "source": [
    "### Acciones.\n",
    "* ```-delete``` **ADVERTENCIA:** Colocar después de una prueba.\n",
    "* ```-exec <comando> {} \\;``` \n",
    "* ```-ok <comando> {} \\;```\n",
    "* ```-execdir <comando> {} \\;```\n",
    "* ```-okdir <comando> {} \\;```\n",
    "* ```-print```\n",
    "* ```-printf```"
   ]
  },
  {
   "cell_type": "code",
   "execution_count": null,
   "metadata": {},
   "outputs": [],
   "source": [
    "find . -iname '*.ipynb' -print"
   ]
  },
  {
   "cell_type": "code",
   "execution_count": null,
   "metadata": {
    "scrolled": true
   },
   "outputs": [],
   "source": [
    "find . -iname '*.ipynb' -exec  wc {} -l \\;"
   ]
  },
  {
   "cell_type": "markdown",
   "metadata": {},
   "source": [
    "* Ejecute el siguiente comando desde una terminal.\n",
    "\n",
    "```\n",
    "find . -iname '*.ipynb' -ok  wc {} \\;\n",
    "```"
   ]
  },
  {
   "cell_type": "code",
   "execution_count": null,
   "metadata": {},
   "outputs": [],
   "source": [
    "find . -maxdepth 1 -type d -exec ls {} +"
   ]
  },
  {
   "cell_type": "code",
   "execution_count": null,
   "metadata": {},
   "outputs": [],
   "source": [
    "find .  -iname '*.ipynb' -exec cat {} \\; | grep -i 'gnu/linux'"
   ]
  },
  {
   "cell_type": "code",
   "execution_count": null,
   "metadata": {},
   "outputs": [],
   "source": [
    "man find"
   ]
  },
  {
   "cell_type": "markdown",
   "metadata": {},
   "source": [
    "## El comando ```xargs```.\n",
    "\n",
    "Este comando es un filtro que usa como argumento para un comando cada elemento de un flujo de datos.\n",
    "\n",
    "```\n",
    " <pipe> xargs <comando> \n",
    "```"
   ]
  },
  {
   "cell_type": "code",
   "execution_count": null,
   "metadata": {},
   "outputs": [],
   "source": [
    "ls"
   ]
  },
  {
   "cell_type": "code",
   "execution_count": null,
   "metadata": {},
   "outputs": [],
   "source": [
    "ls | xargs wc"
   ]
  },
  {
   "cell_type": "code",
   "execution_count": null,
   "metadata": {
    "scrolled": true
   },
   "outputs": [],
   "source": [
    "man xargs"
   ]
  },
  {
   "cell_type": "markdown",
   "metadata": {
    "collapsed": true
   },
   "source": [
    "<p style=\"text-align: center\"><a rel=\"license\" href=\"http://creativecommons.org/licenses/by/4.0/\"><img alt=\"Licencia Creative Commons\" style=\"border-width:0\" src=\"https://i.creativecommons.org/l/by/4.0/80x15.png\" /></a><br />Esta obra está bajo una <a rel=\"license\" href=\"http://creativecommons.org/licenses/by/4.0/\">Licencia Creative Commons Atribución 4.0 Internacional</a>.</p>\n",
    "<p style=\"text-align: center\">&copy; José Luis Chiquete Valdivieso. 2019.</p>"
   ]
  }
 ],
 "metadata": {
  "kernelspec": {
   "display_name": "Bash",
   "language": "bash",
   "name": "bash"
  },
  "language_info": {
   "codemirror_mode": "shell",
   "file_extension": ".sh",
   "mimetype": "text/x-sh",
   "name": "bash"
  }
 },
 "nbformat": 4,
 "nbformat_minor": 2
}
