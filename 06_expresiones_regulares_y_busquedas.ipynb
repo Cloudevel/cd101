{
 "cells": [
  {
   "cell_type": "markdown",
   "metadata": {},
   "source": [
    "[![cloudevel](Imagenes/cloudevel.png)](https://cloudevel.com)"
   ]
  },
  {
   "cell_type": "markdown",
   "metadata": {},
   "source": [
    "## Expresiones regulares (regex).\n",
    "\n",
    "Las expresiones regulares son parte de los lenguajes formales y permiten identificar patrones de texto mediante el uso de una combinación de ciertos caracteres."
   ]
  },
  {
   "cell_type": "markdown",
   "metadata": {},
   "source": [
    "### Caracteres especiales para expresiones regulares.\n",
    "|Caracter| Acción|\n",
    "|:---:|:-------:\n",
    "|^|Busca un patrón al principio de una línea|\n",
    "|$|Busca un patrón al final de una línea|\n",
    "|?| Corresponde exactamente a un caracter\n",
    "|\\|Caracter de escape|\n",
    "|.| Sustituye a un caracter de cualquier tipo|\n",
    "|*| Corresponde a 0 o más caracteres|\n",
    "|[ ]|Rango de caracteres con los que puede haber coincidencia|\n",
    "|[^]| Rango de caracteres con los que NO puede haber coincidencia|\n",
    "|()| Agrupa expesiones regulares.\n",
    "|{n}| Valida si el catacter previo se repite *n* veces|\n",
    "|{n,m}| Valida si el catacter previo se repite en un rango entre *n* y m de veces|\n"
   ]
  },
  {
   "cell_type": "markdown",
   "metadata": {},
   "source": [
    "## Expresiones regulares con el comando ```ls```.\n",
    "\n",
    "El comando ls permite ingresar expresiones regulares con la siguiente sintaxis.\n",
    "\n",
    "```\n",
    "ls <ruta/><regexp>\n",
    "```"
   ]
  },
  {
   "cell_type": "code",
   "execution_count": 2,
   "metadata": {},
   "outputs": [
    {
     "name": "stdout",
     "output_type": "stream",
     "text": [
      "01_introduccion.ipynb\n",
      "02_sistemas_computo.ipynb\n",
      "03_la_línea_de_comandos.ipynb\n",
      "04_directorios_y_archivos.ipynb\n",
      "05_entrada_salida_filtros_y_pipes.ipynb\n",
      "06_expresiones_regulares_y_busquedas.ipynb\n",
      "07_introduccion_a_vim.ipynb\n",
      "08_usuarios_y_grupos.ipynb\n",
      "09_inicio_de_linux.ipynb\n",
      "10_el_kernel_de_linux.ipynb\n",
      "11_particiones_y_volumenes_de_archivos.ipynb\n",
      "12_chroot_y_contendores.ipynb\n",
      "13_paquetes-de-software.ipynb\n",
      "14_ introduccion_a_redes_basicas.ipynb\n",
      "15_procesos_trabajos_y_temporizadores.ipynb\n",
      "16_introduccion_a_bash_scripting.ipynb\n",
      "17_gestion_de_servicios_con_systemd.ipynb\n",
      "18_bitacoras.ipynb\n",
      "19_seguridad_basica.ipynb\n",
      "20_maquinas_virtuales.ipynb\n",
      "LICENSE\n",
      "listado\n",
      "README.md\n",
      "x00\n",
      "x01\n",
      "x02\n",
      "xaa\n",
      "xab\n",
      "xac\n",
      "xad\n",
      "\n",
      "data:\n",
      "05\n",
      "\n",
      "Imagenes:\n",
      "02  03\tcloudevel.png\n"
     ]
    }
   ],
   "source": [
    "ls *"
   ]
  },
  {
   "cell_type": "code",
   "execution_count": 1,
   "metadata": {},
   "outputs": [
    {
     "name": "stdout",
     "output_type": "stream",
     "text": [
      "01_introduccion.ipynb\n",
      "02_sistemas_computo.ipynb\n",
      "03_la_línea_de_comandos.ipynb\n",
      "04_directorios_y_archivos.ipynb\n",
      "05_entrada_salida_filtros_y_pipes.ipynb\n",
      "06_expresiones_regulares_y_busquedas.ipynb\n",
      "07_introduccion_a_vim.ipynb\n",
      "08_usuarios_y_grupos.ipynb\n",
      "09_inicio_de_linux.ipynb\n",
      "10_el_kernel_de_linux.ipynb\n",
      "11_particiones_y_volumenes_de_archivos.ipynb\n",
      "12_chroot_y_contendores.ipynb\n",
      "13_paquetes-de-software.ipynb\n",
      "14_ introduccion_a_redes_basicas.ipynb\n",
      "15_procesos_trabajos_y_temporizadores.ipynb\n",
      "16_introduccion_a_bash_scripting.ipynb\n",
      "17_gestion_de_servicios_con_systemd.ipynb\n",
      "18_bitacoras.ipynb\n",
      "19_seguridad_basica.ipynb\n",
      "20_maquinas_virtuales.ipynb\n"
     ]
    }
   ],
   "source": [
    "ls *.ipynb"
   ]
  },
  {
   "cell_type": "code",
   "execution_count": 3,
   "metadata": {},
   "outputs": [
    {
     "name": "stdout",
     "output_type": "stream",
     "text": [
      "10_el_kernel_de_linux.ipynb\n",
      "11_particiones_y_volumenes_de_archivos.ipynb\n",
      "12_chroot_y_contendores.ipynb\n",
      "13_paquetes-de-software.ipynb\n",
      "14_ introduccion_a_redes_basicas.ipynb\n",
      "15_procesos_trabajos_y_temporizadores.ipynb\n",
      "16_introduccion_a_bash_scripting.ipynb\n",
      "17_gestion_de_servicios_con_systemd.ipynb\n",
      "18_bitacoras.ipynb\n",
      "19_seguridad_basica.ipynb\n"
     ]
    }
   ],
   "source": [
    "ls 1?_*"
   ]
  },
  {
   "cell_type": "code",
   "execution_count": 4,
   "metadata": {},
   "outputs": [
    {
     "name": "stdout",
     "output_type": "stream",
     "text": [
      "11_particiones_y_volumenes_de_archivos.ipynb\n",
      "12_chroot_y_contendores.ipynb\n",
      "13_paquetes-de-software.ipynb\n",
      "14_ introduccion_a_redes_basicas.ipynb\n",
      "15_procesos_trabajos_y_temporizadores.ipynb\n"
     ]
    }
   ],
   "source": [
    "ls 1[1-5]*"
   ]
  },
  {
   "cell_type": "code",
   "execution_count": 5,
   "metadata": {},
   "outputs": [
    {
     "name": "stdout",
     "output_type": "stream",
     "text": [
      "01_introduccion.ipynb\n",
      "02_sistemas_computo.ipynb\n",
      "03_la_línea_de_comandos.ipynb\n",
      "04_directorios_y_archivos.ipynb\n",
      "05_entrada_salida_filtros_y_pipes.ipynb\n",
      "11_particiones_y_volumenes_de_archivos.ipynb\n",
      "12_chroot_y_contendores.ipynb\n",
      "13_paquetes-de-software.ipynb\n",
      "14_ introduccion_a_redes_basicas.ipynb\n",
      "15_procesos_trabajos_y_temporizadores.ipynb\n"
     ]
    }
   ],
   "source": [
    "ls ?[1-5]*"
   ]
  },
  {
   "cell_type": "code",
   "execution_count": 6,
   "metadata": {},
   "outputs": [
    {
     "name": "stdout",
     "output_type": "stream",
     "text": [
      "06_expresiones_regulares_y_busquedas.ipynb  18_bitacoras.ipynb\t\t x01\n",
      "07_introduccion_a_vim.ipynb\t\t    19_seguridad_basica.ipynb\t x02\n",
      "08_usuarios_y_grupos.ipynb\t\t    20_maquinas_virtuales.ipynb  xaa\n",
      "09_inicio_de_linux.ipynb\t\t    LICENSE\t\t\t xab\n",
      "10_el_kernel_de_linux.ipynb\t\t    listado\t\t\t xac\n",
      "16_introduccion_a_bash_scripting.ipynb\t    README.md\t\t\t xad\n",
      "17_gestion_de_servicios_con_systemd.ipynb   x00\n",
      "\n",
      "data:\n",
      "05\n",
      "\n",
      "Imagenes:\n",
      "02  03\tcloudevel.png\n"
     ]
    }
   ],
   "source": [
    "ls ?[^1-5]*"
   ]
  },
  {
   "cell_type": "markdown",
   "metadata": {},
   "source": [
    "## El comando```grep```.\n",
    "\n",
    "Para aprovechar el uso de expresiones regulares en flujos de texto existe una familia de comandos que buscan las líneas que cumplen con una expresión regular. El comando más utilizado de esta familia es ```grep```.\n",
    "\n",
    "### Opciones.\n",
    "\n",
    "* *-i* permite que las mayúsculas y minúsculas sean indistintas.\n",
    "* *-E* permite utilizar caracteres de escape."
   ]
  },
  {
   "cell_type": "code",
   "execution_count": 7,
   "metadata": {},
   "outputs": [
    {
     "name": "stdout",
     "output_type": "stream",
     "text": [
      "MIT License\n",
      "IMPLIED, INCLUDING BUT NOT LIMITED TO THE WARRANTIES OF MERCHANTABILITY,\n"
     ]
    }
   ],
   "source": [
    "cat LICENSE | grep MIT"
   ]
  },
  {
   "cell_type": "code",
   "execution_count": 8,
   "metadata": {},
   "outputs": [
    {
     "name": "stdout",
     "output_type": "stream",
     "text": [
      "in the Software without restriction, including without limitation the rights\n",
      "copies of the Software, and to permit persons to whom the Software is\n"
     ]
    }
   ],
   "source": [
    "cat LICENSE | grep mit"
   ]
  },
  {
   "cell_type": "code",
   "execution_count": 9,
   "metadata": {},
   "outputs": [
    {
     "name": "stdout",
     "output_type": "stream",
     "text": [
      "MIT License\n",
      "in the Software without restriction, including without limitation the rights\n",
      "copies of the Software, and to permit persons to whom the Software is\n",
      "IMPLIED, INCLUDING BUT NOT LIMITED TO THE WARRANTIES OF MERCHANTABILITY,\n"
     ]
    }
   ],
   "source": [
    "cat LICENSE | grep -i mit"
   ]
  },
  {
   "cell_type": "code",
   "execution_count": 10,
   "metadata": {},
   "outputs": [
    {
     "name": "stdout",
     "output_type": "stream",
     "text": [
      "MIT License\n"
     ]
    }
   ],
   "source": [
    "cat LICENSE | grep -i ^mit"
   ]
  },
  {
   "cell_type": "code",
   "execution_count": 11,
   "metadata": {},
   "outputs": [
    {
     "name": "stdout",
     "output_type": "stream",
     "text": [
      "THE SOFTWARE IS PROVIDED \"AS IS\", WITHOUT WARRANTY OF ANY KIND, EXPRESS OR\n",
      "IMPLIED, INCLUDING BUT NOT LIMITED TO THE WARRANTIES OF MERCHANTABILITY,\n"
     ]
    }
   ],
   "source": [
    "cat LICENSE | grep -Ei r\\{2}"
   ]
  },
  {
   "cell_type": "code",
   "execution_count": 14,
   "metadata": {},
   "outputs": [
    {
     "name": "stdout",
     "output_type": "stream",
     "text": [
      "[    0.503528] input: Power Button as /devices/LNXSYSTM:00/LNXPWRBN:00/input/input0\n",
      "[    0.503595] input: Sleep Button as /devices/LNXSYSTM:00/LNXSLPBN:00/input/input1\n",
      "[    0.558845] input: AT Translated Set 2 keyboard as /devices/platform/i8042/serio0/input/input2\n",
      "[    0.760168] input: ImExPS/2 Generic Explorer Mouse as /devices/platform/i8042/serio1/input/input3\n",
      "[    2.759049] input: Video Bus as /devices/LNXSYSTM:00/device:00/PNP0A03:00/LNXVIDEO:00/input/input4\n",
      "[    2.849486] input: PC Speaker as /devices/platform/pcspkr/input/input5\n"
     ]
    }
   ],
   "source": [
    "dmesg | grep -i input"
   ]
  },
  {
   "cell_type": "code",
   "execution_count": null,
   "metadata": {},
   "outputs": [],
   "source": []
  },
  {
   "cell_type": "markdown",
   "metadata": {
    "collapsed": true
   },
   "source": [
    "<p style=\"text-align: center\"><a rel=\"license\" href=\"http://creativecommons.org/licenses/by/4.0/\"><img alt=\"Licencia Creative Commons\" style=\"border-width:0\" src=\"https://i.creativecommons.org/l/by/4.0/80x15.png\" /></a><br />Esta obra está bajo una <a rel=\"license\" href=\"http://creativecommons.org/licenses/by/4.0/\">Licencia Creative Commons Atribución 4.0 Internacional</a>.</p>\n",
    "<p style=\"text-align: center\">&copy; José Luis Chiquete Valdivieso. 2019.</p>"
   ]
  }
 ],
 "metadata": {
  "kernelspec": {
   "display_name": "Bash",
   "language": "bash",
   "name": "bash"
  },
  "language_info": {
   "codemirror_mode": "shell",
   "file_extension": ".sh",
   "mimetype": "text/x-sh",
   "name": "bash"
  }
 },
 "nbformat": 4,
 "nbformat_minor": 2
}
