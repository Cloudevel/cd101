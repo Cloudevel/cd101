{
 "cells": [
  {
   "cell_type": "markdown",
   "metadata": {},
   "source": [
    "[![cloudevel](img/cloudevel.png)](https://cloudevel.com)"
   ]
  },
  {
   "cell_type": "markdown",
   "metadata": {},
   "source": [
    "# Flujos de texto, filtros y *pipes*."
   ]
  },
  {
   "cell_type": "markdown",
   "metadata": {},
   "source": [
    "## Entrada estándar, salida estandar y error estándar."
   ]
  },
  {
   "cell_type": "markdown",
   "metadata": {},
   "source": [
    "### Entrada estándar.\n",
    "\n",
    "Se conoce como ```stdin``` y para el usuario corresponde a las señales enviadas por un teclado."
   ]
  },
  {
   "cell_type": "markdown",
   "metadata": {},
   "source": [
    "### Salida estándar.\n",
    "\n",
    "Se conoce como ```stdout``` y en una terminal corresponde a lo que se despliega en  el monitos después de ejecutar un comando."
   ]
  },
  {
   "cell_type": "markdown",
   "metadata": {},
   "source": [
    "**Ejemplo:**"
   ]
  },
  {
   "cell_type": "markdown",
   "metadata": {},
   "source": [
    "* La siguiente celda mostrará la salida estándar resultante de ejecutar el comando ```ls```."
   ]
  },
  {
   "cell_type": "code",
   "execution_count": null,
   "metadata": {},
   "outputs": [],
   "source": [
    "ls"
   ]
  },
  {
   "cell_type": "markdown",
   "metadata": {},
   "source": [
    "### Error estándar.\n",
    "\n",
    "La salida estándar ocurre cuando un comando es ejecutado exitosamente. Sin embargo, el error estándar ```stderr``` corresponde al flujo de texto resultante de un error."
   ]
  },
  {
   "cell_type": "markdown",
   "metadata": {},
   "source": [
    "* La siguiente celda hace referencia al dorectorio ```erroneo```, el cual no existe. Por lo tanto se deslegará un error estándar."
   ]
  },
  {
   "cell_type": "code",
   "execution_count": null,
   "metadata": {},
   "outputs": [],
   "source": [
    "ls erroneo"
   ]
  },
  {
   "cell_type": "markdown",
   "metadata": {},
   "source": [
    "## El comando ```echo```.\n",
    "\n",
    "El comando ```echo```envía un flujo de texto o una expresión a la salida estándar.\n",
    "\n",
    "```\n",
    "echo <opciones> <flujo>\n",
    "```\n",
    "\n",
    "Donde:\n",
    "\n",
    "* ```<flujo>``` echo es un archivo o flujo de texto.\n",
    "\n",
    "\n",
    "O bien:\n",
    "\n",
    "```\n",
    "echo \\$(<expresión>)\n",
    "```\n",
    "\n",
    "\n",
    "Donde:\n",
    "\n",
    "* ```<expresión>``` es una expresión del shell y el resultado será desplegado.\n",
    "\n",
    "**Nota:** El uso de las comillas ```\"``` o apóstrofes ```'```  para delimitar un texto es opcional."
   ]
  },
  {
   "cell_type": "markdown",
   "metadata": {},
   "source": [
    "* La siguiente celda desplegará ```Hola``` en la salida estándar."
   ]
  },
  {
   "cell_type": "code",
   "execution_count": null,
   "metadata": {},
   "outputs": [],
   "source": [
    "echo Hola"
   ]
  },
  {
   "cell_type": "markdown",
   "metadata": {},
   "source": [
    "* Las siguientes celdas desplegarán un mensaje de varias líneas en la salida estándar."
   ]
  },
  {
   "cell_type": "code",
   "execution_count": null,
   "metadata": {},
   "outputs": [],
   "source": [
    "echo \"Hola.\n",
    "Este es un texto de varias líneas.\""
   ]
  },
  {
   "cell_type": "code",
   "execution_count": null,
   "metadata": {
    "scrolled": true
   },
   "outputs": [],
   "source": [
    "echo 'Hola.\n",
    "Este es un texto de varias líneas.'"
   ]
  },
  {
   "cell_type": "markdown",
   "metadata": {},
   "source": [
    "### Despliegue de caracteres especiales.\n",
    "\n",
    "La opción ```-e``` de ```echo``` permite deplegar caracteres especiales usando ```\\``` como caracter de escape dentro de una cadena de caracteres como las siguientes:\n",
    "\n",
    "* ```\\n``` corresponde a un retorno de línea.\n",
    "* ```\\t``` corresponde a un tabulador.\n",
    "* ``` \\0<digito>``` corresponde a un caracter *ASCII* identificado mediante su número de código en octal.\n",
    "* ```\\\\``` se usa para desplegar el caracter ```\\```."
   ]
  },
  {
   "cell_type": "markdown",
   "metadata": {},
   "source": [
    "**EJEMPLOS:**"
   ]
  },
  {
   "cell_type": "markdown",
   "metadata": {},
   "source": [
    "* La cadena de caracteres de la siguiente celda incluye al caracter de escape ```\\n```, pero no será tomado en cuenta por ```echo```."
   ]
  },
  {
   "cell_type": "code",
   "execution_count": null,
   "metadata": {},
   "outputs": [],
   "source": [
    "echo \"Hola\\nMundo.\""
   ]
  },
  {
   "cell_type": "markdown",
   "metadata": {},
   "source": [
    "* La cadena de caracteres de la siguiente celda incluye a los caracter de escape ```\\n``` y ```\\046``` (correspondiente a ```&``` en *ASCII*). Al incluir la opción ```-e```, ```echo``` desplegará los caracteres de escape."
   ]
  },
  {
   "cell_type": "code",
   "execution_count": null,
   "metadata": {},
   "outputs": [],
   "source": [
    "echo -e \"Hola\\nMundo \\046 anexas.\""
   ]
  },
  {
   "cell_type": "markdown",
   "metadata": {},
   "source": [
    "### Despliegue de expresiones y comandos con ```echo```.\n",
    "\n",
    "El comando ```echo``` permite desplegar el resultado de una expresión o la salida estándar de otro comando usando la siguiente sintaxis: \n",
    "\n",
    "```\n",
    "echo $(comando)\n",
    "```\n",
    "\n",
    "Donde:\n",
    "\n",
    "* ```<comando>```  es un comando del *shell*.\n",
    "\n",
    "O bien.\n",
    "\n",
    "```\n",
    "echo $((expresión))\n",
    "```\n",
    "Donde:\n",
    "\n",
    "* ```<expresión>```  es una expresión.\n",
    "\n",
    "**Nota:** Las expresiones serán estudiadfas en capítulos posteriores."
   ]
  },
  {
   "cell_type": "markdown",
   "metadata": {},
   "source": [
    "**Ejemplos:**"
   ]
  },
  {
   "cell_type": "code",
   "execution_count": null,
   "metadata": {
    "scrolled": true
   },
   "outputs": [],
   "source": [
    "echo $(ls)"
   ]
  },
  {
   "cell_type": "code",
   "execution_count": null,
   "metadata": {},
   "outputs": [],
   "source": [
    "echo $((6 / 5))"
   ]
  },
  {
   "cell_type": "code",
   "execution_count": null,
   "metadata": {},
   "outputs": [],
   "source": [
    "echo $((23565465 - 435435433))"
   ]
  },
  {
   "cell_type": "code",
   "execution_count": null,
   "metadata": {},
   "outputs": [],
   "source": [
    "echo $PATH"
   ]
  },
  {
   "cell_type": "markdown",
   "metadata": {},
   "source": [
    "### La *manpage*  de ```echo```."
   ]
  },
  {
   "cell_type": "code",
   "execution_count": null,
   "metadata": {},
   "outputs": [],
   "source": [
    "man echo"
   ]
  },
  {
   "cell_type": "markdown",
   "metadata": {},
   "source": [
    "## El comando ```cat```.\n",
    "\n",
    "El comando ```cat``` permite redireccionar flujos de textos tanto en archivos como en la salida estándar y la entrada estándar."
   ]
  },
  {
   "cell_type": "markdown",
   "metadata": {},
   "source": [
    "### Despliegue de un archivo convencional a la salida estándar.\n",
    "\n",
    "El comando ```cat``` puede extraer y desplegar el contenido de un archivo y enviarlo a la salida estándar mediante la siguiente sintaxis: \n",
    "\n",
    "```\n",
    "cat <ruta 1> <ruta 2> ... <ruta n> \n",
    "```\n",
    "\n",
    "Donde:\n",
    "\n",
    "* ```<ruta i>``` es la ruta a un flujo de datos.\n",
    "\n",
    "**Nota:** El flujo de datos por defecto es ```stdin``` y se termina de capturar tecleando <kbd>Ctrl</kbd><kbd>D</kbd>."
   ]
  },
  {
   "cell_type": "markdown",
   "metadata": {},
   "source": [
    "**Ejemplos:**"
   ]
  },
  {
   "cell_type": "markdown",
   "metadata": {},
   "source": []
  },
  {
   "cell_type": "code",
   "execution_count": null,
   "metadata": {
    "scrolled": false
   },
   "outputs": [],
   "source": [
    "cat README.md"
   ]
  },
  {
   "cell_type": "markdown",
   "metadata": {},
   "source": []
  },
  {
   "cell_type": "code",
   "execution_count": null,
   "metadata": {},
   "outputs": [],
   "source": [
    "cat README.md .gitignore"
   ]
  },
  {
   "cell_type": "markdown",
   "metadata": {},
   "source": [
    "### Redireccionamiento de un flujo de datos del sistema.\n",
    "\n",
    "Como ya se comentó previamente, UNIX y GNU/Linux consideran a los procesos y a los dispostivos como archivos, con la difrencia de que estos archivos están ligados a un flujo constante de datos. Este flujo de datos puede ser considerado como un flujo de texto que puede ser capturado mediante ```cat```."
   ]
  },
  {
   "cell_type": "markdown",
   "metadata": {},
   "source": [
    "**Ejemplo:**\n",
    "\n",
    "**ADVERTENCIA:**\n",
    "\n",
    "No se recomienda realizar el siguiente ejercicio en un sistema crítico ni en una terminal de Jupyter ya que es posible que dicha terminal quede inestable.\n",
    "\n",
    "Si se encuentra utilizando la máquina virtual proporcionada por  Cloudevel<sup>®</sup>, haga lo siguiente:\n",
    "* Ingrese a la consola de Virtualbox e inicie una sesión con el usuario *root* y la contraseña *0p3n5t4ckCDMX*.\n",
    "* Asegúrese de que la consola capture los eventos de su dispositivo apuntador, haciendo click en la ventana de dicha consola. El mouse desaparecerá.\n",
    "* Ejecute el comando ```sudo cat /dev/input/mice```.\n",
    "\n",
    "Este comando enviará a la salida estándar de la terminal una serie de caracteres que corresponden a una representación de los eventos del dispositivo.\n",
    "\n",
    "* Para dejar de capturar los eventos del dispositivo teclee <kbd>Ctrl</kbd><kbd>C</kbd>.\n",
    "\n",
    "Para que la terminal de Virtualbox deje de capturar los eventos del dispositivo, accione la tecla <kbd>Ctrl</kbd> a la derecha de su teclado. Si usa una Mac, accione la tecla la tecla <kbd>Cmd</kbd> a la derecha de su teclado."
   ]
  },
  {
   "cell_type": "markdown",
   "metadata": {},
   "source": [
    "### Redireccionamiento de la entrada estándar.\n",
    "\n",
    "```\n",
    "cat\n",
    "```\n",
    "<kbd>Ctrl</kbd><kbd>D</kbd>"
   ]
  },
  {
   "cell_type": "markdown",
   "metadata": {},
   "source": [
    "### La *manpage* de ```cat```."
   ]
  },
  {
   "cell_type": "code",
   "execution_count": null,
   "metadata": {
    "scrolled": true
   },
   "outputs": [],
   "source": [
    "man cat"
   ]
  },
  {
   "cell_type": "markdown",
   "metadata": {},
   "source": [
    "## Redireccionamieto de un flujo de texto desde y hacia archivos."
   ]
  },
  {
   "cell_type": "markdown",
   "metadata": {},
   "source": [
    "### Envío a un archivo con ```>```.\n",
    "\n",
    "Este pipe permite redireccionar ```stdout``` a un archivo. En caso de que el archivo exista, sera sustituido."
   ]
  },
  {
   "cell_type": "markdown",
   "metadata": {},
   "source": [
    "**Ejemplos:**"
   ]
  },
  {
   "cell_type": "code",
   "execution_count": null,
   "metadata": {},
   "outputs": [],
   "source": [
    "echo -e \"Saludos.\\nEste es un mensaje de texto.\" > ~/saludo.txt"
   ]
  },
  {
   "cell_type": "code",
   "execution_count": null,
   "metadata": {},
   "outputs": [],
   "source": [
    "cat ~/saludo.txt"
   ]
  },
  {
   "cell_type": "code",
   "execution_count": null,
   "metadata": {},
   "outputs": [],
   "source": [
    "ls -i > ~/listado.txt"
   ]
  },
  {
   "cell_type": "code",
   "execution_count": null,
   "metadata": {},
   "outputs": [],
   "source": [
    "cat ~/listado.txt"
   ]
  },
  {
   "cell_type": "code",
   "execution_count": null,
   "metadata": {},
   "outputs": [],
   "source": [
    "cat ~/listado.txt ~/saludo.txt > ~/concatenado.txt"
   ]
  },
  {
   "cell_type": "code",
   "execution_count": null,
   "metadata": {},
   "outputs": [],
   "source": [
    "cat ~/concatenado.txt"
   ]
  },
  {
   "cell_type": "markdown",
   "metadata": {},
   "source": [
    "```\n",
    "cat > ~/escrito.txt\n",
    "```"
   ]
  },
  {
   "cell_type": "code",
   "execution_count": null,
   "metadata": {},
   "outputs": [],
   "source": [
    "cat ~/escrito.txt"
   ]
  },
  {
   "cell_type": "markdown",
   "metadata": {},
   "source": [
    "### Adición de flujo de texto a un archivo con ```>>```.\n",
    "\n",
    "Este pipe permite redireccionar ```stdin``` a un archivo. En caso de que el archivo exista, el flujo se añadirá al final del archivo."
   ]
  },
  {
   "cell_type": "code",
   "execution_count": null,
   "metadata": {},
   "outputs": [],
   "source": [
    "cat ~/listado.txt"
   ]
  },
  {
   "cell_type": "code",
   "execution_count": null,
   "metadata": {},
   "outputs": [],
   "source": [
    "ls -l >> ~/listado.txt"
   ]
  },
  {
   "cell_type": "code",
   "execution_count": null,
   "metadata": {
    "scrolled": true
   },
   "outputs": [],
   "source": [
    "cat ~/listado.txt"
   ]
  },
  {
   "cell_type": "markdown",
   "metadata": {},
   "source": [
    "### Adición de flujo de texto a un archivo con ```<```."
   ]
  },
  {
   "cell_type": "code",
   "execution_count": null,
   "metadata": {},
   "outputs": [],
   "source": [
    "cat < ~/saludo.txt"
   ]
  },
  {
   "cell_type": "markdown",
   "metadata": {},
   "source": [
    "### Redireccionamiento de ```stderr``` a un archivo.\n",
    "\n",
    "\n",
    "```\n",
    "<flujo> 2> <archivo>\n",
    "```\n",
    "\n",
    "```\n",
    "<flujo> 2>> <archivo>\n",
    "```"
   ]
  },
  {
   "cell_type": "code",
   "execution_count": null,
   "metadata": {},
   "outputs": [],
   "source": [
    "ls erróneo"
   ]
  },
  {
   "cell_type": "code",
   "execution_count": null,
   "metadata": {},
   "outputs": [],
   "source": [
    "cat ~/error.txt"
   ]
  },
  {
   "cell_type": "code",
   "execution_count": null,
   "metadata": {},
   "outputs": [],
   "source": [
    "ls 2> ~/error.txt"
   ]
  },
  {
   "cell_type": "code",
   "execution_count": null,
   "metadata": {},
   "outputs": [],
   "source": [
    "cat ~/error.txt"
   ]
  },
  {
   "cell_type": "code",
   "execution_count": null,
   "metadata": {},
   "outputs": [],
   "source": [
    "ls erróneo 2>> ~/error.txt"
   ]
  },
  {
   "cell_type": "code",
   "execution_count": null,
   "metadata": {},
   "outputs": [],
   "source": [
    "cat ~/error.txt"
   ]
  },
  {
   "cell_type": "markdown",
   "metadata": {},
   "source": [
    "## Filtros."
   ]
  },
  {
   "cell_type": "markdown",
   "metadata": {},
   "source": [
    "Los fitros son aplicaciones con capacidad de procesar (modificar o analizar) el flujo de texto que recibe, dando por resultado otro flujo de texto."
   ]
  },
  {
   "cell_type": "markdown",
   "metadata": {},
   "source": [
    "### Visualización de texto en una ventana mediante  ```less``` y ```more```. \n",
    "\n",
    "El filtro ```less``` permite usar una ventana similar a la de ```man``` en una terminal.\n",
    "\n",
    "\n",
    "**Ejemplos:**\n",
    "\n",
    "* Abra una terminal de Jupyter y ejecute el comando ```less cd101/README.md```.\n",
    "\n",
    "* Abra una terminal de Jupyter y ejecute el comando ```more cd101/README.md```.\n",
    "\n",
    "**Nota:**\n",
    "Para salir de la ventana, use la tecla <kbd>q</kbd>."
   ]
  },
  {
   "cell_type": "markdown",
   "metadata": {},
   "source": [
    "#### La *manpage* de ```less```."
   ]
  },
  {
   "cell_type": "code",
   "execution_count": null,
   "metadata": {},
   "outputs": [],
   "source": [
    "man less"
   ]
  },
  {
   "cell_type": "markdown",
   "metadata": {},
   "source": [
    "#### La *manpage* de ```more```."
   ]
  },
  {
   "cell_type": "code",
   "execution_count": null,
   "metadata": {},
   "outputs": [],
   "source": [
    "man more"
   ]
  },
  {
   "cell_type": "markdown",
   "metadata": {},
   "source": [
    "### El comando ```head```.\n",
    "\n",
    "Este comando permite desplegar la primeras 10 líneas de un flujo de texto.\n",
    "\n",
    "```\n",
    "head <opciones> <archivo>\n",
    "```\n",
    "\n",
    "Donde: \n",
    "\n",
    "* ```<archivo>``` es un archivo flujo de texto.\n",
    "\n",
    "La opción ```-n``` permite indicaer el número de líneas que desplegará ```head```."
   ]
  },
  {
   "cell_type": "code",
   "execution_count": null,
   "metadata": {},
   "outputs": [],
   "source": [
    "head LICENSE"
   ]
  },
  {
   "cell_type": "code",
   "execution_count": null,
   "metadata": {},
   "outputs": [],
   "source": [
    "head LICENSE -n 4"
   ]
  },
  {
   "cell_type": "markdown",
   "metadata": {},
   "source": [
    "#### La manpage de ```head```."
   ]
  },
  {
   "cell_type": "code",
   "execution_count": null,
   "metadata": {},
   "outputs": [],
   "source": [
    "man head"
   ]
  },
  {
   "cell_type": "markdown",
   "metadata": {},
   "source": [
    "### El comando ```tail```.\n",
    "\n",
    "Este comando permite desplegar la últimas 10 líneas de un flujo de texto.\n",
    "\n",
    "```\n",
    "tail <flujo de texto>\n",
    "```\n",
    "\n",
    "La opción -n permite indicaer el número de líneas que desplegará ```tail```.\n"
   ]
  },
  {
   "cell_type": "code",
   "execution_count": null,
   "metadata": {
    "scrolled": true
   },
   "outputs": [],
   "source": [
    "tail README.md"
   ]
  },
  {
   "cell_type": "code",
   "execution_count": null,
   "metadata": {},
   "outputs": [],
   "source": [
    "tail README.md -n 4"
   ]
  },
  {
   "cell_type": "markdown",
   "metadata": {},
   "source": [
    "#### La manpage de ```tail```."
   ]
  },
  {
   "cell_type": "code",
   "execution_count": null,
   "metadata": {},
   "outputs": [],
   "source": [
    "man tail"
   ]
  },
  {
   "cell_type": "markdown",
   "metadata": {},
   "source": [
    "### El comando ```wc```.\n",
    "\n",
    "Este comando permite contar los elementos de un flujo de texto\n",
    "```\n",
    "wc <flujo de texto> <opciones>\n",
    "```\n",
    "\n",
    "Al ejecutar este comando sin opciones, este regresará:\n",
    "\n",
    "* El número de líneas del flujo.\n",
    "* El número de palabras del flujo.\n",
    "* El número de caracteres del flujo.\n",
    "\n",
    "#### Opciones .\n",
    "\n",
    "* La opción ```-l``` desplegará el número de líneas.\n",
    "* La opción ```-w``` desplegará el número de palabras.\n",
    "* La opción ```-c``` desplegará el número de caracteres."
   ]
  },
  {
   "cell_type": "code",
   "execution_count": null,
   "metadata": {},
   "outputs": [],
   "source": [
    "wc README.md"
   ]
  },
  {
   "cell_type": "code",
   "execution_count": null,
   "metadata": {},
   "outputs": [],
   "source": [
    "wc README.md -l"
   ]
  },
  {
   "cell_type": "code",
   "execution_count": null,
   "metadata": {},
   "outputs": [],
   "source": [
    "wc README.md -w"
   ]
  },
  {
   "cell_type": "code",
   "execution_count": null,
   "metadata": {
    "scrolled": true
   },
   "outputs": [],
   "source": [
    "wc README.md -c"
   ]
  },
  {
   "cell_type": "code",
   "execution_count": null,
   "metadata": {},
   "outputs": [],
   "source": [
    "wc README.md -cw"
   ]
  },
  {
   "cell_type": "markdown",
   "metadata": {},
   "source": [
    "#### La manpage de ```wc```."
   ]
  },
  {
   "cell_type": "code",
   "execution_count": null,
   "metadata": {},
   "outputs": [],
   "source": [
    "man wc"
   ]
  },
  {
   "cell_type": "markdown",
   "metadata": {},
   "source": [
    "### El comando ```nl```.\n",
    "\n",
    "Este comando le asignará y desplegará un número consecutivo a la izquierda de cada línea del flujo.\n",
    "\n",
    "```\n",
    "nl <flujo>\n",
    "```"
   ]
  },
  {
   "cell_type": "code",
   "execution_count": null,
   "metadata": {},
   "outputs": [],
   "source": [
    "nl README.md"
   ]
  },
  {
   "cell_type": "markdown",
   "metadata": {},
   "source": [
    "#### La manpage de ```nl```."
   ]
  },
  {
   "cell_type": "code",
   "execution_count": null,
   "metadata": {},
   "outputs": [],
   "source": [
    "man nl"
   ]
  },
  {
   "cell_type": "markdown",
   "metadata": {},
   "source": [
    "### El comando  ```sort ```.\n",
    "\n",
    "Este comando regresa el contenido del flujo de texto ingresado, ordenado a partir de varios criterios.\n",
    "\n",
    "```\n",
    "sort <flujo de texto> <opciones>\n",
    "```\n",
    "\n",
    "Si el comando ```sort``` se utiliza sin opciones, realizará un orden a partir de los caracteres de cada línea de menos a mayor. \n",
    "\n",
    "\n",
    "### Opciones.\n",
    "\n",
    "* La opción ```-r``` hace el ordenamiento inverso.\n",
    "* La opción ```-n``` realiza un ordenamiento numérico. "
   ]
  },
  {
   "cell_type": "code",
   "execution_count": 46,
   "metadata": {},
   "outputs": [],
   "source": [
    "echo -e \"Hugo\\nPaco\\nLuis\" > ~/patos.txt"
   ]
  },
  {
   "cell_type": "code",
   "execution_count": null,
   "metadata": {},
   "outputs": [],
   "source": [
    "cat ~/patos.txt"
   ]
  },
  {
   "cell_type": "code",
   "execution_count": null,
   "metadata": {},
   "outputs": [],
   "source": [
    "sort ~/patos.txt"
   ]
  },
  {
   "cell_type": "code",
   "execution_count": null,
   "metadata": {},
   "outputs": [],
   "source": [
    "echo -e \"Sota\\nCaballo\\nRey\" > ~/cartas.txt"
   ]
  },
  {
   "cell_type": "code",
   "execution_count": null,
   "metadata": {},
   "outputs": [],
   "source": [
    "cat ~/cartas.txt"
   ]
  },
  {
   "cell_type": "code",
   "execution_count": null,
   "metadata": {},
   "outputs": [],
   "source": [
    "sort ~/patos.txt ~/cartas.txt"
   ]
  },
  {
   "cell_type": "code",
   "execution_count": null,
   "metadata": {},
   "outputs": [],
   "source": [
    "sort ~/patos.txt ~/cartas.txt -r"
   ]
  },
  {
   "cell_type": "code",
   "execution_count": null,
   "metadata": {},
   "outputs": [],
   "source": [
    "echo -e \"2\\n5\\n21\\n32\\n6\\n245\\n\" > ~/numeros.txt"
   ]
  },
  {
   "cell_type": "code",
   "execution_count": null,
   "metadata": {},
   "outputs": [],
   "source": [
    "cat ~/numeros.txt"
   ]
  },
  {
   "cell_type": "code",
   "execution_count": null,
   "metadata": {},
   "outputs": [],
   "source": [
    "sort ~/numeros.txt"
   ]
  },
  {
   "cell_type": "code",
   "execution_count": null,
   "metadata": {},
   "outputs": [],
   "source": [
    "sort ~/numeros.txt -n"
   ]
  },
  {
   "cell_type": "markdown",
   "metadata": {},
   "source": [
    "#### La manpage de ```sort```."
   ]
  },
  {
   "cell_type": "code",
   "execution_count": null,
   "metadata": {},
   "outputs": [],
   "source": [
    "man sort"
   ]
  },
  {
   "cell_type": "markdown",
   "metadata": {},
   "source": [
    "### El comando ```split```.\n",
    "\n",
    "Este comando permite dividir un flujo de texto en segmentos, los cuales son guardados en archivos cuyos nombres se generan a a partir de  prefijos.\n",
    "\n",
    "Si no se indica ningúna opción, split creará segmentos de ```1000``` líneas con el prefijo ```x``` y sufijos de dos valores alfabéticos empezando con ```aa```.\n",
    "\n",
    "#### Opciones.\n",
    "\n",
    "* La opción ```-l``` indica el número de líneas por segmento.\n",
    "* La opción ```-n``` indica el número de segmentos en el que se dividirá el flujo.\n",
    "* La opción ```-d``` indica que los sufijos deben de ser numéricos."
   ]
  },
  {
   "cell_type": "code",
   "execution_count": null,
   "metadata": {},
   "outputs": [],
   "source": [
    "split README.md -l 5"
   ]
  },
  {
   "cell_type": "markdown",
   "metadata": {},
   "source": [
    "El resultado son los archivos ```xaa```, ```xab```, ```xac```, ```xad``` y así sucesivamente."
   ]
  },
  {
   "cell_type": "code",
   "execution_count": null,
   "metadata": {},
   "outputs": [],
   "source": [
    "ls"
   ]
  },
  {
   "cell_type": "code",
   "execution_count": null,
   "metadata": {},
   "outputs": [],
   "source": [
    "wc -l xaa"
   ]
  },
  {
   "cell_type": "code",
   "execution_count": null,
   "metadata": {},
   "outputs": [],
   "source": [
    "cat xab"
   ]
  },
  {
   "cell_type": "code",
   "execution_count": null,
   "metadata": {},
   "outputs": [],
   "source": [
    "wc -l xab"
   ]
  },
  {
   "cell_type": "code",
   "execution_count": null,
   "metadata": {},
   "outputs": [],
   "source": [
    "cat xac"
   ]
  },
  {
   "cell_type": "code",
   "execution_count": null,
   "metadata": {},
   "outputs": [],
   "source": [
    "wc -l xac"
   ]
  },
  {
   "cell_type": "code",
   "execution_count": null,
   "metadata": {
    "scrolled": true
   },
   "outputs": [],
   "source": [
    "cat xad"
   ]
  },
  {
   "cell_type": "code",
   "execution_count": null,
   "metadata": {},
   "outputs": [],
   "source": [
    "wc -l xac"
   ]
  },
  {
   "cell_type": "markdown",
   "metadata": {},
   "source": [
    "* La siguiente celda creará exactamente 3 archivos a partir de ```README.md``` y los archivos resultantes estárán numerados."
   ]
  },
  {
   "cell_type": "code",
   "execution_count": null,
   "metadata": {},
   "outputs": [],
   "source": [
    "split README.md -n 3 -d"
   ]
  },
  {
   "cell_type": "markdown",
   "metadata": {},
   "source": [
    "El resultado son los archivos ```x00```  ```x01``` ```x02```."
   ]
  },
  {
   "cell_type": "code",
   "execution_count": null,
   "metadata": {},
   "outputs": [],
   "source": [
    "cat x00"
   ]
  },
  {
   "cell_type": "code",
   "execution_count": null,
   "metadata": {
    "scrolled": true
   },
   "outputs": [],
   "source": [
    "cat x01"
   ]
  },
  {
   "cell_type": "code",
   "execution_count": null,
   "metadata": {},
   "outputs": [],
   "source": [
    "cat x02"
   ]
  },
  {
   "cell_type": "markdown",
   "metadata": {},
   "source": [
    "#### La manpage de ```split```."
   ]
  },
  {
   "cell_type": "code",
   "execution_count": null,
   "metadata": {},
   "outputs": [],
   "source": [
    "man split"
   ]
  },
  {
   "cell_type": "markdown",
   "metadata": {},
   "source": [
    "### El comando ```cut```.\n",
    "\n",
    "Este comando permite extraer rangos de texto de cada línea de un flujo de texto.\n",
    "\n",
    "```\n",
    "cut <flujo de texto> <opciones>\n",
    "```\n",
    "\n",
    "#### Definiendo un rango de caracteres.\n",
    "* La opción ```-c``` define el rango de caracteres .\n",
    "\n",
    "```\n",
    "cut <flujo de texto> -c<posición de inicio>-<posición final>\n",
    "```"
   ]
  },
  {
   "cell_type": "code",
   "execution_count": null,
   "metadata": {},
   "outputs": [],
   "source": [
    "cut README.md -c5-10"
   ]
  },
  {
   "cell_type": "code",
   "execution_count": null,
   "metadata": {},
   "outputs": [],
   "source": [
    "cut README.md -c10-"
   ]
  },
  {
   "cell_type": "markdown",
   "metadata": {},
   "source": [
    "#### Usando campos delimitados por tabuladores.\n",
    "\n",
    "Si el flujo de texto contiene tabuladores, cada tabulador conforma a un campo que puede sder indizado a partir del 1.\n",
    "\n",
    "La opción ```-f``` permite extraer un rango de campos.\n",
    "\n",
    "```\n",
    "cut <flujo de texto> -f<posición de inicio>-<posición final>\n",
    "```"
   ]
  },
  {
   "cell_type": "code",
   "execution_count": null,
   "metadata": {},
   "outputs": [],
   "source": [
    "echo -e '1\\t2\\t3\\t4\\t5\\nuno\\tdos\\ttres\\tcuatro\\tcinco' > ~/campos.txt"
   ]
  },
  {
   "cell_type": "code",
   "execution_count": null,
   "metadata": {},
   "outputs": [],
   "source": [
    "cat ~/campos.txt"
   ]
  },
  {
   "cell_type": "code",
   "execution_count": null,
   "metadata": {},
   "outputs": [],
   "source": [
    "cut ~/campos.txt -f1"
   ]
  },
  {
   "cell_type": "code",
   "execution_count": null,
   "metadata": {
    "scrolled": true
   },
   "outputs": [],
   "source": [
    "cut ~/campos.txt -f3-"
   ]
  },
  {
   "cell_type": "markdown",
   "metadata": {},
   "source": [
    "#### Definiendo un seperador distinto a un tabulador.\n",
    "\n",
    "La opción ```-d``` permite definir un caracter delimitador distinto del tabulador.\n",
    "\n",
    "```\n",
    "cut <flujo de texto> -d\"<caracter>\" -f<posición de inicio>-<posición final>\n",
    "```"
   ]
  },
  {
   "cell_type": "code",
   "execution_count": null,
   "metadata": {},
   "outputs": [],
   "source": [
    "echo -e '1|2|3|4|5\\nuno|dos|tres|cuatro|cinco' > ~/separados.txt"
   ]
  },
  {
   "cell_type": "code",
   "execution_count": null,
   "metadata": {},
   "outputs": [],
   "source": [
    "cat ~/separados.txt"
   ]
  },
  {
   "cell_type": "code",
   "execution_count": null,
   "metadata": {},
   "outputs": [],
   "source": [
    "cut ~/separados.txt -d\"|\" -f1"
   ]
  },
  {
   "cell_type": "code",
   "execution_count": null,
   "metadata": {},
   "outputs": [],
   "source": [
    "cut ~/separados.txt -d\"|\" -f-5"
   ]
  },
  {
   "cell_type": "code",
   "execution_count": null,
   "metadata": {},
   "outputs": [],
   "source": [
    "cut ~/separados.txt -d\"|\" -f3-4"
   ]
  },
  {
   "cell_type": "markdown",
   "metadata": {},
   "source": [
    "* El archivo ```etc/passwd``` contiene los datos de los usuarios del sistema, separados por ```:```."
   ]
  },
  {
   "cell_type": "code",
   "execution_count": null,
   "metadata": {},
   "outputs": [],
   "source": [
    "cat /etc/passwd"
   ]
  },
  {
   "cell_type": "code",
   "execution_count": null,
   "metadata": {},
   "outputs": [],
   "source": [
    "cut  /etc/passwd -d\":\" -f7"
   ]
  },
  {
   "cell_type": "markdown",
   "metadata": {},
   "source": [
    "#### La manpage de ```cut```."
   ]
  },
  {
   "cell_type": "code",
   "execution_count": null,
   "metadata": {},
   "outputs": [],
   "source": [
    "man cut"
   ]
  },
  {
   "cell_type": "markdown",
   "metadata": {},
   "source": [
    "### El comando ```paste```.\n",
    "\n",
    "Este comando permite unir en un sólo flujo de texto a más de un archivo, pegando línea por  línea y utilizando un tabulador como separador.\n",
    "\n",
    "```\n",
    "paste <archivo 1> <archivo 2> ... <archivo n>\n",
    "```"
   ]
  },
  {
   "cell_type": "code",
   "execution_count": null,
   "metadata": {},
   "outputs": [],
   "source": [
    "paste ~/patos.txt ~/cartas.txt"
   ]
  },
  {
   "cell_type": "markdown",
   "metadata": {},
   "source": [
    "#### La manpage de ```paste```."
   ]
  },
  {
   "cell_type": "code",
   "execution_count": null,
   "metadata": {
    "scrolled": true
   },
   "outputs": [],
   "source": [
    "man paste"
   ]
  },
  {
   "cell_type": "markdown",
   "metadata": {},
   "source": [
    "### El comando ```uniq```.\n",
    "\n",
    "El comando ```uniq``` identifica líneas contiguas que se repiten en un flujo de texto.\n",
    "\n",
    "```\n",
    "uniq <flujo de texto> <opciones>\n",
    "```\n",
    "\n",
    "Si se ejecuta sin opciones, deslpegará el contenido original, sustrayendo las líneas contiguas repetidas.\n",
    "\n",
    "#### Opciones.\n",
    "\n",
    "* La opción ```-c``` añade el número de repeticiones contiguas de una línea.\n",
    "* La opción ```-d``` despliega sólo aquellas líneas que sufren de repetición."
   ]
  },
  {
   "cell_type": "code",
   "execution_count": null,
   "metadata": {},
   "outputs": [],
   "source": [
    "echo -e \"no repetida 1\\nno repetida 2\\nrepetida\\nrepetida\\nrepetida\\nno repetida 3\\nrepetida\\nno repetida 4\" > ~/repetidos.txt"
   ]
  },
  {
   "cell_type": "code",
   "execution_count": 38,
   "metadata": {},
   "outputs": [
    {
     "name": "stdout",
     "output_type": "stream",
     "text": [
      "no repetida 1\n",
      "no repetida 2\n",
      "repetida\n",
      "repetida\n",
      "repetida\n",
      "no repetida 3\n",
      "repetida\n",
      "no repetida 4\n"
     ]
    }
   ],
   "source": [
    "cat ~/repetidos.txt"
   ]
  },
  {
   "cell_type": "code",
   "execution_count": 39,
   "metadata": {},
   "outputs": [
    {
     "name": "stdout",
     "output_type": "stream",
     "text": [
      "no repetida 1\n",
      "no repetida 2\n",
      "repetida\n",
      "no repetida 3\n",
      "repetida\n",
      "no repetida 4\n"
     ]
    }
   ],
   "source": [
    "uniq ~/repetidos.txt"
   ]
  },
  {
   "cell_type": "code",
   "execution_count": 40,
   "metadata": {},
   "outputs": [
    {
     "name": "stdout",
     "output_type": "stream",
     "text": [
      "      1 no repetida 1\n",
      "      1 no repetida 2\n",
      "      3 repetida\n",
      "      1 no repetida 3\n",
      "      1 repetida\n",
      "      1 no repetida 4\n"
     ]
    }
   ],
   "source": [
    "uniq -c ~/repetidos.txt"
   ]
  },
  {
   "cell_type": "code",
   "execution_count": 41,
   "metadata": {},
   "outputs": [
    {
     "name": "stdout",
     "output_type": "stream",
     "text": [
      "repetida\n"
     ]
    }
   ],
   "source": [
    "uniq -d ~/repetidos.txt"
   ]
  },
  {
   "cell_type": "code",
   "execution_count": 42,
   "metadata": {},
   "outputs": [
    {
     "name": "stdout",
     "output_type": "stream",
     "text": [
      "      3 repetida\n"
     ]
    }
   ],
   "source": [
    "uniq ~/repetidos.txt -dc"
   ]
  },
  {
   "cell_type": "markdown",
   "metadata": {},
   "source": [
    "#### La manpage de ```uniq```."
   ]
  },
  {
   "cell_type": "code",
   "execution_count": null,
   "metadata": {},
   "outputs": [],
   "source": [
    "man uniq"
   ]
  },
  {
   "cell_type": "markdown",
   "metadata": {},
   "source": [
    "## El comando ```tac```.\n",
    "\n",
    "El comando ```tac``` similar a ```cat```, pero regresa los contenidos en orden inverso linea por línea."
   ]
  },
  {
   "cell_type": "code",
   "execution_count": 43,
   "metadata": {},
   "outputs": [
    {
     "name": "stdout",
     "output_type": "stream",
     "text": [
      "SOFTWARE.\n",
      "OUT OF OR IN CONNECTION WITH THE SOFTWARE OR THE USE OR OTHER DEALINGS IN THE\n",
      "LIABILITY, WHETHER IN AN ACTION OF CONTRACT, TORT OR OTHERWISE, ARISING FROM,\n",
      "AUTHORS OR COPYRIGHT HOLDERS BE LIABLE FOR ANY CLAIM, DAMAGES OR OTHER\n",
      "FITNESS FOR A PARTICULAR PURPOSE AND NONINFRINGEMENT. IN NO EVENT SHALL THE\n",
      "IMPLIED, INCLUDING BUT NOT LIMITED TO THE WARRANTIES OF MERCHANTABILITY,\n",
      "THE SOFTWARE IS PROVIDED \"AS IS\", WITHOUT WARRANTY OF ANY KIND, EXPRESS OR\n",
      "\n",
      "copies or substantial portions of the Software.\n",
      "The above copiaright notice and this permission notice shall be included in all\n",
      "\n",
      "furnished to do so, subject to the following conditions:\n",
      "copies of the Software, and to permit persons to whom the Software is\n",
      "t use, copia, modify, merge, publish, distribute, sublicense, and/or sell\n",
      "in the Software without restriction, including without limitation the rights\n",
      "of this software and associated documentation files (the \"Software\"), to deal\n",
      "ssion is hereby granted, free of charge, to any person obtaining a copy\n",
      "\n",
      "Copyright (c) 2018 Cloudevel®\n",
      "\n",
      "MIT License\n"
     ]
    }
   ],
   "source": [
    "tac LICENSE"
   ]
  },
  {
   "cell_type": "markdown",
   "metadata": {},
   "source": [
    "## El comando ```join```.\n",
    "\n",
    "* ```join``` permite extaer las líneas idénticas entre archivos cuyo contenido esté dispuesto de forma ordenada con otro que también esté dispuesto de la misma forma."
   ]
  },
  {
   "cell_type": "code",
   "execution_count": null,
   "metadata": {},
   "outputs": [],
   "source": [
    "echo -e \"Hugo\\nLuis\\nDonald\\nRosita\\nTío Rico\" > ~/maspatos.txt"
   ]
  },
  {
   "cell_type": "code",
   "execution_count": null,
   "metadata": {},
   "outputs": [],
   "source": [
    "cat ~/maspatos.txt"
   ]
  },
  {
   "cell_type": "code",
   "execution_count": null,
   "metadata": {},
   "outputs": [],
   "source": [
    "sort ~/patos.txt > ~/patos_ord.txt"
   ]
  },
  {
   "cell_type": "code",
   "execution_count": null,
   "metadata": {},
   "outputs": [],
   "source": [
    "sort ~/maspatos.txt > ~/maspatos_ord.txt"
   ]
  },
  {
   "cell_type": "code",
   "execution_count": null,
   "metadata": {},
   "outputs": [],
   "source": [
    "join ~/patos_ord.txt ~/maspatos_ord.txt"
   ]
  },
  {
   "cell_type": "markdown",
   "metadata": {},
   "source": [
    "## El comando ```comm```.\n",
    "\n",
    "El comando ```comm``` compara archivos cuyo contenido esté dispuesto de forma ordenada. "
   ]
  },
  {
   "cell_type": "code",
   "execution_count": 47,
   "metadata": {},
   "outputs": [
    {
     "name": "stdout",
     "output_type": "stream",
     "text": [
      "\tDonald\n",
      "\t\tHugo\n",
      "\t\tLuis\n",
      "Paco\n",
      "\tRosita\n",
      "\tTío Rico\n"
     ]
    }
   ],
   "source": [
    "comm ~/patos_ord.txt ~/maspatos_ord.txt"
   ]
  },
  {
   "cell_type": "code",
   "execution_count": 48,
   "metadata": {},
   "outputs": [
    {
     "name": "stdout",
     "output_type": "stream",
     "text": [
      "\t\tHugo\n",
      "\tLuis\n",
      "comm: file 2 is not in sorted order\n",
      "\tDonald\n",
      "Paco\n",
      "comm: file 1 is not in sorted order\n",
      "Luis\n",
      "\tRosita\n",
      "\tTío Rico\n"
     ]
    },
    {
     "ename": "",
     "evalue": "1",
     "output_type": "error",
     "traceback": []
    }
   ],
   "source": [
    "comm ~/patos.txt ~/maspatos.txt"
   ]
  },
  {
   "cell_type": "markdown",
   "metadata": {},
   "source": [
    "## El comando ```diff```.\n",
    "\n",
    "El comando ```diff``` genera un reporte de las diferencias entre archivos."
   ]
  },
  {
   "cell_type": "code",
   "execution_count": 49,
   "metadata": {
    "scrolled": true
   },
   "outputs": [
    {
     "name": "stdout",
     "output_type": "stream",
     "text": [
      "2d1\n",
      "< Paco\n",
      "3a3,5\n",
      "> Donald\n",
      "> Rosita\n",
      "> Tío Rico\n"
     ]
    },
    {
     "ename": "",
     "evalue": "1",
     "output_type": "error",
     "traceback": []
    }
   ],
   "source": [
    "diff ~/patos.txt ~/maspatos.txt"
   ]
  },
  {
   "cell_type": "code",
   "execution_count": 50,
   "metadata": {
    "scrolled": true
   },
   "outputs": [
    {
     "name": "stdout",
     "output_type": "stream",
     "text": [
      "1a2\n",
      "> Paco\n",
      "3,5d3\n",
      "< Donald\n",
      "< Rosita\n",
      "< Tío Rico\n"
     ]
    },
    {
     "ename": "",
     "evalue": "1",
     "output_type": "error",
     "traceback": []
    }
   ],
   "source": [
    "diff ~/maspatos.txt ~/patos.txt"
   ]
  },
  {
   "cell_type": "markdown",
   "metadata": {},
   "source": [
    "## El comando ```patch```.\n",
    "\n",
    "El comando ```patch``` permite aplicar un archivo resultante de ```diff``` a un archivo original para transformarlo.\n",
    "\n",
    "```\n",
    "patch <archivo> <parche>\n",
    "```\n",
    "\n",
    "Donde:\n",
    "\n",
    "* ```<archivo>``` es un archivo original.\n",
    "* ```<parche>``` es un archivo con la diferencia entre ```<archivo>``` y una nueva versión de este. \n",
    "\n",
    "Los cambios se realizan directamente en el archivo original."
   ]
  },
  {
   "cell_type": "code",
   "execution_count": 51,
   "metadata": {},
   "outputs": [
    {
     "name": "stdout",
     "output_type": "stream",
     "text": [
      "Hugo\n",
      "Paco\n",
      "Luis\n"
     ]
    }
   ],
   "source": [
    "cat ~/patos.txt"
   ]
  },
  {
   "cell_type": "code",
   "execution_count": 52,
   "metadata": {},
   "outputs": [
    {
     "name": "stdout",
     "output_type": "stream",
     "text": [
      "Hugo\n",
      "Luis\n",
      "Donald\n",
      "Rosita\n",
      "Tío Rico\n"
     ]
    }
   ],
   "source": [
    "cat ~/maspatos.txt"
   ]
  },
  {
   "cell_type": "code",
   "execution_count": 53,
   "metadata": {},
   "outputs": [
    {
     "ename": "",
     "evalue": "1",
     "output_type": "error",
     "traceback": []
    }
   ],
   "source": [
    "diff ~/patos.txt ~/maspatos.txt > ~/parche.txt"
   ]
  },
  {
   "cell_type": "code",
   "execution_count": 54,
   "metadata": {},
   "outputs": [
    {
     "name": "stdout",
     "output_type": "stream",
     "text": [
      "2d1\n",
      "< Paco\n",
      "3a3,5\n",
      "> Donald\n",
      "> Rosita\n",
      "> Tío Rico\n"
     ]
    }
   ],
   "source": [
    "cat ~/parche.txt"
   ]
  },
  {
   "cell_type": "code",
   "execution_count": 55,
   "metadata": {},
   "outputs": [
    {
     "name": "stdout",
     "output_type": "stream",
     "text": [
      "patching file /home/oi/patos.txt\n"
     ]
    }
   ],
   "source": [
    "patch ~/patos.txt ~/parche.txt"
   ]
  },
  {
   "cell_type": "code",
   "execution_count": 56,
   "metadata": {
    "scrolled": true
   },
   "outputs": [
    {
     "name": "stdout",
     "output_type": "stream",
     "text": [
      "Hugo\n",
      "Luis\n",
      "Donald\n",
      "Rosita\n",
      "Tío Rico\n"
     ]
    }
   ],
   "source": [
    "cat ~/patos.txt"
   ]
  },
  {
   "cell_type": "markdown",
   "metadata": {},
   "source": [
    "## Otros filtros.\n",
    "\n",
    "\n",
    "* ```awk``` y ```gawk``` cada uno corresponde un lenguaje de programación creado para procesar flujos de texto.\n",
    "* ```ed``` y ```sed``` correepsonde a un editor de textos que se opera desde la línea de comandos usando expresiones de ```vi```/```vim```.\n",
    "* ```expand``` convierte tabuladores en espacios.\n",
    "* ```unexpand``` convierte múltiples espacios en tabuladores.\n",
    "* ```tr``` extrae caracteres específicos de un texto.\n",
    "* La familia ```grep```.\n",
    "* ```od``` transforma un archivo  en octales.\n",
    "* ```hexdump``` regresa un archivo en formato hexadecimal.\n",
    "\n",
    "### Filtros de formato.\n",
    "\n",
    "* ```troff``` y ```groff``` Es un lenguaje de ```type setting``` para UNIX.\n",
    "* ```pr``` es un filtro que formatea texto para ser impreso. \n",
    "* ```fmt``` es un componenten que permite convertir flujhos de texto en un tipo de archivo especifico.\n",
    "* ```fold``` es un comando que permite formatear el ancho de un documento."
   ]
  },
  {
   "cell_type": "markdown",
   "metadata": {},
   "source": [
    "## El pipe ```|```.\n",
    "\n",
    "Por su naturaleza, los filtros obtienen el flujo de datos mediante una entrada y regresan el resultado por una salida.\n",
    "\n",
    "El shell UNIX y GNU/Linux permite redireccionar las entradas y salidas de un flujo de datos mediante lo que se conoce como *pipes* (tubos), lo que permite redirigir la salida de un filtro a la entrada de otro.\n",
    "\n",
    "```\n",
    "<flujo de texto> | <filtro 1> | <filtro 2> |... | <filtro n> \n",
    "```"
   ]
  },
  {
   "cell_type": "code",
   "execution_count": null,
   "metadata": {},
   "outputs": [],
   "source": [
    "ls"
   ]
  },
  {
   "cell_type": "code",
   "execution_count": null,
   "metadata": {},
   "outputs": [],
   "source": [
    "ls | sort -r"
   ]
  },
  {
   "cell_type": "code",
   "execution_count": null,
   "metadata": {},
   "outputs": [],
   "source": [
    "ls | sort -r | tail -n3 "
   ]
  },
  {
   "cell_type": "code",
   "execution_count": null,
   "metadata": {},
   "outputs": [],
   "source": [
    "ls | sort -r | tail -n3 | cut -c4-"
   ]
  },
  {
   "cell_type": "code",
   "execution_count": null,
   "metadata": {},
   "outputs": [],
   "source": [
    "ls | sort -r | tail -n3 | cut -c4- | wc -c"
   ]
  },
  {
   "cell_type": "markdown",
   "metadata": {},
   "source": [
    "## El  pipe ```tee ```.\n",
    "\n",
    "Este pipe permite guardar el flujo de datos en un achivo y de forma simultánea enviarlo a la entrada de unb pipe.\n",
    "\n",
    "``` \n",
    "<flujo> | tee <archivo> | <filtro> \n",
    "```"
   ]
  },
  {
   "cell_type": "code",
   "execution_count": null,
   "metadata": {},
   "outputs": [],
   "source": [
    "ls ~/lista.txt"
   ]
  },
  {
   "cell_type": "code",
   "execution_count": null,
   "metadata": {},
   "outputs": [],
   "source": [
    "ls | tee ~/lista.txt | sort -r | tail -n3 | cut -c4-"
   ]
  },
  {
   "cell_type": "code",
   "execution_count": null,
   "metadata": {},
   "outputs": [],
   "source": [
    "cat ~/lista.txt"
   ]
  },
  {
   "cell_type": "markdown",
   "metadata": {},
   "source": [
    "<p style=\"text-align: center\"><a rel=\"license\" href=\"http://creativecommons.org/licenses/by/4.0/\"><img alt=\"Licencia Creative Commons\" style=\"border-width:0\" src=\"https://i.creativecommons.org/l/by/4.0/80x15.png\" /></a><br />Esta obra está bajo una <a rel=\"license\" href=\"http://creativecommons.org/licenses/by/4.0/\">Licencia Creative Commons Atribución 4.0 Internacional</a>.</p>\n",
    "<p style=\"text-align: center\">&copy; José Luis Chiquete Valdivieso. 2020.</p>"
   ]
  }
 ],
 "metadata": {
  "kernelspec": {
   "display_name": "Bash",
   "language": "bash",
   "name": "bash"
  },
  "language_info": {
   "codemirror_mode": "shell",
   "file_extension": ".sh",
   "mimetype": "text/x-sh",
   "name": "bash"
  }
 },
 "nbformat": 4,
 "nbformat_minor": 2
}
