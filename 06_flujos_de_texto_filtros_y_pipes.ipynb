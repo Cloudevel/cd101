{
 "cells": [
  {
   "cell_type": "markdown",
   "metadata": {},
   "source": [
    "[![cloudevel](img/cloudevel.png)](https://cloudevel.com)"
   ]
  },
  {
   "cell_type": "markdown",
   "metadata": {},
   "source": [
    "# Flujos de texto, filtros y *pipes*."
   ]
  },
  {
   "cell_type": "markdown",
   "metadata": {},
   "source": [
    "## Entrada estándar, salida estandar y error estándar."
   ]
  },
  {
   "cell_type": "markdown",
   "metadata": {},
   "source": [
    "### Entrada estándar.\n",
    "\n",
    "Se conoce como ```stdin``` y para el usuario corresponde a las señales enviadas por un teclado."
   ]
  },
  {
   "cell_type": "markdown",
   "metadata": {},
   "source": [
    "### Salida estándar.\n",
    "\n",
    "Se conoce como ```stdout``` y en una terminal corresponde a lo que se despliega en  el monitos después de ejecutar un comando."
   ]
  },
  {
   "cell_type": "markdown",
   "metadata": {},
   "source": [
    "**Ejemplo:**"
   ]
  },
  {
   "cell_type": "markdown",
   "metadata": {},
   "source": [
    "* La siguiente celda mostrará la salida estándar resultante de ejecutar el comando ```ls```."
   ]
  },
  {
   "cell_type": "code",
   "execution_count": null,
   "metadata": {},
   "outputs": [],
   "source": [
    "ls"
   ]
  },
  {
   "cell_type": "markdown",
   "metadata": {},
   "source": [
    "### Error estándar.\n",
    "\n",
    "La salida estándar ocurre cuando un comando es ejecutado exitosamente. Sin embargo, el error estándar ```stderr``` corresponde al flujo de texto resultante de un error."
   ]
  },
  {
   "cell_type": "markdown",
   "metadata": {},
   "source": [
    "* La siguiente celda hace referencia al dorectorio ```erroneo```, el cual no existe. Por lo tanto se deslegará un error estándar."
   ]
  },
  {
   "cell_type": "code",
   "execution_count": null,
   "metadata": {},
   "outputs": [],
   "source": [
    "ls erroneo"
   ]
  },
  {
   "cell_type": "markdown",
   "metadata": {},
   "source": [
    "## El comando ```echo```.\n",
    "\n",
    "El comando ```echo```envía un flujo de texto o una expresión a la salida estándar.\n",
    "\n",
    "```\n",
    "echo <opciones> <flujo>\n",
    "```\n",
    "\n",
    "Donde:\n",
    "\n",
    "* ```<flujo>``` echo es un archivo o flujo de texto.\n",
    "\n",
    "\n",
    "O bien:\n",
    "\n",
    "```\n",
    "echo \\$(<expresión>)\n",
    "```\n",
    "\n",
    "\n",
    "Donde:\n",
    "\n",
    "* ```<expresión>``` es una expresión del shell y el resultado será desplegado.\n",
    "\n",
    "**Nota:** El uso de las comillas ```\"``` o apóstrofes ```'```  para delimitar un texto es opcional."
   ]
  },
  {
   "cell_type": "markdown",
   "metadata": {},
   "source": [
    "* La siguiente celda desplegará ```Hola``` en la salida estándar."
   ]
  },
  {
   "cell_type": "code",
   "execution_count": null,
   "metadata": {},
   "outputs": [],
   "source": [
    "echo Hola"
   ]
  },
  {
   "cell_type": "markdown",
   "metadata": {},
   "source": [
    "* Las siguientes celdas desplegarán un mensaje de varias líneas en la salida estándar."
   ]
  },
  {
   "cell_type": "code",
   "execution_count": null,
   "metadata": {},
   "outputs": [],
   "source": [
    "echo \"Hola.\n",
    "Este es un texto de varias líneas.\""
   ]
  },
  {
   "cell_type": "code",
   "execution_count": null,
   "metadata": {
    "scrolled": true
   },
   "outputs": [],
   "source": [
    "echo 'Hola.\n",
    "Este es un texto de varias líneas.'"
   ]
  },
  {
   "cell_type": "markdown",
   "metadata": {},
   "source": [
    "### Despliegue de caracteres especiales.\n",
    "\n",
    "La opción ```-e``` de ```echo``` permite deplegar caracteres especiales usando ```\\``` como caracter de escape dentro de una cadena de caracteres como las siguientes:\n",
    "\n",
    "* ```\\n``` corresponde a un retorno de línea.\n",
    "* ```\\t``` corresponde a un tabulador.\n",
    "* ``` \\0<digito>``` corresponde a un caracter *ASCII* identificado mediante su número de código en octal.\n",
    "* ```\\\\``` se usa para desplegar el caracter ```\\```."
   ]
  },
  {
   "cell_type": "markdown",
   "metadata": {},
   "source": [
    "**EJEMPLOS:**"
   ]
  },
  {
   "cell_type": "markdown",
   "metadata": {},
   "source": [
    "* La cadena de caracteres de la siguiente celda incluye al caracter de escape ```\\n```, pero no será tomado en cuenta por ```echo```."
   ]
  },
  {
   "cell_type": "code",
   "execution_count": null,
   "metadata": {},
   "outputs": [],
   "source": [
    "echo \"Hola\\nMundo.\""
   ]
  },
  {
   "cell_type": "markdown",
   "metadata": {},
   "source": [
    "* La cadena de caracteres de la siguiente celda incluye a los caracter de escape ```\\n``` y ```\\046``` (correspondiente a ```&``` en *ASCII*). Al incluir la opción ```-e```, ```echo``` desplegará los caracteres de escape."
   ]
  },
  {
   "cell_type": "code",
   "execution_count": null,
   "metadata": {},
   "outputs": [],
   "source": [
    "echo -e \"Hola\\nMundo \\046 anexas.\""
   ]
  },
  {
   "cell_type": "markdown",
   "metadata": {},
   "source": [
    "### Despliegue de expresiones y comandos con ```echo```.\n",
    "\n",
    "El comando ```echo``` permite desplegar el resultado de una expresión o la salida estándar de otro comando usando la siguiente sintaxis: \n",
    "\n",
    "```\n",
    "echo $(comando)\n",
    "```\n",
    "\n",
    "Donde:\n",
    "\n",
    "* ```<comando>```  es un comando del *shell*.\n",
    "\n",
    "O bien.\n",
    "\n",
    "```\n",
    "echo $((expresión))\n",
    "```\n",
    "Donde:\n",
    "\n",
    "* ```<expresión>```  es una expresión.\n",
    "\n",
    "**Nota:** Las expresiones serán estudiadfas en capítulos posteriores."
   ]
  },
  {
   "cell_type": "markdown",
   "metadata": {},
   "source": [
    "**Ejemplos:**"
   ]
  },
  {
   "cell_type": "markdown",
   "metadata": {},
   "source": [
    "* La siguiente celda desplegará la salida del comando```ls```."
   ]
  },
  {
   "cell_type": "code",
   "execution_count": null,
   "metadata": {
    "scrolled": true
   },
   "outputs": [],
   "source": [
    "echo $(ls)"
   ]
  },
  {
   "cell_type": "markdown",
   "metadata": {},
   "source": [
    "* La siguiente celda desplegará la salida de la expresión ```6/2```. El resultado será ```1```, en vista de que por defecto, el *shell* usa exclusivamente número enteros."
   ]
  },
  {
   "cell_type": "code",
   "execution_count": null,
   "metadata": {},
   "outputs": [],
   "source": [
    "echo $((6/5))"
   ]
  },
  {
   "cell_type": "markdown",
   "metadata": {},
   "source": [
    "* La siguiente celda desplegará la salida de la expresión ```23565465 - 435435433```. El resultado será ```-411869968```."
   ]
  },
  {
   "cell_type": "code",
   "execution_count": null,
   "metadata": {},
   "outputs": [],
   "source": [
    "echo $((23565465 - 435435433))"
   ]
  },
  {
   "cell_type": "markdown",
   "metadata": {},
   "source": [
    "* La siguiente celda desplegará el valor de la variable ```PATH```.\n",
    "\n",
    "**Nota:** Las variables de entorno se estudiarán posteriormente."
   ]
  },
  {
   "cell_type": "code",
   "execution_count": null,
   "metadata": {},
   "outputs": [],
   "source": [
    "echo $PATH"
   ]
  },
  {
   "cell_type": "markdown",
   "metadata": {},
   "source": [
    "### La *manpage*  de ```echo```."
   ]
  },
  {
   "cell_type": "code",
   "execution_count": null,
   "metadata": {},
   "outputs": [],
   "source": [
    "man echo"
   ]
  },
  {
   "cell_type": "markdown",
   "metadata": {},
   "source": [
    "## El comando ```cat```.\n",
    "\n",
    "El comando ```cat``` permite redireccionar flujos de textos tanto en archivos como en la salida estándar y la entrada estándar."
   ]
  },
  {
   "cell_type": "markdown",
   "metadata": {},
   "source": [
    "### Despliegue de un archivo convencional a la salida estándar.\n",
    "\n",
    "El comando ```cat``` puede extraer y desplegar el contenido de un archivo y enviarlo a la salida estándar mediante la siguiente sintaxis: \n",
    "\n",
    "```\n",
    "cat <ruta 1> <ruta 2> ... <ruta n> \n",
    "```\n",
    "\n",
    "Donde:\n",
    "\n",
    "* ```<ruta i>``` es la ruta a un flujo de datos.\n",
    "\n",
    "**Nota:** El flujo de datos por defecto es ```stdin``` y se termina de capturar tecleando <kbd>Ctrl</kbd><kbd>D</kbd>."
   ]
  },
  {
   "cell_type": "markdown",
   "metadata": {},
   "source": [
    "**Ejemplos:**"
   ]
  },
  {
   "cell_type": "markdown",
   "metadata": {},
   "source": [
    "* La siguiente celda extarerá y enviará a ```stdout``` el contenido del archivo ```README.md``` localizado en el directorio actual."
   ]
  },
  {
   "cell_type": "code",
   "execution_count": 34,
   "metadata": {
    "scrolled": false
   },
   "outputs": [
    {
     "name": "stdout",
     "output_type": "stream",
     "text": [
      "\n",
      "# cd101 \"Introducción a GNU/Linux desde la línea de comandos\".\n",
      "\n",
      "\n",
      "Notebooks de [Jupyter](https://jupyter.org) que incluyen los apuntes del curso cd101 \"Introducción a GNU/Linux desde la línea de comandos\" de [Cloudevel®](https://cloudevel.com). \n",
      "\n",
      "## Nuestra máquina virtual.\n",
      "\n",
      "El código de estas notebooks fue escrito para ser ejecutado en una VM de [Virtualbox](https://virtualbox.org) que hemos diseñado como plataforma del curso, la cual puede ser descargada desde https://cloudevel.com/descargas. \n",
      "\n",
      "Una vez que se ejecute la VM podrá acceder a un servidor de Jupyter totalmente funcional ingresando desde el navegador de su equipo en la dirección ```http://localhost:8999``` con la contraseña ```Jupyter```.\n",
      "\n",
      "\n",
      "## El kernel de Bash para Jupyter.\n",
      "\n",
      "Las notebooks se deben de ejecutar utilizando el [kernel de Bash](https://github.com/takluyver/bash_kernel).\n",
      "\n",
      "\n",
      "## Clonación del repositorio.\n",
      "\n",
      "Para clonar el repositorio en su sistema de archivos local, ejecute desde una terminal:\n",
      "\n",
      "``` bash\n",
      "git clone https://github.com/Cloudevel/cd101.git\n",
      "```\n",
      "\n",
      "Las notebooks son liberadas bajo los términos de la [Licencia MIT](LICENSE).\n"
     ]
    }
   ],
   "source": [
    "cat README.md"
   ]
  },
  {
   "cell_type": "markdown",
   "metadata": {},
   "source": [
    "* La siguiente celda extarerá y enviará a ```stdout``` el contenido de los archivos ```README.md```  y  ```.gitignore``` localizado en el directorio actual."
   ]
  },
  {
   "cell_type": "code",
   "execution_count": 33,
   "metadata": {},
   "outputs": [
    {
     "name": "stdout",
     "output_type": "stream",
     "text": [
      "\n",
      "# cd101 \"Introducción a GNU/Linux desde la línea de comandos\".\n",
      "\n",
      "\n",
      "Notebooks de [Jupyter](https://jupyter.org) que incluyen los apuntes del curso cd101 \"Introducción a GNU/Linux desde la línea de comandos\" de [Cloudevel®](https://cloudevel.com). \n",
      "\n",
      "## Nuestra máquina virtual.\n",
      "\n",
      "El código de estas notebooks fue escrito para ser ejecutado en una VM de [Virtualbox](https://virtualbox.org) que hemos diseñado como plataforma del curso, la cual puede ser descargada desde https://cloudevel.com/descargas. \n",
      "\n",
      "Una vez que se ejecute la VM podrá acceder a un servidor de Jupyter totalmente funcional ingresando desde el navegador de su equipo en la dirección ```http://localhost:8999``` con la contraseña ```Jupyter```.\n",
      "\n",
      "\n",
      "## El kernel de Bash para Jupyter.\n",
      "\n",
      "Las notebooks se deben de ejecutar utilizando el [kernel de Bash](https://github.com/takluyver/bash_kernel).\n",
      "\n",
      "\n",
      "## Clonación del repositorio.\n",
      "\n",
      "Para clonar el repositorio en su sistema de archivos local, ejecute desde una terminal:\n",
      "\n",
      "``` bash\n",
      "git clone https://github.com/Cloudevel/cd101.git\n",
      "```\n",
      "\n",
      "Las notebooks son liberadas bajo los términos de la [Licencia MIT](LICENSE).\n",
      "# Byte-compiled / optimized / DLL files\n",
      "__pycache__/\n",
      "*.py[cod]\n",
      "*$py.class\n",
      "\n",
      "# C extensions\n",
      "*.so\n",
      "\n",
      "# Distribution / packaging\n",
      ".Python\n",
      "build/\n",
      "develop-eggs/\n",
      "dist/\n",
      "downloads/\n",
      "eggs/\n",
      ".eggs/\n",
      "lib/\n",
      "lib64/\n",
      "parts/\n",
      "sdist/\n",
      "var/\n",
      "wheels/\n",
      "*.egg-info/\n",
      ".installed.cfg\n",
      "*.egg\n",
      "MANIFEST\n",
      "\n",
      "# PyInstaller\n",
      "#  Usually these files are written by a python script from a template\n",
      "#  before PyInstaller builds the exe, so as to inject date/other infos into it.\n",
      "*.manifest\n",
      "*.spec\n",
      "\n",
      "# Installer logs\n",
      "pip-log.txt\n",
      "pip-delete-this-directory.txt\n",
      "\n",
      "# Unit test / coverage reports\n",
      "htmlcov/\n",
      ".tox/\n",
      ".coverage\n",
      ".coverage.*\n",
      ".cache\n",
      "nosetests.xml\n",
      "coverage.xml\n",
      "*.cover\n",
      ".hypothesis/\n",
      ".pytest_cache/\n",
      "\n",
      "# Translations\n",
      "*.mo\n",
      "*.pot\n",
      "\n",
      "# Django stuff:\n",
      "*.log\n",
      "local_settings.py\n",
      "db.sqlite3\n",
      "\n",
      "# Flask stuff:\n",
      "instance/\n",
      ".webassets-cache\n",
      "\n",
      "# Scrapy stuff:\n",
      ".scrapy\n",
      "\n",
      "# Sphinx documentation\n",
      "docs/_build/\n",
      "\n",
      "# PyBuilder\n",
      "target/\n",
      "\n",
      "# Jupyter Notebook\n",
      ".ipynb_checkpoints\n",
      "\n",
      "# pyenv\n",
      ".python-version\n",
      "\n",
      "# celery beat schedule file\n",
      "celerybeat-schedule\n",
      "\n",
      "# SageMath parsed files\n",
      "*.sage.py\n",
      "\n",
      "# Environments\n",
      ".env\n",
      ".venv\n",
      "env/\n",
      "venv/\n",
      "ENV/\n",
      "env.bak/\n",
      "venv.bak/\n",
      "\n",
      "# Spyder project settings\n",
      ".spyderproject\n",
      ".spyproject\n",
      "\n",
      "# Rope project settings\n",
      ".ropeproject\n",
      "\n",
      "# mkdocs documentation\n",
      "/site\n",
      "\n",
      "# mypy\n",
      ".mypy_cache/\n"
     ]
    }
   ],
   "source": [
    "cat README.md .gitignore"
   ]
  },
  {
   "cell_type": "markdown",
   "metadata": {},
   "source": [
    "### Redireccionamiento de un flujo de datos del sistema.\n",
    "\n",
    "Como ya se comentó previamente, los sistemas *UNIX* y *GNU/Linux* consideran a los procesos y a los dispostivos como archivos, con la difrencia de que estos archivos están ligados a un flujo constante de datos. Este flujo de datos puede ser considerado como un flujo de texto que puede ser capturado mediante ```cat```."
   ]
  },
  {
   "cell_type": "markdown",
   "metadata": {},
   "source": [
    "**Ejemplo:**\n",
    "\n",
    "**ADVERTENCIA:** No se recomienda realizar el siguiente ejercicio en un sistema crítico ni en una terminal de *Jupyter* ya que es posible que dicha terminal quede inestable.\n",
    "\n",
    "Si se encuentra utilizando la máquina virtual proporcionada por  Cloudevel<sup>®</sup>, haga lo siguiente:\n",
    "\n",
    "* Ingrese a la consola de *Virtualbox* e inicie una sesión con el usuario ```oi``` y la contraseña ```0p3n5t4ck```.\n",
    "* Asegúrese de que la consola capture los eventos de su dispositivo apuntador, haciendo click en la ventana de dicha consola. El mouse desaparecerá.\n",
    "* Ejecute el comando ```sudo cat /dev/input/mice```.\n",
    "\n",
    "Este comando enviará a la salida estándar de la terminal una serie de caracteres que corresponden a una representación de los eventos del dispositivo.\n",
    "\n",
    "* Para dejar de capturar los eventos del dispositivo teclee <kbd>Ctrl</kbd>+<kbd>C</kbd>.\n",
    "\n",
    "Para salir de la consola de la máquina virtual, se acciona la tecla <kbd>Ctrl</kbd> a la derecha del teclado. En *MacOS X*, se acciona la tecla <kbd>Cmd</kbd> a la derecha del teclado."
   ]
  },
  {
   "cell_type": "markdown",
   "metadata": {},
   "source": [
    "### Redireccionamiento de la entrada estándar.\n",
    "\n",
    "\n",
    "Cuando no se indica un flujo de datos, el comando ```cat``` capturará los eventos de ```stdin``` y los enviará a ```stdout```al pulsar <kbd>iNTRO</kbd>.\n",
    "\n",
    "```\n",
    "cat\n",
    "```\n",
    "\n",
    "Para que el comando ```cat``` deje de capturar ```stdin``` es necesario teclear <kbd>Ctrl</kbd>+<kbd>D</kbd>."
   ]
  },
  {
   "cell_type": "markdown",
   "metadata": {},
   "source": [
    "### La *manpage* de ```cat```."
   ]
  },
  {
   "cell_type": "code",
   "execution_count": null,
   "metadata": {
    "scrolled": true
   },
   "outputs": [],
   "source": [
    "man cat"
   ]
  },
  {
   "cell_type": "markdown",
   "metadata": {},
   "source": [
    "## Redireccionamieto de un flujo de texto desde y hacia archivos."
   ]
  },
  {
   "cell_type": "markdown",
   "metadata": {},
   "source": [
    "### Envío a un archivo con ```>```.\n",
    "\n",
    "Este pipe permite redireccionar ```stdout``` a un archivo. En caso de que el archivo exista, sera sustituido.\n",
    "\n",
    "``` \n",
    "<flujo> > <ruta>\n",
    "```\n",
    "\n",
    "Donde:\n",
    "\n",
    "* ```<fujo>``` es un flujo de datos.\n",
    "* ```<ruta>``` es la ruta del archivo que será creado o sustituido con el contenido del flujo."
   ]
  },
  {
   "cell_type": "markdown",
   "metadata": {},
   "source": [
    "**Ejemplos:**"
   ]
  },
  {
   "cell_type": "markdown",
   "metadata": {},
   "source": [
    "La siguiente celda enviará el mensaje que desplegaría ```echo``` al archivo ```~/saludo.txt```."
   ]
  },
  {
   "cell_type": "code",
   "execution_count": 40,
   "metadata": {},
   "outputs": [],
   "source": [
    "echo -e \"Saludos.\\nEste es un mensaje de texto.\" > ~/saludo.txt"
   ]
  },
  {
   "cell_type": "code",
   "execution_count": 41,
   "metadata": {},
   "outputs": [
    {
     "name": "stdout",
     "output_type": "stream",
     "text": [
      "Saludos.\n",
      "Este es un mensaje de texto.\n"
     ]
    }
   ],
   "source": [
    "cat ~/saludo.txt"
   ]
  },
  {
   "cell_type": "markdown",
   "metadata": {},
   "source": [
    "La siguiente celda enviará el resultado del comando ```ls -i``` al archivo ```~/listado.txt```."
   ]
  },
  {
   "cell_type": "code",
   "execution_count": 39,
   "metadata": {},
   "outputs": [],
   "source": [
    "ls -i > ~/listado.txt"
   ]
  },
  {
   "cell_type": "code",
   "execution_count": null,
   "metadata": {},
   "outputs": [],
   "source": [
    "cat ~/listado.txt"
   ]
  },
  {
   "cell_type": "markdown",
   "metadata": {},
   "source": [
    "La siguiente celda enviará el contenido extraído de los archivos ```~/listado.txt``` y ```~/saludo.txt >``` al archivo ```~/concatenado.txt```."
   ]
  },
  {
   "cell_type": "code",
   "execution_count": null,
   "metadata": {},
   "outputs": [],
   "source": [
    "cat ~/listado.txt ~/saludo.txt > ~/concatenado.txt"
   ]
  },
  {
   "cell_type": "code",
   "execution_count": null,
   "metadata": {},
   "outputs": [],
   "source": [
    "cat ~/concatenado.txt"
   ]
  },
  {
   "cell_type": "markdown",
   "metadata": {},
   "source": [
    "* Al ejecutar el siguiente comando desde una terminal, el contenido ingresado desde el teclado será redirigido al archivo ````~/escrito.txt```` despues de teclear <kbd>Ctrl</kbd>+<kbd>D</kbd>.\n",
    "```\n",
    "cat > ~/escrito.txt\n",
    "```"
   ]
  },
  {
   "cell_type": "code",
   "execution_count": null,
   "metadata": {},
   "outputs": [],
   "source": [
    "cat ~/escrito.txt"
   ]
  },
  {
   "cell_type": "markdown",
   "metadata": {},
   "source": [
    "### Adición de flujo de texto a un archivo con ```>>```.\n",
    "\n",
    "Este pipe permite redireccionar ```stdout``` a un archivo. En caso de que el archivo exista, el flujo se añadirá al final del archivo.\n",
    "\n",
    "``` \n",
    "<flujo> >> <ruta>\n",
    "```\n",
    "\n",
    "Donde:\n",
    "\n",
    "* ```<fujo>``` es un flujo de datos.\n",
    "* ```<ruta>``` es la ruta del archivo que será creado o al que le será añadido el contenido del flujo."
   ]
  },
  {
   "cell_type": "markdown",
   "metadata": {},
   "source": [
    "**Ejemplo:**"
   ]
  },
  {
   "cell_type": "markdown",
   "metadata": {},
   "source": [
    "* La siguiente celda mostrará el contenido del archivo ```listado.txt```."
   ]
  },
  {
   "cell_type": "code",
   "execution_count": 38,
   "metadata": {},
   "outputs": [
    {
     "name": "stdout",
     "output_type": "stream",
     "text": [
      "cat: /home/oi/listado.txt: No such file or directory\n"
     ]
    },
    {
     "ename": "",
     "evalue": "1",
     "output_type": "error",
     "traceback": []
    }
   ],
   "source": [
    "cat ~/listado.txt"
   ]
  },
  {
   "cell_type": "markdown",
   "metadata": {},
   "source": [
    "* La siguiente celda enviará el resultado del comando ```ls -l``` al final del archivo ```listado.txt```."
   ]
  },
  {
   "cell_type": "code",
   "execution_count": 42,
   "metadata": {},
   "outputs": [],
   "source": [
    "ls -l >> ~/listado.txt"
   ]
  },
  {
   "cell_type": "markdown",
   "metadata": {},
   "source": [
    "* La siguiente celda mostrará el contenido del archivo ```listado.txt```."
   ]
  },
  {
   "cell_type": "code",
   "execution_count": 43,
   "metadata": {
    "scrolled": true
   },
   "outputs": [
    {
     "name": "stdout",
     "output_type": "stream",
     "text": [
      "3019232 01_introduccion.ipynb\n",
      "3019189 02_sistemas_de_computo.ipynb\n",
      "3019234 03_la_linea_de_comandos.ipynb\n",
      "3019233 04_directorios_y_archivos.ipynb\n",
      "3019236 05_jerarquía_de_directorios.ipynb\n",
      "3019237 06_flujos_de_texto_filtros_y_pipes.ipynb\n",
      "3019238 07_expresiones_regulares_y_grep.ipynb\n",
      "3019239 08_introduccion_a_vim.ipynb\n",
      "3019240 09_usuarios_y_grupos.ipynb\n",
      "3019241 10_permisos_y_propietarios_de_archivos.ipynb\n",
      "3019242 11_procesos_trabajos_y_daemons.ipynb\n",
      "3019243 12_find_y_xargs.ipynb\n",
      "3019244 13_introduccion_a_bash_scripting.ipynb\n",
      "3019245 14_uso_del_shell.ipynb\n",
      "3019246 15_fechas_horas_y_temporizadores.ipynb\n",
      "3019247 16_inicio_y_apagado_del_sistema.ipynb\n",
      "3019248 17_kernel_modulos_y_dispositivos.ipynb\n",
      "3019249 18_volumenes_y_particiones.ipynb\n",
      "3019250 19_gestion_de_servicios_con_systemd.ipynb\n",
      "3019251 20_chroot_y_contenedores.ipynb\n",
      "3019252 21_introduccion_a_redes_basicas.ipynb\n",
      "3019253 22_paquetes_de_software.ipynb\n",
      "3019254 23_sesiones_remotas_y_transmision_de_datos.ipynb\n",
      "3019264 24_virtualizacion.ipynb\n",
      "3019265 25_seguridad_basica.ipynb\n",
      "3019266 LICENSE\n",
      "3019255 README.md\n",
      "3019268 data\n",
      "3019256 img\n",
      "3019763 mensaje.txt\n",
      "total 440\n",
      "-rw-r--r-- 1 oi oi 10956 May 28 02:57 01_introduccion.ipynb\n",
      "-rw-r--r-- 1 oi oi 14891 May 28 02:57 02_sistemas_de_computo.ipynb\n",
      "-rw-r--r-- 1 oi oi 12603 May 28 02:57 03_la_linea_de_comandos.ipynb\n",
      "-rw-r--r-- 1 oi oi 60700 May 30 21:36 04_directorios_y_archivos.ipynb\n",
      "-rw-r--r-- 1 oi oi  9860 May 30 21:36 05_jerarquía_de_directorios.ipynb\n",
      "-rw-r--r-- 1 oi oi 50635 Jun  2 19:42 06_flujos_de_texto_filtros_y_pipes.ipynb\n",
      "-rw-r--r-- 1 oi oi  6634 Jun  2 13:44 07_expresiones_regulares_y_grep.ipynb\n",
      "-rw-r--r-- 1 oi oi  8033 Jun  2 16:34 08_introduccion_a_vim.ipynb\n",
      "-rw-r--r-- 1 oi oi 61292 Jun  2 15:55 09_usuarios_y_grupos.ipynb\n",
      "-rw-r--r-- 1 oi oi  4826 Jun  2 13:44 10_permisos_y_propietarios_de_archivos.ipynb\n",
      "-rw-r--r-- 1 oi oi 13426 Jun  2 14:02 11_procesos_trabajos_y_daemons.ipynb\n",
      "-rw-r--r-- 1 oi oi  6209 Jun  2 13:44 12_find_y_xargs.ipynb\n",
      "-rw-r--r-- 1 oi oi 14652 May 30 21:36 13_introduccion_a_bash_scripting.ipynb\n",
      "-rw-r--r-- 1 oi oi  1107 May 30 21:36 14_uso_del_shell.ipynb\n",
      "-rw-r--r-- 1 oi oi  9497 May 30 21:36 15_fechas_horas_y_temporizadores.ipynb\n",
      "-rw-r--r-- 1 oi oi  6245 May 30 21:36 16_inicio_y_apagado_del_sistema.ipynb\n",
      "-rw-r--r-- 1 oi oi  8226 May 30 21:36 17_kernel_modulos_y_dispositivos.ipynb\n",
      "-rw-r--r-- 1 oi oi 12537 May 30 21:36 18_volumenes_y_particiones.ipynb\n",
      "-rw-r--r-- 1 oi oi  5924 May 30 21:36 19_gestion_de_servicios_con_systemd.ipynb\n",
      "-rw-r--r-- 1 oi oi  4174 May 30 21:36 20_chroot_y_contenedores.ipynb\n",
      "-rw-r--r-- 1 oi oi 13754 May 30 21:36 21_introduccion_a_redes_basicas.ipynb\n",
      "-rw-r--r-- 1 oi oi 17268 May 30 21:36 22_paquetes_de_software.ipynb\n",
      "-rw-r--r-- 1 oi oi  6275 May 30 21:36 23_sesiones_remotas_y_transmision_de_datos.ipynb\n",
      "-rw-r--r-- 1 oi oi 10385 May 30 21:36 24_virtualizacion.ipynb\n",
      "-rw-r--r-- 1 oi oi  2885 May 30 21:36 25_seguridad_basica.ipynb\n",
      "-rw-r--r-- 1 oi oi  1064 May 30 21:36 LICENSE\n",
      "-rw-r--r-- 1 oi oi  1133 May 28 02:57 README.md\n",
      "drwxr-xr-x 3 oi oi  4096 May 30 21:36 data\n",
      "drwxr-xr-x 6 oi oi  4096 May 30 21:42 img\n",
      "-rw-r--r-- 1 oi oi    46 Jun  2 19:16 mensaje.txt\n"
     ]
    }
   ],
   "source": [
    "cat ~/listado.txt"
   ]
  },
  {
   "cell_type": "markdown",
   "metadata": {},
   "source": [
    "### Envío de flujo de texto desde un archivo con ```<```.\n",
    "\n",
    "``` \n",
    "<flujo> < <ruta>\n",
    "```\n",
    "\n",
    "Donde:\n",
    "\n",
    "* ```<flujo>``` es un flujo de datos.\n",
    "* ```<ruta>``` es la ruta del archivo desde el que será extraído su contenido."
   ]
  },
  {
   "cell_type": "markdown",
   "metadata": {},
   "source": [
    "**Ejemplo:**"
   ]
  },
  {
   "cell_type": "markdown",
   "metadata": {},
   "source": []
  },
  {
   "cell_type": "code",
   "execution_count": 44,
   "metadata": {},
   "outputs": [
    {
     "name": "stdout",
     "output_type": "stream",
     "text": [
      "     1\tSaludos.\n",
      "     2\tEste es un mensaje de texto.\n"
     ]
    }
   ],
   "source": [
    "nl < ~/saludo.txt"
   ]
  },
  {
   "cell_type": "markdown",
   "metadata": {},
   "source": [
    "### Redireccionamiento de ```stderr``` a un archivo.\n",
    "\n",
    "\n",
    "```\n",
    "<flujo> 2> <archivo>\n",
    "```\n",
    "\n",
    "```\n",
    "<flujo> 2>> <archivo>\n",
    "```"
   ]
  },
  {
   "cell_type": "markdown",
   "metadata": {},
   "source": [
    "**Ejemplo:**"
   ]
  },
  {
   "cell_type": "code",
   "execution_count": null,
   "metadata": {},
   "outputs": [],
   "source": [
    "ls erróneo"
   ]
  },
  {
   "cell_type": "code",
   "execution_count": null,
   "metadata": {},
   "outputs": [],
   "source": [
    "cat ~/error.txt"
   ]
  },
  {
   "cell_type": "code",
   "execution_count": null,
   "metadata": {},
   "outputs": [],
   "source": [
    "ls 2> ~/error.txt"
   ]
  },
  {
   "cell_type": "code",
   "execution_count": null,
   "metadata": {},
   "outputs": [],
   "source": [
    "cat ~/error.txt"
   ]
  },
  {
   "cell_type": "code",
   "execution_count": null,
   "metadata": {},
   "outputs": [],
   "source": [
    "ls erróneo 2>> ~/error.txt"
   ]
  },
  {
   "cell_type": "code",
   "execution_count": null,
   "metadata": {},
   "outputs": [],
   "source": [
    "cat ~/error.txt"
   ]
  },
  {
   "cell_type": "markdown",
   "metadata": {},
   "source": [
    "### Redireccionamiento de ```stderr``` y ```stdout``` a un archivo.\n",
    "\n",
    "\n",
    "```\n",
    "<flujo> &> <archivo>\n",
    "```\n",
    "\n",
    "```\n",
    "<flujo> &>> <archivo>\n",
    "```"
   ]
  },
  {
   "cell_type": "code",
   "execution_count": null,
   "metadata": {},
   "outputs": [],
   "source": [
    "ls erroneo &> ~/mensaje.txt"
   ]
  },
  {
   "cell_type": "code",
   "execution_count": null,
   "metadata": {},
   "outputs": [],
   "source": [
    "cat ~/mensaje.txt"
   ]
  },
  {
   "cell_type": "code",
   "execution_count": null,
   "metadata": {},
   "outputs": [],
   "source": [
    "ls ~ &>> ~/mensaje.txt"
   ]
  },
  {
   "cell_type": "code",
   "execution_count": null,
   "metadata": {},
   "outputs": [],
   "source": [
    "cat ~/mensaje.txt"
   ]
  },
  {
   "cell_type": "markdown",
   "metadata": {},
   "source": [
    "## Filtros."
   ]
  },
  {
   "cell_type": "markdown",
   "metadata": {},
   "source": [
    "Los fitros son aplicaciones con capacidad de procesar (modificar o analizar) el flujo de texto que recibe, dando por resultado otro flujo de texto."
   ]
  },
  {
   "cell_type": "markdown",
   "metadata": {},
   "source": [
    "### Visualización de texto en una ventana mediante  ```less``` y ```more```. \n",
    "\n",
    "El filtro ```less``` permite usar una ventana similar a la de ```man``` en una terminal.\n",
    "\n",
    "\n",
    "**Ejemplos:**\n",
    "\n",
    "* Abra una terminal de Jupyter y ejecute el comando ```less cd101/README.md```.\n",
    "\n",
    "* Abra una terminal de Jupyter y ejecute el comando ```more cd101/README.md```.\n",
    "\n",
    "**Nota:**\n",
    "Para salir de la ventana, use la tecla <kbd>q</kbd>."
   ]
  },
  {
   "cell_type": "markdown",
   "metadata": {},
   "source": [
    "#### La *manpage* de ```less```."
   ]
  },
  {
   "cell_type": "code",
   "execution_count": null,
   "metadata": {},
   "outputs": [],
   "source": [
    "man less"
   ]
  },
  {
   "cell_type": "markdown",
   "metadata": {},
   "source": [
    "#### La *manpage* de ```more```."
   ]
  },
  {
   "cell_type": "code",
   "execution_count": null,
   "metadata": {},
   "outputs": [],
   "source": [
    "man more"
   ]
  },
  {
   "cell_type": "markdown",
   "metadata": {},
   "source": [
    "### El comando ```head```.\n",
    "\n",
    "Este comando permite desplegar la primeras 10 líneas de un flujo de texto.\n",
    "\n",
    "```\n",
    "head <opciones> <archivo>\n",
    "```\n",
    "\n",
    "Donde: \n",
    "\n",
    "* ```<archivo>``` es un archivo flujo de texto.\n",
    "\n",
    "La opción ```-n``` permite indicaer el número de líneas que desplegará ```head```."
   ]
  },
  {
   "cell_type": "code",
   "execution_count": null,
   "metadata": {},
   "outputs": [],
   "source": [
    "head LICENSE"
   ]
  },
  {
   "cell_type": "code",
   "execution_count": null,
   "metadata": {},
   "outputs": [],
   "source": [
    "head LICENSE -n 4"
   ]
  },
  {
   "cell_type": "markdown",
   "metadata": {},
   "source": [
    "#### La manpage de ```head```."
   ]
  },
  {
   "cell_type": "code",
   "execution_count": null,
   "metadata": {},
   "outputs": [],
   "source": [
    "man head"
   ]
  },
  {
   "cell_type": "markdown",
   "metadata": {},
   "source": [
    "### El comando ```tail```.\n",
    "\n",
    "Este comando permite desplegar la últimas 10 líneas de un flujo de texto.\n",
    "\n",
    "```\n",
    "tail <flujo de texto>\n",
    "```\n",
    "\n",
    "La opción -n permite indicaer el número de líneas que desplegará ```tail```.\n"
   ]
  },
  {
   "cell_type": "code",
   "execution_count": null,
   "metadata": {
    "scrolled": true
   },
   "outputs": [],
   "source": [
    "tail README.md"
   ]
  },
  {
   "cell_type": "code",
   "execution_count": null,
   "metadata": {},
   "outputs": [],
   "source": [
    "tail README.md -n 4"
   ]
  },
  {
   "cell_type": "markdown",
   "metadata": {},
   "source": [
    "#### La manpage de ```tail```."
   ]
  },
  {
   "cell_type": "code",
   "execution_count": null,
   "metadata": {},
   "outputs": [],
   "source": [
    "man tail"
   ]
  },
  {
   "cell_type": "markdown",
   "metadata": {},
   "source": [
    "### El comando ```wc```.\n",
    "\n",
    "Este comando permite contar los elementos de un flujo de texto\n",
    "```\n",
    "wc <flujo de texto> <opciones>\n",
    "```\n",
    "\n",
    "Al ejecutar este comando sin opciones, este regresará:\n",
    "\n",
    "* El número de líneas del flujo.\n",
    "* El número de palabras del flujo.\n",
    "* El número de caracteres del flujo.\n",
    "\n",
    "#### Opciones .\n",
    "\n",
    "* La opción ```-l``` desplegará el número de líneas.\n",
    "* La opción ```-w``` desplegará el número de palabras.\n",
    "* La opción ```-c``` desplegará el número de caracteres."
   ]
  },
  {
   "cell_type": "code",
   "execution_count": null,
   "metadata": {},
   "outputs": [],
   "source": [
    "wc README.md"
   ]
  },
  {
   "cell_type": "code",
   "execution_count": null,
   "metadata": {},
   "outputs": [],
   "source": [
    "wc README.md -l"
   ]
  },
  {
   "cell_type": "code",
   "execution_count": null,
   "metadata": {},
   "outputs": [],
   "source": [
    "wc README.md -w"
   ]
  },
  {
   "cell_type": "code",
   "execution_count": null,
   "metadata": {
    "scrolled": true
   },
   "outputs": [],
   "source": [
    "wc README.md -c"
   ]
  },
  {
   "cell_type": "code",
   "execution_count": null,
   "metadata": {},
   "outputs": [],
   "source": [
    "wc README.md -cw"
   ]
  },
  {
   "cell_type": "markdown",
   "metadata": {},
   "source": [
    "#### La manpage de ```wc```."
   ]
  },
  {
   "cell_type": "code",
   "execution_count": null,
   "metadata": {},
   "outputs": [],
   "source": [
    "man wc"
   ]
  },
  {
   "cell_type": "markdown",
   "metadata": {},
   "source": [
    "### El comando ```nl```.\n",
    "\n",
    "Este comando le asignará y desplegará un número consecutivo a la izquierda de cada línea del flujo.\n",
    "\n",
    "```\n",
    "nl <flujo>\n",
    "```"
   ]
  },
  {
   "cell_type": "code",
   "execution_count": null,
   "metadata": {},
   "outputs": [],
   "source": [
    "nl README.md"
   ]
  },
  {
   "cell_type": "markdown",
   "metadata": {},
   "source": [
    "#### La manpage de ```nl```."
   ]
  },
  {
   "cell_type": "code",
   "execution_count": null,
   "metadata": {},
   "outputs": [],
   "source": [
    "man nl"
   ]
  },
  {
   "cell_type": "markdown",
   "metadata": {},
   "source": [
    "### El comando  ```sort ```.\n",
    "\n",
    "Este comando regresa el contenido del flujo de texto ingresado, ordenado a partir de varios criterios.\n",
    "\n",
    "```\n",
    "sort <flujo de texto> <opciones>\n",
    "```\n",
    "\n",
    "Si el comando ```sort``` se utiliza sin opciones, realizará un orden a partir de los caracteres de cada línea de menos a mayor. \n",
    "\n",
    "\n",
    "### Opciones.\n",
    "\n",
    "* La opción ```-r``` hace el ordenamiento inverso.\n",
    "* La opción ```-n``` realiza un ordenamiento numérico. "
   ]
  },
  {
   "cell_type": "code",
   "execution_count": null,
   "metadata": {},
   "outputs": [],
   "source": [
    "echo -e \"Hugo\\nPaco\\nLuis\" > ~/patos.txt"
   ]
  },
  {
   "cell_type": "code",
   "execution_count": null,
   "metadata": {},
   "outputs": [],
   "source": [
    "cat ~/patos.txt"
   ]
  },
  {
   "cell_type": "code",
   "execution_count": null,
   "metadata": {},
   "outputs": [],
   "source": [
    "sort ~/patos.txt"
   ]
  },
  {
   "cell_type": "code",
   "execution_count": null,
   "metadata": {},
   "outputs": [],
   "source": [
    "echo -e \"Sota\\nCaballo\\nRey\" > ~/cartas.txt"
   ]
  },
  {
   "cell_type": "code",
   "execution_count": null,
   "metadata": {},
   "outputs": [],
   "source": [
    "cat ~/cartas.txt"
   ]
  },
  {
   "cell_type": "code",
   "execution_count": null,
   "metadata": {},
   "outputs": [],
   "source": [
    "sort ~/patos.txt ~/cartas.txt"
   ]
  },
  {
   "cell_type": "code",
   "execution_count": null,
   "metadata": {},
   "outputs": [],
   "source": [
    "sort ~/patos.txt ~/cartas.txt -r"
   ]
  },
  {
   "cell_type": "code",
   "execution_count": null,
   "metadata": {},
   "outputs": [],
   "source": [
    "echo -e \"2\\n5\\n21\\n32\\n6\\n245\\n\" > ~/numeros.txt"
   ]
  },
  {
   "cell_type": "code",
   "execution_count": null,
   "metadata": {},
   "outputs": [],
   "source": [
    "cat ~/numeros.txt"
   ]
  },
  {
   "cell_type": "code",
   "execution_count": null,
   "metadata": {},
   "outputs": [],
   "source": [
    "sort ~/numeros.txt"
   ]
  },
  {
   "cell_type": "code",
   "execution_count": null,
   "metadata": {},
   "outputs": [],
   "source": [
    "sort ~/numeros.txt -n"
   ]
  },
  {
   "cell_type": "markdown",
   "metadata": {},
   "source": [
    "#### La manpage de ```sort```."
   ]
  },
  {
   "cell_type": "code",
   "execution_count": null,
   "metadata": {},
   "outputs": [],
   "source": [
    "man sort"
   ]
  },
  {
   "cell_type": "markdown",
   "metadata": {},
   "source": [
    "### El comando ```split```.\n",
    "\n",
    "Este comando permite dividir un flujo de texto en segmentos, los cuales son guardados en archivos cuyos nombres se generan a a partir de  prefijos.\n",
    "\n",
    "Si no se indica ningúna opción, split creará segmentos de ```1000``` líneas con el prefijo ```x``` y sufijos de dos valores alfabéticos empezando con ```aa```.\n",
    "\n",
    "#### Opciones.\n",
    "\n",
    "* La opción ```-l``` indica el número de líneas por segmento.\n",
    "* La opción ```-n``` indica el número de segmentos en el que se dividirá el flujo.\n",
    "* La opción ```-d``` indica que los sufijos deben de ser numéricos."
   ]
  },
  {
   "cell_type": "code",
   "execution_count": null,
   "metadata": {},
   "outputs": [],
   "source": [
    "split README.md -l 5"
   ]
  },
  {
   "cell_type": "markdown",
   "metadata": {},
   "source": [
    "El resultado son los archivos ```xaa```, ```xab```, ```xac```, ```xad``` y así sucesivamente."
   ]
  },
  {
   "cell_type": "code",
   "execution_count": null,
   "metadata": {},
   "outputs": [],
   "source": [
    "ls"
   ]
  },
  {
   "cell_type": "code",
   "execution_count": null,
   "metadata": {},
   "outputs": [],
   "source": [
    "wc -l xaa"
   ]
  },
  {
   "cell_type": "code",
   "execution_count": null,
   "metadata": {},
   "outputs": [],
   "source": [
    "cat xab"
   ]
  },
  {
   "cell_type": "code",
   "execution_count": null,
   "metadata": {},
   "outputs": [],
   "source": [
    "wc -l xab"
   ]
  },
  {
   "cell_type": "code",
   "execution_count": null,
   "metadata": {},
   "outputs": [],
   "source": [
    "cat xac"
   ]
  },
  {
   "cell_type": "code",
   "execution_count": null,
   "metadata": {},
   "outputs": [],
   "source": [
    "wc -l xac"
   ]
  },
  {
   "cell_type": "code",
   "execution_count": null,
   "metadata": {
    "scrolled": true
   },
   "outputs": [],
   "source": [
    "cat xad"
   ]
  },
  {
   "cell_type": "code",
   "execution_count": null,
   "metadata": {},
   "outputs": [],
   "source": [
    "wc -l xac"
   ]
  },
  {
   "cell_type": "markdown",
   "metadata": {},
   "source": [
    "* La siguiente celda creará exactamente 3 archivos a partir de ```README.md``` y los archivos resultantes estárán numerados."
   ]
  },
  {
   "cell_type": "code",
   "execution_count": null,
   "metadata": {},
   "outputs": [],
   "source": [
    "split README.md -n 3 -d"
   ]
  },
  {
   "cell_type": "markdown",
   "metadata": {},
   "source": [
    "El resultado son los archivos ```x00```  ```x01``` ```x02```."
   ]
  },
  {
   "cell_type": "code",
   "execution_count": null,
   "metadata": {},
   "outputs": [],
   "source": [
    "cat x00"
   ]
  },
  {
   "cell_type": "code",
   "execution_count": null,
   "metadata": {
    "scrolled": true
   },
   "outputs": [],
   "source": [
    "cat x01"
   ]
  },
  {
   "cell_type": "code",
   "execution_count": null,
   "metadata": {},
   "outputs": [],
   "source": [
    "cat x02"
   ]
  },
  {
   "cell_type": "markdown",
   "metadata": {},
   "source": [
    "#### La manpage de ```split```."
   ]
  },
  {
   "cell_type": "code",
   "execution_count": null,
   "metadata": {},
   "outputs": [],
   "source": [
    "man split"
   ]
  },
  {
   "cell_type": "markdown",
   "metadata": {},
   "source": [
    "### El comando ```cut```.\n",
    "\n",
    "Este comando permite extraer rangos de texto de cada línea de un flujo de texto.\n",
    "\n",
    "```\n",
    "cut <flujo de texto> <opciones>\n",
    "```\n",
    "\n",
    "#### Definiendo un rango de caracteres.\n",
    "* La opción ```-c``` define el rango de caracteres .\n",
    "\n",
    "```\n",
    "cut <flujo de texto> -c<posición de inicio>-<posición final>\n",
    "```"
   ]
  },
  {
   "cell_type": "code",
   "execution_count": null,
   "metadata": {},
   "outputs": [],
   "source": [
    "cut README.md -c5-10"
   ]
  },
  {
   "cell_type": "code",
   "execution_count": null,
   "metadata": {},
   "outputs": [],
   "source": [
    "cut README.md -c10-"
   ]
  },
  {
   "cell_type": "markdown",
   "metadata": {},
   "source": [
    "#### Usando campos delimitados por tabuladores.\n",
    "\n",
    "Si el flujo de texto contiene tabuladores, cada tabulador conforma a un campo que puede sder indizado a partir del 1.\n",
    "\n",
    "La opción ```-f``` permite extraer un rango de campos.\n",
    "\n",
    "```\n",
    "cut <flujo de texto> -f<posición de inicio>-<posición final>\n",
    "```"
   ]
  },
  {
   "cell_type": "code",
   "execution_count": null,
   "metadata": {},
   "outputs": [],
   "source": [
    "echo -e '1\\t2\\t3\\t4\\t5\\nuno\\tdos\\ttres\\tcuatro\\tcinco' > ~/campos.txt"
   ]
  },
  {
   "cell_type": "code",
   "execution_count": null,
   "metadata": {},
   "outputs": [],
   "source": [
    "cat ~/campos.txt"
   ]
  },
  {
   "cell_type": "code",
   "execution_count": null,
   "metadata": {},
   "outputs": [],
   "source": [
    "cut ~/campos.txt -f1"
   ]
  },
  {
   "cell_type": "code",
   "execution_count": null,
   "metadata": {
    "scrolled": true
   },
   "outputs": [],
   "source": [
    "cut ~/campos.txt -f3-"
   ]
  },
  {
   "cell_type": "markdown",
   "metadata": {},
   "source": [
    "#### Definiendo un seperador distinto a un tabulador.\n",
    "\n",
    "La opción ```-d``` permite definir un caracter delimitador distinto del tabulador.\n",
    "\n",
    "```\n",
    "cut <flujo de texto> -d\"<caracter>\" -f<posición de inicio>-<posición final>\n",
    "```"
   ]
  },
  {
   "cell_type": "code",
   "execution_count": null,
   "metadata": {},
   "outputs": [],
   "source": [
    "echo -e '1|2|3|4|5\\nuno|dos|tres|cuatro|cinco' > ~/separados.txt"
   ]
  },
  {
   "cell_type": "code",
   "execution_count": null,
   "metadata": {},
   "outputs": [],
   "source": [
    "cat ~/separados.txt"
   ]
  },
  {
   "cell_type": "code",
   "execution_count": null,
   "metadata": {},
   "outputs": [],
   "source": [
    "cut ~/separados.txt -d\"|\" -f1"
   ]
  },
  {
   "cell_type": "code",
   "execution_count": null,
   "metadata": {},
   "outputs": [],
   "source": [
    "cut ~/separados.txt -d\"|\" -f-5"
   ]
  },
  {
   "cell_type": "code",
   "execution_count": null,
   "metadata": {},
   "outputs": [],
   "source": [
    "cut ~/separados.txt -d\"|\" -f3-4"
   ]
  },
  {
   "cell_type": "markdown",
   "metadata": {},
   "source": [
    "* El archivo ```etc/passwd``` contiene los datos de los usuarios del sistema, separados por ```:```."
   ]
  },
  {
   "cell_type": "code",
   "execution_count": null,
   "metadata": {},
   "outputs": [],
   "source": [
    "cat /etc/passwd"
   ]
  },
  {
   "cell_type": "code",
   "execution_count": null,
   "metadata": {},
   "outputs": [],
   "source": [
    "cut  /etc/passwd -d\":\" -f7"
   ]
  },
  {
   "cell_type": "markdown",
   "metadata": {},
   "source": [
    "#### La manpage de ```cut```."
   ]
  },
  {
   "cell_type": "code",
   "execution_count": null,
   "metadata": {},
   "outputs": [],
   "source": [
    "man cut"
   ]
  },
  {
   "cell_type": "markdown",
   "metadata": {},
   "source": [
    "### El comando ```paste```.\n",
    "\n",
    "Este comando permite unir en un sólo flujo de texto a más de un archivo, pegando línea por  línea y utilizando un tabulador como separador.\n",
    "\n",
    "```\n",
    "paste <archivo 1> <archivo 2> ... <archivo n>\n",
    "```"
   ]
  },
  {
   "cell_type": "code",
   "execution_count": null,
   "metadata": {},
   "outputs": [],
   "source": [
    "paste ~/patos.txt ~/cartas.txt"
   ]
  },
  {
   "cell_type": "markdown",
   "metadata": {},
   "source": [
    "#### La manpage de ```paste```."
   ]
  },
  {
   "cell_type": "code",
   "execution_count": null,
   "metadata": {
    "scrolled": true
   },
   "outputs": [],
   "source": [
    "man paste"
   ]
  },
  {
   "cell_type": "markdown",
   "metadata": {},
   "source": [
    "### El comando ```uniq```.\n",
    "\n",
    "El comando ```uniq``` identifica líneas contiguas que se repiten en un flujo de texto.\n",
    "\n",
    "```\n",
    "uniq <flujo de texto> <opciones>\n",
    "```\n",
    "\n",
    "Si se ejecuta sin opciones, deslpegará el contenido original, sustrayendo las líneas contiguas repetidas.\n",
    "\n",
    "#### Opciones.\n",
    "\n",
    "* La opción ```-c``` añade el número de repeticiones contiguas de una línea.\n",
    "* La opción ```-d``` despliega sólo aquellas líneas que sufren de repetición."
   ]
  },
  {
   "cell_type": "code",
   "execution_count": null,
   "metadata": {},
   "outputs": [],
   "source": [
    "echo -e \"no repetida 1\\nno repetida 2\\nrepetida\\nrepetida\\nrepetida\\nno repetida 3\\nrepetida\\nno repetida 4\" > ~/repetidos.txt"
   ]
  },
  {
   "cell_type": "code",
   "execution_count": null,
   "metadata": {},
   "outputs": [],
   "source": [
    "cat ~/repetidos.txt"
   ]
  },
  {
   "cell_type": "code",
   "execution_count": null,
   "metadata": {},
   "outputs": [],
   "source": [
    "uniq ~/repetidos.txt"
   ]
  },
  {
   "cell_type": "code",
   "execution_count": null,
   "metadata": {},
   "outputs": [],
   "source": [
    "uniq -c ~/repetidos.txt"
   ]
  },
  {
   "cell_type": "code",
   "execution_count": null,
   "metadata": {},
   "outputs": [],
   "source": [
    "uniq -d ~/repetidos.txt"
   ]
  },
  {
   "cell_type": "code",
   "execution_count": null,
   "metadata": {},
   "outputs": [],
   "source": [
    "uniq ~/repetidos.txt -dc"
   ]
  },
  {
   "cell_type": "markdown",
   "metadata": {},
   "source": [
    "#### La manpage de ```uniq```."
   ]
  },
  {
   "cell_type": "code",
   "execution_count": null,
   "metadata": {},
   "outputs": [],
   "source": [
    "man uniq"
   ]
  },
  {
   "cell_type": "markdown",
   "metadata": {},
   "source": [
    "## El comando ```tac```.\n",
    "\n",
    "El comando ```tac``` similar a ```cat```, pero regresa los contenidos en orden inverso linea por línea."
   ]
  },
  {
   "cell_type": "code",
   "execution_count": null,
   "metadata": {},
   "outputs": [],
   "source": [
    "tac LICENSE"
   ]
  },
  {
   "cell_type": "markdown",
   "metadata": {},
   "source": [
    "## El comando ```join```.\n",
    "\n",
    "* ```join``` permite extaer las líneas idénticas entre archivos cuyo contenido esté dispuesto de forma ordenada con otro que también esté dispuesto de la misma forma."
   ]
  },
  {
   "cell_type": "code",
   "execution_count": null,
   "metadata": {},
   "outputs": [],
   "source": [
    "echo -e \"Hugo\\nLuis\\nDonald\\nRosita\\nTío Rico\" > ~/maspatos.txt"
   ]
  },
  {
   "cell_type": "code",
   "execution_count": null,
   "metadata": {},
   "outputs": [],
   "source": [
    "cat ~/maspatos.txt"
   ]
  },
  {
   "cell_type": "code",
   "execution_count": null,
   "metadata": {},
   "outputs": [],
   "source": [
    "sort ~/patos.txt > ~/patos_ord.txt"
   ]
  },
  {
   "cell_type": "code",
   "execution_count": null,
   "metadata": {},
   "outputs": [],
   "source": [
    "sort ~/maspatos.txt > ~/maspatos_ord.txt"
   ]
  },
  {
   "cell_type": "code",
   "execution_count": null,
   "metadata": {},
   "outputs": [],
   "source": [
    "join ~/patos_ord.txt ~/maspatos_ord.txt"
   ]
  },
  {
   "cell_type": "markdown",
   "metadata": {},
   "source": [
    "## El comando ```comm```.\n",
    "\n",
    "El comando ```comm``` compara archivos cuyo contenido esté dispuesto de forma ordenada. "
   ]
  },
  {
   "cell_type": "code",
   "execution_count": null,
   "metadata": {},
   "outputs": [],
   "source": [
    "comm ~/patos_ord.txt ~/maspatos_ord.txt"
   ]
  },
  {
   "cell_type": "code",
   "execution_count": null,
   "metadata": {},
   "outputs": [],
   "source": [
    "comm ~/patos.txt ~/maspatos.txt"
   ]
  },
  {
   "cell_type": "markdown",
   "metadata": {},
   "source": [
    "## El comando ```diff```.\n",
    "\n",
    "El comando ```diff``` genera un reporte de las diferencias entre archivos."
   ]
  },
  {
   "cell_type": "code",
   "execution_count": null,
   "metadata": {
    "scrolled": true
   },
   "outputs": [],
   "source": [
    "diff ~/patos.txt ~/maspatos.txt"
   ]
  },
  {
   "cell_type": "code",
   "execution_count": null,
   "metadata": {
    "scrolled": true
   },
   "outputs": [],
   "source": [
    "diff ~/maspatos.txt ~/patos.txt"
   ]
  },
  {
   "cell_type": "markdown",
   "metadata": {},
   "source": [
    "## El comando ```patch```.\n",
    "\n",
    "El comando ```patch``` permite aplicar un archivo resultante de ```diff``` a un archivo original para transformarlo.\n",
    "\n",
    "```\n",
    "patch <archivo> <parche>\n",
    "```\n",
    "\n",
    "Donde:\n",
    "\n",
    "* ```<archivo>``` es un archivo original.\n",
    "* ```<parche>``` es un archivo con la diferencia entre ```<archivo>``` y una nueva versión de este. \n",
    "\n",
    "Los cambios se realizan directamente en el archivo original."
   ]
  },
  {
   "cell_type": "code",
   "execution_count": null,
   "metadata": {},
   "outputs": [],
   "source": [
    "cat ~/patos.txt"
   ]
  },
  {
   "cell_type": "code",
   "execution_count": null,
   "metadata": {},
   "outputs": [],
   "source": [
    "cat ~/maspatos.txt"
   ]
  },
  {
   "cell_type": "code",
   "execution_count": null,
   "metadata": {},
   "outputs": [],
   "source": [
    "diff ~/patos.txt ~/maspatos.txt > ~/parche.txt"
   ]
  },
  {
   "cell_type": "code",
   "execution_count": null,
   "metadata": {},
   "outputs": [],
   "source": [
    "cat ~/parche.txt"
   ]
  },
  {
   "cell_type": "code",
   "execution_count": null,
   "metadata": {},
   "outputs": [],
   "source": [
    "patch ~/patos.txt ~/parche.txt"
   ]
  },
  {
   "cell_type": "code",
   "execution_count": null,
   "metadata": {
    "scrolled": true
   },
   "outputs": [],
   "source": [
    "cat ~/patos.txt"
   ]
  },
  {
   "cell_type": "markdown",
   "metadata": {},
   "source": [
    "## Otros filtros.\n",
    "\n",
    "\n",
    "* ```awk``` y ```gawk``` cada uno corresponde un lenguaje de programación creado para procesar flujos de texto.\n",
    "* ```ed``` y ```sed``` correepsonde a un editor de textos que se opera desde la línea de comandos usando expresiones de ```vi```/```vim```.\n",
    "* ```expand``` convierte tabuladores en espacios.\n",
    "* ```unexpand``` convierte múltiples espacios en tabuladores.\n",
    "* ```tr``` extrae caracteres específicos de un texto.\n",
    "* La familia ```grep```.\n",
    "* ```od``` transforma un archivo  en octales.\n",
    "* ```hexdump``` regresa un archivo en formato hexadecimal.\n",
    "\n",
    "### Filtros de formato.\n",
    "\n",
    "* ```troff``` y ```groff``` Es un lenguaje de ```type setting``` para UNIX.\n",
    "* ```pr``` es un filtro que formatea texto para ser impreso. \n",
    "* ```fmt``` es un componenten que permite convertir flujhos de texto en un tipo de archivo especifico.\n",
    "* ```fold``` es un comando que permite formatear el ancho de un documento."
   ]
  },
  {
   "cell_type": "markdown",
   "metadata": {},
   "source": [
    "## El pipe ```|```.\n",
    "\n",
    "Por su naturaleza, los filtros obtienen el flujo de datos mediante una entrada y regresan el resultado por una salida.\n",
    "\n",
    "El shell UNIX y GNU/Linux permite redireccionar las entradas y salidas de un flujo de datos mediante lo que se conoce como *pipes* (tubos), lo que permite redirigir la salida de un filtro a la entrada de otro.\n",
    "\n",
    "```\n",
    "<flujo de texto> | <filtro 1> | <filtro 2> |... | <filtro n> \n",
    "```"
   ]
  },
  {
   "cell_type": "code",
   "execution_count": null,
   "metadata": {},
   "outputs": [],
   "source": [
    "ls"
   ]
  },
  {
   "cell_type": "code",
   "execution_count": null,
   "metadata": {},
   "outputs": [],
   "source": [
    "ls | sort -r"
   ]
  },
  {
   "cell_type": "code",
   "execution_count": null,
   "metadata": {},
   "outputs": [],
   "source": [
    "ls | sort -r | tail -n3 "
   ]
  },
  {
   "cell_type": "code",
   "execution_count": null,
   "metadata": {},
   "outputs": [],
   "source": [
    "ls | sort -r | tail -n3 | cut -c4-"
   ]
  },
  {
   "cell_type": "code",
   "execution_count": null,
   "metadata": {},
   "outputs": [],
   "source": [
    "ls | sort -r | tail -n3 | cut -c4- | wc -c"
   ]
  },
  {
   "cell_type": "markdown",
   "metadata": {},
   "source": [
    "## El  pipe ```tee ```.\n",
    "\n",
    "Este pipe permite guardar el flujo de datos en un achivo y de forma simultánea enviarlo a la entrada de unb pipe.\n",
    "\n",
    "``` \n",
    "<flujo> | tee <archivo> | <filtro> \n",
    "```"
   ]
  },
  {
   "cell_type": "code",
   "execution_count": null,
   "metadata": {},
   "outputs": [],
   "source": [
    "ls ~/lista.txt"
   ]
  },
  {
   "cell_type": "code",
   "execution_count": null,
   "metadata": {},
   "outputs": [],
   "source": [
    "ls | tee ~/lista.txt | sort -r | tail -n3 | cut -c4-"
   ]
  },
  {
   "cell_type": "code",
   "execution_count": null,
   "metadata": {},
   "outputs": [],
   "source": [
    "cat ~/lista.txt"
   ]
  },
  {
   "cell_type": "markdown",
   "metadata": {},
   "source": [
    "<p style=\"text-align: center\"><a rel=\"license\" href=\"http://creativecommons.org/licenses/by/4.0/\"><img alt=\"Licencia Creative Commons\" style=\"border-width:0\" src=\"https://i.creativecommons.org/l/by/4.0/80x15.png\" /></a><br />Esta obra está bajo una <a rel=\"license\" href=\"http://creativecommons.org/licenses/by/4.0/\">Licencia Creative Commons Atribución 4.0 Internacional</a>.</p>\n",
    "<p style=\"text-align: center\">&copy; José Luis Chiquete Valdivieso. 2020.</p>"
   ]
  }
 ],
 "metadata": {
  "kernelspec": {
   "display_name": "Bash",
   "language": "bash",
   "name": "bash"
  },
  "language_info": {
   "codemirror_mode": "shell",
   "file_extension": ".sh",
   "mimetype": "text/x-sh",
   "name": "bash"
  }
 },
 "nbformat": 4,
 "nbformat_minor": 2
}
