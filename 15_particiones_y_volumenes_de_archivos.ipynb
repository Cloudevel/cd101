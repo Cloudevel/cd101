{
 "cells": [
  {
   "cell_type": "markdown",
   "metadata": {},
   "source": [
    "[![cloudevel](Imagenes/cloudevel.png)](https://cloudevel.com)"
   ]
  },
  {
   "cell_type": "markdown",
   "metadata": {},
   "source": [
    "La plataformas GNU/Linux soporta una gran cantidad de dispositivos y medios de almacenamiento, tanto de forma local y en red.\n",
    "\n",
    "El kernel de Linux es capaz de identificar diversos tipos de medios y de interfases a las que les asigna un nombre en el directorio */dev/*."
   ]
  },
  {
   "cell_type": "markdown",
   "metadata": {},
   "source": [
    "## Volúmenes.\n",
    "\n",
    "El término \"volumen\" se refiere de forma genérica a un dispositivo completo o a la partición de un dispositivo de almacenamiento."
   ]
  },
  {
   "cell_type": "markdown",
   "metadata": {},
   "source": [
    "## Dispositivos de bloque (block device).\n",
    "\n",
    "Se entiende por dispositivo de bloque a todos aquellos dispositivos de almacenamiento que permiten operaciones de lectura y escritura de datos en bloques de tamaño arbitrario."
   ]
  },
  {
   "cell_type": "markdown",
   "metadata": {},
   "source": [
    "## Pseudo dispositivos.\n",
    "\n",
    "* */dev/zero*\n",
    "* */dev/null*\n",
    "* */dev/random*\n",
    "* */dev/full*"
   ]
  },
  {
   "cell_type": "markdown",
   "metadata": {},
   "source": [
    "## Nomenclatura de dispositivos de almacemaniento por tipo.\n",
    "\n",
    "El kernel de Linux asigna ciertos nombres a los dispositivos de almacenamiento dependiendo del tipo de dispiositivo y bus del que se trate.\n",
    "\n",
    "El nombre de los discos duros utiliza un prefijo y posteriormente se le asigna una letra del alfabeto comenzado con la \"a\" en orden ascendente.\n",
    "\n",
    "```\n",
    "/dev/<prefijo><letra>\n",
    "```\n",
    "\n",
    "\n",
    "### Discos ATA o IDE.\n",
    "La interfaz [ATA o IDE](https://es.wikipedia.org/wiki/Integrated_Drive_Electronics) fue una de las más usadas para sistemas de cómputo personal desde la década de 1990 y hasta principios del siglo XXI.\n",
    "* Los discos duros llevan el prefijo *hd*.\n",
    "* Anteriormente los discos flexibles llevaban el prefijo *fd*.\n",
    "\n",
    "### Discos SCSI, SATA y USB.\n",
    "\n",
    "La interfaz [SCSI](https://es.wikipedia.org/wiki/Small_Computer_System_Interface) es otra interfaz para dispositivos de distintas índoles, incluyendo dispositivos de almacenamiento. A partir de esta interfaz han evolucionado otras, tal como es el caso de SAS.\n",
    "\n",
    "\n",
    "Los dispositivos [Serial ATA](https://es.wikipedia.org/wiki/Serial_ATA)  o SATA es una interfaz que acrtualiza y sustituye a la interfaz IDE/ATA, la cual es utilizada por la mayoría los equipos actuales.\n",
    "\n",
    "Actualmente la especificación [USB](https://es.wikipedia.org/wiki/Universal_Serial_Bus) peromite la conexión con dispositivo SATA.\n",
    "\n",
    "Todos estos dispositivos utilizan el prefijo *sd*.\n",
    "\n",
    "### Discos ópticos.\n",
    "\n",
    "En el caso de los discos ópticos, la momenclatura cambia y en lugar de una letra del alfabeto se utiliza un identificados numérico.\n",
    "\n",
    "```\n",
    "/dev/<prefijo><número>\n",
    "```\n",
    "\n",
    "* Los discos ópticos llevan el prefijo :\n",
    "   * *cdrom*\n",
    "   * *cdrw*\n",
    "   * *dvdrom*\n",
    "   * *sr*"
   ]
  },
  {
   "cell_type": "markdown",
   "metadata": {},
   "source": [
    "## Particionado de disco.\n",
    "\n",
    "Los dispositivos de bloque permiten dividir arbitrariamente su espacio de almacenamiento en una o más \"particiones\".\n",
    "\n",
    "Las particiones corresponden a un conjunto de sectores físicos contiguos bien delimitados.\n",
    "\n",
    "### Nomenclatura de las particiones:\n",
    "\n",
    "Cada partición de un disco hace referencia al dispositivo al que pertenece y se le asigna un número entero a partir del 1 en orden ascendente.\n",
    "\n",
    "```\n",
    "/dev/<dispositivo de bloque><número de partición>\n",
    "```"
   ]
  },
  {
   "cell_type": "markdown",
   "metadata": {},
   "source": [
    "**Ejemplos:**"
   ]
  },
  {
   "cell_type": "code",
   "execution_count": null,
   "metadata": {},
   "outputs": [],
   "source": [
    "ls /dev/sd*"
   ]
  },
  {
   "cell_type": "code",
   "execution_count": null,
   "metadata": {},
   "outputs": [],
   "source": [
    "ls /dev/sr*"
   ]
  },
  {
   "cell_type": "markdown",
   "metadata": {},
   "source": [
    "## LVM.\n",
    "\n",
    "El gestor de volúmenes lógicos o [LVM](https://es.wikipedia.org/wiki/Logical_Volume_Manager) por sus siglas en inglés es un sistema que permite crear, consolidar y adminsitrar grupos de volúmenes físicos asociándolos a volúmenes lógicos que pueden ser gestionados de forma dinámica.\n",
    "\n",
    "La gestión de volúmenes lógicos queda fuera del alcance de este curso introductorio."
   ]
  },
  {
   "cell_type": "markdown",
   "metadata": {},
   "source": [
    "## El comando ```lsblk```.\n",
    "\n",
    "Este comando hace un listaso de los volúmenes de bloque de un sistema. "
   ]
  },
  {
   "cell_type": "code",
   "execution_count": null,
   "metadata": {},
   "outputs": [],
   "source": [
    "lsblk"
   ]
  },
  {
   "cell_type": "markdown",
   "metadata": {},
   "source": [
    "## Identificación mediante UUID.\n",
    "\n",
    "En años recientes se ha incluido el sistema de [UUID](https://en.wikipedia.org/wiki/Universally_unique_identifier) para identificar los volúmenes de un sistema con la finalidad de asignar un número único a cada uno de estos."
   ]
  },
  {
   "cell_type": "markdown",
   "metadata": {},
   "source": [
    "### El comando ```blkid ```.\n",
    "\n",
    "Este comando permote identificar los volúmenes de un sistema mediante su UUID."
   ]
  },
  {
   "cell_type": "code",
   "execution_count": null,
   "metadata": {
    "scrolled": true
   },
   "outputs": [],
   "source": [
    "sudo blkid"
   ]
  },
  {
   "cell_type": "code",
   "execution_count": null,
   "metadata": {},
   "outputs": [],
   "source": [
    "man blkid"
   ]
  },
  {
   "cell_type": "markdown",
   "metadata": {},
   "source": [
    "## El directorio */dev/disk/*.\n",
    "\n",
    "Este directorio contiene subdirectorios que mapean los volúmenes de un sistema a partr de su:\n",
    "\n",
    "* Identificador, el que es el nombre que se le puede dar a un volumen al momento de crearlo y se encuentra en */dev/disk/by-id*.\n",
    "* Ruta, la cual indica la ruta realcionada a la interfaz o el bus del dispositivo y se encuentra en */dev/disk/by-path*.\n",
    "* *UUID* y se encuentra en */dev/disk/by-uuid*"
   ]
  },
  {
   "cell_type": "code",
   "execution_count": null,
   "metadata": {},
   "outputs": [],
   "source": [
    "ls -l /dev/disk/by-id"
   ]
  },
  {
   "cell_type": "code",
   "execution_count": null,
   "metadata": {},
   "outputs": [],
   "source": [
    "ls -l /dev/disk/by-path"
   ]
  },
  {
   "cell_type": "code",
   "execution_count": null,
   "metadata": {
    "scrolled": true
   },
   "outputs": [],
   "source": [
    "ls -l /dev/disk/by-uuid"
   ]
  },
  {
   "cell_type": "markdown",
   "metadata": {},
   "source": [
    "## Formatos de particiones.\n",
    "\n",
    "Las particiones corresponden a espacio físico dentro de un dispositivo. Para que un sisistema operativo pueda utilizarlas de forma adecuada, es necesa\n",
    "\n",
    "### La familia *ext*.\n",
    "\n",
    "Esta es la familia de formatos \"extended filesystem*, uno de los más utilizados en las distribuciones de Linux.\n",
    "\n",
    "* [*ext2*](https://es.wikipedia.org/wiki/Ext2)\n",
    "* [*ext3*](https://en.wikipedia.org/wiki/Ext3)\n",
    "* [*ext4*](https://es.wikipedia.org/wiki/Ext4)\n",
    "### El formato *xfs*.\n",
    "\n",
    "[*xfs*](https://www.wikidata.org/wiki/Q394011) es un formato de archivos a 64bit con journaling creado por SGI. Es bastante popular.\n",
    "\n",
    "### El formato *resierfs*.\n",
    "\n",
    "[*reiserfs*](https://en.wikipedia.org/wiki/ReiserFS) es un formato de journaling creado por Hans Reiser.\n",
    "\n",
    "### El formato *zfs*.\n",
    "*<a href=\"https://es.wikipedia.org/wiki/ZFS_(sistema_de_archivos)\">ZFS</a>* es un sistema de archivos creado por Sun Microsystems para sus ssistemas Solaris.\n",
    "\n",
    "### El formato *iso9660*.\n",
    "\n",
    "Este es el formato usado para los dispositivos e imágenes de discos ópticos (CD-ROM).\n",
    "\n",
    "### Formatos de Windows.\n",
    "\n",
    "* La famila FAT\n",
    "    * FAT16\n",
    "    * FAT32\n",
    "    * exFAT\n",
    "* NTFS\n",
    "\n",
    "## Sistemas de archivos especiales.\n",
    "\n",
    "### *swap*.\n",
    "\n",
    "Las particiones *swap* o de memoria de intercambio permiten utilizar el disco duro como una extensión de la memoria RAM. \n",
    "\n",
    "### *sysfs*.\n",
    "\n",
    "Contiene procesos y componentes del kernel y corresponde al directorio */sys/*. \n",
    "\n",
    "### *proc*.\n",
    "\n",
    "Contiene ciertos procesos del sistema y corresponde al directorio */sys/*. . Algunos procesos de */proc/* fueron movidos a */sys*.\n",
    "\n",
    "### *devfs*.\n",
    "\n",
    "Corresponde al sistema usado por */dev/*.\n",
    "\n",
    "Para mayor referencia consultar https://en.wikipedia.org/wiki/Device_file\n",
    "\n",
    "### *tmpfs*.\n",
    "\n",
    "Corresponde al sistema usado por */tmp/*.\n",
    "\n",
    "### *fusefs*.\n",
    "\n",
    "Este es un sistema que contiene capas. Cada capa no puede ser rerescrita una vez creada, pero puede superponerse una nueva capa. Es el sistema usado por Vagrant y Docker."
   ]
  },
  {
   "cell_type": "markdown",
   "metadata": {},
   "source": [
    "## Montado de volúmenes.\n",
    "\n",
    "### El archivo */etc/fstab*."
   ]
  },
  {
   "cell_type": "markdown",
   "metadata": {},
   "source": [
    "### El comando ```mount ```. \n",
    "\n",
    "Este comando permite montar una partición en el directorio seleccionado.\n",
    "\n",
    "```\n",
    "umount <ruta del dispositivo> <ruta de montaje> <opciones>\n",
    "```\n",
    "\n",
    "Si se ejecuta ```mount``` sin ninguna opción, desplegará los datos de todos los volúmenes montados."
   ]
  },
  {
   "cell_type": "code",
   "execution_count": null,
   "metadata": {},
   "outputs": [],
   "source": [
    "mount"
   ]
  },
  {
   "cell_type": "markdown",
   "metadata": {},
   "source": [
    "### El comando ```umount```.\n",
    "\n",
    "Este comando permite desmontar un volumen."
   ]
  },
  {
   "cell_type": "markdown",
   "metadata": {},
   "source": [
    "<p style=\"text-align: center\"><a rel=\"license\" href=\"http://creativecommons.org/licenses/by/4.0/\"><img alt=\"Licencia Creative Commons\" style=\"border-width:0\" src=\"https://i.creativecommons.org/l/by/4.0/80x15.png\" /></a><br />Esta obra está bajo una <a rel=\"license\" href=\"http://creativecommons.org/licenses/by/4.0/\">Licencia Creative Commons Atribución 4.0 Internacional</a>.</p>\n",
    "<p style=\"text-align: center\">&copy; José Luis Chiquete Valdivieso. 2019.</p>"
   ]
  }
 ],
 "metadata": {
  "kernelspec": {
   "display_name": "Bash",
   "language": "bash",
   "name": "bash"
  },
  "language_info": {
   "codemirror_mode": "shell",
   "file_extension": ".sh",
   "mimetype": "text/x-sh",
   "name": "bash"
  }
 },
 "nbformat": 4,
 "nbformat_minor": 2
}
