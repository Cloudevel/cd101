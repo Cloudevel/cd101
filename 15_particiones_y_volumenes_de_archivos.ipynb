{
 "cells": [
  {
   "cell_type": "markdown",
   "metadata": {},
   "source": [
    "[![cloudevel](Imagenes/cloudevel.png)](https://cloudevel.com)"
   ]
  },
  {
   "cell_type": "markdown",
   "metadata": {},
   "source": [
    "# Particiones y volumenes de archivos."
   ]
  },
  {
   "cell_type": "markdown",
   "metadata": {},
   "source": [
    "## Dispositivos de almacenamiento.\n",
    "\n",
    "## Particiones de disco.\n",
    "\n",
    "## Formatos de particiones.\n",
    "### *ext2*, *ext3* y *ext4*.\n",
    "### *XFS*.\n",
    "### *ZFS*\n",
    "### *reiserfs*.\n",
    "### *iso9660*.\n",
    "### Formatos de Windows.\n",
    "\n",
    "## Sistemas de archivos especiales.\n",
    "### *swap*.\n",
    "### *sysfs*.\n",
    "### *procfs*.\n",
    "### _devfs_.\n",
    "### _fusefs_.\n",
    "\n",
    "\n",
    "## Montado de volúmenes.\n",
    "### El archivo */etc/fstab*.\n",
    "### mount. \n",
    "### umount.\n",
    "\n",
    "## LVM.\n",
    "\n",
    "## Monitoreo y mantenimiento de sistemas de archivos.\n",
    "\n",
    "### *df*.\n",
    "### *dd*.\n",
    "### *mkdisk*.\n",
    "### *cfdisk*.\n",
    "### *fsck* y *efsck*.\n",
    "### _lsblk_.\n",
    "### _blkid_."
   ]
  },
  {
   "cell_type": "markdown",
   "metadata": {},
   "source": [
    "<p style=\"text-align: center\"><a rel=\"license\" href=\"http://creativecommons.org/licenses/by/4.0/\"><img alt=\"Licencia Creative Commons\" style=\"border-width:0\" src=\"https://i.creativecommons.org/l/by/4.0/80x15.png\" /></a><br />Esta obra está bajo una <a rel=\"license\" href=\"http://creativecommons.org/licenses/by/4.0/\">Licencia Creative Commons Atribución 4.0 Internacional</a>.</p>\n",
    "<p style=\"text-align: center\">&copy; José Luis Chiquete Valdivieso. 2019.</p>"
   ]
  }
 ],
 "metadata": {
  "kernelspec": {
   "display_name": "Bash",
   "language": "bash",
   "name": "bash"
  },
  "language_info": {
   "codemirror_mode": "shell",
   "file_extension": ".sh",
   "mimetype": "text/x-sh",
   "name": "bash"
  }
 },
 "nbformat": 4,
 "nbformat_minor": 2
}
