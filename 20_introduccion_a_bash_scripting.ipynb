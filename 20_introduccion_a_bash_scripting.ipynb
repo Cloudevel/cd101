{
 "cells": [
  {
   "cell_type": "markdown",
   "metadata": {},
   "source": [
    "[![cloudevel](Imagenes/cloudevel.png)](https://cloudevel.com)"
   ]
  },
  {
   "cell_type": "markdown",
   "metadata": {},
   "source": [
    "Este capítulo es una breve introducción a las expresiones y declaraciones más utilizadas para la creación de scripts en bash.\n",
    "\n",
    "En caso de quere saber más al respecto, se recomienda consultar el tutorial localizado en http://tldp.org/LDP/Bash-Beginners-Guide/html/index.html"
   ]
  },
  {
   "cell_type": "markdown",
   "metadata": {},
   "source": [
    "## El *\"Hola, mundo.\"* de bash.\n",
    "\n",
    "El comando ```echo``` es capaz de desplegar texto y evaluar algunas expresiones en la salida estándar de una terminal."
   ]
  },
  {
   "cell_type": "code",
   "execution_count": null,
   "metadata": {},
   "outputs": [],
   "source": [
    "echo \"Hola, Mundo.\""
   ]
  },
  {
   "cell_type": "markdown",
   "metadata": {},
   "source": [
    "### Cadenas de caracteres en bash.\n",
    "\n",
    "El comando ```echo``` indentifica a cualquier valor como una cadena de caracteres, por lo que a menos que se incluyan caracteres especiales, los apóstrofes y comillas pueden ser opcionales."
   ]
  },
  {
   "cell_type": "code",
   "execution_count": null,
   "metadata": {},
   "outputs": [],
   "source": [
    "echo Hola, Mundo."
   ]
  },
  {
   "cell_type": "code",
   "execution_count": null,
   "metadata": {},
   "outputs": [],
   "source": [
    "echo 'Hola, Mundo.'"
   ]
  },
  {
   "cell_type": "code",
   "execution_count": null,
   "metadata": {},
   "outputs": [],
   "source": [
    "echo 2 + 5"
   ]
  },
  {
   "cell_type": "markdown",
   "metadata": {},
   "source": [
    "### Expresiones.\n",
    "\n",
    "Para que echo identifique a una expresión se utiliza el signo de moneda encerrado entre corchertes.\n",
    "``` bash\n",
    "echo $[<expresión>]\n",
    "```"
   ]
  },
  {
   "cell_type": "code",
   "execution_count": null,
   "metadata": {},
   "outputs": [],
   "source": [
    "echo $[2 + 4]"
   ]
  },
  {
   "cell_type": "markdown",
   "metadata": {},
   "source": [
    "### Variables y operaciones.\n",
    "\n",
    "Bash permite asignar variables a expresiones utilizando la siguiente sintaxis:\n",
    "\n",
    "```\n",
    "<NOMBRE>=<expresión>\n",
    "```"
   ]
  },
  {
   "cell_type": "markdown",
   "metadata": {},
   "source": [
    "Para que ```echo``` pueda desplegar el valor de una variable, el nommbre de la varuable debe de ser precedido por el símbolo ```$```."
   ]
  },
  {
   "cell_type": "code",
   "execution_count": null,
   "metadata": {},
   "outputs": [],
   "source": [
    "VARIABLE=1"
   ]
  },
  {
   "cell_type": "code",
   "execution_count": null,
   "metadata": {},
   "outputs": [],
   "source": [
    "echo VARIABLE"
   ]
  },
  {
   "cell_type": "code",
   "execution_count": null,
   "metadata": {},
   "outputs": [],
   "source": [
    "echo $VARIABLE"
   ]
  },
  {
   "cell_type": "markdown",
   "metadata": {},
   "source": [
    "### Expresiones y operadores.\n",
    "\n",
    "Una expresión está compuesta por valores o variables relacionadas mediante operadores.\n",
    "\n",
    "### Tipos de datos.\n",
    "\n",
    "Bash sólo puede identificar:\n",
    "\n",
    "* Flujos de texto.\n",
    "* Números enteros.\n",
    "\n",
    "Existen diversos operadores que pueden ser urtilizados dependiendo del tipo de dato.\n",
    "\n",
    "Es posible consultar los operadores disponibles en\n",
    "http://tldp.org/HOWTO/Bash-Prog-Intro-HOWTO-11.html"
   ]
  },
  {
   "cell_type": "code",
   "execution_count": null,
   "metadata": {},
   "outputs": [],
   "source": [
    "NUMERO=12\n",
    "echo $[$NUMERO * 2]"
   ]
  },
  {
   "cell_type": "code",
   "execution_count": null,
   "metadata": {},
   "outputs": [],
   "source": [
    "echo $(($NUMERO < 3))"
   ]
  },
  {
   "cell_type": "code",
   "execution_count": null,
   "metadata": {},
   "outputs": [],
   "source": [
    "EVALUA=$(($NUMERO / 12))\n",
    "echo $EVALUA"
   ]
  },
  {
   "cell_type": "code",
   "execution_count": null,
   "metadata": {},
   "outputs": [],
   "source": [
    "let MUL=12*5\n",
    "echo $MUL"
   ]
  },
  {
   "cell_type": "markdown",
   "metadata": {},
   "source": [
    "### Aritmética con _bc_."
   ]
  },
  {
   "cell_type": "code",
   "execution_count": null,
   "metadata": {},
   "outputs": [],
   "source": [
    "echo 12/4 | bc -l "
   ]
  },
  {
   "cell_type": "markdown",
   "metadata": {},
   "source": [
    "## Condicionales."
   ]
  },
  {
   "cell_type": "markdown",
   "metadata": {},
   "source": [
    "### La estructura ```if```...```else```...```fi```."
   ]
  },
  {
   "cell_type": "code",
   "execution_count": null,
   "metadata": {},
   "outputs": [],
   "source": [
    "T1=\"hola\"\n",
    "T2=\"adios\"\n",
    "\n",
    "if [ \"$T1\" = \"$T2\" ]; then\n",
    "echo La expresion es true.\n",
    "else\n",
    "echo La expresion es false.\n",
    "fi"
   ]
  },
  {
   "cell_type": "markdown",
   "metadata": {},
   "source": [
    "### La estructura ```case```...```esac```."
   ]
  },
  {
   "cell_type": "code",
   "execution_count": null,
   "metadata": {},
   "outputs": [],
   "source": [
    "VEGETAL=\"manzana\"\n",
    "\n",
    "case \"$VEGETAL\" in\n",
    "   \"manzana\") echo \"Una al día, qué alegría.\" \n",
    "   ;;\n",
    "   \"plátano\") echo \"Chí cheñol.\" \n",
    "   ;;\n",
    "   \"zanahora\") echo \"NO es el día del plátano.\" \n",
    "   ;;\n",
    "esac"
   ]
  },
  {
   "cell_type": "markdown",
   "metadata": {},
   "source": [
    "## Iteraciones."
   ]
  },
  {
   "cell_type": "markdown",
   "metadata": {},
   "source": [
    "### for."
   ]
  },
  {
   "cell_type": "code",
   "execution_count": null,
   "metadata": {},
   "outputs": [],
   "source": [
    "for i in $( ls ); do\n",
    "            echo item: $i\n",
    "        done"
   ]
  },
  {
   "cell_type": "code",
   "execution_count": null,
   "metadata": {},
   "outputs": [],
   "source": [
    "for i in `seq 1 10`;\n",
    "        do\n",
    "                echo $i\n",
    "        done  "
   ]
  },
  {
   "cell_type": "markdown",
   "metadata": {},
   "source": [
    "### while."
   ]
  },
  {
   "cell_type": "code",
   "execution_count": null,
   "metadata": {
    "scrolled": true
   },
   "outputs": [],
   "source": [
    "CUENTA=0\n",
    "         while [  $CUENTA -lt 10 ]; do\n",
    "             echo El numero es $CUENTA\n",
    "             let CUENTA=CUENTA+1 \n",
    "         done"
   ]
  },
  {
   "cell_type": "markdown",
   "metadata": {},
   "source": [
    "### until."
   ]
  },
  {
   "cell_type": "code",
   "execution_count": null,
   "metadata": {},
   "outputs": [],
   "source": [
    "CUENTA=20\n",
    "until [  $CUENTA -lt 10 ]; do\n",
    "echo iterador $CUENTA\n",
    "let CUENTA-=1\n",
    "done"
   ]
  },
  {
   "cell_type": "markdown",
   "metadata": {},
   "source": [
    "## Archivos de configuración de entorno."
   ]
  },
  {
   "cell_type": "code",
   "execution_count": null,
   "metadata": {},
   "outputs": [],
   "source": [
    "export"
   ]
  },
  {
   "cell_type": "code",
   "execution_count": null,
   "metadata": {},
   "outputs": [],
   "source": [
    "export NOMBRE=Jose"
   ]
  },
  {
   "cell_type": "code",
   "execution_count": null,
   "metadata": {},
   "outputs": [],
   "source": [
    "export LANG=\"es_MX\""
   ]
  },
  {
   "cell_type": "code",
   "execution_count": null,
   "metadata": {
    "scrolled": true
   },
   "outputs": [],
   "source": [
    "export DEITY = Ala"
   ]
  },
  {
   "cell_type": "code",
   "execution_count": null,
   "metadata": {},
   "outputs": [],
   "source": [
    "cat .bashrc"
   ]
  },
  {
   "cell_type": "code",
   "execution_count": null,
   "metadata": {},
   "outputs": [],
   "source": [
    "cat /etc/bashrc"
   ]
  },
  {
   "cell_type": "markdown",
   "metadata": {},
   "source": [
    "https://www.gnu.org/software/bash/manual/"
   ]
  },
  {
   "cell_type": "markdown",
   "metadata": {},
   "source": [
    "<p style=\"text-align: center\"><a rel=\"license\" href=\"http://creativecommons.org/licenses/by/4.0/\"><img alt=\"Licencia Creative Commons\" style=\"border-width:0\" src=\"https://i.creativecommons.org/l/by/4.0/80x15.png\" /></a><br />Esta obra está bajo una <a rel=\"license\" href=\"http://creativecommons.org/licenses/by/4.0/\">Licencia Creative Commons Atribución 4.0 Internacional</a>.</p>\n",
    "<p style=\"text-align: center\">&copy; José Luis Chiquete Valdivieso. 2019.</p>"
   ]
  }
 ],
 "metadata": {
  "kernelspec": {
   "display_name": "Bash",
   "language": "bash",
   "name": "bash"
  },
  "language_info": {
   "codemirror_mode": "shell",
   "file_extension": ".sh",
   "mimetype": "text/x-sh",
   "name": "bash"
  }
 },
 "nbformat": 4,
 "nbformat_minor": 2
}
