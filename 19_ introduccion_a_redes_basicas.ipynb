{
 "cells": [
  {
   "cell_type": "markdown",
   "metadata": {},
   "source": [
    "[![cloudevel](Imagenes/cloudevel.png)](https://cloudevel.com)"
   ]
  },
  {
   "cell_type": "markdown",
   "metadata": {},
   "source": [
    "## Internet y los protocolos  *TCP/IP*.\n",
    "\n",
    "Todas las comunicaciones de redes basadas en Internet se apegan a una [familia de protocolos](https://es.wikipedia.org/wiki/Familia_de_protocolos_de_internet) conocidos también como *TCP/IP* en  honor a los protocolos primordiales de este tipo de redes.\n",
    "\n",
    "Cada uno de estos protocolos es publicado por la Fueza de tarea de ingeniería de Internet o [*IETF*](https://www.ietf.org/) por sus siglas en inglés.\n",
    "\n",
    "Los protocolos y estándares de la IETF son generado mediante iniciativas llamandas Peticiones para comentarios o *RFC*. Estas RFC pueden ser consultadas desde https://www.rfc-editor.org/."
   ]
  },
  {
   "cell_type": "markdown",
   "metadata": {},
   "source": [
    "## El modelo OSI.\n",
    "\n",
    "El modelo [OSI](https://es.wikipedia.org/wiki/Modelo_OSI) es una especificación (ISO/IEC 7498-1) que se utilzia como modelo para la definición de protocolos de internet y define 7 capas.\n",
    "\n",
    "1. Capa física.\n",
    "* Capa de enlace de datos.\n",
    "* Capa de red.\n",
    "* Capa de transporte.\n",
    "* Capa de sesión.\n",
    "* Capa de presentación.\n",
    "* Capa de aplicación."
   ]
  },
  {
   "cell_type": "markdown",
   "metadata": {},
   "source": [
    "## Paquetes de datos.\n",
    "\n",
    "Los datos que se transmiten por redes basadas en los protocolos TCP/IP se *empaquetan* mediante el uso de encabezados. Cada paquete está conformado por el mensaje y varios encabezados."
   ]
  },
  {
   "cell_type": "markdown",
   "metadata": {},
   "source": [
    "### Direcciones MAC y el protocolo *ARP*.\n",
    "\n",
    "Cada interfaz de red cuenta con un número de identificación único conocido como MAC Address o dirección física.\n",
    "\n",
    "El protocolo [ARP](https://es.wikipedia.org/wiki/Protocolo_de_resoluci%C3%B3n_de_direcciones) es el protocolo encargado de identificar las direcciones físicas de los dispositivos denrto de una red. "
   ]
  },
  {
   "cell_type": "markdown",
   "metadata": {},
   "source": [
    "## El protocolo IP.\n",
    "\n",
    "Pretenece a la capa de red y permite identificar a un servidor mediante un dientificador.\n",
    "\n",
    "### Direcciones IP.\n",
    "\n",
    "#### IPv4 e IPv6.\n",
    "\n",
    "### Redes y Subredes.\n",
    "\n",
    "### Máscaras.\n",
    "\n",
    "### CIDR.\n",
    "\n",
    "### Clases.\n"
   ]
  },
  {
   "cell_type": "markdown",
   "metadata": {},
   "source": [
    "## Ruteo."
   ]
  },
  {
   "cell_type": "markdown",
   "metadata": {},
   "source": [
    "## Intranets."
   ]
  },
  {
   "cell_type": "markdown",
   "metadata": {},
   "source": [
    "### NAT."
   ]
  },
  {
   "cell_type": "markdown",
   "metadata": {},
   "source": [
    "### DNS."
   ]
  },
  {
   "cell_type": "markdown",
   "metadata": {},
   "source": [
    "### DHCP."
   ]
  },
  {
   "cell_type": "markdown",
   "metadata": {},
   "source": [
    "##  Protocolos básicos de TCP/IP.\n",
    "\n",
    "### TCP. \n",
    "### UDP."
   ]
  },
  {
   "cell_type": "markdown",
   "metadata": {},
   "source": [
    "## Archivos de configuración."
   ]
  },
  {
   "cell_type": "markdown",
   "metadata": {},
   "source": [
    "### El archivo */etc/hostname*."
   ]
  },
  {
   "cell_type": "code",
   "execution_count": null,
   "metadata": {},
   "outputs": [],
   "source": []
  },
  {
   "cell_type": "markdown",
   "metadata": {},
   "source": [
    "### El archivo *etc/hosts*."
   ]
  },
  {
   "cell_type": "code",
   "execution_count": null,
   "metadata": {},
   "outputs": [],
   "source": []
  },
  {
   "cell_type": "markdown",
   "metadata": {},
   "source": [
    "### El archivo *etc/resolv.conf*."
   ]
  },
  {
   "cell_type": "code",
   "execution_count": null,
   "metadata": {},
   "outputs": [],
   "source": []
  },
  {
   "cell_type": "markdown",
   "metadata": {},
   "source": [
    "## Interfaces de red."
   ]
  },
  {
   "cell_type": "markdown",
   "metadata": {},
   "source": [
    "### El comando ```ip```.\n",
    "\n",
    "https://access.redhat.com/sites/default/files/attachments/rh_ip_command_cheatsheet_1214_jcs_print.pdf"
   ]
  },
  {
   "cell_type": "code",
   "execution_count": null,
   "metadata": {},
   "outputs": [],
   "source": []
  },
  {
   "cell_type": "markdown",
   "metadata": {},
   "source": [
    "### Los scripts de configuración de interfaces de red."
   ]
  },
  {
   "cell_type": "code",
   "execution_count": null,
   "metadata": {},
   "outputs": [],
   "source": []
  },
  {
   "cell_type": "markdown",
   "metadata": {},
   "source": [
    "## El servicio *NetworkManager*."
   ]
  },
  {
   "cell_type": "markdown",
   "metadata": {},
   "source": [
    "### *nmtui*."
   ]
  },
  {
   "cell_type": "code",
   "execution_count": null,
   "metadata": {},
   "outputs": [],
   "source": []
  },
  {
   "cell_type": "markdown",
   "metadata": {},
   "source": [
    "## Utilerías.\n"
   ]
  },
  {
   "cell_type": "markdown",
   "metadata": {},
   "source": [
    "### ```hostname```."
   ]
  },
  {
   "cell_type": "markdown",
   "metadata": {},
   "source": [
    "### ```ping```."
   ]
  },
  {
   "cell_type": "markdown",
   "metadata": {},
   "source": [
    "### ```ss```."
   ]
  },
  {
   "cell_type": "markdown",
   "metadata": {},
   "source": [
    "### La biblioteca *net-tools*.\n",
    "\n",
    "#### ```ifconfig```.\n",
    "####  ```netstat```.\n",
    "####  ```arp```.\n",
    "#### ```route```."
   ]
  },
  {
   "cell_type": "markdown",
   "metadata": {},
   "source": [
    "## Sesiones en servidores."
   ]
  },
  {
   "cell_type": "markdown",
   "metadata": {},
   "source": [
    "### *telnet* y *ftp*."
   ]
  },
  {
   "cell_type": "markdown",
   "metadata": {},
   "source": [
    "### SSH."
   ]
  },
  {
   "cell_type": "markdown",
   "metadata": {},
   "source": [
    "## Transferencias de archivos."
   ]
  },
  {
   "cell_type": "markdown",
   "metadata": {},
   "source": [
    "### *scp*."
   ]
  },
  {
   "cell_type": "markdown",
   "metadata": {},
   "source": [
    "### *sftp*."
   ]
  },
  {
   "cell_type": "markdown",
   "metadata": {},
   "source": [
    "###  *rsync*."
   ]
  },
  {
   "cell_type": "code",
   "execution_count": null,
   "metadata": {},
   "outputs": [],
   "source": []
  },
  {
   "cell_type": "markdown",
   "metadata": {},
   "source": [
    "### *wget*."
   ]
  },
  {
   "cell_type": "code",
   "execution_count": null,
   "metadata": {},
   "outputs": [],
   "source": []
  },
  {
   "cell_type": "markdown",
   "metadata": {},
   "source": [
    "### *curl*."
   ]
  },
  {
   "cell_type": "code",
   "execution_count": null,
   "metadata": {},
   "outputs": [],
   "source": []
  },
  {
   "cell_type": "markdown",
   "metadata": {},
   "source": [
    "<p style=\"text-align: center\"><a rel=\"license\" href=\"http://creativecommons.org/licenses/by/4.0/\"><img alt=\"Licencia Creative Commons\" style=\"border-width:0\" src=\"https://i.creativecommons.org/l/by/4.0/80x15.png\" /></a><br />Esta obra está bajo una <a rel=\"license\" href=\"http://creativecommons.org/licenses/by/4.0/\">Licencia Creative Commons Atribución 4.0 Internacional</a>.</p>\n",
    "<p style=\"text-align: center\">&copy; José Luis Chiquete Valdivieso. 2019.</p>"
   ]
  }
 ],
 "metadata": {
  "kernelspec": {
   "display_name": "Bash",
   "language": "bash",
   "name": "bash"
  },
  "language_info": {
   "codemirror_mode": "shell",
   "file_extension": ".sh",
   "mimetype": "text/x-sh",
   "name": "bash"
  }
 },
 "nbformat": 4,
 "nbformat_minor": 2
}
