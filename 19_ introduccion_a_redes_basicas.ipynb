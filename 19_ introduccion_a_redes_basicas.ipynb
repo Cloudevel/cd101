{
 "cells": [
  {
   "cell_type": "markdown",
   "metadata": {},
   "source": [
    "[![cloudevel](Imagenes/cloudevel.png)](https://cloudevel.com)"
   ]
  },
  {
   "cell_type": "markdown",
   "metadata": {},
   "source": [
    "# Configuración, gestión y uso de redes."
   ]
  },
  {
   "cell_type": "markdown",
   "metadata": {},
   "source": [
    "##  Protocolos básicos de TCP/IP.\n",
    "### IP.\n",
    "### TCP. \n",
    "### UDP.\n",
    "### ICMP.\n",
    "### ARP.\n",
    "## Fundamentos de redes TCP/IP.\n",
    "### Direcciones IP y segmentos.\n",
    "### Ruteo.\n",
    "### NAT.\n",
    "### DNS.\n",
    "### DHCP.\n",
    "### NTP.\n",
    "## Interfaces.\n",
    "## Archivos de configuración.\n",
    "### El archivo _/etc/hostname_.\n",
    "### El archivo _etc/hosts_.\n",
    "### El archivo _etc/resolv.conf_.\n",
    "### Los scripts de configuración de interfaces de red.\n",
    "## El servicio _NetworkManager_.\n",
    "### _nmtui_.\n",
    "## Utilerías.\n",
    "### ip.\n",
    "### ss.\n",
    "### ping.\n",
    "### traceroute.\n",
    "### whois.\n",
    "\n",
    "https://access.redhat.com/sites/default/files/attachments/rh_ip_command_cheatsheet_1214_jcs_print.pdf\n",
    "\n",
    "## Secure shell.\n",
    "\n",
    "\n",
    "## Transferencia y descarga de archivos.\n",
    "### _scp_.\n",
    "### _sftp_.\n",
    "###  _rsync_.\n",
    "### _wget_.\n",
    "### _curl_.\n",
    "### _telnet_ y _ftp_."
   ]
  },
  {
   "cell_type": "markdown",
   "metadata": {},
   "source": [
    "<p style=\"text-align: center\"><a rel=\"license\" href=\"http://creativecommons.org/licenses/by/4.0/\"><img alt=\"Licencia Creative Commons\" style=\"border-width:0\" src=\"https://i.creativecommons.org/l/by/4.0/80x15.png\" /></a><br />Esta obra está bajo una <a rel=\"license\" href=\"http://creativecommons.org/licenses/by/4.0/\">Licencia Creative Commons Atribución 4.0 Internacional</a>.</p>\n",
    "<p style=\"text-align: center\">&copy; José Luis Chiquete Valdivieso. 2019.</p>"
   ]
  }
 ],
 "metadata": {
  "kernelspec": {
   "display_name": "Bash",
   "language": "bash",
   "name": "bash"
  },
  "language_info": {
   "codemirror_mode": "shell",
   "file_extension": ".sh",
   "mimetype": "text/x-sh",
   "name": "bash"
  }
 },
 "nbformat": 4,
 "nbformat_minor": 2
}
