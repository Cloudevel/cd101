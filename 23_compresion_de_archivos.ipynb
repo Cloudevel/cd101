{
 "cells": [
  {
   "cell_type": "markdown",
   "metadata": {},
   "source": [
    "[![cloudevel](img/cloudevel.png)](https://cloudevel.com)"
   ]
  },
  {
   "cell_type": "markdown",
   "metadata": {},
   "source": [
    "# Paquetes de software."
   ]
  },
  {
   "cell_type": "markdown",
   "metadata": {},
   "source": [
    "Al existir tantas distribuciones basadas en la plataforma *GNU/Linux*, el tema de la distribución e instalación de paquetes de software se volvió un tema muy complejo.\n",
    "\n",
    "La problemática aumenta en vista de que en la gran mayoría de los casos, un paquete de software requiere de una biblioteca de paquetes adicionales. El cálculo de las dependencias de un paquete fue durante mucho tiempo un gran obstáculo para la adopción de la plataforma."
   ]
  },
  {
   "cell_type": "markdown",
   "metadata": {},
   "source": [
    "## Compilación del código fuente.\n",
    "\n",
    "La gran ventaja del software publicado bajo los términos de una licencia de software libre, es que se tiene acceso al código fuente de dicho software y dependiendo del lenguaje de programación en el que se encuentren codificados es posible crear archivos binarios que se ajusten a una plataforma específica.\n",
    "\n",
    "Aún cuando esta forma de distribuir el software es muy poderosa, resulta muy complicada incluso para programadores y administradores de sistemas experimentados.\n",
    "\n",
    "### El toolchain de GNU.\n",
    "\n",
    "https://es.wikipedia.org/wiki/GNU_toolchain\n",
    "\n",
    "### Pasos generales.\n",
    "\n",
    "Por lo general, la forma en la que se compila el software es la siguiente:\n",
    "\n",
    "* Configuración.\n",
    "* Compilación.\n",
    "* Instalación.\n",
    "\n",
    "### Scripts de instalación.\n",
    "\n",
    "Muchos desarrolladores han optado por incluir junto con el código fuente, guiones (scripts) escritos en lenguajes interpretados como Bash, Python, Perl, etc. los cuales automatizan la configuración y complilación del software que publica.\n",
    "\n",
    "\n",
    "### Los archivos *README* e *INSTALL*.\n",
    "\n",
    "En la mayoría de los casos, los desarroladores incluyen archivos llamados *README* e *INSTALL* con diversas extensiones, los cual contienen los detalles e instrucciones de configuración, compilación e instalación del software que han publicado."
   ]
  },
  {
   "cell_type": "markdown",
   "metadata": {},
   "source": [
    "## Empaquetado y compresión de estructuras de archivos.\n",
    "\n",
    "Por lo general, el software es publicado en *paquetes* que contienen estructuras de archivos y directorios, los cuales se utilizan para faciliatar la descarga e instalación de dicho software."
   ]
  },
  {
   "cell_type": "markdown",
   "metadata": {},
   "source": [
    "### El comando ```tar```.\n",
    "\n",
    "El comando ```tar``` es la herramienta más utilizada para empacar, comprimir y extraer archivos de las plataformas UNIX y GNU/Linux. Es un acrónimo de \"Tape ARchiver\".\n",
    "\n",
    "A los archivos creados con ```tar``` se les conoce como *tarballs*, cuya traducción es *bolas de alquitrán*, en vista de quedichos archivos aglutinan a otros archivos. \n",
    "\n",
    "La sintaxis básica es la siguiente, pero cambia dependiendo de las opciones que se le añaden como argumentos.\n",
    "\n",
    "```\n",
    "tar <argumentos>\n",
    "```\n",
    "\n",
    "Las opciones básicas de ```tar``` son:\n",
    "* ```-f``` o ```--file=<archivo>``` \n",
    "* ```-c``` o ```--create```\n",
    "* ```-x``` o ```--extract``` o ```--get```\n",
    "* ```-t``` o ```--list```\n",
    "* ```-v``` o ```--verbose```\n",
    "* ```-p``` o ```--preserve-permissions```\n",
    "* ```-u``` o ```--update```\n",
    "* ```-A``` o ```--catenate```\n",
    "* ```-r``` o ```--append```\n",
    "* ```-d``` o ```--diff```\n",
    "* ```-C``` o ```--directory```"
   ]
  },
  {
   "cell_type": "markdown",
   "metadata": {},
   "source": [
    "* La siguiente celda creará un archivo *datos.tar* del directorio *data*."
   ]
  },
  {
   "cell_type": "code",
   "execution_count": null,
   "metadata": {},
   "outputs": [],
   "source": [
    "tar -cf datos.tar data"
   ]
  },
  {
   "cell_type": "code",
   "execution_count": null,
   "metadata": {},
   "outputs": [],
   "source": [
    "ls *.tar"
   ]
  },
  {
   "cell_type": "code",
   "execution_count": null,
   "metadata": {},
   "outputs": [],
   "source": [
    "cp datos.tar ~/"
   ]
  },
  {
   "cell_type": "code",
   "execution_count": null,
   "metadata": {},
   "outputs": [],
   "source": [
    "ls ~/*.tar"
   ]
  },
  {
   "cell_type": "markdown",
   "metadata": {},
   "source": [
    "* La siguiente celda hará un listado de los contenidos del archivo."
   ]
  },
  {
   "cell_type": "code",
   "execution_count": null,
   "metadata": {},
   "outputs": [],
   "source": [
    "tar -tvf ~/datos.tar"
   ]
  },
  {
   "cell_type": "markdown",
   "metadata": {},
   "source": [
    "* La siguiente celda extraerá un listado de los contenidos del archivo en el directorio actual."
   ]
  },
  {
   "cell_type": "code",
   "execution_count": null,
   "metadata": {},
   "outputs": [],
   "source": [
    "mkdir datos_alternos"
   ]
  },
  {
   "cell_type": "code",
   "execution_count": null,
   "metadata": {},
   "outputs": [],
   "source": [
    "tar -xvf ~/datos.tar -C datos_alternos"
   ]
  },
  {
   "cell_type": "code",
   "execution_count": null,
   "metadata": {},
   "outputs": [],
   "source": [
    "tree datos_alternos"
   ]
  },
  {
   "cell_type": "code",
   "execution_count": null,
   "metadata": {},
   "outputs": [],
   "source": [
    "touch data/nuevo"
   ]
  },
  {
   "cell_type": "code",
   "execution_count": null,
   "metadata": {
    "scrolled": true
   },
   "outputs": [],
   "source": [
    "ls data"
   ]
  },
  {
   "cell_type": "markdown",
   "metadata": {},
   "source": [
    "* La siguiente celda actualizará el archivo con respecto al directorio."
   ]
  },
  {
   "cell_type": "code",
   "execution_count": null,
   "metadata": {},
   "outputs": [],
   "source": [
    "tar -uvf ~/datos.tar data"
   ]
  },
  {
   "cell_type": "code",
   "execution_count": null,
   "metadata": {},
   "outputs": [],
   "source": [
    "tar -tvf ~/datos.tar"
   ]
  },
  {
   "cell_type": "markdown",
   "metadata": {},
   "source": [
    "### La compresión con ```gzip``` y ```gunzip```."
   ]
  },
  {
   "cell_type": "markdown",
   "metadata": {},
   "source": [
    "https://en.wikipedia.org/wiki/Gzip"
   ]
  },
  {
   "cell_type": "markdown",
   "metadata": {},
   "source": [
    " Opción ```-z```"
   ]
  },
  {
   "cell_type": "code",
   "execution_count": null,
   "metadata": {},
   "outputs": [],
   "source": [
    "tar -cvzf datos.tar.gz data"
   ]
  },
  {
   "cell_type": "markdown",
   "metadata": {},
   "source": [
    "### El comando ```gzip```.\n",
    "\n",
    "Este comando permite realizar la compresión de cualquier arciuvo  usandoel algoritmo *zip*."
   ]
  },
  {
   "cell_type": "code",
   "execution_count": null,
   "metadata": {},
   "outputs": [],
   "source": [
    "gzip data.zip data"
   ]
  },
  {
   "cell_type": "markdown",
   "metadata": {},
   "source": [
    "#### La *man page* de ```gzip```."
   ]
  },
  {
   "cell_type": "code",
   "execution_count": null,
   "metadata": {},
   "outputs": [],
   "source": [
    "man gzip"
   ]
  },
  {
   "cell_type": "markdown",
   "metadata": {},
   "source": [
    "### El comando ```gunzip```.\n",
    "\n",
    "Este comando permite realizar la descompresión de un archivo usando el algoritno *zip*."
   ]
  },
  {
   "cell_type": "markdown",
   "metadata": {},
   "source": [
    "#### La *man page* de ```gunzip```."
   ]
  },
  {
   "cell_type": "code",
   "execution_count": null,
   "metadata": {},
   "outputs": [],
   "source": [
    "man gunzip"
   ]
  },
  {
   "cell_type": "markdown",
   "metadata": {},
   "source": [
    "### La compresión ```bzip2``` y ```bunzip2```.\n",
    "\n",
    "La compesión [*bizp2*](https://en.wikipedia.org/wiki/Bzip2) utiliza un algoritmo de compresión mejorado que permite generalmente crear archivos comprimidos más pequeños que ```zip```."
   ]
  },
  {
   "cell_type": "markdown",
   "metadata": {},
   "source": [
    "Opción ```-j```"
   ]
  },
  {
   "cell_type": "code",
   "execution_count": null,
   "metadata": {},
   "outputs": [],
   "source": [
    "tar -cvjf datos.tar.bz2 data"
   ]
  },
  {
   "cell_type": "code",
   "execution_count": null,
   "metadata": {},
   "outputs": [],
   "source": [
    "ls -l *.tar.*"
   ]
  },
  {
   "cell_type": "markdown",
   "metadata": {},
   "source": [
    "\n",
    "### Los formatos *zip* y *rar*.\n",
    "\n",
    "Estos formatos son sistemas basados en Windows. No son nativos de UNIX ni GNU/Linux, pero hay implementaciones.\n",
    "\n",
    "Estos comandos no funcionan con tar.\n",
    "\n",
    "#### ```zip``` y ```unzip```."
   ]
  },
  {
   "cell_type": "code",
   "execution_count": null,
   "metadata": {},
   "outputs": [],
   "source": [
    "zip datos.zip data"
   ]
  },
  {
   "cell_type": "code",
   "execution_count": null,
   "metadata": {},
   "outputs": [],
   "source": [
    "unzip datos.zip"
   ]
  },
  {
   "cell_type": "markdown",
   "metadata": {},
   "source": [
    "El formato *rar* es otro formato que en la mayoría de los casos no viene preinistalado.\n",
    "\n",
    "```rar``` y ``unrar``"
   ]
  },
  {
   "cell_type": "code",
   "execution_count": null,
   "metadata": {},
   "outputs": [],
   "source": [
    "rar"
   ]
  },
  {
   "cell_type": "markdown",
   "metadata": {},
   "source": [
    "## Verificación de autenticidad.\n",
    "\n",
    "Existen herramientas que permiten crear un *hash* -una secuencia de números única- que identifica al contenido de un archivo."
   ]
  },
  {
   "cell_type": "markdown",
   "metadata": {},
   "source": [
    "### ```sha*sum```.\n",
    "\n",
    "La familia SHA son una familia de algoritmos que permiten generar hash y son utilizadas para cifrado y autenticación.\n",
    "\n",
    "https://es.wikipedia.org/wiki/Secure_Hash_Algorithm"
   ]
  },
  {
   "cell_type": "code",
   "execution_count": null,
   "metadata": {},
   "outputs": [],
   "source": [
    "sha1sum *.tar*"
   ]
  },
  {
   "cell_type": "markdown",
   "metadata": {},
   "source": [
    "### ```md5sum```.\n",
    "\n",
    "Este algoritmo fue muy utilizado en el pasado, sin embargo ha quedado en desuso debido a que se han logrado crear colisiones en el cálculo del hash."
   ]
  },
  {
   "cell_type": "code",
   "execution_count": null,
   "metadata": {},
   "outputs": [],
   "source": [
    "md5sum *.tar*"
   ]
  },
  {
   "cell_type": "markdown",
   "metadata": {
    "collapsed": true
   },
   "source": [
    "<p style=\"text-align: center\"><a rel=\"license\" href=\"http://creativecommons.org/licenses/by/4.0/\"><img alt=\"Licencia Creative Commons\" style=\"border-width:0\" src=\"https://i.creativecommons.org/l/by/4.0/80x15.png\" /></a><br />Esta obra está bajo una <a rel=\"license\" href=\"http://creativecommons.org/licenses/by/4.0/\">Licencia Creative Commons Atribución 4.0 Internacional</a>.</p>\n",
    "<p style=\"text-align: center\">&copy; José Luis Chiquete Valdivieso. 2020.</p>"
   ]
  }
 ],
 "metadata": {
  "kernelspec": {
   "display_name": "Bash",
   "language": "bash",
   "name": "bash"
  },
  "language_info": {
   "codemirror_mode": "shell",
   "file_extension": ".sh",
   "mimetype": "text/x-sh",
   "name": "bash"
  }
 },
 "nbformat": 4,
 "nbformat_minor": 2
}
