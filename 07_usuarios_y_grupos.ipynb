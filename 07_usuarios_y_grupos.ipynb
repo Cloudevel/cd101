{
 "cells": [
  {
   "cell_type": "markdown",
   "metadata": {},
   "source": [
    "[![cloudevel](Imagenes/cloudevel.png)](https://cloudevel.com)"
   ]
  },
  {
   "cell_type": "markdown",
   "metadata": {},
   "source": [
    "# Usuarios y grupos."
   ]
  },
  {
   "cell_type": "markdown",
   "metadata": {},
   "source": [
    "## El usuario root.\n",
    "## Gestión de usuarios y grupos.\n",
    "### El archivo _/etc/passwd_.\n",
    "### El archivo _/etc/group_.\n",
    "### El archivo _/etc/shadow_.\n",
    "### Creación de usuarios con_adduser_.\n",
    "### _deluser_.\n",
    "### _addgroup_.\n",
    "### _delgroup_.\n",
    "### _groups_.\n",
    "### _delgroup_.\n",
    "### _chgrp_.\n",
    "### _passwd_.\n",
    "## Uitilerías.\n",
    "### _whoami_.\n",
    "### _who_.\n",
    "### _w_.\n",
    "### _users_.\n",
    "## Escalamiento de permisos de usuario.\n",
    "### _su_.\n",
    "### _sudo_.\n",
    "### El archivo _/etc/sudoers_.\n",
    "### _visudo_."
   ]
  },
  {
   "cell_type": "markdown",
   "metadata": {
    "collapsed": true
   },
   "source": [
    "<p style=\"text-align: center\"><a rel=\"license\" href=\"http://creativecommons.org/licenses/by/4.0/\"><img alt=\"Licencia Creative Commons\" style=\"border-width:0\" src=\"https://i.creativecommons.org/l/by/4.0/80x15.png\" /></a><br />Esta obra está bajo una <a rel=\"license\" href=\"http://creativecommons.org/licenses/by/4.0/\">Licencia Creative Commons Atribución 4.0 Internacional</a>.</p>\n",
    "<p style=\"text-align: center\">&copy; José Luis Chiquete Valdivieso. 2019.</p>"
   ]
  }
 ],
 "metadata": {
  "kernelspec": {
   "display_name": "Bash",
   "language": "bash",
   "name": "bash"
  },
  "language_info": {
   "codemirror_mode": "shell",
   "file_extension": ".sh",
   "mimetype": "text/x-sh",
   "name": "bash"
  }
 },
 "nbformat": 4,
 "nbformat_minor": 2
}
