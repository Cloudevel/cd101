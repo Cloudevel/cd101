{
 "cells": [
  {
   "cell_type": "markdown",
   "metadata": {},
   "source": [
    "[![https://cloudevel.com/](https://cloudevel.com/es-mx/media/cloudevel-fondo-twitter.png)](https://cloudevel.com)"
   ]
  },
  {
   "cell_type": "markdown",
   "metadata": {
    "collapsed": true
   },
   "source": [
    "# Flujos de texto, filtros y pipes."
   ]
  },
  {
   "cell_type": "markdown",
   "metadata": {},
   "source": [
    "## Entrada, salida y error estándar.\n",
    "## Filtros.\n",
    "### _echo_.\n",
    "### _cat_.\n",
    "### _less_. \n",
    "### _more_.\n",
    "### _tail_.\n",
    "### _wc_.\n",
    "### _diff_.\n",
    "### _patch_.\n",
    "### _sort_.\n",
    "### _uniq_.\n",
    "### _cut_.\n",
    "### _grep_.\n",
    "## Enrutamiento de flujos con pipes.\n",
    "### \"_|_\"\n",
    "### \"_ >_\"\n",
    "### \"_ &lt;_\"\n",
    "### \"_tee_\""
   ]
  },
  {
   "cell_type": "markdown",
   "metadata": {},
   "source": [
    "<p style=\"text-align: center\"><a rel=\"license\" href=\"http://creativecommons.org/licenses/by/4.0/\"><img alt=\"Licencia Creative Commons\" style=\"border-width:0\" src=\"https://i.creativecommons.org/l/by/4.0/80x15.png\" /></a><br />Esta obra está bajo una <a rel=\"license\" href=\"http://creativecommons.org/licenses/by/4.0/\">Licencia Creative Commons Atribución 4.0 Internacional</a>.</p>\n",
    "<p style=\"text-align: center\">&copy; José Luis Chiquete Valdivieso. 2017.</p>"
   ]
  }
 ],
 "metadata": {
  "kernelspec": {
   "display_name": "Bash",
   "language": "bash",
   "name": "bash"
  },
  "language_info": {
   "codemirror_mode": "shell",
   "file_extension": ".sh",
   "mimetype": "text/x-sh",
   "name": "bash"
  }
 },
 "nbformat": 4,
 "nbformat_minor": 2
}
