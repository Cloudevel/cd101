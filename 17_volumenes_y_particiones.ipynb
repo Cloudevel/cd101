{
 "cells": [
  {
   "cell_type": "markdown",
   "metadata": {},
   "source": [
    "[![cloudevel](img/cloudevel.png)](https://cloudevel.com)"
   ]
  },
  {
   "cell_type": "markdown",
   "metadata": {},
   "source": [
    "# Volúmenes y particiones."
   ]
  },
  {
   "cell_type": "markdown",
   "metadata": {},
   "source": [
    "La plataforma *GNU/Linux* soporta una gran cantidad de dispositivos y medios de almacenamiento, tanto de forma local como en red.\n",
    "\n",
    "El *kernel* de *Linux* es capaz de identificar diversos tipos de medios y de interfases a las que les asigna un nombre en el directorio ```/dev/```."
   ]
  },
  {
   "cell_type": "markdown",
   "metadata": {},
   "source": [
    "## Volúmenes.\n",
    "\n",
    "El término \"volumen\" se refiere de forma genérica a un dispositivo completo o a la partición de un dispositivo de almacenamiento."
   ]
  },
  {
   "cell_type": "markdown",
   "metadata": {},
   "source": [
    "## Dispositivos de bloque (*block device*).\n",
    "\n",
    "Se entiende por dispositivo de bloque como todo aquel dispositivo de almacenamiento que permite operaciones de lectura y escritura de datos en bloques de tamaño definido."
   ]
  },
  {
   "cell_type": "markdown",
   "metadata": {},
   "source": [
    "## Pseudo dispositivos.\n",
    "\n",
    "Un pseudo dispositivo es un componente del sistema que peude ser identificado como un directorio en ```/dev/``` que realiza una operación específica. \n",
    "\n",
    "* ```/dev/zero``` es un pseudo dispositivo que crea un flujo de ceros.\n",
    "* ```/dev/null``` es un pseudo dispositivo que acepta el redireccionamiento de un flujo de texto, pero no lo almacena.\n",
    "* ```/dev/random``` es un pseudo dispositivo que genera un flujo de datoa aleatorio.\n",
    "* ```/dev/full``` es parecido a ```/dev/zero```, pero que al enviar un flujo manda un error."
   ]
  },
  {
   "cell_type": "markdown",
   "metadata": {},
   "source": [
    "## Nomenclatura de dispositivos de almacenamiento por tipo.\n",
    "\n",
    "El *kernel* de *Linux* asigna ciertos nombres a los dispositivos de almacenamiento dependiendo del tipo de dispiositivo y bus del que se trate.\n",
    "\n",
    "El nombre de los discos duros utiliza un prefijo y posteriormente se le asigna una letra del alfabeto comenzado con la ```a``` en orden ascendente.\n",
    "\n",
    "```\n",
    "/dev/<prefijo><letra>\n",
    "```"
   ]
  },
  {
   "cell_type": "code",
   "execution_count": null,
   "metadata": {
    "scrolled": true
   },
   "outputs": [],
   "source": [
    "ls /dev/"
   ]
  },
  {
   "cell_type": "markdown",
   "metadata": {},
   "source": [
    "### Discos *ATA* o *IDE*.\n",
    "La interfaz [*ATA* o *IDE*](https://es.wikipedia.org/wiki/Integrated_Drive_Electronics) fue una de las más usadas para sistemas de cómputo personal desde la década de 1990 y hasta principios del siglo XXI.\n",
    "\n",
    "* Los discos duros llevan el prefijo ```/dev/hd```.\n",
    "* Anteriormente los discos flexibles llevaban el prefijo ```/dev/fd```."
   ]
  },
  {
   "cell_type": "markdown",
   "metadata": {},
   "source": [
    "### Discos *SCSI*, *SATA* y *USB*.\n",
    "\n",
    "La interfaz [*SCSI*](https://es.wikipedia.org/wiki/Small_Computer_System_Interface) es otra interfaz para dispositivos de distintas índoles, incluyendo dispositivos de almacenamiento. A partir de esta interfaz han evolucionado otras, tal como es el caso de *SAS*.\n",
    "\n",
    "Los dispositivos [*Serial ATA*](https://es.wikipedia.org/wiki/Serial_ATA)  o *SATA* presentan una interfaz que actualiza y sustituye a la interfaz *IDE*/*ATA*, la cual es utilizada por la mayoría los equipos actuales.\n",
    "\n",
    "Actualmente la especificación [*USB*](https://es.wikipedia.org/wiki/Universal_Serial_Bus) peromite la conexión con dispositivo *eSATA*.\n",
    "\n",
    "Todos estos dispositivos utilizan el prefijo ```/dev/sd```."
   ]
  },
  {
   "cell_type": "markdown",
   "metadata": {},
   "source": [
    "### Discos ópticos.\n",
    "\n",
    "En el caso de los discos ópticos, la momenclatura cambia y en lugar de una letra del alfabeto se utiliza un identificados numérico.\n",
    "\n",
    "```\n",
    "/dev/<prefijo><número>\n",
    "```\n",
    "\n",
    "* Los discos ópticos llevan el prefijo :\n",
    "   * ```/dev/cdrom```\n",
    "   * ```/dev/cdrw```\n",
    "   * ```/dev/dvd```\n",
    "   * ```/de/sr```\n",
    "   * ```dev/sg```"
   ]
  },
  {
   "cell_type": "markdown",
   "metadata": {},
   "source": [
    "## Pseudo dispositivos ```/dev/loop```.\n",
    "\n",
    "El *kernel* de *Linux* permite montar \"imágenes\" de archivos binarios de forma similar a como lo haría con un dispositivo de bloque.  \n",
    "\n",
    "```\n",
    "/dev/loop<número>\n",
    "```"
   ]
  },
  {
   "cell_type": "markdown",
   "metadata": {},
   "source": [
    "## Particionado de disco.\n",
    "\n",
    "Los dispositivos de bloque permiten dividir arbitrariamente su espacio de almacenamiento en una o más \"particiones\".\n",
    "\n",
    "Las particiones corresponden a un conjunto de sectores físicos contiguos bien delimitados.\n",
    "\n",
    "### Nomenclatura de las particiones:\n",
    "\n",
    "Cada partición de un disco hace referencia al dispositivo al que pertenece y se le asigna un número entero a partir del 1 en orden ascendente.\n",
    "\n",
    "```\n",
    "/dev/<dispositivo de bloque><número de partición>\n",
    "```"
   ]
  },
  {
   "cell_type": "markdown",
   "metadata": {},
   "source": [
    "**Ejemplos:**"
   ]
  },
  {
   "cell_type": "code",
   "execution_count": null,
   "metadata": {
    "scrolled": true
   },
   "outputs": [],
   "source": [
    "ls /dev/sd*"
   ]
  },
  {
   "cell_type": "code",
   "execution_count": null,
   "metadata": {
    "scrolled": true
   },
   "outputs": [],
   "source": [
    "ls /dev/sr*"
   ]
  },
  {
   "cell_type": "markdown",
   "metadata": {},
   "source": [
    "## LVM.\n",
    "\n",
    "El gestor de volúmenes lógicos o [*LVM*](https://es.wikipedia.org/wiki/Logical_Volume_Manager) por sus siglas en inglés es un sistema que permite crear, consolidar y adminsitrar grupos de volúmenes físicos asociándolos a volúmenes lógicos que pueden ser gestionados de forma dinámica.\n",
    "\n",
    "La gestión de volúmenes lógicos queda fuera del alcance de este curso introductorio."
   ]
  },
  {
   "cell_type": "markdown",
   "metadata": {},
   "source": [
    "## El comando ```lsblk```.\n",
    "\n",
    "Este comando hace un listado de los volúmenes de bloque de un sistema. "
   ]
  },
  {
   "cell_type": "code",
   "execution_count": null,
   "metadata": {
    "scrolled": true
   },
   "outputs": [],
   "source": [
    "lsblk"
   ]
  },
  {
   "cell_type": "markdown",
   "metadata": {},
   "source": [
    "## Identificación mediante UUID.\n",
    "\n",
    "En años recientes se ha incluido el sistema de [UUID](https://en.wikipedia.org/wiki/Universally_unique_identifier) para identificar los volúmenes de un sistema con la finalidad de asignar un número único a cada uno de estos."
   ]
  },
  {
   "cell_type": "markdown",
   "metadata": {},
   "source": [
    "### El comando ```blkid ```.\n",
    "\n",
    "Este comando permote identificar los volúmenes de un sistema mediante su UUID."
   ]
  },
  {
   "cell_type": "code",
   "execution_count": null,
   "metadata": {
    "scrolled": false
   },
   "outputs": [],
   "source": [
    "sudo blkid"
   ]
  },
  {
   "cell_type": "code",
   "execution_count": null,
   "metadata": {
    "scrolled": true
   },
   "outputs": [],
   "source": [
    "man blkid"
   ]
  },
  {
   "cell_type": "markdown",
   "metadata": {},
   "source": [
    "## El directorio ```/dev/disk/```.\n",
    "\n",
    "Este directorio contiene subdirectorios que mapean los volúmenes de un sistema a partir de su:\n",
    "\n",
    "* Identificador, el que es el nombre que se le puede dar a un volumen al momento de crearlo y se encuentra en ```/dev/disk/by-id```.\n",
    "* Ruta, la cual indica la ruta realcionada a la interfaz o el bus del dispositivo y se encuentra en ```/dev/disk/by-path```.\n",
    "* *UUID* y se encuentra en ```/dev/disk/by-uuid```."
   ]
  },
  {
   "cell_type": "code",
   "execution_count": null,
   "metadata": {
    "scrolled": true
   },
   "outputs": [],
   "source": [
    "ls -l /dev/disk/by-id"
   ]
  },
  {
   "cell_type": "code",
   "execution_count": null,
   "metadata": {
    "scrolled": true
   },
   "outputs": [],
   "source": [
    "ls -l /dev/disk/by-path"
   ]
  },
  {
   "cell_type": "code",
   "execution_count": null,
   "metadata": {
    "scrolled": false
   },
   "outputs": [],
   "source": [
    "ls -l /dev/disk/by-uuid"
   ]
  },
  {
   "cell_type": "markdown",
   "metadata": {},
   "source": [
    "## Formatos de particiones.\n",
    "\n",
    "Las particiones corresponden a espacio físico dentro de un dispositivo. Para que un sistema operativo pueda utilizarlas de forma adecuada, es necesario que dichas parrticiones estén formateadas de forma adecuada."
   ]
  },
  {
   "cell_type": "markdown",
   "metadata": {},
   "source": [
    "### La familia de formatos *ext*.\n",
    "\n",
    "Esta es la familia de formatos \"extended filesystem\", uno de los más utilizados en las distribuciones de Linux.\n",
    "\n",
    "* [*ext2*](https://es.wikipedia.org/wiki/Ext2)\n",
    "* [*ext3*](https://en.wikipedia.org/wiki/Ext3)\n",
    "* [*ext4*](https://es.wikipedia.org/wiki/Ext4)"
   ]
  },
  {
   "cell_type": "markdown",
   "metadata": {},
   "source": [
    "### El formato *XFS*.\n",
    "\n",
    "El formato [*XFS*](https://www.wikidata.org/wiki/Q394011) es un formato de archivos a 64bit con journaling creado por *SGI*. Es bastante popular."
   ]
  },
  {
   "cell_type": "markdown",
   "metadata": {},
   "source": [
    "### El formato *reiserfs*.\n",
    "\n",
    "[*reiserfs*](https://en.wikipedia.org/wiki/ReiserFS) es un formato de journaling creado por Hans Reiser.\n"
   ]
  },
  {
   "cell_type": "markdown",
   "metadata": {},
   "source": [
    "### El formato *ZFS*.\n",
    "\n",
    "<i><a href=\"https://es.wikipedia.org/wiki/ZFS_(sistema_de_archivos)\">ZFS</a></i> es un sistema de archivos creado por Sun Microsystems para sus ssistemas Solaris."
   ]
  },
  {
   "cell_type": "markdown",
   "metadata": {},
   "source": [
    "### El formato *iso9660*.\n",
    "\n",
    "Este es el formato usado para los dispositivos e imágenes de discos ópticos (CD-ROM)."
   ]
  },
  {
   "cell_type": "markdown",
   "metadata": {},
   "source": [
    "### Formatos de Windows.\n",
    "\n",
    "* La famila FAT.\n",
    "    * FAT\n",
    "    * FAT16\n",
    "    * FAT32\n",
    "    * exFAT\n",
    "* NTFS."
   ]
  },
  {
   "cell_type": "markdown",
   "metadata": {},
   "source": [
    "## Sistemas de archivos especiales."
   ]
  },
  {
   "cell_type": "markdown",
   "metadata": {},
   "source": [
    "### Particiones de memoria de intercambio o ```swap```.\n",
    "\n",
    "Las particiones ```swap``` o de memoria de intercambio permiten utilizar el disco duro como una extensión de la memoria *RAM*. "
   ]
  },
  {
   "cell_type": "markdown",
   "metadata": {},
   "source": [
    "### El formato ```sysfs```.\n",
    "\n",
    "Contiene procesos y componentes del *kernel* y corresponde al directorio ```/sys/```. \n"
   ]
  },
  {
   "cell_type": "markdown",
   "metadata": {},
   "source": [
    "### El formato ```proc```.\n",
    "\n",
    "Contiene ciertos procesos del sistema y corresponde al directorio ```/proc/```. Algunos procesos de ```/proc/``` fueron movidos a ```/run/```."
   ]
  },
  {
   "cell_type": "markdown",
   "metadata": {},
   "source": [
    "### El formato ```devfs```.\n",
    "\n",
    "Corresponde al sistema usado por ```/dev/```. Para mayor referencia consultar:\n",
    "\n",
    "https://en.wikipedia.org/wiki/Device_file"
   ]
  },
  {
   "cell_type": "markdown",
   "metadata": {},
   "source": [
    "### El formato ```tmpfs```.\n",
    "\n",
    "Corresponde al sistema usado por ```/tmp/```  para la gestión de archivos temporales."
   ]
  },
  {
   "cell_type": "markdown",
   "metadata": {},
   "source": [
    "### Los  formatos ```fusefs``` y ```unionfs```.\n",
    "\n",
    "Estos formatos permiten crear estructuras de almacenamiento por capas. Cada capa no puede ser rerescrita una vez creada, pero puede superponerse una nueva capa. Es el sistema usado por Vagrant y Docker."
   ]
  },
  {
   "cell_type": "markdown",
   "metadata": {},
   "source": [
    "## Montado de volúmenes.\n",
    "\n",
    "### El archivo ```/etc/fstab```.\n",
    "\n",
    "Este archivo contiene la configuración de las paticiones que se montarán al arranque del sistema con una esrtructura separada por tabuladores que se describe a continuación.\n",
    "\n",
    "```\n",
    "<ruta del dispositivo> <punto de montaje> <formato> <opciones> <montado automático>```\n",
    "\n"
   ]
  },
  {
   "cell_type": "code",
   "execution_count": null,
   "metadata": {
    "scrolled": true
   },
   "outputs": [],
   "source": [
    "cat /etc/fstab"
   ]
  },
  {
   "cell_type": "markdown",
   "metadata": {},
   "source": [
    "### El comando ```mount ```. \n",
    "\n",
    "Este comando permite montar una partición en el directorio seleccionado.\n",
    "\n",
    "```\n",
    "mount <ruta del dispositivo> <ruta de montaje> <opciones>\n",
    "```\n",
    "\n",
    "Si se ejecuta ```mount``` sin ninguna opción, desplegará los datos de todos los volúmenes montados."
   ]
  },
  {
   "cell_type": "code",
   "execution_count": null,
   "metadata": {
    "scrolled": true
   },
   "outputs": [],
   "source": [
    "sudo mkdir /media/ubuntu"
   ]
  },
  {
   "cell_type": "code",
   "execution_count": null,
   "metadata": {
    "scrolled": true
   },
   "outputs": [],
   "source": [
    "sudo mount -t iso9660 /dev/sr0 /media/ubuntu"
   ]
  },
  {
   "cell_type": "code",
   "execution_count": null,
   "metadata": {
    "scrolled": true
   },
   "outputs": [],
   "source": [
    "tree /media/ubuntu"
   ]
  },
  {
   "cell_type": "code",
   "execution_count": null,
   "metadata": {
    "scrolled": true
   },
   "outputs": [],
   "source": [
    "mount"
   ]
  },
  {
   "cell_type": "markdown",
   "metadata": {},
   "source": [
    "### El comando ```umount```.\n",
    "\n",
    "Este comando permite desmontar un volumen."
   ]
  },
  {
   "cell_type": "code",
   "execution_count": null,
   "metadata": {
    "scrolled": true
   },
   "outputs": [],
   "source": [
    "sudo umount /dev/sr0"
   ]
  },
  {
   "cell_type": "code",
   "execution_count": null,
   "metadata": {
    "scrolled": true
   },
   "outputs": [],
   "source": [
    "tree /media/ubuntu"
   ]
  },
  {
   "cell_type": "markdown",
   "metadata": {},
   "source": [
    "## El comando ```df```.\n",
    "\n",
    "Este comando permite conocer los detalles del espacio de almacenamiento de cada sistema de archivos montado.\n",
    "\n",
    "```df <opciones>```"
   ]
  },
  {
   "cell_type": "code",
   "execution_count": null,
   "metadata": {
    "scrolled": true
   },
   "outputs": [],
   "source": [
    "df"
   ]
  },
  {
   "cell_type": "markdown",
   "metadata": {},
   "source": [
    "### La *man page* de ```df```."
   ]
  },
  {
   "cell_type": "code",
   "execution_count": null,
   "metadata": {
    "scrolled": true
   },
   "outputs": [],
   "source": [
    "man df"
   ]
  },
  {
   "cell_type": "markdown",
   "metadata": {},
   "source": [
    "## Las aplicaciones ```*fdisk```.\n",
    "\n",
    "Existen algunas aplicaciones que permiten realziar la gestión de los dispositivos de bloques y sus particiones de forma interactiva. Los más comunes son:\n",
    "\n",
    "* ```fdisk```\n",
    "* ```cfdisk```\n",
    "* ```parted```\n",
    "\n",
    "### La aplicación ```fdisk```.\n",
    "\n",
    "Esta aplicación permite mostrar, crear, modificar, eliminar y gestionar de forma general los volúmenes y particiones de un sistema.\n",
    "\n",
    "```\n",
    "fdisk <opciones> <medio>\n",
    "```"
   ]
  },
  {
   "cell_type": "markdown",
   "metadata": {},
   "source": [
    "**Ejemplo:**\n",
    "\n",
    "* Ejecute el siguiente comando desde una terminal para gestionar el volumen ```/dev/sda```.\n",
    "\n",
    "```\n",
    "sudo fdisk /dev/sda\n",
    "```"
   ]
  },
  {
   "cell_type": "markdown",
   "metadata": {},
   "source": [
    "```\n",
    "$ sudo fdisk /dev/sda\n",
    "\n",
    "Welcome to fdisk (util-linux 2.31.1).\n",
    "Changes will remain in memory only, until you decide to write them.\n",
    "Be careful before using the write command.\n",
    "\n",
    "\n",
    "Command (m for help):\n",
    "```"
   ]
  },
  {
   "cell_type": "markdown",
   "metadata": {},
   "source": [
    "#### Comandos de ```fdisk```.\n",
    "\n",
    "m – ayuda\n",
    "p – desplegar la tabla de partición.\n",
    "n – crear una nueva partición\n",
    "d – eliminar una partición\n",
    "q – salir sin cambios.\n",
    "w – escribir los cambios y salir."
   ]
  },
  {
   "cell_type": "markdown",
   "metadata": {},
   "source": [
    "### Listado de volúmenes y particiones.\n",
    "\n",
    "La opción ```-l``` de ```fdisk```permite enumerar los volúmenes y particiones de un equipo de cómputo, así como sus características generales."
   ]
  },
  {
   "cell_type": "code",
   "execution_count": null,
   "metadata": {
    "scrolled": true
   },
   "outputs": [],
   "source": [
    "sudo fdisk -l"
   ]
  },
  {
   "cell_type": "markdown",
   "metadata": {},
   "source": [
    "### La *man page* de ```fdisk```."
   ]
  },
  {
   "cell_type": "code",
   "execution_count": null,
   "metadata": {
    "scrolled": true
   },
   "outputs": [],
   "source": [
    "man fdisk"
   ]
  },
  {
   "cell_type": "markdown",
   "metadata": {},
   "source": [
    "## Los comandos ```*fsck```.\n",
    "\n",
    "Existe una familia de comandos destinados a realizar labores de mantenimiento y reparación de particiones.\n",
    "\n",
    "```\n",
    "fsck <opciones> <tipo>\n",
    "```"
   ]
  },
  {
   "cell_type": "markdown",
   "metadata": {},
   "source": [
    "### La *man page* de ```e2fsck```."
   ]
  },
  {
   "cell_type": "code",
   "execution_count": null,
   "metadata": {
    "scrolled": false
   },
   "outputs": [],
   "source": [
    "man e2fsck"
   ]
  },
  {
   "cell_type": "markdown",
   "metadata": {},
   "source": [
    "### La *man page* de ```fsck```."
   ]
  },
  {
   "cell_type": "code",
   "execution_count": null,
   "metadata": {
    "scrolled": false
   },
   "outputs": [],
   "source": [
    "man fsck"
   ]
  },
  {
   "cell_type": "markdown",
   "metadata": {},
   "source": [
    "## Los comandos ```mkfs.*```\n",
    "\n",
    "Esta familia de comandos permite formatear una partición o volumen con el tipo de sistema de archivos correspondiente.\n",
    "\n",
    "* ```mkfs.ext2```\n",
    "* ```mkfs.ext3```\n",
    "* ```mkfs.ext4```\n",
    "* ```mkfs.bfs```\n",
    "* ```mkfs.xfs```\n",
    "* ```mkfs.fat```\n",
    "* ```mkfs.vfat```\n",
    "* ```mkfs.ntfs```\n",
    "\n",
    "```\n",
    "mkfs.<tipo> <partición>\n",
    "```"
   ]
  },
  {
   "cell_type": "markdown",
   "metadata": {},
   "source": [
    "### La *man page* de ```mkfs```."
   ]
  },
  {
   "cell_type": "code",
   "execution_count": null,
   "metadata": {
    "scrolled": true
   },
   "outputs": [],
   "source": [
    "man mkfs"
   ]
  },
  {
   "cell_type": "markdown",
   "metadata": {},
   "source": [
    "<p style=\"text-align: center\"><a rel=\"license\" href=\"http://creativecommons.org/licenses/by/4.0/\"><img alt=\"Licencia Creative Commons\" style=\"border-width:0\" src=\"https://i.creativecommons.org/l/by/4.0/80x15.png\" /></a><br />Esta obra está bajo una <a rel=\"license\" href=\"http://creativecommons.org/licenses/by/4.0/\">Licencia Creative Commons Atribución 4.0 Internacional</a>.</p>\n",
    "<p style=\"text-align: center\">&copy; José Luis Chiquete Valdivieso. 2020.</p>"
   ]
  }
 ],
 "metadata": {
  "kernelspec": {
   "display_name": "Bash",
   "language": "bash",
   "name": "bash"
  },
  "language_info": {
   "codemirror_mode": "shell",
   "file_extension": ".sh",
   "mimetype": "text/x-sh",
   "name": "bash"
  }
 },
 "nbformat": 4,
 "nbformat_minor": 2
}
