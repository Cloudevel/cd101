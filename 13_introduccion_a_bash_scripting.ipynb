{
 "cells": [
  {
   "cell_type": "markdown",
   "metadata": {},
   "source": [
    "[![cloudevel](img/cloudevel.png)](https://cloudevel.com)"
   ]
  },
  {
   "cell_type": "markdown",
   "metadata": {},
   "source": [
    "# Introducción a *Bash* scripting."
   ]
  },
  {
   "cell_type": "markdown",
   "metadata": {},
   "source": [
    "*Bourne again shell*,  *GNU Bash* o simplemente [*Bash*](https://www.gnu.org/software/bash/) es un lenguaje interpretado considerado como el [*shell*](https://es.wikipedia.org/wiki/Shell_de_Unix) más popular  en los entornos *GNU/Linux*.\n",
    "\n",
    "El íntérprete de *Bash* se encuentra por lo general en ```/bin/bash```.\n",
    "* *Bash* está basado en el [*Bourne Shell*](https://es.wikipedia.org/wiki/Bourne_Shell), el cual es usado primordialmente en los sistemas *UNIX* y por lo general se encuentra ```/bin/sh```. En algunas distribuciones de *GNU/Linux*, la ruta ```/bin/sh``` es un enlace que apunta a ```/bin/bash```.\n",
    "\n",
    "*Bash* permite ejecutar programas por medio de *scripts* los cuales son documentos de texto que son interpretados y ejecutados línea por línea por el íntérprete.\n",
    "\n",
    "*Bash* es un lenguaje muy simple, pero que se integra muy bien con los comandos de GNU/Linux, permitiendo:\n",
    "\n",
    "* Definir variables.\n",
    "* Definir funciones.\n",
    "* Realizar operaciones aritméticas básicas (exclusivamente con números enteros).\n",
    "* Realizar operaciones lógicas.\n",
    "* Usar condicionales.\n",
    "* Realizar ciclos e iteraciones.\n",
    "* Realizar operaciones de entrada/salida.\n",
    "* Gestionar archivos.\n",
    "* Gestionar arreglos.\n",
    "* Gestionar la historia de comandos.\n",
    "* Gestionar el entorno de la terminal.\n",
    "\n",
    "*Bash* cuenta con algunas declaraciones que permiten modificar el flujo de ejecución de un script. En este capítulo se estudiarán:\n",
    "\n",
    "* ```if```...```elif``` ... ```else```.\n",
    "* ```for``` .. ```in```\n",
    "* ```while```\n",
    "* ```until```\n",
    "\n",
    "*Bash* utiliza comandos propios (builtins) lso cales peuden ser consultados desde:\n",
    "\n",
    "https://www.gnu.org/software/bash/manual/html_node/Bash-Builtins.html"
   ]
  },
  {
   "cell_type": "markdown",
   "metadata": {},
   "source": [
    "Este capítulo es una breve introducción a las expresiones y declaraciones más utilizadas para la creación de scripts en *Bash*.\n",
    "\n",
    "En caso de quere saber más al respecto, se recomienda consultar el tutorial localizado en:\n",
    "\n",
    "http://tldp.org/LDP/Bash-Beginners-Guide/html/index.html\n",
    "\n",
    "Además  es posible consultar una *Cheat sheet* desde: \n",
    "\n",
    "https://devhints.io/bash"
   ]
  },
  {
   "cell_type": "markdown",
   "metadata": {},
   "source": [
    "## Cadenas de caracteres en *Bash*.\n",
    "\n",
    "El comando ```echo``` identifica a cualquier valor como una cadena de caracteres, por lo que a menos que se incluyan caracteres especiales, los apóstrofes y comillas pueden ser opcionales."
   ]
  },
  {
   "cell_type": "code",
   "execution_count": null,
   "metadata": {},
   "outputs": [],
   "source": [
    "echo Hola, Mundo."
   ]
  },
  {
   "cell_type": "code",
   "execution_count": null,
   "metadata": {},
   "outputs": [],
   "source": [
    "echo 'Hola, Mundo.'"
   ]
  },
  {
   "cell_type": "code",
   "execution_count": null,
   "metadata": {},
   "outputs": [],
   "source": [
    "echo 2 + 5"
   ]
  },
  {
   "cell_type": "markdown",
   "metadata": {},
   "source": [
    "## Tipos básicos de datos de *Bash*.\n",
    "\n",
    "Bash sólo puede identificar:\n",
    "\n",
    "* Flujos de texto.\n",
    "* Números enteros."
   ]
  },
  {
   "cell_type": "markdown",
   "metadata": {},
   "source": [
    "## Expresiones."
   ]
  },
  {
   "cell_type": "markdown",
   "metadata": {},
   "source": [
    "### Estructura de una expresión.\n",
    "\n",
    "```\n",
    "<valor 1><operador 1><valor2><operador 2>...<operador m><valor n>\n",
    "```\n",
    "\n",
    "**Nota:** En *Bash* no se recomienda dejar espacios entre valores y operadores. "
   ]
  },
  {
   "cell_type": "markdown",
   "metadata": {},
   "source": [
    "### Sintaxis de una expresión.\n",
    "\n",
    "```bash\n",
    "[<expresión>]\n",
    "```\n",
    "\n",
    "```bash\n",
    "((<expresión>))\n",
    "```"
   ]
  },
  {
   "cell_type": "code",
   "execution_count": null,
   "metadata": {},
   "outputs": [],
   "source": [
    "[1 + 1]"
   ]
  },
  {
   "cell_type": "markdown",
   "metadata": {},
   "source": [
    "### Indicación del fin de una expresión con el punto y coma ```;```."
   ]
  },
  {
   "cell_type": "markdown",
   "metadata": {},
   "source": [
    "### El signo ```$```.\n",
    "\n",
    "```\n",
    "<comando> $<expresión>\n",
    "```\n"
   ]
  },
  {
   "cell_type": "code",
   "execution_count": null,
   "metadata": {},
   "outputs": [],
   "source": [
    "$[2+2]"
   ]
  },
  {
   "cell_type": "code",
   "execution_count": null,
   "metadata": {},
   "outputs": [],
   "source": [
    "echo $[2 + 2]"
   ]
  },
  {
   "cell_type": "code",
   "execution_count": null,
   "metadata": {},
   "outputs": [],
   "source": [
    "echo $((2 + 2))"
   ]
  },
  {
   "cell_type": "code",
   "execution_count": null,
   "metadata": {},
   "outputs": [],
   "source": [
    "CADENA=\"HOLA\""
   ]
  },
  {
   "cell_type": "code",
   "execution_count": null,
   "metadata": {},
   "outputs": [],
   "source": [
    "ls $[4 - 2]*"
   ]
  },
  {
   "cell_type": "code",
   "execution_count": null,
   "metadata": {},
   "outputs": [],
   "source": [
    "echo $CADENA"
   ]
  },
  {
   "cell_type": "code",
   "execution_count": null,
   "metadata": {},
   "outputs": [],
   "source": [
    "echo $HOME"
   ]
  },
  {
   "cell_type": "markdown",
   "metadata": {},
   "source": [
    "## Operadores.\n",
    "\n",
    "Existen diversos operadores que pueden ser utilizados dependiendo del tipo de dato.\n",
    "\n",
    "Es posible consultar los operadores disponibles en\n",
    "http://tldp.org/HOWTO/Bash-Prog-Intro-HOWTO-11.html"
   ]
  },
  {
   "cell_type": "markdown",
   "metadata": {},
   "source": [
    "### Operadores para números.\n",
    "\n",
    "* ```+``` corresponde a la suma.\n",
    "* ```-``` corresponde a la resta.\n",
    "* ```*``` corresponde a la multiplicación.\n",
    "* ```/``` corresponde a la división.\n",
    "* ```%``` corresponde al residuo de una divisi/on entera (modulus).\n",
    "* ```==``` evalúa si dos valores numéricos son iguales.\n",
    "* ```!=``` evalúa si dos valores numéricos son distintos."
   ]
  },
  {
   "cell_type": "code",
   "execution_count": null,
   "metadata": {},
   "outputs": [],
   "source": [
    "echo $[2+2]"
   ]
  },
  {
   "cell_type": "code",
   "execution_count": null,
   "metadata": {},
   "outputs": [],
   "source": [
    "echo $[14/3]"
   ]
  },
  {
   "cell_type": "code",
   "execution_count": null,
   "metadata": {
    "scrolled": true
   },
   "outputs": [],
   "source": [
    "echo $[14%3]"
   ]
  },
  {
   "cell_type": "code",
   "execution_count": null,
   "metadata": {},
   "outputs": [],
   "source": [
    "echo $[14!=3]"
   ]
  },
  {
   "cell_type": "code",
   "execution_count": null,
   "metadata": {},
   "outputs": [],
   "source": [
    "echo $[14==3]"
   ]
  },
  {
   "cell_type": "markdown",
   "metadata": {},
   "source": [
    "### Operadores de cadenas de caracteres.\n",
    "\n",
    "* ```=``` evalúa si una cadena de caracteres es igual a otra.\n",
    "* ```!=``` evalúa sinuna cadena de caracteres es distinta a otra."
   ]
  },
  {
   "cell_type": "code",
   "execution_count": null,
   "metadata": {},
   "outputs": [],
   "source": [
    "echo $[\"hola\"!=\"Hola\"]"
   ]
  },
  {
   "cell_type": "code",
   "execution_count": null,
   "metadata": {},
   "outputs": [],
   "source": [
    "echo $[\"hola\"==\"hola\"]"
   ]
  },
  {
   "cell_type": "markdown",
   "metadata": {},
   "source": [
    "## Comandos como expresiones.\n",
    "\n",
    "```\n",
    "$(<comando>)\n",
    "```"
   ]
  },
  {
   "cell_type": "code",
   "execution_count": null,
   "metadata": {},
   "outputs": [],
   "source": [
    "echo $(ls)"
   ]
  },
  {
   "cell_type": "code",
   "execution_count": null,
   "metadata": {
    "scrolled": true
   },
   "outputs": [],
   "source": [
    "echo `ls`"
   ]
  },
  {
   "cell_type": "markdown",
   "metadata": {},
   "source": [
    "## Variables."
   ]
  },
  {
   "cell_type": "markdown",
   "metadata": {},
   "source": [
    "### Asignación del valor a una variable. \n",
    "\n",
    "Bash permite asignar variables a expresiones utilizando la siguiente sintaxis:\n",
    "\n",
    "```\n",
    "<NOMBRE>=<expresión>\n",
    "```"
   ]
  },
  {
   "cell_type": "code",
   "execution_count": null,
   "metadata": {},
   "outputs": [],
   "source": [
    "VARIABLE=1"
   ]
  },
  {
   "cell_type": "markdown",
   "metadata": {},
   "source": [
    "### Obtención del valor de una variable.\n",
    "\n",
    "```\n",
    "$<var>\n",
    "```"
   ]
  },
  {
   "cell_type": "code",
   "execution_count": null,
   "metadata": {},
   "outputs": [],
   "source": [
    "echo $VARIABLE"
   ]
  },
  {
   "cell_type": "markdown",
   "metadata": {},
   "source": [
    "### Variables y expresiones.\n",
    "\n",
    "```\n",
    "<nombre><operador><expresión>\n",
    "```"
   ]
  },
  {
   "cell_type": "code",
   "execution_count": null,
   "metadata": {},
   "outputs": [],
   "source": [
    "NUMERO=12"
   ]
  },
  {
   "cell_type": "code",
   "execution_count": null,
   "metadata": {},
   "outputs": [],
   "source": [
    "echo $[$NUMERO*2]"
   ]
  },
  {
   "cell_type": "code",
   "execution_count": null,
   "metadata": {},
   "outputs": [],
   "source": [
    "MUL=$[12*$NUMERO]"
   ]
  },
  {
   "cell_type": "code",
   "execution_count": null,
   "metadata": {},
   "outputs": [],
   "source": [
    "echo $MUL"
   ]
  },
  {
   "cell_type": "markdown",
   "metadata": {},
   "source": [
    "## Expresiones aritméticas con ```let```."
   ]
  },
  {
   "cell_type": "code",
   "execution_count": null,
   "metadata": {},
   "outputs": [],
   "source": [
    "let NUMERO=$NUMERO+15"
   ]
  },
  {
   "cell_type": "code",
   "execution_count": null,
   "metadata": {},
   "outputs": [],
   "source": [
    "echo $NUMERO"
   ]
  },
  {
   "cell_type": "code",
   "execution_count": null,
   "metadata": {},
   "outputs": [],
   "source": [
    "let NUMERO+=1"
   ]
  },
  {
   "cell_type": "code",
   "execution_count": null,
   "metadata": {},
   "outputs": [],
   "source": [
    "echo $NUMERO"
   ]
  },
  {
   "cell_type": "code",
   "execution_count": null,
   "metadata": {},
   "outputs": [],
   "source": [
    "let OTRO_NUMERO=\"Hola\""
   ]
  },
  {
   "cell_type": "code",
   "execution_count": null,
   "metadata": {},
   "outputs": [],
   "source": [
    "echo $OTRO_NUMERO"
   ]
  },
  {
   "cell_type": "code",
   "execution_count": null,
   "metadata": {},
   "outputs": [],
   "source": [
    "OTRO_NUMERO=\"Hola\""
   ]
  },
  {
   "cell_type": "code",
   "execution_count": null,
   "metadata": {},
   "outputs": [],
   "source": [
    "echo $OTRO_NUMERO"
   ]
  },
  {
   "cell_type": "markdown",
   "metadata": {},
   "source": [
    "## Operadores de asignación para operaciones aritméticas.\n",
    "\n",
    "* ```<a>=$<b>```.\n",
    "* ```<a>+=$<b>``` equivale a ```<a>=$<a>+$<b>```.\n",
    "* ```<a>-=$<b>``` equivale a ```<a>=$<a>-$<b>```.\n",
    "* ```<a>*=$<b>``` equivale a ```<a>=$<a>*$<b>```.\n",
    "* ```<a>/=$<b>``` equivale a ```<a>=$<a>/$<b>```.\n",
    "* ```<a>%=$<b>``` equivale a ```<a>=$<a>%$<b>```."
   ]
  },
  {
   "cell_type": "markdown",
   "metadata": {},
   "source": [
    "## Expresiones lógicas.\n",
    "```\n",
    "[ $<a> <operador> $b ]\n",
    "```\n",
    "\n",
    "**Nota:** es sintácticamente importante dejar los espacios entre cada elemento de la expresión. \n",
    "\n",
    "**Advertencia:** El comando ```echo``` no puede desplegar este tipo de expresiones. "
   ]
  },
  {
   "cell_type": "code",
   "execution_count": null,
   "metadata": {
    "scrolled": true
   },
   "outputs": [],
   "source": [
    "echo $[ 11 -lt 13 ]"
   ]
  },
  {
   "cell_type": "markdown",
   "metadata": {},
   "source": [
    "## Operadores."
   ]
  },
  {
   "cell_type": "markdown",
   "metadata": {},
   "source": [
    "### Operadores de evaluación para enteros.\n",
    "\n",
    "``` [ $<var 1> <operador> $<var 2> ] ```\n",
    "\n",
    "* ```-eq``` ¿es igual?\n",
    "* ```-ne``` ¿es distina?\n",
    "* ```-gt``` ¿es mayor que?\n",
    "* ```-lt``` ¿es menor que?\n",
    "* ```-ge``` ¿es mayor o igual?\n",
    "* ```-le``` ¿es menor o igual?"
   ]
  },
  {
   "cell_type": "markdown",
   "metadata": {},
   "source": [
    "### Operadores para cadenas."
   ]
  },
  {
   "cell_type": "markdown",
   "metadata": {},
   "source": [
    "#### Operadores de comparación.\n",
    "\n",
    "```\n",
    "[ \"$<var 1>\" <operador> \"S<var 2>\" ]\n",
    "```\n",
    "\n",
    "* ```=``` ¿Es igual?\n",
    "* ```!-``` ¿Es distinta?"
   ]
  },
  {
   "cell_type": "markdown",
   "metadata": {},
   "source": [
    "#### Operadores de validación.\n",
    "\n",
    "```\n",
    "[ <operador> $<var> ]\n",
    "```\n",
    " \n",
    "* ```-z``` ¿es una cadena vacía?\n",
    "* ```-n``` ¿es una cadena de tamaño n?"
   ]
  },
  {
   "cell_type": "markdown",
   "metadata": {},
   "source": [
    "### Operadores booleanos.\n",
    "\n",
    "```\n",
    "[ <exp 1> <operador> <exp 2> ]\n",
    "```\n",
    "\n",
    "* ```-o``` equivale a *OR*.\n",
    "* ```-a``` equivale a *AND*.\n",
    "\n",
    "\n",
    "* ```!``` equivale a *NOT*"
   ]
  },
  {
   "cell_type": "markdown",
   "metadata": {},
   "source": [
    "## Condicionales."
   ]
  },
  {
   "cell_type": "markdown",
   "metadata": {},
   "source": [
    "### La estructura ```if```...```elif```...```else```...```fi```.\n",
    "\n",
    "```\n",
    "if <expresion 1>; then\n",
    "...\n",
    "...\n",
    "elif <expresion 2>; then\n",
    "...\n",
    "...\n",
    "elif <expresion 3>; then\n",
    "...\n",
    "...\n",
    "...\n",
    "elif <expresion n>; then\n",
    "...\n",
    "else\n",
    "...\n",
    "...\n",
    "fi\n",
    "```"
   ]
  },
  {
   "cell_type": "code",
   "execution_count": null,
   "metadata": {},
   "outputs": [],
   "source": [
    "T1=\"hola\"\n",
    "T2=\"adiós\"\n",
    "\n",
    "if [ \"$T1\" = \"$T2\" ]; then\n",
    "echo La expresion es true.\n",
    "else\n",
    "echo La expresion es false.\n",
    "fi"
   ]
  },
  {
   "cell_type": "markdown",
   "metadata": {},
   "source": [
    "### La estructura ```case```...```esac```.\n",
    "\n",
    "```\n",
    "case \"$<VARIABLE>\" in\n",
    "\n",
    "\"<valor 1>\" ) <codigo 1> ;;\n",
    "\"<valor 2>\" ) <codigo 2> ;;\n",
    "\"<valor n>\" ) <codigo n> ;;\n",
    "esac\n",
    "```"
   ]
  },
  {
   "cell_type": "code",
   "execution_count": null,
   "metadata": {},
   "outputs": [],
   "source": [
    "VEGETAL=\"plátano\"\n",
    "\n",
    "case \"$VEGETAL\" in\n",
    "   \"manzana\") echo \"Una al día, qué alegría.\" \n",
    "   ;;\n",
    "   \"plátano\") echo \"Chí cheñol.\" \n",
    "   ;;\n",
    "   \"zanahoria\") echo \"NO es el día del plátano.\" \n",
    "   ;;\n",
    "   *) echo Eso no se come.\n",
    "   ;;\n",
    "esac"
   ]
  },
  {
   "cell_type": "markdown",
   "metadata": {},
   "source": [
    "## Iteraciones."
   ]
  },
  {
   "cell_type": "markdown",
   "metadata": {},
   "source": [
    "### La estructura ```for```...```in```."
   ]
  },
  {
   "cell_type": "code",
   "execution_count": null,
   "metadata": {},
   "outputs": [],
   "source": [
    "for i in $( ls ); \n",
    "do\n",
    "echo item: $i\n",
    "done"
   ]
  },
  {
   "cell_type": "markdown",
   "metadata": {},
   "source": [
    "### El comando  ```seq```.\n",
    "\n",
    "Este comando regresa una secuencia.\n",
    "\n",
    "```\n",
    "seq <inicio> ,intervalo> <fin>\n",
    "```"
   ]
  },
  {
   "cell_type": "code",
   "execution_count": null,
   "metadata": {},
   "outputs": [],
   "source": [
    "seq 11"
   ]
  },
  {
   "cell_type": "code",
   "execution_count": null,
   "metadata": {},
   "outputs": [],
   "source": [
    "seq 5 10"
   ]
  },
  {
   "cell_type": "code",
   "execution_count": null,
   "metadata": {},
   "outputs": [],
   "source": [
    "seq 1 2 9"
   ]
  },
  {
   "cell_type": "code",
   "execution_count": null,
   "metadata": {},
   "outputs": [],
   "source": [
    "seq 20 -5 -21"
   ]
  },
  {
   "cell_type": "code",
   "execution_count": null,
   "metadata": {},
   "outputs": [],
   "source": [
    "for i in $(seq 1 10);\n",
    "        do\n",
    "                echo $i\n",
    "        done  "
   ]
  },
  {
   "cell_type": "code",
   "execution_count": null,
   "metadata": {},
   "outputs": [],
   "source": [
    "for ((i = 0 ; i < 10 ; i++));\n",
    "do\n",
    "echo $i\n",
    "done"
   ]
  },
  {
   "cell_type": "code",
   "execution_count": null,
   "metadata": {},
   "outputs": [],
   "source": [
    "for ((i = 10 ; i > 1 ; --i));\n",
    "do\n",
    "echo $i\n",
    "done"
   ]
  },
  {
   "cell_type": "markdown",
   "metadata": {},
   "source": [
    "### while.\n",
    "\n",
    "```\n",
    "while <expresión>; do\n",
    "<código>\n",
    "done\n",
    "```"
   ]
  },
  {
   "cell_type": "code",
   "execution_count": null,
   "metadata": {
    "scrolled": true
   },
   "outputs": [],
   "source": [
    "let CUENTA=0\n",
    "while [ $CUENTA -lt 10 ]; do\n",
    " echo El numero es $CUENTA\n",
    "  let CUENTA=CUENTA+1 \n",
    "done"
   ]
  },
  {
   "cell_type": "markdown",
   "metadata": {},
   "source": [
    "### ```until```.\n",
    "\n",
    "```\n",
    "until <expresión>; do\n",
    "<código>\n",
    "done\n",
    "```"
   ]
  },
  {
   "cell_type": "code",
   "execution_count": null,
   "metadata": {},
   "outputs": [],
   "source": [
    "let CUENTA=20\n",
    "until [  $CUENTA -lt 10 ]; do\n",
    "echo iterador $CUENTA\n",
    "let CUENTA-=1\n",
    "done"
   ]
  },
  {
   "cell_type": "markdown",
   "metadata": {},
   "source": [
    "## Scripts de *Bash*."
   ]
  },
  {
   "cell_type": "markdown",
   "metadata": {},
   "source": [
    "```\n",
    "#! /bin/bash\n",
    "<código>\n",
    "```\n",
    "\n",
    "El script debe de tener permisos de ejecución."
   ]
  },
  {
   "cell_type": "markdown",
   "metadata": {},
   "source": [
    "### Ejecución.\n",
    "\n",
    "\n",
    "```\n",
    "<ruta> <arg 1> <arg 2> ... <arg n>\n",
    "```\n",
    "\n",
    "**Nota:** En caso de que el script se enecuentre en el mismo directorio del *shell*, se debe de indicar que se encuentra en dicho directorio, anteponiendo ```./```. "
   ]
  },
  {
   "cell_type": "markdown",
   "metadata": {},
   "source": [
    "## Captura de argumentos.\n",
    "\n",
    "* ```$@``` es un arreglo que captura todos los argumentos.\n",
    "* ```$#``` regresa el numero de argumentos que se ingresaron al script.\n",
    "* ```$n``` regresa el argumento número n."
   ]
  },
  {
   "cell_type": "markdown",
   "metadata": {},
   "source": [
    "**Ejemplo:**\n",
    "\n",
    "El script ```src/argumentos.sh``` contiene el siguiente código:\n",
    "\n",
    "```bash\n",
    "#! /bin/bash\n",
    "\n",
    "echo ingresaste $# argumentos.\n",
    "let NUMERO=0\n",
    "for i in $@;\n",
    "do\n",
    "let NUMERO+=1\n",
    "echo Este es el argumento $NUMERO $i\n",
    "done\n",
    "```"
   ]
  },
  {
   "cell_type": "code",
   "execution_count": null,
   "metadata": {},
   "outputs": [],
   "source": [
    "src/argumentos.sh"
   ]
  },
  {
   "cell_type": "code",
   "execution_count": null,
   "metadata": {},
   "outputs": [],
   "source": [
    "src/argumentos.sh uno dos tres"
   ]
  },
  {
   "cell_type": "markdown",
   "metadata": {},
   "source": [
    "## Ingreso de datos con ```read```.\n",
    "\n",
    "```\n",
    "read <opciones> <argumentos> <variable>\n",
    "```"
   ]
  },
  {
   "cell_type": "markdown",
   "metadata": {},
   "source": [
    "### opciones de ```read```.\n",
    "\n",
    "* ```-p``` permite deplegar un texto antes de esperar a que se ingresendatos.\n",
    "* ```-e``` espera que se ingrese el retorno de línea."
   ]
  },
  {
   "cell_type": "markdown",
   "metadata": {},
   "source": [
    "**Ejemplo:**\n",
    " El script ```pide_numero.sh``` contiene el siguiente código:\n",
    "\n",
    "``` bash\n",
    "#! /bin/bash\n",
    "\n",
    "read -ep \"Dame un numero: \" NUMERO\n",
    "echo Tecleaste:  $NUMERO\n",
    "if  [ $NUMERO -lt 5 ]; then\n",
    "echo $NUMERO es menor que 5.\n",
    "elif [ $NUMERO -gt 5 ]; then\n",
    "echo $NUMERO es mayor que 5.\n",
    "else\n",
    "echo El número es 5.\n",
    "fi\n",
    "```"
   ]
  },
  {
   "cell_type": "markdown",
   "metadata": {},
   "source": [
    "<p style=\"text-align: center\"><a rel=\"license\" href=\"http://creativecommons.org/licenses/by/4.0/\"><img alt=\"Licencia Creative Commons\" style=\"border-width:0\" src=\"https://i.creativecommons.org/l/by/4.0/80x15.png\" /></a><br />Esta obra está bajo una <a rel=\"license\" href=\"http://creativecommons.org/licenses/by/4.0/\">Licencia Creative Commons Atribución 4.0 Internacional</a>.</p>\n",
    "<p style=\"text-align: center\">&copy; José Luis Chiquete Valdivieso. 2020.</p>"
   ]
  }
 ],
 "metadata": {
  "kernelspec": {
   "display_name": "Bash",
   "language": "bash",
   "name": "bash"
  },
  "language_info": {
   "codemirror_mode": "shell",
   "file_extension": ".sh",
   "mimetype": "text/x-sh",
   "name": "bash"
  }
 },
 "nbformat": 4,
 "nbformat_minor": 2
}
