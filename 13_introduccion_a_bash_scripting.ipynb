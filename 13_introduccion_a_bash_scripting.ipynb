{
 "cells": [
  {
   "cell_type": "markdown",
   "metadata": {},
   "source": [
    "[![cloudevel](Imagenes/cloudevel.png)](https://cloudevel.com)"
   ]
  },
  {
   "cell_type": "markdown",
   "metadata": {},
   "source": [
    "# Introducción a bash scripting."
   ]
  },
  {
   "cell_type": "markdown",
   "metadata": {},
   "source": [
    "# Diversos tipos de shell.\n",
    "* Bourne\n",
    "* zshell\n",
    "* cshell\n",
    "* tzshell\n",
    "* korn\n",
    "* bash"
   ]
  },
  {
   "cell_type": "code",
   "execution_count": null,
   "metadata": {
    "collapsed": true
   },
   "outputs": [],
   "source": [
    "#! /bin/sh"
   ]
  },
  {
   "cell_type": "markdown",
   "metadata": {},
   "source": [
    "## Bash"
   ]
  },
  {
   "cell_type": "code",
   "execution_count": null,
   "metadata": {},
   "outputs": [],
   "source": [
    "#!/bin/bash          \n",
    "echo \"Hola, Mundo.\""
   ]
  },
  {
   "cell_type": "markdown",
   "metadata": {},
   "source": [
    "### Variables y operaciones.\n",
    "\n",
    "#### Operadores.\n",
    "\n",
    "http://tldp.org/HOWTO/Bash-Prog-Intro-HOWTO-11.html"
   ]
  },
  {
   "cell_type": "code",
   "execution_count": 3,
   "metadata": {
    "scrolled": true
   },
   "outputs": [
    {
     "name": "stdout",
     "output_type": "stream",
     "text": [
      "Hola, Mundo.\n"
     ]
    }
   ],
   "source": [
    "#!/bin/bash          \n",
    "TEXTO=\"Hola, Mundo.\"\n",
    "echo $TEXTO  "
   ]
  },
  {
   "cell_type": "code",
   "execution_count": 6,
   "metadata": {},
   "outputs": [
    {
     "name": "stdout",
     "output_type": "stream",
     "text": [
      "Hola, Mundo.\n"
     ]
    }
   ],
   "source": [
    "echo $TEXTO"
   ]
  },
  {
   "cell_type": "code",
   "execution_count": 7,
   "metadata": {},
   "outputs": [
    {
     "name": "stdout",
     "output_type": "stream",
     "text": [
      "24\n"
     ]
    }
   ],
   "source": [
    "NUMERO=12\n",
    "echo $[$NUMERO * 2]"
   ]
  },
  {
   "cell_type": "code",
   "execution_count": 13,
   "metadata": {},
   "outputs": [
    {
     "name": "stdout",
     "output_type": "stream",
     "text": [
      "0\n"
     ]
    }
   ],
   "source": [
    "echo $(($NUMERO < 3))"
   ]
  },
  {
   "cell_type": "code",
   "execution_count": 9,
   "metadata": {},
   "outputs": [
    {
     "name": "stdout",
     "output_type": "stream",
     "text": [
      "1\n"
     ]
    }
   ],
   "source": [
    "EVALUA=$(($NUMERO / 12))\n",
    "echo $EVALUA"
   ]
  },
  {
   "cell_type": "code",
   "execution_count": 10,
   "metadata": {},
   "outputs": [
    {
     "name": "stdout",
     "output_type": "stream",
     "text": [
      "60\n"
     ]
    }
   ],
   "source": [
    "let MUL=12*5\n",
    "echo $MUL"
   ]
  },
  {
   "cell_type": "markdown",
   "metadata": {},
   "source": [
    "### Aritmética con _bc_."
   ]
  },
  {
   "cell_type": "code",
   "execution_count": 11,
   "metadata": {},
   "outputs": [
    {
     "name": "stdout",
     "output_type": "stream",
     "text": [
      "3.00000000000000000000\n"
     ]
    }
   ],
   "source": [
    "echo 12/4 | bc -l "
   ]
  },
  {
   "cell_type": "markdown",
   "metadata": {},
   "source": [
    "## Condicionales."
   ]
  },
  {
   "cell_type": "code",
   "execution_count": 16,
   "metadata": {},
   "outputs": [
    {
     "name": "stdout",
     "output_type": "stream",
     "text": [
      "la expresion es false\n"
     ]
    }
   ],
   "source": [
    "T1=\"hola\"\n",
    "T2=\"adios\"\n",
    "if [ \"$T1\" = \"$T2\" ]; then\n",
    "echo la expresion es true\n",
    "else\n",
    "echo la expresion es false\n",
    "fi"
   ]
  },
  {
   "cell_type": "markdown",
   "metadata": {},
   "source": [
    "## Iteraciones."
   ]
  },
  {
   "cell_type": "markdown",
   "metadata": {},
   "source": [
    "### for."
   ]
  },
  {
   "cell_type": "code",
   "execution_count": 17,
   "metadata": {},
   "outputs": [
    {
     "name": "stdout",
     "output_type": "stream",
     "text": [
      "item: 00_temario.ipynb\n",
      "item: 01_introduccion.ipynb\n",
      "item: 02_arranque_de_un_sistema_Linux.ipynb\n",
      "item: 03_obtener_ayuda.ipynb\n",
      "item: 04_introduccion_a_vim.ipynb\n",
      "item: 05_filtros_y_pipes.ipynb\n",
      "item: 06_usuarios_y_grupos.ipynb\n",
      "item: 07_funcionamiento_y_estructura_de_archivos.ipynb\n",
      "item: 08_manejo_de_directorios_y_archivo.ipynb\n",
      "item: 09_particiones_y_volumenes_de_archivos.ipynb\n",
      "item: 10_\n",
      "item: introduccion_a_redes.ipynb\n",
      "item: 11_paquetes_de_archivos_y_de_software.ipynb\n",
      "item: 12_procesos_trabajos_y_temporizadores.ipynb\n",
      "item: 13_introduccion_a_bash_scripting.ipynb\n",
      "item: 14_gestion_de_servicios_con_systemd.ipynb\n",
      "item: 15_seguridad_básica.ipynb\n",
      "item: 16_terminales_graficas_y_vnc.ipynb\n",
      "item: 17_maquinas_virtuales_y_contenedores.ipynb\n",
      "item: Desktop\n",
      "item: Documents\n",
      "item: Downloads\n",
      "item: Music\n",
      "item: nohup.out\n",
      "item: Pictures\n",
      "item: Public\n",
      "item: saludo.sh\n",
      "item: Templates\n",
      "item: Videos\n"
     ]
    }
   ],
   "source": [
    "for i in $( ls ); do\n",
    "            echo item: $i\n",
    "        done"
   ]
  },
  {
   "cell_type": "code",
   "execution_count": 18,
   "metadata": {},
   "outputs": [
    {
     "name": "stdout",
     "output_type": "stream",
     "text": [
      "1\n",
      "2\n",
      "3\n",
      "4\n",
      "5\n",
      "6\n",
      "7\n",
      "8\n",
      "9\n",
      "10\n"
     ]
    }
   ],
   "source": [
    "for i in `seq 1 10`;\n",
    "        do\n",
    "                echo $i\n",
    "        done  "
   ]
  },
  {
   "cell_type": "markdown",
   "metadata": {},
   "source": [
    "### while."
   ]
  },
  {
   "cell_type": "code",
   "execution_count": 19,
   "metadata": {
    "scrolled": true
   },
   "outputs": [
    {
     "name": "stdout",
     "output_type": "stream",
     "text": [
      "El numero es 0\n",
      "El numero es 1\n",
      "El numero es 2\n",
      "El numero es 3\n",
      "El numero es 4\n",
      "El numero es 5\n",
      "El numero es 6\n",
      "El numero es 7\n",
      "El numero es 8\n",
      "El numero es 9\n"
     ]
    }
   ],
   "source": [
    "CUENTA=0\n",
    "         while [  $CUENTA -lt 10 ]; do\n",
    "             echo El numero es $CUENTA\n",
    "             let CUENTA=CUENTA+1 \n",
    "         done"
   ]
  },
  {
   "cell_type": "markdown",
   "metadata": {},
   "source": [
    "### until."
   ]
  },
  {
   "cell_type": "code",
   "execution_count": 20,
   "metadata": {},
   "outputs": [
    {
     "name": "stdout",
     "output_type": "stream",
     "text": [
      "iterador 20\n",
      "iterador 19\n",
      "iterador 18\n",
      "iterador 17\n",
      "iterador 16\n",
      "iterador 15\n",
      "iterador 14\n",
      "iterador 13\n",
      "iterador 12\n",
      "iterador 11\n",
      "iterador 10\n"
     ]
    }
   ],
   "source": [
    "CUENTA=20\n",
    "until [  $CUENTA -lt 10 ]; do\n",
    "echo iterador $CUENTA\n",
    "let CUENTA-=1\n",
    "done"
   ]
  },
  {
   "cell_type": "markdown",
   "metadata": {},
   "source": [
    "## Archivos de configuración de entorno."
   ]
  },
  {
   "cell_type": "code",
   "execution_count": 21,
   "metadata": {},
   "outputs": [
    {
     "name": "stdout",
     "output_type": "stream",
     "text": [
      "declare -x HOME=\"/home/oi\"\n",
      "declare -x JPY_PARENT_PID=\"695\"\n",
      "declare -x LANG=\"en_US.UTF-8\"\n",
      "declare -x LESSOPEN=\"||/usr/bin/lesspipe.sh %s\"\n",
      "declare -x LOGNAME=\"oi\"\n",
      "declare -x LS_COLORS=\"\"\n",
      "declare -x OLDPWD\n",
      "declare -x PAGER=\"cat\"\n",
      "declare -x PATH=\"/bin:/usr/local/sbin:/usr/local/bin:/usr/sbin:/usr/bin\"\n",
      "declare -x PS1=\"[PEXP\\\\[\\\\]ECT_PROMPT>\"\n",
      "declare -x PWD=\"/home/oi\"\n",
      "declare -x SHELL=\"/bin/bash\"\n",
      "declare -x SHLVL=\"1\"\n",
      "declare -x USER=\"oi\"\n",
      "declare -x XDG_DATA_DIRS=\"/home/oi/.local/share/flatpak/exports/share/:/var/lib/flatpak/exports/share/:/usr/local/share/:/usr/share/\"\n"
     ]
    }
   ],
   "source": [
    "export"
   ]
  },
  {
   "cell_type": "code",
   "execution_count": null,
   "metadata": {
    "collapsed": true
   },
   "outputs": [],
   "source": [
    "export NOMBRE=Jose"
   ]
  },
  {
   "cell_type": "code",
   "execution_count": 22,
   "metadata": {
    "collapsed": true
   },
   "outputs": [],
   "source": [
    "export LANG=\"es_MX\""
   ]
  },
  {
   "cell_type": "code",
   "execution_count": 23,
   "metadata": {
    "scrolled": true
   },
   "outputs": [
    {
     "name": "stdout",
     "output_type": "stream",
     "text": [
      "declare -x HOME=\"/home/oi\"\n",
      "declare -x JPY_PARENT_PID=\"695\"\n",
      "declare -x LANG=\"es_MX\"\n",
      "declare -x LESSOPEN=\"||/usr/bin/lesspipe.sh %s\"\n",
      "declare -x LOGNAME=\"oi\"\n",
      "declare -x LS_COLORS=\"\"\n",
      "declare -x OLDPWD\n",
      "declare -x PAGER=\"cat\"\n",
      "declare -x PATH=\"/bin:/usr/local/sbin:/usr/local/bin:/usr/sbin:/usr/bin\"\n",
      "declare -x PS1=\"[PEXP\\\\[\\\\]ECT_PROMPT>\"\n",
      "declare -x PWD=\"/home/oi\"\n",
      "declare -x SHELL=\"/bin/bash\"\n",
      "declare -x SHLVL=\"1\"\n",
      "declare -x USER=\"oi\"\n",
      "declare -x XDG_DATA_DIRS=\"/home/oi/.local/share/flatpak/exports/share/:/var/lib/flatpak/exports/share/:/usr/local/share/:/usr/share/\"\n"
     ]
    }
   ],
   "source": [
    "export DEITY = Ala"
   ]
  },
  {
   "cell_type": "code",
   "execution_count": 24,
   "metadata": {},
   "outputs": [
    {
     "name": "stdout",
     "output_type": "stream",
     "text": [
      "# .bashrc\n",
      "\n",
      "# Source global definitions\n",
      "if [ -f /etc/bashrc ]; then\n",
      "\t. /etc/bashrc\n",
      "fi\n",
      "\n",
      "# Uncomment the following line if you don't like systemctl's auto-paging feature:\n",
      "# export SYSTEMD_PAGER=\n",
      "\n",
      "# User specific aliases and functions\n"
     ]
    }
   ],
   "source": [
    "cat .bashrc"
   ]
  },
  {
   "cell_type": "code",
   "execution_count": 25,
   "metadata": {},
   "outputs": [
    {
     "name": "stdout",
     "output_type": "stream",
     "text": [
      "# /etc/bashrc\n",
      "\n",
      "# System wide functions and aliases\n",
      "# Environment stuff goes in /etc/profile\n",
      "\n",
      "# It's NOT a good idea to change this file unless you know what you\n",
      "# are doing. It's much better to create a custom.sh shell script in\n",
      "# /etc/profile.d/ to make custom changes to your environment, as this\n",
      "# will prevent the need for merging in future updates.\n",
      "\n",
      "# are we an interactive shell?\n",
      "if [ \"$PS1\" ]; then\n",
      "  if [ -z \"$PROMPT_COMMAND\" ]; then\n",
      "    case $TERM in\n",
      "    xterm*|vte*)\n",
      "      if [ -e /etc/sysconfig/bash-prompt-xterm ]; then\n",
      "          PROMPT_COMMAND=/etc/sysconfig/bash-prompt-xterm\n",
      "      elif [ \"${VTE_VERSION:-0}\" -ge 3405 ]; then\n",
      "          PROMPT_COMMAND=\"__vte_prompt_command\"\n",
      "      else\n",
      "          PROMPT_COMMAND='printf \"\\033]0;%s@%s:%s\\007\" \"${USER}\" \"${HOSTNAME%%.*}\" \"${PWD/#$HOME/~}\"'\n",
      "      fi\n",
      "      ;;\n",
      "    screen*)\n",
      "      if [ -e /etc/sysconfig/bash-prompt-screen ]; then\n",
      "          PROMPT_COMMAND=/etc/sysconfig/bash-prompt-screen\n",
      "      else\n",
      "          PROMPT_COMMAND='printf \"\\033k%s@%s:%s\\033\\\\\" \"${USER}\" \"${HOSTNAME%%.*}\" \"${PWD/#$HOME/~}\"'\n",
      "      fi\n",
      "      ;;\n",
      "    *)\n",
      "      [ -e /etc/sysconfig/bash-prompt-default ] && PROMPT_COMMAND=/etc/sysconfig/bash-prompt-default\n",
      "      ;;\n",
      "    esac\n",
      "  fi\n",
      "  # Turn on parallel history\n",
      "  shopt -s histappend\n",
      "  history -a\n",
      "  # Turn on checkwinsize\n",
      "  shopt -s checkwinsize\n",
      "  [ \"$PS1\" = \"\\\\s-\\\\v\\\\\\$ \" ] && PS1=\"[\\u@\\h \\W]\\\\$ \"\n",
      "  # You might want to have e.g. tty in prompt (e.g. more virtual machines)\n",
      "  # and console windows\n",
      "  # If you want to do so, just add e.g.\n",
      "  # if [ \"$PS1\" ]; then\n",
      "  #   PS1=\"[\\u@\\h:\\l \\W]\\\\$ \"\n",
      "  # fi\n",
      "  # to your custom modification shell script in /etc/profile.d/ directory\n",
      "fi\n",
      "\n",
      "if ! shopt -q login_shell ; then # We're not a login shell\n",
      "    # Need to redefine pathmunge, it get's undefined at the end of /etc/profile\n",
      "    pathmunge () {\n",
      "        case \":${PATH}:\" in\n",
      "            *:\"$1\":*)\n",
      "                ;;\n",
      "            *)\n",
      "                if [ \"$2\" = \"after\" ] ; then\n",
      "                    PATH=$PATH:$1\n",
      "                else\n",
      "                    PATH=$1:$PATH\n",
      "                fi\n",
      "        esac\n",
      "    }\n",
      "\n",
      "    # By default, we want umask to get set. This sets it for non-login shell.\n",
      "    # Current threshold for system reserved uid/gids is 200\n",
      "    # You could check uidgid reservation validity in\n",
      "    # /usr/share/doc/setup-*/uidgid file\n",
      "    if [ $UID -gt 199 ] && [ \"`/usr/bin/id -gn`\" = \"`/usr/bin/id -un`\" ]; then\n",
      "       umask 002\n",
      "    else\n",
      "       umask 022\n",
      "    fi\n",
      "\n",
      "    SHELL=/bin/bash\n",
      "    # Only display echos from profile.d scripts if we are no login shell\n",
      "    # and interactive - otherwise just process them to set envvars\n",
      "    for i in /etc/profile.d/*.sh; do\n",
      "        if [ -r \"$i\" ]; then\n",
      "            if [ \"$PS1\" ]; then\n",
      "                . \"$i\"\n",
      "            else\n",
      "                . \"$i\" >/dev/null\n",
      "            fi\n",
      "        fi\n",
      "    done\n",
      "\n",
      "    unset i\n",
      "    unset -f pathmunge\n",
      "fi\n",
      "# vim:ts=4:sw=4\n"
     ]
    }
   ],
   "source": [
    "cat /etc/bashrc"
   ]
  },
  {
   "cell_type": "markdown",
   "metadata": {},
   "source": [
    "https://www.gnu.org/software/bash/manual/"
   ]
  },
  {
   "cell_type": "markdown",
   "metadata": {},
   "source": [
    "<p style=\"text-align: center\"><a rel=\"license\" href=\"http://creativecommons.org/licenses/by/4.0/\"><img alt=\"Licencia Creative Commons\" style=\"border-width:0\" src=\"https://i.creativecommons.org/l/by/4.0/80x15.png\" /></a><br />Esta obra está bajo una <a rel=\"license\" href=\"http://creativecommons.org/licenses/by/4.0/\">Licencia Creative Commons Atribución 4.0 Internacional</a>.</p>\n",
    "<p style=\"text-align: center\">&copy; José Luis Chiquete Valdivieso. 2019.</p>"
   ]
  }
 ],
 "metadata": {
  "kernelspec": {
   "display_name": "Bash",
   "language": "bash",
   "name": "bash"
  },
  "language_info": {
   "codemirror_mode": "shell",
   "file_extension": ".sh",
   "mimetype": "text/x-sh",
   "name": "bash"
  }
 },
 "nbformat": 4,
 "nbformat_minor": 2
}
