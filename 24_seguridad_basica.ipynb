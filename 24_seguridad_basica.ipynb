{
 "cells": [
  {
   "cell_type": "markdown",
   "metadata": {},
   "source": [
    "[![cloudevel](Imagenes/cloudevel.png)](https://cloudevel.com)"
   ]
  },
  {
   "cell_type": "markdown",
   "metadata": {},
   "source": [
    "# Seguridad básica.\n",
    "\n",
    "* *Hardening*. Consiste en configurar los servicios de un sistema para evitar vulnerabildiadeds.\n",
    "* *Firewall*. Permite a GNU/Linux filtrar el acceso a las redes con las quese  comunica.\n",
    "* *Integrida de archivos*. Permite verificar que los archivos del sistema local no hayan sido puestos en riesgo."
   ]
  },
  {
   "cell_type": "markdown",
   "metadata": {},
   "source": [
    "## Integridad de archivos. \n",
    "### _SELinux_.\n",
    "http://selinuxproject.org/page/Main_Page\n",
    "#### enforcing\n",
    "#### permisive\n",
    "#### disabled\n",
    "#### El archivo _/etc/selinux/config_ \n",
    "\n",
    "### _AppArmor_.\n",
    "http://wiki.apparmor.net/index.php/Main_Page\n",
    "#### _enforced_\n",
    "#### _complain_\n",
    "#### El directorio _/etc/apparmor.d/_"
   ]
  },
  {
   "cell_type": "code",
   "execution_count": null,
   "metadata": {},
   "outputs": [],
   "source": [
    "cat  /etc/selinux/config"
   ]
  },
  {
   "cell_type": "markdown",
   "metadata": {},
   "source": [
    "## Firewalls.\n",
    "### _iptables_.\n",
    "#### El archivo _/etc/sysconfig/iptables_"
   ]
  },
  {
   "cell_type": "code",
   "execution_count": null,
   "metadata": {},
   "outputs": [],
   "source": [
    "sudo iptables -S"
   ]
  },
  {
   "cell_type": "markdown",
   "metadata": {},
   "source": [
    "### _firewalld_.\n",
    "#### El archivo _ /etc/firewalld_"
   ]
  },
  {
   "cell_type": "code",
   "execution_count": null,
   "metadata": {},
   "outputs": [],
   "source": [
    "systemctl status firewalld"
   ]
  },
  {
   "cell_type": "code",
   "execution_count": null,
   "metadata": {},
   "outputs": [],
   "source": [
    "sudo cat /etc/firewalld/zones/public.xml"
   ]
  },
  {
   "cell_type": "markdown",
   "metadata": {
    "collapsed": true
   },
   "source": [
    "<p style=\"text-align: center\"><a rel=\"license\" href=\"http://creativecommons.org/licenses/by/4.0/\"><img alt=\"Licencia Creative Commons\" style=\"border-width:0\" src=\"https://i.creativecommons.org/l/by/4.0/80x15.png\" /></a><br />Esta obra está bajo una <a rel=\"license\" href=\"http://creativecommons.org/licenses/by/4.0/\">Licencia Creative Commons Atribución 4.0 Internacional</a>.</p>\n",
    "<p style=\"text-align: center\">&copy; José Luis Chiquete Valdivieso. 2019.</p>"
   ]
  }
 ],
 "metadata": {
  "kernelspec": {
   "display_name": "Bash",
   "language": "bash",
   "name": "bash"
  },
  "language_info": {
   "codemirror_mode": "shell",
   "file_extension": ".sh",
   "mimetype": "text/x-sh",
   "name": "bash"
  }
 },
 "nbformat": 4,
 "nbformat_minor": 2
}
