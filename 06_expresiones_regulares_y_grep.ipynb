{
 "cells": [
  {
   "cell_type": "markdown",
   "metadata": {},
   "source": [
    "[![cloudevel](Imagenes/cloudevel.png)](https://cloudevel.com)"
   ]
  },
  {
   "cell_type": "markdown",
   "metadata": {},
   "source": [
    "## Expresiones regulares (regex).\n",
    "\n",
    "Las expresiones regulares son parte de los lenguajes formales y permiten identificar patrones de texto mediante el uso de una combinación de ciertos caracteres."
   ]
  },
  {
   "cell_type": "markdown",
   "metadata": {},
   "source": [
    "### Caracteres especiales para expresiones regulares.\n",
    "|Caracter| Acción|\n",
    "|:---:|:-------:\n",
    "|^|Busca un patrón al principio de una línea|\n",
    "|$|Busca un patrón al final de una línea|\n",
    "|?| Corresponde exactamente a un caracter\n",
    "|\\|Caracter de escape|\n",
    "|.| Sustituye a un caracter de cualquier tipo|\n",
    "|*| Corresponde a 0 o más caracteres|\n",
    "|[ ]|Rango de caracteres con los que puede haber coincidencia|\n",
    "|[^]| Rango de caracteres con los que NO puede haber coincidencia|\n",
    "|()| Agrupa expesiones regulares.\n",
    "|{n}| Valida si el catacter previo se repite *n* veces|\n",
    "|{n,m}| Valida si el catacter previo se repite en un rango entre *n* y m de veces|\n"
   ]
  },
  {
   "cell_type": "markdown",
   "metadata": {},
   "source": [
    "## Expresiones regulares con el comando ```ls```.\n",
    "\n",
    "El comando ls permite ingresar expresiones regulares con la siguiente sintaxis.\n",
    "\n",
    "```\n",
    "ls <ruta/><regexp>\n",
    "```"
   ]
  },
  {
   "cell_type": "code",
   "execution_count": null,
   "metadata": {},
   "outputs": [],
   "source": [
    "ls *"
   ]
  },
  {
   "cell_type": "code",
   "execution_count": null,
   "metadata": {},
   "outputs": [],
   "source": [
    "ls *.ipynb"
   ]
  },
  {
   "cell_type": "code",
   "execution_count": null,
   "metadata": {},
   "outputs": [],
   "source": [
    "ls 1?_*"
   ]
  },
  {
   "cell_type": "code",
   "execution_count": null,
   "metadata": {},
   "outputs": [],
   "source": [
    "ls 1[1-5]*"
   ]
  },
  {
   "cell_type": "code",
   "execution_count": null,
   "metadata": {},
   "outputs": [],
   "source": [
    "ls ?[1-5]*"
   ]
  },
  {
   "cell_type": "code",
   "execution_count": null,
   "metadata": {},
   "outputs": [],
   "source": [
    "ls ?[^1-5]*"
   ]
  },
  {
   "cell_type": "markdown",
   "metadata": {},
   "source": [
    "## El comando ```grep```.\n",
    "\n",
    "Para aprovechar el uso de expresiones regulares en flujos de texto existe una familia de comandos que buscan las líneas que cumplen con una expresión regular. El comando más utilizado de esta familia es ```grep```.\n",
    "\n",
    "### Opciones.\n",
    "\n",
    "* *-i* permite que las mayúsculas y minúsculas sean indistintas.\n",
    "* *-E* permite utilizar caracteres de escape."
   ]
  },
  {
   "cell_type": "code",
   "execution_count": null,
   "metadata": {},
   "outputs": [],
   "source": [
    "grep MIT LICENSE"
   ]
  },
  {
   "cell_type": "code",
   "execution_count": 42,
   "metadata": {},
   "outputs": [
    {
     "name": "stdout",
     "output_type": "stream",
     "text": [
      "MIT License\n"
     ]
    }
   ],
   "source": [
    "grep \"MIT \" LICENSE"
   ]
  },
  {
   "cell_type": "code",
   "execution_count": 41,
   "metadata": {},
   "outputs": [
    {
     "name": "stdout",
     "output_type": "stream",
     "text": [
      "in the Software without restriction, including without limitation the rights\n",
      "copies of the Software, and to permit persons to whom the Software is\n"
     ]
    }
   ],
   "source": [
    "grep mit LICENSE"
   ]
  },
  {
   "cell_type": "code",
   "execution_count": 40,
   "metadata": {},
   "outputs": [
    {
     "name": "stdout",
     "output_type": "stream",
     "text": [
      "MIT License\n",
      "in the Software without restriction, including without limitation the rights\n",
      "copies of the Software, and to permit persons to whom the Software is\n",
      "IMPLIED, INCLUDING BUT NOT LIMITED TO THE WARRANTIES OF MERCHANTABILITY,\n"
     ]
    }
   ],
   "source": [
    "grep -i mit LICENSE"
   ]
  },
  {
   "cell_type": "code",
   "execution_count": 39,
   "metadata": {},
   "outputs": [
    {
     "name": "stdout",
     "output_type": "stream",
     "text": [
      "MIT License\n"
     ]
    }
   ],
   "source": [
    "grep -i ^mit LICENSE"
   ]
  },
  {
   "cell_type": "code",
   "execution_count": 38,
   "metadata": {},
   "outputs": [
    {
     "name": "stdout",
     "output_type": "stream",
     "text": [
      "THE SOFTWARE IS PROVIDED \"AS IS\", WITHOUT WARRANTY OF ANY KIND, EXPRESS OR\n",
      "IMPLIED, INCLUDING BUT NOT LIMITED TO THE WARRANTIES OF MERCHANTABILITY,\n"
     ]
    }
   ],
   "source": [
    "grep -Ei r\\{2} LICENSE"
   ]
  },
  {
   "cell_type": "code",
   "execution_count": 43,
   "metadata": {},
   "outputs": [
    {
     "name": "stdout",
     "output_type": "stream",
     "text": [
      "[    5.500649] input: Power Button as /devices/LNXSYSTM:00/LNXPWRBN:00/input/input0\n",
      "[    5.505221] input: Sleep Button as /devices/LNXSYSTM:00/LNXSLPBN:00/input/input1\n",
      "[    5.706340] input: AT Translated Set 2 keyboard as /devices/platform/i8042/serio0/input/input2\n",
      "[    6.135791] input: Video Bus as /devices/LNXSYSTM:00/LNXSYBUS:00/PNP0A03:00/LNXVIDEO:00/input/input4\n",
      "[    6.917160] input: VirtualBox USB Tablet as /devices/pci0000:00/0000:00:06.0/usb1/1-1/1-1:1.0/0003:80EE:0021.0001/input/input6\n",
      "[    6.918973] input: ImExPS/2 Generic Explorer Mouse as /devices/platform/i8042/serio1/input/input5\n",
      "[    6.923552] hid-generic 0003:80EE:0021.0001: input,hidraw0: USB HID v1.10 Mouse [VirtualBox USB Tablet] on usb-0000:00:06.0-1/input0\n",
      "[   10.840366] input: Unspecified device as /devices/pci0000:00/0000:00:04.0/input/input7\n",
      "[ 4617.844542] input: VirtualBox USB Tablet as /devices/pci0000:00/0000:00:06.0/usb1/1-1/1-1:1.0/0003:80EE:0021.0002/input/input8\n",
      "[ 4617.847782] hid-generic 0003:80EE:0021.0002: input,hidraw0: USB HID v1.10 Mouse [VirtualBox USB Tablet] on usb-0000:00:06.0-1/input0\n"
     ]
    }
   ],
   "source": [
    "dmesg | grep -i \"input\""
   ]
  },
  {
   "cell_type": "markdown",
   "metadata": {},
   "source": [
    "### La man page de ```grep```."
   ]
  },
  {
   "cell_type": "code",
   "execution_count": null,
   "metadata": {},
   "outputs": [],
   "source": [
    "man grep"
   ]
  },
  {
   "cell_type": "markdown",
   "metadata": {},
   "source": [
    "### La familia *grep*."
   ]
  },
  {
   "cell_type": "markdown",
   "metadata": {
    "collapsed": true
   },
   "source": [
    "<p style=\"text-align: center\"><a rel=\"license\" href=\"http://creativecommons.org/licenses/by/4.0/\"><img alt=\"Licencia Creative Commons\" style=\"border-width:0\" src=\"https://i.creativecommons.org/l/by/4.0/80x15.png\" /></a><br />Esta obra está bajo una <a rel=\"license\" href=\"http://creativecommons.org/licenses/by/4.0/\">Licencia Creative Commons Atribución 4.0 Internacional</a>.</p>\n",
    "<p style=\"text-align: center\">&copy; José Luis Chiquete Valdivieso. 2019.</p>"
   ]
  }
 ],
 "metadata": {
  "kernelspec": {
   "display_name": "Bash",
   "language": "bash",
   "name": "bash"
  },
  "language_info": {
   "codemirror_mode": "shell",
   "file_extension": ".sh",
   "mimetype": "text/x-sh",
   "name": "bash"
  }
 },
 "nbformat": 4,
 "nbformat_minor": 2
}
