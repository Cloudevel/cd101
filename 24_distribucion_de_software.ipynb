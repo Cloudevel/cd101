{
 "cells": [
  {
   "cell_type": "markdown",
   "metadata": {},
   "source": [
    "[![cloudevel](img/cloudevel.png)](https://cloudevel.com)"
   ]
  },
  {
   "cell_type": "markdown",
   "metadata": {},
   "source": [
    "# Distribución de paquetes de software."
   ]
  },
  {
   "cell_type": "markdown",
   "metadata": {},
   "source": [
    "Al existir tantas distribuciones basadsas en la plataforma *GNU/Linux*, el tema de la distribución e instalación de paquetes de software se volvió un tema muy complejo.\n",
    "\n",
    "La problemática aumenta en vista de que en la gran mayoría de los casos, un paquete de software requiere de una biblioteca de paquetes adicionales. El cálculo de las dependencias de un paquete fue durante mucho tiempo un gran obstáculo para la adopción de la plataforma.\n",
    "\n",
    "El siguiente enlace enumera diversas distribuciones de *GNU/Linux*.\n",
    "\n",
    "https://en.wikipedia.org/wiki/List_of_Linux_distributions"
   ]
  },
  {
   "cell_type": "markdown",
   "metadata": {},
   "source": [
    "## Gestores de paquetes de software.\n",
    "\n",
    "### Paquetes de software antiguos.\n",
    "\n",
    "En la década de los 1990, los paquetes de software de las distribuciones de GNU/Linux eran agrupados en conjuntos de *tarballs* los cuales eran \"curados\" por los gestores de la distribución.\n",
    "\n",
    "**Ejemplo:** \n",
    "\n",
    "La distribución [Slackware Linux](https://slackware.org) aún contiene esta estructura de paquetes agrupados por nombres, tal como puede ser visto en https://mirrors.slackware.com/slackware/slackware64-14.2/slackware64\n",
    "\n",
    "\n",
    "### Sistemas de gestión de paquetes de software.\n",
    "\n",
    "Conforme fue creciendo la oferta de distribuciones de GNU/Lunux se fueron desarrollando sistemas capaces de:\n",
    "\n",
    "* Buscar e identificar paquetes de software.\n",
    "* Calcular las dependencias del paquete.\n",
    "* Descargar los paquetes ya sea como *tarballs* e incluso mediante su código fuente.\n",
    "* Instalar o compilar los paquetes, incluyendo sus dependencias.\n",
    "* Eliminar paquetes del sistema.\n",
    "* Actualizar los paquetes del sistema.\n",
    "\n"
   ]
  },
  {
   "cell_type": "markdown",
   "metadata": {},
   "source": [
    "## Repositorios.\n",
    "\n",
    "Un repositorio es un sitio local o en línea que contiene los  paquetes de software de cierta distribución.\n",
    "\n",
    "## Espejos.\n",
    "\n",
    "Un espejo es un recurso en línea que contiene uno o varios reprositoris de una distribución. Por lo general existen los repositorios oficiales y sitios espeko que son mantenidos por la comunidad.\n",
    "\n",
    "## Respositorios no oficiales.\n",
    "\n",
    "Algunas comunidades crean repsotiroios de paquetes no oficilaes. Son esfuerzos para ofrecer paquetes actualizados o my especializados para cierto tipo de software.\n",
    "\n",
    "**Ejemplo:**\n",
    "\n",
    "El siguiente es el repositorio de Google para sus productos.\n",
    "\n",
    "https://www.google.com/linuxrepositories/"
   ]
  },
  {
   "cell_type": "markdown",
   "metadata": {},
   "source": [
    "## Gestión de paquetes basados en archivos ```.rpm```.\n",
    "\n",
    "*RPM* es el acrónimo de \"Red Hat Package Manager\". Este formato de paquetes no es exclusivo de [*Red Hat*](https://www.redhat.com/es) ha sido adoptado por otras dsitribuciones como es el caso de [*SUSE*](https://www.suse.com/). Estos paquetes ofrecen una opción robusta para sistemas operativos de caracter empresarial."
   ]
  },
  {
   "cell_type": "markdown",
   "metadata": {},
   "source": [
    "### Preliminares.\n",
    "\n",
    "La notebook de este capítulo fue diseñada para ser ejecutada desde un sistemas basado en uns distribución de *GNU/Linux* basada  en *Debian*, por lo que los comandos de gestión de paquetes se realizarán mediante un contenedor basado en *CentOS*. "
   ]
  },
  {
   "cell_type": "code",
   "execution_count": null,
   "metadata": {},
   "outputs": [],
   "source": [
    "sudo docker rm centos-demo"
   ]
  },
  {
   "cell_type": "code",
   "execution_count": null,
   "metadata": {},
   "outputs": [],
   "source": [
    "sudo docker run -dit --name centos-demo centos /bin/bash"
   ]
  },
  {
   "cell_type": "code",
   "execution_count": null,
   "metadata": {},
   "outputs": [],
   "source": [
    "sudo docker container exec centos-demo yum update -y"
   ]
  },
  {
   "cell_type": "markdown",
   "metadata": {},
   "source": [
    "###  El repositorio *EPEL*.\n",
    "\n",
    "Este repositorio cuenta on paquetes extra para *RHEL* y es mantenido por Fedora.\n",
    "\n",
    "https://fedoraproject.org/wiki/EPEL"
   ]
  },
  {
   "cell_type": "code",
   "execution_count": null,
   "metadata": {},
   "outputs": [],
   "source": [
    "sudo docker container exec centos-demo yum install epel-release -y"
   ]
  },
  {
   "cell_type": "code",
   "execution_count": null,
   "metadata": {},
   "outputs": [],
   "source": [
    "sudo docker container exec centos-demo yum update -y"
   ]
  },
  {
   "cell_type": "markdown",
   "metadata": {},
   "source": [
    "### Configuración de repositorios.\n",
    "\n",
    "El directorio ```/etc/yum.repos.d/``` contiene un conjunto de repositorios con extensión ```.repo``` al que se le pueden añadir repositorios adicionales."
   ]
  },
  {
   "cell_type": "code",
   "execution_count": null,
   "metadata": {
    "scrolled": true
   },
   "outputs": [],
   "source": [
    "sudo docker container exec centos-demo ls /etc/yum.repos.d/"
   ]
  },
  {
   "cell_type": "code",
   "execution_count": null,
   "metadata": {},
   "outputs": [],
   "source": [
    "sudo docker container exec centos-demo cat /etc/yum.repos.d/epel.repo"
   ]
  },
  {
   "cell_type": "markdown",
   "metadata": {},
   "source": [
    "En versiones modernas de distribuciones basadas en ```Red Hat```  El directorio ```/var/cache/dnf``` contiene a todos los archivos con extensión ```.rpm``` que son descargados al utilizar algún gestor de paquetes.\n",
    "\n",
    "En versiones menos recientes de distribciones basadas en ```Red Hat```  El directorio ```/var/cache/yum``` contiene a todos los archivos con extensión ```.rpm``` que son descargados al utilizar algún gestor de paquetes."
   ]
  },
  {
   "cell_type": "code",
   "execution_count": null,
   "metadata": {
    "scrolled": true
   },
   "outputs": [],
   "source": [
    "sudo docker container exec centos-demo ls /var/cache/dnf"
   ]
  },
  {
   "cell_type": "code",
   "execution_count": null,
   "metadata": {},
   "outputs": [],
   "source": [
    "sudo docker container exec centos-demo yum install tree -y"
   ]
  },
  {
   "cell_type": "code",
   "execution_count": null,
   "metadata": {},
   "outputs": [],
   "source": [
    "sudo docker container exec centos-demo tree /var/cache/dnf"
   ]
  },
  {
   "cell_type": "markdown",
   "metadata": {},
   "source": [
    "### El comando ```rpm```.\n",
    "\n",
    "Este es el comando orginal para la gestión de paquetes con extensión ```.rpm```.\n",
    "\n",
    "```\n",
    "rpm <opciones> <archivo o paquete>\n",
    "```\n",
    "\n",
    "Este comando realiza operaciones básicas de instalación de paquetes."
   ]
  },
  {
   "cell_type": "markdown",
   "metadata": {},
   "source": [
    "### El comando ```yum```.\n",
    "\n",
    "Este comando es un gestor más avanzado de paquetes, el cual permite:\n",
    "\n",
    "* Gestionar repositorios.\n",
    "* Gestionar firmas.\n",
    "* Gestionar paquetes.\n",
    "* Buscar software en el sistema.\n",
    "* Actualizar el sistema\n",
    "\n",
    "```\n",
    "yum <opciones>\n",
    "```"
   ]
  },
  {
   "cell_type": "markdown",
   "metadata": {},
   "source": [
    "###  Gestión de paquetes con el comando ```dnf```.\n",
    "\n",
    "Este comando [*dnf*](https://en.wikipedia.org/wiki/DNF_(software)) corresponde al más reciente gestor de paquetes de [*Fedora*](https://getfedora.org/) y es elm gestor de paquetes por defecto a partir de la versión 8 de [*Red Hat Enterprise Linux*](https://www.redhat.com/en/technologies/linux-platforms/enterprise-linux) y [*CentOS*](https://www.centos.org/).\n",
    "\n",
    "Este comando es compatible sintácticamente con ```yum```. "
   ]
  },
  {
   "cell_type": "markdown",
   "metadata": {},
   "source": [
    "#### Búsqueda de paquetes."
   ]
  },
  {
   "cell_type": "code",
   "execution_count": null,
   "metadata": {},
   "outputs": [],
   "source": [
    "sudo docker container exec centos-demo yum search mongo"
   ]
  },
  {
   "cell_type": "code",
   "execution_count": null,
   "metadata": {},
   "outputs": [],
   "source": [
    "sudo docker container exec centos-demo dnf install httpd -y"
   ]
  },
  {
   "cell_type": "markdown",
   "metadata": {},
   "source": [
    "#### Actualización de los repositorios."
   ]
  },
  {
   "cell_type": "code",
   "execution_count": null,
   "metadata": {},
   "outputs": [],
   "source": [
    "sudo docker container exec centos-demo dnf update -y"
   ]
  },
  {
   "cell_type": "code",
   "execution_count": null,
   "metadata": {},
   "outputs": [],
   "source": [
    "sudo docker container exec centos-demo dnf upgrade -y"
   ]
  },
  {
   "cell_type": "markdown",
   "metadata": {},
   "source": [
    "## Gestión de paquetes basados en archivos ```.deb```.\n",
    "\n",
    "Las distribuciones basadas en *Debian* utilizan los paquete comprimidos con extensión ```.deb```."
   ]
  },
  {
   "cell_type": "markdown",
   "metadata": {},
   "source": [
    "### La familia ```dpkg```.\n",
    "\n",
    "El principal componente para la gestión y configuración de paquetes es el comando ```dpkg```, a partir del cual emanan una familia de comandos de gestión de diversos aspectos de un sistema basado en *Debian*.  "
   ]
  },
  {
   "cell_type": "code",
   "execution_count": null,
   "metadata": {
    "scrolled": true
   },
   "outputs": [],
   "source": [
    "ls /usr/bin/dpkg*"
   ]
  },
  {
   "cell_type": "markdown",
   "metadata": {},
   "source": [
    "### La familia de comando de comandos ```apt```.\n",
    "\n",
    "Estos comandos son una implementación del gestor ```dpkg``` para realizar poeraciones administrativas de instalación de paquetes.\n",
    "\n",
    "En versiones antiguas, la instalación de paquetes de software se hacía con ```apt-get``` y las búsquedas con ```apt-search``` y ```apt-cache```. Actualmente el comando ```apt```permite realizar estas operaciones con un solo comando."
   ]
  },
  {
   "cell_type": "code",
   "execution_count": null,
   "metadata": {},
   "outputs": [],
   "source": [
    "ls /usr/bin/apt*"
   ]
  },
  {
   "cell_type": "markdown",
   "metadata": {},
   "source": [
    "#### La *man page* de ```apt```."
   ]
  },
  {
   "cell_type": "code",
   "execution_count": null,
   "metadata": {},
   "outputs": [],
   "source": [
    "man dpkg"
   ]
  },
  {
   "cell_type": "markdown",
   "metadata": {},
   "source": [
    "### El directorio ```/etc/apt```.\n",
    "\n",
    "La configuración de ```apt``` se encuentra en el directorio ```/etc/apt```."
   ]
  },
  {
   "cell_type": "code",
   "execution_count": null,
   "metadata": {},
   "outputs": [],
   "source": [
    "tree /etc/apt/"
   ]
  },
  {
   "cell_type": "markdown",
   "metadata": {},
   "source": [
    "### El  archivo ```/etc/apt/sources.list```.\n",
    "\n",
    "Este archivo contiene la configuración de los repositorios del sistema."
   ]
  },
  {
   "cell_type": "code",
   "execution_count": null,
   "metadata": {
    "scrolled": true
   },
   "outputs": [],
   "source": [
    "cat /etc/apt/sources.list"
   ]
  },
  {
   "cell_type": "markdown",
   "metadata": {},
   "source": [
    "### El directorio ```/var/lib/apt```.\n",
    "\n",
    "Este directorio contiene diverso archivos relacionados con la gestión de paquetes."
   ]
  },
  {
   "cell_type": "code",
   "execution_count": null,
   "metadata": {},
   "outputs": [],
   "source": [
    "sudo tree /var/lib/apt"
   ]
  },
  {
   "cell_type": "markdown",
   "metadata": {
    "collapsed": true
   },
   "source": [
    "<p style=\"text-align: center\"><a rel=\"license\" href=\"http://creativecommons.org/licenses/by/4.0/\"><img alt=\"Licencia Creative Commons\" style=\"border-width:0\" src=\"https://i.creativecommons.org/l/by/4.0/80x15.png\" /></a><br />Esta obra está bajo una <a rel=\"license\" href=\"http://creativecommons.org/licenses/by/4.0/\">Licencia Creative Commons Atribución 4.0 Internacional</a>.</p>\n",
    "<p style=\"text-align: center\">&copy; José Luis Chiquete Valdivieso. 2020.</p>"
   ]
  }
 ],
 "metadata": {
  "kernelspec": {
   "display_name": "Bash",
   "language": "bash",
   "name": "bash"
  },
  "language_info": {
   "codemirror_mode": "shell",
   "file_extension": ".sh",
   "mimetype": "text/x-sh",
   "name": "bash"
  }
 },
 "nbformat": 4,
 "nbformat_minor": 2
}
