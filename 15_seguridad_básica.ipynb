{
 "cells": [
  {
   "cell_type": "markdown",
   "metadata": {},
   "source": [
    "[![https://cloudevel.com/](https://cloudevel.com/es-mx/media/cloudevel-fondo-twitter.png)](https://cloudevel.com)"
   ]
  },
  {
   "cell_type": "markdown",
   "metadata": {},
   "source": [
    "# Seguridad básica."
   ]
  },
  {
   "cell_type": "markdown",
   "metadata": {},
   "source": [
    "## Integridad de archivos. \n",
    "### _SELinux_.\n",
    "http://selinuxproject.org/page/Main_Page\n",
    "#### enforcing\n",
    "#### permisive\n",
    "#### disabled\n",
    "#### El archivo _/etc/selinux/config_ \n",
    "\n",
    "### _AppArmor_.\n",
    "http://wiki.apparmor.net/index.php/Main_Page\n",
    "#### _enforced_\n",
    "#### _complain_\n",
    "#### El archivo _/etc/apparmor.d/_"
   ]
  },
  {
   "cell_type": "code",
   "execution_count": 1,
   "metadata": {},
   "outputs": [
    {
     "name": "stdout",
     "output_type": "stream",
     "text": [
      "\n",
      "# This file controls the state of SELinux on the system.\n",
      "# SELINUX= can take one of these three values:\n",
      "#     enforcing - SELinux security policy is enforced.\n",
      "#     permissive - SELinux prints warnings instead of enforcing.\n",
      "#     disabled - No SELinux policy is loaded.\n",
      "SELINUX=enforcing\n",
      "# SELINUXTYPE= can take one of three two values:\n",
      "#     targeted - Targeted processes are protected,\n",
      "#     minimum - Modification of targeted policy. Only selected processes are protected. \n",
      "#     mls - Multi Level Security protection.\n",
      "SELINUXTYPE=targeted \n",
      "\n",
      "\n"
     ]
    }
   ],
   "source": [
    "cat  /etc/selinux/config"
   ]
  },
  {
   "cell_type": "markdown",
   "metadata": {},
   "source": [
    "## Firewalls.\n",
    "### _iptables_.\n",
    "#### El archivo _/etc/sysconfig/iptables_"
   ]
  },
  {
   "cell_type": "code",
   "execution_count": 1,
   "metadata": {},
   "outputs": [
    {
     "name": "stdout",
     "output_type": "stream",
     "text": [
      "-P INPUT ACCEPT\n",
      "-P FORWARD ACCEPT\n",
      "-P OUTPUT ACCEPT\n",
      "-A INPUT -i virbr0 -p udp -m udp --dport 53 -j ACCEPT\n",
      "-A INPUT -i virbr0 -p tcp -m tcp --dport 53 -j ACCEPT\n",
      "-A INPUT -i virbr0 -p udp -m udp --dport 67 -j ACCEPT\n",
      "-A INPUT -i virbr0 -p tcp -m tcp --dport 67 -j ACCEPT\n",
      "-A FORWARD -d 192.168.122.0/24 -o virbr0 -m conntrack --ctstate RELATED,ESTABLISHED -j ACCEPT\n",
      "-A FORWARD -s 192.168.122.0/24 -i virbr0 -j ACCEPT\n",
      "-A FORWARD -i virbr0 -o virbr0 -j ACCEPT\n",
      "-A FORWARD -o virbr0 -j REJECT --reject-with icmp-port-unreachable\n",
      "-A FORWARD -i virbr0 -j REJECT --reject-with icmp-port-unreachable\n",
      "-A OUTPUT -o virbr0 -p udp -m udp --dport 68 -j ACCEPT\n"
     ]
    }
   ],
   "source": [
    "sudo iptables -S"
   ]
  },
  {
   "cell_type": "markdown",
   "metadata": {},
   "source": [
    "### _firewalld_.\n",
    "#### El archivo _ /etc/firewalld_"
   ]
  },
  {
   "cell_type": "code",
   "execution_count": 7,
   "metadata": {},
   "outputs": [
    {
     "name": "stdout",
     "output_type": "stream",
     "text": [
      "<?xml version=\"1.0\" encoding=\"utf-8\"?>\n",
      "<zone>\n",
      "  <short>Public</short>\n",
      "  <description>For use in public areas. You do not trust the other computers on networks to not harm your computer. Only selected incoming connections are accepted.</description>\n",
      "  <service name=\"dhcpv6-client\"/>\n",
      "  <service name=\"ssh\"/>\n",
      "</zone>\n"
     ]
    }
   ],
   "source": [
    "sudo cat /etc/firewalld/zones/public.xml"
   ]
  },
  {
   "cell_type": "markdown",
   "metadata": {
    "collapsed": true
   },
   "source": [
    "<p style=\"text-align: center\"><a rel=\"license\" href=\"http://creativecommons.org/licenses/by/4.0/\"><img alt=\"Licencia Creative Commons\" style=\"border-width:0\" src=\"https://i.creativecommons.org/l/by/4.0/80x15.png\" /></a><br />Esta obra está bajo una <a rel=\"license\" href=\"http://creativecommons.org/licenses/by/4.0/\">Licencia Creative Commons Atribución 4.0 Internacional</a>.</p>\n",
    "<p style=\"text-align: center\">&copy; José Luis Chiquete Valdivieso. 2017.</p>"
   ]
  }
 ],
 "metadata": {
  "kernelspec": {
   "display_name": "Bash",
   "language": "bash",
   "name": "bash"
  },
  "language_info": {
   "codemirror_mode": "shell",
   "file_extension": ".sh",
   "mimetype": "text/x-sh",
   "name": "bash"
  }
 },
 "nbformat": 4,
 "nbformat_minor": 2
}
