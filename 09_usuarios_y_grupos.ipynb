{
 "cells": [
  {
   "cell_type": "markdown",
   "metadata": {},
   "source": [
    "[![cloudevel](img/cloudevel.png)](https://cloudevel.com)"
   ]
  },
  {
   "cell_type": "markdown",
   "metadata": {},
   "source": [
    "# Gestión de usuarios y grupos."
   ]
  },
  {
   "cell_type": "markdown",
   "metadata": {},
   "source": [
    "## Notas preliminares sobre el uso de esta notebook.\n",
    "\n",
    "Las notebooks de este curso han sido diseñadas para ejecutarse dentro alguna de las máquina virtuales proporcionada por Cloudevel<sup>®</sup>.\n",
    "\n",
    "Dichas máquinas virtuales están configuradas con un usuario con permisos de administración.\n",
    "\n",
    "* Usuario: ```oi```.\n",
    "* Contraseña ```0p3n5t4ck```.\n",
    "\n",
    "En caso de ejecutar las siguientes celdas en un sistema distinto, es muy probable que no funcionen.\n",
    "\n",
    "**ADVERTENCIA:** El escalamiento de privilegios en un sistema puede tener consecuencias graves si se utiliza de forma imprudente. Se aconseja enfáticamente utilizar los comandos de esta notebook en un entorno de pruebas."
   ]
  },
  {
   "cell_type": "markdown",
   "metadata": {},
   "source": [
    "## Control de acceso mediante usuarios y grupos.\n",
    "\n",
    "Tanto los directorios y archivos como los procesos de los sistemas *UNIX* y *GNU/Linux* están ligados desde su creación a un usuario y a un grupo de usuarios. \n",
    "\n",
    "Del mismo modo, a cada uno de estos elementos se le asigna una serie de permisos para el usuario propietario, el grupo propietario y el resto de los usuarios.\n",
    "\n",
    "Los usuarios no necesariamente deben de ser personas que accedan al sistema. También es posible crear usuarios especiales a los que se les asignen ciertas aplicaciones o servicios específicos."
   ]
  },
  {
   "cell_type": "markdown",
   "metadata": {},
   "source": [
    "**Ejemplo:**\n",
    "\n",
    "La máquina virtual proporcionada por Cloudevel<sup>®</sup> tiene habilitado y en ejecución al servidor web *Apache*. \n",
    "\n",
    "El servidor Apache está configurado para desplegar el contenido del directorio ```/var/www/html``` en http://localhost:8980\n",
    "\n",
    "* La siguiente celda desplegará el listado extendido de ```/var/www/html```."
   ]
  },
  {
   "cell_type": "code",
   "execution_count": null,
   "metadata": {
    "scrolled": true
   },
   "outputs": [],
   "source": [
    "ls -al /var/www/html"
   ]
  },
  {
   "cell_type": "markdown",
   "metadata": {},
   "source": [
    "El resultado es algo similar a lo siguiente:\n",
    "\n",
    "```\n",
    "total 500\n",
    "drwxr-xr-x 2 root root   4096 May 10 05:05 .\n",
    "drwxr-xr-x 3 root root   4096 May 10 05:01 ..\n",
    "-rw-rw-r-- 1 oi   oi   489252 Jan 31 10:28 adminer.php\n",
    "-rw-r--r-- 1 root root  10918 May 10 05:02 index.html\n",
    "```\n",
    "\n",
    "* La tercera columna indica el nombre del usuario que es dueño del archivo.\n",
    "* La cuarta columna indica el nombre del grupo que es dueño del archivo."
   ]
  },
  {
   "cell_type": "markdown",
   "metadata": {},
   "source": [
    "## El usuario ```root```.\n",
    "\n",
    "El usuario ```root``` es el administrador o superusuario del sistema y tiene acceso a todos los recursos del sistema.\n",
    "\n",
    "El directorio de incio de ```root``` es ```/root/```.\n",
    "\n",
    "**Advertencia:** Nunca acceda a un sistema como ```root``` a menos que sea estrictamente necesario. Se recomienda crear un usuario distinto de ```root``` para actividades cotidianas.\n",
    "\n",
    "Algunas distros de *GNU/Linux* no le asignan una contraseña a ```root``` al ser instalados, por lo que es necesario definir a un usuario capaz de escalar sus privilegios."
   ]
  },
  {
   "cell_type": "markdown",
   "metadata": {},
   "source": [
    "## Escalamiento de privilegios del usuario.\n",
    "\n",
    "Es posible otorgar privilegios de superusuario a un usuario para ejecutar un comando en particular, siempre y cuando esté autorizado."
   ]
  },
  {
   "cell_type": "markdown",
   "metadata": {},
   "source": [
    "### El comando ```sudo```.\n",
    "\n",
    "Este comando permite a los usuarios acreditados ejecutar un comando con privilegios de ```root```. \n",
    "\n",
    "Por lo general es necesario que el usuario que ejecuta el comando ```sudo``` ingrese su contraseña.\n",
    "\n",
    "```\n",
    "sudo <opciones> <comando>\n",
    "```\n",
    "* Si se ejecuta ```sudo``` sin opciones, el comando se ejecutará como si fuera ```root```. \n",
    "\n",
    "\n",
    "**ADVETENCIA:** las  máquinas virtuales proporcionada por Cloudevel<super>®</super> permiten  al usuario ```oi``` utilizar el comando  ```sudo``` sin necesida de ingresar una contraseña. Esta no es una buena práctica, por lo que no se deben de usar dichas máquinas virtuales para objetivos más allá de los didácticos."
   ]
  },
  {
   "cell_type": "markdown",
   "metadata": {},
   "source": [
    "**Ejemplo:**"
   ]
  },
  {
   "cell_type": "markdown",
   "metadata": {},
   "source": [
    "* La siguiente celda intentará listar el contenido del directorio ```/root```.\n",
    "* Debido a que el usuario ```oi``` no tiene los permisos de acceso, se generará un error."
   ]
  },
  {
   "cell_type": "code",
   "execution_count": null,
   "metadata": {},
   "outputs": [],
   "source": [
    "ls /root"
   ]
  },
  {
   "cell_type": "markdown",
   "metadata": {},
   "source": [
    "* La siguiente celda ejecutará el comando previo con privilegios escalados mediante ```sudo```."
   ]
  },
  {
   "cell_type": "code",
   "execution_count": null,
   "metadata": {},
   "outputs": [],
   "source": [
    "sudo ls -al /root"
   ]
  },
  {
   "cell_type": "markdown",
   "metadata": {},
   "source": [
    "#### Algunas opciones.\n",
    "\n",
    "* ```-u``` o ```--user``` permite definir al usuario con el que se ejecutará el comando. El suario por defecto es ```root```. \n",
    "* ```-g``` o ```--group``` permite definir al grupo con el que se ejecutará el comando. El suario por defecto es ```root```. \n",
    "* ```-H``` o ```--set-home``` indica que se configurará el directorio *home* del usuario."
   ]
  },
  {
   "cell_type": "markdown",
   "metadata": {},
   "source": [
    "#### La *man page* de ```sudo```."
   ]
  },
  {
   "cell_type": "code",
   "execution_count": null,
   "metadata": {},
   "outputs": [],
   "source": [
    "man sudo"
   ]
  },
  {
   "cell_type": "markdown",
   "metadata": {},
   "source": [
    "### El archivo ```/etc/sudoers```."
   ]
  },
  {
   "cell_type": "markdown",
   "metadata": {},
   "source": [
    "El archivo ```/etc/sudoers``` contiene la configuración de los usuarios habilitados para ejecutar el comando```sudo```."
   ]
  },
  {
   "cell_type": "markdown",
   "metadata": {},
   "source": [
    "**Ejemplo:**"
   ]
  },
  {
   "cell_type": "markdown",
   "metadata": {},
   "source": [
    "* La siguiente celda mostrará el contenido del archivo ```/etc/sudoers``` del sistema."
   ]
  },
  {
   "cell_type": "code",
   "execution_count": null,
   "metadata": {},
   "outputs": [],
   "source": [
    "sudo cat /etc/sudoers"
   ]
  },
  {
   "cell_type": "markdown",
   "metadata": {},
   "source": [
    "### El comando ```visudo```.\n",
    "\n",
    "El archivo ```/etc/sudoers``` está protegido y no puede ser editado directamente. \n",
    "\n",
    "El comando ```visudo``` permite editar dicho archivo si se tiene los privilegios."
   ]
  },
  {
   "cell_type": "markdown",
   "metadata": {},
   "source": [
    "#### La *man page* de ```visudo```."
   ]
  },
  {
   "cell_type": "code",
   "execution_count": null,
   "metadata": {},
   "outputs": [],
   "source": [
    "man visudo"
   ]
  },
  {
   "cell_type": "markdown",
   "metadata": {},
   "source": [
    "## El archivo ```/etc/passwd```.\n",
    "\n",
    "Es el archivo que tiene la relación de usuarios de sistema.\n",
    "\n",
    "```\n",
    "<usuario>:<contraseña>:<uid>:<gid>:<nombre>:<homedir>:<shell>\n",
    "```\n",
    "\n",
    "Donde:\n",
    "\n",
    "* ```<usuario>``` es el nombre del usuario.\n",
    "* ```<contraseña>``` es la contraseña del usuario, la cual por lo general se define en```/etc/shadow``` y es sustituida por ```x```.\n",
    "* ```<uid>``` es el número identificador del usuario.\n",
    "* ```<gid>``` es el número identificador del grupo principal del usuario.\n",
    "* ```<nombre>``` es el nombre real del usuario.\n",
    "* ```<homedir>``` es la ruta del *home* del usuario.\n",
    "* ```<shell>``` es el shell que se ejecutará cuando el usuario acceda a una terminal."
   ]
  },
  {
   "cell_type": "markdown",
   "metadata": {},
   "source": [
    "* La siguiente celda mostrará el contenido del archivo ```/etc/passwd``` del sistema."
   ]
  },
  {
   "cell_type": "code",
   "execution_count": null,
   "metadata": {},
   "outputs": [],
   "source": [
    "cat /etc/passwd"
   ]
  },
  {
   "cell_type": "markdown",
   "metadata": {},
   "source": [
    "## El archivo ```/etc/group```.\n",
    "\n",
    "Este archivo guarda un listado de grupos y de los usuarios que pertenecen a ellos.\n",
    "\n",
    "```\n",
    "<grupo>:<contraseña>:<gid>:<usuario 1>,<usuario 2>,...,<usuario n>\n",
    "```\n",
    "\n",
    "Donde:\n",
    "\n",
    "* ```<grupo>``` es el nombre del grupo.\n",
    "* ```<contraseña>``` es la contraseñá del grupo, la clual se guarda comunmente en ```/etc/shadow``` y en este archivo se coloca una ```x```.\n",
    "* ```<gid>``` es el número identificador del grupo.\n",
    "* ```<usuario i>``` es el nombre de uno de los uusarios que pertenecen al grupo."
   ]
  },
  {
   "cell_type": "markdown",
   "metadata": {},
   "source": [
    "* La siguiente celda mostrará el contenido del archivo ```/etc/group``` del sistema."
   ]
  },
  {
   "cell_type": "code",
   "execution_count": null,
   "metadata": {},
   "outputs": [],
   "source": [
    "cat /etc/group"
   ]
  },
  {
   "cell_type": "markdown",
   "metadata": {},
   "source": [
    "### La *man page* de ```/etc/group```."
   ]
  },
  {
   "cell_type": "code",
   "execution_count": null,
   "metadata": {
    "scrolled": true
   },
   "outputs": [],
   "source": [
    "man group"
   ]
  },
  {
   "cell_type": "markdown",
   "metadata": {},
   "source": [
    "## El archivo ```/etc/shadow```.\n",
    "\n",
    "Este archivo guarda las contraseñas cifradas.\n",
    "\n",
    "```\n",
    "<nombre>:<passwd>:<fecha>:<edad min>:<edad max>:<advertencia>:<inactividad>:<expiración> \n",
    "```\n",
    "\n",
    "Donde:\n",
    "\n",
    "* ```<nombre>``` es el nombre del usuario o grupo.\n",
    "* ```<passwd>``` es la contraseña cifrada del usuario o grupo.\n",
    "* ```<fecha>``` es la estampa de tiempo de la última modificación de la contraseña.\n",
    "* ```<edad min>``` corresponde al tiempo mínimo de existencia de la contraseña, Normalmente es ```0```.\n",
    "* ```<edad max>``` corresponde al tiempo máximo de existencia de la contraseña, Normalmente es ```99999```.\n",
    "* ```<advertencia>``` corresponde al número de días de advertencia antes de que expire la contraseña.\n",
    "* ```<inactividad>``` es el número de días en el que na cuenta suspendida puede ser restablecida.\n",
    "* ```<expiración>``` es la estampa de tiempo de la fecha en la que expirará la contraseña."
   ]
  },
  {
   "cell_type": "markdown",
   "metadata": {},
   "source": [
    "* La siguiente celda mostrará el contenido del archivo ```/etc/shadow``` del sistema."
   ]
  },
  {
   "cell_type": "code",
   "execution_count": null,
   "metadata": {},
   "outputs": [],
   "source": [
    "sudo cat /etc/shadow"
   ]
  },
  {
   "cell_type": "markdown",
   "metadata": {},
   "source": [
    "### La *man page* de ```/etc/shadow```."
   ]
  },
  {
   "cell_type": "code",
   "execution_count": null,
   "metadata": {
    "scrolled": true
   },
   "outputs": [],
   "source": [
    "man shadow"
   ]
  },
  {
   "cell_type": "markdown",
   "metadata": {},
   "source": [
    "## Gestión de usuarios.\n",
    "\n",
    "\n",
    "Los comandos por defecto que se utilizan en *UNIX* y *GNU/Linux* para la gestión de grupos son: \n",
    "\n",
    "* ```useradd```\n",
    "* ```userdel```\n",
    "\n",
    "En algunas distribuciones de *GNU/Linux*  están disponibles los siguientes comandos, los cuales son scripts que facilitan el uso de los comandos listados previamente:\n",
    "\n",
    "* ```adduser```\n",
    "* ```deluser```"
   ]
  },
  {
   "cell_type": "markdown",
   "metadata": {},
   "source": [
    "### Creación de usuarios con ```useradd```.\n",
    "\n",
    "```\n",
    "useradd <opciones> <nombre>\n",
    "```\n",
    "\n",
    "Donde: \n",
    "\n",
    "* ```<opciones>``` son las opciones de configuración del usuario.\n",
    "* ```<nombre>``` es el nombre del usuario."
   ]
  },
  {
   "cell_type": "markdown",
   "metadata": {},
   "source": [
    "#### Principales opciones de ```useradd```.\n",
    "\n",
    "* ```-b``` o ```--basedir``` define el directorio en el que se localizará el *shell* cuando un usuario inicia una sesión en una terminal. Por defecto es el directorio *home* del usuario.\n",
    "* ```-c``` o ```--comment``` define el texto que será agregado al apartado del nombre real del usuario.\n",
    "* ```-d``` o  ```--homedir``` define la ruta del directorio *home* del usuario.\n",
    "* ```-g``` o ```--gid``` define el ```GID``` de grupo principal del usuario.\n",
    "* ```-G``` o ```--groups``` define una sucesion de grupos a los que pertenece el usuario.\n",
    "* ```-m``` o ```--create-home``` indica al sistema que cree el directorio *home* del usuario.\n",
    "* ```-p``` o  ```--password``` define la contraseñá del usuario. Esto no sew recomienda, ya que dicha contraseña no será cifrada en el archivo ```/etc/shadow```.\n",
    "* ```-r``` o ```--system``` indica si es un usuario del sistema.\n",
    "* ```-s``` o ```--shell``` define el *shell* del usuario.\n",
    "* ```-u``` o ```--uid``` define el ```UID``` del usuario.\n",
    "* ```-U``` o ```--user-group``` define el nombre del grupo principal del usuario."
   ]
  },
  {
   "cell_type": "markdown",
   "metadata": {},
   "source": [
    "**Ejemplo:**"
   ]
  },
  {
   "cell_type": "markdown",
   "metadata": {},
   "source": [
    "* La siguiente celda creará al usuario ```cloudevel``` junto con su directorio *home* con los siguientes datos:\n",
    "    * Directorio *home*: ```/home/cloudevel```\n",
    "    * Shell: ```/bin/bash```\n",
    "    * Contraseña: ```123qwe```\n",
    "    \n",
    "El resto de los datos serán definidos por el sistema."
   ]
  },
  {
   "cell_type": "code",
   "execution_count": null,
   "metadata": {
    "scrolled": true
   },
   "outputs": [],
   "source": [
    "sudo useradd cloudevel -d /home/cloudevel -m -s /bin/bash -p 123qwe "
   ]
  },
  {
   "cell_type": "markdown",
   "metadata": {},
   "source": [
    "* La siguiente celda mostrará a detalle el contenido del directorio ```/home/cloudevel```."
   ]
  },
  {
   "cell_type": "code",
   "execution_count": null,
   "metadata": {
    "scrolled": false
   },
   "outputs": [],
   "source": [
    "sudo ls /home/cloudevel -al"
   ]
  },
  {
   "cell_type": "markdown",
   "metadata": {},
   "source": [
    "* La siguiente celda mostrará la línea del archivo ```/etc/passwd``` del usuario ```cloudevel```."
   ]
  },
  {
   "cell_type": "code",
   "execution_count": null,
   "metadata": {},
   "outputs": [],
   "source": [
    "grep cloudevel /etc/passwd"
   ]
  },
  {
   "cell_type": "markdown",
   "metadata": {},
   "source": [
    "* La siguiente celda mostrará la línea del archivo ```/etc/group``` en la que aparezca la cadena ```cloudevel```."
   ]
  },
  {
   "cell_type": "code",
   "execution_count": null,
   "metadata": {},
   "outputs": [],
   "source": [
    "grep cloudevel /etc/group"
   ]
  },
  {
   "cell_type": "markdown",
   "metadata": {},
   "source": [
    "* La siguiente celda mostrará la línea del archivo ```/etc/shadow``` del usuario ```cloudevel```."
   ]
  },
  {
   "cell_type": "code",
   "execution_count": null,
   "metadata": {},
   "outputs": [],
   "source": [
    "sudo grep cloudevel /etc/shadow"
   ]
  },
  {
   "cell_type": "markdown",
   "metadata": {},
   "source": [
    "#### La manpage de ```useradd```."
   ]
  },
  {
   "cell_type": "code",
   "execution_count": null,
   "metadata": {},
   "outputs": [],
   "source": [
    "man useradd"
   ]
  },
  {
   "cell_type": "markdown",
   "metadata": {},
   "source": [
    "### Eliminación de usuarios con ```userdel```.\n",
    "\n",
    "```\n",
    "userdel <opciones> <nombre>\n",
    "```\n",
    "\n",
    "Donde: \n",
    "\n",
    "* ```<opciones>``` son las opciones de configuración del usuario.\n",
    "* ```<nombre>``` es el nombre del usuario."
   ]
  },
  {
   "cell_type": "markdown",
   "metadata": {},
   "source": [
    "#### principales opciones de ```userdel```.\n",
    "\n",
    "* ```-r``` o ```--remove``` eliminará al directorio *home* del usuario con todo y su contenido.\n",
    "* ```-f``` o ```---force``` eliminará al usuario aún cuando esté registrado dentro del sistema."
   ]
  },
  {
   "cell_type": "markdown",
   "metadata": {},
   "source": [
    "**Ejemplo:**"
   ]
  },
  {
   "cell_type": "markdown",
   "metadata": {},
   "source": [
    "* La siguiente celda eliminará al usuario ```cloudevel``` y a su directorio *home*."
   ]
  },
  {
   "cell_type": "code",
   "execution_count": null,
   "metadata": {},
   "outputs": [],
   "source": [
    "sudo userdel cloudevel -r"
   ]
  },
  {
   "cell_type": "markdown",
   "metadata": {},
   "source": [
    "* La siguiente celda mostrará a detalle el contenido del directorio ```/home/cloudevel```."
   ]
  },
  {
   "cell_type": "code",
   "execution_count": null,
   "metadata": {
    "scrolled": true
   },
   "outputs": [],
   "source": [
    "sudo ls /home/cloudevel -al"
   ]
  },
  {
   "cell_type": "markdown",
   "metadata": {},
   "source": [
    "* La siguiente celda mostrará las líneas del archivo ```/etc/passwd``` que incluyan la cadena ```cloudevel```."
   ]
  },
  {
   "cell_type": "code",
   "execution_count": null,
   "metadata": {},
   "outputs": [],
   "source": [
    "grep cloudevel /etc/passwd"
   ]
  },
  {
   "cell_type": "markdown",
   "metadata": {},
   "source": [
    "* La siguiente celda mostrará las líneas del archivo ```/etc/group``` que incluyan la cadena ```cloudevel```."
   ]
  },
  {
   "cell_type": "code",
   "execution_count": null,
   "metadata": {},
   "outputs": [],
   "source": [
    "grep cloudevel /etc/group"
   ]
  },
  {
   "cell_type": "markdown",
   "metadata": {},
   "source": [
    "* La siguiente celda mostrará las líneas del archivo ```/etc/shadow``` que incluyan la cadena ```cloudevel```."
   ]
  },
  {
   "cell_type": "code",
   "execution_count": null,
   "metadata": {},
   "outputs": [],
   "source": [
    "sudo grep cloudevel /etc/shadow"
   ]
  },
  {
   "cell_type": "markdown",
   "metadata": {},
   "source": [
    "#### La *man page* de ```deluser```."
   ]
  },
  {
   "cell_type": "code",
   "execution_count": null,
   "metadata": {},
   "outputs": [],
   "source": [
    "man userdel"
   ]
  },
  {
   "cell_type": "markdown",
   "metadata": {},
   "source": [
    "### Modificación de un usuario existente .\n",
    "\n",
    "El comando ```usermod``` permite cambiar la configuración de un usuario existente.\n",
    "\n",
    "\n",
    "```\n",
    "usermod <opciones> <usuario>\n",
    "```\n",
    "\n",
    "Donde:\n",
    "\n",
    "* ```<opciones>``` son la sposibles opciones del comando.\n",
    "* ```<usuario>``` es el nombre del usuario a modificar."
   ]
  },
  {
   "cell_type": "markdown",
   "metadata": {},
   "source": [
    "#### Principales opciones de ```usermod```.\n",
    "\n",
    "* ```-c``` o ```--comment``` define el nuevo texto que será agregado al apartado del nombre real del usuario.\n",
    "* ```-d``` o  ```--homedir``` define la ruta del nuevo directorio *home* del usuario.\n",
    "* ```-g``` o ```--gid``` define el ```GID``` de grupo principal del usuario.\n",
    "* ```-G``` o ```--groups``` define una sucesion de grupos a los que pertenece el usuario.\n",
    "* ```-l``` o ```--login``` define el nuevo nombre de usuario.\n",
    "* ```-m``` o ```--move-home``` indica al sistema que cambie el directorio *home* del usuario a la ruta especificada.\n",
    "* ```-p``` o  ```--password``` define la contraseñá del usuario. Esto no sew recomienda, ya que dicha contraseña no será cifrada en el archivo ```/etc/shadow```.\n",
    "* ```-r``` o ```--system``` indica si es un usuario del sistema.\n",
    "* ```-s``` o ```--shell``` define el *shell* del usuario.\n",
    "* ```-u``` o ```--uid``` define el ```UID``` del usuario.\n",
    "* ```-U``` o ```--user-group``` define el nombre del grupo principal del usuario."
   ]
  },
  {
   "cell_type": "markdown",
   "metadata": {},
   "source": [
    "* La siguiente celda creará al usuario ```cloudevel``` junto con su directorio *home* con los siguientes datos:\n",
    "    * Directorio *home*: ```/home/cloudevel```\n",
    "    * Shell: ```/bin/bash```\n",
    "    * Contraseña: ```123qwe```\n",
    "    \n",
    "El resto de los datos serán definidos por el sistema."
   ]
  },
  {
   "cell_type": "code",
   "execution_count": null,
   "metadata": {
    "scrolled": true
   },
   "outputs": [],
   "source": [
    "sudo useradd cloudevel -d /home/cloudevel -m -s /bin/bash -p 123qwe "
   ]
  },
  {
   "cell_type": "markdown",
   "metadata": {},
   "source": [
    "* La siguiente celda cambiará los datos del usuario ```cloudevel``` a:\n",
    "\n",
    "    * Contraseña: ```123456qwerty```\n",
    "    * Nombre: ```cd``` \n",
    "    * Direcorio *home*: ```/home/cd```"
   ]
  },
  {
   "cell_type": "code",
   "execution_count": null,
   "metadata": {},
   "outputs": [],
   "source": [
    "sudo usermod cloudevel -l cd -d /home/cd -p 123456qwerty"
   ]
  },
  {
   "cell_type": "markdown",
   "metadata": {},
   "source": [
    "* La siguiente celda tratará de enlistar al directorio ```/home/cd```, pero este no fue creado."
   ]
  },
  {
   "cell_type": "code",
   "execution_count": null,
   "metadata": {},
   "outputs": [],
   "source": [
    "ls -al /home/cd"
   ]
  },
  {
   "cell_type": "markdown",
   "metadata": {},
   "source": [
    "* La siguiente celda mostrará las líneas del archivo ```/etc/passwd``` que incluyan la cadena ```cd```."
   ]
  },
  {
   "cell_type": "code",
   "execution_count": null,
   "metadata": {},
   "outputs": [],
   "source": [
    "grep cd /etc/passwd"
   ]
  },
  {
   "cell_type": "markdown",
   "metadata": {},
   "source": [
    "* La siguiente celda mostrará las líneas del archivo ```/etc/group``` que incluyan la cadena ```cloudevel```."
   ]
  },
  {
   "cell_type": "code",
   "execution_count": null,
   "metadata": {},
   "outputs": [],
   "source": [
    "grep cd /etc/group "
   ]
  },
  {
   "cell_type": "markdown",
   "metadata": {},
   "source": [
    "* La siguiente celda mostrará las líneas del archivo ```/etc/shadow``` que incluyan la cadena ```cloudevel```."
   ]
  },
  {
   "cell_type": "code",
   "execution_count": null,
   "metadata": {},
   "outputs": [],
   "source": [
    "sudo grep cd /etc/shadow"
   ]
  },
  {
   "cell_type": "markdown",
   "metadata": {},
   "source": [
    "#### La *man page* de ```usermod```."
   ]
  },
  {
   "cell_type": "code",
   "execution_count": null,
   "metadata": {},
   "outputs": [],
   "source": [
    "man usermod"
   ]
  },
  {
   "cell_type": "markdown",
   "metadata": {},
   "source": [
    "## Gestión de grupos.\n",
    "\n",
    "Los comandos por defecto que se utilizan en *UNIX* y *GNU/Linux* para la gestión de grupos son: \n",
    "\n",
    "* ```groupadd```\n",
    "* ```groupdel```\n",
    "\n",
    "En algunas distribuciones de *GNU/Linux*  están disponibles los siguientes comandos, los cuales son scripts que facilitan el uso de los comandos listados previamente:\n",
    "\n",
    "* ```addgrop```\n",
    "* ```delgroup```"
   ]
  },
  {
   "cell_type": "markdown",
   "metadata": {},
   "source": [
    "### Creación de grupos con ```groupadd```.\n",
    "\n",
    "```\n",
    "groupadd <opciones> <nombre>\n",
    "```\n",
    "\n",
    "Donde: \n",
    "\n",
    "* ```<opciones>``` son las opciones de configuración del usuario.\n",
    "* ```<nombre>``` es el nombre del grupo."
   ]
  },
  {
   "cell_type": "markdown",
   "metadata": {},
   "source": [
    "#### Principales opciones de ```groupadd```.\n",
    "\n",
    "* ```-g``` o ```--gid``` define el ```GID``` del grupo.\n",
    "* ```-p``` o  ```--password``` define la contraseñá del grupo.\n",
    "* ```-r``` o ```--system``` crea un grupo del sistema."
   ]
  },
  {
   "cell_type": "markdown",
   "metadata": {},
   "source": [
    "**Ejemplo:**"
   ]
  },
  {
   "cell_type": "markdown",
   "metadata": {},
   "source": [
    "* La suguiente celda creará al grupo ```estudiantes```."
   ]
  },
  {
   "cell_type": "code",
   "execution_count": null,
   "metadata": {},
   "outputs": [],
   "source": [
    "sudo groupadd estudiantes"
   ]
  },
  {
   "cell_type": "markdown",
   "metadata": {},
   "source": [
    "* La siguiente celda mostrará las líneas en ```/etc/group``` que contengan a la cadena ```estudiantes```."
   ]
  },
  {
   "cell_type": "code",
   "execution_count": null,
   "metadata": {
    "scrolled": true
   },
   "outputs": [],
   "source": [
    "grep estudiantes /etc/group"
   ]
  },
  {
   "cell_type": "markdown",
   "metadata": {},
   "source": [
    "#### La *man page* de ```groupadd```."
   ]
  },
  {
   "cell_type": "code",
   "execution_count": null,
   "metadata": {
    "scrolled": true
   },
   "outputs": [],
   "source": [
    "man groupadd"
   ]
  },
  {
   "cell_type": "markdown",
   "metadata": {},
   "source": [
    "### Eliminación de grupos con ```groupdel```.\n",
    "\n",
    "```\n",
    "groupdel <opciones> <nombre>\n",
    "```\n",
    "\n",
    "Donde: \n",
    "\n",
    "* ```<opciones>``` son las opciones del comando.\n",
    "* ```<nombre>``` es el nombre del grupo."
   ]
  },
  {
   "cell_type": "markdown",
   "metadata": {},
   "source": [
    "**Ejemplo:**"
   ]
  },
  {
   "cell_type": "markdown",
   "metadata": {},
   "source": [
    "* La siguiente celda eliminará al grupo ```estudiantes```. "
   ]
  },
  {
   "cell_type": "code",
   "execution_count": null,
   "metadata": {},
   "outputs": [],
   "source": [
    "sudo groupdel estudiantes"
   ]
  },
  {
   "cell_type": "markdown",
   "metadata": {},
   "source": [
    "* La siguiente celda mostrará las líneas en ```/etc/group``` que contengan a la cadena ```estudiantes```."
   ]
  },
  {
   "cell_type": "code",
   "execution_count": null,
   "metadata": {
    "scrolled": true
   },
   "outputs": [],
   "source": [
    "grep estudiantes /etc/group"
   ]
  },
  {
   "cell_type": "markdown",
   "metadata": {},
   "source": [
    "#### La *man page* de ```groupdel```."
   ]
  },
  {
   "cell_type": "code",
   "execution_count": null,
   "metadata": {},
   "outputs": [],
   "source": [
    "man groupdel"
   ]
  },
  {
   "cell_type": "markdown",
   "metadata": {},
   "source": [
    "### Modificación de un grupo existente .\n",
    "\n",
    "El comando ```groupmod``` permite cambiar la configuración de un usuario existente.\n",
    "\n",
    "\n",
    "```\n",
    "groupmod <opciones> <grupo>\n",
    "```\n",
    "\n",
    "Donde:\n",
    "\n",
    "* ```<opciones>``` son la sposibles opciones del comando.\n",
    "* ```<grupo>``` es el nombre del grupo a modificar."
   ]
  },
  {
   "cell_type": "markdown",
   "metadata": {},
   "source": [
    "#### Principales opciones de ```groupadd```.\n",
    "\n",
    "* ```-g``` o ```--gid``` define el nuevo ```GID``` del grupo.\n",
    "* ```-n``` o ```--new-name``` define el nuevo nombre del grupo."
   ]
  },
  {
   "cell_type": "markdown",
   "metadata": {},
   "source": [
    "**Ejemplo**"
   ]
  },
  {
   "cell_type": "markdown",
   "metadata": {},
   "source": [
    "* La siguiente celda creará al grupo ```demo```."
   ]
  },
  {
   "cell_type": "code",
   "execution_count": null,
   "metadata": {},
   "outputs": [],
   "source": [
    "sudo groupadd demo"
   ]
  },
  {
   "cell_type": "markdown",
   "metadata": {},
   "source": [
    "* La siguiente celda mostrará las líneas en las que aparezca la cadena ```demo```."
   ]
  },
  {
   "cell_type": "code",
   "execution_count": null,
   "metadata": {
    "scrolled": true
   },
   "outputs": [],
   "source": [
    "grep demo /etc/group"
   ]
  },
  {
   "cell_type": "markdown",
   "metadata": {},
   "source": [
    "* La siguiente celda modificará al grupo ```demo``` y lo renombrará como ```info```."
   ]
  },
  {
   "cell_type": "code",
   "execution_count": null,
   "metadata": {},
   "outputs": [],
   "source": [
    "sudo groupmod demo -n info"
   ]
  },
  {
   "cell_type": "markdown",
   "metadata": {},
   "source": [
    "* La siguiente celda mostrará las líneas en las que aparezca la cadena ```info```."
   ]
  },
  {
   "cell_type": "code",
   "execution_count": null,
   "metadata": {
    "scrolled": true
   },
   "outputs": [],
   "source": [
    "grep info /etc/group"
   ]
  },
  {
   "cell_type": "markdown",
   "metadata": {},
   "source": [
    "#### La *man page* de ```groupmod```."
   ]
  },
  {
   "cell_type": "code",
   "execution_count": null,
   "metadata": {},
   "outputs": [],
   "source": [
    "man groupmod"
   ]
  },
  {
   "cell_type": "markdown",
   "metadata": {},
   "source": [
    "### Consulta de grupos de un usuario con ```groups ```.\n",
    "\n",
    "El comando ```groups``` despliega los grupos a los que pertenece un usuario.\n",
    "\n",
    "```\n",
    "groups <usuario>\n",
    "```\n",
    "\n",
    "Donde:\n",
    "\n",
    "* ```<usuario>``` es el nombre de un usuario."
   ]
  },
  {
   "cell_type": "markdown",
   "metadata": {},
   "source": [
    "**Ejemplo:**"
   ]
  },
  {
   "cell_type": "markdown",
   "metadata": {},
   "source": [
    "* La siguiente celda mostrará los grupos a los que pertenece el usuario ```oi```."
   ]
  },
  {
   "cell_type": "code",
   "execution_count": null,
   "metadata": {
    "scrolled": true
   },
   "outputs": [],
   "source": [
    "groups oi"
   ]
  },
  {
   "cell_type": "markdown",
   "metadata": {},
   "source": [
    "### La *man page* de ```groups```."
   ]
  },
  {
   "cell_type": "code",
   "execution_count": null,
   "metadata": {
    "scrolled": true
   },
   "outputs": [],
   "source": [
    "man groups"
   ]
  },
  {
   "cell_type": "markdown",
   "metadata": {},
   "source": [
    "## Consulta de los identificadores de un usuario.\n",
    "\n",
    "\n",
    "El comando ```id``` permite conocer el ```uid```de un usuario así como los ```gid``` de los grupos a los que pertenece.\n",
    "\n",
    "\n",
    "```\n",
    "id <opciones> <usuario>\n",
    "```\n",
    "\n",
    "Donde:\n",
    "\n",
    "* ```<opciones>``` son las opciones de despliegue de los datos. \n",
    "* ```<usuario>``` es el nombre de un usuario. En caso de no definirlo, el comando se aplicará al usuario actual."
   ]
  },
  {
   "cell_type": "markdown",
   "metadata": {},
   "source": [
    "**Ejemplos:**"
   ]
  },
  {
   "cell_type": "markdown",
   "metadata": {},
   "source": [
    "* La siguiente celda deplegará los identificadores de usuario y grupos del usuario actual."
   ]
  },
  {
   "cell_type": "code",
   "execution_count": null,
   "metadata": {
    "scrolled": false
   },
   "outputs": [],
   "source": [
    "id"
   ]
  },
  {
   "cell_type": "markdown",
   "metadata": {},
   "source": [
    "* La siguiente celda deplegará los identificadores de usuario y grupos del usuario ```root```."
   ]
  },
  {
   "cell_type": "code",
   "execution_count": null,
   "metadata": {},
   "outputs": [],
   "source": [
    "id root"
   ]
  },
  {
   "cell_type": "markdown",
   "metadata": {},
   "source": [
    "* La siguiente celda deplegará los identificadores de usuario y grupos del usuario ```www-data```."
   ]
  },
  {
   "cell_type": "code",
   "execution_count": null,
   "metadata": {},
   "outputs": [],
   "source": [
    "id www-data"
   ]
  },
  {
   "cell_type": "markdown",
   "metadata": {},
   "source": [
    "* La siguiente celda deplegará los identificadores de usuario y grupos del usuario ```mysql```."
   ]
  },
  {
   "cell_type": "code",
   "execution_count": null,
   "metadata": {},
   "outputs": [],
   "source": [
    "id mysql"
   ]
  },
  {
   "cell_type": "markdown",
   "metadata": {},
   "source": [
    "### La *man page* de ```id```."
   ]
  },
  {
   "cell_type": "code",
   "execution_count": null,
   "metadata": {
    "scrolled": false
   },
   "outputs": [],
   "source": [
    "man id"
   ]
  },
  {
   "cell_type": "markdown",
   "metadata": {},
   "source": [
    "## Cambio de contraseña con ```passwd```.\n",
    "\n",
    " El comando ```passwd``` permite cambiar la contraseña de un usuario.\n",
    "\n",
    "```\n",
    "passwd <usuario>\n",
    "```\n",
    "\n",
    "Donde:\n",
    "\n",
    "* ```<usuario>``` es el usuario al que se le cambiará la contraseña. En caso de no ingresar el nombre, el comando se aplicará en el usuario actual. "
   ]
  },
  {
   "cell_type": "markdown",
   "metadata": {},
   "source": [
    "### La *man page* de ```passwd```."
   ]
  },
  {
   "cell_type": "code",
   "execution_count": null,
   "metadata": {
    "scrolled": false
   },
   "outputs": [],
   "source": [
    "man passwd"
   ]
  },
  {
   "cell_type": "markdown",
   "metadata": {},
   "source": [
    "## Cambio de usuarios con ```su```.\n",
    "\n",
    "El comando ```su``` permite cambiar de usuario de la terminal. A menos que se cuenten con privilegios de ```root```, es necesario registrarse con la contraseña del usuario nuevo.\n",
    "\n",
    "Para salir de la sesión se teclea ``` exit``` y la terminal volverá al shell del usuario original.\n",
    "\n",
    "\n",
    "```\n",
    "su <usuario> - <opciones>\n",
    "```\n",
    "\n",
    "Donde:\n",
    "\n",
    "* ```<usuario>``` es el usuario con el que se desea acceder.\n",
    "* ```<opciones>``` son varias opciones del comando.\n",
    "* ```-``` indica que el shell se moverá al *home* del nuevo usuario."
   ]
  },
  {
   "cell_type": "markdown",
   "metadata": {},
   "source": [
    "### La *man page* de ```su```."
   ]
  },
  {
   "cell_type": "code",
   "execution_count": null,
   "metadata": {
    "scrolled": false
   },
   "outputs": [],
   "source": [
    "man su"
   ]
  },
  {
   "cell_type": "markdown",
   "metadata": {},
   "source": [
    "\n",
    "## Uitilerías."
   ]
  },
  {
   "cell_type": "markdown",
   "metadata": {},
   "source": [
    "### ```whoami ```."
   ]
  },
  {
   "cell_type": "code",
   "execution_count": null,
   "metadata": {},
   "outputs": [],
   "source": [
    "whoami"
   ]
  },
  {
   "cell_type": "markdown",
   "metadata": {},
   "source": [
    "### ```who```."
   ]
  },
  {
   "cell_type": "code",
   "execution_count": null,
   "metadata": {},
   "outputs": [],
   "source": [
    "who"
   ]
  },
  {
   "cell_type": "markdown",
   "metadata": {},
   "source": [
    "\n",
    "### ```w```."
   ]
  },
  {
   "cell_type": "code",
   "execution_count": null,
   "metadata": {},
   "outputs": [],
   "source": [
    "w"
   ]
  },
  {
   "cell_type": "markdown",
   "metadata": {},
   "source": [
    "### ```users```."
   ]
  },
  {
   "cell_type": "code",
   "execution_count": null,
   "metadata": {},
   "outputs": [],
   "source": [
    "users"
   ]
  },
  {
   "cell_type": "markdown",
   "metadata": {
    "collapsed": true
   },
   "source": [
    "<p style=\"text-align: center\"><a rel=\"license\" href=\"http://creativecommons.org/licenses/by/4.0/\"><img alt=\"Licencia Creative Commons\" style=\"border-width:0\" src=\"https://i.creativecommons.org/l/by/4.0/80x15.png\" /></a><br />Esta obra está bajo una <a rel=\"license\" href=\"http://creativecommons.org/licenses/by/4.0/\">Licencia Creative Commons Atribución 4.0 Internacional</a>.</p>\n",
    "<p style=\"text-align: center\">&copy; José Luis Chiquete Valdivieso. 2020.</p>"
   ]
  }
 ],
 "metadata": {
  "kernelspec": {
   "display_name": "Bash",
   "language": "bash",
   "name": "bash"
  },
  "language_info": {
   "codemirror_mode": "shell",
   "file_extension": ".sh",
   "mimetype": "text/x-sh",
   "name": "bash"
  }
 },
 "nbformat": 4,
 "nbformat_minor": 2
}
