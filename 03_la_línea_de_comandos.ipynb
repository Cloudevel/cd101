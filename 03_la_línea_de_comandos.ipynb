{
 "cells": [
  {
   "cell_type": "markdown",
   "metadata": {},
   "source": [
    "[![cloudevel](Imagenes/cloudevel.png)](https://cloudevel.com)"
   ]
  },
  {
   "cell_type": "markdown",
   "metadata": {},
   "source": [
    "## Terminales.\n",
    "\n",
    "Tanto GNU/Linux como UNIX se basan en la arquitectura \"cliente-servidor\", la cual permite a múltiples usuarios conectarse y accceder de forma simultánea a un servidor mediante una o más \"sesiones\". \n",
    "\n",
    "A la interfaz de conexión de un cliente a un servidor Linux, se le conoce como terminal.\n"
   ]
  },
  {
   "cell_type": "markdown",
   "metadata": {},
   "source": [
    "### Terminales de texto.\n",
    "\n",
    "La terminal de texto, también conocida como consola,  es la interfaz básica de un sistema UNIX y GNU/Linux. \n",
    "\n",
    "Las terminales de texto emulan a una pantalla que despliega caracteres de texto y pro lo general requieren de un usuario y contraseña válida para iniciar una sesión en el servidor al que se conectan. \n",
    "\n",
    "La interfaz de entrada es por medio del teclado y la de salida se realiza mediante el despliegue de caracteres en la pantalla."
   ]
  },
  {
   "cell_type": "markdown",
   "metadata": {},
   "source": [
    "### Terminales gráficas.\n",
    "\n",
    "Tanto los sistemas UNIX modernos como los sistemas GNU/Linux permiten gestionar terminales gráficas por medio de servidores especializados en el despliegue de dichas interfaces. \n",
    "\n",
    "Un sistema de este tipo cuenta con un servidor de entorno gráfico al cual pueden conectarse diversos clientes. \n",
    "\n",
    "El [\"Sistema de ventanas X\"](https://es.wikipedia.org/wiki/Sistema_de_ventanas_X) o simplemente \"las X\" es el sistema más popular en UNIX y GNU/Linux, mientras que MacOS X utiliza [Quartz](https://en.wikipedia.org/wiki/Quartz_(graphics_layer).\n",
    "\n",
    "### Entornos de escritorio de Linux.\n",
    "\n",
    "Las X sólo proporcionan un servicio básico de despliege de elementos gráficos y de entanas simples, por lo que junto con estas, se utilizan gestores de entornos de escritorio, los cuales permiten correr diversas aplicaciones.\n",
    "\n",
    "Los entornos gráficos más populares son\n",
    "* [KDE](https://kde.org/)\n",
    "* [GNOME](https://gnome.org).\n",
    "* [Mate](https://mate-desktop.org/).\n",
    "\n",
    "**Nota:** Este curso tiene por objetivo aprovechar las capacidades de las terminales de texto."
   ]
  },
  {
   "cell_type": "markdown",
   "metadata": {},
   "source": [
    "## El shell.\n",
    "\n",
    "La terminal o consola es  únicamente la interfaz que gestiona la entrada y salida de una conexión. Cuando un usuario inicia una sesión en una terminal, esta por lo general le asigna un entorno interactivo que se conoce como *shell*.\n",
    "\n",
    "Un shell permite interactuar con el servidor mediante comandos predefindos y también ejecutando aplicaciones del sistema. \n",
    "\n",
    "Existen varios shell para UNIX y Linux.\n",
    "* [*C shell*](https://en.wikipedia.org/wiki/C_shell) (csh y tcsh).\n",
    "* [*Zshell*](https://en.wikipedia.org/wiki/Z_shell) (zsh).\n",
    "* [*Korn shell*](https://en.wikipedia.org/wiki/KornShell)(ksh).\n",
    "* [*Bourne shell*](https://en.wikipedia.org/wiki/Bourne_shell) (sh).\n",
    "* [*Bourne-again shell*](https://en.wikipedia.org/wiki/Bash_(Unix_shell) (bash).\n",
    "\n",
    "En este curso se utilizará *Bash*."
   ]
  },
  {
   "cell_type": "markdown",
   "metadata": {},
   "source": [
    "## El prompt.\n",
    "\n",
    "Una vez que se ha iniciado una sesión ingresando una sesión ingresando los datos de un usuario y una contraseña válidos, la terminal desplegara una serie de caracteres a la izquierda de una línea de inicio y a su derecha un cursos parpadeando. A esto se le conoce como \"el prompt\"."
   ]
  },
  {
   "cell_type": "markdown",
   "metadata": {},
   "source": [
    "## Ejecución de comandos.\n",
    "\n",
    "Los comandos de una terminal tiene la siguiente estructura:\n",
    "\n",
    "```\n",
    "<comando> <subcomando> <opciones> <argumentos>\n",
    "```"
   ]
  },
  {
   "cell_type": "markdown",
   "metadata": {},
   "source": [
    "### Ejecución de comandos en las notebooks de Jupyter.\n",
    "\n",
    "Las notebooks de Jupyter utilizadas en este curso no son terminales, sino interfaces que se conectan a un shell de bash.\n",
    "\n",
    "Debido a lo anterior, las celdas de código de las notebooks pueden ejecutar comandos de bash de forma directa.\n",
    "\n",
    "**ADVERTENCIA:** Las celdas sólo pueden enviar comandos y desplegar el resultado de estos comandos. Si existe algún tipo de interacción adicional por parte del shell, la celda se quedará bloqueada y será necesario interrumpir el kernel para salir de ese estado."
   ]
  },
  {
   "cell_type": "markdown",
   "metadata": {},
   "source": [
    "**Ejemplos:**\n",
    "\n",
    "* El siguiente comando indicará el directorio en el que se encuentra esta notebook."
   ]
  },
  {
   "cell_type": "code",
   "execution_count": 1,
   "metadata": {},
   "outputs": [
    {
     "name": "stdout",
     "output_type": "stream",
     "text": [
      "/opt/cloudevel/cd101\n"
     ]
    }
   ],
   "source": [
    "pwd"
   ]
  },
  {
   "cell_type": "markdown",
   "metadata": {},
   "source": [
    "* El siguiente comando traerá un listado completo del directorio *home* del usuario corriendo Jupyter, incluyendo los archivos escondidos."
   ]
  },
  {
   "cell_type": "code",
   "execution_count": 3,
   "metadata": {},
   "outputs": [
    {
     "name": "stdout",
     "output_type": "stream",
     "text": [
      "total 36\n",
      "drwx------. 11 oi   oi     275 mar  7 14:56 .\n",
      "drwxr-xr-x.  3 root root    16 jun 27  2018 ..\n",
      "-rw-rw-r--.  1 oi   oi   12623 mar  7 15:39 .bash_history\n",
      "-rw-r--r--.  1 oi   oi      18 abr 10  2018 .bash_logout\n",
      "-rw-r--r--.  1 oi   oi     193 abr 10  2018 .bash_profile\n",
      "-rw-r--r--.  1 oi   oi     231 abr 10  2018 .bashrc\n",
      "drwx------.  3 oi   oi      16 mar  7 13:17 .cache\n",
      "drwx------.  3 oi   oi      16 mar  7 13:17 .config\n",
      "drwxrwxr-x.  2 oi   oi       6 mar  7 14:19 ejemplo\n",
      "drwxrwxr-x.  2 oi   oi       6 mar  7 14:23 ejemplo2\n",
      "-rw-rw-r--.  1 oi   oi      61 mar  5 17:04 .gitconfig\n",
      "-rw-------.  1 oi   oi      63 mar  6 14:36 .history\n",
      "drwxrwxr-x.  2 oi   oi       6 jul  4  2018 .ipynb_checkpoints\n",
      "drwxr-xr-x.  5 oi   oi      67 jul  4  2018 .ipython\n",
      "drwx------.  2 oi   oi      92 jul  4  2018 .jupyter\n",
      "drwxrwxr-x.  3 oi   oi      19 jul  4  2018 .local\n",
      "-rw-rw-r--.  1 oi   oi       0 mar  7 14:56 objeto\n",
      "drwxrw----.  3 oi   oi      19 jul  4  2018 .pki\n"
     ]
    }
   ],
   "source": [
    "ls ~ -al"
   ]
  },
  {
   "cell_type": "markdown",
   "metadata": {},
   "source": [
    "## Cómo obtener ayuda.\n",
    "\n",
    "Existen ciertos comandos que nos permiten buscar ayuda sobre otros comandos del sistema."
   ]
  },
  {
   "cell_type": "markdown",
   "metadata": {},
   "source": [
    "### Acceso a la documentación de un comando.\n",
    "\n",
    "Una de las mejores prácticas al desarrollar aplicaciones en Linux y en UNIX es que por lo general, cada comando contiene documentacióne detallada en forma de manual a la que se conoce como *man page*.\n",
    "\n",
    "Las *man page* describen el funcionamiento de un comando y todas las opciones y parámentros que puede aceptar.\n",
    "\n",
    "Para acceder a la *man page* de un comando se utiliza el comando ```man```.\n",
    "\n",
    "``` \n",
    "man <comando>\n",
    "```\n",
    "\n",
    "Este comando desplegará la *man page* en una ventana que le permite al usuario desplazarse por el texto utilizando las teclas:\n",
    "* <kbd>Arriba</kbd>\n",
    "* <kbd>Abajo</kbd>\n",
    "* <kbd>Página Arriba</kbd>\n",
    "* <kbd>Página Abajo</kbd>\n",
    "* <kbd>Inicio</kbd>\n",
    "* <kbd>Fin</kbd>\n",
    "\n",
    "Para salir de la ventana de ayuda se presiona la tecla <kbd>q</kbd>."
   ]
  },
  {
   "cell_type": "markdown",
   "metadata": {},
   "source": [
    "**Ejemplo:**\n",
    "\n",
    "En el caso de la siguiente celda, se abrirá una la ventana con la *man page* del comando ```ls``` que puede ser vista usando el desplazamiento del mouse o la barra de desplazamiento lateral."
   ]
  },
  {
   "cell_type": "code",
   "execution_count": 5,
   "metadata": {},
   "outputs": [
    {
     "name": "stdout",
     "output_type": "stream",
     "text": [
      "LS(1)                            User Commands                           LS(1)\n",
      "\n",
      "\n",
      "\n",
      "NAME\n",
      "       ls - list directory contents\n",
      "\n",
      "SYNOPSIS\n",
      "       ls [OPTION]... [FILE]...\n",
      "\n",
      "DESCRIPTION\n",
      "       List  information  about  the FILEs (the current directory by default).\n",
      "       Sort entries alphabetically if none of -cftuvSUX nor --sort  is  speci‐\n",
      "       fied.\n",
      "\n",
      "       Mandatory  arguments  to  long  options are mandatory for short options\n",
      "       too.\n",
      "\n",
      "       -a, --all\n",
      "              do not ignore entries starting with .\n",
      "\n",
      "       -A, --almost-all\n",
      "              do not list implied . and ..\n",
      "\n",
      "       --author\n",
      "              with -l, print the author of each file\n",
      "\n",
      "       -b, --escape\n",
      "              print C-style escapes for nongraphic characters\n",
      "\n",
      "       --block-size=SIZE\n",
      "              scale sizes by SIZE before printing them; e.g., '--block-size=M'\n",
      "              prints sizes in units of 1,048,576 bytes; see SIZE format below\n",
      "\n",
      "       -B, --ignore-backups\n",
      "              do not list implied entries ending with ~\n",
      "\n",
      "       -c     with -lt: sort by, and show, ctime (time of last modification of\n",
      "              file status information); with -l: show ctime and sort by  name;\n",
      "              otherwise: sort by ctime, newest first\n",
      "\n",
      "       -C     list entries by columns\n",
      "\n",
      "       --color[=WHEN]\n",
      "              colorize  the  output;  WHEN can be 'never', 'auto', or 'always'\n",
      "              (the default); more info below\n",
      "\n",
      "       -d, --directory\n",
      "              list directories themselves, not their contents\n",
      "\n",
      "       -D, --dired\n",
      "              generate output designed for Emacs' dired mode\n",
      "\n",
      "       -f     do not sort, enable -aU, disable -ls --color\n",
      "\n",
      "       -F, --classify\n",
      "              append indicator (one of */=>@|) to entries\n",
      "\n",
      "       --file-type\n",
      "              likewise, except do not append '*'\n",
      "\n",
      "       --format=WORD\n",
      "              across -x, commas -m, horizontal -x, long -l, single-column  -1,\n",
      "              verbose -l, vertical -C\n",
      "\n",
      "       --full-time\n",
      "              like -l --time-style=full-iso\n",
      "\n",
      "       -g     like -l, but do not list owner\n",
      "\n",
      "       --group-directories-first\n",
      "              group directories before files;\n",
      "\n",
      "              can   be  augmented  with  a  --sort  option,  but  any  use  of\n",
      "              --sort=none (-U) disables grouping\n",
      "\n",
      "       -G, --no-group\n",
      "              in a long listing, don't print group names\n",
      "\n",
      "       -h, --human-readable\n",
      "              with -l, print sizes in human readable format (e.g., 1K 234M 2G)\n",
      "\n",
      "       --si   likewise, but use powers of 1000 not 1024\n",
      "\n",
      "       -H, --dereference-command-line\n",
      "              follow symbolic links listed on the command line\n",
      "\n",
      "       --dereference-command-line-symlink-to-dir\n",
      "              follow each command line symbolic link\n",
      "\n",
      "              that points to a directory\n",
      "\n",
      "       --hide=PATTERN\n",
      "              do not list implied entries matching shell  PATTERN  (overridden\n",
      "              by -a or -A)\n",
      "\n",
      "       --indicator-style=WORD\n",
      "              append indicator with style WORD to entry names: none (default),\n",
      "              slash (-p), file-type (--file-type), classify (-F)\n",
      "\n",
      "       -i, --inode\n",
      "              print the index number of each file\n",
      "\n",
      "       -I, --ignore=PATTERN\n",
      "              do not list implied entries matching shell PATTERN\n",
      "\n",
      "       -k, --kibibytes\n",
      "              default to 1024-byte blocks for disk usage\n",
      "\n",
      "       -l     use a long listing format\n",
      "\n",
      "       -L, --dereference\n",
      "              when showing file information for a symbolic link, show informa‐\n",
      "              tion  for  the file the link references rather than for the link\n",
      "              itself\n",
      "\n",
      "       -m     fill width with a comma separated list of entries\n",
      "\n",
      "       -n, --numeric-uid-gid\n",
      "              like -l, but list numeric user and group IDs\n",
      "\n",
      "       -N, --literal\n",
      "              print raw entry names (don't treat e.g. control characters  spe‐\n",
      "              cially)\n",
      "\n",
      "       -o     like -l, but do not list group information\n",
      "\n",
      "       -p, --indicator-style=slash\n",
      "              append / indicator to directories\n",
      "\n",
      "       -q, --hide-control-chars\n",
      "              print ? instead of nongraphic characters\n",
      "\n",
      "       --show-control-chars\n",
      "              show nongraphic characters as-is (the default, unless program is\n",
      "              'ls' and output is a terminal)\n",
      "\n",
      "       -Q, --quote-name\n",
      "              enclose entry names in double quotes\n",
      "\n",
      "       --quoting-style=WORD\n",
      "              use quoting style WORD for entry names: literal, locale,  shell,\n",
      "              shell-always, c, escape\n",
      "\n",
      "       -r, --reverse\n",
      "              reverse order while sorting\n",
      "\n",
      "       -R, --recursive\n",
      "              list subdirectories recursively\n",
      "\n",
      "       -s, --size\n",
      "              print the allocated size of each file, in blocks\n",
      "\n",
      "       -S     sort by file size\n",
      "\n",
      "       --sort=WORD\n",
      "              sort  by  WORD instead of name: none (-U), size (-S), time (-t),\n",
      "              version (-v), extension (-X)\n",
      "\n",
      "       --time=WORD\n",
      "              with -l, show time as WORD instead of default modification time:\n",
      "              atime or access or use (-u) ctime or status (-c); also use spec‐\n",
      "              ified time as sort key if --sort=time\n",
      "\n",
      "       --time-style=STYLE\n",
      "              with -l, show times using style STYLE: full-iso, long-iso,  iso,\n",
      "              locale,  or  +FORMAT;  FORMAT  is interpreted like in 'date'; if\n",
      "              FORMAT  is  FORMAT1<newline>FORMAT2,  then  FORMAT1  applies  to\n",
      "              non-recent  files  and FORMAT2 to recent files; if STYLE is pre‐\n",
      "              fixed with 'posix-', STYLE takes effect only outside  the  POSIX\n",
      "              locale\n",
      "\n",
      "       -t     sort by modification time, newest first\n",
      "\n",
      "       -T, --tabsize=COLS\n",
      "              assume tab stops at each COLS instead of 8\n",
      "\n",
      "       -u     with  -lt:  sort by, and show, access time; with -l: show access\n",
      "              time and sort by name; otherwise: sort by access time\n",
      "\n",
      "       -U     do not sort; list entries in directory order\n",
      "\n",
      "       -v     natural sort of (version) numbers within text\n",
      "\n",
      "       -w, --width=COLS\n",
      "              assume screen width instead of current value\n",
      "\n",
      "       -x     list entries by lines instead of by columns\n",
      "\n",
      "       -X     sort alphabetically by entry extension\n",
      "\n",
      "       -1     list one file per line\n",
      "\n",
      "       SELinux options:\n",
      "\n",
      "       --lcontext\n",
      "              Display security context.   Enable -l. Lines  will  probably  be\n",
      "              too wide for most displays.\n",
      "\n",
      "       -Z, --context\n",
      "              Display  security context so it fits on most displays.  Displays\n",
      "              only mode, user, group, security context and file name.\n",
      "\n",
      "       --scontext\n",
      "              Display only security context and file name.\n",
      "\n",
      "       --help display this help and exit\n",
      "\n",
      "       --version\n",
      "              output version information and exit\n",
      "\n",
      "       SIZE is an integer and optional unit (example:  10M  is  10*1024*1024).\n",
      "       Units  are K, M, G, T, P, E, Z, Y (powers of 1024) or KB, MB, ... (pow‐\n",
      "       ers of 1000).\n",
      "\n",
      "       Using color to distinguish file types is disabled both by  default  and\n",
      "       with  --color=never.  With --color=auto, ls emits color codes only when\n",
      "       standard output is connected to a terminal.  The LS_COLORS  environment\n",
      "       variable can change the settings.  Use the dircolors command to set it.\n",
      "\n",
      "   Exit status:\n",
      "       0      if OK,\n",
      "\n",
      "       1      if minor problems (e.g., cannot access subdirectory),\n",
      "\n",
      "       2      if serious trouble (e.g., cannot access command-line argument).\n",
      "\n",
      "       GNU  coreutils  online  help:  <http://www.gnu.org/software/coreutils/>\n",
      "       Report ls translation bugs to <http://translationproject.org/team/>\n",
      "\n",
      "AUTHOR\n",
      "       Written by Richard M. Stallman and David MacKenzie.\n",
      "\n",
      "COPYRIGHT\n",
      "       Copyright © 2013 Free Software Foundation, Inc.   License  GPLv3+:  GNU\n",
      "       GPL version 3 or later <http://gnu.org/licenses/gpl.html>.\n",
      "       This  is  free  software:  you  are free to change and redistribute it.\n",
      "       There is NO WARRANTY, to the extent permitted by law.\n",
      "\n",
      "SEE ALSO\n",
      "       The full documentation for ls is maintained as a  Texinfo  manual.   If\n",
      "       the  info and ls programs are properly installed at your site, the com‐\n",
      "       mand\n",
      "\n",
      "              info coreutils 'ls invocation'\n",
      "\n",
      "       should give you access to the complete manual.\n",
      "\n",
      "\n",
      "\n",
      "GNU coreutils 8.22                April 2018                             LS(1)\n"
     ]
    }
   ],
   "source": [
    "man ls"
   ]
  },
  {
   "cell_type": "code",
   "execution_count": null,
   "metadata": {},
   "outputs": [],
   "source": [
    "apropos network"
   ]
  },
  {
   "cell_type": "code",
   "execution_count": null,
   "metadata": {},
   "outputs": [],
   "source": [
    "which ls"
   ]
  },
  {
   "cell_type": "code",
   "execution_count": null,
   "metadata": {},
   "outputs": [],
   "source": [
    "whatis ls"
   ]
  },
  {
   "cell_type": "markdown",
   "metadata": {},
   "source": [
    "## Cierre de la sesión.\n",
    "\n",
    "Para cerrar la sesión en una terminal se utiliza el comando ```exit```."
   ]
  },
  {
   "cell_type": "markdown",
   "metadata": {},
   "source": [
    "<p style=\"text-align: center\"><a rel=\"license\" href=\"http://creativecommons.org/licenses/by/4.0/\"><img alt=\"Licencia Creative Commons\" style=\"border-width:0\" src=\"https://i.creativecommons.org/l/by/4.0/80x15.png\" /></a><br />Esta obra está bajo una <a rel=\"license\" href=\"http://creativecommons.org/licenses/by/4.0/\">Licencia Creative Commons Atribución 4.0 Internacional</a>.</p>\n",
    "<p style=\"text-align: center\">&copy; José Luis Chiquete Valdivieso. 2019.</p>"
   ]
  }
 ],
 "metadata": {
  "kernelspec": {
   "display_name": "Bash",
   "language": "bash",
   "name": "bash"
  },
  "language_info": {
   "codemirror_mode": "shell",
   "file_extension": ".sh",
   "mimetype": "text/x-sh",
   "name": "bash"
  }
 },
 "nbformat": 4,
 "nbformat_minor": 2
}
