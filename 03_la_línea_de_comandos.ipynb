{
 "cells": [
  {
   "cell_type": "markdown",
   "metadata": {},
   "source": [
    "[![cloudevel](Imagenes/cloudevel.png)](https://cloudevel.com)"
   ]
  },
  {
   "cell_type": "markdown",
   "metadata": {},
   "source": [
    "## Terminales.\n",
    "\n",
    "Tanto GNU/Linux como UNIX se basan en la arquitectura \"cliente-servidor\", la cual permite a múltiples usuarios conectarse y accceder de forma simultánea a un servidor mediante una o más \"sesiones\". \n",
    "\n",
    "A la interfaz de conexión de un cliente a un servidor Linux, se le conoce como terminal.\n",
    "\n",
    "### Terminales de texto.\n",
    "\n",
    "La terminal de texto es la interfaz básica de un sistema UNIX y GNU/Linux dicha terminal emula a una pantalla que despliega caracteres de texto primordialmente. La interfaz de entrada es por medio del teclado y la salida mediante el despliegue de caracteres en la pantalla.\n",
    "\n",
    "### Terminales gráficas.\n",
    "\n",
    "Tanto los sistemas UNIX modernos como los sistemas GNU/Linux permiten desplegar terminales gráficas por medio de servidores especializados en dichas interfaces. Un sistema de este tipo cuenta con un servidor de entorno gráfico al cual puedem conectarse diversos clientes. \n",
    "\n",
    "El [\"Sistema de ventanas X\"](https://es.wikipedia.org/wiki/Sistema_de_ventanas_X) o simplemente \"las X\" es el sistema más popular en UNIX y GNU/Linux, mientras que MacOS X utiliza [Quartz](https://en.wikipedia.org/wiki/Quartz_(graphics_layer).\n",
    "\n",
    "### Entornos de escritorio de Linux.\n",
    "\n",
    "Las X sólo proporcionan un servicio básico de despliege de elementos gráficos, por lo que junto con estas, se utilizan gestores de entornos de escritorio, los cuales permiten correr diversas aplicaciones.\n",
    "\n",
    "Los entornos gráficos más populares son\n",
    "* [KDE](https://kde.org/)\n",
    "* [GNOME](https://gnome.org).\n",
    "* [Mate](https://mate-desktop.org/).\n",
    "\n",
    "**Nota:** Este curso tiene por objetivo aprovechar las capacidades de las terminales de texto."
   ]
  },
  {
   "cell_type": "markdown",
   "metadata": {},
   "source": [
    "## El shell.\n",
    "\n",
    "La terminal o consola es  únicamente la interfaz que gestiona la entrada y salida de una conexión. Cuando un usuario inicia una sesión en una terminal, esta por lo general le asigna un entorno interactivo que se conoce como *shell*.\n",
    "\n",
    "Un shell permite interactuar con el servidor mediante comandos propios o ejecutando aplicaciones. Existen varios shell para UNIX y Linux.\n",
    "* [*C shell*](https://en.wikipedia.org/wiki/C_shell) (csh y tcsh).\n",
    "* [*Zshell*](https://en.wikipedia.org/wiki/Z_shell) (zsh).\n",
    "* [*Korn shell*](https://en.wikipedia.org/wiki/KornShell)(ksh).\n",
    "* [*Bourne shell*](https://en.wikipedia.org/wiki/Bourne_shell) (sh).\n",
    "* [*Bourne-again shell*](https://en.wikipedia.org/wiki/Bash_(Unix_shell) (bash)."
   ]
  },
  {
   "cell_type": "markdown",
   "metadata": {},
   "source": [
    "## El prompt.\n",
    "\n",
    "Una vez que se ha iniciado una sesión ingresando una sesión ingresando los datos de un usuario y una contraseña válidos, la terminal desplegara una serie de caracteres a la izquierda de una línea de inicio y a su derecha un cursos parpadeando. A esto se le conoce ocmo \"el prompt\"."
   ]
  },
  {
   "cell_type": "markdown",
   "metadata": {},
   "source": [
    "## Ejecución de comandos.\n",
    "\n",
    "Los comandos de una terminal tiene la siguiente estructura:\n",
    "\n",
    "```\n",
    "<comando> <subcomando> <opciones> <argumentos>\n",
    "```"
   ]
  },
  {
   "cell_type": "markdown",
   "metadata": {},
   "source": [
    "**Ejemplos:**\n",
    "\n",
    "* El siguiente comando indicará el directorio en el que se encuentra esta notebook."
   ]
  },
  {
   "cell_type": "code",
   "execution_count": 1,
   "metadata": {},
   "outputs": [
    {
     "data": {
      "text/plain": [
       "'/opt/cloudevel/cd101'"
      ]
     },
     "execution_count": 1,
     "metadata": {},
     "output_type": "execute_result"
    }
   ],
   "source": [
    "pwd"
   ]
  },
  {
   "cell_type": "markdown",
   "metadata": {},
   "source": [
    "* El siguiente comando traerá un listado simple del directorio."
   ]
  },
  {
   "cell_type": "code",
   "execution_count": 2,
   "metadata": {},
   "outputs": [
    {
     "name": "stdout",
     "output_type": "stream",
     "text": [
      "00_temario.ipynb\r\n",
      "01_introduccion.ipynb\r\n",
      "02_sistemas_computo.ipynb\r\n",
      "03_la_línea_de_comandos.ipynb\r\n",
      "04_inicio_de_linux.ipynb\r\n",
      "05_entrada_salida_filtros_y_pipes.ipynb\r\n",
      "06_introduccion_a_vim.ipynb\r\n",
      "07_usuarios_y_grupos.ipynb\r\n",
      "08_funcionamiento_y_estructura_de_archivos.ipynb\r\n",
      "09_manejo_de_directorios_y_archivo.ipynb\r\n",
      "10_particiones_y_volumenes_de_archivos.ipynb\r\n",
      "11_ introduccion_a_redes_basicas.ipynb\r\n",
      "12_paquetes_de_archivos_y_de_software.ipynb\r\n",
      "13_procesos_trabajos_y_temporizadores.ipynb\r\n",
      "14_introduccion_a_bash_scripting.ipynb\r\n",
      "15_gestion_de_servicios_con_systemd.ipynb\r\n",
      "16_seguridad_básica.ipynb\r\n",
      "17_maquinas_virtuales_y_contenedores.ipynb\r\n",
      "\u001b[0m\u001b[01;34mImagenes\u001b[0m/\r\n",
      "LICENSE\r\n",
      "README.md\r\n"
     ]
    }
   ],
   "source": [
    "ls"
   ]
  },
  {
   "cell_type": "markdown",
   "metadata": {},
   "source": [
    "* El siguiente comando traerá un listado con información adicional de todo el contenido del directorio actual, incluyendo los archivos ocultos."
   ]
  },
  {
   "cell_type": "code",
   "execution_count": 6,
   "metadata": {},
   "outputs": [
    {
     "name": "stdout",
     "output_type": "stream",
     "text": [
      "total 164\r\n",
      "drwxrwxr-x. 5 oi oi  4096 mar  6 14:45 \u001b[0m\u001b[01;34m.\u001b[0m/\r\n",
      "drwxr-xr-x. 5 oi oi    65 mar  4 17:50 \u001b[01;34m..\u001b[0m/\r\n",
      "-rw-rw-r--. 1 oi oi  4627 mar  4 17:50 00_temario.ipynb\r\n",
      "-rw-rw-r--. 1 oi oi 10469 mar  4 19:20 01_introduccion.ipynb\r\n",
      "-rw-rw-r--. 1 oi oi 11939 mar  6 13:40 02_sistemas_computo.ipynb\r\n",
      "-rw-rw-r--. 1 oi oi  7173 mar  6 14:45 03_la_línea_de_comandos.ipynb\r\n",
      "-rw-rw-r--. 1 oi oi  1950 mar  6 14:00 04_inicio_de_linux.ipynb\r\n",
      "-rw-rw-r--. 1 oi oi  1705 mar  4 17:50 05_entrada_salida_filtros_y_pipes.ipynb\r\n",
      "-rw-rw-r--. 1 oi oi  1142 mar  4 17:50 06_introduccion_a_vim.ipynb\r\n",
      "-rw-rw-r--. 1 oi oi  1877 mar  4 17:50 07_usuarios_y_grupos.ipynb\r\n",
      "-rw-rw-r--. 1 oi oi  1567 mar  4 17:50 08_funcionamiento_y_estructura_de_archivos.ipynb\r\n",
      "-rw-rw-r--. 1 oi oi  1717 mar  4 17:50 09_manejo_de_directorios_y_archivo.ipynb\r\n",
      "-rw-rw-r--. 1 oi oi  3210 mar  4 17:50 10_particiones_y_volumenes_de_archivos.ipynb\r\n",
      "-rw-rw-r--. 1 oi oi  2444 mar  4 17:50 11_ introduccion_a_redes_basicas.ipynb\r\n",
      "-rw-rw-r--. 1 oi oi  1657 mar  4 17:50 12_paquetes_de_archivos_y_de_software.ipynb\r\n",
      "-rw-rw-r--. 1 oi oi 19874 mar  4 17:50 13_procesos_trabajos_y_temporizadores.ipynb\r\n",
      "-rw-rw-r--. 1 oi oi  6077 mar  6 14:40 14_introduccion_a_bash_scripting.ipynb\r\n",
      "-rw-rw-r--. 1 oi oi 32637 mar  4 17:50 15_gestion_de_servicios_con_systemd.ipynb\r\n",
      "-rw-rw-r--. 1 oi oi  4542 mar  4 17:50 16_seguridad_básica.ipynb\r\n",
      "-rw-rw-r--. 1 oi oi  1647 mar  4 17:50 17_maquinas_virtuales_y_contenedores.ipynb\r\n",
      "drwxrwxr-x. 8 oi oi   220 mar  6 13:07 \u001b[01;34m.git\u001b[0m/\r\n",
      "-rw-rw-r--. 1 oi oi  1203 mar  4 17:50 .gitignore\r\n",
      "drwxrwxr-x. 2 oi oi    56 mar  6 12:12 \u001b[01;34mImagenes\u001b[0m/\r\n",
      "drwxr-xr-x. 2 oi oi   239 mar  6 14:40 \u001b[01;34m.ipynb_checkpoints\u001b[0m/\r\n",
      "-rw-rw-r--. 1 oi oi  1068 mar  4 17:50 LICENSE\r\n",
      "-rw-rw-r--. 1 oi oi  1026 mar  4 17:50 README.md\r\n"
     ]
    }
   ],
   "source": [
    "ls -al"
   ]
  },
  {
   "cell_type": "markdown",
   "metadata": {},
   "source": [
    "## Cierre de la sesión.\n",
    "\n",
    "Para cerrar la sesión en una terminal se utiliza el comando ```exit```."
   ]
  },
  {
   "cell_type": "markdown",
   "metadata": {},
   "source": [
    "## Cómo obtener ayuda.\n",
    "\n",
    "Existen ciertos comandos que nos permiten buscar ayuda sobre otros comandos del sistema.\n",
    "* _man_.\n",
    "\n",
    "``` \n",
    "man <comando>\n",
    "```\n",
    "* _apropos_.\n",
    "\n",
    "``` \n",
    "apropos <termino>\n",
    "```\n",
    "* _which_.\n",
    "* _whatis_."
   ]
  },
  {
   "cell_type": "code",
   "execution_count": 7,
   "metadata": {},
   "outputs": [],
   "source": [
    "man ls"
   ]
  },
  {
   "cell_type": "code",
   "execution_count": 2,
   "metadata": {},
   "outputs": [
    {
     "name": "stdout",
     "output_type": "stream",
     "text": [
      "ctstat (8)           - unified linux network statistics\n",
      "dhclient-script (8)  - DHCP client network configuration script\n",
      "ethtool (8)          - query or control network driver and hardware settings\n",
      "function::htonl (3stap) - Convert 32-bit long from host to network order\n",
      "function::htonll (3stap) - Convert 64-bit long long from host to network order\n",
      "function::htons (3stap) - Convert 16-bit short from host to network order\n",
      "function::ntohl (3stap) - Convert 32-bit long from network to host order\n",
      "function::ntohll (3stap) - Convert 64-bit long long from network to host order\n",
      "function::ntohs (3stap) - Convert 16-bit short from network to host order\n",
      "ifdown (8)           - bring a network interface up\n",
      "ifenslave (8)        - Attach and detach slave network devices to a bonding d...\n",
      "ifstat (8)           - handy utility to read network interface statistics\n",
      "ifup (8)             - bring a network interface up\n",
      "ip-link (8)          - network device configuration\n",
      "ip-netconf (8)       - network configuration monitoring\n",
      "ip-netns (8)         - process network namespace management\n",
      "libpng (3)           - Portable Network Graphics (PNG) Reference Library 1.5.13\n",
      "libpngpf (3)         - Portable Network Graphics (PNG) Reference Library 1.5....\n",
      "lnstat (8)           - unified linux network statistics\n",
      "Net::Cmd (3pm)       - Network Command class (as used by FTP, SMTP etc)\n",
      "Net::Time (3pm)      - time and daytime network client interface\n",
      "netreport (1)        - request notification of network interface changes\n",
      "networkctl (1)       - Query the status of network links\n",
      "NetworkManager (8)   - network management daemon\n",
      "NetworkManager.conf (5) - NetworkManager configuration file\n",
      "nm-online (1)        - ask NetworkManager whether the network is connected\n",
      "nm-settings (5)      - Description of settings and properties of NetworkManag...\n",
      "nm-system-settings.conf (5) - NetworkManager configuration file\n",
      "nmcli (1)            - command-line tool for controlling NetworkManager\n",
      "nmtui (1)            - Text User Interface for controlling NetworkManager\n",
      "nmtui-connect (1)    - Text User Interface for controlling NetworkManager\n",
      "nmtui-edit (1)       - Text User Interface for controlling NetworkManager\n",
      "nmtui-hostname (1)   - Text User Interface for controlling NetworkManager\n",
      "nstat (8)            - network statistics tools.\n",
      "perlfaq9 (1)         - Web, Email and Networking\n",
      "ping (8)             - send ICMP ECHO_REQUEST to network hosts\n",
      "ping6 (8)            - send ICMP ECHO_REQUEST to network hosts\n",
      "png (5)              - Portable Network Graphics (PNG) format\n",
      "probe::netdev.receive (3stap) - Data received from network device.\n",
      "probe::netdev.transmit (3stap) - Network device transmitting buffer\n",
      "probe::stap.cache_add_nss (3stap) - Add NSS (Network Security Services) infor...\n",
      "rdisc (8)            - network router discovery daemon\n",
      "rtacct (8)           - network statistics tools.\n",
      "rtstat (8)           - unified linux network statistics\n",
      "Socket (3pm)         - networking constants and support functions\n",
      "systemd-journal-upload (8) - Send journal messages over the network\n",
      "tapset::networking (3stap) - systemtap networking tapset\n",
      "tc-netem (8)         - Network Emulator\n",
      "teamd (8)            - team network device control daemon\n",
      "teamnl (8)           - team network device Netlink interface tool\n",
      "tracepath (8)        - traces path to a network host discovering MTU along th...\n",
      "tracepath6 (8)       - traces path to a network host discovering MTU along th...\n",
      "usernetctl (8)       - allow a user to manipulate a network interface if perm...\n",
      "wget (1)             - The non-interactive network downloader.\n"
     ]
    }
   ],
   "source": [
    "apropos network"
   ]
  },
  {
   "cell_type": "code",
   "execution_count": 3,
   "metadata": {},
   "outputs": [
    {
     "name": "stdout",
     "output_type": "stream",
     "text": [
      "/usr/bin/ls\n"
     ]
    }
   ],
   "source": [
    "which ls"
   ]
  },
  {
   "cell_type": "code",
   "execution_count": 4,
   "metadata": {},
   "outputs": [
    {
     "name": "stdout",
     "output_type": "stream",
     "text": [
      "ls (1)               - list directory contents\n"
     ]
    }
   ],
   "source": [
    "whatis ls"
   ]
  },
  {
   "cell_type": "markdown",
   "metadata": {},
   "source": [
    "<p style=\"text-align: center\"><a rel=\"license\" href=\"http://creativecommons.org/licenses/by/4.0/\"><img alt=\"Licencia Creative Commons\" style=\"border-width:0\" src=\"https://i.creativecommons.org/l/by/4.0/80x15.png\" /></a><br />Esta obra está bajo una <a rel=\"license\" href=\"http://creativecommons.org/licenses/by/4.0/\">Licencia Creative Commons Atribución 4.0 Internacional</a>.</p>\n",
    "<p style=\"text-align: center\">&copy; José Luis Chiquete Valdivieso. 2019.</p>"
   ]
  }
 ],
 "metadata": {
  "kernelspec": {
   "display_name": "Bash",
   "language": "bash",
   "name": "bash"
  },
  "language_info": {
   "codemirror_mode": "shell",
   "file_extension": ".sh",
   "mimetype": "text/x-sh",
   "name": "bash"
  }
 },
 "nbformat": 4,
 "nbformat_minor": 2
}
