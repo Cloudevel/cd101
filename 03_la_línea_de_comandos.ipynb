{
 "cells": [
  {
   "cell_type": "markdown",
   "metadata": {},
   "source": [
    "[![cloudevel](Imagenes/cloudevel.png)](https://cloudevel.com)"
   ]
  },
  {
   "cell_type": "markdown",
   "metadata": {},
   "source": [
    "## Terminales.\n",
    "\n",
    "Tanto GNU/Linux como UNIX se basan en la arquitectura \"cliente-servidor\", la cual permite a múltiples usuarios conectarse y accceder de forma simultánea a un servidor mediante una o más \"sesiones\". \n",
    "\n",
    "A la interfaz de conexión de un cliente a un servidor Linux, se le conoce como terminal.\n"
   ]
  },
  {
   "cell_type": "markdown",
   "metadata": {},
   "source": [
    "### Terminales de texto.\n",
    "\n",
    "La terminal de texto, también conocida como consola,  es la interfaz básica de un sistema UNIX y GNU/Linux. \n",
    "\n",
    "Las terminales de texto emulan a una pantalla que despliega caracteres de texto y pro lo general requieren de un usuario y contraseña válida para iniciar una sesión en el servidor al que se conectan. \n",
    "\n",
    "La interfaz de entrada es por medio del teclado y la de salida se realiza mediante el despliegue de caracteres en la pantalla."
   ]
  },
  {
   "cell_type": "markdown",
   "metadata": {},
   "source": [
    "**Ejemplo:**\n",
    "\n",
    "Las siguientes imágenes ilustra el acceso a la terminal desplegada por la máquina virtual proporcionada por Cloudevel<sup>®</sup>"
   ]
  },
  {
   "cell_type": "markdown",
   "metadata": {},
   "source": [
    "* La terminal requiere ingresar un usuario y una contraseña válida.\n",
    "\n",
    "<img src=\"Imagenes/03/login.png\" width=\"70%\">"
   ]
  },
  {
   "cell_type": "markdown",
   "metadata": {},
   "source": [
    "* En este caso el usuario es *oi* y la contraseña *0p3n5t4ck*.\n",
    "\n",
    "<img src=\"Imagenes/03/password.png\" width=\"70%\">"
   ]
  },
  {
   "cell_type": "markdown",
   "metadata": {},
   "source": [
    "* Una vez que los datos son validados, se tiene acceso al shell.\n",
    "\n",
    "<img src=\"Imagenes/03/inicio.png\" width=\"70%\">"
   ]
  },
  {
   "cell_type": "markdown",
   "metadata": {},
   "source": [
    "### Terminales gráficas.\n",
    "\n",
    "Tanto los sistemas UNIX modernos como los sistemas GNU/Linux permiten gestionar terminales gráficas por medio de servidores especializados en el despliegue de dichas interfaces. \n",
    "\n",
    "Un sistema de este tipo cuenta con un servidor de entorno gráfico al cual pueden conectarse diversos clientes. \n",
    "\n",
    "El [\"Sistema de ventanas X\"](https://es.wikipedia.org/wiki/Sistema_de_ventanas_X) o simplemente \"las X\" es el sistema más popular en UNIX y GNU/Linux, mientras que MacOS X utiliza [Quartz](https://en.wikipedia.org/wiki/Quartz_(graphics_layer).\n",
    "\n",
    "### Entornos de escritorio de Linux.\n",
    "\n",
    "Las X sólo proporcionan un servicio básico de despliege de elementos gráficos y de entanas simples, por lo que junto con estas, se utilizan gestores de entornos de escritorio, los cuales permiten correr diversas aplicaciones.\n",
    "\n",
    "Los entornos gráficos más populares son\n",
    "* [KDE](https://kde.org/)\n",
    "* [GNOME](https://gnome.org).\n",
    "* [Mate](https://mate-desktop.org/).\n",
    "\n",
    "**Nota:** Este curso tiene por objetivo aprovechar las capacidades de las terminales de texto."
   ]
  },
  {
   "cell_type": "markdown",
   "metadata": {},
   "source": [
    "## El shell.\n",
    "\n",
    "La terminal o consola es  únicamente la interfaz que gestiona la entrada y salida de una conexión. Cuando un usuario inicia una sesión en una terminal, esta por lo general le asigna un entorno interactivo que se conoce como *shell*.\n",
    "\n",
    "Un shell permite interactuar con el servidor mediante comandos predefindos y también ejecutando aplicaciones del sistema. \n",
    "\n",
    "Existen varios shell para UNIX y Linux.\n",
    "* [*C shell*](https://en.wikipedia.org/wiki/C_shell) (csh y tcsh).\n",
    "* [*Zshell*](https://en.wikipedia.org/wiki/Z_shell) (zsh).\n",
    "* [*Korn shell*](https://en.wikipedia.org/wiki/KornShell)(ksh).\n",
    "* [*Bourne shell*](https://en.wikipedia.org/wiki/Bourne_shell) (sh).\n",
    "* [*Bourne-again shell*](https://en.wikipedia.org/wiki/Bash_(Unix_shell) (bash).\n",
    "\n",
    "En este curso se utilizará *Bash*."
   ]
  },
  {
   "cell_type": "markdown",
   "metadata": {},
   "source": [
    "## El prompt.\n",
    "\n",
    "Una vez que se ha iniciado una sesión ingresando una sesión ingresando los datos de un usuario y una contraseña válidos, la terminal desplegara una serie de caracteres a la izquierda de una línea de inicio y a su derecha un cursos parpadeando. A esto se le conoce como \"el prompt\"."
   ]
  },
  {
   "cell_type": "markdown",
   "metadata": {},
   "source": [
    "## Ejecución de comandos.\n",
    "\n",
    "Los comandos de una terminal tiene la siguiente estructura:\n",
    "\n",
    "```\n",
    "<comando> <subcomando> <opciones> <argumentos>\n",
    "```"
   ]
  },
  {
   "cell_type": "markdown",
   "metadata": {},
   "source": [
    "### Ejecución de comandos en las notebooks de Jupyter.\n",
    "\n",
    "Las notebooks de Jupyter utilizadas en este curso no son terminales, sino interfaces que se conectan a un shell de bash.\n",
    "\n",
    "Debido a lo anterior, las celdas de código de las notebooks pueden ejecutar comandos de bash de forma directa.\n",
    "\n",
    "**ADVERTENCIA:** Las celdas sólo pueden enviar comandos y desplegar el resultado de estos comandos. Si existe algún tipo de interacción adicional por parte del shell, la celda se quedará bloqueada y será necesario interrumpir el kernel para salir de ese estado."
   ]
  },
  {
   "cell_type": "markdown",
   "metadata": {},
   "source": [
    "**Ejemplos:**\n",
    "\n",
    "* El siguiente comando indicará el directorio en el que se encuentra esta notebook."
   ]
  },
  {
   "cell_type": "code",
   "execution_count": null,
   "metadata": {},
   "outputs": [],
   "source": [
    "pwd"
   ]
  },
  {
   "cell_type": "markdown",
   "metadata": {},
   "source": [
    "* El siguiente comando traerá un listado completo del directorio *home* del usuario corriendo Jupyter, incluyendo los archivos escondidos."
   ]
  },
  {
   "cell_type": "code",
   "execution_count": null,
   "metadata": {},
   "outputs": [],
   "source": [
    "ls ~ -al"
   ]
  },
  {
   "cell_type": "markdown",
   "metadata": {},
   "source": [
    "## Cómo obtener ayuda.\n",
    "\n",
    "Existen ciertos comandos que nos permiten buscar ayuda sobre otros comandos del sistema."
   ]
  },
  {
   "cell_type": "markdown",
   "metadata": {},
   "source": [
    "### Las *man pages*.\n",
    "\n",
    "Una de las mejores prácticas al desarrollar aplicaciones en Linux y en UNIX es que por lo general, cada comando contiene documentacióne detallada en forma de manual a la que se conoce como *man page*.\n",
    "\n",
    "Las *man page* describen el funcionamiento de un comando y todas las opciones y parámentros que puede aceptar, incluyendo una breve descripción.\n"
   ]
  },
  {
   "cell_type": "markdown",
   "metadata": {},
   "source": [
    "### El comando *man*.\n",
    "\n",
    "Para acceder a la *man page* de un comando se utiliza el comando ```man```.\n",
    "\n",
    "``` \n",
    "man <comando>\n",
    "```\n",
    "\n",
    "Este comando desplegará la *man page* en una ventana que le permite al usuario desplazarse por el texto utilizando las teclas:\n",
    "* <kbd>Arriba</kbd>\n",
    "* <kbd>Abajo</kbd>\n",
    "* <kbd>Página Arriba</kbd>\n",
    "* <kbd>Página Abajo</kbd>\n",
    "* <kbd>Inicio</kbd>\n",
    "* <kbd>Fin</kbd>\n",
    "\n",
    "Para obtener ayuda se presiona la tecla <kbd>h</kbd>.\n",
    "\n",
    "Para salir de la ventana de ayuda se presiona la tecla <kbd>q</kbd>."
   ]
  },
  {
   "cell_type": "markdown",
   "metadata": {},
   "source": [
    "**Ejemplos:**\n",
    "\n",
    "* En el caso de la siguiente celda, se abrirá una la ventana con la *man page* del comando ```ls``` que puede ser vista usando el desplazamiento del mouse o la barra de desplazamiento lateral."
   ]
  },
  {
   "cell_type": "code",
   "execution_count": null,
   "metadata": {},
   "outputs": [],
   "source": [
    "man ls"
   ]
  },
  {
   "cell_type": "markdown",
   "metadata": {},
   "source": [
    "* El comando de la celda previa ejecutado desde la terminal de la máquina virtual se ve de la siguiente forma: "
   ]
  },
  {
   "cell_type": "markdown",
   "metadata": {},
   "source": [
    "<img src=\"Imagenes/03/man.png\" width=\"70%\">"
   ]
  },
  {
   "cell_type": "markdown",
   "metadata": {},
   "source": [
    "### El comando ```whatis```.\n",
    "\n",
    "Este comando ```whatis``` trae sólo la descripción del comando buscado.\n",
    "\n",
    "```whatis <comando>```"
   ]
  },
  {
   "cell_type": "markdown",
   "metadata": {},
   "source": [
    "**Ejemplo:**\n",
    "\n",
    "* La siguiente celda despelgará la descripción del comando ```pwd```."
   ]
  },
  {
   "cell_type": "code",
   "execution_count": null,
   "metadata": {},
   "outputs": [],
   "source": [
    "whatis pwd"
   ]
  },
  {
   "cell_type": "markdown",
   "metadata": {},
   "source": [
    "## El comando ```apropos```.\n",
    "\n",
    "El comando ```apropos``` regresa una lista de comandos que incluyan el término inidicado en la descripción de su *man page*.\n",
    "\n",
    "```\n",
    "apropos <término>\n",
    "```"
   ]
  },
  {
   "cell_type": "markdown",
   "metadata": {},
   "source": [
    "**Ejemplo:**\n",
    "\n",
    "* La siguiente celda traerá un listado de comandos que contengan el término *network* en su *man page*."
   ]
  },
  {
   "cell_type": "code",
   "execution_count": null,
   "metadata": {
    "scrolled": true
   },
   "outputs": [],
   "source": [
    "apropos network"
   ]
  },
  {
   "cell_type": "markdown",
   "metadata": {},
   "source": [
    "### El comando ```which```.\n",
    "\n",
    "Este comando indica la ruta en la que se encuentra el comando consulado.\n",
    "\n",
    "```\n",
    "which <comando>\n",
    "```"
   ]
  },
  {
   "cell_type": "markdown",
   "metadata": {},
   "source": [
    "**Ejemplo:**\n",
    "\n",
    "* La siguiente celda desplegará la ruta donde se encuentra el comando ```ls```."
   ]
  },
  {
   "cell_type": "code",
   "execution_count": null,
   "metadata": {},
   "outputs": [],
   "source": [
    "which ls"
   ]
  },
  {
   "cell_type": "markdown",
   "metadata": {},
   "source": [
    "## Cierre de la sesión.\n",
    "\n",
    "Para cerrar la sesión en una terminal se utiliza el comando ```exit```."
   ]
  },
  {
   "cell_type": "markdown",
   "metadata": {},
   "source": [
    "<p style=\"text-align: center\"><a rel=\"license\" href=\"http://creativecommons.org/licenses/by/4.0/\"><img alt=\"Licencia Creative Commons\" style=\"border-width:0\" src=\"https://i.creativecommons.org/l/by/4.0/80x15.png\" /></a><br />Esta obra está bajo una <a rel=\"license\" href=\"http://creativecommons.org/licenses/by/4.0/\">Licencia Creative Commons Atribución 4.0 Internacional</a>.</p>\n",
    "<p style=\"text-align: center\">&copy; José Luis Chiquete Valdivieso. 2019.</p>"
   ]
  }
 ],
 "metadata": {
  "kernelspec": {
   "display_name": "Bash",
   "language": "bash",
   "name": "bash"
  },
  "language_info": {
   "codemirror_mode": "shell",
   "file_extension": ".sh",
   "mimetype": "text/x-sh",
   "name": "bash"
  }
 },
 "nbformat": 4,
 "nbformat_minor": 2
}
