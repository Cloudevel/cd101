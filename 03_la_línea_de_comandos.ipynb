{
 "cells": [
  {
   "cell_type": "markdown",
   "metadata": {},
   "source": [
    "[![cloudevel](Imagenes/cloudevel.png)](https://cloudevel.com)"
   ]
  },
  {
   "cell_type": "markdown",
   "metadata": {},
   "source": [
    "## Terminales.\n",
    "\n",
    "Tanto GNU/Linux como UNIX se basan en la arquitectura \"cliente-servidor\", la cual permite a múltiples usuarios conectarse y accceder de forma simultánea a un servidor mediante una o más \"sesiones\". \n",
    "\n",
    "A la interfaz de conexión de un cliente a un servidor Linux, se le conoce como terminal.\n",
    "\n",
    "### Terminales de texto.\n",
    "\n",
    "La terminal de texto es la interfaz básica de un sistema UNIX y GNU/Linux dicha terminal emula a una pantalla que despliega caracteres de texto primordialmente. La interfaz de entrada es por medio del teclado y la salida mediante el despliegue de caracteres en la pantalla.\n",
    "\n",
    "### Terminales gráficas.\n",
    "\n",
    "Tanto los sistemas UNIX modernos como los sistemas GNU/Linux permiten desplegar terminales gráficas por medio de servidores especializados en dichas interfaces. Un sistema de este tipo cuenta con un servidor de entorno gráfico al cual puedem conectarse diversos clientes. \n",
    "\n",
    "El [\"Sistema de ventanas X\"](https://es.wikipedia.org/wiki/Sistema_de_ventanas_X) o simplemente \"las X\" es el sistema más popular en UNIX y GNU/Linux, mientras que MacOS X utiliza [Quartz](https://en.wikipedia.org/wiki/Quartz_(graphics_layer).\n",
    "\n",
    "### Entornos de escritorio de Linux.\n",
    "\n",
    "Las X sólo proporcionan un servicio básico de despliege de elementos gráficos, por lo que junto con estas, se utilizan gestores de entornos de escritorio, los cuales permiten correr diversas aplicaciones.\n",
    "\n",
    "Los entornos gráficos más populares son\n",
    "* [KDE](https://kde.org/)\n",
    "* [GNOME](https://gnome.org).\n",
    "* [Mate](https://mate-desktop.org/).\n",
    "\n",
    "**Nota:** Este curso tiene por objetivo aprovechar las capacidades de las terminales de texto."
   ]
  },
  {
   "cell_type": "markdown",
   "metadata": {},
   "source": [
    "## El shell.\n",
    "\n",
    "La terminal o consola es  únicamente la interfaz que gestiona la entrada y salida de una conexión. Cuando un usuario inicia una sesión en una terminal, esta por lo general le asigna un entorno interactivo que se conoce como *shell*.\n",
    "\n",
    "Un shell permite interactuar con el servidor mediante comandos propios o ejecutando aplicaciones. Existen varios shell para UNIX y Linux.\n",
    "* [*C shell*](https://en.wikipedia.org/wiki/C_shell) (csh y tcsh).\n",
    "* [*Zshell*](https://en.wikipedia.org/wiki/Z_shell) (zsh).\n",
    "* [*Korn shell*](https://en.wikipedia.org/wiki/KornShell)(ksh).\n",
    "* [*Bourne shell*](https://en.wikipedia.org/wiki/KornShell)(sh).\n",
    "* [*Bourne-again shell*](https://en.wikipedia.org/wiki/Bash_(Unix_shell) (bash)."
   ]
  },
  {
   "cell_type": "markdown",
   "metadata": {},
   "source": [
    "## El prompt.\n",
    "\n",
    "Una vez que se ha iniciado una sesión ingresando una sesión ingresando los datos de un usuario y una contraseña válidos, la terminal desplegara una serie de caracteres a la izquierda de una línea de inicio y a su derecha un cursos parpadeando. A esto se le conoce ocmo \"el prompt\"."
   ]
  },
  {
   "cell_type": "markdown",
   "metadata": {},
   "source": [
    "## Ejecución de comandos.\n",
    "\n",
    "Los comandos de una terminal tiene la siguiente estructura:\n",
    "\n",
    "```\n",
    "<comando> <subcomando> <opciones> <argumentos>\n",
    "```"
   ]
  },
  {
   "cell_type": "markdown",
   "metadata": {},
   "source": [
    "**Ejemplos:**\n",
    "\n",
    "* El siguiente comando indicará el directorio en el que se encuentra esta notebook."
   ]
  },
  {
   "cell_type": "code",
   "execution_count": null,
   "metadata": {},
   "outputs": [],
   "source": [
    "pwd"
   ]
  },
  {
   "cell_type": "markdown",
   "metadata": {},
   "source": [
    "* El siguiente comando traerá un listado simple del directorio."
   ]
  },
  {
   "cell_type": "code",
   "execution_count": null,
   "metadata": {},
   "outputs": [],
   "source": [
    "ls"
   ]
  },
  {
   "cell_type": "markdown",
   "metadata": {},
   "source": [
    "* El siguiente comando traerá un listado con información adicional de todo el contenido del directorio actual, incluyendo los archivos ocultos."
   ]
  },
  {
   "cell_type": "code",
   "execution_count": null,
   "metadata": {},
   "outputs": [],
   "source": [
    "ls -al"
   ]
  },
  {
   "cell_type": "markdown",
   "metadata": {},
   "source": [
    "## Cómo obtener ayuda.\n",
    "\n",
    "Existen ciertos comandos que nos permiten buscar ayuda sobre otros comandos del sistema.\n",
    "* _man_.\n",
    "* _apropos_.\n",
    "* _which_.\n",
    "* _whatis_."
   ]
  },
  {
   "cell_type": "markdown",
   "metadata": {},
   "source": [
    "<p style=\"text-align: center\"><a rel=\"license\" href=\"http://creativecommons.org/licenses/by/4.0/\"><img alt=\"Licencia Creative Commons\" style=\"border-width:0\" src=\"https://i.creativecommons.org/l/by/4.0/80x15.png\" /></a><br />Esta obra está bajo una <a rel=\"license\" href=\"http://creativecommons.org/licenses/by/4.0/\">Licencia Creative Commons Atribución 4.0 Internacional</a>.</p>\n",
    "<p style=\"text-align: center\">&copy; José Luis Chiquete Valdivieso. 2019.</p>"
   ]
  }
 ],
 "metadata": {
  "kernelspec": {
   "display_name": "Python 3",
   "language": "python",
   "name": "python3"
  },
  "language_info": {
   "codemirror_mode": {
    "name": "ipython",
    "version": 3
   },
   "file_extension": ".py",
   "mimetype": "text/x-python",
   "name": "python",
   "nbconvert_exporter": "python",
   "pygments_lexer": "ipython3",
   "version": "3.6.3"
  }
 },
 "nbformat": 4,
 "nbformat_minor": 2
}
