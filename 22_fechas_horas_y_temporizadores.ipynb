{
 "cells": [
  {
   "cell_type": "markdown",
   "metadata": {},
   "source": [
    "[![cloudevel](img/cloudevel.png)](https://cloudevel.com)"
   ]
  },
  {
   "cell_type": "markdown",
   "metadata": {},
   "source": [
    "# Fechas y temporizadores."
   ]
  },
  {
   "cell_type": "markdown",
   "metadata": {},
   "source": [
    "## Preliminares."
   ]
  },
  {
   "cell_type": "markdown",
   "metadata": {},
   "source": [
    "### El contador de tiempo de *UNIX* y *GNU/Linux*."
   ]
  },
  {
   "cell_type": "markdown",
   "metadata": {},
   "source": [
    "### Zonas horarias.\n",
    "\n",
    "https://en.wikipedia.org/wiki/List_of_tz_database_time_zones"
   ]
  },
  {
   "cell_type": "markdown",
   "metadata": {},
   "source": [
    "### El protocolo *NTP*."
   ]
  },
  {
   "cell_type": "markdown",
   "metadata": {},
   "source": [
    "## El comando ```date```.\n",
    "\n",
    "Este comando permite desplegar i fijar la hora de un sistema en caso de que se cuenten con los permisos."
   ]
  },
  {
   "cell_type": "markdown",
   "metadata": {},
   "source": [
    "### Despliegue de la fecha y hora.\n",
    "\n",
    "```\n",
    "date +%<formato 1><caracter 1>%<formato 2><caracter 2>...<caracter m>%formato<n>\n",
    "```"
   ]
  },
  {
   "cell_type": "markdown",
   "metadata": {},
   "source": [
    "#### Formatos:\n",
    "\n",
    "* ```%D``` despliega la fecha en formato *MM/DD/AA*.\n",
    "* ```%T``` despliega la hora en formato *HH:MM:SS*.\n",
    "* ```%Z``` despliega la zona horaria.\n",
    "* ```*z``` despliega la diferencia de hora con respecto al *GMT* .\n"
   ]
  },
  {
   "cell_type": "markdown",
   "metadata": {},
   "source": [
    "**Ejemplos:**"
   ]
  },
  {
   "cell_type": "code",
   "execution_count": null,
   "metadata": {
    "scrolled": true
   },
   "outputs": [],
   "source": [
    "date"
   ]
  },
  {
   "cell_type": "code",
   "execution_count": null,
   "metadata": {
    "scrolled": true
   },
   "outputs": [],
   "source": [
    "date +%T"
   ]
  },
  {
   "cell_type": "code",
   "execution_count": null,
   "metadata": {
    "scrolled": true
   },
   "outputs": [],
   "source": [
    "date +%D"
   ]
  },
  {
   "cell_type": "code",
   "execution_count": null,
   "metadata": {
    "scrolled": true
   },
   "outputs": [],
   "source": [
    "date +%s"
   ]
  },
  {
   "cell_type": "code",
   "execution_count": null,
   "metadata": {
    "scrolled": true
   },
   "outputs": [],
   "source": [
    "date +%D_%T-%S"
   ]
  },
  {
   "cell_type": "code",
   "execution_count": null,
   "metadata": {
    "scrolled": true
   },
   "outputs": [],
   "source": [
    "date +%D_%T-%S:%Z:%z"
   ]
  },
  {
   "cell_type": "code",
   "execution_count": null,
   "metadata": {
    "scrolled": true
   },
   "outputs": [],
   "source": [
    "TZ='America/Los_Angeles' date"
   ]
  },
  {
   "cell_type": "code",
   "execution_count": null,
   "metadata": {
    "scrolled": true
   },
   "outputs": [],
   "source": [
    "date -r LICENSE"
   ]
  },
  {
   "cell_type": "code",
   "execution_count": null,
   "metadata": {
    "scrolled": true
   },
   "outputs": [],
   "source": [
    "date --date='@1587383647'"
   ]
  },
  {
   "cell_type": "markdown",
   "metadata": {},
   "source": [
    "### La *manpage* de ```date```."
   ]
  },
  {
   "cell_type": "code",
   "execution_count": null,
   "metadata": {
    "scrolled": true
   },
   "outputs": [],
   "source": [
    "man date"
   ]
  },
  {
   "cell_type": "markdown",
   "metadata": {},
   "source": [
    "## El comando ```timedatectl```."
   ]
  },
  {
   "cell_type": "code",
   "execution_count": null,
   "metadata": {
    "scrolled": false
   },
   "outputs": [],
   "source": [
    "timedatectl"
   ]
  },
  {
   "cell_type": "code",
   "execution_count": null,
   "metadata": {
    "scrolled": false
   },
   "outputs": [],
   "source": [
    "man timedatectl"
   ]
  },
  {
   "cell_type": "markdown",
   "metadata": {},
   "source": [
    "## El comando ```at```."
   ]
  },
  {
   "cell_type": "code",
   "execution_count": null,
   "metadata": {
    "scrolled": true
   },
   "outputs": [],
   "source": [
    "systemctl status atd --no-pager"
   ]
  },
  {
   "cell_type": "code",
   "execution_count": null,
   "metadata": {
    "scrolled": false
   },
   "outputs": [],
   "source": [
    "man at now"
   ]
  },
  {
   "cell_type": "markdown",
   "metadata": {},
   "source": [
    "## Temporizadores.\n",
    "\n",
    "Un temporizador (scheduler) en la tradición de UNIX y GNU/Linux es un daemon que ejecuta tareas preestablecidas en intervalos de tiempo definidos.\n",
    "\n",
    "El uso de los temporizadores permite realizar diversas acciones repetitivas sin la necesidad de ser ejecutadas manualmente.\n",
    "\n",
    "Aún cuando existen varios temporizadores para UNIX y GNU/Linux, el más común es ```cron```."
   ]
  },
  {
   "cell_type": "code",
   "execution_count": null,
   "metadata": {
    "scrolled": true
   },
   "outputs": [],
   "source": []
  },
  {
   "cell_type": "code",
   "execution_count": null,
   "metadata": {
    "scrolled": true
   },
   "outputs": [],
   "source": []
  },
  {
   "cell_type": "markdown",
   "metadata": {},
   "source": [
    "## El daemon  ```crond```.\n",
    "\n",
    "Los temporizadores están ligados a un daemon el cual se encarga de ejecutar los comandos indicados a la hora definida."
   ]
  },
  {
   "cell_type": "markdown",
   "metadata": {},
   "source": [
    "**Ejemplo:**\n",
    "\n",
    "En el caso de es que esta notebook sea ejecutada desde la máquina virtual proporcionada por Cloudevel<sup>®</sup>, es posible conocer el estado del servicio mediante la siguiente instrucción."
   ]
  },
  {
   "cell_type": "code",
   "execution_count": null,
   "metadata": {
    "scrolled": true
   },
   "outputs": [],
   "source": [
    "sudo systemctl status cron --no-pager"
   ]
  },
  {
   "cell_type": "markdown",
   "metadata": {},
   "source": [
    "### Los archivos *crontab*.\n",
    "\n",
    "Las tablas de cron o \"crontabs\" son archivos de texto que contienen una serie de líneas que decriben la ejecución de un comando específico en un tiempo determinado.\n",
    "\n",
    "Cada línea del archivo crontab se apegarse al siguiente formato:\n",
    "\n",
    "```\n",
    "* * * * * comando(s)\n",
    "- - - - -\n",
    "| | | | |\n",
    "| | | | ----- Día de la semana (0 - 7) (Sunday=0 or 7)\n",
    "| | | ------- Mes (1 - 12)\n",
    "| | --------- Día del mes(1 - 31)\n",
    "| ----------- Hora (0 - 23)\n",
    "------------- Minutos (0 - 59)\n",
    "```\n",
    "\n",
    "Cuando se utiliza el asterisco * , se está haciendo la indicación de que el comando aplica a todas las opciones de tiempo correspondientes.\n",
    "\n",
    "Los archivos *crontab* se localizan en el directorio */var/spool/cron/*"
   ]
  },
  {
   "cell_type": "code",
   "execution_count": null,
   "metadata": {
    "scrolled": true
   },
   "outputs": [],
   "source": [
    "sudo ls /var/spool/cron"
   ]
  },
  {
   "cell_type": "markdown",
   "metadata": {},
   "source": [
    "**Ejemplo:**\n",
    "\n",
    "La siguiente línea:\n",
    "\n",
    "```\n",
    "30   3    *    *    1 apt update  \n",
    "```\n",
    "\n",
    "Indica que se ejecutará el comando ```apt update``` cada lunes a las 3:30 horas."
   ]
  },
  {
   "cell_type": "markdown",
   "metadata": {},
   "source": [
    "### El comando ```crontab```.\n",
    "\n",
    "No se recomienda editar los archivos *crontab* directamente. El comando ```crontab``` permite manipular un  archivo de este tipo para el usuario actual en caso de que cuente con los permisos para realizar estas operaciones.\n",
    "\n",
    "```\n",
    "crontab <opciones> <argumentos>\n",
    "```\n",
    "Las principales opciones de este comando son:\n",
    "\n",
    "* ```-e``` permite editar un archivo crontab para el usuario actual. En caso de que no exista, se creará un archivo temporal.\n",
    "* ```-l``` enlista el contendo del archivo crontab del usuario.\n",
    "* ```-r``` elimina el archivo crontab."
   ]
  },
  {
   "cell_type": "markdown",
   "metadata": {},
   "source": [
    "**Ejemplos:**"
   ]
  },
  {
   "cell_type": "markdown",
   "metadata": {},
   "source": [
    "* La siguiente celda desplegará el contenido del archivo *crontab* del usuario actual.\n",
    "\n",
    "Si no existe un archivo para el usuario, este no desplegará nada."
   ]
  },
  {
   "cell_type": "markdown",
   "metadata": {},
   "source": [
    "* Ejecute el comando ```crontab -e``` desde una terminal y añada la siguiente línea: \n",
    "\n",
    "```25 16 * * * echo \"Saludos\" >> ~/saludos.txt```\n",
    "\n",
    "Lo anterior hará que el texto *Saludos\" sea añadido al archivo *~/saludos.txt* a las 14:25 horas diariamente."
   ]
  },
  {
   "cell_type": "code",
   "execution_count": null,
   "metadata": {
    "scrolled": true
   },
   "outputs": [],
   "source": [
    "crontab -l"
   ]
  },
  {
   "cell_type": "code",
   "execution_count": null,
   "metadata": {
    "scrolled": true
   },
   "outputs": [],
   "source": [
    "ls ~/saludos.txt"
   ]
  },
  {
   "cell_type": "code",
   "execution_count": null,
   "metadata": {
    "scrolled": false
   },
   "outputs": [],
   "source": [
    "cat ~/saludos.txt"
   ]
  },
  {
   "cell_type": "markdown",
   "metadata": {},
   "source": [
    "* La siguiente celda elimininará el crontab del usuario actual. "
   ]
  },
  {
   "cell_type": "code",
   "execution_count": null,
   "metadata": {
    "scrolled": true
   },
   "outputs": [],
   "source": [
    "crontab -r"
   ]
  },
  {
   "cell_type": "code",
   "execution_count": null,
   "metadata": {
    "scrolled": true
   },
   "outputs": [],
   "source": [
    "crontab -l"
   ]
  },
  {
   "cell_type": "markdown",
   "metadata": {},
   "source": [
    "## Archivos y directorios relevantes de ```crond```.\n",
    "\n",
    "El daemon ```crond``` cuenta con algunos archivos que pueden ser utilizados por *root*.\n",
    "\n",
    "### Archivos de permisos.\n",
    "\n",
    "Los suguientes archivos delimitan a los usuarios que pueden o no utilizar crear *crontabs*.\n",
    "\n",
    "* */etc/cron.allow* contiene una lista de los usuarios autorizados.\n",
    "* */etc/cron.deny* contiene una lista de los usuarios autorizados."
   ]
  },
  {
   "cell_type": "code",
   "execution_count": null,
   "metadata": {
    "scrolled": true
   },
   "outputs": [],
   "source": [
    "sudo ls /etc/cron.d/"
   ]
  },
  {
   "cell_type": "code",
   "execution_count": null,
   "metadata": {
    "scrolled": true
   },
   "outputs": [],
   "source": [
    "sudo ls /etc/cron.deny"
   ]
  },
  {
   "cell_type": "code",
   "execution_count": null,
   "metadata": {
    "scrolled": true
   },
   "outputs": [],
   "source": [
    "sudo ls /etc/cron.allow"
   ]
  },
  {
   "cell_type": "markdown",
   "metadata": {},
   "source": [
    "### Archivos de administración.\n",
    "\n",
    "Estos archivos contienen una serie de comandos que pueden ser ejecutados en un momento específico.\n",
    "\n",
    "* */etc/cron.hourly* se ejecutarán en el primer segundo del primer minuto de cada hora.\n",
    "* */etc/cron.daily* se jejecutarán en el primer segundo de un día, diarimante.\n",
    "* */etc/cron.monthly* se ejecutarán en el primer segundo del primer día del mes, mensualmente."
   ]
  },
  {
   "cell_type": "code",
   "execution_count": null,
   "metadata": {
    "scrolled": true
   },
   "outputs": [],
   "source": [
    "ls /etc/cron.*"
   ]
  },
  {
   "cell_type": "markdown",
   "metadata": {},
   "source": [
    "### Bitácoras de cron.\n",
    "\n",
    "El archivo *var/log/cron* contiene la bitácora de todas las acciones del ```crond```."
   ]
  },
  {
   "cell_type": "code",
   "execution_count": null,
   "metadata": {
    "scrolled": true
   },
   "outputs": [],
   "source": [
    "sudo cat /var/log/cron "
   ]
  },
  {
   "cell_type": "code",
   "execution_count": null,
   "metadata": {
    "scrolled": true
   },
   "outputs": [],
   "source": [
    "cat /etc/crontab"
   ]
  },
  {
   "cell_type": "markdown",
   "metadata": {},
   "source": [
    "## El comando ```at```."
   ]
  },
  {
   "cell_type": "code",
   "execution_count": null,
   "metadata": {
    "scrolled": true
   },
   "outputs": [],
   "source": []
  },
  {
   "cell_type": "markdown",
   "metadata": {},
   "source": [
    "### La *manpage* de ```at```."
   ]
  },
  {
   "cell_type": "code",
   "execution_count": null,
   "metadata": {
    "scrolled": true
   },
   "outputs": [],
   "source": [
    "man at"
   ]
  },
  {
   "cell_type": "markdown",
   "metadata": {
    "collapsed": true
   },
   "source": [
    "<p style=\"text-align: center\"><a rel=\"license\" href=\"http://creativecommons.org/licenses/by/4.0/\"><img alt=\"Licencia Creative Commons\" style=\"border-width:0\" src=\"https://i.creativecommons.org/l/by/4.0/80x15.png\" /></a><br />Esta obra está bajo una <a rel=\"license\" href=\"http://creativecommons.org/licenses/by/4.0/\">Licencia Creative Commons Atribución 4.0 Internacional</a>.</p>\n",
    "<p style=\"text-align: center\">&copy; José Luis Chiquete Valdivieso. 2020.</p>"
   ]
  }
 ],
 "metadata": {
  "kernelspec": {
   "display_name": "Bash",
   "language": "bash",
   "name": "bash"
  },
  "language_info": {
   "codemirror_mode": "shell",
   "file_extension": ".sh",
   "mimetype": "text/x-sh",
   "name": "bash"
  }
 },
 "nbformat": 4,
 "nbformat_minor": 2
}
