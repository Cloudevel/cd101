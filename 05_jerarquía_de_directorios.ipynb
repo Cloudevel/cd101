{
 "cells": [
  {
   "cell_type": "markdown",
   "metadata": {},
   "source": [
    "[![cloudevel](img/cloudevel.png)](https://cloudevel.com)"
   ]
  },
  {
   "cell_type": "markdown",
   "metadata": {},
   "source": [
    "# Jerarquía de directorios de *GNU/Linux*.\n",
    "\n",
    "Los sistemas *UNIX* y *GNU/Linux* cuentan con una estructura estandarizada de directorios, la cual ha sido propuesta por la *Linux Foundation*.\n",
    "\n",
    "A esta especificación se le conoce como la jerarquía estándar del sistema de archivos ([*fhs*](https://wiki.linuxfoundation.org/lsb/fhs)).\n",
    "\n",
    "La especificación actual puede ser consultada desde:"
   ]
  },
  {
   "cell_type": "markdown",
   "metadata": {},
   "source": [
    "\n",
    "\n",
    "https://refspecs.linuxfoundation.org/FHS_3.0/fhs/index.html"
   ]
  },
  {
   "cell_type": "markdown",
   "metadata": {},
   "source": [
    "### El directorio raíz ```/```.\n",
    "\n",
    "Este es el directorio principal de un sistema *UNIX* o *GNU/Linux*. Se utiliza como la referencia al resto del sistema."
   ]
  },
  {
   "cell_type": "code",
   "execution_count": null,
   "metadata": {},
   "outputs": [],
   "source": [
    "tree / -L 1"
   ]
  },
  {
   "cell_type": "markdown",
   "metadata": {},
   "source": [
    "### El directorio ```/home/```.\n",
    "\n",
    "Este es el directorio en el que se encuentra el *home* de cada usuario del sistema."
   ]
  },
  {
   "cell_type": "code",
   "execution_count": null,
   "metadata": {},
   "outputs": [],
   "source": [
    "tree /home -L 1"
   ]
  },
  {
   "cell_type": "markdown",
   "metadata": {},
   "source": [
    "###  El directorio ```/bin/```.\n",
    "\n",
    "Es el directorio en el que se encuentran los principales comandos del sistema. "
   ]
  },
  {
   "cell_type": "code",
   "execution_count": null,
   "metadata": {},
   "outputs": [],
   "source": [
    "tree /bin -L 1"
   ]
  },
  {
   "cell_type": "markdown",
   "metadata": {},
   "source": [
    "### ###  El directorio ```/sbin/```.\n",
    "\n",
    "Es el directorio de aplicaciones \"seguras\"."
   ]
  },
  {
   "cell_type": "code",
   "execution_count": null,
   "metadata": {},
   "outputs": [],
   "source": [
    "tree /sbin -L 1"
   ]
  },
  {
   "cell_type": "markdown",
   "metadata": {},
   "source": [
    "### Los directorios ```/lib/```  y ```/lib64/```.\n",
    "\n",
    "Este directorio contiene las bibliotecas del sistema."
   ]
  },
  {
   "cell_type": "code",
   "execution_count": null,
   "metadata": {
    "scrolled": true
   },
   "outputs": [],
   "source": [
    "tree /lib/ -L 1"
   ]
  },
  {
   "cell_type": "code",
   "execution_count": null,
   "metadata": {},
   "outputs": [],
   "source": [
    "tree /lib64/ -L 1"
   ]
  },
  {
   "cell_type": "markdown",
   "metadata": {},
   "source": [
    "### El directorio ```/lib/modules/```.\n",
    "\n",
    "Esdte directorio contiene las bibliotecas de los módulos del kernel de *Linux*."
   ]
  },
  {
   "cell_type": "code",
   "execution_count": null,
   "metadata": {},
   "outputs": [],
   "source": [
    "tree /lib/modules -L 2"
   ]
  },
  {
   "cell_type": "markdown",
   "metadata": {},
   "source": [
    "### El directorio ```/etc/```.\n",
    "\n",
    "Este es el directorio que contiene los directorios y archivos de configuraciones del sistema y de sus componentes."
   ]
  },
  {
   "cell_type": "code",
   "execution_count": null,
   "metadata": {},
   "outputs": [],
   "source": [
    "tree /etc -L 2"
   ]
  },
  {
   "cell_type": "code",
   "execution_count": null,
   "metadata": {},
   "outputs": [],
   "source": [
    "tree /etc/apache2"
   ]
  },
  {
   "cell_type": "markdown",
   "metadata": {},
   "source": [
    "### El directiro ```/tmp/```.\n",
    "\n",
    "Es el directorio que guarda los archivos temporales de todo el sistema y todos los usuarios."
   ]
  },
  {
   "cell_type": "code",
   "execution_count": null,
   "metadata": {},
   "outputs": [],
   "source": [
    "tree -L 1 /tmp"
   ]
  },
  {
   "cell_type": "markdown",
   "metadata": {},
   "source": [
    "###  El directorio ```/var/```.\n",
    "\n",
    "Este directorio contiene archivos que utilizan las aplicaciones y no pertencene a un usuario convencional."
   ]
  },
  {
   "cell_type": "code",
   "execution_count": null,
   "metadata": {
    "scrolled": false
   },
   "outputs": [],
   "source": [
    "tree /var/ -L 2"
   ]
  },
  {
   "cell_type": "markdown",
   "metadata": {},
   "source": [
    "### El directorio ```/var/log/```.\n",
    "\n",
    "Este directorio contiene las bitácoras del sistema."
   ]
  },
  {
   "cell_type": "code",
   "execution_count": null,
   "metadata": {},
   "outputs": [],
   "source": [
    "tree /var/log -L 1"
   ]
  },
  {
   "cell_type": "markdown",
   "metadata": {},
   "source": [
    "### El directorio ```/var/www/```\n",
    "\n",
    "Este es el directorio por defecto para la raíz de Apache."
   ]
  },
  {
   "cell_type": "code",
   "execution_count": null,
   "metadata": {},
   "outputs": [],
   "source": [
    "tree /var/www -L 2"
   ]
  },
  {
   "cell_type": "markdown",
   "metadata": {},
   "source": [
    "###  El directorio ```/usr/```\n",
    "\n",
    "Este directorio contiene directorios y archivos de acceso (ejecución) para todos los usuarios."
   ]
  },
  {
   "cell_type": "code",
   "execution_count": null,
   "metadata": {},
   "outputs": [],
   "source": [
    "tree /usr/ -L 1"
   ]
  },
  {
   "cell_type": "markdown",
   "metadata": {},
   "source": [
    "### El directorio ```/usr/local/```.\n",
    "\n",
    "Es un directorio que contiene recursos que no son de uso generalizado del sistema, sino que pueden ser usados por grupos específicos de usuarios."
   ]
  },
  {
   "cell_type": "code",
   "execution_count": null,
   "metadata": {},
   "outputs": [],
   "source": [
    "tree /usr/local/ -L 1"
   ]
  },
  {
   "cell_type": "markdown",
   "metadata": {},
   "source": [
    "### El directorio ```/opt/```.\n",
    "\n",
    "Este directorio es para aplicaciones varias."
   ]
  },
  {
   "cell_type": "code",
   "execution_count": null,
   "metadata": {},
   "outputs": [],
   "source": [
    "tree /opt/"
   ]
  },
  {
   "cell_type": "markdown",
   "metadata": {},
   "source": [
    "### El directorio ```/boot/```.\n",
    "\n",
    "Es el directorio en el que se encuentra la imagen del kernel de * Linux* y la configuración de arranque del sistema."
   ]
  },
  {
   "cell_type": "code",
   "execution_count": null,
   "metadata": {},
   "outputs": [],
   "source": [
    "tree //boot/"
   ]
  },
  {
   "cell_type": "markdown",
   "metadata": {},
   "source": [
    "### Directorio ```/dev/```.\n",
    "\n",
    "El directorio que liga a los dispositivos detectados y configurados por los controladores del kernel."
   ]
  },
  {
   "cell_type": "code",
   "execution_count": null,
   "metadata": {
    "scrolled": false
   },
   "outputs": [],
   "source": [
    "tree /dev -L 1"
   ]
  },
  {
   "cell_type": "markdown",
   "metadata": {},
   "source": [
    "### El directorio ```/proc/```.\n",
    "\n",
    "Este es el direcotrio que mapea los procesos del sistema."
   ]
  },
  {
   "cell_type": "code",
   "execution_count": null,
   "metadata": {},
   "outputs": [],
   "source": [
    "tree /proc/ -L 1"
   ]
  },
  {
   "cell_type": "markdown",
   "metadata": {},
   "source": [
    "### El directorio ```/sys/```.\n",
    "\n",
    "Este es el directorio que utilizan las bibliotecas del kernel."
   ]
  },
  {
   "cell_type": "code",
   "execution_count": null,
   "metadata": {},
   "outputs": [],
   "source": [
    "tree /sys/ -L 1"
   ]
  },
  {
   "cell_type": "markdown",
   "metadata": {},
   "source": [
    "### El directorio ```/run/```.\n",
    "\n",
    "Es es directorio que contiene archivos de ejecución de ciertos servicios y daemons."
   ]
  },
  {
   "cell_type": "code",
   "execution_count": null,
   "metadata": {},
   "outputs": [],
   "source": [
    "tree /run/ -L 1"
   ]
  },
  {
   "cell_type": "markdown",
   "metadata": {},
   "source": [
    "### Los direcotrios ```/media/``` y ```/mnt/```.\n",
    "\n",
    "Esros son los directorios en los que se montan los diversos sistemas de archivos."
   ]
  },
  {
   "cell_type": "code",
   "execution_count": null,
   "metadata": {},
   "outputs": [],
   "source": [
    "tree /mnt/ -L 2"
   ]
  },
  {
   "cell_type": "code",
   "execution_count": null,
   "metadata": {},
   "outputs": [],
   "source": [
    "tree /media/ -L 2"
   ]
  },
  {
   "cell_type": "markdown",
   "metadata": {},
   "source": [
    "## La variable de entorno *PATH*.\n",
    "\n",
    "Esta variable contiene las rutas de búsqueda de comandos del usuario actual."
   ]
  },
  {
   "cell_type": "code",
   "execution_count": null,
   "metadata": {},
   "outputs": [],
   "source": [
    "echo $PATH"
   ]
  },
  {
   "cell_type": "markdown",
   "metadata": {},
   "source": [
    "<p style=\"text-align: center\"><a rel=\"license\" href=\"http://creativecommons.org/licenses/by/4.0/\"><img alt=\"Licencia Creative Commons\" style=\"border-width:0\" src=\"https://i.creativecommons.org/l/by/4.0/80x15.png\" /></a><br />Esta obra está bajo una <a rel=\"license\" href=\"http://creativecommons.org/licenses/by/4.0/\">Licencia Creative Commons Atribución 4.0 Internacional</a>.</p>\n",
    "<p style=\"text-align: center\">&copy; José Luis Chiquete Valdivieso. 2020.</p>"
   ]
  }
 ],
 "metadata": {
  "kernelspec": {
   "display_name": "Bash",
   "language": "bash",
   "name": "bash"
  },
  "language_info": {
   "codemirror_mode": "shell",
   "file_extension": ".sh",
   "mimetype": "text/x-sh",
   "name": "bash"
  }
 },
 "nbformat": 4,
 "nbformat_minor": 2
}
