{
 "cells": [
  {
   "cell_type": "markdown",
   "metadata": {
    "collapsed": true
   },
   "source": [
    "[![cloudevel](Imagenes/cloudevel.png)](https://cloudevel.com)"
   ]
  },
  {
   "cell_type": "markdown",
   "metadata": {},
   "source": [
    "## Los editores ```vi``` y ```vim```.\n",
    "\n",
    "Existen diversas opciones de editores de texto para UNIX y GNU/Linux, sin embargo, todos incluyen al editor ```vi``` o una adaptación más moderna, llamada ```vim```.\n",
    "\n",
    "La familioa de  editores ```vi``` son muy populares y venerados debido a su amplia gama de comandos, opciones y extensiones, pero también uno de los más temidos, debido a que requiere que el usuario memorice varias combinaciones de teclas y se enfrente a una interfaz de texto que en un principio no es demasiado amigable."
   ]
  },
  {
   "cell_type": "markdown",
   "metadata": {},
   "source": [
    "## Modos de vim.\n",
    "\n",
    "Una de las características primoridales de ```vi``` es que cuenta con dos modos:\n",
    "\n",
    "* El modo de comando.\n",
    "* El modo de edición."
   ]
  },
  {
   "cell_type": "markdown",
   "metadata": {},
   "source": [
    "### Modo de comando.\n",
    "\n",
    "El modo de comando permite ejecutar diversas instruccionesque ejecuta el editor de textos.\n",
    "\n",
    "<kbd>ESC</kbd>"
   ]
  },
  {
   "cell_type": "markdown",
   "metadata": {},
   "source": [
    "### Modo de edición.\n",
    "\n",
    "El modo de edición permite desplazarse por el texto y modificarlo.\n",
    "\n",
    "* <kbd>i</kbd>\n",
    "* <kbd>o</kbd>\n",
    "* <kbd>I</kbd>\n",
    "* <kbd>O</kbd>"
   ]
  },
  {
   "cell_type": "markdown",
   "metadata": {},
   "source": [
    "## Desplazamiento.\n",
    "\n",
    "* <kbd>h</kbd> desplaza el cursor a la izquierda.\n",
    "* <kbd>j</kbd> desplaza el cursor hacia abajo.\n",
    "* <kbd>k</kbd> desplaza el cursor hacia arriba.\n",
    "* <kbd>l</kbd> desplaza el cursor a la derecha."
   ]
  },
  {
   "cell_type": "markdown",
   "metadata": {},
   "source": [
    "## Comandos básicos."
   ]
  },
  {
   "cell_type": "markdown",
   "metadata": {},
   "source": [
    "### Guardar archivos.\n",
    "\n",
    "#### Guardar.\n",
    "\n",
    "```\n",
    ":w\n",
    "```\n",
    "\n",
    "#### Guardar como.\n",
    "\n",
    "```\n",
    ":w <nombre>\n",
    "```"
   ]
  },
  {
   "cell_type": "markdown",
   "metadata": {},
   "source": [
    "### Multiplicador."
   ]
  },
  {
   "cell_type": "markdown",
   "metadata": {},
   "source": [
    "### Eliminación de texto.\n",
    "\n",
    "* <kbd>x</kbd>.\n",
    "* <kbd>d</kbd><kbd>w</kbd>.\n",
    "* <kbd>d</kbd><kbd>d</kbd>."
   ]
  },
  {
   "cell_type": "markdown",
   "metadata": {},
   "source": [
    "### Deshacer.\n",
    "\n",
    "```\n",
    ":undo\n",
    "```"
   ]
  },
  {
   "cell_type": "markdown",
   "metadata": {},
   "source": [
    "### Búsqueda y sustitución.\n",
    "\n",
    "#### Búsqueda simple.\n",
    "\n",
    "```\n",
    ":/<cadena>\n",
    "```\n",
    "\n",
    "#### Sustitución.\n",
    "```\n",
    ":s/<cadena de búsqueda>/<cadena de sustitución>\n",
    "```\n",
    "\n",
    "\n",
    "#### Sustitución de todos.\n",
    "\n",
    "```\n",
    ":%s/<cadena de búsqueda>/<cadena de sustitución>\n",
    "```"
   ]
  },
  {
   "cell_type": "markdown",
   "metadata": {},
   "source": [
    "### Copiar, cortar y pegar.\n",
    "\n",
    "#### Seleccionar.\n",
    "\n",
    "* <kbd>v</kbd>\n",
    "* <kbd>V</kbd>\n",
    "* <kbd>Ctrl</kbd><kbd>v</kbd>\n",
    "\n",
    "\n",
    "#### Copiar.\n",
    "\n",
    "* <kbd>y</kbd>\n",
    "\n",
    "#### Cortar.\n",
    "\n",
    "* <kbd>d</kbd>\n",
    "\n",
    "#### Pegar.\n",
    "\n",
    "* <kbd>p</kbd>\n",
    "* <kbd>P</kbd>"
   ]
  },
  {
   "cell_type": "markdown",
   "metadata": {},
   "source": [
    "## Editores alternos."
   ]
  },
  {
   "cell_type": "markdown",
   "metadata": {},
   "source": [
    "<p style=\"text-align: center\"><a rel=\"license\" href=\"http://creativecommons.org/licenses/by/4.0/\"><img alt=\"Licencia Creative Commons\" style=\"border-width:0\" src=\"https://i.creativecommons.org/l/by/4.0/80x15.png\" /></a><br />Esta obra está bajo una <a rel=\"license\" href=\"http://creativecommons.org/licenses/by/4.0/\">Licencia Creative Commons Atribución 4.0 Internacional</a>.</p>\n",
    "<p style=\"text-align: center\">&copy; José Luis Chiquete Valdivieso. 2019.</p>"
   ]
  }
 ],
 "metadata": {
  "kernelspec": {
   "display_name": "Bash",
   "language": "bash",
   "name": "bash"
  },
  "language_info": {
   "codemirror_mode": "shell",
   "file_extension": ".sh",
   "mimetype": "text/x-sh",
   "name": "bash"
  }
 },
 "nbformat": 4,
 "nbformat_minor": 2
}
