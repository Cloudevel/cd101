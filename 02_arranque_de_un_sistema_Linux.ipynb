{
 "cells": [
  {
   "cell_type": "markdown",
   "metadata": {},
   "source": [
    "[![https://cloudevel.com/](https://cloudevel.com/es-mx/media/cloudevel-fondo-twitter.png)](https://cloudevel.com)"
   ]
  },
  {
   "cell_type": "markdown",
   "metadata": {},
   "source": [
    "# Proceso de inicio de un sistema GNU/Linux."
   ]
  },
  {
   "cell_type": "markdown",
   "metadata": {
    "collapsed": true
   },
   "source": [
    "## El BIOS, UEFI y Secure Mode.\n",
    "## El arrancador _GRUB_.\n",
    "## El kernel de Linux.\n",
    "### Archivos del kernel.\n",
    "## Módulos del kernel.\n",
    "### _lsmod_. \n",
    "### _rmmod_.\n",
    "### _modprobe_.\n",
    "### _depmod_.\n",
    "## Gestión de módulos.\n",
    "### Detección con _udev_.\n",
    "### El directorio _/etc/depmod_.\n",
    "## Manipulación de parámetros del kernel con _sysctl_.\n",
    "## Información sobre dispositivos.\n",
    "### _lsusb_.\n",
    "### _lspci_.\n",
    "### _lscpu_.\n",
    "## Inicio de proceso.\n",
    "### _init_ y  _systemd_.\n",
    "## La línea de comandos, terminales y shell."
   ]
  },
  {
   "cell_type": "code",
   "execution_count": 1,
   "metadata": {},
   "outputs": [
    {
     "name": "stdout",
     "output_type": "stream",
     "text": [
      "bash: lshw: command not found...\n"
     ]
    },
    {
     "ename": "",
     "evalue": "127",
     "output_type": "error",
     "traceback": []
    }
   ],
   "source": [
    "lshw"
   ]
  },
  {
   "cell_type": "markdown",
   "metadata": {},
   "source": [
    "<p style=\"text-align: center\"><a rel=\"license\" href=\"http://creativecommons.org/licenses/by/4.0/\"><img alt=\"Licencia Creative Commons\" style=\"border-width:0\" src=\"https://i.creativecommons.org/l/by/4.0/80x15.png\" /></a><br />Esta obra está bajo una <a rel=\"license\" href=\"http://creativecommons.org/licenses/by/4.0/\">Licencia Creative Commons Atribución 4.0 Internacional</a>.</p>\n",
    "<p style=\"text-align: center\">&copy; José Luis Chiquete Valdivieso. 2017.</p>"
   ]
  }
 ],
 "metadata": {
  "kernelspec": {
   "display_name": "Bash",
   "language": "bash",
   "name": "bash"
  },
  "language_info": {
   "codemirror_mode": "shell",
   "file_extension": ".sh",
   "mimetype": "text/x-sh",
   "name": "bash"
  }
 },
 "nbformat": 4,
 "nbformat_minor": 2
}
