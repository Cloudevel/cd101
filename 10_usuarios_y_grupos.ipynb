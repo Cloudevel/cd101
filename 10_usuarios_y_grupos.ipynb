{
 "cells": [
  {
   "cell_type": "markdown",
   "metadata": {},
   "source": [
    "[![cloudevel](img/cloudevel.png)](https://cloudevel.com)"
   ]
  },
  {
   "cell_type": "markdown",
   "metadata": {},
   "source": [
    "## Notas preliminares sobre el uso de esta notebook.\n",
    "\n",
    "Las notebooks de este curso han sido diseñadas para ejecutarse dentro alguna de las máquina virtuales proporcionada por Cloudevel<sup>®</sup>.\n",
    "\n",
    "Dichas máquinas virtuales están configuradas con:\n",
    "* Un usuario *root* con la contraseña *0p3n5t4ckCDMX*.\n",
    "* Un usuario llamado *oi* con la contraseña *0p3n5t4ck*.\n",
    "\n",
    "En caso de ejecutar las siguientes celdas en un sistema distinto, es muy probable que no funcionen.\n",
    "\n",
    "**ADVERTENCIA:**\n",
    "\n",
    "El escalamiento de privilegios en un sistema puede tener consecuencias graves si se utiliza de forma imprudente. Se aconseja enfáticamente utilizar los comandos de esta notebook en un entorno de pruebas."
   ]
  },
  {
   "cell_type": "markdown",
   "metadata": {},
   "source": [
    "## Control de acceso mediante usuarios y grupos.\n",
    "\n",
    "Tanto los directorios y archivos como los procesos de los sistemas UNIX y GNU/Linux están ligados desde su creación a un usuario y a un grupo de usuarios. \n",
    "\n",
    "Del mismo modo, a cada uno de estos elementos se le asigna una serie de permisos para el usuario propietario, el grupo propietario y el resto de los usuarios.\n",
    "\n",
    "Los usuarios no necesariamente deben de ser personas que accedan al sistema. También es posible crear usuarios especiales a los que se les asignen ciertas aplicaciones o servicios específicos."
   ]
  },
  {
   "cell_type": "markdown",
   "metadata": {},
   "source": [
    "**Ejemplo:**\n",
    "\n",
    "La máquina virtual proporcionada por Cloudevel<sup>®</sup> tiene habilitado y en ejecución al servidor web Apache, el cual está ligado al usuario *apache* y al grupo *apache*. \n",
    "\n",
    "El servidor Apache está configurado para desplegar el contenido del directorio */var/www/html* en [http://localhost:8980](http://localhost:8980)\n",
    "\n",
    "* La siguiente celda desplegará el listado extendido de */var/www/html*."
   ]
  },
  {
   "cell_type": "code",
   "execution_count": 1,
   "metadata": {
    "scrolled": true
   },
   "outputs": [
    {
     "name": "stdout",
     "output_type": "stream",
     "text": [
      "total 12\n",
      "drwxr-xr-x 2 root root 4096 May 29 15:05 .\n",
      "drwxr-xr-x 3 root root 4096 May 28 15:55 ..\n",
      "-rw-r--r-- 1 root root  140 May 29 15:05 index.html\n"
     ]
    }
   ],
   "source": [
    "ls -al /var/www/html"
   ]
  },
  {
   "cell_type": "markdown",
   "metadata": {},
   "source": [
    "El resultado es algo similar a lo siguiente:\n",
    "\n",
    "```\n",
    "total 460\n",
    "drwxr-xr-x. 2 apache apache     25 jul  4  2018 .\n",
    "drwxr-xr-x. 4 apache apache     33 jul  4  2018 ..\n",
    "-rw-rw-r--. 1 apache apache 467815 jun 28  2018 adminer.php\n",
    "```\n",
    "\n",
    "* La tercera columna indica el nombre del usuario que es dueño del archivo.\n",
    "* La cuarta columna indica el nombre del grupo que es dueño del archivo."
   ]
  },
  {
   "cell_type": "markdown",
   "metadata": {},
   "source": [
    "## El usuario *root*.\n",
    "\n",
    "El usuario *root* es el administrador o superusuario y tiene acceso a todos los recursos del sistema.\n",
    "\n",
    "El directorio de incio de *root* es */root/*.\n",
    "\n",
    "**Advertencia:**\n",
    "Nunca acceda a un sistema como *root* a menos que sea estrictamente necesario. Se recomienda crear un usuario distinto de *root* para actividades cotidianas."
   ]
  },
  {
   "cell_type": "markdown",
   "metadata": {},
   "source": [
    "## Escalamiento de privilegios del usuario.\n",
    "\n",
    "Es posible otorgar privilegios de superusuario a un usuario para ejecutar un comando en particular, siempre y cuando esté autorizado."
   ]
  },
  {
   "cell_type": "markdown",
   "metadata": {},
   "source": [
    "### El comando ```sudo```.\n",
    "\n",
    "Este comando permite a los usuarios acreditados ejecutar comandos con privilegios de root.\n",
    "\n",
    "```\n",
    "sudo <opciones> <comando>\n",
    "```\n",
    "* Si se ejecuta ```sudo``` sin opciones, el comando se ejecutará como si fuera *root*. "
   ]
  },
  {
   "cell_type": "markdown",
   "metadata": {},
   "source": [
    "**Ejemplo:**"
   ]
  },
  {
   "cell_type": "markdown",
   "metadata": {},
   "source": [
    "Si se está ejecutando esta notebook desde la máquina virtual publicada por Cloudevel<sup>®</sup>, el usuario ligado al servidor Jupyter (*oi*) está acreditado para usar *sudo* sin necesidad de ingresar una contraseña.\n",
    "\n",
    "* La siguiente celda intentará listar el contenido del directorio */root*.\n",
    "* Debido a que el usuario *oi* no tiene los permisos de acceso, se generará un error."
   ]
  },
  {
   "cell_type": "code",
   "execution_count": 2,
   "metadata": {},
   "outputs": [
    {
     "name": "stdout",
     "output_type": "stream",
     "text": [
      "ls: cannot open directory '/root': Permission denied\n"
     ]
    },
    {
     "ename": "",
     "evalue": "2",
     "output_type": "error",
     "traceback": []
    }
   ],
   "source": [
    "ls /root"
   ]
  },
  {
   "cell_type": "markdown",
   "metadata": {},
   "source": [
    "* La siguiente celda ejecutar{a el comando previo como *root* mediante ```sudo```."
   ]
  },
  {
   "cell_type": "code",
   "execution_count": 3,
   "metadata": {},
   "outputs": [
    {
     "name": "stdout",
     "output_type": "stream",
     "text": [
      "total 44\n",
      "drwx------  6 root root  4096 May 29 15:05 .\n",
      "drwxr-xr-x 20 root root  4096 May 10 01:57 ..\n",
      "-rw-r--r--  1 root root  3106 Dec  5 14:39 .bashrc\n",
      "drwxr-xr-x  3 root root  4096 May 10 03:44 .cache\n",
      "drwxr-xr-x  3 root root  4096 May 10 02:05 .local\n",
      "-rw-r--r--  1 root root   161 Dec  5 14:39 .profile\n",
      "drwx------  2 root root  4096 May 10 01:58 .ssh\n",
      "-rw-------  1 root root 10406 May 29 15:05 .viminfo\n",
      "drwxr-xr-x  3 root root  4096 May 10 01:59 snap\n"
     ]
    }
   ],
   "source": [
    "sudo ls -al /root"
   ]
  },
  {
   "cell_type": "markdown",
   "metadata": {},
   "source": [
    "#### Algunas opciones.\n",
    "\n",
    "* *-u* o *--user*\n",
    "* *-g* o *--group*\n",
    "* *-H* o *--set-home*\n",
    "* *-n* o *--non-interactive*"
   ]
  },
  {
   "cell_type": "markdown",
   "metadata": {},
   "source": [
    "#### La man page de ```sudo```."
   ]
  },
  {
   "cell_type": "code",
   "execution_count": 4,
   "metadata": {},
   "outputs": [
    {
     "name": "stdout",
     "output_type": "stream",
     "text": [
      "SUDO(8)                   BSD System Manager's Manual                  SUDO(8)\n",
      "\n",
      "NAME\n",
      "     sudo, sudoedit — execute a command as another user\n",
      "\n",
      "SYNOPSIS\n",
      "     sudo -h | -K | -k | -V\n",
      "     sudo -v [-ABknS] [-g group] [-h host] [-p prompt] [-u user]\n",
      "     sudo -l [-ABknS] [-g group] [-h host] [-p prompt] [-U user] [-u user]\n",
      "          [command]\n",
      "     sudo [-ABbEHnPS] [-C num] [-g group] [-h host] [-p prompt] [-r role]\n",
      "          [-t type] [-T timeout] [-u user] [VAR=value] [-i | -s] [command]\n",
      "     sudoedit [-ABknS] [-C num] [-g group] [-h host] [-p prompt] [-T timeout]\n",
      "          [-u user] file ...\n",
      "\n",
      "DESCRIPTION\n",
      "     sudo allows a permitted user to execute a command as the superuser or an‐\n",
      "     other user, as specified by the security policy.  The invoking user's\n",
      "     real (not effective) user-ID is used to determine the user name with\n",
      "     which to query the security policy.\n",
      "\n",
      "     sudo supports a plugin architecture for security policies and input/out‐\n",
      "     put logging.  Third parties can develop and distribute their own policy\n",
      "     and I/O logging plugins to work seamlessly with the sudo front end.  The\n",
      "     default security policy is sudoers, which is configured via the file\n",
      "     /etc/sudoers, or via LDAP.  See the Plugins section for more information.\n",
      "\n",
      "     The security policy determines what privileges, if any, a user has to run\n",
      "     sudo.  The policy may require that users authenticate themselves with a\n",
      "     password or another authentication mechanism.  If authentication is re‐\n",
      "     quired, sudo will exit if the user's password is not entered within a\n",
      "     configurable time limit.  This limit is policy-specific; the default\n",
      "     password prompt timeout for the sudoers security policy is 0 minutes.\n",
      "\n",
      "     Security policies may support credential caching to allow the user to run\n",
      "     sudo again for a period of time without requiring authentication.  By de‐\n",
      "     fault, the sudoers policy caches credentials on a per-terminal basis for\n",
      "     15 minutes.  See the timestamp_type and timestamp_timeout options in\n",
      "     sudoers(5) for more information.  By running sudo with the -v option, a\n",
      "     user can update the cached credentials without running a command.\n",
      "\n",
      "     When invoked as sudoedit, the -e option (described below), is implied.\n",
      "\n",
      "     Security policies may log successful and failed attempts to use sudo.  If\n",
      "     an I/O plugin is configured, the running command's input and output may\n",
      "     be logged as well.\n",
      "\n",
      "     The options are as follows:\n",
      "\n",
      "     -A, --askpass\n",
      "                 Normally, if sudo requires a password, it will read it from\n",
      "                 the user's terminal.  If the -A (askpass) option is speci‐\n",
      "                 fied, a (possibly graphical) helper program is executed to\n",
      "                 read the user's password and output the password to the stan‐\n",
      "                 dard output.  If the SUDO_ASKPASS environment variable is\n",
      "                 set, it specifies the path to the helper program.  Otherwise,\n",
      "                 if sudo.conf(5) contains a line specifying the askpass pro‐\n",
      "                 gram, that value will be used.  For example:\n",
      "\n",
      "                     # Path to askpass helper program\n",
      "                     Path askpass /usr/X11R6/bin/ssh-askpass\n",
      "\n",
      "                 If no askpass program is available, sudo will exit with an\n",
      "                 error.\n",
      "\n",
      "     -B, --bell  Ring the bell as part of the password promp when a terminal\n",
      "                 is present.  This option has no effect if an askpass program\n",
      "                 is used.\n",
      "\n",
      "     -b, --background\n",
      "                 Run the given command in the background.  Note that it is not\n",
      "                 possible to use shell job control to manipulate background\n",
      "                 processes started by sudo.  Most interactive commands will\n",
      "                 fail to work properly in background mode.\n",
      "\n",
      "     -C num, --close-from=num\n",
      "                 Close all file descriptors greater than or equal to num be‐\n",
      "                 fore executing a command.  Values less than three are not\n",
      "                 permitted.  By default, sudo will close all open file de‐\n",
      "                 scriptors other than standard input, standard output and\n",
      "                 standard error when executing a command.  The security policy\n",
      "                 may restrict the user's ability to use this option.  The\n",
      "                 sudoers policy only permits use of the -C option when the ad‐\n",
      "                 ministrator has enabled the closefrom_override option.\n",
      "\n",
      "     -E, --preserve-env\n",
      "                 Indicates to the security policy that the user wishes to pre‐\n",
      "                 serve their existing environment variables.  The security\n",
      "                 policy may return an error if the user does not have permis‐\n",
      "                 sion to preserve the environment.\n",
      "\n",
      "     --preserve-env=list\n",
      "                 Indicates to the security policy that the user wishes to add\n",
      "                 the comma-separated list of environment variables to those\n",
      "                 preserved from the user's environment.  The security policy\n",
      "                 may return an error if the user does not have permission to\n",
      "                 preserve the environment.\n",
      "\n",
      "     -e, --edit  Edit one or more files instead of running a command.  In lieu\n",
      "                 of a path name, the string \"sudoedit\" is used when consulting\n",
      "                 the security policy.  If the user is authorized by the pol‐\n",
      "                 icy, the following steps are taken:\n",
      "\n",
      "                 1.   Temporary copies are made of the files to be edited with\n",
      "                      the owner set to the invoking user.\n",
      "\n",
      "                 2.   The editor specified by the policy is run to edit the\n",
      "                      temporary files.  The sudoers policy uses the\n",
      "                      SUDO_EDITOR, VISUAL and EDITOR environment variables (in\n",
      "                      that order).  If none of SUDO_EDITOR, VISUAL or EDITOR\n",
      "                      are set, the first program listed in the editor\n",
      "                      sudoers(5) option is used.\n",
      "\n",
      "                 3.   If they have been modified, the temporary files are\n",
      "                      copied back to their original location and the temporary\n",
      "                      versions are removed.\n",
      "\n",
      "                 To help prevent the editing of unauthorized files, the fol‐\n",
      "                 lowing restrictions are enforced unless explicitly allowed by\n",
      "                 the security policy:\n",
      "\n",
      "                 •  Symbolic links may not be edited (version 1.8.15 and\n",
      "                    higher).\n",
      "\n",
      "                 •  Symbolic links along the path to be edited are not fol‐\n",
      "                    lowed when the parent directory is writable by the invok‐\n",
      "                    ing user unless that user is root (version 1.8.16 and\n",
      "                    higher).\n",
      "\n",
      "                 •  Files located in a directory that is writable by the in‐\n",
      "                    voking user may not be edited unless that user is root\n",
      "                    (version 1.8.16 and higher).\n",
      "\n",
      "                 Users are never allowed to edit device special files.\n",
      "\n",
      "                 If the specified file does not exist, it will be created.\n",
      "                 Note that unlike most commands run by sudo, the editor is run\n",
      "                 with the invoking user's environment unmodified.  If, for\n",
      "                 some reason, sudo is unable to update a file with its edited\n",
      "                 version, the user will receive a warning and the edited copy\n",
      "                 will remain in a temporary file.\n",
      "\n",
      "     -g group, --group=group\n",
      "                 Run the command with the primary group set to group instead\n",
      "                 of the primary group specified by the target user's password\n",
      "                 database entry.  The group may be either a group name or a\n",
      "                 numeric group-ID (GID) prefixed with the ‘#’ character (e.g.,\n",
      "                 #0 for GID 0).  When running a command as a GID, many shells\n",
      "                 require that the ‘#’ be escaped with a backslash (‘\\’).  If\n",
      "                 no -u option is specified, the command will be run as the in‐\n",
      "                 voking user.  In either case, the primary group will be set\n",
      "                 to group.  The sudoers policy permits any of the target\n",
      "                 user's groups to be specified via the -g option as long as\n"
     ]
    },
    {
     "name": "stdout",
     "output_type": "stream",
     "text": [
      "                 the -P option is not in use.\n",
      "\n",
      "     -H, --set-home\n",
      "                 Request that the security policy set the HOME environment\n",
      "                 variable to the home directory specified by the target user's\n",
      "                 password database entry.  Depending on the policy, this may\n",
      "                 be the default behavior.\n",
      "\n",
      "     -h, --help  Display a short help message to the standard output and exit.\n",
      "\n",
      "     -h host, --host=host\n",
      "                 Run the command on the specified host if the security policy\n",
      "                 plugin supports remote commands.  Note that the sudoers\n",
      "                 plugin does not currently support running remote commands.\n",
      "                 This may also be used in conjunction with the -l option to\n",
      "                 list a user's privileges for the remote host.\n",
      "\n",
      "     -i, --login\n",
      "                 Run the shell specified by the target user's password data‐\n",
      "                 base entry as a login shell.  This means that login-specific\n",
      "                 resource files such as .profile, .bash_profile or .login will\n",
      "                 be read by the shell.  If a command is specified, it is\n",
      "                 passed to the shell for execution via the shell's -c option.\n",
      "                 If no command is specified, an interactive shell is executed.\n",
      "                 sudo attempts to change to that user's home directory before\n",
      "                 running the shell.  The command is run with an environment\n",
      "                 similar to the one a user would receive at log in.  Note that\n",
      "                 most shells behave differently when a command is specified as\n",
      "                 compared to an interactive session; consult the shell's man‐\n",
      "                 ual for details.  The Command environment section in the\n",
      "                 sudoers(5) manual documents how the -i option affects the en‐\n",
      "                 vironment in which a command is run when the sudoers policy\n",
      "                 is in use.\n",
      "\n",
      "     -K, --remove-timestamp\n",
      "                 Similar to the -k option, except that it removes the user's\n",
      "                 cached credentials entirely and may not be used in conjunc‐\n",
      "                 tion with a command or other option.  This option does not\n",
      "                 require a password.  Not all security policies support cre‐\n",
      "                 dential caching.\n",
      "\n",
      "     -k, --reset-timestamp\n",
      "                 When used without a command, invalidates the user's cached\n",
      "                 credentials.  In other words, the next time sudo is run a\n",
      "                 password will be required.  This option does not require a\n",
      "                 password and was added to allow a user to revoke sudo permis‐\n",
      "                 sions from a .logout file.\n",
      "\n",
      "                 When used in conjunction with a command or an option that may\n",
      "                 require a password, this option will cause sudo to ignore the\n",
      "                 user's cached credentials.  As a result, sudo will prompt for\n",
      "                 a password (if one is required by the security policy) and\n",
      "                 will not update the user's cached credentials.\n",
      "\n",
      "                 Not all security policies support credential caching.\n",
      "\n",
      "     -l, --list  If no command is specified, list the allowed (and forbidden)\n",
      "                 commands for the invoking user (or the user specified by the\n",
      "                 -U option) on the current host.  A longer list format is used\n",
      "                 if this option is specified multiple times and the security\n",
      "                 policy supports a verbose output format.\n",
      "\n",
      "                 If a command is specified and is permitted by the security\n",
      "                 policy, the fully-qualified path to the command is displayed\n",
      "                 along with any command line arguments.  If a command is spec‐\n",
      "                 ified but not allowed by the policy, sudo will exit with a\n",
      "                 status value of 1.\n",
      "\n",
      "     -n, --non-interactive\n",
      "                 Avoid prompting the user for input of any kind.  If a pass‐\n",
      "                 word is required for the command to run, sudo will display an\n",
      "                 error message and exit.\n",
      "\n",
      "     -P, --preserve-groups\n",
      "                 Preserve the invoking user's group vector unaltered.  By de‐\n",
      "                 fault, the sudoers policy will initialize the group vector to\n",
      "                 the list of groups the target user is a member of.  The real\n",
      "                 and effective group-IDs, however, are still set to match the\n",
      "                 target user.\n",
      "\n",
      "     -p prompt, --prompt=prompt\n",
      "                 Use a custom password prompt with optional escape sequences.\n",
      "                 The following percent (‘%’) escape sequences are supported by\n",
      "                 the sudoers policy:\n",
      "\n",
      "                 %H  expanded to the host name including the domain name (on\n",
      "                     if the machine's host name is fully qualified or the fqdn\n",
      "                     option is set in sudoers(5))\n",
      "\n",
      "                 %h  expanded to the local host name without the domain name\n",
      "\n",
      "                 %p  expanded to the name of the user whose password is being\n",
      "                     requested (respects the rootpw, targetpw, and runaspw\n",
      "                     flags in sudoers(5))\n",
      "\n",
      "                 %U  expanded to the login name of the user the command will\n",
      "                     be run as (defaults to root unless the -u option is also\n",
      "                     specified)\n",
      "\n",
      "                 %u  expanded to the invoking user's login name\n",
      "\n",
      "                 %%  two consecutive ‘%’ characters are collapsed into a sin‐\n",
      "                     gle ‘%’ character\n",
      "\n",
      "                 The custom prompt will override the default prompt specified\n",
      "                 by either the security policy or the SUDO_PROMPT environment\n",
      "                 variable.  On systems that use PAM, the custom prompt will\n",
      "                 also override the prompt specified by a PAM module unless the\n",
      "                 passprompt_override flag is disabled in sudoers.\n",
      "\n",
      "     -r role, --role=role\n",
      "                 Run the command with an SELinux security context that in‐\n",
      "                 cludes the specified role.\n",
      "\n",
      "     -S, --stdin\n",
      "                 Write the prompt to the standard error and read the password\n",
      "                 from the standard input instead of using the terminal device.\n",
      "\n",
      "     -s, --shell\n",
      "                 Run the shell specified by the SHELL environment variable if\n",
      "                 it is set or the shell specified by the invoking user's pass‐\n",
      "                 word database entry.  If a command is specified, it is passed\n",
      "                 to the shell for execution via the shell's -c option.  If no\n",
      "                 command is specified, an interactive shell is executed.  Note\n",
      "                 that most shells behave differently when a command is speci‐\n",
      "                 fied as compared to an interactive session; consult the\n",
      "                 shell's manual for details.\n",
      "\n",
      "     -t type, --type=type\n",
      "                 Run the command with an SELinux security context that in‐\n",
      "                 cludes the specified type.  If no type is specified, the de‐\n",
      "                 fault type is derived from the role.\n",
      "\n",
      "     -U user, --other-user=user\n",
      "                 Used in conjunction with the -l option to list the privileges\n",
      "                 for user instead of for the invoking user.  The security pol‐\n",
      "                 icy may restrict listing other users' privileges.  The\n",
      "                 sudoers policy only allows root or a user with the ALL privi‐\n",
      "                 lege on the current host to use this option.\n",
      "\n",
      "     -T timeout, --command-timeout=timeout\n",
      "                 Used to set a timeout for the command.  If the timeout ex‐\n",
      "                 pires before the command has exited, the command will be ter‐\n",
      "                 minated.  The security policy may restrict the ability to set\n",
      "                 command timeouts.  The sudoers policy requires that user-\n",
      "                 specified timeouts be explicitly enabled.\n",
      "\n",
      "     -u user, --user=user\n",
      "                 Run the command as a user other than the default target user\n",
      "                 (usually root).  The user may be either a user name or a nu‐\n",
      "                 meric user-ID (UID) prefixed with the ‘#’ character (e.g., #0\n",
      "                 for UID 0).  When running commands as a UID, many shells re‐\n"
     ]
    },
    {
     "name": "stdout",
     "output_type": "stream",
     "text": [
      "                 quire that the ‘#’ be escaped with a backslash (‘\\’).  Some\n",
      "                 security policies may restrict UIDs to those listed in the\n",
      "                 password database.  The sudoers policy allows UIDs that are\n",
      "                 not in the password database as long as the targetpw option\n",
      "                 is not set.  Other security policies may not support this.\n",
      "\n",
      "     -V, --version\n",
      "                 Print the sudo version string as well as the version string\n",
      "                 of the security policy plugin and any I/O plugins.  If the\n",
      "                 invoking user is already root the -V option will display the\n",
      "                 arguments passed to configure when sudo was built and plugins\n",
      "                 may display more verbose information such as default options.\n",
      "\n",
      "     -v, --validate\n",
      "                 Update the user's cached credentials, authenticating the user\n",
      "                 if necessary.  For the sudoers plugin, this extends the sudo\n",
      "                 timeout for another 15 minutes by default, but does not run a\n",
      "                 command.  Not all security policies support cached creden‐\n",
      "                 tials.\n",
      "\n",
      "     --          The -- option indicates that sudo should stop processing com‐\n",
      "                 mand line arguments.\n",
      "\n",
      "     Environment variables to be set for the command may also be passed on the\n",
      "     command line in the form of VAR=value, e.g.,\n",
      "     LD_LIBRARY_PATH=/usr/local/pkg/lib.  Variables passed on the command line\n",
      "     are subject to restrictions imposed by the security policy plugin.  The\n",
      "     sudoers policy subjects variables passed on the command line to the same\n",
      "     restrictions as normal environment variables with one important excep‐\n",
      "     tion.  If the setenv option is set in sudoers, the command to be run has\n",
      "     the SETENV tag set or the command matched is ALL, the user may set vari‐\n",
      "     ables that would otherwise be forbidden.  See sudoers(5) for more infor‐\n",
      "     mation.\n",
      "\n",
      "COMMAND EXECUTION\n",
      "     When sudo executes a command, the security policy specifies the execution\n",
      "     environment for the command.  Typically, the real and effective user and\n",
      "     group and IDs are set to match those of the target user, as specified in\n",
      "     the password database, and the group vector is initialized based on the\n",
      "     group database (unless the -P option was specified).\n",
      "\n",
      "     The following parameters may be specified by security policy:\n",
      "\n",
      "     •  real and effective user-ID\n",
      "\n",
      "     •  real and effective group-ID\n",
      "\n",
      "     •  supplementary group-IDs\n",
      "\n",
      "     •  the environment list\n",
      "\n",
      "     •  current working directory\n",
      "\n",
      "     •  file creation mode mask (umask)\n",
      "\n",
      "     •  SELinux role and type\n",
      "\n",
      "     •  scheduling priority (aka nice value)\n",
      "\n",
      "   Process model\n",
      "     There are two distinct ways sudo can run a command.\n",
      "\n",
      "     If an I/O logging plugin is configured or if the security policy explic‐\n",
      "     itly requests it, a new pseudo-terminal (“pty”) is allocated and fork(2)\n",
      "     is used to create a second sudo process, referred to as the monitor.  The\n",
      "     monitor creates a new terminal session with itself as the leader and the\n",
      "     pty as its controlling terminal, calls fork(2), sets up the execution en‐\n",
      "     vironment as described above, and then uses the execve(2) system call to\n",
      "     run the command in the child process.  The monitor exists to relay job\n",
      "     control signals between the user's existing terminal and the pty the com‐\n",
      "     mand is being run in.  This makes it possible to suspend and resume the\n",
      "     command.  Without the monitor, the command would be in what POSIX terms\n",
      "     an “orphaned process group” and it would not receive any job control sig‐\n",
      "     nals from the kernel.  When the command exits or is terminated by a sig‐\n",
      "     nal, the monitor passes the command's exit status to the main sudo\n",
      "     process and exits.  After receiving the command's exit status, the main\n",
      "     sudo passes the command's exit status to the security policy's close\n",
      "     function and exits.\n",
      "\n",
      "     If no pty is used, sudo calls fork(2), sets up the execution environment\n",
      "     as described above, and uses the execve(2) system call to run the command\n",
      "     in the child process.  The main sudo process waits until the command has\n",
      "     completed, then passes the command's exit status to the security policy's\n",
      "     close function and exits.  As a special case, if the policy plugin does\n",
      "     not define a close function, sudo will execute the command directly in‐\n",
      "     stead of calling fork(2) first.  The sudoers policy plugin will only de‐\n",
      "     fine a close function when I/O logging is enabled, a pty is required, or\n",
      "     the pam_session or pam_setcred options are enabled.  Note that\n",
      "     pam_session and pam_setcred are enabled by default on systems using PAM.\n",
      "\n",
      "   Signal handling\n",
      "     When the command is run as a child of the sudo process, sudo will relay\n",
      "     signals it receives to the command.  The SIGINT and SIGQUIT signals are\n",
      "     only relayed when the command is being run in a new pty or when the sig‐\n",
      "     nal was sent by a user process, not the kernel.  This prevents the com‐\n",
      "     mand from receiving SIGINT twice each time the user enters control-C.\n",
      "     Some signals, such as SIGSTOP and SIGKILL, cannot be caught and thus will\n",
      "     not be relayed to the command.  As a general rule, SIGTSTP should be used\n",
      "     instead of SIGSTOP when you wish to suspend a command being run by sudo.\n",
      "\n",
      "     As a special case, sudo will not relay signals that were sent by the com‐\n",
      "     mand it is running.  This prevents the command from accidentally killing\n",
      "     itself.  On some systems, the reboot(8) command sends SIGTERM to all non-\n",
      "     system processes other than itself before rebooting the system.  This\n",
      "     prevents sudo from relaying the SIGTERM signal it received back to\n",
      "     reboot(8), which might then exit before the system was actually rebooted,\n",
      "     leaving it in a half-dead state similar to single user mode.  Note, how‐\n",
      "     ever, that this check only applies to the command run by sudo and not any\n",
      "     other processes that the command may create.  As a result, running a\n",
      "     script that calls reboot(8) or shutdown(8) via sudo may cause the system\n",
      "     to end up in this undefined state unless the reboot(8) or shutdown(8) are\n",
      "     run using the exec() family of functions instead of system() (which in‐\n",
      "     terposes a shell between the command and the calling process).\n",
      "\n",
      "     If no I/O logging plugins are loaded and the policy plugin has not de‐\n",
      "     fined a close() function, set a command timeout or required that the com‐\n",
      "     mand be run in a new pty, sudo may execute the command directly instead\n",
      "     of running it as a child process.\n",
      "\n",
      "   Plugins\n",
      "     Plugins may be specified via Plugin directives in the sudo.conf(5) file.\n",
      "     They may be loaded as dynamic shared objects (on systems that support\n",
      "     them), or compiled directly into the sudo binary.  If no sudo.conf(5)\n",
      "     file is present, or it contains no Plugin lines, sudo will use the tradi‐\n",
      "     tional sudoers security policy and I/O logging.  See the sudo.conf(5)\n",
      "     manual for details of the /etc/sudo.conf file and the sudo_plugin(5) man‐\n",
      "     ual for more information about the sudo plugin architecture.\n",
      "\n",
      "EXIT VALUE\n",
      "     Upon successful execution of a command, the exit status from sudo will be\n",
      "     the exit status of the program that was executed.  If the command termi‐\n",
      "     nated due to receipt of a signal, sudo will send itself the same signal\n",
      "     that terminated the command.\n",
      "\n",
      "     If the -l option was specified without a command, sudo will exit with a\n",
      "     value of 0 if the user is allowed to run sudo and they authenticated suc‐\n",
      "     cessfully (as required by the security policy).  If a command is speci‐\n",
      "     fied with the -l option, the exit value will only be 0 if the command is\n",
      "     permitted by the security policy, otherwise it will be 1.\n",
      "\n",
      "     If there is an authentication failure, a configuration/permission problem\n",
      "     or if the given command cannot be executed, sudo exits with a value of 1.\n",
      "     In the latter case, the error string is printed to the standard error.\n",
      "     If sudo cannot stat(2) one or more entries in the user's PATH, an error\n",
      "     is printed to the standard error.  (If the directory does not exist or if\n"
     ]
    },
    {
     "name": "stdout",
     "output_type": "stream",
     "text": [
      "     it is not really a directory, the entry is ignored and no error is\n",
      "     printed.)  This should not happen under normal circumstances.  The most\n",
      "     common reason for stat(2) to return “permission denied” is if you are\n",
      "     running an automounter and one of the directories in your PATH is on a\n",
      "     machine that is currently unreachable.\n",
      "\n",
      "SECURITY NOTES\n",
      "     sudo tries to be safe when executing external commands.\n",
      "\n",
      "     To prevent command spoofing, sudo checks \".\" and \"\" (both denoting cur‐\n",
      "     rent directory) last when searching for a command in the user's PATH (if\n",
      "     one or both are in the PATH).  Note, however, that the actual PATH envi‐\n",
      "     ronment variable is not modified and is passed unchanged to the program\n",
      "     that sudo executes.\n",
      "\n",
      "     Users should never be granted sudo privileges to execute files that are\n",
      "     writable by the user or that reside in a directory that is writable by\n",
      "     the user.  If the user can modify or replace the command there is no way\n",
      "     to limit what additional commands they can run.\n",
      "\n",
      "     Please note that sudo will normally only log the command it explicitly\n",
      "     runs.  If a user runs a command such as sudo su or sudo sh, subsequent\n",
      "     commands run from that shell are not subject to sudo's security policy.\n",
      "     The same is true for commands that offer shell escapes (including most\n",
      "     editors).  If I/O logging is enabled, subsequent commands will have their\n",
      "     input and/or output logged, but there will not be traditional logs for\n",
      "     those commands.  Because of this, care must be taken when giving users\n",
      "     access to commands via sudo to verify that the command does not inadver‐\n",
      "     tently give the user an effective root shell.  For more information,\n",
      "     please see the Preventing shell escapes section in sudoers(5).\n",
      "\n",
      "     To prevent the disclosure of potentially sensitive information, sudo dis‐\n",
      "     ables core dumps by default while it is executing (they are re-enabled\n",
      "     for the command that is run).  This historical practice dates from a time\n",
      "     when most operating systems allowed set-user-ID processes to dump core by\n",
      "     default.  To aid in debugging sudo crashes, you may wish to re-enable\n",
      "     core dumps by setting “disable_coredump” to false in the sudo.conf(5)\n",
      "     file as follows:\n",
      "\n",
      "           Set disable_coredump false\n",
      "\n",
      "     See the sudo.conf(5) manual for more information.\n",
      "\n",
      "ENVIRONMENT\n",
      "     sudo utilizes the following environment variables.  The security policy\n",
      "     has control over the actual content of the command's environment.\n",
      "\n",
      "     EDITOR           Default editor to use in -e (sudoedit) mode if neither\n",
      "                      SUDO_EDITOR nor VISUAL is set.\n",
      "\n",
      "     MAIL             Set to the mail spool of the target user when the -i op‐\n",
      "                      tion is specified or when env_reset is enabled in\n",
      "                      sudoers (unless MAIL is present in the env_keep list).\n",
      "\n",
      "     HOME             Set to the home directory of the target user when the -i\n",
      "                      or -H options are specified, when the -s option is spec‐\n",
      "                      ified and set_home is set in sudoers, when\n",
      "                      always_set_home is enabled in sudoers, or when env_reset\n",
      "                      is enabled in sudoers and HOME is not present in the\n",
      "                      env_keep list.\n",
      "\n",
      "     LOGNAME          Set to the login name of the target user when the -i op‐\n",
      "                      tion is specified, when the set_logname option is en‐\n",
      "                      abled in sudoers or when the env_reset option is enabled\n",
      "                      in sudoers (unless LOGNAME is present in the env_keep\n",
      "                      list).\n",
      "\n",
      "     PATH             May be overridden by the security policy.\n",
      "\n",
      "     SHELL            Used to determine shell to run with -s option.\n",
      "\n",
      "     SUDO_ASKPASS     Specifies the path to a helper program used to read the\n",
      "                      password if no terminal is available or if the -A option\n",
      "                      is specified.\n",
      "\n",
      "     SUDO_COMMAND     Set to the command run by sudo.\n",
      "\n",
      "     SUDO_EDITOR      Default editor to use in -e (sudoedit) mode.\n",
      "\n",
      "     SUDO_GID         Set to the group-ID of the user who invoked sudo.\n",
      "\n",
      "     SUDO_PROMPT      Used as the default password prompt unless the -p option\n",
      "                      was specified.\n",
      "\n",
      "     SUDO_PS1         If set, PS1 will be set to its value for the program be‐\n",
      "                      ing run.\n",
      "\n",
      "     SUDO_UID         Set to the user-ID of the user who invoked sudo.\n",
      "\n",
      "     SUDO_USER        Set to the login name of the user who invoked sudo.\n",
      "\n",
      "     USER             Set to the same value as LOGNAME, described above.\n",
      "\n",
      "     VISUAL           Default editor to use in -e (sudoedit) mode if\n",
      "                      SUDO_EDITOR is not set.\n",
      "\n",
      "FILES\n",
      "     /etc/sudo.conf            sudo front end configuration\n",
      "\n",
      "EXAMPLES\n",
      "     Note: the following examples assume a properly configured security pol‐\n",
      "     icy.\n",
      "\n",
      "     To get a file listing of an unreadable directory:\n",
      "\n",
      "           $ sudo ls /usr/local/protected\n",
      "\n",
      "     To list the home directory of user yaz on a machine where the file system\n",
      "     holding ~yaz is not exported as root:\n",
      "\n",
      "           $ sudo -u yaz ls ~yaz\n",
      "\n",
      "     To edit the index.html file as user www:\n",
      "\n",
      "           $ sudoedit -u www ~www/htdocs/index.html\n",
      "\n",
      "     To view system logs only accessible to root and users in the adm group:\n",
      "\n",
      "           $ sudo -g adm more /var/log/syslog\n",
      "\n",
      "     To run an editor as jim with a different primary group:\n",
      "\n",
      "           $ sudoedit -u jim -g audio ~jim/sound.txt\n",
      "\n",
      "     To shut down a machine:\n",
      "\n",
      "           $ sudo shutdown -r +15 \"quick reboot\"\n",
      "\n",
      "     To make a usage listing of the directories in the /home partition.  Note\n",
      "     that this runs the commands in a sub-shell to make the cd and file redi‐\n",
      "     rection work.\n",
      "\n",
      "           $ sudo sh -c \"cd /home ; du -s * | sort -rn > USAGE\"\n",
      "\n",
      "DIAGNOSTICS\n",
      "     Error messages produced by sudo include:\n",
      "\n",
      "     editing files in a writable directory is not permitted\n",
      "           By default, sudoedit does not permit editing a file when any of the\n",
      "           parent directories are writable by the invoking user.  This avoids\n",
      "           a race condition that could allow the user to overwrite an arbi‐\n",
      "           trary file.  See the sudoedit_checkdir option in sudoers(5) for\n",
      "           more information.\n",
      "\n",
      "     editing symbolic links is not permitted\n",
      "           By default, sudoedit does not follow symbolic links when opening\n",
      "           files.  See the sudoedit_follow option in sudoers(5) for more in‐\n",
      "           formation.\n",
      "\n",
      "     effective uid is not 0, is sudo installed setuid root?\n",
      "           sudo was not run with root privileges.  The sudo binary must be\n",
      "           owned by the root user and have the set-user-ID bit set.  Also, it\n",
      "           must not be located on a file system mounted with the ‘nosuid’ op‐\n",
      "           tion or on an NFS file system that maps uid 0 to an unprivileged\n",
      "           uid.\n",
      "\n",
      "     effective uid is not 0, is sudo on a file system with the 'nosuid' option\n",
      "           set or an NFS file system without root privileges?\n",
      "           sudo was not run with root privileges.  The sudo binary has the\n",
      "           proper owner and permissions but it still did not run with root\n",
      "           privileges.  The most common reason for this is that the file sys‐\n",
      "           tem the sudo binary is located on is mounted with the ‘nosuid’ op‐\n",
      "           tion or it is an NFS file system that maps uid 0 to an unprivileged\n",
      "           uid.\n",
      "\n",
      "     fatal error, unable to load plugins\n",
      "           An error occurred while loading or initializing the plugins speci‐\n",
      "           fied in sudo.conf(5).\n",
      "\n",
      "     invalid environment variable name\n",
      "           One or more environment variable names specified via the -E option\n",
      "           contained an equal sign (‘=’).  The arguments to the -E option\n",
      "           should be environment variable names without an associated value.\n",
      "\n",
      "     no password was provided\n",
      "           When sudo tried to read the password, it did not receive any char‐\n",
      "           acters.  This may happen if no terminal is available (or the -S op‐\n",
      "           tion is specified) and the standard input has been redirected from\n",
      "           /dev/null.\n",
      "\n",
      "     a terminal is required to read the password\n"
     ]
    },
    {
     "name": "stdout",
     "output_type": "stream",
     "text": [
      "           sudo needs to read the password but there is no mechanism available\n",
      "           for it to do so.  A terminal is not present to read the password\n",
      "           from, sudo has not been configured to read from the standard input,\n",
      "           the -S option was not used, and no askpass helper has been speci‐\n",
      "           fied either via the sudo.conf(5) file or the SUDO_ASKPASS environ‐\n",
      "           ment variable.\n",
      "\n",
      "     no writable temporary directory found\n",
      "           sudoedit was unable to find a usable temporary directory in which\n",
      "           to store its intermediate files.\n",
      "\n",
      "     sudo must be owned by uid 0 and have the setuid bit set\n",
      "           sudo was not run with root privileges.  The sudo binary does not\n",
      "           have the correct owner or permissions.  It must be owned by the\n",
      "           root user and have the set-user-ID bit set.\n",
      "\n",
      "     sudoedit is not supported on this platform\n",
      "           It is only possible to run sudoedit on systems that support setting\n",
      "           the effective user-ID.\n",
      "\n",
      "     timed out reading password\n",
      "           The user did not enter a password before the password timeout (5\n",
      "           minutes by default) expired.\n",
      "\n",
      "     you do not exist in the passwd database\n",
      "           Your user-ID does not appear in the system passwd database.\n",
      "\n",
      "     you may not specify environment variables in edit mode\n",
      "           It is only possible to specify environment variables when running a\n",
      "           command.  When editing a file, the editor is run with the user's\n",
      "           environment unmodified.\n",
      "\n",
      "SEE ALSO\n",
      "     su(1), stat(2), login_cap(3), passwd(5), sudo.conf(5), sudo_plugin(5),\n",
      "     sudoers(5), sudoers_timestamp(5), sudoreplay(8), visudo(8)\n",
      "\n",
      "HISTORY\n",
      "     See the HISTORY file in the sudo distribution (https://www.sudo.ws/his‐\n",
      "     tory.html) for a brief history of sudo.\n",
      "\n",
      "AUTHORS\n",
      "     Many people have worked on sudo over the years; this version consists of\n",
      "     code written primarily by:\n",
      "\n",
      "           Todd C. Miller\n",
      "\n",
      "     See the CONTRIBUTORS file in the sudo distribution\n",
      "     (https://www.sudo.ws/contributors.html) for an exhaustive list of people\n",
      "     who have contributed to sudo.\n",
      "\n",
      "CAVEATS\n",
      "     There is no easy way to prevent a user from gaining a root shell if that\n",
      "     user is allowed to run arbitrary commands via sudo.  Also, many programs\n",
      "     (such as editors) allow the user to run commands via shell escapes, thus\n",
      "     avoiding sudo's checks.  However, on most systems it is possible to pre‐\n",
      "     vent shell escapes with the sudoers(5) plugin's noexec functionality.\n",
      "\n",
      "     It is not meaningful to run the cd command directly via sudo, e.g.,\n",
      "\n",
      "           $ sudo cd /usr/local/protected\n",
      "\n",
      "     since when the command exits the parent process (your shell) will still\n",
      "     be the same.  Please see the EXAMPLES section for more information.\n",
      "\n",
      "     Running shell scripts via sudo can expose the same kernel bugs that make\n",
      "     set-user-ID shell scripts unsafe on some operating systems (if your OS\n",
      "     has a /dev/fd/ directory, set-user-ID shell scripts are generally safe).\n",
      "\n",
      "BUGS\n",
      "     If you feel you have found a bug in sudo, please submit a bug report at\n",
      "     https://bugzilla.sudo.ws/\n",
      "\n",
      "SUPPORT\n",
      "     Limited free support is available via the sudo-users mailing list, see\n",
      "     https://www.sudo.ws/mailman/listinfo/sudo-users to subscribe or search\n",
      "     the archives.\n",
      "\n",
      "DISCLAIMER\n",
      "     sudo is provided “AS IS” and any express or implied warranties, includ‐\n",
      "     ing, but not limited to, the implied warranties of merchantability and\n",
      "     fitness for a particular purpose are disclaimed.  See the LICENSE file\n",
      "     distributed with sudo or https://www.sudo.ws/license.html for complete\n",
      "     details.\n",
      "\n",
      "Sudo 1.8.31                    October 20, 2019                    Sudo 1.8.31\n"
     ]
    }
   ],
   "source": [
    "man sudo"
   ]
  },
  {
   "cell_type": "markdown",
   "metadata": {},
   "source": [
    "### El archivo */etc/sudoers*."
   ]
  },
  {
   "cell_type": "markdown",
   "metadata": {},
   "source": [
    "El archivo */etc/sudoers* contiene la configuración de ```sudo```."
   ]
  },
  {
   "cell_type": "code",
   "execution_count": 5,
   "metadata": {},
   "outputs": [
    {
     "name": "stdout",
     "output_type": "stream",
     "text": [
      "#\n",
      "# This file MUST be edited with the 'visudo' command as root.\n",
      "#\n",
      "# Please consider adding local content in /etc/sudoers.d/ instead of\n",
      "# directly modifying this file.\n",
      "#\n",
      "# See the man page for details on how to write a sudoers file.\n",
      "#\n",
      "Defaults\tenv_reset\n",
      "Defaults\tmail_badpass\n",
      "Defaults\tsecure_path=\"/usr/local/sbin:/usr/local/bin:/usr/sbin:/usr/bin:/sbin:/bin:/snap/bin\"\n",
      "\n",
      "# Host alias specification\n",
      "\n",
      "# User alias specification\n",
      "\n",
      "# Cmnd alias specification\n",
      "\n",
      "# User privilege specification\n",
      "root\tALL=(ALL:ALL) ALL\n",
      "\n",
      "# Members of the admin group may gain root privileges\n",
      "%admin ALL=(ALL) ALL\n",
      "\n",
      "# Allow members of group sudo to execute any command\n",
      "%sudo\tALL=(ALL:ALL) NOPASSWD:ALL\n",
      "\n",
      "# See sudoers(5) for more information on \"#include\" directives:\n",
      "\n",
      "#includedir /etc/sudoers.d\n"
     ]
    }
   ],
   "source": [
    "sudo cat /etc/sudoers"
   ]
  },
  {
   "cell_type": "markdown",
   "metadata": {},
   "source": [
    "### El comando ```visudo```.\n",
    "\n",
    "El archivo */etc/sudoers* está protegido y no puede ser editado directamente. \n",
    "\n",
    "El comando ```visudo``` permite editar dicho archivo si se tiene los privilegios."
   ]
  },
  {
   "cell_type": "markdown",
   "metadata": {},
   "source": [
    "## Gestión de usuarios y grupos."
   ]
  },
  {
   "cell_type": "markdown",
   "metadata": {},
   "source": [
    "### El archivo */etc/passwd*.\n",
    "\n",
    "Es el archivo que tiene la relación de usuarios de sistema."
   ]
  },
  {
   "cell_type": "code",
   "execution_count": 6,
   "metadata": {},
   "outputs": [
    {
     "name": "stdout",
     "output_type": "stream",
     "text": [
      "root:x:0:0:root:/root:/bin/bash\n",
      "daemon:x:1:1:daemon:/usr/sbin:/usr/sbin/nologin\n",
      "bin:x:2:2:bin:/bin:/usr/sbin/nologin\n",
      "sys:x:3:3:sys:/dev:/usr/sbin/nologin\n",
      "sync:x:4:65534:sync:/bin:/bin/sync\n",
      "games:x:5:60:games:/usr/games:/usr/sbin/nologin\n",
      "man:x:6:12:man:/var/cache/man:/usr/sbin/nologin\n",
      "lp:x:7:7:lp:/var/spool/lpd:/usr/sbin/nologin\n",
      "mail:x:8:8:mail:/var/mail:/usr/sbin/nologin\n",
      "news:x:9:9:news:/var/spool/news:/usr/sbin/nologin\n",
      "uucp:x:10:10:uucp:/var/spool/uucp:/usr/sbin/nologin\n",
      "proxy:x:13:13:proxy:/bin:/usr/sbin/nologin\n",
      "www-data:x:33:33:www-data:/var/www:/usr/sbin/nologin\n",
      "backup:x:34:34:backup:/var/backups:/usr/sbin/nologin\n",
      "list:x:38:38:Mailing List Manager:/var/list:/usr/sbin/nologin\n",
      "irc:x:39:39:ircd:/var/run/ircd:/usr/sbin/nologin\n",
      "gnats:x:41:41:Gnats Bug-Reporting System (admin):/var/lib/gnats:/usr/sbin/nologin\n",
      "nobody:x:65534:65534:nobody:/nonexistent:/usr/sbin/nologin\n",
      "systemd-network:x:100:102:systemd Network Management,,,:/run/systemd:/usr/sbin/nologin\n",
      "systemd-resolve:x:101:103:systemd Resolver,,,:/run/systemd:/usr/sbin/nologin\n",
      "systemd-timesync:x:102:104:systemd Time Synchronization,,,:/run/systemd:/usr/sbin/nologin\n",
      "messagebus:x:103:106::/nonexistent:/usr/sbin/nologin\n",
      "syslog:x:104:110::/home/syslog:/usr/sbin/nologin\n",
      "_apt:x:105:65534::/nonexistent:/usr/sbin/nologin\n",
      "tss:x:106:111:TPM software stack,,,:/var/lib/tpm:/bin/false\n",
      "uuidd:x:107:112::/run/uuidd:/usr/sbin/nologin\n",
      "tcpdump:x:108:113::/nonexistent:/usr/sbin/nologin\n",
      "landscape:x:109:115::/var/lib/landscape:/usr/sbin/nologin\n",
      "pollinate:x:110:1::/var/cache/pollinate:/bin/false\n",
      "sshd:x:111:65534::/run/sshd:/usr/sbin/nologin\n",
      "systemd-coredump:x:999:999:systemd Core Dumper:/:/usr/sbin/nologin\n",
      "oi:x:1000:1000:Cloudevel:/home/oi:/bin/bash\n",
      "lxd:x:998:100::/var/snap/lxd/common/lxd:/bin/false\n"
     ]
    }
   ],
   "source": [
    "cat /etc/passwd"
   ]
  },
  {
   "cell_type": "markdown",
   "metadata": {},
   "source": [
    "```\n",
    "<nombre de usuario>:<contraseña>:<id del usuario>:<id del grupo primario>:<nombre del usuario>:<home del usuario>:<shell>\n",
    "```"
   ]
  },
  {
   "cell_type": "markdown",
   "metadata": {},
   "source": [
    "### El archivo */etc/group*.\n",
    "\n",
    "Este archivo guarda un listado de grupos y de los usuarios que pertenecen a ellos."
   ]
  },
  {
   "cell_type": "code",
   "execution_count": 7,
   "metadata": {},
   "outputs": [
    {
     "name": "stdout",
     "output_type": "stream",
     "text": [
      "root:x:0:\n",
      "daemon:x:1:\n",
      "bin:x:2:\n",
      "sys:x:3:\n",
      "adm:x:4:syslog,oi\n",
      "tty:x:5:\n",
      "disk:x:6:\n",
      "lp:x:7:\n",
      "mail:x:8:\n",
      "news:x:9:\n",
      "uucp:x:10:\n",
      "man:x:12:\n",
      "proxy:x:13:\n",
      "kmem:x:15:\n",
      "dialout:x:20:\n",
      "fax:x:21:\n",
      "voice:x:22:\n",
      "cdrom:x:24:oi\n",
      "floppy:x:25:\n",
      "tape:x:26:\n",
      "sudo:x:27:oi\n",
      "audio:x:29:\n",
      "dip:x:30:oi\n",
      "www-data:x:33:\n",
      "backup:x:34:\n",
      "operator:x:37:\n",
      "list:x:38:\n",
      "irc:x:39:\n",
      "src:x:40:\n",
      "gnats:x:41:\n",
      "shadow:x:42:\n",
      "utmp:x:43:\n",
      "video:x:44:\n",
      "sasl:x:45:\n",
      "plugdev:x:46:oi\n",
      "staff:x:50:\n",
      "games:x:60:\n",
      "users:x:100:\n",
      "nogroup:x:65534:\n",
      "systemd-journal:x:101:\n",
      "systemd-network:x:102:\n",
      "systemd-resolve:x:103:\n",
      "systemd-timesync:x:104:\n",
      "crontab:x:105:\n",
      "messagebus:x:106:\n",
      "input:x:107:\n",
      "kvm:x:108:\n",
      "render:x:109:\n",
      "syslog:x:110:\n",
      "tss:x:111:\n",
      "uuidd:x:112:\n",
      "tcpdump:x:113:\n",
      "ssh:x:114:\n",
      "landscape:x:115:\n",
      "lxd:x:116:oi\n",
      "systemd-coredump:x:999:\n",
      "oi:x:1000:\n",
      "ssl-cert:x:117:\n"
     ]
    }
   ],
   "source": [
    "cat /etc/group"
   ]
  },
  {
   "cell_type": "markdown",
   "metadata": {},
   "source": [
    "```\n",
    "<nombre del grupo>:x:<id del grupo>:<lista de usuarios por su nombre>\n",
    "```"
   ]
  },
  {
   "cell_type": "markdown",
   "metadata": {},
   "source": [
    "### El archivo */etc/shadow*.\n",
    "\n",
    "Este archivo guarda las contraseñas cifradas."
   ]
  },
  {
   "cell_type": "code",
   "execution_count": 8,
   "metadata": {},
   "outputs": [
    {
     "name": "stdout",
     "output_type": "stream",
     "text": [
      "cat: /etc/shadow: Permission denied\n"
     ]
    },
    {
     "ename": "",
     "evalue": "1",
     "output_type": "error",
     "traceback": []
    }
   ],
   "source": [
    "cat /etc/shadow"
   ]
  },
  {
   "cell_type": "code",
   "execution_count": 9,
   "metadata": {},
   "outputs": [
    {
     "name": "stdout",
     "output_type": "stream",
     "text": [
      "root:*:18375:0:99999:7:::\n",
      "daemon:*:18375:0:99999:7:::\n",
      "bin:*:18375:0:99999:7:::\n",
      "sys:*:18375:0:99999:7:::\n",
      "sync:*:18375:0:99999:7:::\n",
      "games:*:18375:0:99999:7:::\n",
      "man:*:18375:0:99999:7:::\n",
      "lp:*:18375:0:99999:7:::\n",
      "mail:*:18375:0:99999:7:::\n",
      "news:*:18375:0:99999:7:::\n",
      "uucp:*:18375:0:99999:7:::\n",
      "proxy:*:18375:0:99999:7:::\n",
      "www-data:*:18375:0:99999:7:::\n",
      "backup:*:18375:0:99999:7:::\n",
      "list:*:18375:0:99999:7:::\n",
      "irc:*:18375:0:99999:7:::\n",
      "gnats:*:18375:0:99999:7:::\n",
      "nobody:*:18375:0:99999:7:::\n",
      "systemd-network:*:18375:0:99999:7:::\n",
      "systemd-resolve:*:18375:0:99999:7:::\n",
      "systemd-timesync:*:18375:0:99999:7:::\n",
      "messagebus:*:18375:0:99999:7:::\n",
      "syslog:*:18375:0:99999:7:::\n",
      "_apt:*:18375:0:99999:7:::\n",
      "tss:*:18375:0:99999:7:::\n",
      "uuidd:*:18375:0:99999:7:::\n",
      "tcpdump:*:18375:0:99999:7:::\n",
      "landscape:*:18375:0:99999:7:::\n",
      "pollinate:*:18375:0:99999:7:::\n",
      "sshd:*:18392:0:99999:7:::\n",
      "systemd-coredump:!!:18392::::::\n",
      "oi:$6$1hCTIMMk5HJ9fEDc$UOfcEhYNZrSBqA.3LKMvYQmZuap6jITCYyJHJA/dGCfoKXFr2Ny3hmsChkyHQxdPUjjWV2ypvEYnF7IwuudNY.:18392:0:99999:7:::\n",
      "lxd:!:18392::::::\n"
     ]
    }
   ],
   "source": [
    "sudo cat /etc/shadow"
   ]
  },
  {
   "cell_type": "markdown",
   "metadata": {},
   "source": [
    "## Gestión de usuarios."
   ]
  },
  {
   "cell_type": "markdown",
   "metadata": {},
   "source": [
    "### Creación de usuarios con ```useradd```."
   ]
  },
  {
   "cell_type": "code",
   "execution_count": 10,
   "metadata": {},
   "outputs": [],
   "source": [
    "sudo useradd python "
   ]
  },
  {
   "cell_type": "code",
   "execution_count": 11,
   "metadata": {},
   "outputs": [
    {
     "name": "stdout",
     "output_type": "stream",
     "text": [
      "ls: cannot access '/home/python': No such file or directory\n"
     ]
    },
    {
     "ename": "",
     "evalue": "2",
     "output_type": "error",
     "traceback": []
    }
   ],
   "source": [
    "sudo ls /home/python -a"
   ]
  },
  {
   "cell_type": "code",
   "execution_count": 12,
   "metadata": {},
   "outputs": [
    {
     "name": "stdout",
     "output_type": "stream",
     "text": [
      "python:x:1001:1001::/home/python:/bin/sh\n"
     ]
    }
   ],
   "source": [
    "cat /etc/passwd | grep python"
   ]
  },
  {
   "cell_type": "markdown",
   "metadata": {},
   "source": [
    "### Eliminación de usuarios con ```userdel```."
   ]
  },
  {
   "cell_type": "code",
   "execution_count": 13,
   "metadata": {},
   "outputs": [],
   "source": [
    "sudo userdel python"
   ]
  },
  {
   "cell_type": "code",
   "execution_count": 14,
   "metadata": {},
   "outputs": [
    {
     "ename": "",
     "evalue": "1",
     "output_type": "error",
     "traceback": []
    }
   ],
   "source": [
    "cat /etc/passwd | grep python"
   ]
  },
  {
   "cell_type": "code",
   "execution_count": 15,
   "metadata": {},
   "outputs": [
    {
     "name": "stdout",
     "output_type": "stream",
     "text": [
      "ls: cannot access '/home/python': No such file or directory\n"
     ]
    },
    {
     "ename": "",
     "evalue": "2",
     "output_type": "error",
     "traceback": []
    }
   ],
   "source": [
    "sudo ls /home/python -al"
   ]
  },
  {
   "cell_type": "markdown",
   "metadata": {},
   "source": [
    "### Modificación con ```usermod```."
   ]
  },
  {
   "cell_type": "code",
   "execution_count": 16,
   "metadata": {},
   "outputs": [
    {
     "name": "stdout",
     "output_type": "stream",
     "text": [
      "usermod: user 'pythonista' does not exist\n"
     ]
    },
    {
     "ename": "",
     "evalue": "6",
     "output_type": "error",
     "traceback": []
    }
   ],
   "source": [
    "sudo usermod pythonista -u 1003"
   ]
  },
  {
   "cell_type": "code",
   "execution_count": 17,
   "metadata": {},
   "outputs": [
    {
     "name": "stdout",
     "output_type": "stream",
     "text": [
      "ls: cannot access '/home/python': No such file or directory\n"
     ]
    },
    {
     "ename": "",
     "evalue": "2",
     "output_type": "error",
     "traceback": []
    }
   ],
   "source": [
    "sudo ls /home/python -al"
   ]
  },
  {
   "cell_type": "markdown",
   "metadata": {},
   "source": [
    "## Gestión de grupos."
   ]
  },
  {
   "cell_type": "markdown",
   "metadata": {},
   "source": [
    "### Creación de grupos con ```groupadd```."
   ]
  },
  {
   "cell_type": "markdown",
   "metadata": {},
   "source": [
    "### Eliminación de grupos con ```groupdel```."
   ]
  },
  {
   "cell_type": "markdown",
   "metadata": {},
   "source": [
    "### Modificación de grupos con```groupmod```."
   ]
  },
  {
   "cell_type": "markdown",
   "metadata": {},
   "source": [
    "### Consulta de grupos de un usuario con ```groups ```."
   ]
  },
  {
   "cell_type": "code",
   "execution_count": null,
   "metadata": {
    "scrolled": true
   },
   "outputs": [],
   "source": [
    "groups oi"
   ]
  },
  {
   "cell_type": "markdown",
   "metadata": {},
   "source": [
    "## Consulta de gid y uid de un usuario con ```id```."
   ]
  },
  {
   "cell_type": "code",
   "execution_count": null,
   "metadata": {
    "scrolled": true
   },
   "outputs": [],
   "source": [
    "id"
   ]
  },
  {
   "cell_type": "code",
   "execution_count": null,
   "metadata": {},
   "outputs": [],
   "source": [
    "id root"
   ]
  },
  {
   "cell_type": "code",
   "execution_count": null,
   "metadata": {},
   "outputs": [],
   "source": [
    "id apache"
   ]
  },
  {
   "cell_type": "code",
   "execution_count": null,
   "metadata": {},
   "outputs": [],
   "source": [
    "id mysql"
   ]
  },
  {
   "cell_type": "markdown",
   "metadata": {},
   "source": [
    "## Cambio de contraseña con ```passwd```.\n",
    "\n",
    "\n",
    "```\n",
    "passwd\n",
    "```\n",
    "\n",
    "```\n",
    "passwd <usuario>\n",
    "```"
   ]
  },
  {
   "cell_type": "markdown",
   "metadata": {},
   "source": [
    "## Cambio de usuarios con *su*.\n",
    "\n",
    "```\n",
    "su \n",
    "```\n",
    "\n",
    "\n",
    "```\n",
    "su <usuario> -\n",
    "```"
   ]
  },
  {
   "cell_type": "markdown",
   "metadata": {},
   "source": [
    "## El directorio ```/etc/skel```."
   ]
  },
  {
   "cell_type": "code",
   "execution_count": null,
   "metadata": {},
   "outputs": [],
   "source": [
    "sudo ls /etc/skel -al"
   ]
  },
  {
   "cell_type": "markdown",
   "metadata": {},
   "source": [
    "\n",
    "## Uitilerías.\n",
    "\n",
    "### ```whoami ```.\n",
    "### ```who```.\n",
    "### ```w```.\n",
    "### ```users```."
   ]
  },
  {
   "cell_type": "markdown",
   "metadata": {
    "collapsed": true
   },
   "source": [
    "<p style=\"text-align: center\"><a rel=\"license\" href=\"http://creativecommons.org/licenses/by/4.0/\"><img alt=\"Licencia Creative Commons\" style=\"border-width:0\" src=\"https://i.creativecommons.org/l/by/4.0/80x15.png\" /></a><br />Esta obra está bajo una <a rel=\"license\" href=\"http://creativecommons.org/licenses/by/4.0/\">Licencia Creative Commons Atribución 4.0 Internacional</a>.</p>\n",
    "<p style=\"text-align: center\">&copy; José Luis Chiquete Valdivieso. 2019.</p>"
   ]
  }
 ],
 "metadata": {
  "kernelspec": {
   "display_name": "Bash",
   "language": "bash",
   "name": "bash"
  },
  "language_info": {
   "codemirror_mode": "shell",
   "file_extension": ".sh",
   "mimetype": "text/x-sh",
   "name": "bash"
  }
 },
 "nbformat": 4,
 "nbformat_minor": 2
}
