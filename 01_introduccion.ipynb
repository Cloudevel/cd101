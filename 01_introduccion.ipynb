{
 "cells": [
  {
   "cell_type": "markdown",
   "metadata": {},
   "source": [
    "[![cloudevel](Imagenes/cloudevel.png)](https://cloudevel.com)\n",
    "\n"
   ]
  },
  {
   "cell_type": "markdown",
   "metadata": {
    "collapsed": true
   },
   "source": [
    "##  Objetivos .\n",
    "\n",
    "\n",
    "### Uso de la línea de comandos.\n",
    "\n",
    "A lo largo del taller se presentará a los asistentes los aspectos básicos de los entornos basados en GNU/Linux, haciendo énfasis en el uso de la línea de comandos.\n",
    "\n",
    "### Conocimiento básico sobre el kernel de Linux.\n",
    "\n",
    "Se estudiará la forma en la que el kernel de Linux cuenta con diversos servicios de bajo nivel para ofrecer una plataforma robusta para diversos tipos de proyectos\n",
    "\n",
    "### Estructura de un entorno basado en GNU/Linux.\n",
    "\n",
    "Se estudiará la forma en la que está conformado de forma general un sistema GNU/Linux, incluyendo:\n",
    "\n",
    "* Gestión de usuarios y grupos.\n",
    "* Sistemas de archivos.\n",
    "* Gestión de dispositivos y medios.\n",
    "* Gestion de trabajos y procesos.\n",
    "\n",
    "### Administración básica de un entorno basado en GNU/Linux.\n",
    "\n",
    "Se estudiarán los recursos primordiales que permiten una adecuada administración de un sistema GNU/Linux.\n",
    "\n",
    "### Virtualización y contenedores.\n",
    "\n",
    "Se hará una somera introducción a la forma en la que los entornos basados en GNU/Linux pueden ser desplegados mediante el uso de virtualizaci;ón y contenedores."
   ]
  },
  {
   "cell_type": "markdown",
   "metadata": {},
   "source": [
    "## Antecedentes."
   ]
  },
  {
   "cell_type": "markdown",
   "metadata": {},
   "source": [
    "### UNIX.\n",
    "\n",
    "Los sistemas UNIX, (AIX, Solaris, MacOS X, etc.) y aquellos basados en UNIX, tales como los de la famila BSD, representan el antecedente directo de GNU/Linux.\n",
    "\n",
    "UNIX fue desarrollado por [Brian Kernighan](https://es.wikipedia.org/wiki/Brian_Kernighan), [Ken Thompson](https://es.wikipedia.org/wiki/Ken_Thompson) y [Dennis Ritchie](https://es.wikipedia.org/wiki/Dennis_Ritchie) para los Bell Labs de AT&T en 1969 como un sistema operativo para servidores muti-usuarios.\n",
    "\n",
    "A partir de su creación, los sistemas operativos UNIX han sido utilizados primordialmente para servidores y fuerno los primeros en contar un \"stack\" de herramientas para el protocolo TCP/IP. \n",
    "\n",
    "Actualmente, el sistema UNIX más utilizado en el mundo es [MacOS X](https://developer.apple.com/library/archive/documentation/MacOSX/Conceptual/OSX_Technology_Overview/SystemTechnology/SystemTechnology.html), el cual está basado en la especificación [4.4BSD](https://es.wikipedia.org/wiki/Berkeley_Software_Distribution).\n",
    "\n",
    "Durante la década de los 1980 y 1990, ocurrieron una serie de disputas con respecto a la propiedad de la especificación y la marca *UNIX* y es en 1993 que UNIX es una marca propiedad de [The Open Group](https://www.opengroup.org/)."
   ]
  },
  {
   "cell_type": "markdown",
   "metadata": {},
   "source": [
    "### POSIX.\n",
    "\n",
    "La familia de plataformas UNIX se apega a un estándar llamado [POSIX](http://pubs.opengroup.org/onlinepubs/9699919799/), el cual define las interfaces y entorno de un sistema operativo y su *shell*.\n",
    "\n",
    "Esta especificación también es compartida en algunos aspectos dentro de GNU/Linux."
   ]
  },
  {
   "cell_type": "markdown",
   "metadata": {},
   "source": [
    "### Software Libre.\n",
    "\n",
    "El software libre nació como una reacción a las estrategias de las empresas fabricantes de software para evitar que los usuarios accedieran al código de sus productos.\n",
    "\n",
    "La [Free Software Foundation](https://www.fsf.org/) es una organización creada en 1985 por [Richard Stallman](https://es.wikipedia.org/wiki/Richard_Stallman), la cual tiene por misión crear las directirces y promover los derechos emanados del software publicado bajo un esquema de licenciamiento que garanticen las llamadas 4 libertades.\n",
    "\n",
    "#### Las cuatro libertades.\n",
    "\n",
    "Las cuatro libertades que promueve y salvaguarda el software libre son:\n",
    "\n",
    "0. La libertad de usar el programa, con cualquier propósito.\n",
    "\n",
    "1. La libertad de estudiar cómo funciona el programa y modificarlo, adaptándolo a tus necesidades.\n",
    "\n",
    "2. La libertad de distribuir copias del programa, con lo cual puedes ayudar al prójimo.\n",
    "\n",
    "3. La libertad de mejorar el programa y hacer públicas esas mejoras a los demás, de modo que toda la comunidad se beneficie.\n",
    "\n",
    "\n",
    "#### El copyleft ylas licencias libres.\n",
    "\n",
    "Para reforzar estas cuatro libertades se acuño el término *copyleft*, como una oposición al *copyrgiht*.\n",
    "\n",
    "El copyleft implica que el software derivado de código publicado mediante una licencia de este tipo, deberá de liberarse bajo una licencia idéntica o compatible, garantizando así la libertad de dicho software derivado.\n",
    "\n",
    "A partir de esto, la FSF define licencias libre con op sin copyleft.\n",
    "\n",
    "\n",
    "#### La licencia GNU GPL.\n",
    "\n",
    "La [*GNU General Public License*](https://www.gnu.org/licenses/gpl) o GNU GPL es la licencia sugerida por la FSF. Existen varias versiones de esta licencia.\n",
    "\n",
    "El kernel de Linux es publicado bajo los términos de la GPLv2.\n",
    "\n",
    "\n",
    "Existe un catálogo de licencias de la FSF que discute las caracterísitcas de cada unas, así como su compatibilidad con la GPL y el copyleft. Dicho catálogo puede ser consultado desde https://www.gnu.org/licenses/licenses.html/"
   ]
  },
  {
   "cell_type": "markdown",
   "metadata": {},
   "source": [
    "### Sofware de código abierto u Open Source.\n",
    "\n",
    "De forma paralela a la FSF, se creó la [Open Source Initiative](https://opensource.org/), la cual promueve la utilización de licencias que permitan la libre distribución de código y el uso de estándares abiertos, pero no promueve las 4 libertades.\n",
    "\n",
    "Debido a que el concepto de Software Libre tiene una fuerte cargas moral y a que el concepto de código abierto es mucho más pragmático, las empresas y corporativos prefieren usar el término \"código abierto\" a \"software libre\".\n",
    "\n",
    "La OSI también cuenta con un catálogo de licencias muy similar al de la FSF, el cual puede ser consultado en https://opensource.org/licenses/."
   ]
  },
  {
   "cell_type": "markdown",
   "metadata": {},
   "source": [
    "## ¿Qué es GNU/Linux?\n",
    "\n",
    "La plataforma GNU/Linux estás conformada por el kernel de Linux para las operaciones de más bajo nivel, mientras que las operaciones y herramientas básicas de la plataforma están basadas en el proyecto GNU. "
   ]
  },
  {
   "cell_type": "markdown",
   "metadata": {},
   "source": [
    "### El proyecto GNU.\n",
    "\n",
    "[GNU](https://www.gnu.org/) es el acrónino de \"GNU is not UNIX\" consta de una serie de herramientas que emulan prácticamente a todas las herramientas e interfaces de los sistemas UNIX, pero estas herramientas son publicadas bajo una licencia libre y primordialmente bajo la GNU.\n",
    "\n",
    "En un principio, el proyecto GNU tenía previsto incluir su propio kernel llamado [GNU/Hurd](https://www.gnu.org/software/hurd/index.html)."
   ]
  },
  {
   "cell_type": "markdown",
   "metadata": {},
   "source": [
    "### El kernel de Linux.\n",
    "\n",
    "El 25 de agosto de 1991, [Linus Torvalds](https://es.wikipedia.org/wiki/Linus_Torvalds) anunció la publicación de un proyecto escolar que consistía en un kernel compatible con las herramientas GNU llamado [Linux](https://www.linux.com/news/linuss-famous-email).\n",
    "\n",
    "Actualmente el kernel de Linux es el proyecto de software libre más exitoso de la historia y no sólo es la base de la plataforma GNU/Linux, sino de otras plataformas tan extedidas como [Android](https://source.android.com/devices/architecture/kernel/)."
   ]
  },
  {
   "cell_type": "markdown",
   "metadata": {},
   "source": [
    "## Las distribuciones de GNU/Linux.\n",
    "\n",
    "Debido a las características de la plataforma GNU/Linux, cualquier persona u organización con los recursos y conocimientos técnicos puede crear su propia versión de la plataforma. A estas variantes se les conoce como \"Distribuciones\"o \"Distros\".\n",
    "\n",
    "El sitio [Distro Watch](https://www.distrowatch.com/) lleva el registro de varias decenas de distribuciones de GNU/Linux."
   ]
  },
  {
   "cell_type": "markdown",
   "metadata": {},
   "source": [
    "## La Linux Foundation.\n",
    "\n",
    "Debido al éxito de la plataforma GNU/Linux, varios fabricantes de sistemas y proveedores de tecnología, crearon la [Linux Foudation](https://wiki.linuxfoundation.org), organización que tiene como fin delinear las especificaciones de las distribuciones comerciales basadas en GNU/Linux."
   ]
  },
  {
   "cell_type": "markdown",
   "metadata": {},
   "source": [
    "### Linux Standard Base.\n",
    "\n",
    "Para homologar los entornos basados en GNU/Linux, la Linux Foundation ha publicado la [Linux Standard base](https://wiki.linuxfoundation.org/lsb/start), la cual sugiere una serie de directrices sobre la arquitectura y estructura de las distribuciones comerciales basadas en la pataforma GNU/Linux."
   ]
  },
  {
   "cell_type": "markdown",
   "metadata": {},
   "source": [
    "<p style=\"text-align: center\"><a rel=\"license\" href=\"http://creativecommons.org/licenses/by/4.0/\"><img alt=\"Licencia Creative Commons\" style=\"border-width:0\" src=\"https://i.creativecommons.org/l/by/4.0/80x15.png\" /></a><br />Esta obra está bajo una <a rel=\"license\" href=\"http://creativecommons.org/licenses/by/4.0/\">Licencia Creative Commons Atribución 4.0 Internacional</a>.</p>\n",
    "<p style=\"text-align: center\">&copy; José Luis Chiquete Valdivieso. 2019.</p>"
   ]
  }
 ],
 "metadata": {
  "kernelspec": {
   "display_name": "Bash",
   "language": "bash",
   "name": "bash"
  },
  "language_info": {
   "codemirror_mode": "shell",
   "file_extension": ".sh",
   "mimetype": "text/x-sh",
   "name": "bash"
  }
 },
 "nbformat": 4,
 "nbformat_minor": 2
}
