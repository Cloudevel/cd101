{
 "cells": [
  {
   "cell_type": "markdown",
   "metadata": {},
   "source": [
    "[![cloudevel](img/cloudevel.png)](https://cloudevel.com)"
   ]
  },
  {
   "cell_type": "markdown",
   "metadata": {},
   "source": [
    "## Internet y los protocolos  *TCP/IP*.\n",
    "\n",
    "Todas las comunicaciones de redes basadas en Internet se apegan a una [familia de protocolos](https://es.wikipedia.org/wiki/Familia_de_protocolos_de_internet) conocidos como *TCP/IP* en  honor a los protocolos primordiales de este tipo de redes.\n",
    "\n",
    "Cada uno de estos protocolos es publicado por la Fueza de tarea de ingeniería de Internet o [*IETF*](https://www.ietf.org/) por sus siglas en inglés.\n",
    "\n",
    "Los protocolos y estándares de la *IETF* son generado mediante iniciativas llamadas peticiones para comentarios o *RFC*. Estas *RFC* pueden ser consultadas desde:\n",
    "\n",
    "https://www.rfc-editor.org/."
   ]
  },
  {
   "cell_type": "markdown",
   "metadata": {},
   "source": [
    "## El modelo *OSI*.\n",
    "\n",
    "El modelo de interconexión de sistemas abiertos [(*OSI*)](https://es.wikipedia.org/wiki/Modelo_OSI) es una especificación (*ISO/IEC 7498-1*) que se utiliza como modelo para la definición de protocolos de internet y define 7 capas.\n",
    "\n",
    "1. Capa física.\n",
    "* Capa de enlace de datos.\n",
    "* Capa de red.\n",
    "* Capa de transporte.\n",
    "* Capa de sesión.\n",
    "* Capa de presentación.\n",
    "* Capa de aplicación."
   ]
  },
  {
   "cell_type": "markdown",
   "metadata": {},
   "source": [
    "## Paquetes de datos.\n",
    "\n",
    "Los datos que se transmiten por redes basadas en los protocolos *TCP/IP* se *empaquetan* mediante el uso de encabezados. Cada paquete está conformado por el mensaje y varios encabezados."
   ]
  },
  {
   "cell_type": "markdown",
   "metadata": {},
   "source": [
    "### Direcciones *MAC* y el protocolo *ARP*.\n",
    "\n",
    "Cada interfaz de red cuenta con un número de identificación único conocido como *MAC Address* o dirección física.\n",
    "\n",
    "El protocolo [*ARP*](https://es.wikipedia.org/wiki/Protocolo_de_resoluci%C3%B3n_de_direcciones) es el protocolo encargado de identificar las direcciones físicas de los dispositivos dentro de una red. "
   ]
  },
  {
   "cell_type": "markdown",
   "metadata": {},
   "source": [
    "## El protocolo *IP*.\n",
    "\n",
    "El protocolo de internet (*IP*) pretenece a la capa de red y permite identificar a un nodo mediante un identificador.\n",
    "\n",
    "Un nodo de Internet es un dispositivo con el que cualquier otro puede comunicarse.\n",
    "\n",
    "* Servidores.\n",
    "* Rueadores.\n",
    "* Clientes."
   ]
  },
  {
   "cell_type": "markdown",
   "metadata": {},
   "source": [
    "### Direcciones *IP*.\n",
    "\n",
    "Corresponde al [*RFC 791*](https://tools.ietf.org/html/rfc791) de la *IETF*.\n",
    "\n",
    "Una dirección *IP* es una secuencia de números que identifica a un recurso en una red (intranet o internet). "
   ]
  },
  {
   "cell_type": "markdown",
   "metadata": {},
   "source": [
    "#### Direcciones *IP* versión 4 .\n",
    "\n",
    "Las direcciones de internet descritas en la verión 4 de protocolo *IP* correponden a un número de 32 bits que se describe a su vez mediante una sucesión de 4 bytes (0 al 255) separados por puntos. "
   ]
  },
  {
   "cell_type": "markdown",
   "metadata": {},
   "source": [
    "**Ejemplo:**\n",
    "\n",
    "Los servidores de nombres de dominio de *Google* son ```8.8.8.8``` y ```4.4.4.4```."
   ]
  },
  {
   "cell_type": "markdown",
   "metadata": {},
   "source": [
    "#### DIrecciones *IP* versión 6.\n",
    "\n",
    "*IPv6* es un protocolo renovado que no solo extiende el número disponible de direcciones *IP*, sino que se enfoca a la seguridad y privacidad de la información.\n",
    "\n",
    "Las direcciones *IPv4* públicas son muy limitadas con respecto al número de nodos de internet existentes en la actualidad. El protocolo *IPv6* es una nueva especificación que aumenta el número disponible de nodos.\n",
    "\n",
    "Una dirección IPv6 corresponde a un número de 128 bits."
   ]
  },
  {
   "cell_type": "markdown",
   "metadata": {},
   "source": [
    "## Ruteo.\n",
    "\n",
    "Las direcciones IP permite identificar a un  nodo en una red. Los paquetes de información viajan entre nodos, pero estas rutas nos iempre son las mismas. \n",
    "\n",
    "Los ruteadores son dispositivos que reciben y envían paquetes a todo Internet.\n",
    "* Si el paquete corresponde a un nodo conocido, lo enviá directamente. \n",
    "* Si el paquete es de un nodo desconociudo, lo  envía a ruteador."
   ]
  },
  {
   "cell_type": "markdown",
   "metadata": {},
   "source": [
    "## Segmentos, transmisón y máscaras.\n",
    "\n",
    "Existe una organización llamada [IANA](http://www.iana.org/) que es la encargada de distribuir segmentos de direcciones IP. \n",
    "\n",
    "Esta organizaciín define redes por clases.\n",
    "\n",
    "* Clase A \n",
    "* Clase B\n",
    "* Clase C"
   ]
  },
  {
   "cell_type": "markdown",
   "metadata": {},
   "source": [
    "## Intranets.\n",
    "\n",
    "Una intranet es una red local que utiliza direcciones IP restringidas.\n",
    "\n",
    "IANA define 3 segmentos de red que pueden ser utilizados por las intranets. A estas se le conoce como IP privadas y están restringidas a la intranet.\n",
    "\n",
    "* 10.0.0.0 – 10.255.255.255 (Class A)\n",
    "* 172.16.00 – 172.31.255.255 (Class B)\n",
    "* 192.168.0.0 – 192.168.255.255 (Class C)\n",
    "\n",
    "### Direcciones IP públicas.\n",
    "\n",
    "Son todas las direcciones IP que no están en estos segmentos."
   ]
  },
  {
   "cell_type": "markdown",
   "metadata": {},
   "source": [
    "### NAT.\n",
    "\n",
    "La traducción de direcciones de red (NAT) permite a un ruteador comunicar una intranet con otras intranets y con Internet.  "
   ]
  },
  {
   "cell_type": "markdown",
   "metadata": {},
   "source": [
    "### DHCP."
   ]
  },
  {
   "cell_type": "markdown",
   "metadata": {},
   "source": [
    "##  Protocolos transmisión.\n",
    "\n",
    "### TCP. \n",
    "Este protocolo permite enviar paquetes por internet y se asegura de que los paquetes llegen completos.\n",
    "\n",
    "#### TCP handhsake \n",
    "\n",
    "### UDP.\n",
    "\n",
    "UDP envía los paquetes, sin esperar respuesta de que fueron recibidos."
   ]
  },
  {
   "cell_type": "code",
   "execution_count": null,
   "metadata": {
    "scrolled": true
   },
   "outputs": [],
   "source": [
    "ip a"
   ]
  },
  {
   "cell_type": "markdown",
   "metadata": {},
   "source": [
    "La NIC con nombre *lo* corresponde siempre a las comunicacións internas del sistema."
   ]
  },
  {
   "cell_type": "code",
   "execution_count": null,
   "metadata": {},
   "outputs": [],
   "source": [
    "ip addr"
   ]
  },
  {
   "cell_type": "markdown",
   "metadata": {},
   "source": [
    "El comando ```ip``` es muy versátil y tiene muchas opciones avanzadas.\n",
    "\n",
    "Puede consultar una referencia rápida en https://access.redhat.com/sites/default/files/attachments/rh_ip_command_cheatsheet_1214_jcs_print.pdf"
   ]
  },
  {
   "cell_type": "markdown",
   "metadata": {},
   "source": [
    "### Los scripts de configuración de interfaces de red.\n",
    "\n",
    "Es importante saber que en las distribuciones de GNU/Linux más modernas, la configuración de las NIC son automáticas. \n",
    "\n",
    "* Los scripts de configuracion de distribuciones basadas en *Red Hat* se encuentran en ```/etc/sysconfig/network-scripts/```.\n",
    "\n",
    "* Los scripts de configuracion de distribuciones basadas en *Debian* se encuentran en ```/etc/network/```."
   ]
  },
  {
   "cell_type": "code",
   "execution_count": null,
   "metadata": {},
   "outputs": [],
   "source": [
    "ls /etc/network"
   ]
  },
  {
   "cell_type": "code",
   "execution_count": null,
   "metadata": {},
   "outputs": [],
   "source": [
    "ls /etc/network/if-up.d"
   ]
  },
  {
   "cell_type": "code",
   "execution_count": 1,
   "metadata": {},
   "outputs": [
    {
     "name": "stdout",
     "output_type": "stream",
     "text": [
      "#!/bin/sh\n",
      "\n",
      "ETHTOOL=/sbin/ethtool\n",
      "\n",
      "test -x $ETHTOOL || exit 0\n",
      "\n",
      "[ \"$IFACE\" != \"lo\" ] || exit 0\n",
      "\n",
      "# Find settings with a given prefix and print them as they appeared in\n",
      "# /etc/network/interfaces, only with the prefix removed.\n",
      "# This actually prints each name and value on a separate line, but that\n",
      "# doesn't matter to the shell.\n",
      "gather_settings () {\n",
      "    set | sed -n \"\n",
      "/^IF_$1[A-Za-z0-9_]*=/ {\n",
      "    h;                             # hold line\n",
      "    s/^IF_$1//; s/=.*//; s/_/-/g;  # get name without prefix\n",
      "    y/ABCDEFGHIJKLMNOPQRSTUVWXYZ/abcdefghijklmnopqrstuvwxyz/;  # lower-case\n",
      "    p;\n",
      "    g;                             # restore line\n",
      "    s/^[^=]*=//; s/^'\\(.*\\)'/\\1/;  # get value\n",
      "    p;\n",
      "}\"\n",
      "}\n",
      "\n",
      "# Gather together the mixed bag of settings applied with -s/--change\n",
      "SETTINGS=\"\\\n",
      "${IF_LINK_SPEED:+ speed $IF_LINK_SPEED}\\\n",
      "${IF_LINK_DUPLEX:+ duplex $IF_LINK_DUPLEX}\\\n",
      "\"\n",
      "\n",
      "# WOL has an optional pass-key\n",
      "set -- $IF_ETHERNET_WOL\n",
      "SETTINGS=\"$SETTINGS${1:+ wol $1}${2:+ sopass $2}\"\n",
      "\n",
      "# Autonegotiation can be on|off or an advertising mask\n",
      "case \"$IF_ETHERNET_AUTONEG\" in\n",
      "'')\t;;\n",
      "on|off)\tSETTINGS=\"$SETTINGS autoneg $IF_ETHERNET_AUTONEG\" ;;\n",
      "*)\tSETTINGS=\"$SETTINGS autoneg on advertise $IF_ETHERNET_AUTONEG\" ;;\n",
      "esac\n",
      "\n",
      "[ -z \"$SETTINGS\" ] || $ETHTOOL --change \"$IFACE\" $SETTINGS\n",
      "\n",
      "SETTINGS=\"$(gather_settings ETHERNET_PAUSE_)\"\n",
      "[ -z \"$SETTINGS\" ] || $ETHTOOL --pause \"$IFACE\" $SETTINGS\n",
      "\n",
      "SETTINGS=\"$(gather_settings HARDWARE_IRQ_COALESCE_)\"\n",
      "[ -z \"$SETTINGS\" ] || $ETHTOOL --coalesce \"$IFACE\" $SETTINGS\n",
      "\n",
      "SETTINGS=\"$(gather_settings HARDWARE_DMA_RING_)\"\n",
      "[ -z \"$SETTINGS\" ] || $ETHTOOL --set-ring \"$IFACE\" $SETTINGS\n",
      "\n",
      "SETTINGS=\"$(gather_settings OFFLOAD_)\"\n",
      "[ -z \"$SETTINGS\" ] || $ETHTOOL --offload \"$IFACE\" $SETTINGS\n"
     ]
    }
   ],
   "source": [
    "cat /etc/network/if-up.d/ethtool"
   ]
  },
  {
   "cell_type": "markdown",
   "metadata": {},
   "source": [
    "## Utilerías.\n"
   ]
  },
  {
   "cell_type": "markdown",
   "metadata": {},
   "source": [
    "### ```ping```.\n",
    "\n",
    "Este comando verifica que unn servidor esté \"arriba\".\n",
    "\n",
    "```ping <nombre del servidor o IP>```"
   ]
  },
  {
   "cell_type": "markdown",
   "metadata": {},
   "source": [
    "### El comando ```ss```.\n",
    "\n",
    "Este es un comando avanzado de monitoreo de red por medio de sockets."
   ]
  },
  {
   "cell_type": "code",
   "execution_count": null,
   "metadata": {},
   "outputs": [],
   "source": [
    "ss "
   ]
  },
  {
   "cell_type": "markdown",
   "metadata": {},
   "source": []
  },
  {
   "cell_type": "markdown",
   "metadata": {},
   "source": [
    "<p style=\"text-align: center\"><a rel=\"license\" href=\"http://creativecommons.org/licenses/by/4.0/\"><img alt=\"Licencia Creative Commons\" style=\"border-width:0\" src=\"https://i.creativecommons.org/l/by/4.0/80x15.png\" /></a><br />Esta obra está bajo una <a rel=\"license\" href=\"http://creativecommons.org/licenses/by/4.0/\">Licencia Creative Commons Atribución 4.0 Internacional</a>.</p>\n",
    "<p style=\"text-align: center\">&copy; José Luis Chiquete Valdivieso. 2020.</p>"
   ]
  }
 ],
 "metadata": {
  "kernelspec": {
   "display_name": "Bash",
   "language": "bash",
   "name": "bash"
  },
  "language_info": {
   "codemirror_mode": "shell",
   "file_extension": ".sh",
   "mimetype": "text/x-sh",
   "name": "bash"
  }
 },
 "nbformat": 4,
 "nbformat_minor": 2
}
