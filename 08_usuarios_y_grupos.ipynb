{
 "cells": [
  {
   "cell_type": "markdown",
   "metadata": {},
   "source": [
    "[![cloudevel](Imagenes/cloudevel.png)](https://cloudevel.com)"
   ]
  },
  {
   "cell_type": "markdown",
   "metadata": {},
   "source": [
    "## Notas preliminares sobre el uso de esta notebook.\n",
    "\n",
    "Las notebooks de este curso han sido diseñadas para ejecutarse dentro alguna de las máquina virtuales proporcionada por Cloudevel<sup>®</sup>.\n",
    "\n",
    "Dichas máquinas virtuales están configuradas con:\n",
    "* Un usuario *root* con la contraseña *0p3n5t4ckCDMX*.\n",
    "* Un usuario llamado *oi* con la contraseña *0p3n5t4ck*.\n",
    "\n",
    "En caso de ejecutar las siguientes celdas en un sistema distinto, es muy probable que no funcionen.\n",
    "\n",
    "**ADVERTENCIA:**\n",
    "\n",
    "El escalamiento de privilegios en un sistema puede tener consecuencias graves si se utiliza de forma imprudente. Se aconseja enfáticamente utilizar los comandos de esta notebook en un entorno de pruebas."
   ]
  },
  {
   "cell_type": "markdown",
   "metadata": {},
   "source": [
    "## Control de acceso mediante usuarios y grupos.\n",
    "\n",
    "Tanto los directorios y archivos como los procesos de los sistemas UNIX y GNU/Linux están ligados desde su creación a un usuario y a un grupo de usuarios. \n",
    "\n",
    "Del mismo modo, a cada uno de estos elementos se le asigna una serie de permisos para el usuario propietario, el grupo propietario y el resto de los usuarios.\n",
    "\n",
    "Los usuarios no necesariamente deben de ser personas que accedan al sistema. También es posible crear usuarios especiales a los que se les asignen ciertas aplicaciones o servicios específicos."
   ]
  },
  {
   "cell_type": "markdown",
   "metadata": {},
   "source": [
    "**Ejemplo:**\n",
    "\n",
    "La máquina virtual proporcionada por Cloudevel<sup>®</sup> tiene habilitado y en ejecución al servidor web Apache, el cual está ligado al usuario *apache* y al grupo *apache*. \n",
    "\n",
    "El servidor Apache está configurado para desplegar el contenido del directorio */var/www/html* en [http://localhost:8980](http://localhost:8980)\n",
    "\n",
    "* La siguiente celda desplegará el listado extendido de */var/www/html*."
   ]
  },
  {
   "cell_type": "code",
   "execution_count": null,
   "metadata": {
    "scrolled": true
   },
   "outputs": [],
   "source": [
    "ls -al /var/www/html"
   ]
  },
  {
   "cell_type": "markdown",
   "metadata": {},
   "source": [
    "El resultado es algo similar a lo siguiente:\n",
    "\n",
    "```\n",
    "total 460\n",
    "drwxr-xr-x. 2 apache apache     25 jul  4  2018 .\n",
    "drwxr-xr-x. 4 apache apache     33 jul  4  2018 ..\n",
    "-rw-rw-r--. 1 apache apache 467815 jun 28  2018 adminer.php\n",
    "```\n",
    "\n",
    "* La tercera columna indica el nombre del usuario que es dueño del archivo.\n",
    "* La cuarta columna indica el nombre del grupo que es dueño del archivo."
   ]
  },
  {
   "cell_type": "markdown",
   "metadata": {},
   "source": [
    "## El usuario *root*.\n",
    "\n",
    "El usuario *root* es el administrador o superusuario y tiene acceso a todos los recursos del sistema.\n",
    "\n",
    "El directorio de incio de *root* es */root/*.\n",
    "\n",
    "**Advertencia:**\n",
    "Nunca acceda a un sistema como *root* a menos que sea estrictamente necesario. Se recomienda crear un usuario distinto de *root* para actividades cotidianas."
   ]
  },
  {
   "cell_type": "markdown",
   "metadata": {},
   "source": [
    "## Escalamiento de privilegios del usuario.\n",
    "\n",
    "Es posible otorgar privilegios de superusuario a un usuario para ejecutar un comando en particular, siempre y cuando esté autorizado."
   ]
  },
  {
   "cell_type": "markdown",
   "metadata": {},
   "source": [
    "### El comando ```sudo```.\n",
    "\n",
    "Este comando permite a los usuarios acreditados ejecutar comandos con privilegios de root.\n",
    "\n",
    "```\n",
    "sudo <opciones> <comando>\n",
    "```\n",
    "* Si se ejecuta ```sudo``` sin opciones, el comando se ejecutará como si fuera *root*. "
   ]
  },
  {
   "cell_type": "markdown",
   "metadata": {},
   "source": [
    "**Ejemplo:**"
   ]
  },
  {
   "cell_type": "markdown",
   "metadata": {},
   "source": [
    "Si se está ejecutando esta notebook desde la máquina virtual publicada por Cloudevel<sup>®</sup>, el usuario ligado al servidor Jupyter (*oi*) está acreditado para usar *sudo* sin necesidad de ingresar una contraseña.\n",
    "\n",
    "* La siguiente celda intentará listar el contenido del directorio */root*.\n",
    "* Debido a que el usuario *oi* no tiene los permisos de acceso, se generará un error."
   ]
  },
  {
   "cell_type": "code",
   "execution_count": null,
   "metadata": {},
   "outputs": [],
   "source": [
    "ls /root"
   ]
  },
  {
   "cell_type": "markdown",
   "metadata": {},
   "source": [
    "* La siguiente celda ejecutar{a el comando previo como *root* mediante ```sudo```."
   ]
  },
  {
   "cell_type": "code",
   "execution_count": null,
   "metadata": {},
   "outputs": [],
   "source": [
    "sudo ls -al /root"
   ]
  },
  {
   "cell_type": "markdown",
   "metadata": {},
   "source": [
    "#### Algunas opciones.\n",
    "\n",
    "* *-u* o *--user=*\n",
    "* *-g* o *--group=*\n",
    "* *-H* o *--set-home*\n",
    "* *-n* o *--non-interactive*."
   ]
  },
  {
   "cell_type": "markdown",
   "metadata": {},
   "source": [
    "#### La man page de ```sudo```."
   ]
  },
  {
   "cell_type": "code",
   "execution_count": null,
   "metadata": {},
   "outputs": [],
   "source": [
    "man sudo"
   ]
  },
  {
   "cell_type": "markdown",
   "metadata": {},
   "source": [
    "### El archivo */etc/sudoers*."
   ]
  },
  {
   "cell_type": "markdown",
   "metadata": {},
   "source": [
    "El archivo */etc/sudoers* contiene la configuración de ```sudo```."
   ]
  },
  {
   "cell_type": "code",
   "execution_count": null,
   "metadata": {},
   "outputs": [],
   "source": [
    "sudo cat /etc/sudoers"
   ]
  },
  {
   "cell_type": "markdown",
   "metadata": {},
   "source": [
    "### El comando ```visudo```.\n",
    "\n",
    "El archivo */etc/sudoers* está protegido y no puede ser editado directamente. \n",
    "\n",
    "El comando ```visudo``` permite editar dicho archivo si se tiene los privilegios."
   ]
  },
  {
   "cell_type": "markdown",
   "metadata": {},
   "source": [
    "## Gestión de usuarios y grupos."
   ]
  },
  {
   "cell_type": "markdown",
   "metadata": {},
   "source": [
    "### El archivo */etc/passwd*.\n",
    "\n",
    "Es el archivo que tiene la relación de usuarios de sistema."
   ]
  },
  {
   "cell_type": "code",
   "execution_count": null,
   "metadata": {},
   "outputs": [],
   "source": [
    "cat /etc/passwd"
   ]
  },
  {
   "cell_type": "markdown",
   "metadata": {},
   "source": [
    "```\n",
    "<nombre de usuario>:<contraseña>:<id del usuario>:<id del grupo primario>:<nombre del usuario>:<home del usuario>:<shell>\n",
    "```"
   ]
  },
  {
   "cell_type": "markdown",
   "metadata": {},
   "source": [
    "### El archivo */etc/group*.\n",
    "\n",
    "Este archivo guarda un listado de grupos y de los usuarios que pertenecen a ellos."
   ]
  },
  {
   "cell_type": "code",
   "execution_count": null,
   "metadata": {},
   "outputs": [],
   "source": [
    "cat /etc/group"
   ]
  },
  {
   "cell_type": "markdown",
   "metadata": {},
   "source": [
    "```\n",
    "<nombre del grupo>:x:<id del grupo>:<lista de usuarios por su nombre>\n",
    "```"
   ]
  },
  {
   "cell_type": "markdown",
   "metadata": {},
   "source": [
    "### El archivo */etc/shadow*.\n",
    "\n",
    "Este archivo guarda las contraseñas cifradas."
   ]
  },
  {
   "cell_type": "code",
   "execution_count": null,
   "metadata": {},
   "outputs": [],
   "source": [
    "cat /etc/shadow"
   ]
  },
  {
   "cell_type": "code",
   "execution_count": null,
   "metadata": {},
   "outputs": [],
   "source": [
    "sudo cat /etc/shadow"
   ]
  },
  {
   "cell_type": "markdown",
   "metadata": {},
   "source": [
    "## Gestión de usuarios."
   ]
  },
  {
   "cell_type": "markdown",
   "metadata": {},
   "source": [
    "### Creación de usuarios con ```useradd```."
   ]
  },
  {
   "cell_type": "code",
   "execution_count": null,
   "metadata": {},
   "outputs": [],
   "source": [
    "sudo useradd python "
   ]
  },
  {
   "cell_type": "code",
   "execution_count": null,
   "metadata": {},
   "outputs": [],
   "source": [
    "sudo ls /home/python -a"
   ]
  },
  {
   "cell_type": "code",
   "execution_count": null,
   "metadata": {},
   "outputs": [],
   "source": [
    "cat /etc/passwd | grep python"
   ]
  },
  {
   "cell_type": "markdown",
   "metadata": {},
   "source": [
    "### Eliminación de usuarios con ```userdel```."
   ]
  },
  {
   "cell_type": "code",
   "execution_count": null,
   "metadata": {},
   "outputs": [],
   "source": [
    "sudo userdel python"
   ]
  },
  {
   "cell_type": "code",
   "execution_count": null,
   "metadata": {},
   "outputs": [],
   "source": [
    "cat /etc/passwd | grep python"
   ]
  },
  {
   "cell_type": "code",
   "execution_count": null,
   "metadata": {},
   "outputs": [],
   "source": [
    "sudo ls /home/python -al"
   ]
  },
  {
   "cell_type": "markdown",
   "metadata": {},
   "source": [
    "### Modificación con ```usermod```."
   ]
  },
  {
   "cell_type": "code",
   "execution_count": null,
   "metadata": {},
   "outputs": [],
   "source": [
    "sudo usermod pythonista -u 1003"
   ]
  },
  {
   "cell_type": "code",
   "execution_count": null,
   "metadata": {},
   "outputs": [],
   "source": [
    "sudo ls /home/python -al"
   ]
  },
  {
   "cell_type": "markdown",
   "metadata": {},
   "source": [
    "## Gestión de grupos."
   ]
  },
  {
   "cell_type": "markdown",
   "metadata": {},
   "source": [
    "### Creación de grupos con ```groupadd```."
   ]
  },
  {
   "cell_type": "markdown",
   "metadata": {},
   "source": [
    "### Eliminación de grupos con ```groupdel```."
   ]
  },
  {
   "cell_type": "markdown",
   "metadata": {},
   "source": [
    "### Modificación de grupos con```groupmod```."
   ]
  },
  {
   "cell_type": "markdown",
   "metadata": {},
   "source": [
    "### Consulta de grupos de un usuario con ```groups ```."
   ]
  },
  {
   "cell_type": "code",
   "execution_count": null,
   "metadata": {
    "scrolled": true
   },
   "outputs": [],
   "source": [
    "groups oi"
   ]
  },
  {
   "cell_type": "markdown",
   "metadata": {},
   "source": [
    "## Consulta de gid y uid de un usuario con ```id```."
   ]
  },
  {
   "cell_type": "code",
   "execution_count": 2,
   "metadata": {
    "scrolled": true
   },
   "outputs": [
    {
     "name": "stdout",
     "output_type": "stream",
     "text": [
      "uid=1000(oi) gid=1000(oi) grupos=1000(oi) contexto=system_u:system_r:unconfined_service_t:s0\n"
     ]
    }
   ],
   "source": [
    "id"
   ]
  },
  {
   "cell_type": "code",
   "execution_count": 3,
   "metadata": {},
   "outputs": [
    {
     "name": "stdout",
     "output_type": "stream",
     "text": [
      "uid=0(root) gid=0(root) grupos=0(root)\n"
     ]
    }
   ],
   "source": [
    "id root"
   ]
  },
  {
   "cell_type": "code",
   "execution_count": 5,
   "metadata": {},
   "outputs": [
    {
     "name": "stdout",
     "output_type": "stream",
     "text": [
      "uid=48(apache) gid=48(apache) grupos=48(apache)\n"
     ]
    }
   ],
   "source": [
    "id apache"
   ]
  },
  {
   "cell_type": "code",
   "execution_count": 6,
   "metadata": {},
   "outputs": [
    {
     "name": "stdout",
     "output_type": "stream",
     "text": [
      "uid=27(mysql) gid=27(mysql) grupos=27(mysql)\n"
     ]
    }
   ],
   "source": [
    "id mysql"
   ]
  },
  {
   "cell_type": "markdown",
   "metadata": {},
   "source": [
    "## Cambio de contraseña con ```passwd```.\n",
    "\n",
    "\n",
    "```\n",
    "passwd\n",
    "```\n",
    "\n",
    "```\n",
    "passwd <usuario>\n",
    "```"
   ]
  },
  {
   "cell_type": "markdown",
   "metadata": {},
   "source": [
    "## Cambio de usuarios con *su*.\n",
    "\n",
    "```\n",
    "su \n",
    "```\n",
    "\n",
    "\n",
    "```\n",
    "su <usuario> -\n",
    "```"
   ]
  },
  {
   "cell_type": "markdown",
   "metadata": {},
   "source": [
    "## El directorio ```/etc/skel```."
   ]
  },
  {
   "cell_type": "code",
   "execution_count": null,
   "metadata": {},
   "outputs": [],
   "source": [
    "sudo ls /etc/skel -al"
   ]
  },
  {
   "cell_type": "markdown",
   "metadata": {},
   "source": [
    "\n",
    "## Uitilerías.\n",
    "\n",
    "### ```whoami ```.\n",
    "### ```who```.\n",
    "### ```w```.\n",
    "### ```users```."
   ]
  },
  {
   "cell_type": "markdown",
   "metadata": {
    "collapsed": true
   },
   "source": [
    "<p style=\"text-align: center\"><a rel=\"license\" href=\"http://creativecommons.org/licenses/by/4.0/\"><img alt=\"Licencia Creative Commons\" style=\"border-width:0\" src=\"https://i.creativecommons.org/l/by/4.0/80x15.png\" /></a><br />Esta obra está bajo una <a rel=\"license\" href=\"http://creativecommons.org/licenses/by/4.0/\">Licencia Creative Commons Atribución 4.0 Internacional</a>.</p>\n",
    "<p style=\"text-align: center\">&copy; José Luis Chiquete Valdivieso. 2019.</p>"
   ]
  }
 ],
 "metadata": {
  "kernelspec": {
   "display_name": "Bash",
   "language": "bash",
   "name": "bash"
  },
  "language_info": {
   "codemirror_mode": "shell",
   "file_extension": ".sh",
   "mimetype": "text/x-sh",
   "name": "bash"
  }
 },
 "nbformat": 4,
 "nbformat_minor": 2
}
