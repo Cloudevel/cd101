{
 "cells": [
  {
   "cell_type": "markdown",
   "metadata": {},
   "source": [
    "[![cloudevel](Imagenes/cloudevel.png)](https://cloudevel.com)"
   ]
  },
  {
   "cell_type": "markdown",
   "metadata": {},
   "source": [
    "## Control de acceso mediante usuarios y grupos.\n",
    "\n",
    "Tanto los directorios y archivos como los procesos de los sistemas UNIX y GNU/Linux están ligados desde su creación a un usuario y a un grupo de usuarios. \n",
    "\n",
    "Del mismo modo, a cada uno de estos elementos se le asigna una serie de permisos para usuario propietario, para el grupo propietario y para el resto de los usuarios.\n",
    "\n",
    "Los usuarios no necesariamente deben de ser personas que accedan al sistema. También es necesqario crear usuarios especiales a los que se les asignen ciertas aplicaicones o servicios del sistema."
   ]
  },
  {
   "cell_type": "markdown",
   "metadata": {},
   "source": [
    "**Ejemplo:**\n",
    "\n",
    "La máquina virtual proporcionada por Cloudevel<sup>®</sup> tiene habilitado y en ejecución al servidor web Apache, el cual está ligado al usuario *apache* y al grupo *apache*. \n",
    "\n",
    "El directorio */var/www/* es el directorio que tuliza Apache para desplgsar contenido. \n",
    "\n",
    "* La siguiente celda desplegará el listado extendido de */var/www*."
   ]
  },
  {
   "cell_type": "code",
   "execution_count": null,
   "metadata": {
    "scrolled": true
   },
   "outputs": [],
   "source": [
    "ls /var/www/ -l"
   ]
  },
  {
   "cell_type": "markdown",
   "metadata": {},
   "source": [
    "El resultado es algo similar a lo siguiente:\n",
    "\n",
    "```\n",
    "total 0\n",
    "drwxr-xr-x. 2 apache apache  6 jun 27  2018 cgi-bin\n",
    "drwxr-xr-x. 2 apache apache 25 jul  4  2018 html\n",
    "```"
   ]
  },
  {
   "cell_type": "markdown",
   "metadata": {},
   "source": [
    "## Estructura de un listado extendido.\n",
    "\n",
    "* La primera columna contiene una serie de caracteres que describen:\n",
    "    * El tipo de elemento del que se trata.\n",
    "        * \"*-*\" para archivos comunes.\n",
    "        * \"*d*\" para directorios.\n",
    "        * \"*l*\" para enlaces.\n",
    "    * Los permisos para el usuario propietario del elemento.\n",
    "    * Los permisos para el grupo propietario del elemento.\n",
    "    * Los permisos para el resto de los usuarios.\n",
    "* La segunda columna indica el tamaño en bytes del elemento.\n",
    "* La tercera columna indica el nombre del usuario propietario del elemento.\n",
    "* La cuarta columna indica el nombre del grupo porpietario del elemento.\n",
    "* La quinta columna muestra la fecha del último acceso al elemento.\n",
    "* La sexta columma muestra el nombre del elemento."
   ]
  },
  {
   "cell_type": "markdown",
   "metadata": {},
   "source": [
    "La siguiente imagen presenta a detalle la columna de descripción de un directorio.\n",
    "\n",
    "<img src=\"Imagenes/08/detalle_listado.png\" width=\"70%\">\n",
    "\n",
    "Más adelante se exp;icará el significado de cada caracter."
   ]
  },
  {
   "cell_type": "markdown",
   "metadata": {},
   "source": [
    "## El usuario root."
   ]
  },
  {
   "cell_type": "markdown",
   "metadata": {},
   "source": [
    "## Escalamiento de privilegios del usuario."
   ]
  },
  {
   "cell_type": "markdown",
   "metadata": {},
   "source": [
    "### El comando ```sudo```."
   ]
  },
  {
   "cell_type": "markdown",
   "metadata": {},
   "source": [
    "### El archivo */etc/sudoers*."
   ]
  },
  {
   "cell_type": "markdown",
   "metadata": {},
   "source": [
    "### El comando ```visudo```."
   ]
  },
  {
   "cell_type": "markdown",
   "metadata": {},
   "source": [
    "## Gestión de usuarios y grupos."
   ]
  },
  {
   "cell_type": "markdown",
   "metadata": {},
   "source": [
    "### El archivo */etc/passwd*."
   ]
  },
  {
   "cell_type": "markdown",
   "metadata": {},
   "source": [
    "### El archivo */etc/group*."
   ]
  },
  {
   "cell_type": "markdown",
   "metadata": {},
   "source": [
    "### El archivo */etc/shadow*."
   ]
  },
  {
   "cell_type": "markdown",
   "metadata": {},
   "source": [
    "## Gestión de usuarios."
   ]
  },
  {
   "cell_type": "markdown",
   "metadata": {},
   "source": [
    "### Creación de usuarios con ```useradd```."
   ]
  },
  {
   "cell_type": "markdown",
   "metadata": {},
   "source": [
    "### Eliminación de usuarios con ```userdel```."
   ]
  },
  {
   "cell_type": "markdown",
   "metadata": {},
   "source": [
    "### Modificación con ```usermod```."
   ]
  },
  {
   "cell_type": "markdown",
   "metadata": {},
   "source": [
    "## Gestión de grupos."
   ]
  },
  {
   "cell_type": "markdown",
   "metadata": {},
   "source": [
    "### Creación de grupos con ```groupadd```."
   ]
  },
  {
   "cell_type": "markdown",
   "metadata": {},
   "source": [
    "### Eliminación de grupos con ```groupdel```."
   ]
  },
  {
   "cell_type": "markdown",
   "metadata": {},
   "source": [
    "### Modificación de grupos con```groupmod```."
   ]
  },
  {
   "cell_type": "markdown",
   "metadata": {},
   "source": [
    "### Consulta de grupos de un usuario con ```groups ```."
   ]
  },
  {
   "cell_type": "markdown",
   "metadata": {},
   "source": [
    "### Cambio de contraseña com  ```passwd```.\n",
    "\n",
    "## Cambio de usuarios con *su*.\n",
    "\n",
    "\n",
    "## Uitilerías.\n",
    "### _whoami_.\n",
    "### _who_.\n",
    "### _w_.\n",
    "### _users_.\n",
    "## Propietarios de recursos.\n",
    "\n",
    "###  ```chown```\n",
    "### ```chgrp```\n",
    "\n",
    "## Permisos.\n",
    "### ```chmod```"
   ]
  },
  {
   "cell_type": "markdown",
   "metadata": {
    "collapsed": true
   },
   "source": [
    "<p style=\"text-align: center\"><a rel=\"license\" href=\"http://creativecommons.org/licenses/by/4.0/\"><img alt=\"Licencia Creative Commons\" style=\"border-width:0\" src=\"https://i.creativecommons.org/l/by/4.0/80x15.png\" /></a><br />Esta obra está bajo una <a rel=\"license\" href=\"http://creativecommons.org/licenses/by/4.0/\">Licencia Creative Commons Atribución 4.0 Internacional</a>.</p>\n",
    "<p style=\"text-align: center\">&copy; José Luis Chiquete Valdivieso. 2019.</p>"
   ]
  }
 ],
 "metadata": {
  "kernelspec": {
   "display_name": "Bash",
   "language": "bash",
   "name": "bash"
  },
  "language_info": {
   "codemirror_mode": "shell",
   "file_extension": ".sh",
   "mimetype": "text/x-sh",
   "name": "bash"
  }
 },
 "nbformat": 4,
 "nbformat_minor": 2
}
