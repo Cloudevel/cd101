{
 "cells": [
  {
   "cell_type": "markdown",
   "metadata": {},
   "source": [
    "[![cloudevel](img/cloudevel.png)](https://cloudevel.com)"
   ]
  },
  {
   "cell_type": "markdown",
   "metadata": {},
   "source": [
    "## Sesiones en servidores.\n",
    "\n",
    "Desde un inicio UNIX fue diseñado para dar servicio a múltiples usuarios de forma concurrente y generalmente de manera remota.\n",
    "\n",
    "Para que un usuario accceda a un servidor UNIX o GNU/Linux de forma remota requiere de una conexión."
   ]
  },
  {
   "cell_type": "markdown",
   "metadata": {},
   "source": [
    "## Herramientas de conexión.\n",
    "\n",
    "Las conexiones iniciales se realizaban mendiante servicios y protocolos muy básicos e inseguros.\n",
    "\n",
    "Los servicios más comunes eran:\n",
    "\n",
    "* *telnet*, el cual es capaz de realiza conexiones por mediode puertos seriales y por medio de redes TCP/IP.\n",
    "\n",
    "* *ftp*. FTP son las siglas en inglés de Protocolo de Transmisón de archivos y fue dieñado expresamente para ese fin.\n",
    "\n",
    "    Esl problema con estos servicios y protocolos es que la transmisisón de datos es insegura."
   ]
  },
  {
   "cell_type": "markdown",
   "metadata": {},
   "source": [
    "## El servicio Secure Shell (*SSH*).\n",
    "\n",
    "Este es un servicio basado en la arquitecrtura cliente-servidor capaz de realizar conexiones con las siguientes características:\n",
    "\n",
    "* Utiliza sistemas de autenticación avanzada.\n",
    "* Las comunicaciónes son cifradas.\n",
    "* Permite el manejo de diversos tipos de estándares de cifrado y autenticación.\n",
    "* Es capaz de crear \"túneles\" para aceder a recursos de la red local del servidor."
   ]
  },
  {
   "cell_type": "markdown",
   "metadata": {},
   "source": [
    "### El servidor ```sshd```.\n",
    "\n",
    "Este servidor está configurado para escuchar al puerto 25 y  es el encargado de permitir el acceso de los clientes mediante diversas formas de autenticación."
   ]
  },
  {
   "cell_type": "code",
   "execution_count": null,
   "metadata": {
    "scrolled": true
   },
   "outputs": [],
   "source": [
    "sudo apt install openssh-server -y"
   ]
  },
  {
   "cell_type": "code",
   "execution_count": null,
   "metadata": {},
   "outputs": [],
   "source": [
    "sudo systemctl start sshd"
   ]
  },
  {
   "cell_type": "code",
   "execution_count": null,
   "metadata": {
    "scrolled": true
   },
   "outputs": [],
   "source": [
    "systemctl status sshd"
   ]
  },
  {
   "cell_type": "markdown",
   "metadata": {},
   "source": [
    "### Conexión de cliente ```ssh```.\n",
    "\n",
    "Actualmente SSH es la forma más común de realizar conexiones remotas a servidores en Internet.\n",
    "\n",
    "```\n",
    "ssh <usuario>@<URL del servidor>:<ruta> -p <puerto> <argumentos>\n",
    "```"
   ]
  },
  {
   "cell_type": "markdown",
   "metadata": {},
   "source": [
    "**Ejemplo:**"
   ]
  },
  {
   "cell_type": "markdown",
   "metadata": {},
   "source": [
    "```\n",
    "ssh josech@pythonista.mx:/home/josech \n",
    "```"
   ]
  },
  {
   "cell_type": "markdown",
   "metadata": {},
   "source": [
    "**Nota:** En Windows 10 ya se puede hablitar un cliente *SSH* nativo. Sin embargo, el cliente más común de SSH es [*Putty*](https://www.putty.org/)."
   ]
  },
  {
   "cell_type": "markdown",
   "metadata": {},
   "source": [
    "### Generación de una llave *SSH* pública .\n",
    "\n",
    "```\n",
    "ssh-keygen <argumentos>\n",
    "```\n",
    "\n",
    "* Si no se ingresan argumentos, se generarán los archivos ```id_rsa``` e ```id_rsa.pub```en el directorio ```.ssh``` del home del usuario."
   ]
  },
  {
   "cell_type": "code",
   "execution_count": null,
   "metadata": {},
   "outputs": [],
   "source": [
    "man ssh-keygen"
   ]
  },
  {
   "cell_type": "markdown",
   "metadata": {},
   "source": [
    "### Transferencia de una llave pública."
   ]
  },
  {
   "cell_type": "code",
   "execution_count": null,
   "metadata": {},
   "outputs": [],
   "source": [
    "man ssh-copy-id"
   ]
  },
  {
   "cell_type": "markdown",
   "metadata": {},
   "source": [
    "## Transferencias de archivos."
   ]
  },
  {
   "cell_type": "markdown",
   "metadata": {},
   "source": [
    "###  ```sftp```.\n",
    "*sftp*. Esta es una implementación de ftp utilizando ssh."
   ]
  },
  {
   "cell_type": "code",
   "execution_count": null,
   "metadata": {},
   "outputs": [],
   "source": [
    "man sftp"
   ]
  },
  {
   "cell_type": "markdown",
   "metadata": {},
   "source": [
    "### ```scp```.\n",
    "*scp*. Que es implementación de  ```cp``` por medio de ssh.\n",
    "\n",
    "```\n",
    "scp <archivos de origen> <ruta de destino>\n",
    "```\n",
    "\n",
    "La ruta en  el servidor remoto se compone de lo siguiente:\n",
    "\n",
    "```\n",
    "<usuario>@<servidor>:<ruta local> \n",
    "```"
   ]
  },
  {
   "cell_type": "code",
   "execution_count": null,
   "metadata": {},
   "outputs": [],
   "source": [
    "man scp"
   ]
  },
  {
   "cell_type": "markdown",
   "metadata": {},
   "source": [
    "**Ejemplo:**\n",
    "\n",
    "```\n",
    "scp ~/archivo.txt oi@10.0.2.15:~/archivo1.txt\n",
    "```"
   ]
  },
  {
   "cell_type": "markdown",
   "metadata": {},
   "source": [
    "###  ```rsync```."
   ]
  },
  {
   "cell_type": "markdown",
   "metadata": {},
   "source": [
    "Esta es una herramienta avanzada de sincronización de archivos que permite comparar los archivos existentes y actualizarlos con diveras opciones.\n",
    "\n",
    "Esta herramientsa funciona con conexiones remotas y en sistemas de archivos locales."
   ]
  },
  {
   "cell_type": "code",
   "execution_count": null,
   "metadata": {},
   "outputs": [],
   "source": [
    "man rsync"
   ]
  },
  {
   "cell_type": "markdown",
   "metadata": {},
   "source": [
    "### ```wget ```.\n",
    "\n",
    "Esta herramienta tuliza el método *GET* de *HTTP* para acceder a recursos publicados mediante su URL."
   ]
  },
  {
   "cell_type": "code",
   "execution_count": null,
   "metadata": {},
   "outputs": [],
   "source": [
    "wget https://cloudevel.com/@@site-logo/home-bg.jpg"
   ]
  },
  {
   "cell_type": "markdown",
   "metadata": {},
   "source": [
    "### ```curl```."
   ]
  },
  {
   "cell_type": "markdown",
   "metadata": {},
   "source": [
    "Curl es una implementación de la biblioteca [lirbcurl](https://curl.haxx.se/libcurl/), la cual permite acceder a recursos publ;icados en Internet por medio de múltiples protocolos."
   ]
  },
  {
   "cell_type": "code",
   "execution_count": null,
   "metadata": {},
   "outputs": [],
   "source": [
    "man curl "
   ]
  },
  {
   "cell_type": "markdown",
   "metadata": {},
   "source": [
    "### ```git```\n",
    "\n",
    "[Git](https://git-scm.com/) es un gestor de versiones capaz de sincroniza repositorios locales y remotos."
   ]
  },
  {
   "cell_type": "markdown",
   "metadata": {},
   "source": [
    "<p style=\"text-align: center\"><a rel=\"license\" href=\"http://creativecommons.org/licenses/by/4.0/\"><img alt=\"Licencia Creative Commons\" style=\"border-width:0\" src=\"https://i.creativecommons.org/l/by/4.0/80x15.png\" /></a><br />Esta obra está bajo una <a rel=\"license\" href=\"http://creativecommons.org/licenses/by/4.0/\">Licencia Creative Commons Atribución 4.0 Internacional</a>.</p>\n",
    "<p style=\"text-align: center\">&copy; José Luis Chiquete Valdivieso. 2019.</p>"
   ]
  }
 ],
 "metadata": {
  "kernelspec": {
   "display_name": "Bash",
   "language": "bash",
   "name": "bash"
  },
  "language_info": {
   "codemirror_mode": "shell",
   "file_extension": ".sh",
   "mimetype": "text/x-sh",
   "name": "bash"
  }
 },
 "nbformat": 4,
 "nbformat_minor": 2
}
